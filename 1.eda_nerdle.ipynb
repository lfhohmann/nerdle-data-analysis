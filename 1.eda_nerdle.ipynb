{
 "cells": [
  {
   "cell_type": "markdown",
   "metadata": {},
   "source": [
    "# **EDA and Pre Processing to simplify further Analysis and Simulations**\n",
    "\n",
    "### Steps:\n",
    "\n",
    "+ Split each equation into separate columns\n",
    "+ Count the amount of unique elements per equation\n",
    "+ Count how many times does an element appear in each equation\n",
    "+ Count the minimum and maximum times an element can appear in all equations\n",
    "+ Count how many times does each element appear in each position across all equations\n",
    "+ Correlate elements\n",
    "+ Correlate elements across positions\n",
    "\n",
    "\n",
    "# TODO:\n",
    "+ Commutative equations analysis"
   ]
  },
  {
   "cell_type": "code",
   "execution_count": 1,
   "metadata": {},
   "outputs": [],
   "source": [
    "import plotly.graph_objects as go\n",
    "import plotly.subplots as sp\n",
    "from tqdm import tqdm\n",
    "import pandas as pd\n",
    "import numpy as np\n",
    "\n",
    "\n",
    "pd.set_option('display.max_columns', 100)\n",
    "pd.set_option('display.max_rows', 10)"
   ]
  },
  {
   "cell_type": "markdown",
   "metadata": {},
   "source": [
    "## Defining constants"
   ]
  },
  {
   "cell_type": "code",
   "execution_count": 2,
   "metadata": {},
   "outputs": [],
   "source": [
    "NUMBER_OF_ELEMENTS = 8\n",
    "ELEMENTS = list(\"1234568790+-*/=\")"
   ]
  },
  {
   "cell_type": "markdown",
   "metadata": {},
   "source": [
    "# Loading the data\n",
    "\n",
    "*(And setting the index)*"
   ]
  },
  {
   "cell_type": "code",
   "execution_count": 3,
   "metadata": {},
   "outputs": [
    {
     "data": {
      "text/html": [
       "<div>\n",
       "<style scoped>\n",
       "    .dataframe tbody tr th:only-of-type {\n",
       "        vertical-align: middle;\n",
       "    }\n",
       "\n",
       "    .dataframe tbody tr th {\n",
       "        vertical-align: top;\n",
       "    }\n",
       "\n",
       "    .dataframe thead th {\n",
       "        text-align: right;\n",
       "    }\n",
       "</style>\n",
       "<table border=\"1\" class=\"dataframe\">\n",
       "  <thead>\n",
       "    <tr style=\"text-align: right;\">\n",
       "      <th></th>\n",
       "      <th>equation</th>\n",
       "    </tr>\n",
       "    <tr>\n",
       "      <th>equation</th>\n",
       "      <th></th>\n",
       "    </tr>\n",
       "  </thead>\n",
       "  <tbody>\n",
       "    <tr>\n",
       "      <th>12*9=108</th>\n",
       "      <td>12*9=108</td>\n",
       "    </tr>\n",
       "    <tr>\n",
       "      <th>13*8=104</th>\n",
       "      <td>13*8=104</td>\n",
       "    </tr>\n",
       "    <tr>\n",
       "      <th>13*9=117</th>\n",
       "      <td>13*9=117</td>\n",
       "    </tr>\n",
       "    <tr>\n",
       "      <th>14*8=112</th>\n",
       "      <td>14*8=112</td>\n",
       "    </tr>\n",
       "    <tr>\n",
       "      <th>14*9=126</th>\n",
       "      <td>14*9=126</td>\n",
       "    </tr>\n",
       "    <tr>\n",
       "      <th>...</th>\n",
       "      <td>...</td>\n",
       "    </tr>\n",
       "    <tr>\n",
       "      <th>9/45*5=1</th>\n",
       "      <td>9/45*5=1</td>\n",
       "    </tr>\n",
       "    <tr>\n",
       "      <th>9/54*6=1</th>\n",
       "      <td>9/54*6=1</td>\n",
       "    </tr>\n",
       "    <tr>\n",
       "      <th>9/63*7=1</th>\n",
       "      <td>9/63*7=1</td>\n",
       "    </tr>\n",
       "    <tr>\n",
       "      <th>9/72*8=1</th>\n",
       "      <td>9/72*8=1</td>\n",
       "    </tr>\n",
       "    <tr>\n",
       "      <th>9/81*9=1</th>\n",
       "      <td>9/81*9=1</td>\n",
       "    </tr>\n",
       "  </tbody>\n",
       "</table>\n",
       "<p>17723 rows × 1 columns</p>\n",
       "</div>"
      ],
      "text/plain": [
       "          equation\n",
       "equation          \n",
       "12*9=108  12*9=108\n",
       "13*8=104  13*8=104\n",
       "13*9=117  13*9=117\n",
       "14*8=112  14*8=112\n",
       "14*9=126  14*9=126\n",
       "...            ...\n",
       "9/45*5=1  9/45*5=1\n",
       "9/54*6=1  9/54*6=1\n",
       "9/63*7=1  9/63*7=1\n",
       "9/72*8=1  9/72*8=1\n",
       "9/81*9=1  9/81*9=1\n",
       "\n",
       "[17723 rows x 1 columns]"
      ]
     },
     "execution_count": 3,
     "metadata": {},
     "output_type": "execute_result"
    }
   ],
   "source": [
    "df_raw = pd.read_csv(\"./data/0.raw/equations_nerdle.csv\")\n",
    "df_raw.index = df_raw[\"equation\"]\n",
    "\n",
    "df_raw"
   ]
  },
  {
   "cell_type": "markdown",
   "metadata": {},
   "source": [
    "### Spliting the equations"
   ]
  },
  {
   "cell_type": "code",
   "execution_count": 4,
   "metadata": {},
   "outputs": [
    {
     "data": {
      "text/html": [
       "<div>\n",
       "<style scoped>\n",
       "    .dataframe tbody tr th:only-of-type {\n",
       "        vertical-align: middle;\n",
       "    }\n",
       "\n",
       "    .dataframe tbody tr th {\n",
       "        vertical-align: top;\n",
       "    }\n",
       "\n",
       "    .dataframe thead th {\n",
       "        text-align: right;\n",
       "    }\n",
       "</style>\n",
       "<table border=\"1\" class=\"dataframe\">\n",
       "  <thead>\n",
       "    <tr style=\"text-align: right;\">\n",
       "      <th></th>\n",
       "      <th>p0</th>\n",
       "      <th>p1</th>\n",
       "      <th>p2</th>\n",
       "      <th>p3</th>\n",
       "      <th>p4</th>\n",
       "      <th>p5</th>\n",
       "      <th>p6</th>\n",
       "      <th>p7</th>\n",
       "    </tr>\n",
       "    <tr>\n",
       "      <th>equation</th>\n",
       "      <th></th>\n",
       "      <th></th>\n",
       "      <th></th>\n",
       "      <th></th>\n",
       "      <th></th>\n",
       "      <th></th>\n",
       "      <th></th>\n",
       "      <th></th>\n",
       "    </tr>\n",
       "  </thead>\n",
       "  <tbody>\n",
       "    <tr>\n",
       "      <th>12*9=108</th>\n",
       "      <td>1</td>\n",
       "      <td>2</td>\n",
       "      <td>*</td>\n",
       "      <td>9</td>\n",
       "      <td>=</td>\n",
       "      <td>1</td>\n",
       "      <td>0</td>\n",
       "      <td>8</td>\n",
       "    </tr>\n",
       "    <tr>\n",
       "      <th>13*8=104</th>\n",
       "      <td>1</td>\n",
       "      <td>3</td>\n",
       "      <td>*</td>\n",
       "      <td>8</td>\n",
       "      <td>=</td>\n",
       "      <td>1</td>\n",
       "      <td>0</td>\n",
       "      <td>4</td>\n",
       "    </tr>\n",
       "    <tr>\n",
       "      <th>13*9=117</th>\n",
       "      <td>1</td>\n",
       "      <td>3</td>\n",
       "      <td>*</td>\n",
       "      <td>9</td>\n",
       "      <td>=</td>\n",
       "      <td>1</td>\n",
       "      <td>1</td>\n",
       "      <td>7</td>\n",
       "    </tr>\n",
       "    <tr>\n",
       "      <th>14*8=112</th>\n",
       "      <td>1</td>\n",
       "      <td>4</td>\n",
       "      <td>*</td>\n",
       "      <td>8</td>\n",
       "      <td>=</td>\n",
       "      <td>1</td>\n",
       "      <td>1</td>\n",
       "      <td>2</td>\n",
       "    </tr>\n",
       "    <tr>\n",
       "      <th>14*9=126</th>\n",
       "      <td>1</td>\n",
       "      <td>4</td>\n",
       "      <td>*</td>\n",
       "      <td>9</td>\n",
       "      <td>=</td>\n",
       "      <td>1</td>\n",
       "      <td>2</td>\n",
       "      <td>6</td>\n",
       "    </tr>\n",
       "    <tr>\n",
       "      <th>...</th>\n",
       "      <td>...</td>\n",
       "      <td>...</td>\n",
       "      <td>...</td>\n",
       "      <td>...</td>\n",
       "      <td>...</td>\n",
       "      <td>...</td>\n",
       "      <td>...</td>\n",
       "      <td>...</td>\n",
       "    </tr>\n",
       "    <tr>\n",
       "      <th>9/45*5=1</th>\n",
       "      <td>9</td>\n",
       "      <td>/</td>\n",
       "      <td>4</td>\n",
       "      <td>5</td>\n",
       "      <td>*</td>\n",
       "      <td>5</td>\n",
       "      <td>=</td>\n",
       "      <td>1</td>\n",
       "    </tr>\n",
       "    <tr>\n",
       "      <th>9/54*6=1</th>\n",
       "      <td>9</td>\n",
       "      <td>/</td>\n",
       "      <td>5</td>\n",
       "      <td>4</td>\n",
       "      <td>*</td>\n",
       "      <td>6</td>\n",
       "      <td>=</td>\n",
       "      <td>1</td>\n",
       "    </tr>\n",
       "    <tr>\n",
       "      <th>9/63*7=1</th>\n",
       "      <td>9</td>\n",
       "      <td>/</td>\n",
       "      <td>6</td>\n",
       "      <td>3</td>\n",
       "      <td>*</td>\n",
       "      <td>7</td>\n",
       "      <td>=</td>\n",
       "      <td>1</td>\n",
       "    </tr>\n",
       "    <tr>\n",
       "      <th>9/72*8=1</th>\n",
       "      <td>9</td>\n",
       "      <td>/</td>\n",
       "      <td>7</td>\n",
       "      <td>2</td>\n",
       "      <td>*</td>\n",
       "      <td>8</td>\n",
       "      <td>=</td>\n",
       "      <td>1</td>\n",
       "    </tr>\n",
       "    <tr>\n",
       "      <th>9/81*9=1</th>\n",
       "      <td>9</td>\n",
       "      <td>/</td>\n",
       "      <td>8</td>\n",
       "      <td>1</td>\n",
       "      <td>*</td>\n",
       "      <td>9</td>\n",
       "      <td>=</td>\n",
       "      <td>1</td>\n",
       "    </tr>\n",
       "  </tbody>\n",
       "</table>\n",
       "<p>17723 rows × 8 columns</p>\n",
       "</div>"
      ],
      "text/plain": [
       "         p0 p1 p2 p3 p4 p5 p6 p7\n",
       "equation                        \n",
       "12*9=108  1  2  *  9  =  1  0  8\n",
       "13*8=104  1  3  *  8  =  1  0  4\n",
       "13*9=117  1  3  *  9  =  1  1  7\n",
       "14*8=112  1  4  *  8  =  1  1  2\n",
       "14*9=126  1  4  *  9  =  1  2  6\n",
       "...      .. .. .. .. .. .. .. ..\n",
       "9/45*5=1  9  /  4  5  *  5  =  1\n",
       "9/54*6=1  9  /  5  4  *  6  =  1\n",
       "9/63*7=1  9  /  6  3  *  7  =  1\n",
       "9/72*8=1  9  /  7  2  *  8  =  1\n",
       "9/81*9=1  9  /  8  1  *  9  =  1\n",
       "\n",
       "[17723 rows x 8 columns]"
      ]
     },
     "execution_count": 4,
     "metadata": {},
     "output_type": "execute_result"
    }
   ],
   "source": [
    "df_positions = pd.DataFrame()\n",
    "\n",
    "# Extract each position\n",
    "for i in range(NUMBER_OF_ELEMENTS):\n",
    "    df_positions[f\"p{i}\"] = df_raw[\"equation\"].str[i].astype(\"category\")\n",
    "\n",
    "\n",
    "df_positions"
   ]
  },
  {
   "cell_type": "markdown",
   "metadata": {},
   "source": [
    "### Counting the number of unique elements per equation"
   ]
  },
  {
   "cell_type": "code",
   "execution_count": 5,
   "metadata": {},
   "outputs": [
    {
     "data": {
      "text/html": [
       "<div>\n",
       "<style scoped>\n",
       "    .dataframe tbody tr th:only-of-type {\n",
       "        vertical-align: middle;\n",
       "    }\n",
       "\n",
       "    .dataframe tbody tr th {\n",
       "        vertical-align: top;\n",
       "    }\n",
       "\n",
       "    .dataframe thead th {\n",
       "        text-align: right;\n",
       "    }\n",
       "</style>\n",
       "<table border=\"1\" class=\"dataframe\">\n",
       "  <thead>\n",
       "    <tr style=\"text-align: right;\">\n",
       "      <th></th>\n",
       "      <th>count</th>\n",
       "    </tr>\n",
       "    <tr>\n",
       "      <th>equation</th>\n",
       "      <th></th>\n",
       "    </tr>\n",
       "  </thead>\n",
       "  <tbody>\n",
       "    <tr>\n",
       "      <th>12*9=108</th>\n",
       "      <td>7</td>\n",
       "    </tr>\n",
       "    <tr>\n",
       "      <th>13*8=104</th>\n",
       "      <td>7</td>\n",
       "    </tr>\n",
       "    <tr>\n",
       "      <th>13*9=117</th>\n",
       "      <td>6</td>\n",
       "    </tr>\n",
       "    <tr>\n",
       "      <th>14*8=112</th>\n",
       "      <td>6</td>\n",
       "    </tr>\n",
       "    <tr>\n",
       "      <th>14*9=126</th>\n",
       "      <td>7</td>\n",
       "    </tr>\n",
       "    <tr>\n",
       "      <th>...</th>\n",
       "      <td>...</td>\n",
       "    </tr>\n",
       "    <tr>\n",
       "      <th>9/45*5=1</th>\n",
       "      <td>7</td>\n",
       "    </tr>\n",
       "    <tr>\n",
       "      <th>9/54*6=1</th>\n",
       "      <td>8</td>\n",
       "    </tr>\n",
       "    <tr>\n",
       "      <th>9/63*7=1</th>\n",
       "      <td>8</td>\n",
       "    </tr>\n",
       "    <tr>\n",
       "      <th>9/72*8=1</th>\n",
       "      <td>8</td>\n",
       "    </tr>\n",
       "    <tr>\n",
       "      <th>9/81*9=1</th>\n",
       "      <td>6</td>\n",
       "    </tr>\n",
       "  </tbody>\n",
       "</table>\n",
       "<p>17723 rows × 1 columns</p>\n",
       "</div>"
      ],
      "text/plain": [
       "          count\n",
       "equation       \n",
       "12*9=108      7\n",
       "13*8=104      7\n",
       "13*9=117      6\n",
       "14*8=112      6\n",
       "14*9=126      7\n",
       "...         ...\n",
       "9/45*5=1      7\n",
       "9/54*6=1      8\n",
       "9/63*7=1      8\n",
       "9/72*8=1      8\n",
       "9/81*9=1      6\n",
       "\n",
       "[17723 rows x 1 columns]"
      ]
     },
     "execution_count": 5,
     "metadata": {},
     "output_type": "execute_result"
    }
   ],
   "source": [
    "df_unique = pd.DataFrame()\n",
    "\n",
    "# Compute the number of unique elements\n",
    "df_unique[\"count\"] = df_raw[\"equation\"].apply(lambda x: len(set(x))).astype(\"uint8\")\n",
    "\n",
    "\n",
    "df_unique"
   ]
  },
  {
   "cell_type": "markdown",
   "metadata": {},
   "source": [
    "Checking the distribution of equations by number of unique elements"
   ]
  },
  {
   "cell_type": "code",
   "execution_count": 6,
   "metadata": {},
   "outputs": [
    {
     "data": {
      "application/vnd.plotly.v1+json": {
       "config": {
        "plotlyServerURL": "https://plot.ly"
       },
       "data": [
        {
         "labels": [
          7,
          6,
          8,
          5,
          4
         ],
         "type": "pie",
         "values": [
          8757,
          4711,
          3331,
          890,
          34
         ]
        }
       ],
       "layout": {
        "height": 600,
        "template": {
         "data": {
          "bar": [
           {
            "error_x": {
             "color": "#2a3f5f"
            },
            "error_y": {
             "color": "#2a3f5f"
            },
            "marker": {
             "line": {
              "color": "#E5ECF6",
              "width": 0.5
             },
             "pattern": {
              "fillmode": "overlay",
              "size": 10,
              "solidity": 0.2
             }
            },
            "type": "bar"
           }
          ],
          "barpolar": [
           {
            "marker": {
             "line": {
              "color": "#E5ECF6",
              "width": 0.5
             },
             "pattern": {
              "fillmode": "overlay",
              "size": 10,
              "solidity": 0.2
             }
            },
            "type": "barpolar"
           }
          ],
          "carpet": [
           {
            "aaxis": {
             "endlinecolor": "#2a3f5f",
             "gridcolor": "white",
             "linecolor": "white",
             "minorgridcolor": "white",
             "startlinecolor": "#2a3f5f"
            },
            "baxis": {
             "endlinecolor": "#2a3f5f",
             "gridcolor": "white",
             "linecolor": "white",
             "minorgridcolor": "white",
             "startlinecolor": "#2a3f5f"
            },
            "type": "carpet"
           }
          ],
          "choropleth": [
           {
            "colorbar": {
             "outlinewidth": 0,
             "ticks": ""
            },
            "type": "choropleth"
           }
          ],
          "contour": [
           {
            "colorbar": {
             "outlinewidth": 0,
             "ticks": ""
            },
            "colorscale": [
             [
              0,
              "#0d0887"
             ],
             [
              0.1111111111111111,
              "#46039f"
             ],
             [
              0.2222222222222222,
              "#7201a8"
             ],
             [
              0.3333333333333333,
              "#9c179e"
             ],
             [
              0.4444444444444444,
              "#bd3786"
             ],
             [
              0.5555555555555556,
              "#d8576b"
             ],
             [
              0.6666666666666666,
              "#ed7953"
             ],
             [
              0.7777777777777778,
              "#fb9f3a"
             ],
             [
              0.8888888888888888,
              "#fdca26"
             ],
             [
              1,
              "#f0f921"
             ]
            ],
            "type": "contour"
           }
          ],
          "contourcarpet": [
           {
            "colorbar": {
             "outlinewidth": 0,
             "ticks": ""
            },
            "type": "contourcarpet"
           }
          ],
          "heatmap": [
           {
            "colorbar": {
             "outlinewidth": 0,
             "ticks": ""
            },
            "colorscale": [
             [
              0,
              "#0d0887"
             ],
             [
              0.1111111111111111,
              "#46039f"
             ],
             [
              0.2222222222222222,
              "#7201a8"
             ],
             [
              0.3333333333333333,
              "#9c179e"
             ],
             [
              0.4444444444444444,
              "#bd3786"
             ],
             [
              0.5555555555555556,
              "#d8576b"
             ],
             [
              0.6666666666666666,
              "#ed7953"
             ],
             [
              0.7777777777777778,
              "#fb9f3a"
             ],
             [
              0.8888888888888888,
              "#fdca26"
             ],
             [
              1,
              "#f0f921"
             ]
            ],
            "type": "heatmap"
           }
          ],
          "heatmapgl": [
           {
            "colorbar": {
             "outlinewidth": 0,
             "ticks": ""
            },
            "colorscale": [
             [
              0,
              "#0d0887"
             ],
             [
              0.1111111111111111,
              "#46039f"
             ],
             [
              0.2222222222222222,
              "#7201a8"
             ],
             [
              0.3333333333333333,
              "#9c179e"
             ],
             [
              0.4444444444444444,
              "#bd3786"
             ],
             [
              0.5555555555555556,
              "#d8576b"
             ],
             [
              0.6666666666666666,
              "#ed7953"
             ],
             [
              0.7777777777777778,
              "#fb9f3a"
             ],
             [
              0.8888888888888888,
              "#fdca26"
             ],
             [
              1,
              "#f0f921"
             ]
            ],
            "type": "heatmapgl"
           }
          ],
          "histogram": [
           {
            "marker": {
             "pattern": {
              "fillmode": "overlay",
              "size": 10,
              "solidity": 0.2
             }
            },
            "type": "histogram"
           }
          ],
          "histogram2d": [
           {
            "colorbar": {
             "outlinewidth": 0,
             "ticks": ""
            },
            "colorscale": [
             [
              0,
              "#0d0887"
             ],
             [
              0.1111111111111111,
              "#46039f"
             ],
             [
              0.2222222222222222,
              "#7201a8"
             ],
             [
              0.3333333333333333,
              "#9c179e"
             ],
             [
              0.4444444444444444,
              "#bd3786"
             ],
             [
              0.5555555555555556,
              "#d8576b"
             ],
             [
              0.6666666666666666,
              "#ed7953"
             ],
             [
              0.7777777777777778,
              "#fb9f3a"
             ],
             [
              0.8888888888888888,
              "#fdca26"
             ],
             [
              1,
              "#f0f921"
             ]
            ],
            "type": "histogram2d"
           }
          ],
          "histogram2dcontour": [
           {
            "colorbar": {
             "outlinewidth": 0,
             "ticks": ""
            },
            "colorscale": [
             [
              0,
              "#0d0887"
             ],
             [
              0.1111111111111111,
              "#46039f"
             ],
             [
              0.2222222222222222,
              "#7201a8"
             ],
             [
              0.3333333333333333,
              "#9c179e"
             ],
             [
              0.4444444444444444,
              "#bd3786"
             ],
             [
              0.5555555555555556,
              "#d8576b"
             ],
             [
              0.6666666666666666,
              "#ed7953"
             ],
             [
              0.7777777777777778,
              "#fb9f3a"
             ],
             [
              0.8888888888888888,
              "#fdca26"
             ],
             [
              1,
              "#f0f921"
             ]
            ],
            "type": "histogram2dcontour"
           }
          ],
          "mesh3d": [
           {
            "colorbar": {
             "outlinewidth": 0,
             "ticks": ""
            },
            "type": "mesh3d"
           }
          ],
          "parcoords": [
           {
            "line": {
             "colorbar": {
              "outlinewidth": 0,
              "ticks": ""
             }
            },
            "type": "parcoords"
           }
          ],
          "pie": [
           {
            "automargin": true,
            "type": "pie"
           }
          ],
          "scatter": [
           {
            "fillpattern": {
             "fillmode": "overlay",
             "size": 10,
             "solidity": 0.2
            },
            "type": "scatter"
           }
          ],
          "scatter3d": [
           {
            "line": {
             "colorbar": {
              "outlinewidth": 0,
              "ticks": ""
             }
            },
            "marker": {
             "colorbar": {
              "outlinewidth": 0,
              "ticks": ""
             }
            },
            "type": "scatter3d"
           }
          ],
          "scattercarpet": [
           {
            "marker": {
             "colorbar": {
              "outlinewidth": 0,
              "ticks": ""
             }
            },
            "type": "scattercarpet"
           }
          ],
          "scattergeo": [
           {
            "marker": {
             "colorbar": {
              "outlinewidth": 0,
              "ticks": ""
             }
            },
            "type": "scattergeo"
           }
          ],
          "scattergl": [
           {
            "marker": {
             "colorbar": {
              "outlinewidth": 0,
              "ticks": ""
             }
            },
            "type": "scattergl"
           }
          ],
          "scattermapbox": [
           {
            "marker": {
             "colorbar": {
              "outlinewidth": 0,
              "ticks": ""
             }
            },
            "type": "scattermapbox"
           }
          ],
          "scatterpolar": [
           {
            "marker": {
             "colorbar": {
              "outlinewidth": 0,
              "ticks": ""
             }
            },
            "type": "scatterpolar"
           }
          ],
          "scatterpolargl": [
           {
            "marker": {
             "colorbar": {
              "outlinewidth": 0,
              "ticks": ""
             }
            },
            "type": "scatterpolargl"
           }
          ],
          "scatterternary": [
           {
            "marker": {
             "colorbar": {
              "outlinewidth": 0,
              "ticks": ""
             }
            },
            "type": "scatterternary"
           }
          ],
          "surface": [
           {
            "colorbar": {
             "outlinewidth": 0,
             "ticks": ""
            },
            "colorscale": [
             [
              0,
              "#0d0887"
             ],
             [
              0.1111111111111111,
              "#46039f"
             ],
             [
              0.2222222222222222,
              "#7201a8"
             ],
             [
              0.3333333333333333,
              "#9c179e"
             ],
             [
              0.4444444444444444,
              "#bd3786"
             ],
             [
              0.5555555555555556,
              "#d8576b"
             ],
             [
              0.6666666666666666,
              "#ed7953"
             ],
             [
              0.7777777777777778,
              "#fb9f3a"
             ],
             [
              0.8888888888888888,
              "#fdca26"
             ],
             [
              1,
              "#f0f921"
             ]
            ],
            "type": "surface"
           }
          ],
          "table": [
           {
            "cells": {
             "fill": {
              "color": "#EBF0F8"
             },
             "line": {
              "color": "white"
             }
            },
            "header": {
             "fill": {
              "color": "#C8D4E3"
             },
             "line": {
              "color": "white"
             }
            },
            "type": "table"
           }
          ]
         },
         "layout": {
          "annotationdefaults": {
           "arrowcolor": "#2a3f5f",
           "arrowhead": 0,
           "arrowwidth": 1
          },
          "autotypenumbers": "strict",
          "coloraxis": {
           "colorbar": {
            "outlinewidth": 0,
            "ticks": ""
           }
          },
          "colorscale": {
           "diverging": [
            [
             0,
             "#8e0152"
            ],
            [
             0.1,
             "#c51b7d"
            ],
            [
             0.2,
             "#de77ae"
            ],
            [
             0.3,
             "#f1b6da"
            ],
            [
             0.4,
             "#fde0ef"
            ],
            [
             0.5,
             "#f7f7f7"
            ],
            [
             0.6,
             "#e6f5d0"
            ],
            [
             0.7,
             "#b8e186"
            ],
            [
             0.8,
             "#7fbc41"
            ],
            [
             0.9,
             "#4d9221"
            ],
            [
             1,
             "#276419"
            ]
           ],
           "sequential": [
            [
             0,
             "#0d0887"
            ],
            [
             0.1111111111111111,
             "#46039f"
            ],
            [
             0.2222222222222222,
             "#7201a8"
            ],
            [
             0.3333333333333333,
             "#9c179e"
            ],
            [
             0.4444444444444444,
             "#bd3786"
            ],
            [
             0.5555555555555556,
             "#d8576b"
            ],
            [
             0.6666666666666666,
             "#ed7953"
            ],
            [
             0.7777777777777778,
             "#fb9f3a"
            ],
            [
             0.8888888888888888,
             "#fdca26"
            ],
            [
             1,
             "#f0f921"
            ]
           ],
           "sequentialminus": [
            [
             0,
             "#0d0887"
            ],
            [
             0.1111111111111111,
             "#46039f"
            ],
            [
             0.2222222222222222,
             "#7201a8"
            ],
            [
             0.3333333333333333,
             "#9c179e"
            ],
            [
             0.4444444444444444,
             "#bd3786"
            ],
            [
             0.5555555555555556,
             "#d8576b"
            ],
            [
             0.6666666666666666,
             "#ed7953"
            ],
            [
             0.7777777777777778,
             "#fb9f3a"
            ],
            [
             0.8888888888888888,
             "#fdca26"
            ],
            [
             1,
             "#f0f921"
            ]
           ]
          },
          "colorway": [
           "#636efa",
           "#EF553B",
           "#00cc96",
           "#ab63fa",
           "#FFA15A",
           "#19d3f3",
           "#FF6692",
           "#B6E880",
           "#FF97FF",
           "#FECB52"
          ],
          "font": {
           "color": "#2a3f5f"
          },
          "geo": {
           "bgcolor": "white",
           "lakecolor": "white",
           "landcolor": "#E5ECF6",
           "showlakes": true,
           "showland": true,
           "subunitcolor": "white"
          },
          "hoverlabel": {
           "align": "left"
          },
          "hovermode": "closest",
          "mapbox": {
           "style": "light"
          },
          "paper_bgcolor": "white",
          "plot_bgcolor": "#E5ECF6",
          "polar": {
           "angularaxis": {
            "gridcolor": "white",
            "linecolor": "white",
            "ticks": ""
           },
           "bgcolor": "#E5ECF6",
           "radialaxis": {
            "gridcolor": "white",
            "linecolor": "white",
            "ticks": ""
           }
          },
          "scene": {
           "xaxis": {
            "backgroundcolor": "#E5ECF6",
            "gridcolor": "white",
            "gridwidth": 2,
            "linecolor": "white",
            "showbackground": true,
            "ticks": "",
            "zerolinecolor": "white"
           },
           "yaxis": {
            "backgroundcolor": "#E5ECF6",
            "gridcolor": "white",
            "gridwidth": 2,
            "linecolor": "white",
            "showbackground": true,
            "ticks": "",
            "zerolinecolor": "white"
           },
           "zaxis": {
            "backgroundcolor": "#E5ECF6",
            "gridcolor": "white",
            "gridwidth": 2,
            "linecolor": "white",
            "showbackground": true,
            "ticks": "",
            "zerolinecolor": "white"
           }
          },
          "shapedefaults": {
           "line": {
            "color": "#2a3f5f"
           }
          },
          "ternary": {
           "aaxis": {
            "gridcolor": "white",
            "linecolor": "white",
            "ticks": ""
           },
           "baxis": {
            "gridcolor": "white",
            "linecolor": "white",
            "ticks": ""
           },
           "bgcolor": "#E5ECF6",
           "caxis": {
            "gridcolor": "white",
            "linecolor": "white",
            "ticks": ""
           }
          },
          "title": {
           "x": 0.05
          },
          "xaxis": {
           "automargin": true,
           "gridcolor": "white",
           "linecolor": "white",
           "ticks": "",
           "title": {
            "standoff": 15
           },
           "zerolinecolor": "white",
           "zerolinewidth": 2
          },
          "yaxis": {
           "automargin": true,
           "gridcolor": "white",
           "linecolor": "white",
           "ticks": "",
           "title": {
            "standoff": 15
           },
           "zerolinecolor": "white",
           "zerolinewidth": 2
          }
         }
        },
        "title": {
         "text": "Unique elements distribution"
        },
        "width": 600
       }
      }
     },
     "metadata": {},
     "output_type": "display_data"
    }
   ],
   "source": [
    "# Counting unique elements distribution\n",
    "df_temp = df_unique[\"count\"].value_counts()\n",
    "\n",
    "# Creating figure\n",
    "fig = go.Figure()\n",
    "\n",
    "# Adding trace\n",
    "fig.add_trace(\n",
    "    go.Pie(\n",
    "        labels=df_temp.index,\n",
    "        values=df_temp,\n",
    "    )\n",
    ")\n",
    "\n",
    "# Updating the layout\n",
    "fig.update_layout(\n",
    "    title=\"Unique elements distribution\",\n",
    "    height=600,\n",
    "    width=600,\n",
    ")\n",
    "\n",
    "# Showing the figure\n",
    "fig.show()"
   ]
  },
  {
   "cell_type": "markdown",
   "metadata": {},
   "source": [
    "Checking the mean element *\"uniqueness\"*"
   ]
  },
  {
   "cell_type": "code",
   "execution_count": 7,
   "metadata": {},
   "outputs": [
    {
     "data": {
      "text/plain": [
       "6.815945381707386"
      ]
     },
     "execution_count": 7,
     "metadata": {},
     "output_type": "execute_result"
    }
   ],
   "source": [
    "df_unique[\"count\"].mean()"
   ]
  },
  {
   "cell_type": "markdown",
   "metadata": {},
   "source": [
    "### Counting the amount of each element in each equation"
   ]
  },
  {
   "cell_type": "code",
   "execution_count": 8,
   "metadata": {},
   "outputs": [
    {
     "data": {
      "text/html": [
       "<div>\n",
       "<style scoped>\n",
       "    .dataframe tbody tr th:only-of-type {\n",
       "        vertical-align: middle;\n",
       "    }\n",
       "\n",
       "    .dataframe tbody tr th {\n",
       "        vertical-align: top;\n",
       "    }\n",
       "\n",
       "    .dataframe thead th {\n",
       "        text-align: right;\n",
       "    }\n",
       "</style>\n",
       "<table border=\"1\" class=\"dataframe\">\n",
       "  <thead>\n",
       "    <tr style=\"text-align: right;\">\n",
       "      <th></th>\n",
       "      <th>1</th>\n",
       "      <th>2</th>\n",
       "      <th>3</th>\n",
       "      <th>4</th>\n",
       "      <th>5</th>\n",
       "      <th>6</th>\n",
       "      <th>8</th>\n",
       "      <th>7</th>\n",
       "      <th>9</th>\n",
       "      <th>0</th>\n",
       "      <th>+</th>\n",
       "      <th>-</th>\n",
       "      <th>*</th>\n",
       "      <th>/</th>\n",
       "      <th>=</th>\n",
       "    </tr>\n",
       "    <tr>\n",
       "      <th>equation</th>\n",
       "      <th></th>\n",
       "      <th></th>\n",
       "      <th></th>\n",
       "      <th></th>\n",
       "      <th></th>\n",
       "      <th></th>\n",
       "      <th></th>\n",
       "      <th></th>\n",
       "      <th></th>\n",
       "      <th></th>\n",
       "      <th></th>\n",
       "      <th></th>\n",
       "      <th></th>\n",
       "      <th></th>\n",
       "      <th></th>\n",
       "    </tr>\n",
       "  </thead>\n",
       "  <tbody>\n",
       "    <tr>\n",
       "      <th>12*9=108</th>\n",
       "      <td>2</td>\n",
       "      <td>1</td>\n",
       "      <td>0</td>\n",
       "      <td>0</td>\n",
       "      <td>0</td>\n",
       "      <td>0</td>\n",
       "      <td>1</td>\n",
       "      <td>0</td>\n",
       "      <td>1</td>\n",
       "      <td>1</td>\n",
       "      <td>0</td>\n",
       "      <td>0</td>\n",
       "      <td>1</td>\n",
       "      <td>0</td>\n",
       "      <td>1</td>\n",
       "    </tr>\n",
       "    <tr>\n",
       "      <th>13*8=104</th>\n",
       "      <td>2</td>\n",
       "      <td>0</td>\n",
       "      <td>1</td>\n",
       "      <td>1</td>\n",
       "      <td>0</td>\n",
       "      <td>0</td>\n",
       "      <td>1</td>\n",
       "      <td>0</td>\n",
       "      <td>0</td>\n",
       "      <td>1</td>\n",
       "      <td>0</td>\n",
       "      <td>0</td>\n",
       "      <td>1</td>\n",
       "      <td>0</td>\n",
       "      <td>1</td>\n",
       "    </tr>\n",
       "    <tr>\n",
       "      <th>13*9=117</th>\n",
       "      <td>3</td>\n",
       "      <td>0</td>\n",
       "      <td>1</td>\n",
       "      <td>0</td>\n",
       "      <td>0</td>\n",
       "      <td>0</td>\n",
       "      <td>0</td>\n",
       "      <td>1</td>\n",
       "      <td>1</td>\n",
       "      <td>0</td>\n",
       "      <td>0</td>\n",
       "      <td>0</td>\n",
       "      <td>1</td>\n",
       "      <td>0</td>\n",
       "      <td>1</td>\n",
       "    </tr>\n",
       "    <tr>\n",
       "      <th>14*8=112</th>\n",
       "      <td>3</td>\n",
       "      <td>1</td>\n",
       "      <td>0</td>\n",
       "      <td>1</td>\n",
       "      <td>0</td>\n",
       "      <td>0</td>\n",
       "      <td>1</td>\n",
       "      <td>0</td>\n",
       "      <td>0</td>\n",
       "      <td>0</td>\n",
       "      <td>0</td>\n",
       "      <td>0</td>\n",
       "      <td>1</td>\n",
       "      <td>0</td>\n",
       "      <td>1</td>\n",
       "    </tr>\n",
       "    <tr>\n",
       "      <th>14*9=126</th>\n",
       "      <td>2</td>\n",
       "      <td>1</td>\n",
       "      <td>0</td>\n",
       "      <td>1</td>\n",
       "      <td>0</td>\n",
       "      <td>1</td>\n",
       "      <td>0</td>\n",
       "      <td>0</td>\n",
       "      <td>1</td>\n",
       "      <td>0</td>\n",
       "      <td>0</td>\n",
       "      <td>0</td>\n",
       "      <td>1</td>\n",
       "      <td>0</td>\n",
       "      <td>1</td>\n",
       "    </tr>\n",
       "    <tr>\n",
       "      <th>...</th>\n",
       "      <td>...</td>\n",
       "      <td>...</td>\n",
       "      <td>...</td>\n",
       "      <td>...</td>\n",
       "      <td>...</td>\n",
       "      <td>...</td>\n",
       "      <td>...</td>\n",
       "      <td>...</td>\n",
       "      <td>...</td>\n",
       "      <td>...</td>\n",
       "      <td>...</td>\n",
       "      <td>...</td>\n",
       "      <td>...</td>\n",
       "      <td>...</td>\n",
       "      <td>...</td>\n",
       "    </tr>\n",
       "    <tr>\n",
       "      <th>9/45*5=1</th>\n",
       "      <td>1</td>\n",
       "      <td>0</td>\n",
       "      <td>0</td>\n",
       "      <td>1</td>\n",
       "      <td>2</td>\n",
       "      <td>0</td>\n",
       "      <td>0</td>\n",
       "      <td>0</td>\n",
       "      <td>1</td>\n",
       "      <td>0</td>\n",
       "      <td>0</td>\n",
       "      <td>0</td>\n",
       "      <td>1</td>\n",
       "      <td>1</td>\n",
       "      <td>1</td>\n",
       "    </tr>\n",
       "    <tr>\n",
       "      <th>9/54*6=1</th>\n",
       "      <td>1</td>\n",
       "      <td>0</td>\n",
       "      <td>0</td>\n",
       "      <td>1</td>\n",
       "      <td>1</td>\n",
       "      <td>1</td>\n",
       "      <td>0</td>\n",
       "      <td>0</td>\n",
       "      <td>1</td>\n",
       "      <td>0</td>\n",
       "      <td>0</td>\n",
       "      <td>0</td>\n",
       "      <td>1</td>\n",
       "      <td>1</td>\n",
       "      <td>1</td>\n",
       "    </tr>\n",
       "    <tr>\n",
       "      <th>9/63*7=1</th>\n",
       "      <td>1</td>\n",
       "      <td>0</td>\n",
       "      <td>1</td>\n",
       "      <td>0</td>\n",
       "      <td>0</td>\n",
       "      <td>1</td>\n",
       "      <td>0</td>\n",
       "      <td>1</td>\n",
       "      <td>1</td>\n",
       "      <td>0</td>\n",
       "      <td>0</td>\n",
       "      <td>0</td>\n",
       "      <td>1</td>\n",
       "      <td>1</td>\n",
       "      <td>1</td>\n",
       "    </tr>\n",
       "    <tr>\n",
       "      <th>9/72*8=1</th>\n",
       "      <td>1</td>\n",
       "      <td>1</td>\n",
       "      <td>0</td>\n",
       "      <td>0</td>\n",
       "      <td>0</td>\n",
       "      <td>0</td>\n",
       "      <td>1</td>\n",
       "      <td>1</td>\n",
       "      <td>1</td>\n",
       "      <td>0</td>\n",
       "      <td>0</td>\n",
       "      <td>0</td>\n",
       "      <td>1</td>\n",
       "      <td>1</td>\n",
       "      <td>1</td>\n",
       "    </tr>\n",
       "    <tr>\n",
       "      <th>9/81*9=1</th>\n",
       "      <td>2</td>\n",
       "      <td>0</td>\n",
       "      <td>0</td>\n",
       "      <td>0</td>\n",
       "      <td>0</td>\n",
       "      <td>0</td>\n",
       "      <td>1</td>\n",
       "      <td>0</td>\n",
       "      <td>2</td>\n",
       "      <td>0</td>\n",
       "      <td>0</td>\n",
       "      <td>0</td>\n",
       "      <td>1</td>\n",
       "      <td>1</td>\n",
       "      <td>1</td>\n",
       "    </tr>\n",
       "  </tbody>\n",
       "</table>\n",
       "<p>17723 rows × 15 columns</p>\n",
       "</div>"
      ],
      "text/plain": [
       "          1  2  3  4  5  6  8  7  9  0  +  -  *  /  =\n",
       "equation                                             \n",
       "12*9=108  2  1  0  0  0  0  1  0  1  1  0  0  1  0  1\n",
       "13*8=104  2  0  1  1  0  0  1  0  0  1  0  0  1  0  1\n",
       "13*9=117  3  0  1  0  0  0  0  1  1  0  0  0  1  0  1\n",
       "14*8=112  3  1  0  1  0  0  1  0  0  0  0  0  1  0  1\n",
       "14*9=126  2  1  0  1  0  1  0  0  1  0  0  0  1  0  1\n",
       "...      .. .. .. .. .. .. .. .. .. .. .. .. .. .. ..\n",
       "9/45*5=1  1  0  0  1  2  0  0  0  1  0  0  0  1  1  1\n",
       "9/54*6=1  1  0  0  1  1  1  0  0  1  0  0  0  1  1  1\n",
       "9/63*7=1  1  0  1  0  0  1  0  1  1  0  0  0  1  1  1\n",
       "9/72*8=1  1  1  0  0  0  0  1  1  1  0  0  0  1  1  1\n",
       "9/81*9=1  2  0  0  0  0  0  1  0  2  0  0  0  1  1  1\n",
       "\n",
       "[17723 rows x 15 columns]"
      ]
     },
     "execution_count": 8,
     "metadata": {},
     "output_type": "execute_result"
    }
   ],
   "source": [
    "df_elements = pd.DataFrame()\n",
    "\n",
    "# Compute the element count in each equation\n",
    "for element in ELEMENTS:\n",
    "    df_elements[element] = df_raw[\"equation\"].apply(lambda x: x.count(element)).astype(\"uint8\")\n",
    "\n",
    "\n",
    "df_elements"
   ]
  },
  {
   "cell_type": "markdown",
   "metadata": {},
   "source": [
    "## Joining all DataFrames"
   ]
  },
  {
   "cell_type": "code",
   "execution_count": 9,
   "metadata": {},
   "outputs": [
    {
     "data": {
      "text/html": [
       "<div>\n",
       "<style scoped>\n",
       "    .dataframe tbody tr th:only-of-type {\n",
       "        vertical-align: middle;\n",
       "    }\n",
       "\n",
       "    .dataframe tbody tr th {\n",
       "        vertical-align: top;\n",
       "    }\n",
       "\n",
       "    .dataframe thead tr th {\n",
       "        text-align: left;\n",
       "    }\n",
       "\n",
       "    .dataframe thead tr:last-of-type th {\n",
       "        text-align: right;\n",
       "    }\n",
       "</style>\n",
       "<table border=\"1\" class=\"dataframe\">\n",
       "  <thead>\n",
       "    <tr>\n",
       "      <th></th>\n",
       "      <th colspan=\"8\" halign=\"left\">positions</th>\n",
       "      <th>unique</th>\n",
       "      <th colspan=\"15\" halign=\"left\">elements</th>\n",
       "    </tr>\n",
       "    <tr>\n",
       "      <th></th>\n",
       "      <th>p0</th>\n",
       "      <th>p1</th>\n",
       "      <th>p2</th>\n",
       "      <th>p3</th>\n",
       "      <th>p4</th>\n",
       "      <th>p5</th>\n",
       "      <th>p6</th>\n",
       "      <th>p7</th>\n",
       "      <th>count</th>\n",
       "      <th>1</th>\n",
       "      <th>2</th>\n",
       "      <th>3</th>\n",
       "      <th>4</th>\n",
       "      <th>5</th>\n",
       "      <th>6</th>\n",
       "      <th>8</th>\n",
       "      <th>7</th>\n",
       "      <th>9</th>\n",
       "      <th>0</th>\n",
       "      <th>+</th>\n",
       "      <th>-</th>\n",
       "      <th>*</th>\n",
       "      <th>/</th>\n",
       "      <th>=</th>\n",
       "    </tr>\n",
       "    <tr>\n",
       "      <th>equation</th>\n",
       "      <th></th>\n",
       "      <th></th>\n",
       "      <th></th>\n",
       "      <th></th>\n",
       "      <th></th>\n",
       "      <th></th>\n",
       "      <th></th>\n",
       "      <th></th>\n",
       "      <th></th>\n",
       "      <th></th>\n",
       "      <th></th>\n",
       "      <th></th>\n",
       "      <th></th>\n",
       "      <th></th>\n",
       "      <th></th>\n",
       "      <th></th>\n",
       "      <th></th>\n",
       "      <th></th>\n",
       "      <th></th>\n",
       "      <th></th>\n",
       "      <th></th>\n",
       "      <th></th>\n",
       "      <th></th>\n",
       "      <th></th>\n",
       "    </tr>\n",
       "  </thead>\n",
       "  <tbody>\n",
       "    <tr>\n",
       "      <th>12*9=108</th>\n",
       "      <td>1</td>\n",
       "      <td>2</td>\n",
       "      <td>*</td>\n",
       "      <td>9</td>\n",
       "      <td>=</td>\n",
       "      <td>1</td>\n",
       "      <td>0</td>\n",
       "      <td>8</td>\n",
       "      <td>7</td>\n",
       "      <td>2</td>\n",
       "      <td>1</td>\n",
       "      <td>0</td>\n",
       "      <td>0</td>\n",
       "      <td>0</td>\n",
       "      <td>0</td>\n",
       "      <td>1</td>\n",
       "      <td>0</td>\n",
       "      <td>1</td>\n",
       "      <td>1</td>\n",
       "      <td>0</td>\n",
       "      <td>0</td>\n",
       "      <td>1</td>\n",
       "      <td>0</td>\n",
       "      <td>1</td>\n",
       "    </tr>\n",
       "    <tr>\n",
       "      <th>13*8=104</th>\n",
       "      <td>1</td>\n",
       "      <td>3</td>\n",
       "      <td>*</td>\n",
       "      <td>8</td>\n",
       "      <td>=</td>\n",
       "      <td>1</td>\n",
       "      <td>0</td>\n",
       "      <td>4</td>\n",
       "      <td>7</td>\n",
       "      <td>2</td>\n",
       "      <td>0</td>\n",
       "      <td>1</td>\n",
       "      <td>1</td>\n",
       "      <td>0</td>\n",
       "      <td>0</td>\n",
       "      <td>1</td>\n",
       "      <td>0</td>\n",
       "      <td>0</td>\n",
       "      <td>1</td>\n",
       "      <td>0</td>\n",
       "      <td>0</td>\n",
       "      <td>1</td>\n",
       "      <td>0</td>\n",
       "      <td>1</td>\n",
       "    </tr>\n",
       "    <tr>\n",
       "      <th>13*9=117</th>\n",
       "      <td>1</td>\n",
       "      <td>3</td>\n",
       "      <td>*</td>\n",
       "      <td>9</td>\n",
       "      <td>=</td>\n",
       "      <td>1</td>\n",
       "      <td>1</td>\n",
       "      <td>7</td>\n",
       "      <td>6</td>\n",
       "      <td>3</td>\n",
       "      <td>0</td>\n",
       "      <td>1</td>\n",
       "      <td>0</td>\n",
       "      <td>0</td>\n",
       "      <td>0</td>\n",
       "      <td>0</td>\n",
       "      <td>1</td>\n",
       "      <td>1</td>\n",
       "      <td>0</td>\n",
       "      <td>0</td>\n",
       "      <td>0</td>\n",
       "      <td>1</td>\n",
       "      <td>0</td>\n",
       "      <td>1</td>\n",
       "    </tr>\n",
       "    <tr>\n",
       "      <th>14*8=112</th>\n",
       "      <td>1</td>\n",
       "      <td>4</td>\n",
       "      <td>*</td>\n",
       "      <td>8</td>\n",
       "      <td>=</td>\n",
       "      <td>1</td>\n",
       "      <td>1</td>\n",
       "      <td>2</td>\n",
       "      <td>6</td>\n",
       "      <td>3</td>\n",
       "      <td>1</td>\n",
       "      <td>0</td>\n",
       "      <td>1</td>\n",
       "      <td>0</td>\n",
       "      <td>0</td>\n",
       "      <td>1</td>\n",
       "      <td>0</td>\n",
       "      <td>0</td>\n",
       "      <td>0</td>\n",
       "      <td>0</td>\n",
       "      <td>0</td>\n",
       "      <td>1</td>\n",
       "      <td>0</td>\n",
       "      <td>1</td>\n",
       "    </tr>\n",
       "    <tr>\n",
       "      <th>14*9=126</th>\n",
       "      <td>1</td>\n",
       "      <td>4</td>\n",
       "      <td>*</td>\n",
       "      <td>9</td>\n",
       "      <td>=</td>\n",
       "      <td>1</td>\n",
       "      <td>2</td>\n",
       "      <td>6</td>\n",
       "      <td>7</td>\n",
       "      <td>2</td>\n",
       "      <td>1</td>\n",
       "      <td>0</td>\n",
       "      <td>1</td>\n",
       "      <td>0</td>\n",
       "      <td>1</td>\n",
       "      <td>0</td>\n",
       "      <td>0</td>\n",
       "      <td>1</td>\n",
       "      <td>0</td>\n",
       "      <td>0</td>\n",
       "      <td>0</td>\n",
       "      <td>1</td>\n",
       "      <td>0</td>\n",
       "      <td>1</td>\n",
       "    </tr>\n",
       "  </tbody>\n",
       "</table>\n",
       "</div>"
      ],
      "text/plain": [
       "         positions                      unique elements                       \\\n",
       "                p0 p1 p2 p3 p4 p5 p6 p7  count        1  2  3  4  5  6  8  7   \n",
       "equation                                                                       \n",
       "12*9=108         1  2  *  9  =  1  0  8      7        2  1  0  0  0  0  1  0   \n",
       "13*8=104         1  3  *  8  =  1  0  4      7        2  0  1  1  0  0  1  0   \n",
       "13*9=117         1  3  *  9  =  1  1  7      6        3  0  1  0  0  0  0  1   \n",
       "14*8=112         1  4  *  8  =  1  1  2      6        3  1  0  1  0  0  1  0   \n",
       "14*9=126         1  4  *  9  =  1  2  6      7        2  1  0  1  0  1  0  0   \n",
       "\n",
       "                               \n",
       "          9  0  +  -  *  /  =  \n",
       "equation                       \n",
       "12*9=108  1  1  0  0  1  0  1  \n",
       "13*8=104  0  1  0  0  1  0  1  \n",
       "13*9=117  1  0  0  0  1  0  1  \n",
       "14*8=112  0  0  0  0  1  0  1  \n",
       "14*9=126  1  0  0  0  1  0  1  "
      ]
     },
     "execution_count": 9,
     "metadata": {},
     "output_type": "execute_result"
    }
   ],
   "source": [
    "# Concatenating the DataFrames into a multi-indexed single one\n",
    "df = pd.concat([df_positions, df_unique, df_elements], axis=1, keys=['positions', 'unique', 'elements'])\n",
    "\n",
    "df.head()"
   ]
  },
  {
   "cell_type": "markdown",
   "metadata": {},
   "source": [
    "# Counting element occurances"
   ]
  },
  {
   "cell_type": "code",
   "execution_count": 10,
   "metadata": {},
   "outputs": [
    {
     "data": {
      "text/html": [
       "<div>\n",
       "<style scoped>\n",
       "    .dataframe tbody tr th:only-of-type {\n",
       "        vertical-align: middle;\n",
       "    }\n",
       "\n",
       "    .dataframe tbody tr th {\n",
       "        vertical-align: top;\n",
       "    }\n",
       "\n",
       "    .dataframe thead th {\n",
       "        text-align: right;\n",
       "    }\n",
       "</style>\n",
       "<table border=\"1\" class=\"dataframe\">\n",
       "  <thead>\n",
       "    <tr style=\"text-align: right;\">\n",
       "      <th></th>\n",
       "      <th>1</th>\n",
       "      <th>0</th>\n",
       "      <th>2</th>\n",
       "      <th>3</th>\n",
       "      <th>4</th>\n",
       "    </tr>\n",
       "  </thead>\n",
       "  <tbody>\n",
       "    <tr>\n",
       "      <th>1</th>\n",
       "      <td>7526</td>\n",
       "      <td>6955</td>\n",
       "      <td>2830</td>\n",
       "      <td>400</td>\n",
       "      <td>12</td>\n",
       "    </tr>\n",
       "    <tr>\n",
       "      <th>2</th>\n",
       "      <td>7069</td>\n",
       "      <td>8449</td>\n",
       "      <td>1922</td>\n",
       "      <td>275</td>\n",
       "      <td>8</td>\n",
       "    </tr>\n",
       "    <tr>\n",
       "      <th>3</th>\n",
       "      <td>6478</td>\n",
       "      <td>9498</td>\n",
       "      <td>1534</td>\n",
       "      <td>201</td>\n",
       "      <td>12</td>\n",
       "    </tr>\n",
       "    <tr>\n",
       "      <th>4</th>\n",
       "      <td>6522</td>\n",
       "      <td>9355</td>\n",
       "      <td>1593</td>\n",
       "      <td>239</td>\n",
       "      <td>14</td>\n",
       "    </tr>\n",
       "    <tr>\n",
       "      <th>5</th>\n",
       "      <td>5961</td>\n",
       "      <td>10045</td>\n",
       "      <td>1451</td>\n",
       "      <td>253</td>\n",
       "      <td>13</td>\n",
       "    </tr>\n",
       "    <tr>\n",
       "      <th>...</th>\n",
       "      <td>...</td>\n",
       "      <td>...</td>\n",
       "      <td>...</td>\n",
       "      <td>...</td>\n",
       "      <td>...</td>\n",
       "    </tr>\n",
       "    <tr>\n",
       "      <th>+</th>\n",
       "      <td>6194</td>\n",
       "      <td>10884</td>\n",
       "      <td>645</td>\n",
       "      <td>0</td>\n",
       "      <td>0</td>\n",
       "    </tr>\n",
       "    <tr>\n",
       "      <th>-</th>\n",
       "      <td>7120</td>\n",
       "      <td>9913</td>\n",
       "      <td>690</td>\n",
       "      <td>0</td>\n",
       "      <td>0</td>\n",
       "    </tr>\n",
       "    <tr>\n",
       "      <th>*</th>\n",
       "      <td>5200</td>\n",
       "      <td>12149</td>\n",
       "      <td>374</td>\n",
       "      <td>0</td>\n",
       "      <td>0</td>\n",
       "    </tr>\n",
       "    <tr>\n",
       "      <th>/</th>\n",
       "      <td>3650</td>\n",
       "      <td>13699</td>\n",
       "      <td>374</td>\n",
       "      <td>0</td>\n",
       "      <td>0</td>\n",
       "    </tr>\n",
       "    <tr>\n",
       "      <th>=</th>\n",
       "      <td>17723</td>\n",
       "      <td>0</td>\n",
       "      <td>0</td>\n",
       "      <td>0</td>\n",
       "      <td>0</td>\n",
       "    </tr>\n",
       "  </tbody>\n",
       "</table>\n",
       "<p>15 rows × 5 columns</p>\n",
       "</div>"
      ],
      "text/plain": [
       "        1      0     2    3   4\n",
       "1    7526   6955  2830  400  12\n",
       "2    7069   8449  1922  275   8\n",
       "3    6478   9498  1534  201  12\n",
       "4    6522   9355  1593  239  14\n",
       "5    5961  10045  1451  253  13\n",
       "..    ...    ...   ...  ...  ..\n",
       "+    6194  10884   645    0   0\n",
       "-    7120   9913   690    0   0\n",
       "*    5200  12149   374    0   0\n",
       "/    3650  13699   374    0   0\n",
       "=   17723      0     0    0   0\n",
       "\n",
       "[15 rows x 5 columns]"
      ]
     },
     "execution_count": 10,
     "metadata": {},
     "output_type": "execute_result"
    }
   ],
   "source": [
    "df_elements_occurances = pd.DataFrame()\n",
    "\n",
    "# Counting the values of each element\n",
    "for element in ELEMENTS:\n",
    "    df_elements_occurances = pd.concat([df_elements_occurances, df[\"elements\"][element].value_counts()], axis=1)\n",
    "\n",
    "# Transposing the DataFrame\n",
    "df_elements_occurances = df_elements_occurances.transpose()\n",
    "\n",
    "# Fillin the missing values and converting \"dtypes\"\n",
    "df_elements_occurances = df_elements_occurances.fillna(0)\n",
    "df_elements_occurances = df_elements_occurances.astype(\"uint16\")\n",
    "\n",
    "\n",
    "df_elements_occurances"
   ]
  },
  {
   "cell_type": "code",
   "execution_count": 11,
   "metadata": {},
   "outputs": [
    {
     "data": {
      "application/vnd.plotly.v1+json": {
       "config": {
        "plotlyServerURL": "https://plot.ly"
       },
       "data": [
        {
         "name": "0",
         "type": "bar",
         "x": [
          "1",
          "2",
          "3",
          "4",
          "5",
          "6",
          "8",
          "7",
          "9",
          "0",
          "+",
          "-",
          "*",
          "/",
          "="
         ],
         "y": [
          6955,
          8449,
          9498,
          9355,
          10045,
          9731,
          10135,
          10449,
          10525,
          13259,
          10884,
          9913,
          12149,
          13699,
          0
         ]
        },
        {
         "name": "1",
         "type": "bar",
         "x": [
          "1",
          "2",
          "3",
          "4",
          "5",
          "6",
          "8",
          "7",
          "9",
          "0",
          "+",
          "-",
          "*",
          "/",
          "="
         ],
         "y": [
          7526,
          7069,
          6478,
          6522,
          5961,
          6489,
          6173,
          5954,
          5873,
          4049,
          6194,
          7120,
          5200,
          3650,
          17723
         ]
        },
        {
         "name": "2",
         "type": "bar",
         "x": [
          "1",
          "2",
          "3",
          "4",
          "5",
          "6",
          "8",
          "7",
          "9",
          "0",
          "+",
          "-",
          "*",
          "/",
          "="
         ],
         "y": [
          2830,
          1922,
          1534,
          1593,
          1451,
          1326,
          1266,
          1214,
          1207,
          311,
          645,
          690,
          374,
          374,
          0
         ]
        },
        {
         "name": "3",
         "type": "bar",
         "x": [
          "1",
          "2",
          "3",
          "4",
          "5",
          "6",
          "8",
          "7",
          "9",
          "0",
          "+",
          "-",
          "*",
          "/",
          "="
         ],
         "y": [
          400,
          275,
          201,
          239,
          253,
          167,
          143,
          104,
          109,
          104,
          0,
          0,
          0,
          0,
          0
         ]
        },
        {
         "name": "4",
         "type": "bar",
         "x": [
          "1",
          "2",
          "3",
          "4",
          "5",
          "6",
          "8",
          "7",
          "9",
          "0",
          "+",
          "-",
          "*",
          "/",
          "="
         ],
         "y": [
          12,
          8,
          12,
          14,
          13,
          10,
          6,
          2,
          9,
          0,
          0,
          0,
          0,
          0,
          0
         ]
        }
       ],
       "layout": {
        "barmode": "stack",
        "height": 500,
        "template": {
         "data": {
          "bar": [
           {
            "error_x": {
             "color": "#2a3f5f"
            },
            "error_y": {
             "color": "#2a3f5f"
            },
            "marker": {
             "line": {
              "color": "#E5ECF6",
              "width": 0.5
             },
             "pattern": {
              "fillmode": "overlay",
              "size": 10,
              "solidity": 0.2
             }
            },
            "type": "bar"
           }
          ],
          "barpolar": [
           {
            "marker": {
             "line": {
              "color": "#E5ECF6",
              "width": 0.5
             },
             "pattern": {
              "fillmode": "overlay",
              "size": 10,
              "solidity": 0.2
             }
            },
            "type": "barpolar"
           }
          ],
          "carpet": [
           {
            "aaxis": {
             "endlinecolor": "#2a3f5f",
             "gridcolor": "white",
             "linecolor": "white",
             "minorgridcolor": "white",
             "startlinecolor": "#2a3f5f"
            },
            "baxis": {
             "endlinecolor": "#2a3f5f",
             "gridcolor": "white",
             "linecolor": "white",
             "minorgridcolor": "white",
             "startlinecolor": "#2a3f5f"
            },
            "type": "carpet"
           }
          ],
          "choropleth": [
           {
            "colorbar": {
             "outlinewidth": 0,
             "ticks": ""
            },
            "type": "choropleth"
           }
          ],
          "contour": [
           {
            "colorbar": {
             "outlinewidth": 0,
             "ticks": ""
            },
            "colorscale": [
             [
              0,
              "#0d0887"
             ],
             [
              0.1111111111111111,
              "#46039f"
             ],
             [
              0.2222222222222222,
              "#7201a8"
             ],
             [
              0.3333333333333333,
              "#9c179e"
             ],
             [
              0.4444444444444444,
              "#bd3786"
             ],
             [
              0.5555555555555556,
              "#d8576b"
             ],
             [
              0.6666666666666666,
              "#ed7953"
             ],
             [
              0.7777777777777778,
              "#fb9f3a"
             ],
             [
              0.8888888888888888,
              "#fdca26"
             ],
             [
              1,
              "#f0f921"
             ]
            ],
            "type": "contour"
           }
          ],
          "contourcarpet": [
           {
            "colorbar": {
             "outlinewidth": 0,
             "ticks": ""
            },
            "type": "contourcarpet"
           }
          ],
          "heatmap": [
           {
            "colorbar": {
             "outlinewidth": 0,
             "ticks": ""
            },
            "colorscale": [
             [
              0,
              "#0d0887"
             ],
             [
              0.1111111111111111,
              "#46039f"
             ],
             [
              0.2222222222222222,
              "#7201a8"
             ],
             [
              0.3333333333333333,
              "#9c179e"
             ],
             [
              0.4444444444444444,
              "#bd3786"
             ],
             [
              0.5555555555555556,
              "#d8576b"
             ],
             [
              0.6666666666666666,
              "#ed7953"
             ],
             [
              0.7777777777777778,
              "#fb9f3a"
             ],
             [
              0.8888888888888888,
              "#fdca26"
             ],
             [
              1,
              "#f0f921"
             ]
            ],
            "type": "heatmap"
           }
          ],
          "heatmapgl": [
           {
            "colorbar": {
             "outlinewidth": 0,
             "ticks": ""
            },
            "colorscale": [
             [
              0,
              "#0d0887"
             ],
             [
              0.1111111111111111,
              "#46039f"
             ],
             [
              0.2222222222222222,
              "#7201a8"
             ],
             [
              0.3333333333333333,
              "#9c179e"
             ],
             [
              0.4444444444444444,
              "#bd3786"
             ],
             [
              0.5555555555555556,
              "#d8576b"
             ],
             [
              0.6666666666666666,
              "#ed7953"
             ],
             [
              0.7777777777777778,
              "#fb9f3a"
             ],
             [
              0.8888888888888888,
              "#fdca26"
             ],
             [
              1,
              "#f0f921"
             ]
            ],
            "type": "heatmapgl"
           }
          ],
          "histogram": [
           {
            "marker": {
             "pattern": {
              "fillmode": "overlay",
              "size": 10,
              "solidity": 0.2
             }
            },
            "type": "histogram"
           }
          ],
          "histogram2d": [
           {
            "colorbar": {
             "outlinewidth": 0,
             "ticks": ""
            },
            "colorscale": [
             [
              0,
              "#0d0887"
             ],
             [
              0.1111111111111111,
              "#46039f"
             ],
             [
              0.2222222222222222,
              "#7201a8"
             ],
             [
              0.3333333333333333,
              "#9c179e"
             ],
             [
              0.4444444444444444,
              "#bd3786"
             ],
             [
              0.5555555555555556,
              "#d8576b"
             ],
             [
              0.6666666666666666,
              "#ed7953"
             ],
             [
              0.7777777777777778,
              "#fb9f3a"
             ],
             [
              0.8888888888888888,
              "#fdca26"
             ],
             [
              1,
              "#f0f921"
             ]
            ],
            "type": "histogram2d"
           }
          ],
          "histogram2dcontour": [
           {
            "colorbar": {
             "outlinewidth": 0,
             "ticks": ""
            },
            "colorscale": [
             [
              0,
              "#0d0887"
             ],
             [
              0.1111111111111111,
              "#46039f"
             ],
             [
              0.2222222222222222,
              "#7201a8"
             ],
             [
              0.3333333333333333,
              "#9c179e"
             ],
             [
              0.4444444444444444,
              "#bd3786"
             ],
             [
              0.5555555555555556,
              "#d8576b"
             ],
             [
              0.6666666666666666,
              "#ed7953"
             ],
             [
              0.7777777777777778,
              "#fb9f3a"
             ],
             [
              0.8888888888888888,
              "#fdca26"
             ],
             [
              1,
              "#f0f921"
             ]
            ],
            "type": "histogram2dcontour"
           }
          ],
          "mesh3d": [
           {
            "colorbar": {
             "outlinewidth": 0,
             "ticks": ""
            },
            "type": "mesh3d"
           }
          ],
          "parcoords": [
           {
            "line": {
             "colorbar": {
              "outlinewidth": 0,
              "ticks": ""
             }
            },
            "type": "parcoords"
           }
          ],
          "pie": [
           {
            "automargin": true,
            "type": "pie"
           }
          ],
          "scatter": [
           {
            "fillpattern": {
             "fillmode": "overlay",
             "size": 10,
             "solidity": 0.2
            },
            "type": "scatter"
           }
          ],
          "scatter3d": [
           {
            "line": {
             "colorbar": {
              "outlinewidth": 0,
              "ticks": ""
             }
            },
            "marker": {
             "colorbar": {
              "outlinewidth": 0,
              "ticks": ""
             }
            },
            "type": "scatter3d"
           }
          ],
          "scattercarpet": [
           {
            "marker": {
             "colorbar": {
              "outlinewidth": 0,
              "ticks": ""
             }
            },
            "type": "scattercarpet"
           }
          ],
          "scattergeo": [
           {
            "marker": {
             "colorbar": {
              "outlinewidth": 0,
              "ticks": ""
             }
            },
            "type": "scattergeo"
           }
          ],
          "scattergl": [
           {
            "marker": {
             "colorbar": {
              "outlinewidth": 0,
              "ticks": ""
             }
            },
            "type": "scattergl"
           }
          ],
          "scattermapbox": [
           {
            "marker": {
             "colorbar": {
              "outlinewidth": 0,
              "ticks": ""
             }
            },
            "type": "scattermapbox"
           }
          ],
          "scatterpolar": [
           {
            "marker": {
             "colorbar": {
              "outlinewidth": 0,
              "ticks": ""
             }
            },
            "type": "scatterpolar"
           }
          ],
          "scatterpolargl": [
           {
            "marker": {
             "colorbar": {
              "outlinewidth": 0,
              "ticks": ""
             }
            },
            "type": "scatterpolargl"
           }
          ],
          "scatterternary": [
           {
            "marker": {
             "colorbar": {
              "outlinewidth": 0,
              "ticks": ""
             }
            },
            "type": "scatterternary"
           }
          ],
          "surface": [
           {
            "colorbar": {
             "outlinewidth": 0,
             "ticks": ""
            },
            "colorscale": [
             [
              0,
              "#0d0887"
             ],
             [
              0.1111111111111111,
              "#46039f"
             ],
             [
              0.2222222222222222,
              "#7201a8"
             ],
             [
              0.3333333333333333,
              "#9c179e"
             ],
             [
              0.4444444444444444,
              "#bd3786"
             ],
             [
              0.5555555555555556,
              "#d8576b"
             ],
             [
              0.6666666666666666,
              "#ed7953"
             ],
             [
              0.7777777777777778,
              "#fb9f3a"
             ],
             [
              0.8888888888888888,
              "#fdca26"
             ],
             [
              1,
              "#f0f921"
             ]
            ],
            "type": "surface"
           }
          ],
          "table": [
           {
            "cells": {
             "fill": {
              "color": "#EBF0F8"
             },
             "line": {
              "color": "white"
             }
            },
            "header": {
             "fill": {
              "color": "#C8D4E3"
             },
             "line": {
              "color": "white"
             }
            },
            "type": "table"
           }
          ]
         },
         "layout": {
          "annotationdefaults": {
           "arrowcolor": "#2a3f5f",
           "arrowhead": 0,
           "arrowwidth": 1
          },
          "autotypenumbers": "strict",
          "coloraxis": {
           "colorbar": {
            "outlinewidth": 0,
            "ticks": ""
           }
          },
          "colorscale": {
           "diverging": [
            [
             0,
             "#8e0152"
            ],
            [
             0.1,
             "#c51b7d"
            ],
            [
             0.2,
             "#de77ae"
            ],
            [
             0.3,
             "#f1b6da"
            ],
            [
             0.4,
             "#fde0ef"
            ],
            [
             0.5,
             "#f7f7f7"
            ],
            [
             0.6,
             "#e6f5d0"
            ],
            [
             0.7,
             "#b8e186"
            ],
            [
             0.8,
             "#7fbc41"
            ],
            [
             0.9,
             "#4d9221"
            ],
            [
             1,
             "#276419"
            ]
           ],
           "sequential": [
            [
             0,
             "#0d0887"
            ],
            [
             0.1111111111111111,
             "#46039f"
            ],
            [
             0.2222222222222222,
             "#7201a8"
            ],
            [
             0.3333333333333333,
             "#9c179e"
            ],
            [
             0.4444444444444444,
             "#bd3786"
            ],
            [
             0.5555555555555556,
             "#d8576b"
            ],
            [
             0.6666666666666666,
             "#ed7953"
            ],
            [
             0.7777777777777778,
             "#fb9f3a"
            ],
            [
             0.8888888888888888,
             "#fdca26"
            ],
            [
             1,
             "#f0f921"
            ]
           ],
           "sequentialminus": [
            [
             0,
             "#0d0887"
            ],
            [
             0.1111111111111111,
             "#46039f"
            ],
            [
             0.2222222222222222,
             "#7201a8"
            ],
            [
             0.3333333333333333,
             "#9c179e"
            ],
            [
             0.4444444444444444,
             "#bd3786"
            ],
            [
             0.5555555555555556,
             "#d8576b"
            ],
            [
             0.6666666666666666,
             "#ed7953"
            ],
            [
             0.7777777777777778,
             "#fb9f3a"
            ],
            [
             0.8888888888888888,
             "#fdca26"
            ],
            [
             1,
             "#f0f921"
            ]
           ]
          },
          "colorway": [
           "#636efa",
           "#EF553B",
           "#00cc96",
           "#ab63fa",
           "#FFA15A",
           "#19d3f3",
           "#FF6692",
           "#B6E880",
           "#FF97FF",
           "#FECB52"
          ],
          "font": {
           "color": "#2a3f5f"
          },
          "geo": {
           "bgcolor": "white",
           "lakecolor": "white",
           "landcolor": "#E5ECF6",
           "showlakes": true,
           "showland": true,
           "subunitcolor": "white"
          },
          "hoverlabel": {
           "align": "left"
          },
          "hovermode": "closest",
          "mapbox": {
           "style": "light"
          },
          "paper_bgcolor": "white",
          "plot_bgcolor": "#E5ECF6",
          "polar": {
           "angularaxis": {
            "gridcolor": "white",
            "linecolor": "white",
            "ticks": ""
           },
           "bgcolor": "#E5ECF6",
           "radialaxis": {
            "gridcolor": "white",
            "linecolor": "white",
            "ticks": ""
           }
          },
          "scene": {
           "xaxis": {
            "backgroundcolor": "#E5ECF6",
            "gridcolor": "white",
            "gridwidth": 2,
            "linecolor": "white",
            "showbackground": true,
            "ticks": "",
            "zerolinecolor": "white"
           },
           "yaxis": {
            "backgroundcolor": "#E5ECF6",
            "gridcolor": "white",
            "gridwidth": 2,
            "linecolor": "white",
            "showbackground": true,
            "ticks": "",
            "zerolinecolor": "white"
           },
           "zaxis": {
            "backgroundcolor": "#E5ECF6",
            "gridcolor": "white",
            "gridwidth": 2,
            "linecolor": "white",
            "showbackground": true,
            "ticks": "",
            "zerolinecolor": "white"
           }
          },
          "shapedefaults": {
           "line": {
            "color": "#2a3f5f"
           }
          },
          "ternary": {
           "aaxis": {
            "gridcolor": "white",
            "linecolor": "white",
            "ticks": ""
           },
           "baxis": {
            "gridcolor": "white",
            "linecolor": "white",
            "ticks": ""
           },
           "bgcolor": "#E5ECF6",
           "caxis": {
            "gridcolor": "white",
            "linecolor": "white",
            "ticks": ""
           }
          },
          "title": {
           "x": 0.05
          },
          "xaxis": {
           "automargin": true,
           "gridcolor": "white",
           "linecolor": "white",
           "ticks": "",
           "title": {
            "standoff": 15
           },
           "zerolinecolor": "white",
           "zerolinewidth": 2
          },
          "yaxis": {
           "automargin": true,
           "gridcolor": "white",
           "linecolor": "white",
           "ticks": "",
           "title": {
            "standoff": 15
           },
           "zerolinecolor": "white",
           "zerolinewidth": 2
          }
         }
        },
        "title": {
         "text": "Elements occurances"
        },
        "width": 1000
       }
      }
     },
     "metadata": {},
     "output_type": "display_data"
    }
   ],
   "source": [
    "# Plotting bars\n",
    "\n",
    "fig = go.Figure()\n",
    "\n",
    "for i in range(min(*df_elements_occurances.columns), max(*df_elements_occurances.columns) + 1):\n",
    "    fig.add_trace(go.Bar(x=df_elements_occurances.index, y=df_elements_occurances[i], name=i))\n",
    "\n",
    "fig.update_layout(\n",
    "    title=\"Elements occurances\",\n",
    "    barmode='stack',\n",
    "    height=500,\n",
    "    width=1000,\n",
    ")\n",
    "\n",
    "fig.show()"
   ]
  },
  {
   "cell_type": "markdown",
   "metadata": {},
   "source": [
    "# Counting the 'min' and 'max' times an element can be found in an equation"
   ]
  },
  {
   "cell_type": "code",
   "execution_count": 12,
   "metadata": {},
   "outputs": [
    {
     "data": {
      "text/html": [
       "<style type=\"text/css\">\n",
       "#T_87787_row0_col0, #T_87787_row0_col1, #T_87787_row0_col2, #T_87787_row0_col3, #T_87787_row0_col4, #T_87787_row0_col5, #T_87787_row0_col6, #T_87787_row0_col7, #T_87787_row0_col8, #T_87787_row0_col9, #T_87787_row0_col10, #T_87787_row0_col11, #T_87787_row0_col12, #T_87787_row0_col13, #T_87787_row1_col14 {\n",
       "  background-color: #0d0887;\n",
       "  color: #f1f1f1;\n",
       "}\n",
       "#T_87787_row0_col14, #T_87787_row1_col0, #T_87787_row1_col1, #T_87787_row1_col2, #T_87787_row1_col3, #T_87787_row1_col4, #T_87787_row1_col5, #T_87787_row1_col6, #T_87787_row1_col7, #T_87787_row1_col8 {\n",
       "  background-color: #f0f921;\n",
       "  color: #000000;\n",
       "}\n",
       "#T_87787_row1_col9 {\n",
       "  background-color: #ed7953;\n",
       "  color: #f1f1f1;\n",
       "}\n",
       "#T_87787_row1_col10, #T_87787_row1_col11, #T_87787_row1_col12, #T_87787_row1_col13 {\n",
       "  background-color: #9c179e;\n",
       "  color: #f1f1f1;\n",
       "}\n",
       "</style>\n",
       "<table id=\"T_87787\">\n",
       "  <thead>\n",
       "    <tr>\n",
       "      <th class=\"blank level0\" >&nbsp;</th>\n",
       "      <th id=\"T_87787_level0_col0\" class=\"col_heading level0 col0\" >1</th>\n",
       "      <th id=\"T_87787_level0_col1\" class=\"col_heading level0 col1\" >2</th>\n",
       "      <th id=\"T_87787_level0_col2\" class=\"col_heading level0 col2\" >3</th>\n",
       "      <th id=\"T_87787_level0_col3\" class=\"col_heading level0 col3\" >4</th>\n",
       "      <th id=\"T_87787_level0_col4\" class=\"col_heading level0 col4\" >5</th>\n",
       "      <th id=\"T_87787_level0_col5\" class=\"col_heading level0 col5\" >6</th>\n",
       "      <th id=\"T_87787_level0_col6\" class=\"col_heading level0 col6\" >8</th>\n",
       "      <th id=\"T_87787_level0_col7\" class=\"col_heading level0 col7\" >7</th>\n",
       "      <th id=\"T_87787_level0_col8\" class=\"col_heading level0 col8\" >9</th>\n",
       "      <th id=\"T_87787_level0_col9\" class=\"col_heading level0 col9\" >0</th>\n",
       "      <th id=\"T_87787_level0_col10\" class=\"col_heading level0 col10\" >+</th>\n",
       "      <th id=\"T_87787_level0_col11\" class=\"col_heading level0 col11\" >-</th>\n",
       "      <th id=\"T_87787_level0_col12\" class=\"col_heading level0 col12\" >*</th>\n",
       "      <th id=\"T_87787_level0_col13\" class=\"col_heading level0 col13\" >/</th>\n",
       "      <th id=\"T_87787_level0_col14\" class=\"col_heading level0 col14\" >=</th>\n",
       "    </tr>\n",
       "  </thead>\n",
       "  <tbody>\n",
       "    <tr>\n",
       "      <th id=\"T_87787_level0_row0\" class=\"row_heading level0 row0\" >min</th>\n",
       "      <td id=\"T_87787_row0_col0\" class=\"data row0 col0\" >0</td>\n",
       "      <td id=\"T_87787_row0_col1\" class=\"data row0 col1\" >0</td>\n",
       "      <td id=\"T_87787_row0_col2\" class=\"data row0 col2\" >0</td>\n",
       "      <td id=\"T_87787_row0_col3\" class=\"data row0 col3\" >0</td>\n",
       "      <td id=\"T_87787_row0_col4\" class=\"data row0 col4\" >0</td>\n",
       "      <td id=\"T_87787_row0_col5\" class=\"data row0 col5\" >0</td>\n",
       "      <td id=\"T_87787_row0_col6\" class=\"data row0 col6\" >0</td>\n",
       "      <td id=\"T_87787_row0_col7\" class=\"data row0 col7\" >0</td>\n",
       "      <td id=\"T_87787_row0_col8\" class=\"data row0 col8\" >0</td>\n",
       "      <td id=\"T_87787_row0_col9\" class=\"data row0 col9\" >0</td>\n",
       "      <td id=\"T_87787_row0_col10\" class=\"data row0 col10\" >0</td>\n",
       "      <td id=\"T_87787_row0_col11\" class=\"data row0 col11\" >0</td>\n",
       "      <td id=\"T_87787_row0_col12\" class=\"data row0 col12\" >0</td>\n",
       "      <td id=\"T_87787_row0_col13\" class=\"data row0 col13\" >0</td>\n",
       "      <td id=\"T_87787_row0_col14\" class=\"data row0 col14\" >1</td>\n",
       "    </tr>\n",
       "    <tr>\n",
       "      <th id=\"T_87787_level0_row1\" class=\"row_heading level0 row1\" >max</th>\n",
       "      <td id=\"T_87787_row1_col0\" class=\"data row1 col0\" >4</td>\n",
       "      <td id=\"T_87787_row1_col1\" class=\"data row1 col1\" >4</td>\n",
       "      <td id=\"T_87787_row1_col2\" class=\"data row1 col2\" >4</td>\n",
       "      <td id=\"T_87787_row1_col3\" class=\"data row1 col3\" >4</td>\n",
       "      <td id=\"T_87787_row1_col4\" class=\"data row1 col4\" >4</td>\n",
       "      <td id=\"T_87787_row1_col5\" class=\"data row1 col5\" >4</td>\n",
       "      <td id=\"T_87787_row1_col6\" class=\"data row1 col6\" >4</td>\n",
       "      <td id=\"T_87787_row1_col7\" class=\"data row1 col7\" >4</td>\n",
       "      <td id=\"T_87787_row1_col8\" class=\"data row1 col8\" >4</td>\n",
       "      <td id=\"T_87787_row1_col9\" class=\"data row1 col9\" >3</td>\n",
       "      <td id=\"T_87787_row1_col10\" class=\"data row1 col10\" >2</td>\n",
       "      <td id=\"T_87787_row1_col11\" class=\"data row1 col11\" >2</td>\n",
       "      <td id=\"T_87787_row1_col12\" class=\"data row1 col12\" >2</td>\n",
       "      <td id=\"T_87787_row1_col13\" class=\"data row1 col13\" >2</td>\n",
       "      <td id=\"T_87787_row1_col14\" class=\"data row1 col14\" >1</td>\n",
       "    </tr>\n",
       "  </tbody>\n",
       "</table>\n"
      ],
      "text/plain": [
       "<pandas.io.formats.style.Styler at 0x1fdf5501870>"
      ]
     },
     "execution_count": 12,
     "metadata": {},
     "output_type": "execute_result"
    }
   ],
   "source": [
    "df_elements_minmax = pd.DataFrame()\n",
    "\n",
    "# Computing the minimum and maximum number of occurances of each element\n",
    "for element in ELEMENTS:\n",
    "    df_elements_minmax.loc[\"min\", element]= df[(\"elements\", element)].min()\n",
    "    df_elements_minmax.loc[\"max\", element]= df[(\"elements\", element)].max()\n",
    "\n",
    "# Converting 'dtypes'\n",
    "df_elements_max = df_elements_minmax.astype(\"uint8\")\n",
    "\n",
    "\n",
    "df_elements_max.style.background_gradient(axis=1, cmap=\"plasma\")"
   ]
  },
  {
   "cell_type": "markdown",
   "metadata": {},
   "source": [
    "# Counting element frequency"
   ]
  },
  {
   "cell_type": "code",
   "execution_count": 13,
   "metadata": {},
   "outputs": [
    {
     "data": {
      "text/html": [
       "<div>\n",
       "<style scoped>\n",
       "    .dataframe tbody tr th:only-of-type {\n",
       "        vertical-align: middle;\n",
       "    }\n",
       "\n",
       "    .dataframe tbody tr th {\n",
       "        vertical-align: top;\n",
       "    }\n",
       "\n",
       "    .dataframe thead th {\n",
       "        text-align: right;\n",
       "    }\n",
       "</style>\n",
       "<table border=\"1\" class=\"dataframe\">\n",
       "  <thead>\n",
       "    <tr style=\"text-align: right;\">\n",
       "      <th></th>\n",
       "      <th>p0</th>\n",
       "      <th>p1</th>\n",
       "      <th>p2</th>\n",
       "      <th>p3</th>\n",
       "      <th>p4</th>\n",
       "      <th>p5</th>\n",
       "      <th>p6</th>\n",
       "      <th>p7</th>\n",
       "      <th>sum</th>\n",
       "      <th>total</th>\n",
       "    </tr>\n",
       "  </thead>\n",
       "  <tbody>\n",
       "    <tr>\n",
       "      <th>*</th>\n",
       "      <td>0</td>\n",
       "      <td>2978</td>\n",
       "      <td>774</td>\n",
       "      <td>1256</td>\n",
       "      <td>940</td>\n",
       "      <td>0</td>\n",
       "      <td>0</td>\n",
       "      <td>0</td>\n",
       "      <td>5948</td>\n",
       "      <td>5574</td>\n",
       "    </tr>\n",
       "    <tr>\n",
       "      <th>+</th>\n",
       "      <td>0</td>\n",
       "      <td>2002</td>\n",
       "      <td>3405</td>\n",
       "      <td>1606</td>\n",
       "      <td>471</td>\n",
       "      <td>0</td>\n",
       "      <td>0</td>\n",
       "      <td>0</td>\n",
       "      <td>7484</td>\n",
       "      <td>6839</td>\n",
       "    </tr>\n",
       "    <tr>\n",
       "      <th>-</th>\n",
       "      <td>0</td>\n",
       "      <td>649</td>\n",
       "      <td>4829</td>\n",
       "      <td>1323</td>\n",
       "      <td>1699</td>\n",
       "      <td>0</td>\n",
       "      <td>0</td>\n",
       "      <td>0</td>\n",
       "      <td>8500</td>\n",
       "      <td>7810</td>\n",
       "    </tr>\n",
       "    <tr>\n",
       "      <th>/</th>\n",
       "      <td>0</td>\n",
       "      <td>414</td>\n",
       "      <td>1354</td>\n",
       "      <td>1527</td>\n",
       "      <td>1103</td>\n",
       "      <td>0</td>\n",
       "      <td>0</td>\n",
       "      <td>0</td>\n",
       "      <td>4398</td>\n",
       "      <td>4024</td>\n",
       "    </tr>\n",
       "    <tr>\n",
       "      <th>0</th>\n",
       "      <td>0</td>\n",
       "      <td>1480</td>\n",
       "      <td>258</td>\n",
       "      <td>252</td>\n",
       "      <td>720</td>\n",
       "      <td>229</td>\n",
       "      <td>214</td>\n",
       "      <td>1830</td>\n",
       "      <td>4983</td>\n",
       "      <td>4464</td>\n",
       "    </tr>\n",
       "    <tr>\n",
       "      <th>...</th>\n",
       "      <td>...</td>\n",
       "      <td>...</td>\n",
       "      <td>...</td>\n",
       "      <td>...</td>\n",
       "      <td>...</td>\n",
       "      <td>...</td>\n",
       "      <td>...</td>\n",
       "      <td>...</td>\n",
       "      <td>...</td>\n",
       "      <td>...</td>\n",
       "    </tr>\n",
       "    <tr>\n",
       "      <th>6</th>\n",
       "      <td>1733</td>\n",
       "      <td>1194</td>\n",
       "      <td>802</td>\n",
       "      <td>1140</td>\n",
       "      <td>1192</td>\n",
       "      <td>722</td>\n",
       "      <td>1055</td>\n",
       "      <td>1844</td>\n",
       "      <td>9682</td>\n",
       "      <td>7992</td>\n",
       "    </tr>\n",
       "    <tr>\n",
       "      <th>7</th>\n",
       "      <td>1683</td>\n",
       "      <td>1011</td>\n",
       "      <td>674</td>\n",
       "      <td>860</td>\n",
       "      <td>1159</td>\n",
       "      <td>655</td>\n",
       "      <td>1003</td>\n",
       "      <td>1657</td>\n",
       "      <td>8702</td>\n",
       "      <td>7274</td>\n",
       "    </tr>\n",
       "    <tr>\n",
       "      <th>8</th>\n",
       "      <td>1708</td>\n",
       "      <td>1159</td>\n",
       "      <td>844</td>\n",
       "      <td>743</td>\n",
       "      <td>1152</td>\n",
       "      <td>695</td>\n",
       "      <td>976</td>\n",
       "      <td>1881</td>\n",
       "      <td>9158</td>\n",
       "      <td>7588</td>\n",
       "    </tr>\n",
       "    <tr>\n",
       "      <th>9</th>\n",
       "      <td>1800</td>\n",
       "      <td>964</td>\n",
       "      <td>776</td>\n",
       "      <td>537</td>\n",
       "      <td>1185</td>\n",
       "      <td>646</td>\n",
       "      <td>1024</td>\n",
       "      <td>1718</td>\n",
       "      <td>8650</td>\n",
       "      <td>7198</td>\n",
       "    </tr>\n",
       "    <tr>\n",
       "      <th>=</th>\n",
       "      <td>0</td>\n",
       "      <td>0</td>\n",
       "      <td>0</td>\n",
       "      <td>0</td>\n",
       "      <td>1318</td>\n",
       "      <td>10515</td>\n",
       "      <td>5890</td>\n",
       "      <td>0</td>\n",
       "      <td>17723</td>\n",
       "      <td>17723</td>\n",
       "    </tr>\n",
       "  </tbody>\n",
       "</table>\n",
       "<p>15 rows × 10 columns</p>\n",
       "</div>"
      ],
      "text/plain": [
       "      p0    p1    p2    p3    p4     p5    p6    p7    sum  total\n",
       "*      0  2978   774  1256   940      0     0     0   5948   5574\n",
       "+      0  2002  3405  1606   471      0     0     0   7484   6839\n",
       "-      0   649  4829  1323  1699      0     0     0   8500   7810\n",
       "/      0   414  1354  1527  1103      0     0     0   4398   4024\n",
       "0      0  1480   258   252   720    229   214  1830   4983   4464\n",
       "..   ...   ...   ...   ...   ...    ...   ...   ...    ...    ...\n",
       "6   1733  1194   802  1140  1192    722  1055  1844   9682   7992\n",
       "7   1683  1011   674   860  1159    655  1003  1657   8702   7274\n",
       "8   1708  1159   844   743  1152    695   976  1881   9158   7588\n",
       "9   1800   964   776   537  1185    646  1024  1718   8650   7198\n",
       "=      0     0     0     0  1318  10515  5890     0  17723  17723\n",
       "\n",
       "[15 rows x 10 columns]"
      ]
     },
     "execution_count": 13,
     "metadata": {},
     "output_type": "execute_result"
    }
   ],
   "source": [
    "# Computing element frequency\n",
    "df_freq_count = df[\"positions\"].apply(pd.Series.value_counts)\n",
    "\n",
    "# Computing the \"sum\"\n",
    "df_freq_count[\"sum\"] = df_freq_count.sum(axis=1)\n",
    "\n",
    "# Inserting missing elements\n",
    "for element in ELEMENTS:\n",
    "    if element not in df_freq_count.index:\n",
    "        df_freq_count.loc[element] = 0\n",
    "\n",
    "# Computing the \"total\"\n",
    "totals = []\n",
    "for element in df_freq_count.index:\n",
    "    totals.append(df[\"elements\"][element].value_counts().drop(0, errors=\"ignore\").sum())\n",
    "\n",
    "df_freq_count[\"total\"] = totals\n",
    "\n",
    "# Filling the missing values, converting the \"dtypes\" and sorting\n",
    "df_freq_count = df_freq_count.fillna(0)\n",
    "df_freq_count = df_freq_count.astype(\"uint16\")\n",
    "df_freq_count = df_freq_count.sort_index()\n",
    "\n",
    "\n",
    "df_freq_count"
   ]
  },
  {
   "cell_type": "code",
   "execution_count": 14,
   "metadata": {},
   "outputs": [
    {
     "data": {
      "application/vnd.plotly.v1+json": {
       "config": {
        "plotlyServerURL": "https://plot.ly"
       },
       "data": [
        {
         "coloraxis": "coloraxis",
         "name": "Positions",
         "type": "heatmap",
         "x": [
          "p0",
          "p1",
          "p2",
          "p3",
          "p4",
          "p5",
          "p6",
          "p7"
         ],
         "xaxis": "x",
         "y": [
          "*",
          "+",
          "-",
          "/",
          "0",
          "1",
          "2",
          "3",
          "4",
          "5",
          "6",
          "7",
          "8",
          "9",
          "="
         ],
         "yaxis": "y",
         "z": [
          [
           0,
           0.1680302431868194,
           0.04367206454889127,
           0.07086836314393725,
           0.0530384246459403,
           0,
           0,
           0,
           0.3356090955255882,
           0.3145065733792247
          ],
          [
           0,
           0.11296055972465158,
           0.1921232297015178,
           0.09061671274614908,
           0.026575636178976472,
           0,
           0,
           0,
           0.4222761383512949,
           0.3858827512272189
          ],
          [
           0,
           0.03661908254810134,
           0.27247080065451673,
           0.07464876149636065,
           0.09586413135473679,
           0,
           0,
           0,
           0.4796027760537155,
           0.4406703154093551
          ],
          [
           0,
           0.02335947638661626,
           0.07639790103255656,
           0.08615922812164983,
           0.06223551317497038,
           0,
           0,
           0,
           0.24815211871579304,
           0.22704959656942955
          ],
          [
           0,
           0.08350730688935282,
           0.014557354849630423,
           0.014218811713592508,
           0.04062517632455002,
           0.012921063025447158,
           0.012074705185352367,
           0.10325565649156464,
           0.28116007447948993,
           0.2518760932122101
          ],
          [
           0.18365965130056988,
           0.06392822885515996,
           0.059132201094622805,
           0.11380691756474637,
           0.0956384359307115,
           0.059978558934717596,
           0.14247023641595666,
           0.09580770749873047,
           0.8144219375952153,
           0.607572081476048
          ],
          [
           0.11888506460531513,
           0.07289962196016475,
           0.04474411781301134,
           0.10997009535631665,
           0.07611578175252497,
           0.05089431811770016,
           0.0852000225695424,
           0.10539976301980478,
           0.6641087851943802,
           0.5232748406026068
          ],
          [
           0.10579473001184901,
           0.06031710207075552,
           0.0365062348360887,
           0.09281724313039554,
           0.07227895954409524,
           0.044405574676973425,
           0.07024770072786775,
           0.09298651469841449,
           0.5753540596964396,
           0.46408621565197766
          ],
          [
           0.10415843818766575,
           0.06996558144783614,
           0.04451842238898606,
           0.08728770524177622,
           0.07058624386390566,
           0.04417987925294815,
           0.06691869322349489,
           0.10376347119562151,
           0.5913784348022344,
           0.47215482706088135
          ],
          [
           0.0968233369068442,
           0.06421034813519155,
           0.04118941488461322,
           0.07453591378434803,
           0.06816001805563392,
           0.04096371946058794,
           0.06178412232691982,
           0.09817750945099588,
           0.5458443830051346,
           0.4332223664165209
          ],
          [
           0.09778254245895164,
           0.06737008407154545,
           0.045251932517068216,
           0.0643231958472042,
           0.0672572363595328,
           0.04073802403656266,
           0.05952716808666704,
           0.10404559047565311,
           0.5462957738531852,
           0.4509394572025052
          ],
          [
           0.09496134965863567,
           0.05704451842238899,
           0.03802967894825932,
           0.048524516165434746,
           0.06539524911132427,
           0.03695762568413925,
           0.05659312757433843,
           0.09349432940247136,
           0.49100039496699205,
           0.4104271285899678
          ],
          [
           0.09637194605879366,
           0.06539524911132427,
           0.04762173446933363,
           0.041922925012695365,
           0.06500028211928004,
           0.039214579924392035,
           0.055069683462167805,
           0.10613327314788693,
           0.5167296733058737,
           0.42814421937595215
          ],
          [
           0.10156294081137505,
           0.05439259719009197,
           0.04378491226090391,
           0.030299610675393555,
           0.06686226936748857,
           0.036449810980082376,
           0.057778028550471136,
           0.09693618461885685,
           0.48806635445466345,
           0.4061389155334876
          ],
          [
           0,
           0,
           0,
           0,
           0.07436664221632906,
           0.5932968459064493,
           0.3323365118772217,
           0,
           1,
           1
          ]
         ]
        },
        {
         "coloraxis": "coloraxis2",
         "name": "Total",
         "type": "heatmap",
         "x": [
          "Total"
         ],
         "xaxis": "x2",
         "y": [
          "*",
          "+",
          "-",
          "/",
          "0",
          "1",
          "2",
          "3",
          "4",
          "5",
          "6",
          "7",
          "8",
          "9",
          "="
         ],
         "yaxis": "y2",
         "z": [
          [
           0.3145065733792247
          ],
          [
           0.3858827512272189
          ],
          [
           0.4406703154093551
          ],
          [
           0.22704959656942955
          ],
          [
           0.2518760932122101
          ],
          [
           0.607572081476048
          ],
          [
           0.5232748406026068
          ],
          [
           0.46408621565197766
          ],
          [
           0.47215482706088135
          ],
          [
           0.4332223664165209
          ],
          [
           0.4509394572025052
          ],
          [
           0.4104271285899678
          ],
          [
           0.42814421937595215
          ],
          [
           0.4061389155334876
          ],
          [
           1
          ]
         ]
        }
       ],
       "layout": {
        "coloraxis": {
         "colorscale": [
          [
           0,
           "rgb(12,51,131)"
          ],
          [
           0.25,
           "rgb(10,136,186)"
          ],
          [
           0.5,
           "rgb(242,211,56)"
          ],
          [
           0.75,
           "rgb(242,143,56)"
          ],
          [
           1,
           "rgb(217,30,30)"
          ]
         ],
         "showscale": false
        },
        "coloraxis2": {
         "colorscale": [
          [
           0,
           "rgb(12,51,131)"
          ],
          [
           0.25,
           "rgb(10,136,186)"
          ],
          [
           0.5,
           "rgb(242,211,56)"
          ],
          [
           0.75,
           "rgb(242,143,56)"
          ],
          [
           1,
           "rgb(217,30,30)"
          ]
         ],
         "showscale": false
        },
        "height": 600,
        "template": {
         "data": {
          "bar": [
           {
            "error_x": {
             "color": "#2a3f5f"
            },
            "error_y": {
             "color": "#2a3f5f"
            },
            "marker": {
             "line": {
              "color": "#E5ECF6",
              "width": 0.5
             },
             "pattern": {
              "fillmode": "overlay",
              "size": 10,
              "solidity": 0.2
             }
            },
            "type": "bar"
           }
          ],
          "barpolar": [
           {
            "marker": {
             "line": {
              "color": "#E5ECF6",
              "width": 0.5
             },
             "pattern": {
              "fillmode": "overlay",
              "size": 10,
              "solidity": 0.2
             }
            },
            "type": "barpolar"
           }
          ],
          "carpet": [
           {
            "aaxis": {
             "endlinecolor": "#2a3f5f",
             "gridcolor": "white",
             "linecolor": "white",
             "minorgridcolor": "white",
             "startlinecolor": "#2a3f5f"
            },
            "baxis": {
             "endlinecolor": "#2a3f5f",
             "gridcolor": "white",
             "linecolor": "white",
             "minorgridcolor": "white",
             "startlinecolor": "#2a3f5f"
            },
            "type": "carpet"
           }
          ],
          "choropleth": [
           {
            "colorbar": {
             "outlinewidth": 0,
             "ticks": ""
            },
            "type": "choropleth"
           }
          ],
          "contour": [
           {
            "colorbar": {
             "outlinewidth": 0,
             "ticks": ""
            },
            "colorscale": [
             [
              0,
              "#0d0887"
             ],
             [
              0.1111111111111111,
              "#46039f"
             ],
             [
              0.2222222222222222,
              "#7201a8"
             ],
             [
              0.3333333333333333,
              "#9c179e"
             ],
             [
              0.4444444444444444,
              "#bd3786"
             ],
             [
              0.5555555555555556,
              "#d8576b"
             ],
             [
              0.6666666666666666,
              "#ed7953"
             ],
             [
              0.7777777777777778,
              "#fb9f3a"
             ],
             [
              0.8888888888888888,
              "#fdca26"
             ],
             [
              1,
              "#f0f921"
             ]
            ],
            "type": "contour"
           }
          ],
          "contourcarpet": [
           {
            "colorbar": {
             "outlinewidth": 0,
             "ticks": ""
            },
            "type": "contourcarpet"
           }
          ],
          "heatmap": [
           {
            "colorbar": {
             "outlinewidth": 0,
             "ticks": ""
            },
            "colorscale": [
             [
              0,
              "#0d0887"
             ],
             [
              0.1111111111111111,
              "#46039f"
             ],
             [
              0.2222222222222222,
              "#7201a8"
             ],
             [
              0.3333333333333333,
              "#9c179e"
             ],
             [
              0.4444444444444444,
              "#bd3786"
             ],
             [
              0.5555555555555556,
              "#d8576b"
             ],
             [
              0.6666666666666666,
              "#ed7953"
             ],
             [
              0.7777777777777778,
              "#fb9f3a"
             ],
             [
              0.8888888888888888,
              "#fdca26"
             ],
             [
              1,
              "#f0f921"
             ]
            ],
            "type": "heatmap"
           }
          ],
          "heatmapgl": [
           {
            "colorbar": {
             "outlinewidth": 0,
             "ticks": ""
            },
            "colorscale": [
             [
              0,
              "#0d0887"
             ],
             [
              0.1111111111111111,
              "#46039f"
             ],
             [
              0.2222222222222222,
              "#7201a8"
             ],
             [
              0.3333333333333333,
              "#9c179e"
             ],
             [
              0.4444444444444444,
              "#bd3786"
             ],
             [
              0.5555555555555556,
              "#d8576b"
             ],
             [
              0.6666666666666666,
              "#ed7953"
             ],
             [
              0.7777777777777778,
              "#fb9f3a"
             ],
             [
              0.8888888888888888,
              "#fdca26"
             ],
             [
              1,
              "#f0f921"
             ]
            ],
            "type": "heatmapgl"
           }
          ],
          "histogram": [
           {
            "marker": {
             "pattern": {
              "fillmode": "overlay",
              "size": 10,
              "solidity": 0.2
             }
            },
            "type": "histogram"
           }
          ],
          "histogram2d": [
           {
            "colorbar": {
             "outlinewidth": 0,
             "ticks": ""
            },
            "colorscale": [
             [
              0,
              "#0d0887"
             ],
             [
              0.1111111111111111,
              "#46039f"
             ],
             [
              0.2222222222222222,
              "#7201a8"
             ],
             [
              0.3333333333333333,
              "#9c179e"
             ],
             [
              0.4444444444444444,
              "#bd3786"
             ],
             [
              0.5555555555555556,
              "#d8576b"
             ],
             [
              0.6666666666666666,
              "#ed7953"
             ],
             [
              0.7777777777777778,
              "#fb9f3a"
             ],
             [
              0.8888888888888888,
              "#fdca26"
             ],
             [
              1,
              "#f0f921"
             ]
            ],
            "type": "histogram2d"
           }
          ],
          "histogram2dcontour": [
           {
            "colorbar": {
             "outlinewidth": 0,
             "ticks": ""
            },
            "colorscale": [
             [
              0,
              "#0d0887"
             ],
             [
              0.1111111111111111,
              "#46039f"
             ],
             [
              0.2222222222222222,
              "#7201a8"
             ],
             [
              0.3333333333333333,
              "#9c179e"
             ],
             [
              0.4444444444444444,
              "#bd3786"
             ],
             [
              0.5555555555555556,
              "#d8576b"
             ],
             [
              0.6666666666666666,
              "#ed7953"
             ],
             [
              0.7777777777777778,
              "#fb9f3a"
             ],
             [
              0.8888888888888888,
              "#fdca26"
             ],
             [
              1,
              "#f0f921"
             ]
            ],
            "type": "histogram2dcontour"
           }
          ],
          "mesh3d": [
           {
            "colorbar": {
             "outlinewidth": 0,
             "ticks": ""
            },
            "type": "mesh3d"
           }
          ],
          "parcoords": [
           {
            "line": {
             "colorbar": {
              "outlinewidth": 0,
              "ticks": ""
             }
            },
            "type": "parcoords"
           }
          ],
          "pie": [
           {
            "automargin": true,
            "type": "pie"
           }
          ],
          "scatter": [
           {
            "fillpattern": {
             "fillmode": "overlay",
             "size": 10,
             "solidity": 0.2
            },
            "type": "scatter"
           }
          ],
          "scatter3d": [
           {
            "line": {
             "colorbar": {
              "outlinewidth": 0,
              "ticks": ""
             }
            },
            "marker": {
             "colorbar": {
              "outlinewidth": 0,
              "ticks": ""
             }
            },
            "type": "scatter3d"
           }
          ],
          "scattercarpet": [
           {
            "marker": {
             "colorbar": {
              "outlinewidth": 0,
              "ticks": ""
             }
            },
            "type": "scattercarpet"
           }
          ],
          "scattergeo": [
           {
            "marker": {
             "colorbar": {
              "outlinewidth": 0,
              "ticks": ""
             }
            },
            "type": "scattergeo"
           }
          ],
          "scattergl": [
           {
            "marker": {
             "colorbar": {
              "outlinewidth": 0,
              "ticks": ""
             }
            },
            "type": "scattergl"
           }
          ],
          "scattermapbox": [
           {
            "marker": {
             "colorbar": {
              "outlinewidth": 0,
              "ticks": ""
             }
            },
            "type": "scattermapbox"
           }
          ],
          "scatterpolar": [
           {
            "marker": {
             "colorbar": {
              "outlinewidth": 0,
              "ticks": ""
             }
            },
            "type": "scatterpolar"
           }
          ],
          "scatterpolargl": [
           {
            "marker": {
             "colorbar": {
              "outlinewidth": 0,
              "ticks": ""
             }
            },
            "type": "scatterpolargl"
           }
          ],
          "scatterternary": [
           {
            "marker": {
             "colorbar": {
              "outlinewidth": 0,
              "ticks": ""
             }
            },
            "type": "scatterternary"
           }
          ],
          "surface": [
           {
            "colorbar": {
             "outlinewidth": 0,
             "ticks": ""
            },
            "colorscale": [
             [
              0,
              "#0d0887"
             ],
             [
              0.1111111111111111,
              "#46039f"
             ],
             [
              0.2222222222222222,
              "#7201a8"
             ],
             [
              0.3333333333333333,
              "#9c179e"
             ],
             [
              0.4444444444444444,
              "#bd3786"
             ],
             [
              0.5555555555555556,
              "#d8576b"
             ],
             [
              0.6666666666666666,
              "#ed7953"
             ],
             [
              0.7777777777777778,
              "#fb9f3a"
             ],
             [
              0.8888888888888888,
              "#fdca26"
             ],
             [
              1,
              "#f0f921"
             ]
            ],
            "type": "surface"
           }
          ],
          "table": [
           {
            "cells": {
             "fill": {
              "color": "#EBF0F8"
             },
             "line": {
              "color": "white"
             }
            },
            "header": {
             "fill": {
              "color": "#C8D4E3"
             },
             "line": {
              "color": "white"
             }
            },
            "type": "table"
           }
          ]
         },
         "layout": {
          "annotationdefaults": {
           "arrowcolor": "#2a3f5f",
           "arrowhead": 0,
           "arrowwidth": 1
          },
          "autotypenumbers": "strict",
          "coloraxis": {
           "colorbar": {
            "outlinewidth": 0,
            "ticks": ""
           }
          },
          "colorscale": {
           "diverging": [
            [
             0,
             "#8e0152"
            ],
            [
             0.1,
             "#c51b7d"
            ],
            [
             0.2,
             "#de77ae"
            ],
            [
             0.3,
             "#f1b6da"
            ],
            [
             0.4,
             "#fde0ef"
            ],
            [
             0.5,
             "#f7f7f7"
            ],
            [
             0.6,
             "#e6f5d0"
            ],
            [
             0.7,
             "#b8e186"
            ],
            [
             0.8,
             "#7fbc41"
            ],
            [
             0.9,
             "#4d9221"
            ],
            [
             1,
             "#276419"
            ]
           ],
           "sequential": [
            [
             0,
             "#0d0887"
            ],
            [
             0.1111111111111111,
             "#46039f"
            ],
            [
             0.2222222222222222,
             "#7201a8"
            ],
            [
             0.3333333333333333,
             "#9c179e"
            ],
            [
             0.4444444444444444,
             "#bd3786"
            ],
            [
             0.5555555555555556,
             "#d8576b"
            ],
            [
             0.6666666666666666,
             "#ed7953"
            ],
            [
             0.7777777777777778,
             "#fb9f3a"
            ],
            [
             0.8888888888888888,
             "#fdca26"
            ],
            [
             1,
             "#f0f921"
            ]
           ],
           "sequentialminus": [
            [
             0,
             "#0d0887"
            ],
            [
             0.1111111111111111,
             "#46039f"
            ],
            [
             0.2222222222222222,
             "#7201a8"
            ],
            [
             0.3333333333333333,
             "#9c179e"
            ],
            [
             0.4444444444444444,
             "#bd3786"
            ],
            [
             0.5555555555555556,
             "#d8576b"
            ],
            [
             0.6666666666666666,
             "#ed7953"
            ],
            [
             0.7777777777777778,
             "#fb9f3a"
            ],
            [
             0.8888888888888888,
             "#fdca26"
            ],
            [
             1,
             "#f0f921"
            ]
           ]
          },
          "colorway": [
           "#636efa",
           "#EF553B",
           "#00cc96",
           "#ab63fa",
           "#FFA15A",
           "#19d3f3",
           "#FF6692",
           "#B6E880",
           "#FF97FF",
           "#FECB52"
          ],
          "font": {
           "color": "#2a3f5f"
          },
          "geo": {
           "bgcolor": "white",
           "lakecolor": "white",
           "landcolor": "#E5ECF6",
           "showlakes": true,
           "showland": true,
           "subunitcolor": "white"
          },
          "hoverlabel": {
           "align": "left"
          },
          "hovermode": "closest",
          "mapbox": {
           "style": "light"
          },
          "paper_bgcolor": "white",
          "plot_bgcolor": "#E5ECF6",
          "polar": {
           "angularaxis": {
            "gridcolor": "white",
            "linecolor": "white",
            "ticks": ""
           },
           "bgcolor": "#E5ECF6",
           "radialaxis": {
            "gridcolor": "white",
            "linecolor": "white",
            "ticks": ""
           }
          },
          "scene": {
           "xaxis": {
            "backgroundcolor": "#E5ECF6",
            "gridcolor": "white",
            "gridwidth": 2,
            "linecolor": "white",
            "showbackground": true,
            "ticks": "",
            "zerolinecolor": "white"
           },
           "yaxis": {
            "backgroundcolor": "#E5ECF6",
            "gridcolor": "white",
            "gridwidth": 2,
            "linecolor": "white",
            "showbackground": true,
            "ticks": "",
            "zerolinecolor": "white"
           },
           "zaxis": {
            "backgroundcolor": "#E5ECF6",
            "gridcolor": "white",
            "gridwidth": 2,
            "linecolor": "white",
            "showbackground": true,
            "ticks": "",
            "zerolinecolor": "white"
           }
          },
          "shapedefaults": {
           "line": {
            "color": "#2a3f5f"
           }
          },
          "ternary": {
           "aaxis": {
            "gridcolor": "white",
            "linecolor": "white",
            "ticks": ""
           },
           "baxis": {
            "gridcolor": "white",
            "linecolor": "white",
            "ticks": ""
           },
           "bgcolor": "#E5ECF6",
           "caxis": {
            "gridcolor": "white",
            "linecolor": "white",
            "ticks": ""
           }
          },
          "title": {
           "x": 0.05
          },
          "xaxis": {
           "automargin": true,
           "gridcolor": "white",
           "linecolor": "white",
           "ticks": "",
           "title": {
            "standoff": 15
           },
           "zerolinecolor": "white",
           "zerolinewidth": 2
          },
          "yaxis": {
           "automargin": true,
           "gridcolor": "white",
           "linecolor": "white",
           "ticks": "",
           "title": {
            "standoff": 15
           },
           "zerolinecolor": "white",
           "zerolinewidth": 2
          }
         }
        },
        "title": {
         "text": "Element Frequency"
        },
        "width": 600,
        "xaxis": {
         "anchor": "y",
         "domain": [
          0,
          0.765
         ]
        },
        "xaxis2": {
         "anchor": "y2",
         "domain": [
          0.865,
          1
         ]
        },
        "yaxis": {
         "anchor": "x",
         "domain": [
          0,
          1
         ]
        },
        "yaxis2": {
         "anchor": "x2",
         "domain": [
          0,
          1
         ]
        }
       }
      }
     },
     "metadata": {},
     "output_type": "display_data"
    }
   ],
   "source": [
    "# Ploting Heatmap\n",
    "\n",
    "# Sorting data\n",
    "df_freq_count = df_freq_count.sort_index()\n",
    "\n",
    "# Creating figure\n",
    "fig = sp.make_subplots(\n",
    "    rows=1, \n",
    "    cols=2,\n",
    "    column_widths=[0.85, 0.15],\n",
    ")\n",
    "\n",
    "# Creating \"Positions\" traces\n",
    "fig.add_trace(\n",
    "    go.Heatmap(\n",
    "        x=[f\"p{i}\" for i in range(NUMBER_OF_ELEMENTS)],\n",
    "        y=df_freq_count.index,\n",
    "        z=df_freq_count / len(df),\n",
    "        coloraxis=f\"coloraxis1\",\n",
    "        name=\"Positions\",\n",
    "    ),\n",
    "    row=1,\n",
    "    col=1,\n",
    ")\n",
    "\n",
    "# Creating \"Total Unique\" trace\n",
    "fig.add_trace(\n",
    "    go.Heatmap(\n",
    "        x=[\"Total\"],\n",
    "        y=df_freq_count.index,\n",
    "        z=df_freq_count[[\"total\"]] / len(df),\n",
    "        coloraxis=f\"coloraxis2\",\n",
    "        name=\"Total\",\n",
    "    ),\n",
    "    row=1,\n",
    "    col=2,\n",
    ")\n",
    "\n",
    "# Updating layout\n",
    "fig.update_layout(\n",
    "    title=\"Element Frequency\",\n",
    "    height=600,\n",
    "    width=600,\n",
    "    coloraxis1=dict(\n",
    "        showscale=False,\n",
    "        colorscale=\"Portland\",\n",
    "    ),\n",
    "    coloraxis2=dict(\n",
    "        showscale=False,\n",
    "        colorscale=\"Portland\",\n",
    "    ),\n",
    ")\n",
    "\n",
    "# Showing figure\n",
    "fig.show()"
   ]
  },
  {
   "cell_type": "code",
   "execution_count": 15,
   "metadata": {},
   "outputs": [
    {
     "data": {
      "application/vnd.plotly.v1+json": {
       "config": {
        "plotlyServerURL": "https://plot.ly"
       },
       "data": [
        {
         "name": "p0",
         "type": "bar",
         "x": [
          "1",
          "2",
          "3",
          "4",
          "9",
          "6",
          "5",
          "8",
          "7",
          "*",
          "+",
          "-",
          "/",
          "0",
          "="
         ],
         "xaxis": "x",
         "y": [
          0.18365965130056988,
          0.11888506460531513,
          0.10579473001184901,
          0.10415843818766575,
          0.10156294081137505,
          0.09778254245895164,
          0.0968233369068442,
          0.09637194605879366,
          0.09496134965863567,
          0,
          0,
          0,
          0,
          0,
          0
         ],
         "yaxis": "y"
        },
        {
         "name": "p1",
         "type": "bar",
         "x": [
          "*",
          "+",
          "0",
          "2",
          "4",
          "6",
          "8",
          "5",
          "1",
          "3",
          "7",
          "9",
          "-",
          "/",
          "="
         ],
         "xaxis": "x2",
         "y": [
          0.1680302431868194,
          0.11296055972465158,
          0.08350730688935282,
          0.07289962196016475,
          0.06996558144783614,
          0.06737008407154545,
          0.06539524911132427,
          0.06421034813519155,
          0.06392822885515996,
          0.06031710207075552,
          0.05704451842238899,
          0.05439259719009197,
          0.03661908254810134,
          0.02335947638661626,
          0
         ],
         "yaxis": "y2"
        },
        {
         "name": "p2",
         "type": "bar",
         "x": [
          "-",
          "+",
          "/",
          "1",
          "8",
          "6",
          "2",
          "4",
          "9",
          "*",
          "5",
          "7",
          "3",
          "0",
          "="
         ],
         "xaxis": "x3",
         "y": [
          0.27247080065451673,
          0.1921232297015178,
          0.07639790103255656,
          0.059132201094622805,
          0.04762173446933363,
          0.045251932517068216,
          0.04474411781301134,
          0.04451842238898606,
          0.04378491226090391,
          0.04367206454889127,
          0.04118941488461322,
          0.03802967894825932,
          0.0365062348360887,
          0.014557354849630423,
          0
         ],
         "yaxis": "y3"
        },
        {
         "name": "p3",
         "type": "bar",
         "x": [
          "1",
          "2",
          "3",
          "+",
          "4",
          "/",
          "-",
          "5",
          "*",
          "6",
          "7",
          "8",
          "9",
          "0",
          "="
         ],
         "xaxis": "x4",
         "y": [
          0.11380691756474637,
          0.10997009535631665,
          0.09281724313039554,
          0.09061671274614908,
          0.08728770524177622,
          0.08615922812164983,
          0.07464876149636065,
          0.07453591378434803,
          0.07086836314393725,
          0.0643231958472042,
          0.048524516165434746,
          0.041922925012695365,
          0.030299610675393555,
          0.014218811713592508,
          0
         ],
         "yaxis": "y4"
        },
        {
         "name": "p4",
         "type": "bar",
         "x": [
          "-",
          "1",
          "2",
          "=",
          "3",
          "4",
          "5",
          "6",
          "9",
          "7",
          "8",
          "/",
          "*",
          "0",
          "+"
         ],
         "xaxis": "x5",
         "y": [
          0.09586413135473679,
          0.0956384359307115,
          0.07611578175252497,
          0.07436664221632906,
          0.07227895954409524,
          0.07058624386390566,
          0.06816001805563392,
          0.0672572363595328,
          0.06686226936748857,
          0.06539524911132427,
          0.06500028211928004,
          0.06223551317497038,
          0.0530384246459403,
          0.04062517632455002,
          0.026575636178976472
         ],
         "yaxis": "y5"
        },
        {
         "name": "p5",
         "type": "bar",
         "x": [
          "=",
          "1",
          "2",
          "3",
          "4",
          "5",
          "6",
          "8",
          "7",
          "9",
          "0",
          "*",
          "+",
          "-",
          "/"
         ],
         "xaxis": "x6",
         "y": [
          0.5932968459064493,
          0.059978558934717596,
          0.05089431811770016,
          0.044405574676973425,
          0.04417987925294815,
          0.04096371946058794,
          0.04073802403656266,
          0.039214579924392035,
          0.03695762568413925,
          0.036449810980082376,
          0.012921063025447158,
          0,
          0,
          0,
          0
         ],
         "yaxis": "y6"
        },
        {
         "name": "p6",
         "type": "bar",
         "x": [
          "=",
          "1",
          "2",
          "3",
          "4",
          "5",
          "6",
          "9",
          "7",
          "8",
          "0",
          "*",
          "+",
          "-",
          "/"
         ],
         "xaxis": "x7",
         "y": [
          0.3323365118772217,
          0.14247023641595666,
          0.0852000225695424,
          0.07024770072786775,
          0.06691869322349489,
          0.06178412232691982,
          0.05952716808666704,
          0.057778028550471136,
          0.05659312757433843,
          0.055069683462167805,
          0.012074705185352367,
          0,
          0,
          0,
          0
         ],
         "yaxis": "y7"
        },
        {
         "name": "p7",
         "type": "bar",
         "x": [
          "8",
          "2",
          "6",
          "4",
          "0",
          "5",
          "9",
          "1",
          "7",
          "3",
          "*",
          "+",
          "-",
          "/",
          "="
         ],
         "xaxis": "x8",
         "y": [
          0.10613327314788693,
          0.10539976301980478,
          0.10404559047565311,
          0.10376347119562151,
          0.10325565649156464,
          0.09817750945099588,
          0.09693618461885685,
          0.09580770749873047,
          0.09349432940247136,
          0.09298651469841449,
          0,
          0,
          0,
          0,
          0
         ],
         "yaxis": "y8"
        },
        {
         "name": "Total",
         "type": "bar",
         "x": [
          "=",
          "1",
          "2",
          "4",
          "3",
          "6",
          "-",
          "5",
          "8",
          "7",
          "9",
          "+",
          "*",
          "0",
          "/"
         ],
         "xaxis": "x9",
         "y": [
          1,
          0.607572081476048,
          0.5232748406026068,
          0.47215482706088135,
          0.46408621565197766,
          0.4509394572025052,
          0.4406703154093551,
          0.4332223664165209,
          0.42814421937595215,
          0.4104271285899678,
          0.4061389155334876,
          0.3858827512272189,
          0.3145065733792247,
          0.2518760932122101,
          0.22704959656942955
         ],
         "yaxis": "y9"
        }
       ],
       "layout": {
        "height": 1000,
        "showlegend": false,
        "template": {
         "data": {
          "bar": [
           {
            "error_x": {
             "color": "#2a3f5f"
            },
            "error_y": {
             "color": "#2a3f5f"
            },
            "marker": {
             "line": {
              "color": "#E5ECF6",
              "width": 0.5
             },
             "pattern": {
              "fillmode": "overlay",
              "size": 10,
              "solidity": 0.2
             }
            },
            "type": "bar"
           }
          ],
          "barpolar": [
           {
            "marker": {
             "line": {
              "color": "#E5ECF6",
              "width": 0.5
             },
             "pattern": {
              "fillmode": "overlay",
              "size": 10,
              "solidity": 0.2
             }
            },
            "type": "barpolar"
           }
          ],
          "carpet": [
           {
            "aaxis": {
             "endlinecolor": "#2a3f5f",
             "gridcolor": "white",
             "linecolor": "white",
             "minorgridcolor": "white",
             "startlinecolor": "#2a3f5f"
            },
            "baxis": {
             "endlinecolor": "#2a3f5f",
             "gridcolor": "white",
             "linecolor": "white",
             "minorgridcolor": "white",
             "startlinecolor": "#2a3f5f"
            },
            "type": "carpet"
           }
          ],
          "choropleth": [
           {
            "colorbar": {
             "outlinewidth": 0,
             "ticks": ""
            },
            "type": "choropleth"
           }
          ],
          "contour": [
           {
            "colorbar": {
             "outlinewidth": 0,
             "ticks": ""
            },
            "colorscale": [
             [
              0,
              "#0d0887"
             ],
             [
              0.1111111111111111,
              "#46039f"
             ],
             [
              0.2222222222222222,
              "#7201a8"
             ],
             [
              0.3333333333333333,
              "#9c179e"
             ],
             [
              0.4444444444444444,
              "#bd3786"
             ],
             [
              0.5555555555555556,
              "#d8576b"
             ],
             [
              0.6666666666666666,
              "#ed7953"
             ],
             [
              0.7777777777777778,
              "#fb9f3a"
             ],
             [
              0.8888888888888888,
              "#fdca26"
             ],
             [
              1,
              "#f0f921"
             ]
            ],
            "type": "contour"
           }
          ],
          "contourcarpet": [
           {
            "colorbar": {
             "outlinewidth": 0,
             "ticks": ""
            },
            "type": "contourcarpet"
           }
          ],
          "heatmap": [
           {
            "colorbar": {
             "outlinewidth": 0,
             "ticks": ""
            },
            "colorscale": [
             [
              0,
              "#0d0887"
             ],
             [
              0.1111111111111111,
              "#46039f"
             ],
             [
              0.2222222222222222,
              "#7201a8"
             ],
             [
              0.3333333333333333,
              "#9c179e"
             ],
             [
              0.4444444444444444,
              "#bd3786"
             ],
             [
              0.5555555555555556,
              "#d8576b"
             ],
             [
              0.6666666666666666,
              "#ed7953"
             ],
             [
              0.7777777777777778,
              "#fb9f3a"
             ],
             [
              0.8888888888888888,
              "#fdca26"
             ],
             [
              1,
              "#f0f921"
             ]
            ],
            "type": "heatmap"
           }
          ],
          "heatmapgl": [
           {
            "colorbar": {
             "outlinewidth": 0,
             "ticks": ""
            },
            "colorscale": [
             [
              0,
              "#0d0887"
             ],
             [
              0.1111111111111111,
              "#46039f"
             ],
             [
              0.2222222222222222,
              "#7201a8"
             ],
             [
              0.3333333333333333,
              "#9c179e"
             ],
             [
              0.4444444444444444,
              "#bd3786"
             ],
             [
              0.5555555555555556,
              "#d8576b"
             ],
             [
              0.6666666666666666,
              "#ed7953"
             ],
             [
              0.7777777777777778,
              "#fb9f3a"
             ],
             [
              0.8888888888888888,
              "#fdca26"
             ],
             [
              1,
              "#f0f921"
             ]
            ],
            "type": "heatmapgl"
           }
          ],
          "histogram": [
           {
            "marker": {
             "pattern": {
              "fillmode": "overlay",
              "size": 10,
              "solidity": 0.2
             }
            },
            "type": "histogram"
           }
          ],
          "histogram2d": [
           {
            "colorbar": {
             "outlinewidth": 0,
             "ticks": ""
            },
            "colorscale": [
             [
              0,
              "#0d0887"
             ],
             [
              0.1111111111111111,
              "#46039f"
             ],
             [
              0.2222222222222222,
              "#7201a8"
             ],
             [
              0.3333333333333333,
              "#9c179e"
             ],
             [
              0.4444444444444444,
              "#bd3786"
             ],
             [
              0.5555555555555556,
              "#d8576b"
             ],
             [
              0.6666666666666666,
              "#ed7953"
             ],
             [
              0.7777777777777778,
              "#fb9f3a"
             ],
             [
              0.8888888888888888,
              "#fdca26"
             ],
             [
              1,
              "#f0f921"
             ]
            ],
            "type": "histogram2d"
           }
          ],
          "histogram2dcontour": [
           {
            "colorbar": {
             "outlinewidth": 0,
             "ticks": ""
            },
            "colorscale": [
             [
              0,
              "#0d0887"
             ],
             [
              0.1111111111111111,
              "#46039f"
             ],
             [
              0.2222222222222222,
              "#7201a8"
             ],
             [
              0.3333333333333333,
              "#9c179e"
             ],
             [
              0.4444444444444444,
              "#bd3786"
             ],
             [
              0.5555555555555556,
              "#d8576b"
             ],
             [
              0.6666666666666666,
              "#ed7953"
             ],
             [
              0.7777777777777778,
              "#fb9f3a"
             ],
             [
              0.8888888888888888,
              "#fdca26"
             ],
             [
              1,
              "#f0f921"
             ]
            ],
            "type": "histogram2dcontour"
           }
          ],
          "mesh3d": [
           {
            "colorbar": {
             "outlinewidth": 0,
             "ticks": ""
            },
            "type": "mesh3d"
           }
          ],
          "parcoords": [
           {
            "line": {
             "colorbar": {
              "outlinewidth": 0,
              "ticks": ""
             }
            },
            "type": "parcoords"
           }
          ],
          "pie": [
           {
            "automargin": true,
            "type": "pie"
           }
          ],
          "scatter": [
           {
            "fillpattern": {
             "fillmode": "overlay",
             "size": 10,
             "solidity": 0.2
            },
            "type": "scatter"
           }
          ],
          "scatter3d": [
           {
            "line": {
             "colorbar": {
              "outlinewidth": 0,
              "ticks": ""
             }
            },
            "marker": {
             "colorbar": {
              "outlinewidth": 0,
              "ticks": ""
             }
            },
            "type": "scatter3d"
           }
          ],
          "scattercarpet": [
           {
            "marker": {
             "colorbar": {
              "outlinewidth": 0,
              "ticks": ""
             }
            },
            "type": "scattercarpet"
           }
          ],
          "scattergeo": [
           {
            "marker": {
             "colorbar": {
              "outlinewidth": 0,
              "ticks": ""
             }
            },
            "type": "scattergeo"
           }
          ],
          "scattergl": [
           {
            "marker": {
             "colorbar": {
              "outlinewidth": 0,
              "ticks": ""
             }
            },
            "type": "scattergl"
           }
          ],
          "scattermapbox": [
           {
            "marker": {
             "colorbar": {
              "outlinewidth": 0,
              "ticks": ""
             }
            },
            "type": "scattermapbox"
           }
          ],
          "scatterpolar": [
           {
            "marker": {
             "colorbar": {
              "outlinewidth": 0,
              "ticks": ""
             }
            },
            "type": "scatterpolar"
           }
          ],
          "scatterpolargl": [
           {
            "marker": {
             "colorbar": {
              "outlinewidth": 0,
              "ticks": ""
             }
            },
            "type": "scatterpolargl"
           }
          ],
          "scatterternary": [
           {
            "marker": {
             "colorbar": {
              "outlinewidth": 0,
              "ticks": ""
             }
            },
            "type": "scatterternary"
           }
          ],
          "surface": [
           {
            "colorbar": {
             "outlinewidth": 0,
             "ticks": ""
            },
            "colorscale": [
             [
              0,
              "#0d0887"
             ],
             [
              0.1111111111111111,
              "#46039f"
             ],
             [
              0.2222222222222222,
              "#7201a8"
             ],
             [
              0.3333333333333333,
              "#9c179e"
             ],
             [
              0.4444444444444444,
              "#bd3786"
             ],
             [
              0.5555555555555556,
              "#d8576b"
             ],
             [
              0.6666666666666666,
              "#ed7953"
             ],
             [
              0.7777777777777778,
              "#fb9f3a"
             ],
             [
              0.8888888888888888,
              "#fdca26"
             ],
             [
              1,
              "#f0f921"
             ]
            ],
            "type": "surface"
           }
          ],
          "table": [
           {
            "cells": {
             "fill": {
              "color": "#EBF0F8"
             },
             "line": {
              "color": "white"
             }
            },
            "header": {
             "fill": {
              "color": "#C8D4E3"
             },
             "line": {
              "color": "white"
             }
            },
            "type": "table"
           }
          ]
         },
         "layout": {
          "annotationdefaults": {
           "arrowcolor": "#2a3f5f",
           "arrowhead": 0,
           "arrowwidth": 1
          },
          "autotypenumbers": "strict",
          "coloraxis": {
           "colorbar": {
            "outlinewidth": 0,
            "ticks": ""
           }
          },
          "colorscale": {
           "diverging": [
            [
             0,
             "#8e0152"
            ],
            [
             0.1,
             "#c51b7d"
            ],
            [
             0.2,
             "#de77ae"
            ],
            [
             0.3,
             "#f1b6da"
            ],
            [
             0.4,
             "#fde0ef"
            ],
            [
             0.5,
             "#f7f7f7"
            ],
            [
             0.6,
             "#e6f5d0"
            ],
            [
             0.7,
             "#b8e186"
            ],
            [
             0.8,
             "#7fbc41"
            ],
            [
             0.9,
             "#4d9221"
            ],
            [
             1,
             "#276419"
            ]
           ],
           "sequential": [
            [
             0,
             "#0d0887"
            ],
            [
             0.1111111111111111,
             "#46039f"
            ],
            [
             0.2222222222222222,
             "#7201a8"
            ],
            [
             0.3333333333333333,
             "#9c179e"
            ],
            [
             0.4444444444444444,
             "#bd3786"
            ],
            [
             0.5555555555555556,
             "#d8576b"
            ],
            [
             0.6666666666666666,
             "#ed7953"
            ],
            [
             0.7777777777777778,
             "#fb9f3a"
            ],
            [
             0.8888888888888888,
             "#fdca26"
            ],
            [
             1,
             "#f0f921"
            ]
           ],
           "sequentialminus": [
            [
             0,
             "#0d0887"
            ],
            [
             0.1111111111111111,
             "#46039f"
            ],
            [
             0.2222222222222222,
             "#7201a8"
            ],
            [
             0.3333333333333333,
             "#9c179e"
            ],
            [
             0.4444444444444444,
             "#bd3786"
            ],
            [
             0.5555555555555556,
             "#d8576b"
            ],
            [
             0.6666666666666666,
             "#ed7953"
            ],
            [
             0.7777777777777778,
             "#fb9f3a"
            ],
            [
             0.8888888888888888,
             "#fdca26"
            ],
            [
             1,
             "#f0f921"
            ]
           ]
          },
          "colorway": [
           "#636efa",
           "#EF553B",
           "#00cc96",
           "#ab63fa",
           "#FFA15A",
           "#19d3f3",
           "#FF6692",
           "#B6E880",
           "#FF97FF",
           "#FECB52"
          ],
          "font": {
           "color": "#2a3f5f"
          },
          "geo": {
           "bgcolor": "white",
           "lakecolor": "white",
           "landcolor": "#E5ECF6",
           "showlakes": true,
           "showland": true,
           "subunitcolor": "white"
          },
          "hoverlabel": {
           "align": "left"
          },
          "hovermode": "closest",
          "mapbox": {
           "style": "light"
          },
          "paper_bgcolor": "white",
          "plot_bgcolor": "#E5ECF6",
          "polar": {
           "angularaxis": {
            "gridcolor": "white",
            "linecolor": "white",
            "ticks": ""
           },
           "bgcolor": "#E5ECF6",
           "radialaxis": {
            "gridcolor": "white",
            "linecolor": "white",
            "ticks": ""
           }
          },
          "scene": {
           "xaxis": {
            "backgroundcolor": "#E5ECF6",
            "gridcolor": "white",
            "gridwidth": 2,
            "linecolor": "white",
            "showbackground": true,
            "ticks": "",
            "zerolinecolor": "white"
           },
           "yaxis": {
            "backgroundcolor": "#E5ECF6",
            "gridcolor": "white",
            "gridwidth": 2,
            "linecolor": "white",
            "showbackground": true,
            "ticks": "",
            "zerolinecolor": "white"
           },
           "zaxis": {
            "backgroundcolor": "#E5ECF6",
            "gridcolor": "white",
            "gridwidth": 2,
            "linecolor": "white",
            "showbackground": true,
            "ticks": "",
            "zerolinecolor": "white"
           }
          },
          "shapedefaults": {
           "line": {
            "color": "#2a3f5f"
           }
          },
          "ternary": {
           "aaxis": {
            "gridcolor": "white",
            "linecolor": "white",
            "ticks": ""
           },
           "baxis": {
            "gridcolor": "white",
            "linecolor": "white",
            "ticks": ""
           },
           "bgcolor": "#E5ECF6",
           "caxis": {
            "gridcolor": "white",
            "linecolor": "white",
            "ticks": ""
           }
          },
          "title": {
           "x": 0.05
          },
          "xaxis": {
           "automargin": true,
           "gridcolor": "white",
           "linecolor": "white",
           "ticks": "",
           "title": {
            "standoff": 15
           },
           "zerolinecolor": "white",
           "zerolinewidth": 2
          },
          "yaxis": {
           "automargin": true,
           "gridcolor": "white",
           "linecolor": "white",
           "ticks": "",
           "title": {
            "standoff": 15
           },
           "zerolinecolor": "white",
           "zerolinewidth": 2
          }
         }
        },
        "title": {
         "text": "Element frequency"
        },
        "width": 1000,
        "xaxis": {
         "anchor": "y",
         "domain": [
          0,
          1
         ]
        },
        "xaxis2": {
         "anchor": "y2",
         "domain": [
          0,
          1
         ]
        },
        "xaxis3": {
         "anchor": "y3",
         "domain": [
          0,
          1
         ]
        },
        "xaxis4": {
         "anchor": "y4",
         "domain": [
          0,
          1
         ]
        },
        "xaxis5": {
         "anchor": "y5",
         "domain": [
          0,
          1
         ]
        },
        "xaxis6": {
         "anchor": "y6",
         "domain": [
          0,
          1
         ]
        },
        "xaxis7": {
         "anchor": "y7",
         "domain": [
          0,
          1
         ]
        },
        "xaxis8": {
         "anchor": "y8",
         "domain": [
          0,
          1
         ]
        },
        "xaxis9": {
         "anchor": "y9",
         "domain": [
          0,
          1
         ]
        },
        "yaxis": {
         "anchor": "x",
         "domain": [
          0.9185185185185185,
          1
         ],
         "title": {
          "text": "p0"
         }
        },
        "yaxis2": {
         "anchor": "x2",
         "domain": [
          0.8037037037037038,
          0.8851851851851853
         ],
         "title": {
          "text": "p1"
         }
        },
        "yaxis3": {
         "anchor": "x3",
         "domain": [
          0.6888888888888889,
          0.7703703703703704
         ],
         "title": {
          "text": "p2"
         }
        },
        "yaxis4": {
         "anchor": "x4",
         "domain": [
          0.5740740740740741,
          0.6555555555555556
         ],
         "title": {
          "text": "p3"
         }
        },
        "yaxis5": {
         "anchor": "x5",
         "domain": [
          0.45925925925925926,
          0.5407407407407407
         ],
         "title": {
          "text": "p4"
         }
        },
        "yaxis6": {
         "anchor": "x6",
         "domain": [
          0.34444444444444444,
          0.42592592592592593
         ],
         "title": {
          "text": "p5"
         }
        },
        "yaxis7": {
         "anchor": "x7",
         "domain": [
          0.22962962962962963,
          0.3111111111111111
         ],
         "title": {
          "text": "p6"
         }
        },
        "yaxis8": {
         "anchor": "x8",
         "domain": [
          0.11481481481481481,
          0.1962962962962963
         ],
         "title": {
          "text": "p7"
         }
        },
        "yaxis9": {
         "anchor": "x9",
         "domain": [
          0,
          0.08148148148148149
         ],
         "title": {
          "text": "Total"
         }
        }
       }
      }
     },
     "metadata": {},
     "output_type": "display_data"
    }
   ],
   "source": [
    "# Ploting Bars\n",
    "\n",
    "# Creating figure\n",
    "fig = sp.make_subplots(\n",
    "    rows=NUMBER_OF_ELEMENTS + 1, \n",
    "    cols=1,\n",
    ")\n",
    "\n",
    "# Creating a trace for each position\n",
    "for i, position in enumerate(df[\"positions\"].columns):\n",
    "\n",
    "    # Sorting the data\n",
    "    df_temp = df_freq_count.sort_values(by=position, ascending=False)\n",
    "\n",
    "    # Creating the trace\n",
    "    fig.add_trace(\n",
    "        go.Bar(\n",
    "            x=df_temp.index,\n",
    "            y=df_temp[position] / len(df),\n",
    "            name=position,\n",
    "        ),\n",
    "        row=i+1,\n",
    "        col=1,\n",
    "    )\n",
    "\n",
    "# Creating a trace for the \"Total\"\n",
    "df_freq_count = df_freq_count.sort_values(by=\"total\", ascending=False)\n",
    "\n",
    "fig.add_trace(\n",
    "    go.Bar(\n",
    "        x=df_freq_count.index,\n",
    "        y=df_freq_count[\"total\"] / len(df),\n",
    "        name=\"Total\",\n",
    "    ),\n",
    "    row=NUMBER_OF_ELEMENTS + 1,\n",
    "    col=1,\n",
    ")\n",
    "\n",
    "titles_positions = {f\"yaxis{i + 1}_title\": position for i, position in enumerate(df[\"positions\"].columns)}\n",
    "title_total = {f\"yaxis{NUMBER_OF_ELEMENTS + 1}_title\": \"Total\"}\n",
    "\n",
    "# Updating the layout\n",
    "fig.update_layout(\n",
    "    title=\"Element frequency\",\n",
    "    height=1000,\n",
    "    width=1000,\n",
    "    showlegend=False,\n",
    "    **titles_positions,\n",
    ")\n",
    "\n",
    "fig.update_layout(\n",
    "    **title_total,\n",
    ")\n",
    "\n",
    "# Showing the figure\n",
    "fig.show()"
   ]
  },
  {
   "cell_type": "markdown",
   "metadata": {},
   "source": [
    "# Correlating elements"
   ]
  },
  {
   "cell_type": "code",
   "execution_count": 16,
   "metadata": {},
   "outputs": [
    {
     "data": {
      "text/html": [
       "<div>\n",
       "<style scoped>\n",
       "    .dataframe tbody tr th:only-of-type {\n",
       "        vertical-align: middle;\n",
       "    }\n",
       "\n",
       "    .dataframe tbody tr th {\n",
       "        vertical-align: top;\n",
       "    }\n",
       "\n",
       "    .dataframe thead th {\n",
       "        text-align: right;\n",
       "    }\n",
       "</style>\n",
       "<table border=\"1\" class=\"dataframe\">\n",
       "  <thead>\n",
       "    <tr style=\"text-align: right;\">\n",
       "      <th></th>\n",
       "      <th>1</th>\n",
       "      <th>2</th>\n",
       "      <th>3</th>\n",
       "      <th>4</th>\n",
       "      <th>5</th>\n",
       "      <th>6</th>\n",
       "      <th>8</th>\n",
       "      <th>7</th>\n",
       "      <th>9</th>\n",
       "      <th>0</th>\n",
       "      <th>+</th>\n",
       "      <th>-</th>\n",
       "      <th>*</th>\n",
       "      <th>/</th>\n",
       "      <th>=</th>\n",
       "    </tr>\n",
       "  </thead>\n",
       "  <tbody>\n",
       "    <tr>\n",
       "      <th>1</th>\n",
       "      <td>1.000000</td>\n",
       "      <td>-0.195539</td>\n",
       "      <td>-0.148369</td>\n",
       "      <td>-0.171905</td>\n",
       "      <td>-0.134690</td>\n",
       "      <td>-0.133678</td>\n",
       "      <td>-0.129248</td>\n",
       "      <td>-0.107230</td>\n",
       "      <td>-0.118694</td>\n",
       "      <td>-0.096194</td>\n",
       "      <td>0.131378</td>\n",
       "      <td>0.087631</td>\n",
       "      <td>-0.090774</td>\n",
       "      <td>-0.041223</td>\n",
       "      <td>NaN</td>\n",
       "    </tr>\n",
       "    <tr>\n",
       "      <th>2</th>\n",
       "      <td>-0.195539</td>\n",
       "      <td>1.000000</td>\n",
       "      <td>-0.144566</td>\n",
       "      <td>-0.078516</td>\n",
       "      <td>-0.123496</td>\n",
       "      <td>-0.081092</td>\n",
       "      <td>-0.092887</td>\n",
       "      <td>-0.080238</td>\n",
       "      <td>-0.134354</td>\n",
       "      <td>-0.076497</td>\n",
       "      <td>-0.039783</td>\n",
       "      <td>-0.063548</td>\n",
       "      <td>0.007000</td>\n",
       "      <td>0.036211</td>\n",
       "      <td>NaN</td>\n",
       "    </tr>\n",
       "    <tr>\n",
       "      <th>3</th>\n",
       "      <td>-0.148369</td>\n",
       "      <td>-0.144566</td>\n",
       "      <td>1.000000</td>\n",
       "      <td>-0.123292</td>\n",
       "      <td>-0.055652</td>\n",
       "      <td>-0.077206</td>\n",
       "      <td>-0.119792</td>\n",
       "      <td>-0.081789</td>\n",
       "      <td>-0.086170</td>\n",
       "      <td>-0.088936</td>\n",
       "      <td>-0.021826</td>\n",
       "      <td>-0.032351</td>\n",
       "      <td>-0.019215</td>\n",
       "      <td>-0.048761</td>\n",
       "      <td>NaN</td>\n",
       "    </tr>\n",
       "    <tr>\n",
       "      <th>4</th>\n",
       "      <td>-0.171905</td>\n",
       "      <td>-0.078516</td>\n",
       "      <td>-0.123292</td>\n",
       "      <td>1.000000</td>\n",
       "      <td>-0.139911</td>\n",
       "      <td>-0.092684</td>\n",
       "      <td>-0.059329</td>\n",
       "      <td>-0.111644</td>\n",
       "      <td>-0.117086</td>\n",
       "      <td>-0.063442</td>\n",
       "      <td>-0.056458</td>\n",
       "      <td>-0.055092</td>\n",
       "      <td>0.005434</td>\n",
       "      <td>0.017828</td>\n",
       "      <td>NaN</td>\n",
       "    </tr>\n",
       "    <tr>\n",
       "      <th>5</th>\n",
       "      <td>-0.134690</td>\n",
       "      <td>-0.123496</td>\n",
       "      <td>-0.055652</td>\n",
       "      <td>-0.139911</td>\n",
       "      <td>1.000000</td>\n",
       "      <td>-0.158886</td>\n",
       "      <td>-0.138367</td>\n",
       "      <td>-0.089452</td>\n",
       "      <td>-0.087853</td>\n",
       "      <td>-0.001207</td>\n",
       "      <td>-0.029890</td>\n",
       "      <td>-0.030587</td>\n",
       "      <td>-0.021052</td>\n",
       "      <td>-0.029951</td>\n",
       "      <td>NaN</td>\n",
       "    </tr>\n",
       "    <tr>\n",
       "      <th>...</th>\n",
       "      <td>...</td>\n",
       "      <td>...</td>\n",
       "      <td>...</td>\n",
       "      <td>...</td>\n",
       "      <td>...</td>\n",
       "      <td>...</td>\n",
       "      <td>...</td>\n",
       "      <td>...</td>\n",
       "      <td>...</td>\n",
       "      <td>...</td>\n",
       "      <td>...</td>\n",
       "      <td>...</td>\n",
       "      <td>...</td>\n",
       "      <td>...</td>\n",
       "      <td>...</td>\n",
       "    </tr>\n",
       "    <tr>\n",
       "      <th>+</th>\n",
       "      <td>0.131378</td>\n",
       "      <td>-0.039783</td>\n",
       "      <td>-0.021826</td>\n",
       "      <td>-0.056458</td>\n",
       "      <td>-0.029890</td>\n",
       "      <td>-0.046002</td>\n",
       "      <td>-0.026780</td>\n",
       "      <td>0.000979</td>\n",
       "      <td>0.028822</td>\n",
       "      <td>-0.036919</td>\n",
       "      <td>1.000000</td>\n",
       "      <td>-0.444895</td>\n",
       "      <td>-0.235123</td>\n",
       "      <td>-0.282373</td>\n",
       "      <td>NaN</td>\n",
       "    </tr>\n",
       "    <tr>\n",
       "      <th>-</th>\n",
       "      <td>0.087631</td>\n",
       "      <td>-0.063548</td>\n",
       "      <td>-0.032351</td>\n",
       "      <td>-0.055092</td>\n",
       "      <td>-0.030587</td>\n",
       "      <td>-0.044087</td>\n",
       "      <td>-0.032546</td>\n",
       "      <td>-0.002501</td>\n",
       "      <td>0.015119</td>\n",
       "      <td>0.004749</td>\n",
       "      <td>-0.444895</td>\n",
       "      <td>1.000000</td>\n",
       "      <td>-0.211522</td>\n",
       "      <td>-0.230330</td>\n",
       "      <td>NaN</td>\n",
       "    </tr>\n",
       "    <tr>\n",
       "      <th>*</th>\n",
       "      <td>-0.090774</td>\n",
       "      <td>0.007000</td>\n",
       "      <td>-0.019215</td>\n",
       "      <td>0.005434</td>\n",
       "      <td>-0.021052</td>\n",
       "      <td>-0.001189</td>\n",
       "      <td>-0.003368</td>\n",
       "      <td>-0.034259</td>\n",
       "      <td>-0.056877</td>\n",
       "      <td>-0.090972</td>\n",
       "      <td>-0.235123</td>\n",
       "      <td>-0.211522</td>\n",
       "      <td>1.000000</td>\n",
       "      <td>-0.127370</td>\n",
       "      <td>NaN</td>\n",
       "    </tr>\n",
       "    <tr>\n",
       "      <th>/</th>\n",
       "      <td>-0.041223</td>\n",
       "      <td>0.036211</td>\n",
       "      <td>-0.048761</td>\n",
       "      <td>0.017828</td>\n",
       "      <td>-0.029951</td>\n",
       "      <td>0.008409</td>\n",
       "      <td>0.014044</td>\n",
       "      <td>-0.062435</td>\n",
       "      <td>-0.067988</td>\n",
       "      <td>-0.006451</td>\n",
       "      <td>-0.282373</td>\n",
       "      <td>-0.230330</td>\n",
       "      <td>-0.127370</td>\n",
       "      <td>1.000000</td>\n",
       "      <td>NaN</td>\n",
       "    </tr>\n",
       "    <tr>\n",
       "      <th>=</th>\n",
       "      <td>NaN</td>\n",
       "      <td>NaN</td>\n",
       "      <td>NaN</td>\n",
       "      <td>NaN</td>\n",
       "      <td>NaN</td>\n",
       "      <td>NaN</td>\n",
       "      <td>NaN</td>\n",
       "      <td>NaN</td>\n",
       "      <td>NaN</td>\n",
       "      <td>NaN</td>\n",
       "      <td>NaN</td>\n",
       "      <td>NaN</td>\n",
       "      <td>NaN</td>\n",
       "      <td>NaN</td>\n",
       "      <td>NaN</td>\n",
       "    </tr>\n",
       "  </tbody>\n",
       "</table>\n",
       "<p>15 rows × 15 columns</p>\n",
       "</div>"
      ],
      "text/plain": [
       "           1         2         3         4         5         6         8  \\\n",
       "1   1.000000 -0.195539 -0.148369 -0.171905 -0.134690 -0.133678 -0.129248   \n",
       "2  -0.195539  1.000000 -0.144566 -0.078516 -0.123496 -0.081092 -0.092887   \n",
       "3  -0.148369 -0.144566  1.000000 -0.123292 -0.055652 -0.077206 -0.119792   \n",
       "4  -0.171905 -0.078516 -0.123292  1.000000 -0.139911 -0.092684 -0.059329   \n",
       "5  -0.134690 -0.123496 -0.055652 -0.139911  1.000000 -0.158886 -0.138367   \n",
       "..       ...       ...       ...       ...       ...       ...       ...   \n",
       "+   0.131378 -0.039783 -0.021826 -0.056458 -0.029890 -0.046002 -0.026780   \n",
       "-   0.087631 -0.063548 -0.032351 -0.055092 -0.030587 -0.044087 -0.032546   \n",
       "*  -0.090774  0.007000 -0.019215  0.005434 -0.021052 -0.001189 -0.003368   \n",
       "/  -0.041223  0.036211 -0.048761  0.017828 -0.029951  0.008409  0.014044   \n",
       "=        NaN       NaN       NaN       NaN       NaN       NaN       NaN   \n",
       "\n",
       "           7         9         0         +         -         *         /   =  \n",
       "1  -0.107230 -0.118694 -0.096194  0.131378  0.087631 -0.090774 -0.041223 NaN  \n",
       "2  -0.080238 -0.134354 -0.076497 -0.039783 -0.063548  0.007000  0.036211 NaN  \n",
       "3  -0.081789 -0.086170 -0.088936 -0.021826 -0.032351 -0.019215 -0.048761 NaN  \n",
       "4  -0.111644 -0.117086 -0.063442 -0.056458 -0.055092  0.005434  0.017828 NaN  \n",
       "5  -0.089452 -0.087853 -0.001207 -0.029890 -0.030587 -0.021052 -0.029951 NaN  \n",
       "..       ...       ...       ...       ...       ...       ...       ...  ..  \n",
       "+   0.000979  0.028822 -0.036919  1.000000 -0.444895 -0.235123 -0.282373 NaN  \n",
       "-  -0.002501  0.015119  0.004749 -0.444895  1.000000 -0.211522 -0.230330 NaN  \n",
       "*  -0.034259 -0.056877 -0.090972 -0.235123 -0.211522  1.000000 -0.127370 NaN  \n",
       "/  -0.062435 -0.067988 -0.006451 -0.282373 -0.230330 -0.127370  1.000000 NaN  \n",
       "=        NaN       NaN       NaN       NaN       NaN       NaN       NaN NaN  \n",
       "\n",
       "[15 rows x 15 columns]"
      ]
     },
     "execution_count": 16,
     "metadata": {},
     "output_type": "execute_result"
    }
   ],
   "source": [
    "df_elements_corr = df[\"elements\"].corr()\n",
    "df_elements_corr"
   ]
  },
  {
   "cell_type": "code",
   "execution_count": 17,
   "metadata": {},
   "outputs": [
    {
     "data": {
      "application/vnd.plotly.v1+json": {
       "config": {
        "plotlyServerURL": "https://plot.ly"
       },
       "data": [
        {
         "colorscale": [
          [
           0,
           "rgb(12,51,131)"
          ],
          [
           0.25,
           "rgb(10,136,186)"
          ],
          [
           0.5,
           "rgb(242,211,56)"
          ],
          [
           0.75,
           "rgb(242,143,56)"
          ],
          [
           1,
           "rgb(217,30,30)"
          ]
         ],
         "type": "heatmap",
         "x": [
          "1",
          "2",
          "3",
          "4",
          "5",
          "6",
          "8",
          "7",
          "9",
          "0",
          "+",
          "-",
          "*",
          "/",
          "="
         ],
         "y": [
          "1",
          "2",
          "3",
          "4",
          "5",
          "6",
          "8",
          "7",
          "9",
          "0",
          "+",
          "-",
          "*",
          "/",
          "="
         ],
         "z": [
          [
           null,
           null,
           null,
           null,
           null,
           null,
           null,
           null,
           null,
           null,
           null,
           null,
           null,
           null,
           null
          ],
          [
           -0.1955386081298461,
           null,
           null,
           null,
           null,
           null,
           null,
           null,
           null,
           null,
           null,
           null,
           null,
           null,
           null
          ],
          [
           -0.148368765800155,
           -0.1445659201243275,
           null,
           null,
           null,
           null,
           null,
           null,
           null,
           null,
           null,
           null,
           null,
           null,
           null
          ],
          [
           -0.17190474083594015,
           -0.07851637281734969,
           -0.12329239070031277,
           null,
           null,
           null,
           null,
           null,
           null,
           null,
           null,
           null,
           null,
           null,
           null
          ],
          [
           -0.13468983328671127,
           -0.12349608485131693,
           -0.05565236994943984,
           -0.13991090760314634,
           null,
           null,
           null,
           null,
           null,
           null,
           null,
           null,
           null,
           null,
           null
          ],
          [
           -0.13367767963049645,
           -0.08109155899522479,
           -0.07720584633862197,
           -0.09268444164299296,
           -0.1588864032391263,
           null,
           null,
           null,
           null,
           null,
           null,
           null,
           null,
           null,
           null
          ],
          [
           -0.12924751114233216,
           -0.09288711609989952,
           -0.11979220259773202,
           -0.059329258483471876,
           -0.1383670029783187,
           -0.060176026248649817,
           null,
           null,
           null,
           null,
           null,
           null,
           null,
           null,
           null
          ],
          [
           -0.10723017215040162,
           -0.08023809395705368,
           -0.0817891361034156,
           -0.1116441208913813,
           -0.08945212595057318,
           -0.13435408758199432,
           -0.130823837691995,
           null,
           null,
           null,
           null,
           null,
           null,
           null,
           null
          ],
          [
           -0.11869395484745894,
           -0.13435424049320074,
           -0.08616974485809296,
           -0.11708628279705775,
           -0.08785328958044204,
           -0.09967143079912952,
           -0.12133593833792422,
           -0.04714386194781629,
           null,
           null,
           null,
           null,
           null,
           null,
           null
          ],
          [
           -0.09619397140632106,
           -0.0764970607170602,
           -0.08893646189276971,
           -0.06344215224047534,
           -0.0012069622267884806,
           -0.0774283408825175,
           -0.07370911007780168,
           -0.09413509155247489,
           -0.07740958005023817,
           null,
           null,
           null,
           null,
           null,
           null
          ],
          [
           0.13137805433243163,
           -0.03978324265404493,
           -0.021825670624783525,
           -0.05645802519725562,
           -0.029890362125187038,
           -0.04600210810630272,
           -0.02678045095642806,
           0.0009787536254278002,
           0.028822063877666653,
           -0.03691910466482647,
           null,
           null,
           null,
           null,
           null
          ],
          [
           0.08763141487689749,
           -0.06354759791048245,
           -0.032351262960332965,
           -0.05509218764092034,
           -0.030586730215707132,
           -0.04408729552958076,
           -0.03254645331739082,
           -0.0025006187361096346,
           0.015118944533862108,
           0.004749318169830787,
           -0.4448951556266571,
           null,
           null,
           null,
           null
          ],
          [
           -0.09077362883130348,
           0.007000101616718434,
           -0.019214756439538808,
           0.0054341953990381,
           -0.02105178171272459,
           -0.0011891635829822296,
           -0.0033682796733751157,
           -0.03425919283507481,
           -0.05687687266423709,
           -0.09097177025708075,
           -0.2351228988293139,
           -0.21152198346352574,
           null,
           null,
           null
          ],
          [
           -0.04122255342227321,
           0.036210626505745545,
           -0.04876122699188699,
           0.017827860137871833,
           -0.029951245052630665,
           0.008409415425410606,
           0.014044057851596186,
           -0.06243500175212774,
           -0.06798798997703362,
           -0.00645098989946226,
           -0.28237293156227267,
           -0.23033039827646248,
           -0.12736985646409615,
           null,
           null
          ],
          [
           null,
           null,
           null,
           null,
           null,
           null,
           null,
           null,
           null,
           null,
           null,
           null,
           null,
           null,
           null
          ]
         ]
        }
       ],
       "layout": {
        "height": 600,
        "template": {
         "data": {
          "bar": [
           {
            "error_x": {
             "color": "#2a3f5f"
            },
            "error_y": {
             "color": "#2a3f5f"
            },
            "marker": {
             "line": {
              "color": "#E5ECF6",
              "width": 0.5
             },
             "pattern": {
              "fillmode": "overlay",
              "size": 10,
              "solidity": 0.2
             }
            },
            "type": "bar"
           }
          ],
          "barpolar": [
           {
            "marker": {
             "line": {
              "color": "#E5ECF6",
              "width": 0.5
             },
             "pattern": {
              "fillmode": "overlay",
              "size": 10,
              "solidity": 0.2
             }
            },
            "type": "barpolar"
           }
          ],
          "carpet": [
           {
            "aaxis": {
             "endlinecolor": "#2a3f5f",
             "gridcolor": "white",
             "linecolor": "white",
             "minorgridcolor": "white",
             "startlinecolor": "#2a3f5f"
            },
            "baxis": {
             "endlinecolor": "#2a3f5f",
             "gridcolor": "white",
             "linecolor": "white",
             "minorgridcolor": "white",
             "startlinecolor": "#2a3f5f"
            },
            "type": "carpet"
           }
          ],
          "choropleth": [
           {
            "colorbar": {
             "outlinewidth": 0,
             "ticks": ""
            },
            "type": "choropleth"
           }
          ],
          "contour": [
           {
            "colorbar": {
             "outlinewidth": 0,
             "ticks": ""
            },
            "colorscale": [
             [
              0,
              "#0d0887"
             ],
             [
              0.1111111111111111,
              "#46039f"
             ],
             [
              0.2222222222222222,
              "#7201a8"
             ],
             [
              0.3333333333333333,
              "#9c179e"
             ],
             [
              0.4444444444444444,
              "#bd3786"
             ],
             [
              0.5555555555555556,
              "#d8576b"
             ],
             [
              0.6666666666666666,
              "#ed7953"
             ],
             [
              0.7777777777777778,
              "#fb9f3a"
             ],
             [
              0.8888888888888888,
              "#fdca26"
             ],
             [
              1,
              "#f0f921"
             ]
            ],
            "type": "contour"
           }
          ],
          "contourcarpet": [
           {
            "colorbar": {
             "outlinewidth": 0,
             "ticks": ""
            },
            "type": "contourcarpet"
           }
          ],
          "heatmap": [
           {
            "colorbar": {
             "outlinewidth": 0,
             "ticks": ""
            },
            "colorscale": [
             [
              0,
              "#0d0887"
             ],
             [
              0.1111111111111111,
              "#46039f"
             ],
             [
              0.2222222222222222,
              "#7201a8"
             ],
             [
              0.3333333333333333,
              "#9c179e"
             ],
             [
              0.4444444444444444,
              "#bd3786"
             ],
             [
              0.5555555555555556,
              "#d8576b"
             ],
             [
              0.6666666666666666,
              "#ed7953"
             ],
             [
              0.7777777777777778,
              "#fb9f3a"
             ],
             [
              0.8888888888888888,
              "#fdca26"
             ],
             [
              1,
              "#f0f921"
             ]
            ],
            "type": "heatmap"
           }
          ],
          "heatmapgl": [
           {
            "colorbar": {
             "outlinewidth": 0,
             "ticks": ""
            },
            "colorscale": [
             [
              0,
              "#0d0887"
             ],
             [
              0.1111111111111111,
              "#46039f"
             ],
             [
              0.2222222222222222,
              "#7201a8"
             ],
             [
              0.3333333333333333,
              "#9c179e"
             ],
             [
              0.4444444444444444,
              "#bd3786"
             ],
             [
              0.5555555555555556,
              "#d8576b"
             ],
             [
              0.6666666666666666,
              "#ed7953"
             ],
             [
              0.7777777777777778,
              "#fb9f3a"
             ],
             [
              0.8888888888888888,
              "#fdca26"
             ],
             [
              1,
              "#f0f921"
             ]
            ],
            "type": "heatmapgl"
           }
          ],
          "histogram": [
           {
            "marker": {
             "pattern": {
              "fillmode": "overlay",
              "size": 10,
              "solidity": 0.2
             }
            },
            "type": "histogram"
           }
          ],
          "histogram2d": [
           {
            "colorbar": {
             "outlinewidth": 0,
             "ticks": ""
            },
            "colorscale": [
             [
              0,
              "#0d0887"
             ],
             [
              0.1111111111111111,
              "#46039f"
             ],
             [
              0.2222222222222222,
              "#7201a8"
             ],
             [
              0.3333333333333333,
              "#9c179e"
             ],
             [
              0.4444444444444444,
              "#bd3786"
             ],
             [
              0.5555555555555556,
              "#d8576b"
             ],
             [
              0.6666666666666666,
              "#ed7953"
             ],
             [
              0.7777777777777778,
              "#fb9f3a"
             ],
             [
              0.8888888888888888,
              "#fdca26"
             ],
             [
              1,
              "#f0f921"
             ]
            ],
            "type": "histogram2d"
           }
          ],
          "histogram2dcontour": [
           {
            "colorbar": {
             "outlinewidth": 0,
             "ticks": ""
            },
            "colorscale": [
             [
              0,
              "#0d0887"
             ],
             [
              0.1111111111111111,
              "#46039f"
             ],
             [
              0.2222222222222222,
              "#7201a8"
             ],
             [
              0.3333333333333333,
              "#9c179e"
             ],
             [
              0.4444444444444444,
              "#bd3786"
             ],
             [
              0.5555555555555556,
              "#d8576b"
             ],
             [
              0.6666666666666666,
              "#ed7953"
             ],
             [
              0.7777777777777778,
              "#fb9f3a"
             ],
             [
              0.8888888888888888,
              "#fdca26"
             ],
             [
              1,
              "#f0f921"
             ]
            ],
            "type": "histogram2dcontour"
           }
          ],
          "mesh3d": [
           {
            "colorbar": {
             "outlinewidth": 0,
             "ticks": ""
            },
            "type": "mesh3d"
           }
          ],
          "parcoords": [
           {
            "line": {
             "colorbar": {
              "outlinewidth": 0,
              "ticks": ""
             }
            },
            "type": "parcoords"
           }
          ],
          "pie": [
           {
            "automargin": true,
            "type": "pie"
           }
          ],
          "scatter": [
           {
            "fillpattern": {
             "fillmode": "overlay",
             "size": 10,
             "solidity": 0.2
            },
            "type": "scatter"
           }
          ],
          "scatter3d": [
           {
            "line": {
             "colorbar": {
              "outlinewidth": 0,
              "ticks": ""
             }
            },
            "marker": {
             "colorbar": {
              "outlinewidth": 0,
              "ticks": ""
             }
            },
            "type": "scatter3d"
           }
          ],
          "scattercarpet": [
           {
            "marker": {
             "colorbar": {
              "outlinewidth": 0,
              "ticks": ""
             }
            },
            "type": "scattercarpet"
           }
          ],
          "scattergeo": [
           {
            "marker": {
             "colorbar": {
              "outlinewidth": 0,
              "ticks": ""
             }
            },
            "type": "scattergeo"
           }
          ],
          "scattergl": [
           {
            "marker": {
             "colorbar": {
              "outlinewidth": 0,
              "ticks": ""
             }
            },
            "type": "scattergl"
           }
          ],
          "scattermapbox": [
           {
            "marker": {
             "colorbar": {
              "outlinewidth": 0,
              "ticks": ""
             }
            },
            "type": "scattermapbox"
           }
          ],
          "scatterpolar": [
           {
            "marker": {
             "colorbar": {
              "outlinewidth": 0,
              "ticks": ""
             }
            },
            "type": "scatterpolar"
           }
          ],
          "scatterpolargl": [
           {
            "marker": {
             "colorbar": {
              "outlinewidth": 0,
              "ticks": ""
             }
            },
            "type": "scatterpolargl"
           }
          ],
          "scatterternary": [
           {
            "marker": {
             "colorbar": {
              "outlinewidth": 0,
              "ticks": ""
             }
            },
            "type": "scatterternary"
           }
          ],
          "surface": [
           {
            "colorbar": {
             "outlinewidth": 0,
             "ticks": ""
            },
            "colorscale": [
             [
              0,
              "#0d0887"
             ],
             [
              0.1111111111111111,
              "#46039f"
             ],
             [
              0.2222222222222222,
              "#7201a8"
             ],
             [
              0.3333333333333333,
              "#9c179e"
             ],
             [
              0.4444444444444444,
              "#bd3786"
             ],
             [
              0.5555555555555556,
              "#d8576b"
             ],
             [
              0.6666666666666666,
              "#ed7953"
             ],
             [
              0.7777777777777778,
              "#fb9f3a"
             ],
             [
              0.8888888888888888,
              "#fdca26"
             ],
             [
              1,
              "#f0f921"
             ]
            ],
            "type": "surface"
           }
          ],
          "table": [
           {
            "cells": {
             "fill": {
              "color": "#EBF0F8"
             },
             "line": {
              "color": "white"
             }
            },
            "header": {
             "fill": {
              "color": "#C8D4E3"
             },
             "line": {
              "color": "white"
             }
            },
            "type": "table"
           }
          ]
         },
         "layout": {
          "annotationdefaults": {
           "arrowcolor": "#2a3f5f",
           "arrowhead": 0,
           "arrowwidth": 1
          },
          "autotypenumbers": "strict",
          "coloraxis": {
           "colorbar": {
            "outlinewidth": 0,
            "ticks": ""
           }
          },
          "colorscale": {
           "diverging": [
            [
             0,
             "#8e0152"
            ],
            [
             0.1,
             "#c51b7d"
            ],
            [
             0.2,
             "#de77ae"
            ],
            [
             0.3,
             "#f1b6da"
            ],
            [
             0.4,
             "#fde0ef"
            ],
            [
             0.5,
             "#f7f7f7"
            ],
            [
             0.6,
             "#e6f5d0"
            ],
            [
             0.7,
             "#b8e186"
            ],
            [
             0.8,
             "#7fbc41"
            ],
            [
             0.9,
             "#4d9221"
            ],
            [
             1,
             "#276419"
            ]
           ],
           "sequential": [
            [
             0,
             "#0d0887"
            ],
            [
             0.1111111111111111,
             "#46039f"
            ],
            [
             0.2222222222222222,
             "#7201a8"
            ],
            [
             0.3333333333333333,
             "#9c179e"
            ],
            [
             0.4444444444444444,
             "#bd3786"
            ],
            [
             0.5555555555555556,
             "#d8576b"
            ],
            [
             0.6666666666666666,
             "#ed7953"
            ],
            [
             0.7777777777777778,
             "#fb9f3a"
            ],
            [
             0.8888888888888888,
             "#fdca26"
            ],
            [
             1,
             "#f0f921"
            ]
           ],
           "sequentialminus": [
            [
             0,
             "#0d0887"
            ],
            [
             0.1111111111111111,
             "#46039f"
            ],
            [
             0.2222222222222222,
             "#7201a8"
            ],
            [
             0.3333333333333333,
             "#9c179e"
            ],
            [
             0.4444444444444444,
             "#bd3786"
            ],
            [
             0.5555555555555556,
             "#d8576b"
            ],
            [
             0.6666666666666666,
             "#ed7953"
            ],
            [
             0.7777777777777778,
             "#fb9f3a"
            ],
            [
             0.8888888888888888,
             "#fdca26"
            ],
            [
             1,
             "#f0f921"
            ]
           ]
          },
          "colorway": [
           "#636efa",
           "#EF553B",
           "#00cc96",
           "#ab63fa",
           "#FFA15A",
           "#19d3f3",
           "#FF6692",
           "#B6E880",
           "#FF97FF",
           "#FECB52"
          ],
          "font": {
           "color": "#2a3f5f"
          },
          "geo": {
           "bgcolor": "white",
           "lakecolor": "white",
           "landcolor": "#E5ECF6",
           "showlakes": true,
           "showland": true,
           "subunitcolor": "white"
          },
          "hoverlabel": {
           "align": "left"
          },
          "hovermode": "closest",
          "mapbox": {
           "style": "light"
          },
          "paper_bgcolor": "white",
          "plot_bgcolor": "#E5ECF6",
          "polar": {
           "angularaxis": {
            "gridcolor": "white",
            "linecolor": "white",
            "ticks": ""
           },
           "bgcolor": "#E5ECF6",
           "radialaxis": {
            "gridcolor": "white",
            "linecolor": "white",
            "ticks": ""
           }
          },
          "scene": {
           "xaxis": {
            "backgroundcolor": "#E5ECF6",
            "gridcolor": "white",
            "gridwidth": 2,
            "linecolor": "white",
            "showbackground": true,
            "ticks": "",
            "zerolinecolor": "white"
           },
           "yaxis": {
            "backgroundcolor": "#E5ECF6",
            "gridcolor": "white",
            "gridwidth": 2,
            "linecolor": "white",
            "showbackground": true,
            "ticks": "",
            "zerolinecolor": "white"
           },
           "zaxis": {
            "backgroundcolor": "#E5ECF6",
            "gridcolor": "white",
            "gridwidth": 2,
            "linecolor": "white",
            "showbackground": true,
            "ticks": "",
            "zerolinecolor": "white"
           }
          },
          "shapedefaults": {
           "line": {
            "color": "#2a3f5f"
           }
          },
          "ternary": {
           "aaxis": {
            "gridcolor": "white",
            "linecolor": "white",
            "ticks": ""
           },
           "baxis": {
            "gridcolor": "white",
            "linecolor": "white",
            "ticks": ""
           },
           "bgcolor": "#E5ECF6",
           "caxis": {
            "gridcolor": "white",
            "linecolor": "white",
            "ticks": ""
           }
          },
          "title": {
           "x": 0.05
          },
          "xaxis": {
           "automargin": true,
           "gridcolor": "white",
           "linecolor": "white",
           "ticks": "",
           "title": {
            "standoff": 15
           },
           "zerolinecolor": "white",
           "zerolinewidth": 2
          },
          "yaxis": {
           "automargin": true,
           "gridcolor": "white",
           "linecolor": "white",
           "ticks": "",
           "title": {
            "standoff": 15
           },
           "zerolinecolor": "white",
           "zerolinewidth": 2
          }
         }
        },
        "title": {
         "text": "Elements correlation"
        },
        "width": 600
       }
      }
     },
     "metadata": {},
     "output_type": "display_data"
    }
   ],
   "source": [
    "# Ploting Heatmap\n",
    "\n",
    "# Masking the diagonal\n",
    "mask = np.triu(np.ones_like(df_elements_corr, dtype=bool))\n",
    "df_temp = df_elements_corr.mask(mask)\n",
    "\n",
    "# Creating figure\n",
    "fig = go.Figure()\n",
    "\n",
    "# Creating trace\n",
    "fig.add_trace(\n",
    "    go.Heatmap(\n",
    "        x=df_temp.columns,\n",
    "        y=df_temp.columns,\n",
    "        z=df_temp,\n",
    "        colorscale=\"Portland\",\n",
    "    )\n",
    ")\n",
    "\n",
    "# Updating layout\n",
    "fig.update_layout(\n",
    "    title=\"Elements correlation\",\n",
    "    height=600,\n",
    "    width=600,\n",
    ")\n",
    "\n",
    "# Showing figure\n",
    "fig.show()"
   ]
  },
  {
   "cell_type": "markdown",
   "metadata": {},
   "source": [
    "# Correlating positions"
   ]
  },
  {
   "cell_type": "code",
   "execution_count": 18,
   "metadata": {},
   "outputs": [
    {
     "data": {
      "text/html": [
       "<div>\n",
       "<style scoped>\n",
       "    .dataframe tbody tr th:only-of-type {\n",
       "        vertical-align: middle;\n",
       "    }\n",
       "\n",
       "    .dataframe tbody tr th {\n",
       "        vertical-align: top;\n",
       "    }\n",
       "\n",
       "    .dataframe thead th {\n",
       "        text-align: right;\n",
       "    }\n",
       "</style>\n",
       "<table border=\"1\" class=\"dataframe\">\n",
       "  <thead>\n",
       "    <tr style=\"text-align: right;\">\n",
       "      <th></th>\n",
       "      <th>p0</th>\n",
       "      <th>p1</th>\n",
       "      <th>p2</th>\n",
       "      <th>p3</th>\n",
       "      <th>p4</th>\n",
       "      <th>p5</th>\n",
       "      <th>p6</th>\n",
       "      <th>p7</th>\n",
       "    </tr>\n",
       "  </thead>\n",
       "  <tbody>\n",
       "    <tr>\n",
       "      <th>p0</th>\n",
       "      <td>1.000000</td>\n",
       "      <td>-0.079213</td>\n",
       "      <td>-0.349387</td>\n",
       "      <td>0.404656</td>\n",
       "      <td>0.494965</td>\n",
       "      <td>-0.172125</td>\n",
       "      <td>0.175656</td>\n",
       "      <td>0.792846</td>\n",
       "    </tr>\n",
       "    <tr>\n",
       "      <th>p1</th>\n",
       "      <td>-0.079213</td>\n",
       "      <td>1.000000</td>\n",
       "      <td>0.028255</td>\n",
       "      <td>0.262095</td>\n",
       "      <td>-0.520660</td>\n",
       "      <td>-0.513316</td>\n",
       "      <td>-0.527016</td>\n",
       "      <td>-0.019435</td>\n",
       "    </tr>\n",
       "    <tr>\n",
       "      <th>p2</th>\n",
       "      <td>-0.349387</td>\n",
       "      <td>0.028255</td>\n",
       "      <td>1.000000</td>\n",
       "      <td>0.330837</td>\n",
       "      <td>0.080952</td>\n",
       "      <td>-0.332576</td>\n",
       "      <td>-0.435097</td>\n",
       "      <td>-0.516797</td>\n",
       "    </tr>\n",
       "    <tr>\n",
       "      <th>p3</th>\n",
       "      <td>0.404656</td>\n",
       "      <td>0.262095</td>\n",
       "      <td>0.330837</td>\n",
       "      <td>1.000000</td>\n",
       "      <td>0.246748</td>\n",
       "      <td>-0.518742</td>\n",
       "      <td>-0.338896</td>\n",
       "      <td>0.039885</td>\n",
       "    </tr>\n",
       "    <tr>\n",
       "      <th>p4</th>\n",
       "      <td>0.494965</td>\n",
       "      <td>-0.520660</td>\n",
       "      <td>0.080952</td>\n",
       "      <td>0.246748</td>\n",
       "      <td>1.000000</td>\n",
       "      <td>0.187945</td>\n",
       "      <td>0.377011</td>\n",
       "      <td>0.160125</td>\n",
       "    </tr>\n",
       "    <tr>\n",
       "      <th>p5</th>\n",
       "      <td>-0.172125</td>\n",
       "      <td>-0.513316</td>\n",
       "      <td>-0.332576</td>\n",
       "      <td>-0.518742</td>\n",
       "      <td>0.187945</td>\n",
       "      <td>1.000000</td>\n",
       "      <td>0.934452</td>\n",
       "      <td>-0.258712</td>\n",
       "    </tr>\n",
       "    <tr>\n",
       "      <th>p6</th>\n",
       "      <td>0.175656</td>\n",
       "      <td>-0.527016</td>\n",
       "      <td>-0.435097</td>\n",
       "      <td>-0.338896</td>\n",
       "      <td>0.377011</td>\n",
       "      <td>0.934452</td>\n",
       "      <td>1.000000</td>\n",
       "      <td>-0.005554</td>\n",
       "    </tr>\n",
       "    <tr>\n",
       "      <th>p7</th>\n",
       "      <td>0.792846</td>\n",
       "      <td>-0.019435</td>\n",
       "      <td>-0.516797</td>\n",
       "      <td>0.039885</td>\n",
       "      <td>0.160125</td>\n",
       "      <td>-0.258712</td>\n",
       "      <td>-0.005554</td>\n",
       "      <td>1.000000</td>\n",
       "    </tr>\n",
       "  </tbody>\n",
       "</table>\n",
       "</div>"
      ],
      "text/plain": [
       "          p0        p1        p2        p3        p4        p5        p6  \\\n",
       "p0  1.000000 -0.079213 -0.349387  0.404656  0.494965 -0.172125  0.175656   \n",
       "p1 -0.079213  1.000000  0.028255  0.262095 -0.520660 -0.513316 -0.527016   \n",
       "p2 -0.349387  0.028255  1.000000  0.330837  0.080952 -0.332576 -0.435097   \n",
       "p3  0.404656  0.262095  0.330837  1.000000  0.246748 -0.518742 -0.338896   \n",
       "p4  0.494965 -0.520660  0.080952  0.246748  1.000000  0.187945  0.377011   \n",
       "p5 -0.172125 -0.513316 -0.332576 -0.518742  0.187945  1.000000  0.934452   \n",
       "p6  0.175656 -0.527016 -0.435097 -0.338896  0.377011  0.934452  1.000000   \n",
       "p7  0.792846 -0.019435 -0.516797  0.039885  0.160125 -0.258712 -0.005554   \n",
       "\n",
       "          p7  \n",
       "p0  0.792846  \n",
       "p1 -0.019435  \n",
       "p2 -0.516797  \n",
       "p3  0.039885  \n",
       "p4  0.160125  \n",
       "p5 -0.258712  \n",
       "p6 -0.005554  \n",
       "p7  1.000000  "
      ]
     },
     "execution_count": 18,
     "metadata": {},
     "output_type": "execute_result"
    }
   ],
   "source": [
    "df_positions_corr = df_freq_count[df[\"positions\"].columns].corr()\n",
    "df_positions_corr"
   ]
  },
  {
   "cell_type": "code",
   "execution_count": 19,
   "metadata": {},
   "outputs": [
    {
     "data": {
      "application/vnd.plotly.v1+json": {
       "config": {
        "plotlyServerURL": "https://plot.ly"
       },
       "data": [
        {
         "colorscale": [
          [
           0,
           "rgb(12,51,131)"
          ],
          [
           0.25,
           "rgb(10,136,186)"
          ],
          [
           0.5,
           "rgb(242,211,56)"
          ],
          [
           0.75,
           "rgb(242,143,56)"
          ],
          [
           1,
           "rgb(217,30,30)"
          ]
         ],
         "type": "heatmap",
         "x": [
          "p0",
          "p1",
          "p2",
          "p3",
          "p4",
          "p5",
          "p6",
          "p7"
         ],
         "y": [
          "p0",
          "p1",
          "p2",
          "p3",
          "p4",
          "p5",
          "p6",
          "p7"
         ],
         "z": [
          [
           null,
           null,
           null,
           null,
           null,
           null,
           null,
           null
          ],
          [
           -0.07921324172485461,
           null,
           null,
           null,
           null,
           null,
           null,
           null
          ],
          [
           -0.34938652700098144,
           0.028254688417475863,
           null,
           null,
           null,
           null,
           null,
           null
          ],
          [
           0.40465561498390007,
           0.26209456071092657,
           0.33083669610135985,
           null,
           null,
           null,
           null,
           null
          ],
          [
           0.49496529637401493,
           -0.520659661442565,
           0.0809521991234988,
           0.2467478105070447,
           null,
           null,
           null,
           null
          ],
          [
           -0.17212536377862797,
           -0.5133160795708497,
           -0.33257555249463716,
           -0.5187419373317518,
           0.18794507171095068,
           null,
           null,
           null
          ],
          [
           0.17565568727207964,
           -0.5270156056136985,
           -0.43509708260231955,
           -0.3388960043895744,
           0.3770108085953333,
           0.9344521140259427,
           null,
           null
          ],
          [
           0.7928460919479182,
           -0.019435043266863943,
           -0.5167971643406157,
           0.03988483438431267,
           0.16012531928576937,
           -0.25871198476703633,
           -0.005554391751673997,
           null
          ]
         ]
        }
       ],
       "layout": {
        "height": 600,
        "template": {
         "data": {
          "bar": [
           {
            "error_x": {
             "color": "#2a3f5f"
            },
            "error_y": {
             "color": "#2a3f5f"
            },
            "marker": {
             "line": {
              "color": "#E5ECF6",
              "width": 0.5
             },
             "pattern": {
              "fillmode": "overlay",
              "size": 10,
              "solidity": 0.2
             }
            },
            "type": "bar"
           }
          ],
          "barpolar": [
           {
            "marker": {
             "line": {
              "color": "#E5ECF6",
              "width": 0.5
             },
             "pattern": {
              "fillmode": "overlay",
              "size": 10,
              "solidity": 0.2
             }
            },
            "type": "barpolar"
           }
          ],
          "carpet": [
           {
            "aaxis": {
             "endlinecolor": "#2a3f5f",
             "gridcolor": "white",
             "linecolor": "white",
             "minorgridcolor": "white",
             "startlinecolor": "#2a3f5f"
            },
            "baxis": {
             "endlinecolor": "#2a3f5f",
             "gridcolor": "white",
             "linecolor": "white",
             "minorgridcolor": "white",
             "startlinecolor": "#2a3f5f"
            },
            "type": "carpet"
           }
          ],
          "choropleth": [
           {
            "colorbar": {
             "outlinewidth": 0,
             "ticks": ""
            },
            "type": "choropleth"
           }
          ],
          "contour": [
           {
            "colorbar": {
             "outlinewidth": 0,
             "ticks": ""
            },
            "colorscale": [
             [
              0,
              "#0d0887"
             ],
             [
              0.1111111111111111,
              "#46039f"
             ],
             [
              0.2222222222222222,
              "#7201a8"
             ],
             [
              0.3333333333333333,
              "#9c179e"
             ],
             [
              0.4444444444444444,
              "#bd3786"
             ],
             [
              0.5555555555555556,
              "#d8576b"
             ],
             [
              0.6666666666666666,
              "#ed7953"
             ],
             [
              0.7777777777777778,
              "#fb9f3a"
             ],
             [
              0.8888888888888888,
              "#fdca26"
             ],
             [
              1,
              "#f0f921"
             ]
            ],
            "type": "contour"
           }
          ],
          "contourcarpet": [
           {
            "colorbar": {
             "outlinewidth": 0,
             "ticks": ""
            },
            "type": "contourcarpet"
           }
          ],
          "heatmap": [
           {
            "colorbar": {
             "outlinewidth": 0,
             "ticks": ""
            },
            "colorscale": [
             [
              0,
              "#0d0887"
             ],
             [
              0.1111111111111111,
              "#46039f"
             ],
             [
              0.2222222222222222,
              "#7201a8"
             ],
             [
              0.3333333333333333,
              "#9c179e"
             ],
             [
              0.4444444444444444,
              "#bd3786"
             ],
             [
              0.5555555555555556,
              "#d8576b"
             ],
             [
              0.6666666666666666,
              "#ed7953"
             ],
             [
              0.7777777777777778,
              "#fb9f3a"
             ],
             [
              0.8888888888888888,
              "#fdca26"
             ],
             [
              1,
              "#f0f921"
             ]
            ],
            "type": "heatmap"
           }
          ],
          "heatmapgl": [
           {
            "colorbar": {
             "outlinewidth": 0,
             "ticks": ""
            },
            "colorscale": [
             [
              0,
              "#0d0887"
             ],
             [
              0.1111111111111111,
              "#46039f"
             ],
             [
              0.2222222222222222,
              "#7201a8"
             ],
             [
              0.3333333333333333,
              "#9c179e"
             ],
             [
              0.4444444444444444,
              "#bd3786"
             ],
             [
              0.5555555555555556,
              "#d8576b"
             ],
             [
              0.6666666666666666,
              "#ed7953"
             ],
             [
              0.7777777777777778,
              "#fb9f3a"
             ],
             [
              0.8888888888888888,
              "#fdca26"
             ],
             [
              1,
              "#f0f921"
             ]
            ],
            "type": "heatmapgl"
           }
          ],
          "histogram": [
           {
            "marker": {
             "pattern": {
              "fillmode": "overlay",
              "size": 10,
              "solidity": 0.2
             }
            },
            "type": "histogram"
           }
          ],
          "histogram2d": [
           {
            "colorbar": {
             "outlinewidth": 0,
             "ticks": ""
            },
            "colorscale": [
             [
              0,
              "#0d0887"
             ],
             [
              0.1111111111111111,
              "#46039f"
             ],
             [
              0.2222222222222222,
              "#7201a8"
             ],
             [
              0.3333333333333333,
              "#9c179e"
             ],
             [
              0.4444444444444444,
              "#bd3786"
             ],
             [
              0.5555555555555556,
              "#d8576b"
             ],
             [
              0.6666666666666666,
              "#ed7953"
             ],
             [
              0.7777777777777778,
              "#fb9f3a"
             ],
             [
              0.8888888888888888,
              "#fdca26"
             ],
             [
              1,
              "#f0f921"
             ]
            ],
            "type": "histogram2d"
           }
          ],
          "histogram2dcontour": [
           {
            "colorbar": {
             "outlinewidth": 0,
             "ticks": ""
            },
            "colorscale": [
             [
              0,
              "#0d0887"
             ],
             [
              0.1111111111111111,
              "#46039f"
             ],
             [
              0.2222222222222222,
              "#7201a8"
             ],
             [
              0.3333333333333333,
              "#9c179e"
             ],
             [
              0.4444444444444444,
              "#bd3786"
             ],
             [
              0.5555555555555556,
              "#d8576b"
             ],
             [
              0.6666666666666666,
              "#ed7953"
             ],
             [
              0.7777777777777778,
              "#fb9f3a"
             ],
             [
              0.8888888888888888,
              "#fdca26"
             ],
             [
              1,
              "#f0f921"
             ]
            ],
            "type": "histogram2dcontour"
           }
          ],
          "mesh3d": [
           {
            "colorbar": {
             "outlinewidth": 0,
             "ticks": ""
            },
            "type": "mesh3d"
           }
          ],
          "parcoords": [
           {
            "line": {
             "colorbar": {
              "outlinewidth": 0,
              "ticks": ""
             }
            },
            "type": "parcoords"
           }
          ],
          "pie": [
           {
            "automargin": true,
            "type": "pie"
           }
          ],
          "scatter": [
           {
            "fillpattern": {
             "fillmode": "overlay",
             "size": 10,
             "solidity": 0.2
            },
            "type": "scatter"
           }
          ],
          "scatter3d": [
           {
            "line": {
             "colorbar": {
              "outlinewidth": 0,
              "ticks": ""
             }
            },
            "marker": {
             "colorbar": {
              "outlinewidth": 0,
              "ticks": ""
             }
            },
            "type": "scatter3d"
           }
          ],
          "scattercarpet": [
           {
            "marker": {
             "colorbar": {
              "outlinewidth": 0,
              "ticks": ""
             }
            },
            "type": "scattercarpet"
           }
          ],
          "scattergeo": [
           {
            "marker": {
             "colorbar": {
              "outlinewidth": 0,
              "ticks": ""
             }
            },
            "type": "scattergeo"
           }
          ],
          "scattergl": [
           {
            "marker": {
             "colorbar": {
              "outlinewidth": 0,
              "ticks": ""
             }
            },
            "type": "scattergl"
           }
          ],
          "scattermapbox": [
           {
            "marker": {
             "colorbar": {
              "outlinewidth": 0,
              "ticks": ""
             }
            },
            "type": "scattermapbox"
           }
          ],
          "scatterpolar": [
           {
            "marker": {
             "colorbar": {
              "outlinewidth": 0,
              "ticks": ""
             }
            },
            "type": "scatterpolar"
           }
          ],
          "scatterpolargl": [
           {
            "marker": {
             "colorbar": {
              "outlinewidth": 0,
              "ticks": ""
             }
            },
            "type": "scatterpolargl"
           }
          ],
          "scatterternary": [
           {
            "marker": {
             "colorbar": {
              "outlinewidth": 0,
              "ticks": ""
             }
            },
            "type": "scatterternary"
           }
          ],
          "surface": [
           {
            "colorbar": {
             "outlinewidth": 0,
             "ticks": ""
            },
            "colorscale": [
             [
              0,
              "#0d0887"
             ],
             [
              0.1111111111111111,
              "#46039f"
             ],
             [
              0.2222222222222222,
              "#7201a8"
             ],
             [
              0.3333333333333333,
              "#9c179e"
             ],
             [
              0.4444444444444444,
              "#bd3786"
             ],
             [
              0.5555555555555556,
              "#d8576b"
             ],
             [
              0.6666666666666666,
              "#ed7953"
             ],
             [
              0.7777777777777778,
              "#fb9f3a"
             ],
             [
              0.8888888888888888,
              "#fdca26"
             ],
             [
              1,
              "#f0f921"
             ]
            ],
            "type": "surface"
           }
          ],
          "table": [
           {
            "cells": {
             "fill": {
              "color": "#EBF0F8"
             },
             "line": {
              "color": "white"
             }
            },
            "header": {
             "fill": {
              "color": "#C8D4E3"
             },
             "line": {
              "color": "white"
             }
            },
            "type": "table"
           }
          ]
         },
         "layout": {
          "annotationdefaults": {
           "arrowcolor": "#2a3f5f",
           "arrowhead": 0,
           "arrowwidth": 1
          },
          "autotypenumbers": "strict",
          "coloraxis": {
           "colorbar": {
            "outlinewidth": 0,
            "ticks": ""
           }
          },
          "colorscale": {
           "diverging": [
            [
             0,
             "#8e0152"
            ],
            [
             0.1,
             "#c51b7d"
            ],
            [
             0.2,
             "#de77ae"
            ],
            [
             0.3,
             "#f1b6da"
            ],
            [
             0.4,
             "#fde0ef"
            ],
            [
             0.5,
             "#f7f7f7"
            ],
            [
             0.6,
             "#e6f5d0"
            ],
            [
             0.7,
             "#b8e186"
            ],
            [
             0.8,
             "#7fbc41"
            ],
            [
             0.9,
             "#4d9221"
            ],
            [
             1,
             "#276419"
            ]
           ],
           "sequential": [
            [
             0,
             "#0d0887"
            ],
            [
             0.1111111111111111,
             "#46039f"
            ],
            [
             0.2222222222222222,
             "#7201a8"
            ],
            [
             0.3333333333333333,
             "#9c179e"
            ],
            [
             0.4444444444444444,
             "#bd3786"
            ],
            [
             0.5555555555555556,
             "#d8576b"
            ],
            [
             0.6666666666666666,
             "#ed7953"
            ],
            [
             0.7777777777777778,
             "#fb9f3a"
            ],
            [
             0.8888888888888888,
             "#fdca26"
            ],
            [
             1,
             "#f0f921"
            ]
           ],
           "sequentialminus": [
            [
             0,
             "#0d0887"
            ],
            [
             0.1111111111111111,
             "#46039f"
            ],
            [
             0.2222222222222222,
             "#7201a8"
            ],
            [
             0.3333333333333333,
             "#9c179e"
            ],
            [
             0.4444444444444444,
             "#bd3786"
            ],
            [
             0.5555555555555556,
             "#d8576b"
            ],
            [
             0.6666666666666666,
             "#ed7953"
            ],
            [
             0.7777777777777778,
             "#fb9f3a"
            ],
            [
             0.8888888888888888,
             "#fdca26"
            ],
            [
             1,
             "#f0f921"
            ]
           ]
          },
          "colorway": [
           "#636efa",
           "#EF553B",
           "#00cc96",
           "#ab63fa",
           "#FFA15A",
           "#19d3f3",
           "#FF6692",
           "#B6E880",
           "#FF97FF",
           "#FECB52"
          ],
          "font": {
           "color": "#2a3f5f"
          },
          "geo": {
           "bgcolor": "white",
           "lakecolor": "white",
           "landcolor": "#E5ECF6",
           "showlakes": true,
           "showland": true,
           "subunitcolor": "white"
          },
          "hoverlabel": {
           "align": "left"
          },
          "hovermode": "closest",
          "mapbox": {
           "style": "light"
          },
          "paper_bgcolor": "white",
          "plot_bgcolor": "#E5ECF6",
          "polar": {
           "angularaxis": {
            "gridcolor": "white",
            "linecolor": "white",
            "ticks": ""
           },
           "bgcolor": "#E5ECF6",
           "radialaxis": {
            "gridcolor": "white",
            "linecolor": "white",
            "ticks": ""
           }
          },
          "scene": {
           "xaxis": {
            "backgroundcolor": "#E5ECF6",
            "gridcolor": "white",
            "gridwidth": 2,
            "linecolor": "white",
            "showbackground": true,
            "ticks": "",
            "zerolinecolor": "white"
           },
           "yaxis": {
            "backgroundcolor": "#E5ECF6",
            "gridcolor": "white",
            "gridwidth": 2,
            "linecolor": "white",
            "showbackground": true,
            "ticks": "",
            "zerolinecolor": "white"
           },
           "zaxis": {
            "backgroundcolor": "#E5ECF6",
            "gridcolor": "white",
            "gridwidth": 2,
            "linecolor": "white",
            "showbackground": true,
            "ticks": "",
            "zerolinecolor": "white"
           }
          },
          "shapedefaults": {
           "line": {
            "color": "#2a3f5f"
           }
          },
          "ternary": {
           "aaxis": {
            "gridcolor": "white",
            "linecolor": "white",
            "ticks": ""
           },
           "baxis": {
            "gridcolor": "white",
            "linecolor": "white",
            "ticks": ""
           },
           "bgcolor": "#E5ECF6",
           "caxis": {
            "gridcolor": "white",
            "linecolor": "white",
            "ticks": ""
           }
          },
          "title": {
           "x": 0.05
          },
          "xaxis": {
           "automargin": true,
           "gridcolor": "white",
           "linecolor": "white",
           "ticks": "",
           "title": {
            "standoff": 15
           },
           "zerolinecolor": "white",
           "zerolinewidth": 2
          },
          "yaxis": {
           "automargin": true,
           "gridcolor": "white",
           "linecolor": "white",
           "ticks": "",
           "title": {
            "standoff": 15
           },
           "zerolinecolor": "white",
           "zerolinewidth": 2
          }
         }
        },
        "title": {
         "text": "Positions correlation"
        },
        "width": 600
       }
      }
     },
     "metadata": {},
     "output_type": "display_data"
    }
   ],
   "source": [
    "# Plotting Heatmap\n",
    "\n",
    "# Masking the diagonal\n",
    "mask = np.triu(np.ones_like(df_positions_corr, dtype=bool))\n",
    "df_temp = df_positions_corr.mask(mask)\n",
    "\n",
    "# Creating figure\n",
    "fig = go.Figure()\n",
    "\n",
    "# Creating trace\n",
    "fig.add_trace(\n",
    "    go.Heatmap(\n",
    "        x=df_temp.columns,\n",
    "        y=df_temp.columns,\n",
    "        z=df_temp,\n",
    "        colorscale=\"Portland\",\n",
    "    )\n",
    ")\n",
    "\n",
    "# Updating layout\n",
    "fig.update_layout(\n",
    "    title=\"Positions correlation\",\n",
    "    height=600,\n",
    "    width=600,\n",
    ")\n",
    "\n",
    "# Showing figure\n",
    "fig.show()"
   ]
  },
  {
   "cell_type": "markdown",
   "metadata": {},
   "source": [
    "# Correlating each element to another element based on their positions\n",
    "\n",
    "*(This method is extremely slow, but it's an easy way to get all elements in the table (including the ones not present in a given position))*"
   ]
  },
  {
   "cell_type": "code",
   "execution_count": 22,
   "metadata": {},
   "outputs": [
    {
     "name": "stderr",
     "output_type": "stream",
     "text": [
      "100%|██████████| 111654900/111654900 [03:20<00:00, 558169.48it/s, Positions: 6,7 - Elements: =,=]\n"
     ]
    }
   ],
   "source": [
    "def correlate_positions(df, position_0, position_1, pbar):\n",
    "    \"\"\" Correlating the frequencies of elements in two given positions \"\"\"\n",
    "\n",
    "    # Initializing a temporary dataframe\n",
    "    df_positions_corr = pd.DataFrame([[0 for _, _ in enumerate(ELEMENTS)] for _, _ in enumerate(ELEMENTS)], columns=ELEMENTS, index=ELEMENTS)\n",
    "\n",
    "    # Iterating over the first element\n",
    "    for i, _ in enumerate(ELEMENTS):\n",
    "\n",
    "        # Iterating over the second element\n",
    "        for j, _ in enumerate(ELEMENTS):\n",
    "            counter = 0\n",
    "\n",
    "            # Update the progress bar\n",
    "            pbar.set_postfix_str(f\"Positions: {position_0},{position_1} - Elements: {ELEMENTS[i]},{ELEMENTS[j]}\")\n",
    "\n",
    "            # Iterating over all the equations in the dataframe\n",
    "            for row in df.itertuples():\n",
    "\n",
    "                # If the element in the positions are the same, increment the counter\n",
    "                if row[position_0 + 1] == ELEMENTS[i] and row[position_1 + 1] == ELEMENTS[j]:\n",
    "                    counter += 1\n",
    "                \n",
    "                # Update the progress bar\n",
    "                pbar.update(1)\n",
    "\n",
    "            # Storing the counter value\n",
    "            df_positions_corr[ELEMENTS[i]].loc[ELEMENTS[j]] = counter\n",
    "    \n",
    "    # Returning the dataframe\n",
    "    return df_positions_corr\n",
    "\n",
    "\n",
    "def correlate_elements(df):\n",
    "    \"\"\" Correlating the frequencies of elements across all positions \"\"\"\n",
    "\n",
    "    # Creating the progress bar and an empty DataFrame\n",
    "    pbar = tqdm(total=int(((NUMBER_OF_ELEMENTS ** 2) - NUMBER_OF_ELEMENTS) / 2) * len(df) * len(ELEMENTS) ** 2)\n",
    "    df_elements_corr = pd.DataFrame()\n",
    "\n",
    "    # Iterating over the first position\n",
    "    for i in range(NUMBER_OF_ELEMENTS):\n",
    "        df_i = pd.DataFrame()\n",
    "\n",
    "        # Iterating over the second position\n",
    "        for j in range(i + 1, NUMBER_OF_ELEMENTS):\n",
    "            \n",
    "            # Computing the correlation between the two positions\n",
    "            df_j = correlate_positions(df, i, j, pbar)\n",
    "\n",
    "            # Concatenating the dataframes\n",
    "            df_j = pd.concat([df_j], keys=[f\"p{j}\"], names=[f'position', 'element'], axis=0)\n",
    "            df_j = pd.concat([df_j], keys=[f\"p{i}\"], names=[f'position', 'element'], axis=1)\n",
    "            df_i = pd.concat([df_i, df_j], axis=0)\n",
    "\n",
    "        # Concatenating the dataframes again\n",
    "        df_elements_corr = pd.concat([df_elements_corr, df_i], axis=1)\n",
    "\n",
    "    # Converting dtypes and closing the progress bar\n",
    "    df_elements_corr = df_elements_corr.convert_dtypes()\n",
    "    pbar.close()\n",
    "\n",
    "    # Returning the dataframe}\n",
    "    return df_elements_corr\n",
    "\n",
    "\n",
    "df_elements_pos_corr = correlate_elements(df[\"positions\"])"
   ]
  },
  {
   "cell_type": "code",
   "execution_count": 21,
   "metadata": {},
   "outputs": [
    {
     "data": {
      "application/vnd.plotly.v1+json": {
       "config": {
        "plotlyServerURL": "https://plot.ly"
       },
       "data": [
        {
         "coloraxis": "coloraxis2",
         "name": "0-1",
         "type": "heatmap",
         "visible": true,
         "x": [
          "1",
          "2",
          "3",
          "4",
          "5",
          "6",
          "8",
          "7",
          "9",
          "0",
          "+",
          "-",
          "*",
          "/",
          "="
         ],
         "xaxis": "x",
         "y": [
          "1",
          "2",
          "3",
          "4",
          "5",
          "6",
          "8",
          "7",
          "9",
          "0",
          "+",
          "-",
          "*",
          "/",
          "="
         ],
         "yaxis": "y",
         "z": [
          [
           0.015572984257744175,
           0.010551261073181741,
           0.005980928736669864,
           0.005585961744625628,
           0.005642385600631948,
           0.005021723184562433,
           0.005811657168650905,
           0.004852451616543475,
           0.0049088754725497945,
           0,
           0,
           0,
           0,
           0,
           0
          ],
          [
           0.019804773458218135,
           0.008237882976922644,
           0.00852000225695424,
           0.008012187552897366,
           0.005755233312644586,
           0.005021723184562433,
           0.004626756192518197,
           0.008237882976922644,
           0.004683180048524516,
           0,
           0,
           0,
           0,
           0,
           0
          ],
          [
           0.014049540145573549,
           0.007335101280821531,
           0.0065451672967330584,
           0.005698809456638266,
           0.00530384246459403,
           0.007109405856796254,
           0.004626756192518197,
           0.004852451616543475,
           0.004796027760537155,
           0,
           0,
           0,
           0,
           0,
           0
          ],
          [
           0.015629408113750493,
           0.012018281329346047,
           0.0061502003046888225,
           0.006263048016701462,
           0.007673644416859448,
           0.0065451672967330584,
           0.005980928736669864,
           0.004796027760537155,
           0.0049088754725497945,
           0,
           0,
           0,
           0,
           0,
           0
          ],
          [
           0.014783050273655701,
           0.007842915984878407,
           0.007560796704846809,
           0.007786492128872087,
           0.005755233312644586,
           0.0055295378886193085,
           0.004739603904530836,
           0.005190994752581391,
           0.005021723184562433,
           0,
           0,
           0,
           0,
           0,
           0
          ],
          [
           0.015347288833718897,
           0.006940134288777295,
           0.010212717937143824,
           0.005642385600631948,
           0.007730068272865768,
           0.0054166901766066694,
           0.004626756192518197,
           0.0049088754725497945,
           0.0065451672967330584,
           0,
           0,
           0,
           0,
           0,
           0
          ],
          [
           0.015065169553687299,
           0.009027816961011115,
           0.005924504880663544,
           0.008745697680979518,
           0.0054166901766066694,
           0.005190994752581391,
           0.005078147040568752,
           0.005134570896575072,
           0.005811657168650905,
           0,
           0,
           0,
           0,
           0,
           0
          ],
          [
           0.011059075777238617,
           0.008802121536985837,
           0.0061502003046888225,
           0.0054166901766066694,
           0.0054166901766066694,
           0.005078147040568752,
           0.004626756192518197,
           0.005247418608587711,
           0.005247418608587711,
           0,
           0,
           0,
           0,
           0,
           0
          ],
          [
           0.00964847937708063,
           0.006319471872707781,
           0.006375895728714101,
           0.006601591152739378,
           0.005134570896575072,
           0.004965299328556113,
           0.004626756192518197,
           0.004796027760537155,
           0.005924504880663544,
           0,
           0,
           0,
           0,
           0,
           0
          ],
          [
           0.02420583422671105,
           0.011228347345257576,
           0.008971393105004796,
           0.008237882976922644,
           0.005980928736669864,
           0.007052982000789934,
           0.005868081024657225,
           0.005980928736669864,
           0.005980928736669864,
           0,
           0,
           0,
           0,
           0,
           0
          ],
          [
           0.011454042769282852,
           0.011454042769282852,
           0.011454042769282852,
           0.01167973819330813,
           0.011905433617333408,
           0.012413248321390284,
           0.01399311628956723,
           0.013090334593466117,
           0.015516560401737855,
           0,
           0,
           0,
           0,
           0,
           0
          ],
          [
           0.0020876826722338203,
           0.0020876826722338203,
           0.0023133780962590984,
           0.0027647689443096543,
           0.003441855216385488,
           0.00428821305648028,
           0.006488743440726739,
           0.00530384246459403,
           0.007842915984878407,
           0,
           0,
           0,
           0,
           0,
           0
          ],
          [
           0.01162331433730181,
           0.014726626417649382,
           0.017604243073971675,
           0.01935338261016758,
           0.019748349602211814,
           0.021102522146363482,
           0.021836032274445635,
           0.020538283586300287,
           0.021497489138407717,
           0,
           0,
           0,
           0,
           0,
           0
          ],
          [
           0.0033290075043728488,
           0.0023133780962590984,
           0.002031258816227501,
           0.002369801952265418,
           0.001918411104214862,
           0.0030468882243412515,
           0.003441855216385488,
           0.002031258816227501,
           0.002877616656322293,
           0,
           0,
           0,
           0,
           0,
           0
          ],
          [
           0,
           0,
           0,
           0,
           0,
           0,
           0,
           0,
           0,
           0,
           0,
           0,
           0,
           0,
           0
          ]
         ]
        },
        {
         "coloraxis": "coloraxis",
         "name": "0-1",
         "type": "heatmap",
         "visible": false,
         "x": [
          "1",
          "2",
          "3",
          "4",
          "5",
          "6",
          "8",
          "7",
          "9",
          "0",
          "+",
          "-",
          "*",
          "/",
          "="
         ],
         "xaxis": "x",
         "y": [
          "1",
          "2",
          "3",
          "4",
          "5",
          "6",
          "8",
          "7",
          "9",
          "0",
          "+",
          "-",
          "*",
          "/",
          "="
         ],
         "yaxis": "y",
         "z": [
          [
           0.015572984257744175,
           0.010551261073181741,
           0.005980928736669864,
           0.005585961744625628,
           0.005642385600631948,
           0.005021723184562433,
           0.005811657168650905,
           0.004852451616543475,
           0.0049088754725497945,
           0,
           0,
           0,
           0,
           0,
           0
          ],
          [
           0.019804773458218135,
           0.008237882976922644,
           0.00852000225695424,
           0.008012187552897366,
           0.005755233312644586,
           0.005021723184562433,
           0.004626756192518197,
           0.008237882976922644,
           0.004683180048524516,
           0,
           0,
           0,
           0,
           0,
           0
          ],
          [
           0.014049540145573549,
           0.007335101280821531,
           0.0065451672967330584,
           0.005698809456638266,
           0.00530384246459403,
           0.007109405856796254,
           0.004626756192518197,
           0.004852451616543475,
           0.004796027760537155,
           0,
           0,
           0,
           0,
           0,
           0
          ],
          [
           0.015629408113750493,
           0.012018281329346047,
           0.0061502003046888225,
           0.006263048016701462,
           0.007673644416859448,
           0.0065451672967330584,
           0.005980928736669864,
           0.004796027760537155,
           0.0049088754725497945,
           0,
           0,
           0,
           0,
           0,
           0
          ],
          [
           0.014783050273655701,
           0.007842915984878407,
           0.007560796704846809,
           0.007786492128872087,
           0.005755233312644586,
           0.0055295378886193085,
           0.004739603904530836,
           0.005190994752581391,
           0.005021723184562433,
           0,
           0,
           0,
           0,
           0,
           0
          ],
          [
           0.015347288833718897,
           0.006940134288777295,
           0.010212717937143824,
           0.005642385600631948,
           0.007730068272865768,
           0.0054166901766066694,
           0.004626756192518197,
           0.0049088754725497945,
           0.0065451672967330584,
           0,
           0,
           0,
           0,
           0,
           0
          ],
          [
           0.015065169553687299,
           0.009027816961011115,
           0.005924504880663544,
           0.008745697680979518,
           0.0054166901766066694,
           0.005190994752581391,
           0.005078147040568752,
           0.005134570896575072,
           0.005811657168650905,
           0,
           0,
           0,
           0,
           0,
           0
          ],
          [
           0.011059075777238617,
           0.008802121536985837,
           0.0061502003046888225,
           0.0054166901766066694,
           0.0054166901766066694,
           0.005078147040568752,
           0.004626756192518197,
           0.005247418608587711,
           0.005247418608587711,
           0,
           0,
           0,
           0,
           0,
           0
          ],
          [
           0.00964847937708063,
           0.006319471872707781,
           0.006375895728714101,
           0.006601591152739378,
           0.005134570896575072,
           0.004965299328556113,
           0.004626756192518197,
           0.004796027760537155,
           0.005924504880663544,
           0,
           0,
           0,
           0,
           0,
           0
          ],
          [
           0.02420583422671105,
           0.011228347345257576,
           0.008971393105004796,
           0.008237882976922644,
           0.005980928736669864,
           0.007052982000789934,
           0.005868081024657225,
           0.005980928736669864,
           0.005980928736669864,
           0,
           0,
           0,
           0,
           0,
           0
          ],
          [
           0.011454042769282852,
           0.011454042769282852,
           0.011454042769282852,
           0.01167973819330813,
           0.011905433617333408,
           0.012413248321390284,
           0.01399311628956723,
           0.013090334593466117,
           0.015516560401737855,
           0,
           0,
           0,
           0,
           0,
           0
          ],
          [
           0.0020876826722338203,
           0.0020876826722338203,
           0.0023133780962590984,
           0.0027647689443096543,
           0.003441855216385488,
           0.00428821305648028,
           0.006488743440726739,
           0.00530384246459403,
           0.007842915984878407,
           0,
           0,
           0,
           0,
           0,
           0
          ],
          [
           0.01162331433730181,
           0.014726626417649382,
           0.017604243073971675,
           0.01935338261016758,
           0.019748349602211814,
           0.021102522146363482,
           0.021836032274445635,
           0.020538283586300287,
           0.021497489138407717,
           0,
           0,
           0,
           0,
           0,
           0
          ],
          [
           0.0033290075043728488,
           0.0023133780962590984,
           0.002031258816227501,
           0.002369801952265418,
           0.001918411104214862,
           0.0030468882243412515,
           0.003441855216385488,
           0.002031258816227501,
           0.002877616656322293,
           0,
           0,
           0,
           0,
           0,
           0
          ],
          [
           0,
           0,
           0,
           0,
           0,
           0,
           0,
           0,
           0,
           0,
           0,
           0,
           0,
           0,
           0
          ]
         ]
        },
        {
         "coloraxis": "coloraxis3",
         "name": "0-2",
         "type": "heatmap",
         "visible": true,
         "x": [
          "1",
          "2",
          "3",
          "4",
          "5",
          "6",
          "8",
          "7",
          "9",
          "0",
          "+",
          "-",
          "*",
          "/",
          "="
         ],
         "xaxis": "x8",
         "y": [
          "1",
          "2",
          "3",
          "4",
          "5",
          "6",
          "8",
          "7",
          "9",
          "0",
          "+",
          "-",
          "*",
          "/",
          "="
         ],
         "yaxis": "y8",
         "z": [
          [
           0.008237882976922644,
           0.005811657168650905,
           0.005585961744625628,
           0.005755233312644586,
           0.005698809456638266,
           0.006488743440726739,
           0.007335101280821531,
           0.006375895728714101,
           0.007842915984878407,
           0,
           0,
           0,
           0,
           0,
           0
          ],
          [
           0.0066580150087456975,
           0.004118941488461322,
           0.00423178920047396,
           0.00428821305648028,
           0.004739603904530836,
           0.005021723184562433,
           0.0054166901766066694,
           0.004965299328556113,
           0.00530384246459403,
           0,
           0,
           0,
           0,
           0,
           0
          ],
          [
           0.0037803983524234046,
           0.002821192800315974,
           0.002651921232297015,
           0.0036675506404107655,
           0.003949669920442363,
           0.004852451616543475,
           0.004965299328556113,
           0.004513908480505558,
           0.00530384246459403,
           0,
           0,
           0,
           0,
           0,
           0
          ],
          [
           0.006319471872707781,
           0.004457484624499238,
           0.004570332336511877,
           0.004118941488461322,
           0.005134570896575072,
           0.004683180048524516,
           0.005247418608587711,
           0.0049088754725497945,
           0.005078147040568752,
           0,
           0,
           0,
           0,
           0,
           0
          ],
          [
           0.004965299328556113,
           0.004739603904530836,
           0.004796027760537155,
           0.005134570896575072,
           0.003949669920442363,
           0.00428821305648028,
           0.004570332336511877,
           0.004118941488461322,
           0.004626756192518197,
           0,
           0,
           0,
           0,
           0,
           0
          ],
          [
           0.005924504880663544,
           0.005247418608587711,
           0.0054166901766066694,
           0.0049088754725497945,
           0.004739603904530836,
           0.004683180048524516,
           0.004852451616543475,
           0.004626756192518197,
           0.004852451616543475,
           0,
           0,
           0,
           0,
           0,
           0
          ],
          [
           0.0060373525926761835,
           0.005924504880663544,
           0.005698809456638266,
           0.0054166901766066694,
           0.005134570896575072,
           0.005078147040568752,
           0.004626756192518197,
           0.004683180048524516,
           0.005021723184562433,
           0,
           0,
           0,
           0,
           0,
           0
          ],
          [
           0.0034982790723918074,
           0.004401060768492919,
           0.0041753653444676405,
           0.004344636912486599,
           0.004062517632455002,
           0.004344636912486599,
           0.004513908480505558,
           0.004118941488461322,
           0.004570332336511877,
           0,
           0,
           0,
           0,
           0,
           0
          ],
          [
           0.003723974496417085,
           0.0049088754725497945,
           0.004965299328556113,
           0.004852451616543475,
           0.004796027760537155,
           0.005134570896575072,
           0.00536026632060035,
           0.0049088754725497945,
           0.005134570896575072,
           0,
           0,
           0,
           0,
           0,
           0
          ],
          [
           0.004965299328556113,
           0.0030468882243412515,
           0.0025954973762906956,
           0.00214410652824014,
           0.0007899339840884726,
           0.0005642385600631947,
           0.00011284771201263894,
           0.00033854313603791684,
           0,
           0,
           0,
           0,
           0,
           0,
           0
          ],
          [
           0.04937087400552954,
           0.03695762568413925,
           0.031315240083507306,
           0.02567285448287536,
           0.020030468882243413,
           0.014388083281611464,
           0.003103312080347571,
           0.008745697680979518,
           0.002539073520284376,
           0,
           0,
           0,
           0,
           0,
           0
          ],
          [
           0.05546465045421204,
           0.018507024770072787,
           0.01500874569768098,
           0.019071263330135983,
           0.02335947638661626,
           0.027929808723128138,
           0.03769113581222141,
           0.03278226033967161,
           0.04265643514077752,
           0,
           0,
           0,
           0,
           0,
           0
          ],
          [
           0.006996558144783615,
           0.004683180048524516,
           0.004401060768492919,
           0.004457484624499238,
           0.004739603904530836,
           0.004683180048524516,
           0.004570332336511877,
           0.004626756192518197,
           0.004513908480505558,
           0,
           0,
           0,
           0,
           0,
           0
          ],
          [
           0.017717090785984314,
           0.013259606161485075,
           0.010381989505162783,
           0.010325565649156463,
           0.005698809456638266,
           0.005642385600631948,
           0.004006093776448683,
           0.005247418608587711,
           0.004118941488461322,
           0,
           0,
           0,
           0,
           0,
           0
          ],
          [
           0,
           0,
           0,
           0,
           0,
           0,
           0,
           0,
           0,
           0,
           0,
           0,
           0,
           0,
           0
          ]
         ]
        },
        {
         "coloraxis": "coloraxis",
         "name": "0-2",
         "type": "heatmap",
         "visible": false,
         "x": [
          "1",
          "2",
          "3",
          "4",
          "5",
          "6",
          "8",
          "7",
          "9",
          "0",
          "+",
          "-",
          "*",
          "/",
          "="
         ],
         "xaxis": "x8",
         "y": [
          "1",
          "2",
          "3",
          "4",
          "5",
          "6",
          "8",
          "7",
          "9",
          "0",
          "+",
          "-",
          "*",
          "/",
          "="
         ],
         "yaxis": "y8",
         "z": [
          [
           0.008237882976922644,
           0.005811657168650905,
           0.005585961744625628,
           0.005755233312644586,
           0.005698809456638266,
           0.006488743440726739,
           0.007335101280821531,
           0.006375895728714101,
           0.007842915984878407,
           0,
           0,
           0,
           0,
           0,
           0
          ],
          [
           0.0066580150087456975,
           0.004118941488461322,
           0.00423178920047396,
           0.00428821305648028,
           0.004739603904530836,
           0.005021723184562433,
           0.0054166901766066694,
           0.004965299328556113,
           0.00530384246459403,
           0,
           0,
           0,
           0,
           0,
           0
          ],
          [
           0.0037803983524234046,
           0.002821192800315974,
           0.002651921232297015,
           0.0036675506404107655,
           0.003949669920442363,
           0.004852451616543475,
           0.004965299328556113,
           0.004513908480505558,
           0.00530384246459403,
           0,
           0,
           0,
           0,
           0,
           0
          ],
          [
           0.006319471872707781,
           0.004457484624499238,
           0.004570332336511877,
           0.004118941488461322,
           0.005134570896575072,
           0.004683180048524516,
           0.005247418608587711,
           0.0049088754725497945,
           0.005078147040568752,
           0,
           0,
           0,
           0,
           0,
           0
          ],
          [
           0.004965299328556113,
           0.004739603904530836,
           0.004796027760537155,
           0.005134570896575072,
           0.003949669920442363,
           0.00428821305648028,
           0.004570332336511877,
           0.004118941488461322,
           0.004626756192518197,
           0,
           0,
           0,
           0,
           0,
           0
          ],
          [
           0.005924504880663544,
           0.005247418608587711,
           0.0054166901766066694,
           0.0049088754725497945,
           0.004739603904530836,
           0.004683180048524516,
           0.004852451616543475,
           0.004626756192518197,
           0.004852451616543475,
           0,
           0,
           0,
           0,
           0,
           0
          ],
          [
           0.0060373525926761835,
           0.005924504880663544,
           0.005698809456638266,
           0.0054166901766066694,
           0.005134570896575072,
           0.005078147040568752,
           0.004626756192518197,
           0.004683180048524516,
           0.005021723184562433,
           0,
           0,
           0,
           0,
           0,
           0
          ],
          [
           0.0034982790723918074,
           0.004401060768492919,
           0.0041753653444676405,
           0.004344636912486599,
           0.004062517632455002,
           0.004344636912486599,
           0.004513908480505558,
           0.004118941488461322,
           0.004570332336511877,
           0,
           0,
           0,
           0,
           0,
           0
          ],
          [
           0.003723974496417085,
           0.0049088754725497945,
           0.004965299328556113,
           0.004852451616543475,
           0.004796027760537155,
           0.005134570896575072,
           0.00536026632060035,
           0.0049088754725497945,
           0.005134570896575072,
           0,
           0,
           0,
           0,
           0,
           0
          ],
          [
           0.004965299328556113,
           0.0030468882243412515,
           0.0025954973762906956,
           0.00214410652824014,
           0.0007899339840884726,
           0.0005642385600631947,
           0.00011284771201263894,
           0.00033854313603791684,
           0,
           0,
           0,
           0,
           0,
           0,
           0
          ],
          [
           0.04937087400552954,
           0.03695762568413925,
           0.031315240083507306,
           0.02567285448287536,
           0.020030468882243413,
           0.014388083281611464,
           0.003103312080347571,
           0.008745697680979518,
           0.002539073520284376,
           0,
           0,
           0,
           0,
           0,
           0
          ],
          [
           0.05546465045421204,
           0.018507024770072787,
           0.01500874569768098,
           0.019071263330135983,
           0.02335947638661626,
           0.027929808723128138,
           0.03769113581222141,
           0.03278226033967161,
           0.04265643514077752,
           0,
           0,
           0,
           0,
           0,
           0
          ],
          [
           0.006996558144783615,
           0.004683180048524516,
           0.004401060768492919,
           0.004457484624499238,
           0.004739603904530836,
           0.004683180048524516,
           0.004570332336511877,
           0.004626756192518197,
           0.004513908480505558,
           0,
           0,
           0,
           0,
           0,
           0
          ],
          [
           0.017717090785984314,
           0.013259606161485075,
           0.010381989505162783,
           0.010325565649156463,
           0.005698809456638266,
           0.005642385600631948,
           0.004006093776448683,
           0.005247418608587711,
           0.004118941488461322,
           0,
           0,
           0,
           0,
           0,
           0
          ],
          [
           0,
           0,
           0,
           0,
           0,
           0,
           0,
           0,
           0,
           0,
           0,
           0,
           0,
           0,
           0
          ]
         ]
        },
        {
         "coloraxis": "coloraxis4",
         "name": "0-3",
         "type": "heatmap",
         "visible": true,
         "x": [
          "1",
          "2",
          "3",
          "4",
          "5",
          "6",
          "8",
          "7",
          "9",
          "0",
          "+",
          "-",
          "*",
          "/",
          "="
         ],
         "xaxis": "x15",
         "y": [
          "1",
          "2",
          "3",
          "4",
          "5",
          "6",
          "8",
          "7",
          "9",
          "0",
          "+",
          "-",
          "*",
          "/",
          "="
         ],
         "yaxis": "y15",
         "z": [
          [
           0.0214410652824014,
           0.011115499633244937,
           0.013316030017491395,
           0.013203182305478756,
           0.012695367601421882,
           0.012638943745415562,
           0.009817750945099589,
           0.012638943745415562,
           0.006940134288777295,
           0,
           0,
           0,
           0,
           0,
           0
          ],
          [
           0.020030468882243413,
           0.011171923489251256,
           0.011341195057270215,
           0.013203182305478756,
           0.013316030017491395,
           0.013654573153529312,
           0.008125035264910005,
           0.010833380353213339,
           0.008294306832928963,
           0,
           0,
           0,
           0,
           0,
           0
          ],
          [
           0.016588613665857926,
           0.0107205326412007,
           0.009197088529030074,
           0.010946228065225978,
           0.012864639169440839,
           0.010156294081137504,
           0.007335101280821531,
           0.007335101280821531,
           0.007673644416859448,
           0,
           0,
           0,
           0,
           0,
           0
          ],
          [
           0.016193646673813688,
           0.011002651921232297,
           0.010269141793150144,
           0.009366360097049033,
           0.008350730688935281,
           0.008237882976922644,
           0.007955763696891046,
           0.007786492128872087,
           0.008125035264910005,
           0,
           0,
           0,
           0,
           0,
           0
          ],
          [
           0.01495232184167466,
           0.010212717937143824,
           0.00976132708909327,
           0.007109405856796254,
           0.003103312080347571,
           0.005585961744625628,
           0.007730068272865768,
           0.008012187552897366,
           0.008068611408903685,
           0,
           0,
           0,
           0,
           0,
           0
          ],
          [
           0.015572984257744175,
           0.009817750945099589,
           0.006940134288777295,
           0.004006093776448683,
           0.0030468882243412515,
           0.0027647689443096543,
           0.008012187552897366,
           0.005642385600631948,
           0.00852000225695424,
           0,
           0,
           0,
           0,
           0,
           0
          ],
          [
           0.012187552897365006,
           0.004796027760537155,
           0.003103312080347571,
           0.0038932460644360437,
           0.0027647689443096543,
           0.0032161597923602097,
           0.002877616656322293,
           0.0030468882243412515,
           0.0060373525926761835,
           0,
           0,
           0,
           0,
           0,
           0
          ],
          [
           0.013372453873497715,
           0.007730068272865768,
           0.0027083450883033347,
           0.003441855216385488,
           0.002821192800315974,
           0.0027647689443096543,
           0.004965299328556113,
           0.0024262258082717375,
           0.008294306832928963,
           0,
           0,
           0,
           0,
           0,
           0
          ],
          [
           0.008068611408903685,
           0.004513908480505558,
           0.0024262258082717375,
           0.002369801952265418,
           0.0024826496642780566,
           0.0024262258082717375,
           0.002539073520284376,
           0.002651921232297015,
           0.002821192800315974,
           0,
           0,
           0,
           0,
           0,
           0
          ],
          [
           0.001918411104214862,
           0.0015234441121706258,
           0.001410596400157987,
           0.0015798679681769453,
           0.0018619872482085425,
           0.0015234441121706258,
           0.0015798679681769453,
           0.001410596400157987,
           0.001410596400157987,
           0,
           0,
           0,
           0,
           0,
           0
          ],
          [
           0.007617220560853129,
           0.008858545392992157,
           0.009366360097049033,
           0.009817750945099589,
           0.010043446369124865,
           0.01066410878519438,
           0.011566890481295491,
           0.01077695649720702,
           0.011905433617333408,
           0,
           0,
           0,
           0,
           0,
           0
          ],
          [
           0.005134570896575072,
           0.0027647689443096543,
           0.005585961744625628,
           0.0072786774248152115,
           0.00852000225695424,
           0.00970490323308695,
           0.011849009761327089,
           0.01077695649720702,
           0.013033910737459797,
           0,
           0,
           0,
           0,
           0,
           0
          ],
          [
           0.009987022513118546,
           0.009084240817017435,
           0.008125035264910005,
           0.007786492128872087,
           0.007109405856796254,
           0.00750437284884049,
           0.007391525136827851,
           0.006883710432770976,
           0.006996558144783615,
           0,
           0,
           0,
           0,
           0,
           0
          ],
          [
           0.02059470744230661,
           0.015572984257744175,
           0.012243976753371326,
           0.010156294081137504,
           0.007842915984878407,
           0.006940134288777295,
           0.004626756192518197,
           0.004739603904530836,
           0.003441855216385488,
           0,
           0,
           0,
           0,
           0,
           0
          ],
          [
           0,
           0,
           0,
           0,
           0,
           0,
           0,
           0,
           0,
           0,
           0,
           0,
           0,
           0,
           0
          ]
         ]
        },
        {
         "coloraxis": "coloraxis",
         "name": "0-3",
         "type": "heatmap",
         "visible": false,
         "x": [
          "1",
          "2",
          "3",
          "4",
          "5",
          "6",
          "8",
          "7",
          "9",
          "0",
          "+",
          "-",
          "*",
          "/",
          "="
         ],
         "xaxis": "x15",
         "y": [
          "1",
          "2",
          "3",
          "4",
          "5",
          "6",
          "8",
          "7",
          "9",
          "0",
          "+",
          "-",
          "*",
          "/",
          "="
         ],
         "yaxis": "y15",
         "z": [
          [
           0.0214410652824014,
           0.011115499633244937,
           0.013316030017491395,
           0.013203182305478756,
           0.012695367601421882,
           0.012638943745415562,
           0.009817750945099589,
           0.012638943745415562,
           0.006940134288777295,
           0,
           0,
           0,
           0,
           0,
           0
          ],
          [
           0.020030468882243413,
           0.011171923489251256,
           0.011341195057270215,
           0.013203182305478756,
           0.013316030017491395,
           0.013654573153529312,
           0.008125035264910005,
           0.010833380353213339,
           0.008294306832928963,
           0,
           0,
           0,
           0,
           0,
           0
          ],
          [
           0.016588613665857926,
           0.0107205326412007,
           0.009197088529030074,
           0.010946228065225978,
           0.012864639169440839,
           0.010156294081137504,
           0.007335101280821531,
           0.007335101280821531,
           0.007673644416859448,
           0,
           0,
           0,
           0,
           0,
           0
          ],
          [
           0.016193646673813688,
           0.011002651921232297,
           0.010269141793150144,
           0.009366360097049033,
           0.008350730688935281,
           0.008237882976922644,
           0.007955763696891046,
           0.007786492128872087,
           0.008125035264910005,
           0,
           0,
           0,
           0,
           0,
           0
          ],
          [
           0.01495232184167466,
           0.010212717937143824,
           0.00976132708909327,
           0.007109405856796254,
           0.003103312080347571,
           0.005585961744625628,
           0.007730068272865768,
           0.008012187552897366,
           0.008068611408903685,
           0,
           0,
           0,
           0,
           0,
           0
          ],
          [
           0.015572984257744175,
           0.009817750945099589,
           0.006940134288777295,
           0.004006093776448683,
           0.0030468882243412515,
           0.0027647689443096543,
           0.008012187552897366,
           0.005642385600631948,
           0.00852000225695424,
           0,
           0,
           0,
           0,
           0,
           0
          ],
          [
           0.012187552897365006,
           0.004796027760537155,
           0.003103312080347571,
           0.0038932460644360437,
           0.0027647689443096543,
           0.0032161597923602097,
           0.002877616656322293,
           0.0030468882243412515,
           0.0060373525926761835,
           0,
           0,
           0,
           0,
           0,
           0
          ],
          [
           0.013372453873497715,
           0.007730068272865768,
           0.0027083450883033347,
           0.003441855216385488,
           0.002821192800315974,
           0.0027647689443096543,
           0.004965299328556113,
           0.0024262258082717375,
           0.008294306832928963,
           0,
           0,
           0,
           0,
           0,
           0
          ],
          [
           0.008068611408903685,
           0.004513908480505558,
           0.0024262258082717375,
           0.002369801952265418,
           0.0024826496642780566,
           0.0024262258082717375,
           0.002539073520284376,
           0.002651921232297015,
           0.002821192800315974,
           0,
           0,
           0,
           0,
           0,
           0
          ],
          [
           0.001918411104214862,
           0.0015234441121706258,
           0.001410596400157987,
           0.0015798679681769453,
           0.0018619872482085425,
           0.0015234441121706258,
           0.0015798679681769453,
           0.001410596400157987,
           0.001410596400157987,
           0,
           0,
           0,
           0,
           0,
           0
          ],
          [
           0.007617220560853129,
           0.008858545392992157,
           0.009366360097049033,
           0.009817750945099589,
           0.010043446369124865,
           0.01066410878519438,
           0.011566890481295491,
           0.01077695649720702,
           0.011905433617333408,
           0,
           0,
           0,
           0,
           0,
           0
          ],
          [
           0.005134570896575072,
           0.0027647689443096543,
           0.005585961744625628,
           0.0072786774248152115,
           0.00852000225695424,
           0.00970490323308695,
           0.011849009761327089,
           0.01077695649720702,
           0.013033910737459797,
           0,
           0,
           0,
           0,
           0,
           0
          ],
          [
           0.009987022513118546,
           0.009084240817017435,
           0.008125035264910005,
           0.007786492128872087,
           0.007109405856796254,
           0.00750437284884049,
           0.007391525136827851,
           0.006883710432770976,
           0.006996558144783615,
           0,
           0,
           0,
           0,
           0,
           0
          ],
          [
           0.02059470744230661,
           0.015572984257744175,
           0.012243976753371326,
           0.010156294081137504,
           0.007842915984878407,
           0.006940134288777295,
           0.004626756192518197,
           0.004739603904530836,
           0.003441855216385488,
           0,
           0,
           0,
           0,
           0,
           0
          ],
          [
           0,
           0,
           0,
           0,
           0,
           0,
           0,
           0,
           0,
           0,
           0,
           0,
           0,
           0,
           0
          ]
         ]
        },
        {
         "coloraxis": "coloraxis5",
         "name": "0-4",
         "type": "heatmap",
         "visible": true,
         "x": [
          "1",
          "2",
          "3",
          "4",
          "5",
          "6",
          "8",
          "7",
          "9",
          "0",
          "+",
          "-",
          "*",
          "/",
          "="
         ],
         "xaxis": "x22",
         "y": [
          "1",
          "2",
          "3",
          "4",
          "5",
          "6",
          "8",
          "7",
          "9",
          "0",
          "+",
          "-",
          "*",
          "/",
          "="
         ],
         "yaxis": "y22",
         "z": [
          [
           0.009140664673023755,
           0.010212717937143824,
           0.010833380353213339,
           0.01066410878519438,
           0.010212717937143824,
           0.01077695649720702,
           0.011341195057270215,
           0.010551261073181741,
           0.011905433617333408,
           0,
           0,
           0,
           0,
           0,
           0
          ],
          [
           0.011284771201263895,
           0.007109405856796254,
           0.00750437284884049,
           0.008294306832928963,
           0.008125035264910005,
           0.0084071545449416,
           0.00857642611296056,
           0.008294306832928963,
           0.00852000225695424,
           0,
           0,
           0,
           0,
           0,
           0
          ],
          [
           0.00970490323308695,
           0.009422783953055352,
           0.006488743440726739,
           0.007109405856796254,
           0.007786492128872087,
           0.007786492128872087,
           0.008012187552897366,
           0.007673644416859448,
           0.008294306832928963,
           0,
           0,
           0,
           0,
           0,
           0
          ],
          [
           0.008858545392992157,
           0.00857642611296056,
           0.008802121536985837,
           0.006432319584720419,
           0.006827286576764656,
           0.007617220560853129,
           0.007899339840884726,
           0.007673644416859448,
           0.007899339840884726,
           0,
           0,
           0,
           0,
           0,
           0
          ],
          [
           0.00852000225695424,
           0.008125035264910005,
           0.008125035264910005,
           0.008181459120916324,
           0.006375895728714101,
           0.006714438864752017,
           0.007335101280821531,
           0.007109405856796254,
           0.007673644416859448,
           0,
           0,
           0,
           0,
           0,
           0
          ],
          [
           0.008237882976922644,
           0.00744794899283417,
           0.007730068272865768,
           0.007955763696891046,
           0.007842915984878407,
           0.006375895728714101,
           0.007391525136827851,
           0.006601591152739378,
           0.007673644416859448,
           0,
           0,
           0,
           0,
           0,
           0
          ],
          [
           0.007673644416859448,
           0.006940134288777295,
           0.007052982000789934,
           0.00744794899283417,
           0.007335101280821531,
           0.007673644416859448,
           0.006319471872707781,
           0.007391525136827851,
           0.007165829712802573,
           0,
           0,
           0,
           0,
           0,
           0
          ],
          [
           0.007730068272865768,
           0.0072786774248152115,
           0.00750437284884049,
           0.007391525136827851,
           0.00744794899283417,
           0.007730068272865768,
           0.0065451672967330584,
           0.006206624160695142,
           0.007560796704846809,
           0,
           0,
           0,
           0,
           0,
           0
          ],
          [
           0.010269141793150144,
           0.006714438864752017,
           0.006827286576764656,
           0.007109405856796254,
           0.007109405856796254,
           0.0072786774248152115,
           0.007560796704846809,
           0.007222253568808892,
           0.006770862720758337,
           0,
           0,
           0,
           0,
           0,
           0
          ],
          [
           0.004513908480505558,
           0.004513908480505558,
           0.004513908480505558,
           0.004513908480505558,
           0.004513908480505558,
           0.004513908480505558,
           0.004513908480505558,
           0.004513908480505558,
           0.004513908480505558,
           0,
           0,
           0,
           0,
           0,
           0
          ],
          [
           0.011341195057270215,
           0.0029340405123286124,
           0.0018619872482085425,
           0.0016927156801895841,
           0.001184900976132709,
           0.0013541725441516674,
           0.002031258816227501,
           0.0016362918241832646,
           0.002539073520284376,
           0,
           0,
           0,
           0,
           0,
           0
          ],
          [
           0.05269988150990239,
           0.014162387857586188,
           0.006488743440726739,
           0.006319471872707781,
           0.004006093776448683,
           0.0038932460644360437,
           0.0024826496642780566,
           0.0033854313603791683,
           0.0024262258082717375,
           0,
           0,
           0,
           0,
           0,
           0
          ],
          [
           0.015798679681769453,
           0.010494837217175422,
           0.007335101280821531,
           0.005924504880663544,
           0.004344636912486599,
           0.003554702928398127,
           0.0020876826722338203,
           0.002369801952265418,
           0.0011284771201263894,
           0,
           0,
           0,
           0,
           0,
           0
          ],
          [
           0.016532189809851605,
           0.008914969248998476,
           0.007109405856796254,
           0.006714438864752017,
           0.004401060768492919,
           0.004570332336511877,
           0.004401060768492919,
           0.004626756192518197,
           0.004965299328556113,
           0,
           0,
           0,
           0,
           0,
           0
          ],
          [
           0.0013541725441516674,
           0.0060373525926761835,
           0.007617220560853129,
           0.0084071545449416,
           0.009309936241042713,
           0.009535631665067991,
           0.009874174801105907,
           0.00970490323308695,
           0.012526096033402923,
           0,
           0,
           0,
           0,
           0,
           0
          ]
         ]
        },
        {
         "coloraxis": "coloraxis",
         "name": "0-4",
         "type": "heatmap",
         "visible": false,
         "x": [
          "1",
          "2",
          "3",
          "4",
          "5",
          "6",
          "8",
          "7",
          "9",
          "0",
          "+",
          "-",
          "*",
          "/",
          "="
         ],
         "xaxis": "x22",
         "y": [
          "1",
          "2",
          "3",
          "4",
          "5",
          "6",
          "8",
          "7",
          "9",
          "0",
          "+",
          "-",
          "*",
          "/",
          "="
         ],
         "yaxis": "y22",
         "z": [
          [
           0.009140664673023755,
           0.010212717937143824,
           0.010833380353213339,
           0.01066410878519438,
           0.010212717937143824,
           0.01077695649720702,
           0.011341195057270215,
           0.010551261073181741,
           0.011905433617333408,
           0,
           0,
           0,
           0,
           0,
           0
          ],
          [
           0.011284771201263895,
           0.007109405856796254,
           0.00750437284884049,
           0.008294306832928963,
           0.008125035264910005,
           0.0084071545449416,
           0.00857642611296056,
           0.008294306832928963,
           0.00852000225695424,
           0,
           0,
           0,
           0,
           0,
           0
          ],
          [
           0.00970490323308695,
           0.009422783953055352,
           0.006488743440726739,
           0.007109405856796254,
           0.007786492128872087,
           0.007786492128872087,
           0.008012187552897366,
           0.007673644416859448,
           0.008294306832928963,
           0,
           0,
           0,
           0,
           0,
           0
          ],
          [
           0.008858545392992157,
           0.00857642611296056,
           0.008802121536985837,
           0.006432319584720419,
           0.006827286576764656,
           0.007617220560853129,
           0.007899339840884726,
           0.007673644416859448,
           0.007899339840884726,
           0,
           0,
           0,
           0,
           0,
           0
          ],
          [
           0.00852000225695424,
           0.008125035264910005,
           0.008125035264910005,
           0.008181459120916324,
           0.006375895728714101,
           0.006714438864752017,
           0.007335101280821531,
           0.007109405856796254,
           0.007673644416859448,
           0,
           0,
           0,
           0,
           0,
           0
          ],
          [
           0.008237882976922644,
           0.00744794899283417,
           0.007730068272865768,
           0.007955763696891046,
           0.007842915984878407,
           0.006375895728714101,
           0.007391525136827851,
           0.006601591152739378,
           0.007673644416859448,
           0,
           0,
           0,
           0,
           0,
           0
          ],
          [
           0.007673644416859448,
           0.006940134288777295,
           0.007052982000789934,
           0.00744794899283417,
           0.007335101280821531,
           0.007673644416859448,
           0.006319471872707781,
           0.007391525136827851,
           0.007165829712802573,
           0,
           0,
           0,
           0,
           0,
           0
          ],
          [
           0.007730068272865768,
           0.0072786774248152115,
           0.00750437284884049,
           0.007391525136827851,
           0.00744794899283417,
           0.007730068272865768,
           0.0065451672967330584,
           0.006206624160695142,
           0.007560796704846809,
           0,
           0,
           0,
           0,
           0,
           0
          ],
          [
           0.010269141793150144,
           0.006714438864752017,
           0.006827286576764656,
           0.007109405856796254,
           0.007109405856796254,
           0.0072786774248152115,
           0.007560796704846809,
           0.007222253568808892,
           0.006770862720758337,
           0,
           0,
           0,
           0,
           0,
           0
          ],
          [
           0.004513908480505558,
           0.004513908480505558,
           0.004513908480505558,
           0.004513908480505558,
           0.004513908480505558,
           0.004513908480505558,
           0.004513908480505558,
           0.004513908480505558,
           0.004513908480505558,
           0,
           0,
           0,
           0,
           0,
           0
          ],
          [
           0.011341195057270215,
           0.0029340405123286124,
           0.0018619872482085425,
           0.0016927156801895841,
           0.001184900976132709,
           0.0013541725441516674,
           0.002031258816227501,
           0.0016362918241832646,
           0.002539073520284376,
           0,
           0,
           0,
           0,
           0,
           0
          ],
          [
           0.05269988150990239,
           0.014162387857586188,
           0.006488743440726739,
           0.006319471872707781,
           0.004006093776448683,
           0.0038932460644360437,
           0.0024826496642780566,
           0.0033854313603791683,
           0.0024262258082717375,
           0,
           0,
           0,
           0,
           0,
           0
          ],
          [
           0.015798679681769453,
           0.010494837217175422,
           0.007335101280821531,
           0.005924504880663544,
           0.004344636912486599,
           0.003554702928398127,
           0.0020876826722338203,
           0.002369801952265418,
           0.0011284771201263894,
           0,
           0,
           0,
           0,
           0,
           0
          ],
          [
           0.016532189809851605,
           0.008914969248998476,
           0.007109405856796254,
           0.006714438864752017,
           0.004401060768492919,
           0.004570332336511877,
           0.004401060768492919,
           0.004626756192518197,
           0.004965299328556113,
           0,
           0,
           0,
           0,
           0,
           0
          ],
          [
           0.0013541725441516674,
           0.0060373525926761835,
           0.007617220560853129,
           0.0084071545449416,
           0.009309936241042713,
           0.009535631665067991,
           0.009874174801105907,
           0.00970490323308695,
           0.012526096033402923,
           0,
           0,
           0,
           0,
           0,
           0
          ]
         ]
        },
        {
         "coloraxis": "coloraxis6",
         "name": "0-5",
         "type": "heatmap",
         "visible": true,
         "x": [
          "1",
          "2",
          "3",
          "4",
          "5",
          "6",
          "8",
          "7",
          "9",
          "0",
          "+",
          "-",
          "*",
          "/",
          "="
         ],
         "xaxis": "x29",
         "y": [
          "1",
          "2",
          "3",
          "4",
          "5",
          "6",
          "8",
          "7",
          "9",
          "0",
          "+",
          "-",
          "*",
          "/",
          "="
         ],
         "yaxis": "y29",
         "z": [
          [
           0.01704000451390848,
           0.00970490323308695,
           0.007165829712802573,
           0.006093776448682503,
           0.004457484624499238,
           0.004006093776448683,
           0.002821192800315974,
           0.0033290075043728488,
           0.00536026632060035,
           0,
           0,
           0,
           0,
           0,
           0
          ],
          [
           0.015178017265699938,
           0.0061502003046888225,
           0.0066580150087456975,
           0.005642385600631948,
           0.004062517632455002,
           0.0036675506404107655,
           0.0032161597923602097,
           0.0032725836483665292,
           0.0030468882243412515,
           0,
           0,
           0,
           0,
           0,
           0
          ],
          [
           0.013033910737459797,
           0.005868081024657225,
           0.0036675506404107655,
           0.005078147040568752,
           0.0038932460644360437,
           0.003441855216385488,
           0.002990464368334932,
           0.003441855216385488,
           0.002990464368334932,
           0,
           0,
           0,
           0,
           0,
           0
          ],
          [
           0.012582519889409243,
           0.005698809456638266,
           0.004570332336511877,
           0.0031597359363538906,
           0.0038932460644360437,
           0.0038932460644360437,
           0.003611126784404446,
           0.0034982790723918074,
           0.0032725836483665292,
           0,
           0,
           0,
           0,
           0,
           0
          ],
          [
           0.01167973819330813,
           0.005021723184562433,
           0.004118941488461322,
           0.003723974496417085,
           0.002651921232297015,
           0.003723974496417085,
           0.0032725836483665292,
           0.003441855216385488,
           0.0033290075043728488,
           0,
           0,
           0,
           0,
           0,
           0
          ],
          [
           0.011849009761327089,
           0.005078147040568752,
           0.0038932460644360437,
           0.0036675506404107655,
           0.002990464368334932,
           0.0024826496642780566,
           0.0036675506404107655,
           0.003611126784404446,
           0.0034982790723918074,
           0,
           0,
           0,
           0,
           0,
           0
          ],
          [
           0.011171923489251256,
           0.0054166901766066694,
           0.0034982790723918074,
           0.0038932460644360437,
           0.002821192800315974,
           0.0033854313603791683,
           0.002256954240252779,
           0.0030468882243412515,
           0.003723974496417085,
           0,
           0,
           0,
           0,
           0,
           0
          ],
          [
           0.01066410878519438,
           0.004965299328556113,
           0.0032161597923602097,
           0.0033854313603791683,
           0.002877616656322293,
           0.003103312080347571,
           0.0032725836483665292,
           0.0020876826722338203,
           0.0033854313603791683,
           0,
           0,
           0,
           0,
           0,
           0
          ],
          [
           0.01077695649720702,
           0.00530384246459403,
           0.003441855216385488,
           0.0030468882243412515,
           0.0029340405123286124,
           0.0029340405123286124,
           0.0029340405123286124,
           0.002990464368334932,
           0.0020876826722338203,
           0,
           0,
           0,
           0,
           0,
           0
          ],
          [
           0.001918411104214862,
           0.001805563392202223,
           0.0014670202561643062,
           0.0016362918241832646,
           0.0016362918241832646,
           0.0012413248321390283,
           0.001184900976132709,
           0.00107205326412007,
           0.000959205552107431,
           0,
           0,
           0,
           0,
           0,
           0
          ],
          [
           0,
           0,
           0,
           0,
           0,
           0,
           0,
           0,
           0,
           0,
           0,
           0,
           0,
           0,
           0
          ],
          [
           0,
           0,
           0,
           0,
           0,
           0,
           0,
           0,
           0,
           0,
           0,
           0,
           0,
           0,
           0
          ],
          [
           0,
           0,
           0,
           0,
           0,
           0,
           0,
           0,
           0,
           0,
           0,
           0,
           0,
           0,
           0
          ],
          [
           0,
           0,
           0,
           0,
           0,
           0,
           0,
           0,
           0,
           0,
           0,
           0,
           0,
           0,
           0
          ],
          [
           0.06776505106358968,
           0.06387180499915364,
           0.06409750042317892,
           0.06483101055126107,
           0.0646053151272358,
           0.06590306381538115,
           0.06714438864752018,
           0.06516955368729899,
           0.06990915759182982,
           0,
           0,
           0,
           0,
           0,
           0
          ]
         ]
        },
        {
         "coloraxis": "coloraxis",
         "name": "0-5",
         "type": "heatmap",
         "visible": false,
         "x": [
          "1",
          "2",
          "3",
          "4",
          "5",
          "6",
          "8",
          "7",
          "9",
          "0",
          "+",
          "-",
          "*",
          "/",
          "="
         ],
         "xaxis": "x29",
         "y": [
          "1",
          "2",
          "3",
          "4",
          "5",
          "6",
          "8",
          "7",
          "9",
          "0",
          "+",
          "-",
          "*",
          "/",
          "="
         ],
         "yaxis": "y29",
         "z": [
          [
           0.01704000451390848,
           0.00970490323308695,
           0.007165829712802573,
           0.006093776448682503,
           0.004457484624499238,
           0.004006093776448683,
           0.002821192800315974,
           0.0033290075043728488,
           0.00536026632060035,
           0,
           0,
           0,
           0,
           0,
           0
          ],
          [
           0.015178017265699938,
           0.0061502003046888225,
           0.0066580150087456975,
           0.005642385600631948,
           0.004062517632455002,
           0.0036675506404107655,
           0.0032161597923602097,
           0.0032725836483665292,
           0.0030468882243412515,
           0,
           0,
           0,
           0,
           0,
           0
          ],
          [
           0.013033910737459797,
           0.005868081024657225,
           0.0036675506404107655,
           0.005078147040568752,
           0.0038932460644360437,
           0.003441855216385488,
           0.002990464368334932,
           0.003441855216385488,
           0.002990464368334932,
           0,
           0,
           0,
           0,
           0,
           0
          ],
          [
           0.012582519889409243,
           0.005698809456638266,
           0.004570332336511877,
           0.0031597359363538906,
           0.0038932460644360437,
           0.0038932460644360437,
           0.003611126784404446,
           0.0034982790723918074,
           0.0032725836483665292,
           0,
           0,
           0,
           0,
           0,
           0
          ],
          [
           0.01167973819330813,
           0.005021723184562433,
           0.004118941488461322,
           0.003723974496417085,
           0.002651921232297015,
           0.003723974496417085,
           0.0032725836483665292,
           0.003441855216385488,
           0.0033290075043728488,
           0,
           0,
           0,
           0,
           0,
           0
          ],
          [
           0.011849009761327089,
           0.005078147040568752,
           0.0038932460644360437,
           0.0036675506404107655,
           0.002990464368334932,
           0.0024826496642780566,
           0.0036675506404107655,
           0.003611126784404446,
           0.0034982790723918074,
           0,
           0,
           0,
           0,
           0,
           0
          ],
          [
           0.011171923489251256,
           0.0054166901766066694,
           0.0034982790723918074,
           0.0038932460644360437,
           0.002821192800315974,
           0.0033854313603791683,
           0.002256954240252779,
           0.0030468882243412515,
           0.003723974496417085,
           0,
           0,
           0,
           0,
           0,
           0
          ],
          [
           0.01066410878519438,
           0.004965299328556113,
           0.0032161597923602097,
           0.0033854313603791683,
           0.002877616656322293,
           0.003103312080347571,
           0.0032725836483665292,
           0.0020876826722338203,
           0.0033854313603791683,
           0,
           0,
           0,
           0,
           0,
           0
          ],
          [
           0.01077695649720702,
           0.00530384246459403,
           0.003441855216385488,
           0.0030468882243412515,
           0.0029340405123286124,
           0.0029340405123286124,
           0.0029340405123286124,
           0.002990464368334932,
           0.0020876826722338203,
           0,
           0,
           0,
           0,
           0,
           0
          ],
          [
           0.001918411104214862,
           0.001805563392202223,
           0.0014670202561643062,
           0.0016362918241832646,
           0.0016362918241832646,
           0.0012413248321390283,
           0.001184900976132709,
           0.00107205326412007,
           0.000959205552107431,
           0,
           0,
           0,
           0,
           0,
           0
          ],
          [
           0,
           0,
           0,
           0,
           0,
           0,
           0,
           0,
           0,
           0,
           0,
           0,
           0,
           0,
           0
          ],
          [
           0,
           0,
           0,
           0,
           0,
           0,
           0,
           0,
           0,
           0,
           0,
           0,
           0,
           0,
           0
          ],
          [
           0,
           0,
           0,
           0,
           0,
           0,
           0,
           0,
           0,
           0,
           0,
           0,
           0,
           0,
           0
          ],
          [
           0,
           0,
           0,
           0,
           0,
           0,
           0,
           0,
           0,
           0,
           0,
           0,
           0,
           0,
           0
          ],
          [
           0.06776505106358968,
           0.06387180499915364,
           0.06409750042317892,
           0.06483101055126107,
           0.0646053151272358,
           0.06590306381538115,
           0.06714438864752018,
           0.06516955368729899,
           0.06990915759182982,
           0,
           0,
           0,
           0,
           0,
           0
          ]
         ]
        },
        {
         "coloraxis": "coloraxis7",
         "name": "0-6",
         "type": "heatmap",
         "visible": true,
         "x": [
          "1",
          "2",
          "3",
          "4",
          "5",
          "6",
          "8",
          "7",
          "9",
          "0",
          "+",
          "-",
          "*",
          "/",
          "="
         ],
         "xaxis": "x36",
         "y": [
          "1",
          "2",
          "3",
          "4",
          "5",
          "6",
          "8",
          "7",
          "9",
          "0",
          "+",
          "-",
          "*",
          "/",
          "="
         ],
         "yaxis": "y36",
         "z": [
          [
           0.009309936241042713,
           0.013654573153529312,
           0.016419342097838966,
           0.016193646673813688,
           0.016532189809851605,
           0.01715285222592112,
           0.017999210066015913,
           0.016870732945889522,
           0.018337753202053827,
           0,
           0,
           0,
           0,
           0,
           0
          ],
          [
           0.007165829712802573,
           0.003836822208429724,
           0.008012187552897366,
           0.011341195057270215,
           0.01060768492918806,
           0.010889804209219658,
           0.011397618913276533,
           0.010833380353213339,
           0.011115499633244937,
           0,
           0,
           0,
           0,
           0,
           0
          ],
          [
           0.00852000225695424,
           0.006432319584720419,
           0.002877616656322293,
           0.006770862720758337,
           0.009535631665067991,
           0.00959205552107431,
           0.008802121536985837,
           0.009084240817017435,
           0.008632849968966879,
           0,
           0,
           0,
           0,
           0,
           0
          ],
          [
           0.007842915984878407,
           0.008350730688935281,
           0.005868081024657225,
           0.002651921232297015,
           0.006206624160695142,
           0.009366360097049033,
           0.009253512385036394,
           0.009084240817017435,
           0.008294306832928963,
           0,
           0,
           0,
           0,
           0,
           0
          ],
          [
           0.007391525136827851,
           0.007955763696891046,
           0.008125035264910005,
           0.005021723184562433,
           0.00214410652824014,
           0.0055295378886193085,
           0.008294306832928963,
           0.008858545392992157,
           0.00846357840094792,
           0,
           0,
           0,
           0,
           0,
           0
          ],
          [
           0.006996558144783615,
           0.00744794899283417,
           0.007560796704846809,
           0.008068611408903685,
           0.00530384246459403,
           0.0017491395361959037,
           0.008745697680979518,
           0.00536026632060035,
           0.008294306832928963,
           0,
           0,
           0,
           0,
           0,
           0
          ],
          [
           0.006319471872707781,
           0.007052982000789934,
           0.0072786774248152115,
           0.007730068272865768,
           0.007222253568808892,
           0.00750437284884049,
           0.001410596400157987,
           0.0049088754725497945,
           0.005642385600631948,
           0,
           0,
           0,
           0,
           0,
           0
          ],
          [
           0.006488743440726739,
           0.007335101280821531,
           0.007617220560853129,
           0.007335101280821531,
           0.007673644416859448,
           0.005021723184562433,
           0.005134570896575072,
           0.001410596400157987,
           0.00857642611296056,
           0,
           0,
           0,
           0,
           0,
           0
          ],
          [
           0.008745697680979518,
           0.006940134288777295,
           0.007109405856796254,
           0.007109405856796254,
           0.007165829712802573,
           0.007335101280821531,
           0.004570332336511877,
           0.007222253568808892,
           0.0015798679681769453,
           0,
           0,
           0,
           0,
           0,
           0
          ],
          [
           0.00033854313603791684,
           0.0009027816961011115,
           0.0008463578400947921,
           0.0010156294081137506,
           0.0015234441121706258,
           0.0012977486881453478,
           0.001410596400157987,
           0.0012413248321390283,
           0.0034982790723918074,
           0,
           0,
           0,
           0,
           0,
           0
          ],
          [
           0,
           0,
           0,
           0,
           0,
           0,
           0,
           0,
           0,
           0,
           0,
           0,
           0,
           0,
           0
          ],
          [
           0,
           0,
           0,
           0,
           0,
           0,
           0,
           0,
           0,
           0,
           0,
           0,
           0,
           0,
           0
          ],
          [
           0,
           0,
           0,
           0,
           0,
           0,
           0,
           0,
           0,
           0,
           0,
           0,
           0,
           0,
           0
          ],
          [
           0,
           0,
           0,
           0,
           0,
           0,
           0,
           0,
           0,
           0,
           0,
           0,
           0,
           0,
           0
          ],
          [
           0.11454042769282853,
           0.0489759070134853,
           0.03408000902781696,
           0.03092027309146307,
           0.022908085538565704,
           0.022343846978502512,
           0.01935338261016758,
           0.02008689273824973,
           0.0191276871861423,
           0,
           0,
           0,
           0,
           0,
           0
          ]
         ]
        },
        {
         "coloraxis": "coloraxis",
         "name": "0-6",
         "type": "heatmap",
         "visible": false,
         "x": [
          "1",
          "2",
          "3",
          "4",
          "5",
          "6",
          "8",
          "7",
          "9",
          "0",
          "+",
          "-",
          "*",
          "/",
          "="
         ],
         "xaxis": "x36",
         "y": [
          "1",
          "2",
          "3",
          "4",
          "5",
          "6",
          "8",
          "7",
          "9",
          "0",
          "+",
          "-",
          "*",
          "/",
          "="
         ],
         "yaxis": "y36",
         "z": [
          [
           0.009309936241042713,
           0.013654573153529312,
           0.016419342097838966,
           0.016193646673813688,
           0.016532189809851605,
           0.01715285222592112,
           0.017999210066015913,
           0.016870732945889522,
           0.018337753202053827,
           0,
           0,
           0,
           0,
           0,
           0
          ],
          [
           0.007165829712802573,
           0.003836822208429724,
           0.008012187552897366,
           0.011341195057270215,
           0.01060768492918806,
           0.010889804209219658,
           0.011397618913276533,
           0.010833380353213339,
           0.011115499633244937,
           0,
           0,
           0,
           0,
           0,
           0
          ],
          [
           0.00852000225695424,
           0.006432319584720419,
           0.002877616656322293,
           0.006770862720758337,
           0.009535631665067991,
           0.00959205552107431,
           0.008802121536985837,
           0.009084240817017435,
           0.008632849968966879,
           0,
           0,
           0,
           0,
           0,
           0
          ],
          [
           0.007842915984878407,
           0.008350730688935281,
           0.005868081024657225,
           0.002651921232297015,
           0.006206624160695142,
           0.009366360097049033,
           0.009253512385036394,
           0.009084240817017435,
           0.008294306832928963,
           0,
           0,
           0,
           0,
           0,
           0
          ],
          [
           0.007391525136827851,
           0.007955763696891046,
           0.008125035264910005,
           0.005021723184562433,
           0.00214410652824014,
           0.0055295378886193085,
           0.008294306832928963,
           0.008858545392992157,
           0.00846357840094792,
           0,
           0,
           0,
           0,
           0,
           0
          ],
          [
           0.006996558144783615,
           0.00744794899283417,
           0.007560796704846809,
           0.008068611408903685,
           0.00530384246459403,
           0.0017491395361959037,
           0.008745697680979518,
           0.00536026632060035,
           0.008294306832928963,
           0,
           0,
           0,
           0,
           0,
           0
          ],
          [
           0.006319471872707781,
           0.007052982000789934,
           0.0072786774248152115,
           0.007730068272865768,
           0.007222253568808892,
           0.00750437284884049,
           0.001410596400157987,
           0.0049088754725497945,
           0.005642385600631948,
           0,
           0,
           0,
           0,
           0,
           0
          ],
          [
           0.006488743440726739,
           0.007335101280821531,
           0.007617220560853129,
           0.007335101280821531,
           0.007673644416859448,
           0.005021723184562433,
           0.005134570896575072,
           0.001410596400157987,
           0.00857642611296056,
           0,
           0,
           0,
           0,
           0,
           0
          ],
          [
           0.008745697680979518,
           0.006940134288777295,
           0.007109405856796254,
           0.007109405856796254,
           0.007165829712802573,
           0.007335101280821531,
           0.004570332336511877,
           0.007222253568808892,
           0.0015798679681769453,
           0,
           0,
           0,
           0,
           0,
           0
          ],
          [
           0.00033854313603791684,
           0.0009027816961011115,
           0.0008463578400947921,
           0.0010156294081137506,
           0.0015234441121706258,
           0.0012977486881453478,
           0.001410596400157987,
           0.0012413248321390283,
           0.0034982790723918074,
           0,
           0,
           0,
           0,
           0,
           0
          ],
          [
           0,
           0,
           0,
           0,
           0,
           0,
           0,
           0,
           0,
           0,
           0,
           0,
           0,
           0,
           0
          ],
          [
           0,
           0,
           0,
           0,
           0,
           0,
           0,
           0,
           0,
           0,
           0,
           0,
           0,
           0,
           0
          ],
          [
           0,
           0,
           0,
           0,
           0,
           0,
           0,
           0,
           0,
           0,
           0,
           0,
           0,
           0,
           0
          ],
          [
           0,
           0,
           0,
           0,
           0,
           0,
           0,
           0,
           0,
           0,
           0,
           0,
           0,
           0,
           0
          ],
          [
           0.11454042769282853,
           0.0489759070134853,
           0.03408000902781696,
           0.03092027309146307,
           0.022908085538565704,
           0.022343846978502512,
           0.01935338261016758,
           0.02008689273824973,
           0.0191276871861423,
           0,
           0,
           0,
           0,
           0,
           0
          ]
         ]
        },
        {
         "coloraxis": "coloraxis8",
         "name": "0-7",
         "type": "heatmap",
         "visible": true,
         "x": [
          "1",
          "2",
          "3",
          "4",
          "5",
          "6",
          "8",
          "7",
          "9",
          "0",
          "+",
          "-",
          "*",
          "/",
          "="
         ],
         "xaxis": "x43",
         "y": [
          "1",
          "2",
          "3",
          "4",
          "5",
          "6",
          "8",
          "7",
          "9",
          "0",
          "+",
          "-",
          "*",
          "/",
          "="
         ],
         "yaxis": "y43",
         "z": [
          [
           0.013033910737459797,
           0.00959205552107431,
           0.01066410878519438,
           0.010099870225131185,
           0.009874174801105907,
           0.010043446369124865,
           0.00976132708909327,
           0.010833380353213339,
           0.011905433617333408,
           0,
           0,
           0,
           0,
           0,
           0
          ],
          [
           0.017829938497996953,
           0.010438413361169102,
           0.010043446369124865,
           0.01179258590532077,
           0.009309936241042713,
           0.011849009761327089,
           0.012243976753371326,
           0.010438413361169102,
           0.011454042769282852,
           0,
           0,
           0,
           0,
           0,
           0
          ],
          [
           0.017660666929977996,
           0.010833380353213339,
           0.008858545392992157,
           0.008237882976922644,
           0.008914969248998476,
           0.008689273824973198,
           0.009027816961011115,
           0.00976132708909327,
           0.011002651921232297,
           0,
           0,
           0,
           0,
           0,
           0
          ],
          [
           0.018619872482085426,
           0.013372453873497715,
           0.011171923489251256,
           0.009930598657112226,
           0.008181459120916324,
           0.0107205326412007,
           0.011341195057270215,
           0.009817750945099589,
           0.01060768492918806,
           0,
           0,
           0,
           0,
           0,
           0
          ],
          [
           0.0194098064661739,
           0.011397618913276533,
           0.011284771201263895,
           0.00970490323308695,
           0.011059075777238617,
           0.007955763696891046,
           0.008181459120916324,
           0.009140664673023755,
           0.010043446369124865,
           0,
           0,
           0,
           0,
           0,
           0
          ],
          [
           0.020707555154319247,
           0.013428877729504034,
           0.011228347345257576,
           0.011905433617333408,
           0.008689273824973198,
           0.009422783953055352,
           0.010438413361169102,
           0.00857642611296056,
           0.00964847937708063,
           0,
           0,
           0,
           0,
           0,
           0
          ],
          [
           0.021948879986458274,
           0.014218811713592508,
           0.011228347345257576,
           0.011961857473339728,
           0.008914969248998476,
           0.011002651921232297,
           0.008971393105004796,
           0.009197088529030074,
           0.008689273824973198,
           0,
           0,
           0,
           0,
           0,
           0
          ],
          [
           0.02036901201828133,
           0.011905433617333408,
           0.01060768492918806,
           0.009422783953055352,
           0.008858545392992157,
           0.008350730688935281,
           0.007109405856796254,
           0.007786492128872087,
           0.009084240817017435,
           0,
           0,
           0,
           0,
           0,
           0
          ],
          [
           0.02268239011454043,
           0.012243976753371326,
           0.01077695649720702,
           0.009479207809061672,
           0.009084240817017435,
           0.008350730688935281,
           0.007617220560853129,
           0.009253512385036394,
           0.00744794899283417,
           0,
           0,
           0,
           0,
           0,
           0
          ],
          [
           0.011397618913276533,
           0.011454042769282852,
           0.009930598657112226,
           0.01162331433730181,
           0.01393669243356091,
           0.011397618913276533,
           0.01167973819330813,
           0.010156294081137504,
           0.01167973819330813,
           0,
           0,
           0,
           0,
           0,
           0
          ],
          [
           0,
           0,
           0,
           0,
           0,
           0,
           0,
           0,
           0,
           0,
           0,
           0,
           0,
           0,
           0
          ],
          [
           0,
           0,
           0,
           0,
           0,
           0,
           0,
           0,
           0,
           0,
           0,
           0,
           0,
           0,
           0
          ],
          [
           0,
           0,
           0,
           0,
           0,
           0,
           0,
           0,
           0,
           0,
           0,
           0,
           0,
           0,
           0
          ],
          [
           0,
           0,
           0,
           0,
           0,
           0,
           0,
           0,
           0,
           0,
           0,
           0,
           0,
           0,
           0
          ],
          [
           0,
           0,
           0,
           0,
           0,
           0,
           0,
           0,
           0,
           0,
           0,
           0,
           0,
           0,
           0
          ]
         ]
        },
        {
         "coloraxis": "coloraxis",
         "name": "0-7",
         "type": "heatmap",
         "visible": false,
         "x": [
          "1",
          "2",
          "3",
          "4",
          "5",
          "6",
          "8",
          "7",
          "9",
          "0",
          "+",
          "-",
          "*",
          "/",
          "="
         ],
         "xaxis": "x43",
         "y": [
          "1",
          "2",
          "3",
          "4",
          "5",
          "6",
          "8",
          "7",
          "9",
          "0",
          "+",
          "-",
          "*",
          "/",
          "="
         ],
         "yaxis": "y43",
         "z": [
          [
           0.013033910737459797,
           0.00959205552107431,
           0.01066410878519438,
           0.010099870225131185,
           0.009874174801105907,
           0.010043446369124865,
           0.00976132708909327,
           0.010833380353213339,
           0.011905433617333408,
           0,
           0,
           0,
           0,
           0,
           0
          ],
          [
           0.017829938497996953,
           0.010438413361169102,
           0.010043446369124865,
           0.01179258590532077,
           0.009309936241042713,
           0.011849009761327089,
           0.012243976753371326,
           0.010438413361169102,
           0.011454042769282852,
           0,
           0,
           0,
           0,
           0,
           0
          ],
          [
           0.017660666929977996,
           0.010833380353213339,
           0.008858545392992157,
           0.008237882976922644,
           0.008914969248998476,
           0.008689273824973198,
           0.009027816961011115,
           0.00976132708909327,
           0.011002651921232297,
           0,
           0,
           0,
           0,
           0,
           0
          ],
          [
           0.018619872482085426,
           0.013372453873497715,
           0.011171923489251256,
           0.009930598657112226,
           0.008181459120916324,
           0.0107205326412007,
           0.011341195057270215,
           0.009817750945099589,
           0.01060768492918806,
           0,
           0,
           0,
           0,
           0,
           0
          ],
          [
           0.0194098064661739,
           0.011397618913276533,
           0.011284771201263895,
           0.00970490323308695,
           0.011059075777238617,
           0.007955763696891046,
           0.008181459120916324,
           0.009140664673023755,
           0.010043446369124865,
           0,
           0,
           0,
           0,
           0,
           0
          ],
          [
           0.020707555154319247,
           0.013428877729504034,
           0.011228347345257576,
           0.011905433617333408,
           0.008689273824973198,
           0.009422783953055352,
           0.010438413361169102,
           0.00857642611296056,
           0.00964847937708063,
           0,
           0,
           0,
           0,
           0,
           0
          ],
          [
           0.021948879986458274,
           0.014218811713592508,
           0.011228347345257576,
           0.011961857473339728,
           0.008914969248998476,
           0.011002651921232297,
           0.008971393105004796,
           0.009197088529030074,
           0.008689273824973198,
           0,
           0,
           0,
           0,
           0,
           0
          ],
          [
           0.02036901201828133,
           0.011905433617333408,
           0.01060768492918806,
           0.009422783953055352,
           0.008858545392992157,
           0.008350730688935281,
           0.007109405856796254,
           0.007786492128872087,
           0.009084240817017435,
           0,
           0,
           0,
           0,
           0,
           0
          ],
          [
           0.02268239011454043,
           0.012243976753371326,
           0.01077695649720702,
           0.009479207809061672,
           0.009084240817017435,
           0.008350730688935281,
           0.007617220560853129,
           0.009253512385036394,
           0.00744794899283417,
           0,
           0,
           0,
           0,
           0,
           0
          ],
          [
           0.011397618913276533,
           0.011454042769282852,
           0.009930598657112226,
           0.01162331433730181,
           0.01393669243356091,
           0.011397618913276533,
           0.01167973819330813,
           0.010156294081137504,
           0.01167973819330813,
           0,
           0,
           0,
           0,
           0,
           0
          ],
          [
           0,
           0,
           0,
           0,
           0,
           0,
           0,
           0,
           0,
           0,
           0,
           0,
           0,
           0,
           0
          ],
          [
           0,
           0,
           0,
           0,
           0,
           0,
           0,
           0,
           0,
           0,
           0,
           0,
           0,
           0,
           0
          ],
          [
           0,
           0,
           0,
           0,
           0,
           0,
           0,
           0,
           0,
           0,
           0,
           0,
           0,
           0,
           0
          ],
          [
           0,
           0,
           0,
           0,
           0,
           0,
           0,
           0,
           0,
           0,
           0,
           0,
           0,
           0,
           0
          ],
          [
           0,
           0,
           0,
           0,
           0,
           0,
           0,
           0,
           0,
           0,
           0,
           0,
           0,
           0,
           0
          ]
         ]
        },
        {
         "coloraxis": "coloraxis4",
         "name": "1-2",
         "type": "heatmap",
         "visible": true,
         "x": [
          "1",
          "2",
          "3",
          "4",
          "5",
          "6",
          "8",
          "7",
          "9",
          "0",
          "+",
          "-",
          "*",
          "/",
          "="
         ],
         "xaxis": "x9",
         "y": [
          "1",
          "2",
          "3",
          "4",
          "5",
          "6",
          "8",
          "7",
          "9",
          "0",
          "+",
          "-",
          "*",
          "/",
          "="
         ],
         "yaxis": "y9",
         "z": [
          [
           0.00033854313603791684,
           0.00011284771201263894,
           0.00033854313603791684,
           0.00033854313603791684,
           0.00022569542402527788,
           0.00033854313603791684,
           0.00011284771201263894,
           0.00033854313603791684,
           0.00022569542402527788,
           0.0012413248321390283,
           0.01692715680189584,
           0.0168143090898832,
           0.012808215313434521,
           0.008971393105004796,
           0
          ],
          [
           0.0012413248321390283,
           0.0006770862720758337,
           0.0013541725441516674,
           0.00033854313603791684,
           0.0014670202561643062,
           0.0006770862720758337,
           0.0006770862720758337,
           0.0010156294081137506,
           0.0014670202561643062,
           0.0014670202561643062,
           0.010212717937143824,
           0.005134570896575072,
           0.01500874569768098,
           0.004006093776448683,
           0
          ],
          [
           0.00033854313603791684,
           0.00033854313603791684,
           0.00022569542402527788,
           0.00033854313603791684,
           0.00033854313603791684,
           0,
           0.00033854313603791684,
           0.00033854313603791684,
           0.00022569542402527788,
           0.0009027816961011115,
           0.010043446369124865,
           0.0033854313603791683,
           0.017265699937933757,
           0.0024262258082717375,
           0
          ],
          [
           0.0005642385600631947,
           0.0011284771201263894,
           0.0006770862720758337,
           0.0014670202561643062,
           0.00033854313603791684,
           0.0013541725441516674,
           0.0011284771201263894,
           0.0006770862720758337,
           0.0006770862720758337,
           0.002031258816227501,
           0.01066410878519438,
           0.002821192800315974,
           0.019071263330135983,
           0.001918411104214862,
           0
          ],
          [
           0.0006770862720758337,
           0.0007899339840884726,
           0.0006770862720758337,
           0.0005642385600631947,
           0.0007899339840884726,
           0.0007899339840884726,
           0.0007899339840884726,
           0.0006770862720758337,
           0.0007899339840884726,
           0.0012413248321390283,
           0.01066410878519438,
           0.0016927156801895841,
           0.01997404502623709,
           0.00107205326412007,
           0
          ],
          [
           0.0013541725441516674,
           0.0006770862720758337,
           0.0011284771201263894,
           0.0006770862720758337,
           0.0012413248321390283,
           0.00045139084805055575,
           0.0006770862720758337,
           0.0014670202561643062,
           0.0011284771201263894,
           0.0007899339840884726,
           0.01167973819330813,
           0.0015234441121706258,
           0.020989674434350843,
           0.0014670202561643062,
           0
          ],
          [
           0.00033854313603791684,
           0.0013541725441516674,
           0.0006770862720758337,
           0.0011284771201263894,
           0.0006770862720758337,
           0.0014670202561643062,
           0.0013541725441516674,
           0.00045139084805055575,
           0.0005642385600631947,
           0.0014670202561643062,
           0.013541725441516673,
           0.0016927156801895841,
           0.021497489138407717,
           0.001410596400157987,
           0
          ],
          [
           0.00033854313603791684,
           0.00011284771201263894,
           0.00033854313603791684,
           0.00033854313603791684,
           0.00022569542402527788,
           0.00033854313603791684,
           0.00022569542402527788,
           0.00022569542402527788,
           0.00033854313603791684,
           0.00045139084805055575,
           0.012243976753371326,
           0.0015234441121706258,
           0.02036901201828133,
           0.000959205552107431,
           0
          ],
          [
           0.00033854313603791684,
           0.00033854313603791684,
           0.00022569542402527788,
           0.00022569542402527788,
           0.00033854313603791684,
           0.00022569542402527788,
           0.00033854313603791684,
           0.00033854313603791684,
           0.00011284771201263894,
           0.00011284771201263894,
           0.01698358065790216,
           0.002031258816227501,
           0.021046098290357165,
           0.0011284771201263894,
           0
          ],
          [
           0.0011284771201263894,
           0.001918411104214862,
           0.0009027816961011115,
           0.001805563392202223,
           0.0011284771201263894,
           0.0016927156801895841,
           0.001805563392202223,
           0.0010156294081137506,
           0.0007899339840884726,
           0.002369801952265418,
           0,
           0,
           0,
           0,
           0
          ],
          [
           0.021497489138407717,
           0.020707555154319247,
           0.01997404502623709,
           0.01929695875416126,
           0.018676296338091744,
           0.018112057778028552,
           0.01715285222592112,
           0.017604243073971675,
           0.016757885233876883,
           0.022343846978502512,
           0,
           0,
           0,
           0,
           0
          ],
          [
           0.028155504147153416,
           0.0278169610111155,
           0.027534841731083903,
           0.027252722451052303,
           0.027083450883033346,
           0.02680133160300175,
           0.026349940754951194,
           0.02663206003498279,
           0.026124245330925916,
           0.02871974270721661,
           0,
           0,
           0,
           0,
           0
          ],
          [
           0.004118941488461322,
           0.004965299328556113,
           0.003836822208429724,
           0.004796027760537155,
           0.004401060768492919,
           0.004570332336511877,
           0.004626756192518197,
           0.004006093776448683,
           0.0036675506404107655,
           0.004683180048524516,
           0,
           0,
           0,
           0,
           0
          ],
          [
           0.0034982790723918074,
           0.011961857473339728,
           0.0024262258082717375,
           0.011397618913276533,
           0.0072786774248152115,
           0.010551261073181741,
           0.009817750945099589,
           0.002256954240252779,
           0.0015234441121706258,
           0.015685831969756814,
           0,
           0,
           0,
           0,
           0
          ],
          [
           0,
           0,
           0,
           0,
           0,
           0,
           0,
           0,
           0,
           0,
           0,
           0,
           0,
           0,
           0
          ]
         ]
        },
        {
         "coloraxis": "coloraxis",
         "name": "1-2",
         "type": "heatmap",
         "visible": false,
         "x": [
          "1",
          "2",
          "3",
          "4",
          "5",
          "6",
          "8",
          "7",
          "9",
          "0",
          "+",
          "-",
          "*",
          "/",
          "="
         ],
         "xaxis": "x9",
         "y": [
          "1",
          "2",
          "3",
          "4",
          "5",
          "6",
          "8",
          "7",
          "9",
          "0",
          "+",
          "-",
          "*",
          "/",
          "="
         ],
         "yaxis": "y9",
         "z": [
          [
           0.00033854313603791684,
           0.00011284771201263894,
           0.00033854313603791684,
           0.00033854313603791684,
           0.00022569542402527788,
           0.00033854313603791684,
           0.00011284771201263894,
           0.00033854313603791684,
           0.00022569542402527788,
           0.0012413248321390283,
           0.01692715680189584,
           0.0168143090898832,
           0.012808215313434521,
           0.008971393105004796,
           0
          ],
          [
           0.0012413248321390283,
           0.0006770862720758337,
           0.0013541725441516674,
           0.00033854313603791684,
           0.0014670202561643062,
           0.0006770862720758337,
           0.0006770862720758337,
           0.0010156294081137506,
           0.0014670202561643062,
           0.0014670202561643062,
           0.010212717937143824,
           0.005134570896575072,
           0.01500874569768098,
           0.004006093776448683,
           0
          ],
          [
           0.00033854313603791684,
           0.00033854313603791684,
           0.00022569542402527788,
           0.00033854313603791684,
           0.00033854313603791684,
           0,
           0.00033854313603791684,
           0.00033854313603791684,
           0.00022569542402527788,
           0.0009027816961011115,
           0.010043446369124865,
           0.0033854313603791683,
           0.017265699937933757,
           0.0024262258082717375,
           0
          ],
          [
           0.0005642385600631947,
           0.0011284771201263894,
           0.0006770862720758337,
           0.0014670202561643062,
           0.00033854313603791684,
           0.0013541725441516674,
           0.0011284771201263894,
           0.0006770862720758337,
           0.0006770862720758337,
           0.002031258816227501,
           0.01066410878519438,
           0.002821192800315974,
           0.019071263330135983,
           0.001918411104214862,
           0
          ],
          [
           0.0006770862720758337,
           0.0007899339840884726,
           0.0006770862720758337,
           0.0005642385600631947,
           0.0007899339840884726,
           0.0007899339840884726,
           0.0007899339840884726,
           0.0006770862720758337,
           0.0007899339840884726,
           0.0012413248321390283,
           0.01066410878519438,
           0.0016927156801895841,
           0.01997404502623709,
           0.00107205326412007,
           0
          ],
          [
           0.0013541725441516674,
           0.0006770862720758337,
           0.0011284771201263894,
           0.0006770862720758337,
           0.0012413248321390283,
           0.00045139084805055575,
           0.0006770862720758337,
           0.0014670202561643062,
           0.0011284771201263894,
           0.0007899339840884726,
           0.01167973819330813,
           0.0015234441121706258,
           0.020989674434350843,
           0.0014670202561643062,
           0
          ],
          [
           0.00033854313603791684,
           0.0013541725441516674,
           0.0006770862720758337,
           0.0011284771201263894,
           0.0006770862720758337,
           0.0014670202561643062,
           0.0013541725441516674,
           0.00045139084805055575,
           0.0005642385600631947,
           0.0014670202561643062,
           0.013541725441516673,
           0.0016927156801895841,
           0.021497489138407717,
           0.001410596400157987,
           0
          ],
          [
           0.00033854313603791684,
           0.00011284771201263894,
           0.00033854313603791684,
           0.00033854313603791684,
           0.00022569542402527788,
           0.00033854313603791684,
           0.00022569542402527788,
           0.00022569542402527788,
           0.00033854313603791684,
           0.00045139084805055575,
           0.012243976753371326,
           0.0015234441121706258,
           0.02036901201828133,
           0.000959205552107431,
           0
          ],
          [
           0.00033854313603791684,
           0.00033854313603791684,
           0.00022569542402527788,
           0.00022569542402527788,
           0.00033854313603791684,
           0.00022569542402527788,
           0.00033854313603791684,
           0.00033854313603791684,
           0.00011284771201263894,
           0.00011284771201263894,
           0.01698358065790216,
           0.002031258816227501,
           0.021046098290357165,
           0.0011284771201263894,
           0
          ],
          [
           0.0011284771201263894,
           0.001918411104214862,
           0.0009027816961011115,
           0.001805563392202223,
           0.0011284771201263894,
           0.0016927156801895841,
           0.001805563392202223,
           0.0010156294081137506,
           0.0007899339840884726,
           0.002369801952265418,
           0,
           0,
           0,
           0,
           0
          ],
          [
           0.021497489138407717,
           0.020707555154319247,
           0.01997404502623709,
           0.01929695875416126,
           0.018676296338091744,
           0.018112057778028552,
           0.01715285222592112,
           0.017604243073971675,
           0.016757885233876883,
           0.022343846978502512,
           0,
           0,
           0,
           0,
           0
          ],
          [
           0.028155504147153416,
           0.0278169610111155,
           0.027534841731083903,
           0.027252722451052303,
           0.027083450883033346,
           0.02680133160300175,
           0.026349940754951194,
           0.02663206003498279,
           0.026124245330925916,
           0.02871974270721661,
           0,
           0,
           0,
           0,
           0
          ],
          [
           0.004118941488461322,
           0.004965299328556113,
           0.003836822208429724,
           0.004796027760537155,
           0.004401060768492919,
           0.004570332336511877,
           0.004626756192518197,
           0.004006093776448683,
           0.0036675506404107655,
           0.004683180048524516,
           0,
           0,
           0,
           0,
           0
          ],
          [
           0.0034982790723918074,
           0.011961857473339728,
           0.0024262258082717375,
           0.011397618913276533,
           0.0072786774248152115,
           0.010551261073181741,
           0.009817750945099589,
           0.002256954240252779,
           0.0015234441121706258,
           0.015685831969756814,
           0,
           0,
           0,
           0,
           0
          ],
          [
           0,
           0,
           0,
           0,
           0,
           0,
           0,
           0,
           0,
           0,
           0,
           0,
           0,
           0,
           0
          ]
         ]
        },
        {
         "coloraxis": "coloraxis5",
         "name": "1-3",
         "type": "heatmap",
         "visible": true,
         "x": [
          "1",
          "2",
          "3",
          "4",
          "5",
          "6",
          "8",
          "7",
          "9",
          "0",
          "+",
          "-",
          "*",
          "/",
          "="
         ],
         "xaxis": "x16",
         "y": [
          "1",
          "2",
          "3",
          "4",
          "5",
          "6",
          "8",
          "7",
          "9",
          "0",
          "+",
          "-",
          "*",
          "/",
          "="
         ],
         "yaxis": "y16",
         "z": [
          [
           0.011115499633244937,
           0.01162331433730181,
           0.010438413361169102,
           0.010946228065225978,
           0.010438413361169102,
           0.010269141793150144,
           0.00970490323308695,
           0.009309936241042713,
           0.008745697680979518,
           0.011961857473339728,
           0.0020876826722338203,
           0.002651921232297015,
           0.004118941488461322,
           0.0003949669920442363,
           0
          ],
          [
           0.009197088529030074,
           0.011059075777238617,
           0.008802121536985837,
           0.01060768492918806,
           0.008632849968966879,
           0.010212717937143824,
           0.009874174801105907,
           0.008350730688935281,
           0.008125035264910005,
           0.01173616204931445,
           0.0031597359363538906,
           0.004006093776448683,
           0.004965299328556113,
           0.0012413248321390283,
           0
          ],
          [
           0.009027816961011115,
           0.009479207809061672,
           0.008294306832928963,
           0.009084240817017435,
           0.008745697680979518,
           0.008237882976922644,
           0.00857642611296056,
           0.008181459120916324,
           0.007560796704846809,
           0.009140664673023755,
           0.0011284771201263894,
           0.001410596400157987,
           0.003836822208429724,
           0.00011284771201263894,
           0
          ],
          [
           0.006996558144783615,
           0.009140664673023755,
           0.006714438864752017,
           0.0084071545449416,
           0.006488743440726739,
           0.008689273824973198,
           0.007899339840884726,
           0.006432319584720419,
           0.006263048016701462,
           0.009084240817017435,
           0.002369801952265418,
           0.0029340405123286124,
           0.004796027760537155,
           0.00107205326412007,
           0
          ],
          [
           0.005868081024657225,
           0.005755233312644586,
           0.005642385600631948,
           0.0055295378886193085,
           0.00959205552107431,
           0.0054166901766066694,
           0.00530384246459403,
           0.00536026632060035,
           0.005247418608587711,
           0.011510466625289172,
           0.0019748349602211816,
           0.0023133780962590984,
           0.004401060768492919,
           0.0006206624160695141,
           0
          ],
          [
           0.0049088754725497945,
           0.006940134288777295,
           0.004513908480505558,
           0.006488743440726739,
           0.004513908480505558,
           0.005980928736669864,
           0.006206624160695142,
           0.004401060768492919,
           0.00423178920047396,
           0.006714438864752017,
           0.0018619872482085425,
           0.00214410652824014,
           0.004570332336511877,
           0.0008463578400947921,
           0
          ],
          [
           0.0025954973762906956,
           0.00423178920047396,
           0.002539073520284376,
           0.004062517632455002,
           0.002369801952265418,
           0.004513908480505558,
           0.0034982790723918074,
           0.002256954240252779,
           0.0020876826722338203,
           0.0041753653444676405,
           0.0019748349602211816,
           0.002031258816227501,
           0.004626756192518197,
           0.000959205552107431,
           0
          ],
          [
           0.004739603904530836,
           0.00428821305648028,
           0.00423178920047396,
           0.0049088754725497945,
           0.004118941488461322,
           0.0041753653444676405,
           0.004401060768492919,
           0.003723974496417085,
           0.003836822208429724,
           0.004401060768492919,
           0.0007899339840884726,
           0.0006206624160695141,
           0.004006093776448683,
           0.00028211928003159736,
           0
          ],
          [
           0.002821192800315974,
           0.0029340405123286124,
           0.0025954973762906956,
           0.0027083450883033347,
           0.002539073520284376,
           0.002539073520284376,
           0.0024826496642780566,
           0.0024826496642780566,
           0.0019748349602211816,
           0.0027083450883033347,
           0.0006206624160695141,
           0.00016927156801895842,
           0.0036675506404107655,
           0.00005642385600631947,
           0
          ],
          [
           0,
           0,
           0,
           0,
           0,
           0,
           0,
           0,
           0,
           0,
           0.003836822208429724,
           0.004796027760537155,
           0.004683180048524516,
           0.0009027816961011115,
           0
          ],
          [
           0,
           0,
           0,
           0,
           0,
           0,
           0,
           0,
           0,
           0,
           0.03639338712407606,
           0.013541725441516673,
           0.036788354116120296,
           0.0038932460644360437,
           0
          ],
          [
           0,
           0,
           0,
           0,
           0,
           0,
           0,
           0,
           0,
           0.005078147040568752,
           0.01608079896180105,
           0,
           0.05348981549399086,
           0,
           0
          ],
          [
           0,
           0,
           0,
           0,
           0,
           0,
           0,
           0,
           0,
           0,
           0.036788354116120296,
           0,
           0.021102522146363482,
           0.012977486881453478,
           0
          ],
          [
           0.0066580150087456975,
           0.00744794899283417,
           0.0065451672967330584,
           0.007222253568808892,
           0.006770862720758337,
           0.007335101280821531,
           0.00744794899283417,
           0.0065451672967330584,
           0.006319471872707781,
           0.006996558144783615,
           0.0038932460644360437,
           0,
           0.012977486881453478,
           0,
           0
          ],
          [
           0,
           0,
           0,
           0,
           0,
           0,
           0,
           0,
           0,
           0,
           0,
           0,
           0,
           0,
           0
          ]
         ]
        },
        {
         "coloraxis": "coloraxis",
         "name": "1-3",
         "type": "heatmap",
         "visible": false,
         "x": [
          "1",
          "2",
          "3",
          "4",
          "5",
          "6",
          "8",
          "7",
          "9",
          "0",
          "+",
          "-",
          "*",
          "/",
          "="
         ],
         "xaxis": "x16",
         "y": [
          "1",
          "2",
          "3",
          "4",
          "5",
          "6",
          "8",
          "7",
          "9",
          "0",
          "+",
          "-",
          "*",
          "/",
          "="
         ],
         "yaxis": "y16",
         "z": [
          [
           0.011115499633244937,
           0.01162331433730181,
           0.010438413361169102,
           0.010946228065225978,
           0.010438413361169102,
           0.010269141793150144,
           0.00970490323308695,
           0.009309936241042713,
           0.008745697680979518,
           0.011961857473339728,
           0.0020876826722338203,
           0.002651921232297015,
           0.004118941488461322,
           0.0003949669920442363,
           0
          ],
          [
           0.009197088529030074,
           0.011059075777238617,
           0.008802121536985837,
           0.01060768492918806,
           0.008632849968966879,
           0.010212717937143824,
           0.009874174801105907,
           0.008350730688935281,
           0.008125035264910005,
           0.01173616204931445,
           0.0031597359363538906,
           0.004006093776448683,
           0.004965299328556113,
           0.0012413248321390283,
           0
          ],
          [
           0.009027816961011115,
           0.009479207809061672,
           0.008294306832928963,
           0.009084240817017435,
           0.008745697680979518,
           0.008237882976922644,
           0.00857642611296056,
           0.008181459120916324,
           0.007560796704846809,
           0.009140664673023755,
           0.0011284771201263894,
           0.001410596400157987,
           0.003836822208429724,
           0.00011284771201263894,
           0
          ],
          [
           0.006996558144783615,
           0.009140664673023755,
           0.006714438864752017,
           0.0084071545449416,
           0.006488743440726739,
           0.008689273824973198,
           0.007899339840884726,
           0.006432319584720419,
           0.006263048016701462,
           0.009084240817017435,
           0.002369801952265418,
           0.0029340405123286124,
           0.004796027760537155,
           0.00107205326412007,
           0
          ],
          [
           0.005868081024657225,
           0.005755233312644586,
           0.005642385600631948,
           0.0055295378886193085,
           0.00959205552107431,
           0.0054166901766066694,
           0.00530384246459403,
           0.00536026632060035,
           0.005247418608587711,
           0.011510466625289172,
           0.0019748349602211816,
           0.0023133780962590984,
           0.004401060768492919,
           0.0006206624160695141,
           0
          ],
          [
           0.0049088754725497945,
           0.006940134288777295,
           0.004513908480505558,
           0.006488743440726739,
           0.004513908480505558,
           0.005980928736669864,
           0.006206624160695142,
           0.004401060768492919,
           0.00423178920047396,
           0.006714438864752017,
           0.0018619872482085425,
           0.00214410652824014,
           0.004570332336511877,
           0.0008463578400947921,
           0
          ],
          [
           0.0025954973762906956,
           0.00423178920047396,
           0.002539073520284376,
           0.004062517632455002,
           0.002369801952265418,
           0.004513908480505558,
           0.0034982790723918074,
           0.002256954240252779,
           0.0020876826722338203,
           0.0041753653444676405,
           0.0019748349602211816,
           0.002031258816227501,
           0.004626756192518197,
           0.000959205552107431,
           0
          ],
          [
           0.004739603904530836,
           0.00428821305648028,
           0.00423178920047396,
           0.0049088754725497945,
           0.004118941488461322,
           0.0041753653444676405,
           0.004401060768492919,
           0.003723974496417085,
           0.003836822208429724,
           0.004401060768492919,
           0.0007899339840884726,
           0.0006206624160695141,
           0.004006093776448683,
           0.00028211928003159736,
           0
          ],
          [
           0.002821192800315974,
           0.0029340405123286124,
           0.0025954973762906956,
           0.0027083450883033347,
           0.002539073520284376,
           0.002539073520284376,
           0.0024826496642780566,
           0.0024826496642780566,
           0.0019748349602211816,
           0.0027083450883033347,
           0.0006206624160695141,
           0.00016927156801895842,
           0.0036675506404107655,
           0.00005642385600631947,
           0
          ],
          [
           0,
           0,
           0,
           0,
           0,
           0,
           0,
           0,
           0,
           0,
           0.003836822208429724,
           0.004796027760537155,
           0.004683180048524516,
           0.0009027816961011115,
           0
          ],
          [
           0,
           0,
           0,
           0,
           0,
           0,
           0,
           0,
           0,
           0,
           0.03639338712407606,
           0.013541725441516673,
           0.036788354116120296,
           0.0038932460644360437,
           0
          ],
          [
           0,
           0,
           0,
           0,
           0,
           0,
           0,
           0,
           0,
           0.005078147040568752,
           0.01608079896180105,
           0,
           0.05348981549399086,
           0,
           0
          ],
          [
           0,
           0,
           0,
           0,
           0,
           0,
           0,
           0,
           0,
           0,
           0.036788354116120296,
           0,
           0.021102522146363482,
           0.012977486881453478,
           0
          ],
          [
           0.0066580150087456975,
           0.00744794899283417,
           0.0065451672967330584,
           0.007222253568808892,
           0.006770862720758337,
           0.007335101280821531,
           0.00744794899283417,
           0.0065451672967330584,
           0.006319471872707781,
           0.006996558144783615,
           0.0038932460644360437,
           0,
           0.012977486881453478,
           0,
           0
          ],
          [
           0,
           0,
           0,
           0,
           0,
           0,
           0,
           0,
           0,
           0,
           0,
           0,
           0,
           0,
           0
          ]
         ]
        },
        {
         "coloraxis": "coloraxis6",
         "name": "1-4",
         "type": "heatmap",
         "visible": true,
         "x": [
          "1",
          "2",
          "3",
          "4",
          "5",
          "6",
          "8",
          "7",
          "9",
          "0",
          "+",
          "-",
          "*",
          "/",
          "="
         ],
         "xaxis": "x23",
         "y": [
          "1",
          "2",
          "3",
          "4",
          "5",
          "6",
          "8",
          "7",
          "9",
          "0",
          "+",
          "-",
          "*",
          "/",
          "="
         ],
         "yaxis": "y23",
         "z": [
          [
           0.004344636912486599,
           0.00428821305648028,
           0.00423178920047396,
           0.0041753653444676405,
           0.0041753653444676405,
           0.004118941488461322,
           0.004062517632455002,
           0.004118941488461322,
           0.003611126784404446,
           0.003949669920442363,
           0.0194098064661739,
           0.006770862720758337,
           0.025165039778818486,
           0.0032161597923602097,
           0
          ],
          [
           0.00423178920047396,
           0.004683180048524516,
           0.004683180048524516,
           0.004683180048524516,
           0.004570332336511877,
           0.004739603904530836,
           0.0041753653444676405,
           0.004513908480505558,
           0.004062517632455002,
           0.004513908480505558,
           0.009197088529030074,
           0.00005642385600631947,
           0.020030468882243413,
           0.0019748349602211816,
           0
          ],
          [
           0.004513908480505558,
           0.004401060768492919,
           0.004739603904530836,
           0.004852451616543475,
           0.0049088754725497945,
           0.004626756192518197,
           0.004401060768492919,
           0.004344636912486599,
           0.00428821305648028,
           0.004457484624499238,
           0.009309936241042713,
           0.00016927156801895842,
           0.01602437510579473,
           0.0012413248321390283,
           0
          ],
          [
           0.0041753653444676405,
           0.004739603904530836,
           0.004401060768492919,
           0.005134570896575072,
           0.004570332336511877,
           0.004570332336511877,
           0.004626756192518197,
           0.00428821305648028,
           0.00428821305648028,
           0.004626756192518197,
           0.009253512385036394,
           0.00033854313603791684,
           0.014105964001579869,
           0.0014670202561643062,
           0
          ],
          [
           0.004739603904530836,
           0.004401060768492919,
           0.004401060768492919,
           0.00428821305648028,
           0.004739603904530836,
           0.004513908480505558,
           0.00428821305648028,
           0.004570332336511877,
           0.004344636912486599,
           0.005134570896575072,
           0.009197088529030074,
           0.0005642385600631947,
           0.01167973819330813,
           0.0012977486881453478,
           0
          ],
          [
           0.004344636912486599,
           0.004796027760537155,
           0.004570332336511877,
           0.0041753653444676405,
           0.003949669920442363,
           0.004513908480505558,
           0.004626756192518197,
           0.004401060768492919,
           0.004457484624499238,
           0.0049088754725497945,
           0.009197088529030074,
           0.0008463578400947921,
           0.01077695649720702,
           0.0016927156801895841,
           0
          ],
          [
           0.004344636912486599,
           0.004344636912486599,
           0.0038932460644360437,
           0.004401060768492919,
           0.003949669920442363,
           0.004457484624499238,
           0.004570332336511877,
           0.004006093776448683,
           0.00428821305648028,
           0.005021723184562433,
           0.009197088529030074,
           0.0015798679681769453,
           0.008802121536985837,
           0.00214410652824014,
           0
          ],
          [
           0.004683180048524516,
           0.004457484624499238,
           0.00423178920047396,
           0.004062517632455002,
           0.00428821305648028,
           0.004062517632455002,
           0.004513908480505558,
           0.004344636912486599,
           0.004513908480505558,
           0.004852451616543475,
           0.009197088529030074,
           0.001184900976132709,
           0.009535631665067991,
           0.0014670202561643062,
           0
          ],
          [
           0.0037803983524234046,
           0.003836822208429724,
           0.0038932460644360437,
           0.003949669920442363,
           0.004118941488461322,
           0.00423178920047396,
           0.004683180048524516,
           0.004457484624499238,
           0.004965299328556113,
           0.007109405856796254,
           0.009197088529030074,
           0.002031258816227501,
           0.008237882976922644,
           0.002369801952265418,
           0
          ],
          [
           0.004062517632455002,
           0.004062517632455002,
           0.004062517632455002,
           0.004062517632455002,
           0.004062517632455002,
           0.004062517632455002,
           0.004062517632455002,
           0.004062517632455002,
           0.004062517632455002,
           0.004062517632455002,
           0,
           0,
           0,
           0,
           0
          ],
          [
           0.002031258816227501,
           0.0030468882243412515,
           0.000959205552107431,
           0.00214410652824014,
           0.0016927156801895841,
           0.0015234441121706258,
           0.0015234441121706258,
           0.0003949669920442363,
           0.00011284771201263894,
           0.003836822208429724,
           0,
           0.009309936241042713,
           0,
           0,
           0
          ],
          [
           0.00857642611296056,
           0.011397618913276533,
           0.0072786774248152115,
           0.010212717937143824,
           0.008350730688935281,
           0.009027816961011115,
           0.007673644416859448,
           0.004796027760537155,
           0.003723974496417085,
           0.015516560401737855,
           0.006770862720758337,
           0,
           0.002539073520284376,
           0,
           0
          ],
          [
           0.0049088754725497945,
           0.005642385600631948,
           0.004401060768492919,
           0.005190994752581391,
           0.004626756192518197,
           0.004626756192518197,
           0.004401060768492919,
           0.003949669920442363,
           0.0033290075043728488,
           0.005473114032612989,
           0,
           0,
           0,
           0.006488743440726739,
           0
          ],
          [
           0.0018619872482085425,
           0.00536026632060035,
           0.0010156294081137506,
           0.004965299328556113,
           0.002369801952265418,
           0.004401060768492919,
           0.003723974496417085,
           0.0007899339840884726,
           0.00022569542402527788,
           0.006770862720758337,
           0.010494837217175422,
           0.013767420865541951,
           0.006488743440726739,
           0,
           0
          ],
          [
           0.0033290075043728488,
           0.003441855216385488,
           0.003554702928398127,
           0.0036675506404107655,
           0.003836822208429724,
           0.0038932460644360437,
           0.004062517632455002,
           0.004006093776448683,
           0.004118941488461322,
           0.0032725836483665292,
           0.002539073520284376,
           0,
           0.03464424758788016,
           0,
           0
          ]
         ]
        },
        {
         "coloraxis": "coloraxis",
         "name": "1-4",
         "type": "heatmap",
         "visible": false,
         "x": [
          "1",
          "2",
          "3",
          "4",
          "5",
          "6",
          "8",
          "7",
          "9",
          "0",
          "+",
          "-",
          "*",
          "/",
          "="
         ],
         "xaxis": "x23",
         "y": [
          "1",
          "2",
          "3",
          "4",
          "5",
          "6",
          "8",
          "7",
          "9",
          "0",
          "+",
          "-",
          "*",
          "/",
          "="
         ],
         "yaxis": "y23",
         "z": [
          [
           0.004344636912486599,
           0.00428821305648028,
           0.00423178920047396,
           0.0041753653444676405,
           0.0041753653444676405,
           0.004118941488461322,
           0.004062517632455002,
           0.004118941488461322,
           0.003611126784404446,
           0.003949669920442363,
           0.0194098064661739,
           0.006770862720758337,
           0.025165039778818486,
           0.0032161597923602097,
           0
          ],
          [
           0.00423178920047396,
           0.004683180048524516,
           0.004683180048524516,
           0.004683180048524516,
           0.004570332336511877,
           0.004739603904530836,
           0.0041753653444676405,
           0.004513908480505558,
           0.004062517632455002,
           0.004513908480505558,
           0.009197088529030074,
           0.00005642385600631947,
           0.020030468882243413,
           0.0019748349602211816,
           0
          ],
          [
           0.004513908480505558,
           0.004401060768492919,
           0.004739603904530836,
           0.004852451616543475,
           0.0049088754725497945,
           0.004626756192518197,
           0.004401060768492919,
           0.004344636912486599,
           0.00428821305648028,
           0.004457484624499238,
           0.009309936241042713,
           0.00016927156801895842,
           0.01602437510579473,
           0.0012413248321390283,
           0
          ],
          [
           0.0041753653444676405,
           0.004739603904530836,
           0.004401060768492919,
           0.005134570896575072,
           0.004570332336511877,
           0.004570332336511877,
           0.004626756192518197,
           0.00428821305648028,
           0.00428821305648028,
           0.004626756192518197,
           0.009253512385036394,
           0.00033854313603791684,
           0.014105964001579869,
           0.0014670202561643062,
           0
          ],
          [
           0.004739603904530836,
           0.004401060768492919,
           0.004401060768492919,
           0.00428821305648028,
           0.004739603904530836,
           0.004513908480505558,
           0.00428821305648028,
           0.004570332336511877,
           0.004344636912486599,
           0.005134570896575072,
           0.009197088529030074,
           0.0005642385600631947,
           0.01167973819330813,
           0.0012977486881453478,
           0
          ],
          [
           0.004344636912486599,
           0.004796027760537155,
           0.004570332336511877,
           0.0041753653444676405,
           0.003949669920442363,
           0.004513908480505558,
           0.004626756192518197,
           0.004401060768492919,
           0.004457484624499238,
           0.0049088754725497945,
           0.009197088529030074,
           0.0008463578400947921,
           0.01077695649720702,
           0.0016927156801895841,
           0
          ],
          [
           0.004344636912486599,
           0.004344636912486599,
           0.0038932460644360437,
           0.004401060768492919,
           0.003949669920442363,
           0.004457484624499238,
           0.004570332336511877,
           0.004006093776448683,
           0.00428821305648028,
           0.005021723184562433,
           0.009197088529030074,
           0.0015798679681769453,
           0.008802121536985837,
           0.00214410652824014,
           0
          ],
          [
           0.004683180048524516,
           0.004457484624499238,
           0.00423178920047396,
           0.004062517632455002,
           0.00428821305648028,
           0.004062517632455002,
           0.004513908480505558,
           0.004344636912486599,
           0.004513908480505558,
           0.004852451616543475,
           0.009197088529030074,
           0.001184900976132709,
           0.009535631665067991,
           0.0014670202561643062,
           0
          ],
          [
           0.0037803983524234046,
           0.003836822208429724,
           0.0038932460644360437,
           0.003949669920442363,
           0.004118941488461322,
           0.00423178920047396,
           0.004683180048524516,
           0.004457484624499238,
           0.004965299328556113,
           0.007109405856796254,
           0.009197088529030074,
           0.002031258816227501,
           0.008237882976922644,
           0.002369801952265418,
           0
          ],
          [
           0.004062517632455002,
           0.004062517632455002,
           0.004062517632455002,
           0.004062517632455002,
           0.004062517632455002,
           0.004062517632455002,
           0.004062517632455002,
           0.004062517632455002,
           0.004062517632455002,
           0.004062517632455002,
           0,
           0,
           0,
           0,
           0
          ],
          [
           0.002031258816227501,
           0.0030468882243412515,
           0.000959205552107431,
           0.00214410652824014,
           0.0016927156801895841,
           0.0015234441121706258,
           0.0015234441121706258,
           0.0003949669920442363,
           0.00011284771201263894,
           0.003836822208429724,
           0,
           0.009309936241042713,
           0,
           0,
           0
          ],
          [
           0.00857642611296056,
           0.011397618913276533,
           0.0072786774248152115,
           0.010212717937143824,
           0.008350730688935281,
           0.009027816961011115,
           0.007673644416859448,
           0.004796027760537155,
           0.003723974496417085,
           0.015516560401737855,
           0.006770862720758337,
           0,
           0.002539073520284376,
           0,
           0
          ],
          [
           0.0049088754725497945,
           0.005642385600631948,
           0.004401060768492919,
           0.005190994752581391,
           0.004626756192518197,
           0.004626756192518197,
           0.004401060768492919,
           0.003949669920442363,
           0.0033290075043728488,
           0.005473114032612989,
           0,
           0,
           0,
           0.006488743440726739,
           0
          ],
          [
           0.0018619872482085425,
           0.00536026632060035,
           0.0010156294081137506,
           0.004965299328556113,
           0.002369801952265418,
           0.004401060768492919,
           0.003723974496417085,
           0.0007899339840884726,
           0.00022569542402527788,
           0.006770862720758337,
           0.010494837217175422,
           0.013767420865541951,
           0.006488743440726739,
           0,
           0
          ],
          [
           0.0033290075043728488,
           0.003441855216385488,
           0.003554702928398127,
           0.0036675506404107655,
           0.003836822208429724,
           0.0038932460644360437,
           0.004062517632455002,
           0.004006093776448683,
           0.004118941488461322,
           0.0032725836483665292,
           0.002539073520284376,
           0,
           0.03464424758788016,
           0,
           0
          ]
         ]
        },
        {
         "coloraxis": "coloraxis7",
         "name": "1-5",
         "type": "heatmap",
         "visible": true,
         "x": [
          "1",
          "2",
          "3",
          "4",
          "5",
          "6",
          "8",
          "7",
          "9",
          "0",
          "+",
          "-",
          "*",
          "/",
          "="
         ],
         "xaxis": "x30",
         "y": [
          "1",
          "2",
          "3",
          "4",
          "5",
          "6",
          "8",
          "7",
          "9",
          "0",
          "+",
          "-",
          "*",
          "/",
          "="
         ],
         "yaxis": "y30",
         "z": [
          [
           0.003611126784404446,
           0.005473114032612989,
           0.0030468882243412515,
           0.004852451616543475,
           0.0041753653444676405,
           0.00428821305648028,
           0.003949669920442363,
           0.0024262258082717375,
           0.0018619872482085425,
           0.005811657168650905,
           0.004570332336511877,
           0.0016362918241832646,
           0.01388026857755459,
           0.0003949669920442363,
           0
          ],
          [
           0.0031597359363538906,
           0.004457484624499238,
           0.0024826496642780566,
           0.003836822208429724,
           0.002877616656322293,
           0.0036675506404107655,
           0.0031597359363538906,
           0.002031258816227501,
           0.0016362918241832646,
           0.0054166901766066694,
           0.0022005303842464593,
           0.0022005303842464593,
           0.012243976753371326,
           0.0015234441121706258,
           0
          ],
          [
           0.0032161597923602097,
           0.003836822208429724,
           0.0023133780962590984,
           0.003723974496417085,
           0.0030468882243412515,
           0.003103312080347571,
           0.002877616656322293,
           0.0020876826722338203,
           0.001410596400157987,
           0.004457484624499238,
           0.0022005303842464593,
           0.002369801952265418,
           0.009253512385036394,
           0.0005078147040568753,
           0
          ],
          [
           0.002539073520284376,
           0.004006093776448683,
           0.0020876826722338203,
           0.003103312080347571,
           0.002369801952265418,
           0.0032161597923602097,
           0.002651921232297015,
           0.001918411104214862,
           0.0015234441121706258,
           0.004683180048524516,
           0.002369801952265418,
           0.0027083450883033347,
           0.009197088529030074,
           0.001805563392202223,
           0
          ],
          [
           0.0022005303842464593,
           0.002990464368334932,
           0.0019748349602211816,
           0.0024826496642780566,
           0.003103312080347571,
           0.0023133780962590984,
           0.0022005303842464593,
           0.001805563392202223,
           0.0014670202561643062,
           0.005585961744625628,
           0.0027083450883033347,
           0.0032161597923602097,
           0.00750437284884049,
           0.001410596400157987,
           0
          ],
          [
           0.0022005303842464593,
           0.0033854313603791683,
           0.0020876826722338203,
           0.0029340405123286124,
           0.0020876826722338203,
           0.0027083450883033347,
           0.0029340405123286124,
           0.0017491395361959037,
           0.0014670202561643062,
           0.0038932460644360437,
           0.0027647689443096543,
           0.0033854313603791683,
           0.007165829712802573,
           0.0019748349602211816,
           0
          ],
          [
           0.002031258816227501,
           0.0029340405123286124,
           0.001805563392202223,
           0.0030468882243412515,
           0.0018619872482085425,
           0.002877616656322293,
           0.002256954240252779,
           0.0015234441121706258,
           0.0016927156801895841,
           0.0037803983524234046,
           0.0032161597923602097,
           0.004062517632455002,
           0.005868081024657225,
           0.002256954240252779,
           0
          ],
          [
           0.002369801952265418,
           0.0025954973762906956,
           0.002369801952265418,
           0.0027647689443096543,
           0.002031258816227501,
           0.0024262258082717375,
           0.002651921232297015,
           0.0015234441121706258,
           0.0016927156801895841,
           0.003554702928398127,
           0.0029340405123286124,
           0.0036675506404107655,
           0.00530384246459403,
           0.00107205326412007,
           0
          ],
          [
           0.002539073520284376,
           0.002369801952265418,
           0.0022005303842464593,
           0.002539073520284376,
           0.0023133780962590984,
           0.0020876826722338203,
           0.0019748349602211816,
           0.002031258816227501,
           0.0018619872482085425,
           0.0032725836483665292,
           0.003611126784404446,
           0.004570332336511877,
           0.003949669920442363,
           0.0011284771201263894,
           0
          ],
          [
           0.00016927156801895842,
           0.0005642385600631947,
           0.00011284771201263894,
           0.0005078147040568753,
           0.0003949669920442363,
           0.00045139084805055575,
           0.00045139084805055575,
           0.00011284771201263894,
           0.00005642385600631947,
           0.00045139084805055575,
           0.002539073520284376,
           0.002031258816227501,
           0.0041753653444676405,
           0.0009027816961011115,
           0
          ],
          [
           0,
           0,
           0,
           0,
           0,
           0,
           0,
           0,
           0,
           0,
           0,
           0,
           0,
           0,
           0
          ],
          [
           0,
           0,
           0,
           0,
           0,
           0,
           0,
           0,
           0,
           0,
           0,
           0,
           0,
           0,
           0
          ],
          [
           0,
           0,
           0,
           0,
           0,
           0,
           0,
           0,
           0,
           0,
           0,
           0,
           0,
           0,
           0
          ],
          [
           0,
           0,
           0,
           0,
           0,
           0,
           0,
           0,
           0,
           0,
           0,
           0,
           0,
           0,
           0
          ],
          [
           0.03989166619646787,
           0.040286633188512104,
           0.03983524234046155,
           0.04017378547649946,
           0.03994809005247418,
           0.04023020933250578,
           0.040286633188512104,
           0.03983524234046155,
           0.039722394628448905,
           0.0426000112847712,
           0.08384585002539073,
           0.006770862720758337,
           0.08948823562602268,
           0.010381989505162783,
           0
          ]
         ]
        },
        {
         "coloraxis": "coloraxis",
         "name": "1-5",
         "type": "heatmap",
         "visible": false,
         "x": [
          "1",
          "2",
          "3",
          "4",
          "5",
          "6",
          "8",
          "7",
          "9",
          "0",
          "+",
          "-",
          "*",
          "/",
          "="
         ],
         "xaxis": "x30",
         "y": [
          "1",
          "2",
          "3",
          "4",
          "5",
          "6",
          "8",
          "7",
          "9",
          "0",
          "+",
          "-",
          "*",
          "/",
          "="
         ],
         "yaxis": "y30",
         "z": [
          [
           0.003611126784404446,
           0.005473114032612989,
           0.0030468882243412515,
           0.004852451616543475,
           0.0041753653444676405,
           0.00428821305648028,
           0.003949669920442363,
           0.0024262258082717375,
           0.0018619872482085425,
           0.005811657168650905,
           0.004570332336511877,
           0.0016362918241832646,
           0.01388026857755459,
           0.0003949669920442363,
           0
          ],
          [
           0.0031597359363538906,
           0.004457484624499238,
           0.0024826496642780566,
           0.003836822208429724,
           0.002877616656322293,
           0.0036675506404107655,
           0.0031597359363538906,
           0.002031258816227501,
           0.0016362918241832646,
           0.0054166901766066694,
           0.0022005303842464593,
           0.0022005303842464593,
           0.012243976753371326,
           0.0015234441121706258,
           0
          ],
          [
           0.0032161597923602097,
           0.003836822208429724,
           0.0023133780962590984,
           0.003723974496417085,
           0.0030468882243412515,
           0.003103312080347571,
           0.002877616656322293,
           0.0020876826722338203,
           0.001410596400157987,
           0.004457484624499238,
           0.0022005303842464593,
           0.002369801952265418,
           0.009253512385036394,
           0.0005078147040568753,
           0
          ],
          [
           0.002539073520284376,
           0.004006093776448683,
           0.0020876826722338203,
           0.003103312080347571,
           0.002369801952265418,
           0.0032161597923602097,
           0.002651921232297015,
           0.001918411104214862,
           0.0015234441121706258,
           0.004683180048524516,
           0.002369801952265418,
           0.0027083450883033347,
           0.009197088529030074,
           0.001805563392202223,
           0
          ],
          [
           0.0022005303842464593,
           0.002990464368334932,
           0.0019748349602211816,
           0.0024826496642780566,
           0.003103312080347571,
           0.0023133780962590984,
           0.0022005303842464593,
           0.001805563392202223,
           0.0014670202561643062,
           0.005585961744625628,
           0.0027083450883033347,
           0.0032161597923602097,
           0.00750437284884049,
           0.001410596400157987,
           0
          ],
          [
           0.0022005303842464593,
           0.0033854313603791683,
           0.0020876826722338203,
           0.0029340405123286124,
           0.0020876826722338203,
           0.0027083450883033347,
           0.0029340405123286124,
           0.0017491395361959037,
           0.0014670202561643062,
           0.0038932460644360437,
           0.0027647689443096543,
           0.0033854313603791683,
           0.007165829712802573,
           0.0019748349602211816,
           0
          ],
          [
           0.002031258816227501,
           0.0029340405123286124,
           0.001805563392202223,
           0.0030468882243412515,
           0.0018619872482085425,
           0.002877616656322293,
           0.002256954240252779,
           0.0015234441121706258,
           0.0016927156801895841,
           0.0037803983524234046,
           0.0032161597923602097,
           0.004062517632455002,
           0.005868081024657225,
           0.002256954240252779,
           0
          ],
          [
           0.002369801952265418,
           0.0025954973762906956,
           0.002369801952265418,
           0.0027647689443096543,
           0.002031258816227501,
           0.0024262258082717375,
           0.002651921232297015,
           0.0015234441121706258,
           0.0016927156801895841,
           0.003554702928398127,
           0.0029340405123286124,
           0.0036675506404107655,
           0.00530384246459403,
           0.00107205326412007,
           0
          ],
          [
           0.002539073520284376,
           0.002369801952265418,
           0.0022005303842464593,
           0.002539073520284376,
           0.0023133780962590984,
           0.0020876826722338203,
           0.0019748349602211816,
           0.002031258816227501,
           0.0018619872482085425,
           0.0032725836483665292,
           0.003611126784404446,
           0.004570332336511877,
           0.003949669920442363,
           0.0011284771201263894,
           0
          ],
          [
           0.00016927156801895842,
           0.0005642385600631947,
           0.00011284771201263894,
           0.0005078147040568753,
           0.0003949669920442363,
           0.00045139084805055575,
           0.00045139084805055575,
           0.00011284771201263894,
           0.00005642385600631947,
           0.00045139084805055575,
           0.002539073520284376,
           0.002031258816227501,
           0.0041753653444676405,
           0.0009027816961011115,
           0
          ],
          [
           0,
           0,
           0,
           0,
           0,
           0,
           0,
           0,
           0,
           0,
           0,
           0,
           0,
           0,
           0
          ],
          [
           0,
           0,
           0,
           0,
           0,
           0,
           0,
           0,
           0,
           0,
           0,
           0,
           0,
           0,
           0
          ],
          [
           0,
           0,
           0,
           0,
           0,
           0,
           0,
           0,
           0,
           0,
           0,
           0,
           0,
           0,
           0
          ],
          [
           0,
           0,
           0,
           0,
           0,
           0,
           0,
           0,
           0,
           0,
           0,
           0,
           0,
           0,
           0
          ],
          [
           0.03989166619646787,
           0.040286633188512104,
           0.03983524234046155,
           0.04017378547649946,
           0.03994809005247418,
           0.04023020933250578,
           0.040286633188512104,
           0.03983524234046155,
           0.039722394628448905,
           0.0426000112847712,
           0.08384585002539073,
           0.006770862720758337,
           0.08948823562602268,
           0.010381989505162783,
           0
          ]
         ]
        },
        {
         "coloraxis": "coloraxis8",
         "name": "1-6",
         "type": "heatmap",
         "visible": true,
         "x": [
          "1",
          "2",
          "3",
          "4",
          "5",
          "6",
          "8",
          "7",
          "9",
          "0",
          "+",
          "-",
          "*",
          "/",
          "="
         ],
         "xaxis": "x37",
         "y": [
          "1",
          "2",
          "3",
          "4",
          "5",
          "6",
          "8",
          "7",
          "9",
          "0",
          "+",
          "-",
          "*",
          "/",
          "="
         ],
         "yaxis": "y37",
         "z": [
          [
           0.004513908480505558,
           0.004739603904530836,
           0.004852451616543475,
           0.004626756192518197,
           0.004683180048524516,
           0.004683180048524516,
           0.004796027760537155,
           0.004796027760537155,
           0.005078147040568752,
           0.004457484624499238,
           0.05196637138182023,
           0.006770862720758337,
           0.029453252835298763,
           0.007052982000789934,
           0
          ],
          [
           0.0049088754725497945,
           0.004683180048524516,
           0.004513908480505558,
           0.004796027760537155,
           0.004796027760537155,
           0.004739603904530836,
           0.004626756192518197,
           0.004457484624499238,
           0.00428821305648028,
           0.005078147040568752,
           0.014670202561643062,
           0,
           0.022061727698470913,
           0.0015798679681769453,
           0
          ],
          [
           0.004626756192518197,
           0.004739603904530836,
           0.004683180048524516,
           0.004683180048524516,
           0.004683180048524516,
           0.004739603904530836,
           0.004683180048524516,
           0.0049088754725497945,
           0.004852451616543475,
           0.004457484624499238,
           0.005755233312644586,
           0,
           0.016757885233876883,
           0.0006770862720758337,
           0
          ],
          [
           0.004739603904530836,
           0.0049088754725497945,
           0.004796027760537155,
           0.004852451616543475,
           0.004401060768492919,
           0.004683180048524516,
           0.005078147040568752,
           0.004626756192518197,
           0.004739603904530836,
           0.004796027760537155,
           0.0041753653444676405,
           0,
           0.014613778705636743,
           0.0005078147040568753,
           0
          ],
          [
           0.005078147040568752,
           0.004739603904530836,
           0.004683180048524516,
           0.004570332336511877,
           0.005021723184562433,
           0.004739603904530836,
           0.004457484624499238,
           0.004739603904530836,
           0.004739603904530836,
           0.005190994752581391,
           0.003103312080347571,
           0,
           0.010494837217175422,
           0.00022569542402527788,
           0
          ],
          [
           0.004739603904530836,
           0.005190994752581391,
           0.005021723184562433,
           0.0049088754725497945,
           0.004626756192518197,
           0.004796027760537155,
           0.004852451616543475,
           0.004626756192518197,
           0.004513908480505558,
           0.004965299328556113,
           0.0020876826722338203,
           0,
           0.009027816961011115,
           0.00016927156801895842,
           0
          ],
          [
           0.004796027760537155,
           0.004796027760537155,
           0.004683180048524516,
           0.004965299328556113,
           0.004796027760537155,
           0.00530384246459403,
           0.004739603904530836,
           0.005021723184562433,
           0.004344636912486599,
           0.004852451616543475,
           0.0006770862720758337,
           0,
           0.0060373525926761835,
           0.00005642385600631947,
           0
          ],
          [
           0.004683180048524516,
           0.004739603904530836,
           0.0049088754725497945,
           0.005021723184562433,
           0.005134570896575072,
           0.004683180048524516,
           0.004626756192518197,
           0.004626756192518197,
           0.0049088754725497945,
           0.004513908480505558,
           0.0013541725441516674,
           0,
           0.0072786774248152115,
           0.00011284771201263894,
           0
          ],
          [
           0.004626756192518197,
           0.004852451616543475,
           0.004796027760537155,
           0.004852451616543475,
           0.004965299328556113,
           0.005021723184562433,
           0.005642385600631948,
           0.005247418608587711,
           0.005698809456638266,
           0.007109405856796254,
           0.00005642385600631947,
           0,
           0.0049088754725497945,
           0,
           0
          ],
          [
           0.0005078147040568753,
           0.00033854313603791684,
           0.00045139084805055575,
           0.0005642385600631947,
           0.0006770862720758337,
           0.0007335101280821531,
           0.0008463578400947921,
           0.0007899339840884726,
           0.0006770862720758337,
           0.00045139084805055575,
           0.002539073520284376,
           0,
           0.0034982790723918074,
           0,
           0
          ],
          [
           0,
           0,
           0,
           0,
           0,
           0,
           0,
           0,
           0,
           0,
           0,
           0,
           0,
           0,
           0
          ],
          [
           0,
           0,
           0,
           0,
           0,
           0,
           0,
           0,
           0,
           0,
           0,
           0,
           0,
           0,
           0
          ],
          [
           0,
           0,
           0,
           0,
           0,
           0,
           0,
           0,
           0,
           0,
           0,
           0,
           0,
           0,
           0
          ],
          [
           0,
           0,
           0,
           0,
           0,
           0,
           0,
           0,
           0,
           0,
           0,
           0,
           0,
           0,
           0
          ],
          [
           0.020707555154319247,
           0.029171133555267167,
           0.01692715680189584,
           0.026124245330925916,
           0.020425435874287648,
           0.02324662867460362,
           0.021046098290357165,
           0.013203182305478756,
           0.010551261073181741,
           0.03763471195621509,
           0.026575636178976472,
           0.029848219827343002,
           0.04389775997291655,
           0.012977486881453478,
           0
          ]
         ]
        },
        {
         "coloraxis": "coloraxis",
         "name": "1-6",
         "type": "heatmap",
         "visible": false,
         "x": [
          "1",
          "2",
          "3",
          "4",
          "5",
          "6",
          "8",
          "7",
          "9",
          "0",
          "+",
          "-",
          "*",
          "/",
          "="
         ],
         "xaxis": "x37",
         "y": [
          "1",
          "2",
          "3",
          "4",
          "5",
          "6",
          "8",
          "7",
          "9",
          "0",
          "+",
          "-",
          "*",
          "/",
          "="
         ],
         "yaxis": "y37",
         "z": [
          [
           0.004513908480505558,
           0.004739603904530836,
           0.004852451616543475,
           0.004626756192518197,
           0.004683180048524516,
           0.004683180048524516,
           0.004796027760537155,
           0.004796027760537155,
           0.005078147040568752,
           0.004457484624499238,
           0.05196637138182023,
           0.006770862720758337,
           0.029453252835298763,
           0.007052982000789934,
           0
          ],
          [
           0.0049088754725497945,
           0.004683180048524516,
           0.004513908480505558,
           0.004796027760537155,
           0.004796027760537155,
           0.004739603904530836,
           0.004626756192518197,
           0.004457484624499238,
           0.00428821305648028,
           0.005078147040568752,
           0.014670202561643062,
           0,
           0.022061727698470913,
           0.0015798679681769453,
           0
          ],
          [
           0.004626756192518197,
           0.004739603904530836,
           0.004683180048524516,
           0.004683180048524516,
           0.004683180048524516,
           0.004739603904530836,
           0.004683180048524516,
           0.0049088754725497945,
           0.004852451616543475,
           0.004457484624499238,
           0.005755233312644586,
           0,
           0.016757885233876883,
           0.0006770862720758337,
           0
          ],
          [
           0.004739603904530836,
           0.0049088754725497945,
           0.004796027760537155,
           0.004852451616543475,
           0.004401060768492919,
           0.004683180048524516,
           0.005078147040568752,
           0.004626756192518197,
           0.004739603904530836,
           0.004796027760537155,
           0.0041753653444676405,
           0,
           0.014613778705636743,
           0.0005078147040568753,
           0
          ],
          [
           0.005078147040568752,
           0.004739603904530836,
           0.004683180048524516,
           0.004570332336511877,
           0.005021723184562433,
           0.004739603904530836,
           0.004457484624499238,
           0.004739603904530836,
           0.004739603904530836,
           0.005190994752581391,
           0.003103312080347571,
           0,
           0.010494837217175422,
           0.00022569542402527788,
           0
          ],
          [
           0.004739603904530836,
           0.005190994752581391,
           0.005021723184562433,
           0.0049088754725497945,
           0.004626756192518197,
           0.004796027760537155,
           0.004852451616543475,
           0.004626756192518197,
           0.004513908480505558,
           0.004965299328556113,
           0.0020876826722338203,
           0,
           0.009027816961011115,
           0.00016927156801895842,
           0
          ],
          [
           0.004796027760537155,
           0.004796027760537155,
           0.004683180048524516,
           0.004965299328556113,
           0.004796027760537155,
           0.00530384246459403,
           0.004739603904530836,
           0.005021723184562433,
           0.004344636912486599,
           0.004852451616543475,
           0.0006770862720758337,
           0,
           0.0060373525926761835,
           0.00005642385600631947,
           0
          ],
          [
           0.004683180048524516,
           0.004739603904530836,
           0.0049088754725497945,
           0.005021723184562433,
           0.005134570896575072,
           0.004683180048524516,
           0.004626756192518197,
           0.004626756192518197,
           0.0049088754725497945,
           0.004513908480505558,
           0.0013541725441516674,
           0,
           0.0072786774248152115,
           0.00011284771201263894,
           0
          ],
          [
           0.004626756192518197,
           0.004852451616543475,
           0.004796027760537155,
           0.004852451616543475,
           0.004965299328556113,
           0.005021723184562433,
           0.005642385600631948,
           0.005247418608587711,
           0.005698809456638266,
           0.007109405856796254,
           0.00005642385600631947,
           0,
           0.0049088754725497945,
           0,
           0
          ],
          [
           0.0005078147040568753,
           0.00033854313603791684,
           0.00045139084805055575,
           0.0005642385600631947,
           0.0006770862720758337,
           0.0007335101280821531,
           0.0008463578400947921,
           0.0007899339840884726,
           0.0006770862720758337,
           0.00045139084805055575,
           0.002539073520284376,
           0,
           0.0034982790723918074,
           0,
           0
          ],
          [
           0,
           0,
           0,
           0,
           0,
           0,
           0,
           0,
           0,
           0,
           0,
           0,
           0,
           0,
           0
          ],
          [
           0,
           0,
           0,
           0,
           0,
           0,
           0,
           0,
           0,
           0,
           0,
           0,
           0,
           0,
           0
          ],
          [
           0,
           0,
           0,
           0,
           0,
           0,
           0,
           0,
           0,
           0,
           0,
           0,
           0,
           0,
           0
          ],
          [
           0,
           0,
           0,
           0,
           0,
           0,
           0,
           0,
           0,
           0,
           0,
           0,
           0,
           0,
           0
          ],
          [
           0.020707555154319247,
           0.029171133555267167,
           0.01692715680189584,
           0.026124245330925916,
           0.020425435874287648,
           0.02324662867460362,
           0.021046098290357165,
           0.013203182305478756,
           0.010551261073181741,
           0.03763471195621509,
           0.026575636178976472,
           0.029848219827343002,
           0.04389775997291655,
           0.012977486881453478,
           0
          ]
         ]
        },
        {
         "coloraxis": "coloraxis9",
         "name": "1-7",
         "type": "heatmap",
         "visible": true,
         "x": [
          "1",
          "2",
          "3",
          "4",
          "5",
          "6",
          "8",
          "7",
          "9",
          "0",
          "+",
          "-",
          "*",
          "/",
          "="
         ],
         "xaxis": "x44",
         "y": [
          "1",
          "2",
          "3",
          "4",
          "5",
          "6",
          "8",
          "7",
          "9",
          "0",
          "+",
          "-",
          "*",
          "/",
          "="
         ],
         "yaxis": "y44",
         "z": [
          [
           0.0055295378886193085,
           0.005980928736669864,
           0.0054166901766066694,
           0.005642385600631948,
           0.005642385600631948,
           0.005642385600631948,
           0.005247418608587711,
           0.005021723184562433,
           0.004852451616543475,
           0.006375895728714101,
           0.013316030017491395,
           0.006432319584720419,
           0.01625007052982001,
           0.004457484624499238,
           0
          ],
          [
           0.005585961744625628,
           0.00744794899283417,
           0.005473114032612989,
           0.007391525136827851,
           0.005247418608587711,
           0.0072786774248152115,
           0.006883710432770976,
           0.005585961744625628,
           0.005078147040568752,
           0.007673644416859448,
           0.01173616204931445,
           0.005190994752581391,
           0.021158946002369804,
           0.0036675506404107655,
           0
          ],
          [
           0.006714438864752017,
           0.006375895728714101,
           0.005980928736669864,
           0.006319471872707781,
           0.0061502003046888225,
           0.005924504880663544,
           0.0060373525926761835,
           0.006093776448682503,
           0.005473114032612989,
           0.006940134288777295,
           0.011454042769282852,
           0.004118941488461322,
           0.013485301585510354,
           0.001918411104214862,
           0
          ],
          [
           0.005924504880663544,
           0.008350730688935281,
           0.005755233312644586,
           0.007617220560853129,
           0.005473114032612989,
           0.008012187552897366,
           0.0072786774248152115,
           0.005473114032612989,
           0.005585961744625628,
           0.008125035264910005,
           0.010494837217175422,
           0.0032161597923602097,
           0.019861197314224453,
           0.0025954973762906956,
           0
          ],
          [
           0.0066580150087456975,
           0.006488743440726739,
           0.006319471872707781,
           0.005868081024657225,
           0.009253512385036394,
           0.005811657168650905,
           0.005698809456638266,
           0.006206624160695142,
           0.005811657168650905,
           0.009874174801105907,
           0.010325565649156463,
           0.0024826496642780566,
           0.01574225582576313,
           0.0016362918241832646,
           0
          ],
          [
           0.006714438864752017,
           0.00857642611296056,
           0.006093776448682503,
           0.008125035264910005,
           0.005980928736669864,
           0.007560796704846809,
           0.007955763696891046,
           0.005811657168650905,
           0.005473114032612989,
           0.008745697680979518,
           0.010043446369124865,
           0.0019748349602211816,
           0.018732720194098065,
           0.002256954240252779,
           0
          ],
          [
           0.006714438864752017,
           0.009140664673023755,
           0.006488743440726739,
           0.008745697680979518,
           0.005980928736669864,
           0.008689273824973198,
           0.007786492128872087,
           0.005698809456638266,
           0.005698809456638266,
           0.009479207809061672,
           0.010043446369124865,
           0.0016362918241832646,
           0.017717090785984314,
           0.0023133780962590984,
           0
          ],
          [
           0.00744794899283417,
           0.007052982000789934,
           0.007222253568808892,
           0.006940134288777295,
           0.0065451672967330584,
           0.006319471872707781,
           0.006601591152739378,
           0.005980928736669864,
           0.0061502003046888225,
           0.008237882976922644,
           0.010381989505162783,
           0.0016927156801895841,
           0.01173616204931445,
           0.001184900976132709,
           0
          ],
          [
           0.008012187552897366,
           0.0072786774248152115,
           0.007222253568808892,
           0.007391525136827851,
           0.007165829712802573,
           0.006488743440726739,
           0.006375895728714101,
           0.007052982000789934,
           0.006432319584720419,
           0.008858545392992157,
           0.01060768492918806,
           0.002031258816227501,
           0.010889804209219658,
           0.0011284771201263894,
           0
          ],
          [
           0.004626756192518197,
           0.006206624160695142,
           0.004344636912486599,
           0.005924504880663544,
           0.006770862720758337,
           0.005642385600631948,
           0.0055295378886193085,
           0.004118941488461322,
           0.003836822208429724,
           0.009197088529030074,
           0.014557354849630423,
           0.007842915984878407,
           0.02245669469051515,
           0.0022005303842464593,
           0
          ],
          [
           0,
           0,
           0,
           0,
           0,
           0,
           0,
           0,
           0,
           0,
           0,
           0,
           0,
           0,
           0
          ],
          [
           0,
           0,
           0,
           0,
           0,
           0,
           0,
           0,
           0,
           0,
           0,
           0,
           0,
           0,
           0
          ],
          [
           0,
           0,
           0,
           0,
           0,
           0,
           0,
           0,
           0,
           0,
           0,
           0,
           0,
           0,
           0
          ],
          [
           0,
           0,
           0,
           0,
           0,
           0,
           0,
           0,
           0,
           0,
           0,
           0,
           0,
           0,
           0
          ],
          [
           0,
           0,
           0,
           0,
           0,
           0,
           0,
           0,
           0,
           0,
           0,
           0,
           0,
           0,
           0
          ]
         ]
        },
        {
         "coloraxis": "coloraxis",
         "name": "1-7",
         "type": "heatmap",
         "visible": false,
         "x": [
          "1",
          "2",
          "3",
          "4",
          "5",
          "6",
          "8",
          "7",
          "9",
          "0",
          "+",
          "-",
          "*",
          "/",
          "="
         ],
         "xaxis": "x44",
         "y": [
          "1",
          "2",
          "3",
          "4",
          "5",
          "6",
          "8",
          "7",
          "9",
          "0",
          "+",
          "-",
          "*",
          "/",
          "="
         ],
         "yaxis": "y44",
         "z": [
          [
           0.0055295378886193085,
           0.005980928736669864,
           0.0054166901766066694,
           0.005642385600631948,
           0.005642385600631948,
           0.005642385600631948,
           0.005247418608587711,
           0.005021723184562433,
           0.004852451616543475,
           0.006375895728714101,
           0.013316030017491395,
           0.006432319584720419,
           0.01625007052982001,
           0.004457484624499238,
           0
          ],
          [
           0.005585961744625628,
           0.00744794899283417,
           0.005473114032612989,
           0.007391525136827851,
           0.005247418608587711,
           0.0072786774248152115,
           0.006883710432770976,
           0.005585961744625628,
           0.005078147040568752,
           0.007673644416859448,
           0.01173616204931445,
           0.005190994752581391,
           0.021158946002369804,
           0.0036675506404107655,
           0
          ],
          [
           0.006714438864752017,
           0.006375895728714101,
           0.005980928736669864,
           0.006319471872707781,
           0.0061502003046888225,
           0.005924504880663544,
           0.0060373525926761835,
           0.006093776448682503,
           0.005473114032612989,
           0.006940134288777295,
           0.011454042769282852,
           0.004118941488461322,
           0.013485301585510354,
           0.001918411104214862,
           0
          ],
          [
           0.005924504880663544,
           0.008350730688935281,
           0.005755233312644586,
           0.007617220560853129,
           0.005473114032612989,
           0.008012187552897366,
           0.0072786774248152115,
           0.005473114032612989,
           0.005585961744625628,
           0.008125035264910005,
           0.010494837217175422,
           0.0032161597923602097,
           0.019861197314224453,
           0.0025954973762906956,
           0
          ],
          [
           0.0066580150087456975,
           0.006488743440726739,
           0.006319471872707781,
           0.005868081024657225,
           0.009253512385036394,
           0.005811657168650905,
           0.005698809456638266,
           0.006206624160695142,
           0.005811657168650905,
           0.009874174801105907,
           0.010325565649156463,
           0.0024826496642780566,
           0.01574225582576313,
           0.0016362918241832646,
           0
          ],
          [
           0.006714438864752017,
           0.00857642611296056,
           0.006093776448682503,
           0.008125035264910005,
           0.005980928736669864,
           0.007560796704846809,
           0.007955763696891046,
           0.005811657168650905,
           0.005473114032612989,
           0.008745697680979518,
           0.010043446369124865,
           0.0019748349602211816,
           0.018732720194098065,
           0.002256954240252779,
           0
          ],
          [
           0.006714438864752017,
           0.009140664673023755,
           0.006488743440726739,
           0.008745697680979518,
           0.005980928736669864,
           0.008689273824973198,
           0.007786492128872087,
           0.005698809456638266,
           0.005698809456638266,
           0.009479207809061672,
           0.010043446369124865,
           0.0016362918241832646,
           0.017717090785984314,
           0.0023133780962590984,
           0
          ],
          [
           0.00744794899283417,
           0.007052982000789934,
           0.007222253568808892,
           0.006940134288777295,
           0.0065451672967330584,
           0.006319471872707781,
           0.006601591152739378,
           0.005980928736669864,
           0.0061502003046888225,
           0.008237882976922644,
           0.010381989505162783,
           0.0016927156801895841,
           0.01173616204931445,
           0.001184900976132709,
           0
          ],
          [
           0.008012187552897366,
           0.0072786774248152115,
           0.007222253568808892,
           0.007391525136827851,
           0.007165829712802573,
           0.006488743440726739,
           0.006375895728714101,
           0.007052982000789934,
           0.006432319584720419,
           0.008858545392992157,
           0.01060768492918806,
           0.002031258816227501,
           0.010889804209219658,
           0.0011284771201263894,
           0
          ],
          [
           0.004626756192518197,
           0.006206624160695142,
           0.004344636912486599,
           0.005924504880663544,
           0.006770862720758337,
           0.005642385600631948,
           0.0055295378886193085,
           0.004118941488461322,
           0.003836822208429724,
           0.009197088529030074,
           0.014557354849630423,
           0.007842915984878407,
           0.02245669469051515,
           0.0022005303842464593,
           0
          ],
          [
           0,
           0,
           0,
           0,
           0,
           0,
           0,
           0,
           0,
           0,
           0,
           0,
           0,
           0,
           0
          ],
          [
           0,
           0,
           0,
           0,
           0,
           0,
           0,
           0,
           0,
           0,
           0,
           0,
           0,
           0,
           0
          ],
          [
           0,
           0,
           0,
           0,
           0,
           0,
           0,
           0,
           0,
           0,
           0,
           0,
           0,
           0,
           0
          ],
          [
           0,
           0,
           0,
           0,
           0,
           0,
           0,
           0,
           0,
           0,
           0,
           0,
           0,
           0,
           0
          ],
          [
           0,
           0,
           0,
           0,
           0,
           0,
           0,
           0,
           0,
           0,
           0,
           0,
           0,
           0,
           0
          ]
         ]
        },
        {
         "coloraxis": "coloraxis6",
         "name": "2-3",
         "type": "heatmap",
         "visible": true,
         "x": [
          "1",
          "2",
          "3",
          "4",
          "5",
          "6",
          "8",
          "7",
          "9",
          "0",
          "+",
          "-",
          "*",
          "/",
          "="
         ],
         "xaxis": "x17",
         "y": [
          "1",
          "2",
          "3",
          "4",
          "5",
          "6",
          "8",
          "7",
          "9",
          "0",
          "+",
          "-",
          "*",
          "/",
          "="
         ],
         "yaxis": "y17",
         "z": [
          [
           0.004062517632455002,
           0.0019748349602211816,
           0.00033854313603791684,
           0.0003949669920442363,
           0.00045139084805055575,
           0.00045139084805055575,
           0.0006206624160695141,
           0.00045139084805055575,
           0.0005078147040568753,
           0,
           0.044687693957005024,
           0.048242396885403147,
           0.005811657168650905,
           0.005811657168650905,
           0
          ],
          [
           0.00750437284884049,
           0.00028211928003159736,
           0.0014670202561643062,
           0.0012977486881453478,
           0.00045139084805055575,
           0.00045139084805055575,
           0.00045139084805055575,
           0.0009027816961011115,
           0.0005642385600631947,
           0,
           0.038650341364328836,
           0.0446312701009987,
           0.004401060768492919,
           0.008914969248998476,
           0
          ],
          [
           0.0024826496642780566,
           0.00028211928003159736,
           0.00033854313603791684,
           0.0003949669920442363,
           0.00045139084805055575,
           0.0010156294081137506,
           0.00045139084805055575,
           0.00045139084805055575,
           0.0006206624160695141,
           0,
           0.032669412627658975,
           0.040004513908480505,
           0.004739603904530836,
           0.008914969248998476,
           0
          ],
          [
           0.003836822208429724,
           0.003103312080347571,
           0.0003949669920442363,
           0.0003949669920442363,
           0.0011284771201263894,
           0.0007335101280821531,
           0.00045139084805055575,
           0.00045139084805055575,
           0.0006770862720758337,
           0,
           0.02674490774699543,
           0.03526491000394967,
           0.004739603904530836,
           0.009366360097049033,
           0
          ],
          [
           0.0032161597923602097,
           0.000959205552107431,
           0.001410596400157987,
           0.001184900976132709,
           0.00045139084805055575,
           0.00045139084805055575,
           0.00045139084805055575,
           0.00045139084805055575,
           0.0007335101280821531,
           0,
           0.020876826722338204,
           0.030243186819387237,
           0.004513908480505558,
           0.00959205552107431,
           0
          ],
          [
           0.0033854313603791683,
           0.00033854313603791684,
           0.002031258816227501,
           0.0003949669920442363,
           0.0011284771201263894,
           0.00045139084805055575,
           0.00045139084805055575,
           0.00045139084805055575,
           0.0007899339840884726,
           0,
           0.015065169553687299,
           0.025503582914856403,
           0.004796027760537155,
           0.009535631665067991,
           0
          ],
          [
           0.003611126784404446,
           0.0016927156801895841,
           0.0003949669920442363,
           0.001184900976132709,
           0.00045139084805055575,
           0.00045139084805055575,
           0.00045139084805055575,
           0.00045139084805055575,
           0.0009027816961011115,
           0,
           0.003611126784404446,
           0.015516560401737855,
           0.0049088754725497945,
           0.008294306832928963,
           0
          ],
          [
           0.0005642385600631947,
           0.0016927156801895841,
           0.0003949669920442363,
           0.0003949669920442363,
           0.00045139084805055575,
           0.00045139084805055575,
           0.00045139084805055575,
           0.00045139084805055575,
           0.0008463578400947921,
           0,
           0.009309936241042713,
           0.02019974045026237,
           0.004796027760537155,
           0.00852000225695424,
           0
          ],
          [
           0.00022569542402527788,
           0.00033854313603791684,
           0.0003949669920442363,
           0.0007899339840884726,
           0.00045139084805055575,
           0.00045139084805055575,
           0.00045139084805055575,
           0.00045139084805055575,
           0.000959205552107431,
           0,
           0.0005078147040568753,
           0.012864639169440839,
           0.004965299328556113,
           0.00744794899283417,
           0
          ],
          [
           0.007335101280821531,
           0.0018619872482085425,
           0.0014670202561643062,
           0.0012977486881453478,
           0.00045139084805055575,
           0.00045139084805055575,
           0.00045139084805055575,
           0.00045139084805055575,
           0.00045139084805055575,
           0,
           0,
           0,
           0,
           0,
           0
          ],
          [
           0.010099870225131185,
           0.009253512385036394,
           0.009479207809061672,
           0.00959205552107431,
           0.00976132708909327,
           0.010043446369124865,
           0.01077695649720702,
           0.010381989505162783,
           0.011228347345257576,
           0,
           0,
           0,
           0,
           0,
           0
          ],
          [
           0.000959205552107431,
           0.003554702928398127,
           0.006263048016701462,
           0.007842915984878407,
           0.008971393105004796,
           0.010043446369124865,
           0.011961857473339728,
           0.011002651921232297,
           0.013033910737459797,
           0.0010156294081137506,
           0,
           0,
           0,
           0,
           0
          ],
          [
           0.009084240817017435,
           0.009084240817017435,
           0.0084071545449416,
           0.008012187552897366,
           0.007335101280821531,
           0.007617220560853129,
           0.007391525136827851,
           0.006940134288777295,
           0.006996558144783615,
           0,
           0,
           0,
           0,
           0,
           0
          ],
          [
           0.0027647689443096543,
           0.010325565649156463,
           0.003723974496417085,
           0.011341195057270215,
           0.009253512385036394,
           0.012187552897365006,
           0.012808215313434521,
           0.004739603904530836,
           0.005473114032612989,
           0.013541725441516673,
           0,
           0,
           0,
           0,
           0
          ],
          [
           0,
           0,
           0,
           0,
           0,
           0,
           0,
           0,
           0,
           0,
           0,
           0,
           0,
           0,
           0
          ]
         ]
        },
        {
         "coloraxis": "coloraxis",
         "name": "2-3",
         "type": "heatmap",
         "visible": false,
         "x": [
          "1",
          "2",
          "3",
          "4",
          "5",
          "6",
          "8",
          "7",
          "9",
          "0",
          "+",
          "-",
          "*",
          "/",
          "="
         ],
         "xaxis": "x17",
         "y": [
          "1",
          "2",
          "3",
          "4",
          "5",
          "6",
          "8",
          "7",
          "9",
          "0",
          "+",
          "-",
          "*",
          "/",
          "="
         ],
         "yaxis": "y17",
         "z": [
          [
           0.004062517632455002,
           0.0019748349602211816,
           0.00033854313603791684,
           0.0003949669920442363,
           0.00045139084805055575,
           0.00045139084805055575,
           0.0006206624160695141,
           0.00045139084805055575,
           0.0005078147040568753,
           0,
           0.044687693957005024,
           0.048242396885403147,
           0.005811657168650905,
           0.005811657168650905,
           0
          ],
          [
           0.00750437284884049,
           0.00028211928003159736,
           0.0014670202561643062,
           0.0012977486881453478,
           0.00045139084805055575,
           0.00045139084805055575,
           0.00045139084805055575,
           0.0009027816961011115,
           0.0005642385600631947,
           0,
           0.038650341364328836,
           0.0446312701009987,
           0.004401060768492919,
           0.008914969248998476,
           0
          ],
          [
           0.0024826496642780566,
           0.00028211928003159736,
           0.00033854313603791684,
           0.0003949669920442363,
           0.00045139084805055575,
           0.0010156294081137506,
           0.00045139084805055575,
           0.00045139084805055575,
           0.0006206624160695141,
           0,
           0.032669412627658975,
           0.040004513908480505,
           0.004739603904530836,
           0.008914969248998476,
           0
          ],
          [
           0.003836822208429724,
           0.003103312080347571,
           0.0003949669920442363,
           0.0003949669920442363,
           0.0011284771201263894,
           0.0007335101280821531,
           0.00045139084805055575,
           0.00045139084805055575,
           0.0006770862720758337,
           0,
           0.02674490774699543,
           0.03526491000394967,
           0.004739603904530836,
           0.009366360097049033,
           0
          ],
          [
           0.0032161597923602097,
           0.000959205552107431,
           0.001410596400157987,
           0.001184900976132709,
           0.00045139084805055575,
           0.00045139084805055575,
           0.00045139084805055575,
           0.00045139084805055575,
           0.0007335101280821531,
           0,
           0.020876826722338204,
           0.030243186819387237,
           0.004513908480505558,
           0.00959205552107431,
           0
          ],
          [
           0.0033854313603791683,
           0.00033854313603791684,
           0.002031258816227501,
           0.0003949669920442363,
           0.0011284771201263894,
           0.00045139084805055575,
           0.00045139084805055575,
           0.00045139084805055575,
           0.0007899339840884726,
           0,
           0.015065169553687299,
           0.025503582914856403,
           0.004796027760537155,
           0.009535631665067991,
           0
          ],
          [
           0.003611126784404446,
           0.0016927156801895841,
           0.0003949669920442363,
           0.001184900976132709,
           0.00045139084805055575,
           0.00045139084805055575,
           0.00045139084805055575,
           0.00045139084805055575,
           0.0009027816961011115,
           0,
           0.003611126784404446,
           0.015516560401737855,
           0.0049088754725497945,
           0.008294306832928963,
           0
          ],
          [
           0.0005642385600631947,
           0.0016927156801895841,
           0.0003949669920442363,
           0.0003949669920442363,
           0.00045139084805055575,
           0.00045139084805055575,
           0.00045139084805055575,
           0.00045139084805055575,
           0.0008463578400947921,
           0,
           0.009309936241042713,
           0.02019974045026237,
           0.004796027760537155,
           0.00852000225695424,
           0
          ],
          [
           0.00022569542402527788,
           0.00033854313603791684,
           0.0003949669920442363,
           0.0007899339840884726,
           0.00045139084805055575,
           0.00045139084805055575,
           0.00045139084805055575,
           0.00045139084805055575,
           0.000959205552107431,
           0,
           0.0005078147040568753,
           0.012864639169440839,
           0.004965299328556113,
           0.00744794899283417,
           0
          ],
          [
           0.007335101280821531,
           0.0018619872482085425,
           0.0014670202561643062,
           0.0012977486881453478,
           0.00045139084805055575,
           0.00045139084805055575,
           0.00045139084805055575,
           0.00045139084805055575,
           0.00045139084805055575,
           0,
           0,
           0,
           0,
           0,
           0
          ],
          [
           0.010099870225131185,
           0.009253512385036394,
           0.009479207809061672,
           0.00959205552107431,
           0.00976132708909327,
           0.010043446369124865,
           0.01077695649720702,
           0.010381989505162783,
           0.011228347345257576,
           0,
           0,
           0,
           0,
           0,
           0
          ],
          [
           0.000959205552107431,
           0.003554702928398127,
           0.006263048016701462,
           0.007842915984878407,
           0.008971393105004796,
           0.010043446369124865,
           0.011961857473339728,
           0.011002651921232297,
           0.013033910737459797,
           0.0010156294081137506,
           0,
           0,
           0,
           0,
           0
          ],
          [
           0.009084240817017435,
           0.009084240817017435,
           0.0084071545449416,
           0.008012187552897366,
           0.007335101280821531,
           0.007617220560853129,
           0.007391525136827851,
           0.006940134288777295,
           0.006996558144783615,
           0,
           0,
           0,
           0,
           0,
           0
          ],
          [
           0.0027647689443096543,
           0.010325565649156463,
           0.003723974496417085,
           0.011341195057270215,
           0.009253512385036394,
           0.012187552897365006,
           0.012808215313434521,
           0.004739603904530836,
           0.005473114032612989,
           0.013541725441516673,
           0,
           0,
           0,
           0,
           0
          ],
          [
           0,
           0,
           0,
           0,
           0,
           0,
           0,
           0,
           0,
           0,
           0,
           0,
           0,
           0,
           0
          ]
         ]
        },
        {
         "coloraxis": "coloraxis7",
         "name": "2-4",
         "type": "heatmap",
         "visible": true,
         "x": [
          "1",
          "2",
          "3",
          "4",
          "5",
          "6",
          "8",
          "7",
          "9",
          "0",
          "+",
          "-",
          "*",
          "/",
          "="
         ],
         "xaxis": "x24",
         "y": [
          "1",
          "2",
          "3",
          "4",
          "5",
          "6",
          "8",
          "7",
          "9",
          "0",
          "+",
          "-",
          "*",
          "/",
          "="
         ],
         "yaxis": "y24",
         "z": [
          [
           0.00045139084805055575,
           0.004006093776448683,
           0.005021723184562433,
           0.005924504880663544,
           0.006319471872707781,
           0.007560796704846809,
           0.009197088529030074,
           0.00744794899283417,
           0.009874174801105907,
           0.00011284771201263894,
           0.019861197314224453,
           0.019861197314224453,
           0,
           0,
           0
          ],
          [
           0.0012977486881453478,
           0.0024262258082717375,
           0.0032161597923602097,
           0.00530384246459403,
           0.004457484624499238,
           0.0054166901766066694,
           0.005473114032612989,
           0.00428821305648028,
           0.004118941488461322,
           0.0012977486881453478,
           0.0194098064661739,
           0.0194098064661739,
           0,
           0,
           0
          ],
          [
           0.00214410652824014,
           0.002651921232297015,
           0.0024826496642780566,
           0.003949669920442363,
           0.004570332336511877,
           0.004626756192518197,
           0.004570332336511877,
           0.003949669920442363,
           0.00428821305648028,
           0.0011284771201263894,
           0.018958415618123343,
           0.018958415618123343,
           0,
           0,
           0
          ],
          [
           0.00214410652824014,
           0.003611126784404446,
           0.0024262258082717375,
           0.0034982790723918074,
           0.0032725836483665292,
           0.004852451616543475,
           0.005078147040568752,
           0.0036675506404107655,
           0.0033290075043728488,
           0.0016927156801895841,
           0.018507024770072787,
           0.018507024770072787,
           0,
           0,
           0
          ],
          [
           0.002539073520284376,
           0.0029340405123286124,
           0.0024826496642780566,
           0.002821192800315974,
           0.004852451616543475,
           0.0031597359363538906,
           0.0036675506404107655,
           0.0031597359363538906,
           0.0032161597923602097,
           0.0032161597923602097,
           0.01805563392202223,
           0.01805563392202223,
           0,
           0,
           0
          ],
          [
           0.002821192800315974,
           0.00423178920047396,
           0.002651921232297015,
           0.0038932460644360437,
           0.0025954973762906956,
           0.003611126784404446,
           0.004626756192518197,
           0.0025954973762906956,
           0.0031597359363538906,
           0.0018619872482085425,
           0.017604243073971675,
           0.017604243073971675,
           0,
           0,
           0
          ],
          [
           0.0033854313603791683,
           0.004513908480505558,
           0.0027083450883033347,
           0.00423178920047396,
           0.002651921232297015,
           0.003836822208429724,
           0.003611126784404446,
           0.002256954240252779,
           0.0024826496642780566,
           0.001918411104214862,
           0.016701461377870562,
           0.016701461377870562,
           0,
           0,
           0
          ],
          [
           0.003554702928398127,
           0.0036675506404107655,
           0.003103312080347571,
           0.0033290075043728488,
           0.003103312080347571,
           0.0032725836483665292,
           0.0033854313603791683,
           0.0027083450883033347,
           0.003554702928398127,
           0.001410596400157987,
           0.01715285222592112,
           0.01715285222592112,
           0,
           0,
           0
          ],
          [
           0.004570332336511877,
           0.0041753653444676405,
           0.0037803983524234046,
           0.003836822208429724,
           0.0034982790723918074,
           0.003554702928398127,
           0.0033290075043728488,
           0.002990464368334932,
           0.0027083450883033347,
           0.001918411104214862,
           0.01625007052982001,
           0.01625007052982001,
           0,
           0,
           0
          ],
          [
           0,
           0,
           0,
           0,
           0,
           0,
           0,
           0,
           0,
           0,
           0.02031258816227501,
           0.02031258816227501,
           0,
           0,
           0
          ],
          [
           0.009309936241042713,
           0,
           0,
           0,
           0,
           0,
           0,
           0,
           0,
           0,
           0,
           0.006770862720758337,
           0,
           0.010494837217175422,
           0
          ],
          [
           0.009309936241042713,
           0,
           0,
           0,
           0,
           0,
           0,
           0,
           0,
           0,
           0.006770862720758337,
           0.038932460644360435,
           0.002539073520284376,
           0.03831179822829092,
           0
          ],
          [
           0.0031597359363538906,
           0.0015798679681769453,
           0.0006770862720758337,
           0.0005078147040568753,
           0.00022569542402527788,
           0.00016927156801895842,
           0.00005642385600631947,
           0.00011284771201263894,
           0,
           0,
           0,
           0.040060937764486826,
           0,
           0.006488743440726739,
           0
          ],
          [
           0.013146758449472436,
           0.007842915984878407,
           0.00423178920047396,
           0.0032725836483665292,
           0.0011284771201263894,
           0.0006770862720758337,
           0.00011284771201263894,
           0.00033854313603791684,
           0,
           0,
           0,
           0.0038932460644360437,
           0.006488743440726739,
           0.021102522146363482,
           0
          ],
          [
           0.0012977486881453478,
           0.003103312080347571,
           0.003723974496417085,
           0.003949669920442363,
           0.004513908480505558,
           0.004513908480505558,
           0.004513908480505558,
           0.004513908480505558,
           0.007052982000789934,
           0,
           0.002539073520284376,
           0,
           0.03464424758788016,
           0,
           0
          ]
         ]
        },
        {
         "coloraxis": "coloraxis",
         "name": "2-4",
         "type": "heatmap",
         "visible": false,
         "x": [
          "1",
          "2",
          "3",
          "4",
          "5",
          "6",
          "8",
          "7",
          "9",
          "0",
          "+",
          "-",
          "*",
          "/",
          "="
         ],
         "xaxis": "x24",
         "y": [
          "1",
          "2",
          "3",
          "4",
          "5",
          "6",
          "8",
          "7",
          "9",
          "0",
          "+",
          "-",
          "*",
          "/",
          "="
         ],
         "yaxis": "y24",
         "z": [
          [
           0.00045139084805055575,
           0.004006093776448683,
           0.005021723184562433,
           0.005924504880663544,
           0.006319471872707781,
           0.007560796704846809,
           0.009197088529030074,
           0.00744794899283417,
           0.009874174801105907,
           0.00011284771201263894,
           0.019861197314224453,
           0.019861197314224453,
           0,
           0,
           0
          ],
          [
           0.0012977486881453478,
           0.0024262258082717375,
           0.0032161597923602097,
           0.00530384246459403,
           0.004457484624499238,
           0.0054166901766066694,
           0.005473114032612989,
           0.00428821305648028,
           0.004118941488461322,
           0.0012977486881453478,
           0.0194098064661739,
           0.0194098064661739,
           0,
           0,
           0
          ],
          [
           0.00214410652824014,
           0.002651921232297015,
           0.0024826496642780566,
           0.003949669920442363,
           0.004570332336511877,
           0.004626756192518197,
           0.004570332336511877,
           0.003949669920442363,
           0.00428821305648028,
           0.0011284771201263894,
           0.018958415618123343,
           0.018958415618123343,
           0,
           0,
           0
          ],
          [
           0.00214410652824014,
           0.003611126784404446,
           0.0024262258082717375,
           0.0034982790723918074,
           0.0032725836483665292,
           0.004852451616543475,
           0.005078147040568752,
           0.0036675506404107655,
           0.0033290075043728488,
           0.0016927156801895841,
           0.018507024770072787,
           0.018507024770072787,
           0,
           0,
           0
          ],
          [
           0.002539073520284376,
           0.0029340405123286124,
           0.0024826496642780566,
           0.002821192800315974,
           0.004852451616543475,
           0.0031597359363538906,
           0.0036675506404107655,
           0.0031597359363538906,
           0.0032161597923602097,
           0.0032161597923602097,
           0.01805563392202223,
           0.01805563392202223,
           0,
           0,
           0
          ],
          [
           0.002821192800315974,
           0.00423178920047396,
           0.002651921232297015,
           0.0038932460644360437,
           0.0025954973762906956,
           0.003611126784404446,
           0.004626756192518197,
           0.0025954973762906956,
           0.0031597359363538906,
           0.0018619872482085425,
           0.017604243073971675,
           0.017604243073971675,
           0,
           0,
           0
          ],
          [
           0.0033854313603791683,
           0.004513908480505558,
           0.0027083450883033347,
           0.00423178920047396,
           0.002651921232297015,
           0.003836822208429724,
           0.003611126784404446,
           0.002256954240252779,
           0.0024826496642780566,
           0.001918411104214862,
           0.016701461377870562,
           0.016701461377870562,
           0,
           0,
           0
          ],
          [
           0.003554702928398127,
           0.0036675506404107655,
           0.003103312080347571,
           0.0033290075043728488,
           0.003103312080347571,
           0.0032725836483665292,
           0.0033854313603791683,
           0.0027083450883033347,
           0.003554702928398127,
           0.001410596400157987,
           0.01715285222592112,
           0.01715285222592112,
           0,
           0,
           0
          ],
          [
           0.004570332336511877,
           0.0041753653444676405,
           0.0037803983524234046,
           0.003836822208429724,
           0.0034982790723918074,
           0.003554702928398127,
           0.0033290075043728488,
           0.002990464368334932,
           0.0027083450883033347,
           0.001918411104214862,
           0.01625007052982001,
           0.01625007052982001,
           0,
           0,
           0
          ],
          [
           0,
           0,
           0,
           0,
           0,
           0,
           0,
           0,
           0,
           0,
           0.02031258816227501,
           0.02031258816227501,
           0,
           0,
           0
          ],
          [
           0.009309936241042713,
           0,
           0,
           0,
           0,
           0,
           0,
           0,
           0,
           0,
           0,
           0.006770862720758337,
           0,
           0.010494837217175422,
           0
          ],
          [
           0.009309936241042713,
           0,
           0,
           0,
           0,
           0,
           0,
           0,
           0,
           0,
           0.006770862720758337,
           0.038932460644360435,
           0.002539073520284376,
           0.03831179822829092,
           0
          ],
          [
           0.0031597359363538906,
           0.0015798679681769453,
           0.0006770862720758337,
           0.0005078147040568753,
           0.00022569542402527788,
           0.00016927156801895842,
           0.00005642385600631947,
           0.00011284771201263894,
           0,
           0,
           0,
           0.040060937764486826,
           0,
           0.006488743440726739,
           0
          ],
          [
           0.013146758449472436,
           0.007842915984878407,
           0.00423178920047396,
           0.0032725836483665292,
           0.0011284771201263894,
           0.0006770862720758337,
           0.00011284771201263894,
           0.00033854313603791684,
           0,
           0,
           0,
           0.0038932460644360437,
           0.006488743440726739,
           0.021102522146363482,
           0
          ],
          [
           0.0012977486881453478,
           0.003103312080347571,
           0.003723974496417085,
           0.003949669920442363,
           0.004513908480505558,
           0.004513908480505558,
           0.004513908480505558,
           0.004513908480505558,
           0.007052982000789934,
           0,
           0.002539073520284376,
           0,
           0.03464424758788016,
           0,
           0
          ]
         ]
        },
        {
         "coloraxis": "coloraxis8",
         "name": "2-5",
         "type": "heatmap",
         "visible": true,
         "x": [
          "1",
          "2",
          "3",
          "4",
          "5",
          "6",
          "8",
          "7",
          "9",
          "0",
          "+",
          "-",
          "*",
          "/",
          "="
         ],
         "xaxis": "x31",
         "y": [
          "1",
          "2",
          "3",
          "4",
          "5",
          "6",
          "8",
          "7",
          "9",
          "0",
          "+",
          "-",
          "*",
          "/",
          "="
         ],
         "yaxis": "y31",
         "z": [
          [
           0.001410596400157987,
           0.0029340405123286124,
           0.002651921232297015,
           0.0022005303842464593,
           0.002369801952265418,
           0.0024826496642780566,
           0.0022005303842464593,
           0.0024262258082717375,
           0.005078147040568752,
           0.00005642385600631947,
           0.002539073520284376,
           0.010156294081137504,
           0.010325565649156463,
           0.013146758449472436,
           0
          ],
          [
           0.002369801952265418,
           0.0015234441121706258,
           0.0022005303842464593,
           0.0030468882243412515,
           0.001805563392202223,
           0.0029340405123286124,
           0.0032161597923602097,
           0.001918411104214862,
           0.0020876826722338203,
           0.0005078147040568753,
           0.00005642385600631947,
           0.00959205552107431,
           0.007842915984878407,
           0.01179258590532077,
           0
          ],
          [
           0.0031597359363538906,
           0.0014670202561643062,
           0.0007335101280821531,
           0.00214410652824014,
           0.002031258816227501,
           0.001918411104214862,
           0.0019748349602211816,
           0.0023133780962590984,
           0.0020876826722338203,
           0.00005642385600631947,
           0.00016927156801895842,
           0.009817750945099589,
           0.006206624160695142,
           0.010325565649156463,
           0
          ],
          [
           0.003441855216385488,
           0.0027647689443096543,
           0.0009027816961011115,
           0.0012977486881453478,
           0.0014670202561643062,
           0.002821192800315974,
           0.0029340405123286124,
           0.0018619872482085425,
           0.0017491395361959037,
           0.0005078147040568753,
           0.00033854313603791684,
           0.009874174801105907,
           0.005190994752581391,
           0.009027816961011115,
           0
          ],
          [
           0.004118941488461322,
           0.0016362918241832646,
           0.0013541725441516674,
           0.0008463578400947921,
           0.0031597359363538906,
           0.0013541725441516674,
           0.001410596400157987,
           0.001410596400157987,
           0.0016362918241832646,
           0.0017491395361959037,
           0.0005642385600631947,
           0.009930598657112226,
           0.004062517632455002,
           0.007730068272865768,
           0
          ],
          [
           0.005247418608587711,
           0.00214410652824014,
           0.001410596400157987,
           0.002369801952265418,
           0.0005642385600631947,
           0.0012413248321390283,
           0.002877616656322293,
           0.0012977486881453478,
           0.0015234441121706258,
           0.0005078147040568753,
           0.0008463578400947921,
           0.009987022513118546,
           0.003611126784404446,
           0.007109405856796254,
           0
          ],
          [
           0.006093776448682503,
           0.0024826496642780566,
           0.0013541725441516674,
           0.0025954973762906956,
           0.0007899339840884726,
           0.0019748349602211816,
           0.0012977486881453478,
           0.0008463578400947921,
           0.0015234441121706258,
           0.0005078147040568753,
           0.0015798679681769453,
           0.010099870225131185,
           0.002369801952265418,
           0.005698809456638266,
           0
          ],
          [
           0.0049088754725497945,
           0.002539073520284376,
           0.0015234441121706258,
           0.0015234441121706258,
           0.0011284771201263894,
           0.0012413248321390283,
           0.0015234441121706258,
           0.0005078147040568753,
           0.002031258816227501,
           0.00005642385600631947,
           0.001184900976132709,
           0.010043446369124865,
           0.0024826496642780566,
           0.006263048016701462,
           0
          ],
          [
           0.0072786774248152115,
           0.0018619872482085425,
           0.0015798679681769453,
           0.0014670202561643062,
           0.0013541725441516674,
           0.0012413248321390283,
           0.0009027816961011115,
           0.0012413248321390283,
           0.0003949669920442363,
           0.00005642385600631947,
           0.002031258816227501,
           0.010156294081137504,
           0.0015798679681769453,
           0.00530384246459403,
           0
          ],
          [
           0.00005642385600631947,
           0.0005642385600631947,
           0.0006206624160695141,
           0.0010156294081137506,
           0.0018619872482085425,
           0.0012977486881453478,
           0.0016362918241832646,
           0.001184900976132709,
           0.001410596400157987,
           0.0032725836483665292,
           0,
           0,
           0,
           0,
           0
          ],
          [
           0,
           0,
           0,
           0,
           0,
           0,
           0,
           0,
           0,
           0,
           0,
           0,
           0,
           0,
           0
          ],
          [
           0,
           0,
           0,
           0,
           0,
           0,
           0,
           0,
           0,
           0,
           0,
           0,
           0,
           0,
           0
          ],
          [
           0,
           0,
           0,
           0,
           0,
           0,
           0,
           0,
           0,
           0,
           0,
           0,
           0,
           0,
           0
          ],
          [
           0,
           0,
           0,
           0,
           0,
           0,
           0,
           0,
           0,
           0,
           0,
           0,
           0,
           0,
           0
          ],
          [
           0.021046098290357165,
           0.02482649664278057,
           0.022174575410483552,
           0.026011397618913277,
           0.024657225074761608,
           0.02674490774699543,
           0.02764768944309654,
           0.023020933250578343,
           0.024262258082717373,
           0.0072786774248152115,
           0.1828132934604751,
           0.1828132934604751,
           0,
           0,
           0
          ]
         ]
        },
        {
         "coloraxis": "coloraxis",
         "name": "2-5",
         "type": "heatmap",
         "visible": false,
         "x": [
          "1",
          "2",
          "3",
          "4",
          "5",
          "6",
          "8",
          "7",
          "9",
          "0",
          "+",
          "-",
          "*",
          "/",
          "="
         ],
         "xaxis": "x31",
         "y": [
          "1",
          "2",
          "3",
          "4",
          "5",
          "6",
          "8",
          "7",
          "9",
          "0",
          "+",
          "-",
          "*",
          "/",
          "="
         ],
         "yaxis": "y31",
         "z": [
          [
           0.001410596400157987,
           0.0029340405123286124,
           0.002651921232297015,
           0.0022005303842464593,
           0.002369801952265418,
           0.0024826496642780566,
           0.0022005303842464593,
           0.0024262258082717375,
           0.005078147040568752,
           0.00005642385600631947,
           0.002539073520284376,
           0.010156294081137504,
           0.010325565649156463,
           0.013146758449472436,
           0
          ],
          [
           0.002369801952265418,
           0.0015234441121706258,
           0.0022005303842464593,
           0.0030468882243412515,
           0.001805563392202223,
           0.0029340405123286124,
           0.0032161597923602097,
           0.001918411104214862,
           0.0020876826722338203,
           0.0005078147040568753,
           0.00005642385600631947,
           0.00959205552107431,
           0.007842915984878407,
           0.01179258590532077,
           0
          ],
          [
           0.0031597359363538906,
           0.0014670202561643062,
           0.0007335101280821531,
           0.00214410652824014,
           0.002031258816227501,
           0.001918411104214862,
           0.0019748349602211816,
           0.0023133780962590984,
           0.0020876826722338203,
           0.00005642385600631947,
           0.00016927156801895842,
           0.009817750945099589,
           0.006206624160695142,
           0.010325565649156463,
           0
          ],
          [
           0.003441855216385488,
           0.0027647689443096543,
           0.0009027816961011115,
           0.0012977486881453478,
           0.0014670202561643062,
           0.002821192800315974,
           0.0029340405123286124,
           0.0018619872482085425,
           0.0017491395361959037,
           0.0005078147040568753,
           0.00033854313603791684,
           0.009874174801105907,
           0.005190994752581391,
           0.009027816961011115,
           0
          ],
          [
           0.004118941488461322,
           0.0016362918241832646,
           0.0013541725441516674,
           0.0008463578400947921,
           0.0031597359363538906,
           0.0013541725441516674,
           0.001410596400157987,
           0.001410596400157987,
           0.0016362918241832646,
           0.0017491395361959037,
           0.0005642385600631947,
           0.009930598657112226,
           0.004062517632455002,
           0.007730068272865768,
           0
          ],
          [
           0.005247418608587711,
           0.00214410652824014,
           0.001410596400157987,
           0.002369801952265418,
           0.0005642385600631947,
           0.0012413248321390283,
           0.002877616656322293,
           0.0012977486881453478,
           0.0015234441121706258,
           0.0005078147040568753,
           0.0008463578400947921,
           0.009987022513118546,
           0.003611126784404446,
           0.007109405856796254,
           0
          ],
          [
           0.006093776448682503,
           0.0024826496642780566,
           0.0013541725441516674,
           0.0025954973762906956,
           0.0007899339840884726,
           0.0019748349602211816,
           0.0012977486881453478,
           0.0008463578400947921,
           0.0015234441121706258,
           0.0005078147040568753,
           0.0015798679681769453,
           0.010099870225131185,
           0.002369801952265418,
           0.005698809456638266,
           0
          ],
          [
           0.0049088754725497945,
           0.002539073520284376,
           0.0015234441121706258,
           0.0015234441121706258,
           0.0011284771201263894,
           0.0012413248321390283,
           0.0015234441121706258,
           0.0005078147040568753,
           0.002031258816227501,
           0.00005642385600631947,
           0.001184900976132709,
           0.010043446369124865,
           0.0024826496642780566,
           0.006263048016701462,
           0
          ],
          [
           0.0072786774248152115,
           0.0018619872482085425,
           0.0015798679681769453,
           0.0014670202561643062,
           0.0013541725441516674,
           0.0012413248321390283,
           0.0009027816961011115,
           0.0012413248321390283,
           0.0003949669920442363,
           0.00005642385600631947,
           0.002031258816227501,
           0.010156294081137504,
           0.0015798679681769453,
           0.00530384246459403,
           0
          ],
          [
           0.00005642385600631947,
           0.0005642385600631947,
           0.0006206624160695141,
           0.0010156294081137506,
           0.0018619872482085425,
           0.0012977486881453478,
           0.0016362918241832646,
           0.001184900976132709,
           0.001410596400157987,
           0.0032725836483665292,
           0,
           0,
           0,
           0,
           0
          ],
          [
           0,
           0,
           0,
           0,
           0,
           0,
           0,
           0,
           0,
           0,
           0,
           0,
           0,
           0,
           0
          ],
          [
           0,
           0,
           0,
           0,
           0,
           0,
           0,
           0,
           0,
           0,
           0,
           0,
           0,
           0,
           0
          ],
          [
           0,
           0,
           0,
           0,
           0,
           0,
           0,
           0,
           0,
           0,
           0,
           0,
           0,
           0,
           0
          ],
          [
           0,
           0,
           0,
           0,
           0,
           0,
           0,
           0,
           0,
           0,
           0,
           0,
           0,
           0,
           0
          ],
          [
           0.021046098290357165,
           0.02482649664278057,
           0.022174575410483552,
           0.026011397618913277,
           0.024657225074761608,
           0.02674490774699543,
           0.02764768944309654,
           0.023020933250578343,
           0.024262258082717373,
           0.0072786774248152115,
           0.1828132934604751,
           0.1828132934604751,
           0,
           0,
           0
          ]
         ]
        },
        {
         "coloraxis": "coloraxis9",
         "name": "2-6",
         "type": "heatmap",
         "visible": true,
         "x": [
          "1",
          "2",
          "3",
          "4",
          "5",
          "6",
          "8",
          "7",
          "9",
          "0",
          "+",
          "-",
          "*",
          "/",
          "="
         ],
         "xaxis": "x38",
         "y": [
          "1",
          "2",
          "3",
          "4",
          "5",
          "6",
          "8",
          "7",
          "9",
          "0",
          "+",
          "-",
          "*",
          "/",
          "="
         ],
         "yaxis": "y38",
         "z": [
          [
           0.01495232184167466,
           0.014500930993624104,
           0.012638943745415562,
           0.010889804209219658,
           0.00964847937708063,
           0.009309936241042713,
           0.00857642611296056,
           0.008237882976922644,
           0.007730068272865768,
           0.00005642385600631947,
           0,
           0.0426000112847712,
           0.0033290075043728488,
           0,
           0
          ],
          [
           0.001805563392202223,
           0.004062517632455002,
           0.005698809456638266,
           0.005811657168650905,
           0.004796027760537155,
           0.0049088754725497945,
           0.004796027760537155,
           0.004457484624499238,
           0.004401060768492919,
           0.0006770862720758337,
           0.003103312080347571,
           0.03695762568413925,
           0.003723974496417085,
           0,
           0
          ],
          [
           0.0013541725441516674,
           0.0015234441121706258,
           0.00214410652824014,
           0.004401060768492919,
           0.00428821305648028,
           0.004006093776448683,
           0.003103312080347571,
           0.0030468882243412515,
           0.0023133780962590984,
           0.0007335101280821531,
           0.008745697680979518,
           0.031315240083507306,
           0.0032725836483665292,
           0,
           0
          ],
          [
           0.0012977486881453478,
           0.0012977486881453478,
           0.000959205552107431,
           0.0023133780962590984,
           0.0034982790723918074,
           0.003949669920442363,
           0.003611126784404446,
           0.0032161597923602097,
           0.0023133780962590984,
           0.0007899339840884726,
           0.014388083281611464,
           0.02567285448287536,
           0.003611126784404446,
           0,
           0
          ],
          [
           0.0007335101280821531,
           0.0011284771201263894,
           0.0008463578400947921,
           0.0009027816961011115,
           0.001805563392202223,
           0.0030468882243412515,
           0.0030468882243412515,
           0.0033290075043728488,
           0.0025954973762906956,
           0.0009027816961011115,
           0.020030468882243413,
           0.020030468882243413,
           0.0033854313603791683,
           0,
           0
          ],
          [
           0.0005642385600631947,
           0.0012413248321390283,
           0.0006206624160695141,
           0.0013541725441516674,
           0.0011284771201263894,
           0.0016362918241832646,
           0.003441855216385488,
           0.0023133780962590984,
           0.0025954973762906956,
           0.0009027816961011115,
           0.02567285448287536,
           0.014388083281611464,
           0.0036675506404107655,
           0,
           0
          ],
          [
           0.00028211928003159736,
           0.0011284771201263894,
           0.0007899339840884726,
           0.0013541725441516674,
           0.0008463578400947921,
           0.0012413248321390283,
           0.0013541725441516674,
           0.0007899339840884726,
           0.0025954973762906956,
           0.0009027816961011115,
           0.03695762568413925,
           0.003103312080347571,
           0.003723974496417085,
           0,
           0
          ],
          [
           0.00045139084805055575,
           0.00107205326412007,
           0.0007899339840884726,
           0.001184900976132709,
           0.001184900976132709,
           0.001184900976132709,
           0.002651921232297015,
           0.0009027816961011115,
           0.0029340405123286124,
           0.0009027816961011115,
           0.031315240083507306,
           0.008745697680979518,
           0.0032725836483665292,
           0,
           0
          ],
          [
           0.0006206624160695141,
           0.0014670202561643062,
           0.00107205326412007,
           0.0014670202561643062,
           0.001184900976132709,
           0.0014670202561643062,
           0.001184900976132709,
           0.0008463578400947921,
           0.0012977486881453478,
           0.001410596400157987,
           0.0426000112847712,
           0,
           0.0031597359363538906,
           0,
           0
          ],
          [
           0.00028211928003159736,
           0.0005078147040568753,
           0.00033854313603791684,
           0.00028211928003159736,
           0.0007899339840884726,
           0.0005078147040568753,
           0.0003949669920442363,
           0.0003949669920442363,
           0.002539073520284376,
           0,
           0.002539073520284376,
           0,
           0.0034982790723918074,
           0,
           0
          ],
          [
           0,
           0,
           0,
           0,
           0,
           0,
           0,
           0,
           0,
           0,
           0,
           0,
           0,
           0,
           0
          ],
          [
           0,
           0,
           0,
           0,
           0,
           0,
           0,
           0,
           0,
           0,
           0,
           0,
           0,
           0,
           0
          ],
          [
           0,
           0,
           0,
           0,
           0,
           0,
           0,
           0,
           0,
           0,
           0,
           0,
           0,
           0,
           0
          ],
          [
           0,
           0,
           0,
           0,
           0,
           0,
           0,
           0,
           0,
           0,
           0,
           0,
           0,
           0,
           0
          ],
          [
           0.036788354116120296,
           0.0168143090898832,
           0.01060768492918806,
           0.014557354849630423,
           0.012018281329346047,
           0.01399311628956723,
           0.015460136545731536,
           0.010494837217175422,
           0.012469672177396604,
           0.0072786774248152115,
           0.006770862720758337,
           0.08965750719404164,
           0.009027816961011115,
           0.07639790103255656,
           0
          ]
         ]
        },
        {
         "coloraxis": "coloraxis",
         "name": "2-6",
         "type": "heatmap",
         "visible": false,
         "x": [
          "1",
          "2",
          "3",
          "4",
          "5",
          "6",
          "8",
          "7",
          "9",
          "0",
          "+",
          "-",
          "*",
          "/",
          "="
         ],
         "xaxis": "x38",
         "y": [
          "1",
          "2",
          "3",
          "4",
          "5",
          "6",
          "8",
          "7",
          "9",
          "0",
          "+",
          "-",
          "*",
          "/",
          "="
         ],
         "yaxis": "y38",
         "z": [
          [
           0.01495232184167466,
           0.014500930993624104,
           0.012638943745415562,
           0.010889804209219658,
           0.00964847937708063,
           0.009309936241042713,
           0.00857642611296056,
           0.008237882976922644,
           0.007730068272865768,
           0.00005642385600631947,
           0,
           0.0426000112847712,
           0.0033290075043728488,
           0,
           0
          ],
          [
           0.001805563392202223,
           0.004062517632455002,
           0.005698809456638266,
           0.005811657168650905,
           0.004796027760537155,
           0.0049088754725497945,
           0.004796027760537155,
           0.004457484624499238,
           0.004401060768492919,
           0.0006770862720758337,
           0.003103312080347571,
           0.03695762568413925,
           0.003723974496417085,
           0,
           0
          ],
          [
           0.0013541725441516674,
           0.0015234441121706258,
           0.00214410652824014,
           0.004401060768492919,
           0.00428821305648028,
           0.004006093776448683,
           0.003103312080347571,
           0.0030468882243412515,
           0.0023133780962590984,
           0.0007335101280821531,
           0.008745697680979518,
           0.031315240083507306,
           0.0032725836483665292,
           0,
           0
          ],
          [
           0.0012977486881453478,
           0.0012977486881453478,
           0.000959205552107431,
           0.0023133780962590984,
           0.0034982790723918074,
           0.003949669920442363,
           0.003611126784404446,
           0.0032161597923602097,
           0.0023133780962590984,
           0.0007899339840884726,
           0.014388083281611464,
           0.02567285448287536,
           0.003611126784404446,
           0,
           0
          ],
          [
           0.0007335101280821531,
           0.0011284771201263894,
           0.0008463578400947921,
           0.0009027816961011115,
           0.001805563392202223,
           0.0030468882243412515,
           0.0030468882243412515,
           0.0033290075043728488,
           0.0025954973762906956,
           0.0009027816961011115,
           0.020030468882243413,
           0.020030468882243413,
           0.0033854313603791683,
           0,
           0
          ],
          [
           0.0005642385600631947,
           0.0012413248321390283,
           0.0006206624160695141,
           0.0013541725441516674,
           0.0011284771201263894,
           0.0016362918241832646,
           0.003441855216385488,
           0.0023133780962590984,
           0.0025954973762906956,
           0.0009027816961011115,
           0.02567285448287536,
           0.014388083281611464,
           0.0036675506404107655,
           0,
           0
          ],
          [
           0.00028211928003159736,
           0.0011284771201263894,
           0.0007899339840884726,
           0.0013541725441516674,
           0.0008463578400947921,
           0.0012413248321390283,
           0.0013541725441516674,
           0.0007899339840884726,
           0.0025954973762906956,
           0.0009027816961011115,
           0.03695762568413925,
           0.003103312080347571,
           0.003723974496417085,
           0,
           0
          ],
          [
           0.00045139084805055575,
           0.00107205326412007,
           0.0007899339840884726,
           0.001184900976132709,
           0.001184900976132709,
           0.001184900976132709,
           0.002651921232297015,
           0.0009027816961011115,
           0.0029340405123286124,
           0.0009027816961011115,
           0.031315240083507306,
           0.008745697680979518,
           0.0032725836483665292,
           0,
           0
          ],
          [
           0.0006206624160695141,
           0.0014670202561643062,
           0.00107205326412007,
           0.0014670202561643062,
           0.001184900976132709,
           0.0014670202561643062,
           0.001184900976132709,
           0.0008463578400947921,
           0.0012977486881453478,
           0.001410596400157987,
           0.0426000112847712,
           0,
           0.0031597359363538906,
           0,
           0
          ],
          [
           0.00028211928003159736,
           0.0005078147040568753,
           0.00033854313603791684,
           0.00028211928003159736,
           0.0007899339840884726,
           0.0005078147040568753,
           0.0003949669920442363,
           0.0003949669920442363,
           0.002539073520284376,
           0,
           0.002539073520284376,
           0,
           0.0034982790723918074,
           0,
           0
          ],
          [
           0,
           0,
           0,
           0,
           0,
           0,
           0,
           0,
           0,
           0,
           0,
           0,
           0,
           0,
           0
          ],
          [
           0,
           0,
           0,
           0,
           0,
           0,
           0,
           0,
           0,
           0,
           0,
           0,
           0,
           0,
           0
          ],
          [
           0,
           0,
           0,
           0,
           0,
           0,
           0,
           0,
           0,
           0,
           0,
           0,
           0,
           0,
           0
          ],
          [
           0,
           0,
           0,
           0,
           0,
           0,
           0,
           0,
           0,
           0,
           0,
           0,
           0,
           0,
           0
          ],
          [
           0.036788354116120296,
           0.0168143090898832,
           0.01060768492918806,
           0.014557354849630423,
           0.012018281329346047,
           0.01399311628956723,
           0.015460136545731536,
           0.010494837217175422,
           0.012469672177396604,
           0.0072786774248152115,
           0.006770862720758337,
           0.08965750719404164,
           0.009027816961011115,
           0.07639790103255656,
           0
          ]
         ]
        },
        {
         "coloraxis": "coloraxis10",
         "name": "2-7",
         "type": "heatmap",
         "visible": true,
         "x": [
          "1",
          "2",
          "3",
          "4",
          "5",
          "6",
          "8",
          "7",
          "9",
          "0",
          "+",
          "-",
          "*",
          "/",
          "="
         ],
         "xaxis": "x45",
         "y": [
          "1",
          "2",
          "3",
          "4",
          "5",
          "6",
          "8",
          "7",
          "9",
          "0",
          "+",
          "-",
          "*",
          "/",
          "="
         ],
         "yaxis": "y45",
         "z": [
          [
           0.006601591152739378,
           0.004739603904530836,
           0.004796027760537155,
           0.004852451616543475,
           0.004344636912486599,
           0.004570332336511877,
           0.004401060768492919,
           0.004457484624499238,
           0.004965299328556113,
           0.00011284771201263894,
           0.01715285222592112,
           0.026349940754951194,
           0.001410596400157987,
           0.007052982000789934,
           0
          ],
          [
           0.007222253568808892,
           0.005698809456638266,
           0.00428821305648028,
           0.005642385600631948,
           0.0036675506404107655,
           0.005868081024657225,
           0.005980928736669864,
           0.0038932460644360437,
           0.004739603904530836,
           0.0011284771201263894,
           0.017604243073971675,
           0.02663206003498279,
           0.005190994752581391,
           0.007842915984878407,
           0
          ],
          [
           0.0065451672967330584,
           0.003949669920442363,
           0.0030468882243412515,
           0.0037803983524234046,
           0.0037803983524234046,
           0.003723974496417085,
           0.00428821305648028,
           0.004118941488461322,
           0.004739603904530836,
           0.00045139084805055575,
           0.018112057778028552,
           0.02680133160300175,
           0.001918411104214862,
           0.007730068272865768,
           0
          ],
          [
           0.006263048016701462,
           0.0055295378886193085,
           0.003723974496417085,
           0.004683180048524516,
           0.0031597359363538906,
           0.00536026632060035,
           0.005811657168650905,
           0.003949669920442363,
           0.004401060768492919,
           0.001410596400157987,
           0.018676296338091744,
           0.027083450883033346,
           0.005698809456638266,
           0.008012187552897366,
           0
          ],
          [
           0.005078147040568752,
           0.002990464368334932,
           0.0031597359363538906,
           0.002821192800315974,
           0.007109405856796254,
           0.003103312080347571,
           0.0034982790723918074,
           0.003103312080347571,
           0.0038932460644360437,
           0.004062517632455002,
           0.01929695875416126,
           0.027252722451052303,
           0.004739603904530836,
           0.008068611408903685,
           0
          ],
          [
           0.0054166901766066694,
           0.005190994752581391,
           0.002990464368334932,
           0.0054166901766066694,
           0.0030468882243412515,
           0.004796027760537155,
           0.0060373525926761835,
           0.003441855216385488,
           0.004118941488461322,
           0.0014670202561643062,
           0.01997404502623709,
           0.027534841731083903,
           0.006093776448682503,
           0.00852000225695424,
           0
          ],
          [
           0.004965299328556113,
           0.005021723184562433,
           0.0032161597923602097,
           0.005247418608587711,
           0.0031597359363538906,
           0.00536026632060035,
           0.005021723184562433,
           0.003611126784404446,
           0.004006093776448683,
           0.0015234441121706258,
           0.021497489138407717,
           0.028155504147153416,
           0.006432319584720419,
           0.008914969248998476,
           0
          ],
          [
           0.004852451616543475,
           0.0032161597923602097,
           0.0033854313603791683,
           0.0033290075043728488,
           0.0034982790723918074,
           0.0038932460644360437,
           0.0038932460644360437,
           0.003103312080347571,
           0.004457484624499238,
           0.0005642385600631947,
           0.020707555154319247,
           0.0278169610111155,
           0.002539073520284376,
           0.008237882976922644,
           0
          ],
          [
           0.005190994752581391,
           0.002990464368334932,
           0.0031597359363538906,
           0.003723974496417085,
           0.0036675506404107655,
           0.0037803983524234046,
           0.003949669920442363,
           0.003836822208429724,
           0.0033854313603791683,
           0.0005642385600631947,
           0.022343846978502512,
           0.02871974270721661,
           0.002877616656322293,
           0.008745697680979518,
           0
          ],
          [
           0.006996558144783615,
           0.0054166901766066694,
           0.004739603904530836,
           0.005021723184562433,
           0.005755233312644586,
           0.004796027760537155,
           0.004739603904530836,
           0.004513908480505558,
           0.005078147040568752,
           0.0032725836483665292,
           0.016757885233876883,
           0.026124245330925916,
           0.006770862720758337,
           0.0032725836483665292,
           0
          ],
          [
           0,
           0,
           0,
           0,
           0,
           0,
           0,
           0,
           0,
           0,
           0,
           0,
           0,
           0,
           0
          ],
          [
           0,
           0,
           0,
           0,
           0,
           0,
           0,
           0,
           0,
           0,
           0,
           0,
           0,
           0,
           0
          ],
          [
           0,
           0,
           0,
           0,
           0,
           0,
           0,
           0,
           0,
           0,
           0,
           0,
           0,
           0,
           0
          ],
          [
           0,
           0,
           0,
           0,
           0,
           0,
           0,
           0,
           0,
           0,
           0,
           0,
           0,
           0,
           0
          ],
          [
           0,
           0,
           0,
           0,
           0,
           0,
           0,
           0,
           0,
           0,
           0,
           0,
           0,
           0,
           0
          ]
         ]
        },
        {
         "coloraxis": "coloraxis",
         "name": "2-7",
         "type": "heatmap",
         "visible": false,
         "x": [
          "1",
          "2",
          "3",
          "4",
          "5",
          "6",
          "8",
          "7",
          "9",
          "0",
          "+",
          "-",
          "*",
          "/",
          "="
         ],
         "xaxis": "x45",
         "y": [
          "1",
          "2",
          "3",
          "4",
          "5",
          "6",
          "8",
          "7",
          "9",
          "0",
          "+",
          "-",
          "*",
          "/",
          "="
         ],
         "yaxis": "y45",
         "z": [
          [
           0.006601591152739378,
           0.004739603904530836,
           0.004796027760537155,
           0.004852451616543475,
           0.004344636912486599,
           0.004570332336511877,
           0.004401060768492919,
           0.004457484624499238,
           0.004965299328556113,
           0.00011284771201263894,
           0.01715285222592112,
           0.026349940754951194,
           0.001410596400157987,
           0.007052982000789934,
           0
          ],
          [
           0.007222253568808892,
           0.005698809456638266,
           0.00428821305648028,
           0.005642385600631948,
           0.0036675506404107655,
           0.005868081024657225,
           0.005980928736669864,
           0.0038932460644360437,
           0.004739603904530836,
           0.0011284771201263894,
           0.017604243073971675,
           0.02663206003498279,
           0.005190994752581391,
           0.007842915984878407,
           0
          ],
          [
           0.0065451672967330584,
           0.003949669920442363,
           0.0030468882243412515,
           0.0037803983524234046,
           0.0037803983524234046,
           0.003723974496417085,
           0.00428821305648028,
           0.004118941488461322,
           0.004739603904530836,
           0.00045139084805055575,
           0.018112057778028552,
           0.02680133160300175,
           0.001918411104214862,
           0.007730068272865768,
           0
          ],
          [
           0.006263048016701462,
           0.0055295378886193085,
           0.003723974496417085,
           0.004683180048524516,
           0.0031597359363538906,
           0.00536026632060035,
           0.005811657168650905,
           0.003949669920442363,
           0.004401060768492919,
           0.001410596400157987,
           0.018676296338091744,
           0.027083450883033346,
           0.005698809456638266,
           0.008012187552897366,
           0
          ],
          [
           0.005078147040568752,
           0.002990464368334932,
           0.0031597359363538906,
           0.002821192800315974,
           0.007109405856796254,
           0.003103312080347571,
           0.0034982790723918074,
           0.003103312080347571,
           0.0038932460644360437,
           0.004062517632455002,
           0.01929695875416126,
           0.027252722451052303,
           0.004739603904530836,
           0.008068611408903685,
           0
          ],
          [
           0.0054166901766066694,
           0.005190994752581391,
           0.002990464368334932,
           0.0054166901766066694,
           0.0030468882243412515,
           0.004796027760537155,
           0.0060373525926761835,
           0.003441855216385488,
           0.004118941488461322,
           0.0014670202561643062,
           0.01997404502623709,
           0.027534841731083903,
           0.006093776448682503,
           0.00852000225695424,
           0
          ],
          [
           0.004965299328556113,
           0.005021723184562433,
           0.0032161597923602097,
           0.005247418608587711,
           0.0031597359363538906,
           0.00536026632060035,
           0.005021723184562433,
           0.003611126784404446,
           0.004006093776448683,
           0.0015234441121706258,
           0.021497489138407717,
           0.028155504147153416,
           0.006432319584720419,
           0.008914969248998476,
           0
          ],
          [
           0.004852451616543475,
           0.0032161597923602097,
           0.0033854313603791683,
           0.0033290075043728488,
           0.0034982790723918074,
           0.0038932460644360437,
           0.0038932460644360437,
           0.003103312080347571,
           0.004457484624499238,
           0.0005642385600631947,
           0.020707555154319247,
           0.0278169610111155,
           0.002539073520284376,
           0.008237882976922644,
           0
          ],
          [
           0.005190994752581391,
           0.002990464368334932,
           0.0031597359363538906,
           0.003723974496417085,
           0.0036675506404107655,
           0.0037803983524234046,
           0.003949669920442363,
           0.003836822208429724,
           0.0033854313603791683,
           0.0005642385600631947,
           0.022343846978502512,
           0.02871974270721661,
           0.002877616656322293,
           0.008745697680979518,
           0
          ],
          [
           0.006996558144783615,
           0.0054166901766066694,
           0.004739603904530836,
           0.005021723184562433,
           0.005755233312644586,
           0.004796027760537155,
           0.004739603904530836,
           0.004513908480505558,
           0.005078147040568752,
           0.0032725836483665292,
           0.016757885233876883,
           0.026124245330925916,
           0.006770862720758337,
           0.0032725836483665292,
           0
          ],
          [
           0,
           0,
           0,
           0,
           0,
           0,
           0,
           0,
           0,
           0,
           0,
           0,
           0,
           0,
           0
          ],
          [
           0,
           0,
           0,
           0,
           0,
           0,
           0,
           0,
           0,
           0,
           0,
           0,
           0,
           0,
           0
          ],
          [
           0,
           0,
           0,
           0,
           0,
           0,
           0,
           0,
           0,
           0,
           0,
           0,
           0,
           0,
           0
          ],
          [
           0,
           0,
           0,
           0,
           0,
           0,
           0,
           0,
           0,
           0,
           0,
           0,
           0,
           0,
           0
          ],
          [
           0,
           0,
           0,
           0,
           0,
           0,
           0,
           0,
           0,
           0,
           0,
           0,
           0,
           0,
           0
          ]
         ]
        },
        {
         "coloraxis": "coloraxis8",
         "name": "3-4",
         "type": "heatmap",
         "visible": true,
         "x": [
          "1",
          "2",
          "3",
          "4",
          "5",
          "6",
          "8",
          "7",
          "9",
          "0",
          "+",
          "-",
          "*",
          "/",
          "="
         ],
         "xaxis": "x25",
         "y": [
          "1",
          "2",
          "3",
          "4",
          "5",
          "6",
          "8",
          "7",
          "9",
          "0",
          "+",
          "-",
          "*",
          "/",
          "="
         ],
         "yaxis": "y25",
         "z": [
          [
           0.008914969248998476,
           0.007786492128872087,
           0.0066580150087456975,
           0.0055295378886193085,
           0.004401060768492919,
           0.0032725836483665292,
           0.0010156294081137506,
           0.00214410652824014,
           0,
           0,
           0.013259606161485075,
           0.02341590024262258,
           0.008971393105004796,
           0.010269141793150144,
           0
          ],
          [
           0.008802121536985837,
           0.007673644416859448,
           0.0065451672967330584,
           0.0054166901766066694,
           0.00428821305648028,
           0.0031597359363538906,
           0.0009027816961011115,
           0.002031258816227501,
           0,
           0,
           0.007222253568808892,
           0.011341195057270215,
           0.009084240817017435,
           0.00964847937708063,
           0
          ],
          [
           0.008689273824973198,
           0.007560796704846809,
           0.006432319584720419,
           0.00530384246459403,
           0.0041753653444676405,
           0.0030468882243412515,
           0.0007899339840884726,
           0.001918411104214862,
           0,
           0,
           0.007842915984878407,
           0.008971393105004796,
           0.008068611408903685,
           0.009479207809061672,
           0
          ],
          [
           0.00857642611296056,
           0.00744794899283417,
           0.006319471872707781,
           0.005190994752581391,
           0.004062517632455002,
           0.0029340405123286124,
           0.0006770862720758337,
           0.001805563392202223,
           0,
           0,
           0.00857642611296056,
           0.007617220560853129,
           0.008012187552897366,
           0.009366360097049033,
           0
          ],
          [
           0.00846357840094792,
           0.007335101280821531,
           0.006206624160695142,
           0.005078147040568752,
           0.003949669920442363,
           0.002821192800315974,
           0.0005642385600631947,
           0.0016927156801895841,
           0,
           0,
           0.009197088529030074,
           0.005980928736669864,
           0.007560796704846809,
           0.009309936241042713,
           0
          ],
          [
           0.008350730688935281,
           0.007222253568808892,
           0.006093776448682503,
           0.004965299328556113,
           0.003836822208429724,
           0.0027083450883033347,
           0.00045139084805055575,
           0.0015798679681769453,
           0,
           0,
           0.009930598657112226,
           0.0049088754725497945,
           0.007673644416859448,
           0.009535631665067991,
           0
          ],
          [
           0.008125035264910005,
           0.006996558144783615,
           0.005868081024657225,
           0.004739603904530836,
           0.003611126784404446,
           0.0024826496642780566,
           0.00022569542402527788,
           0.0013541725441516674,
           0,
           0,
           0.011454042769282852,
           0.0031597359363538906,
           0.00744794899283417,
           0.009535631665067991,
           0
          ],
          [
           0.008237882976922644,
           0.007109405856796254,
           0.005980928736669864,
           0.004852451616543475,
           0.003723974496417085,
           0.0025954973762906956,
           0.00033854313603791684,
           0.0014670202561643062,
           0,
           0,
           0.01066410878519438,
           0.0038932460644360437,
           0.007052982000789934,
           0.009479207809061672,
           0
          ],
          [
           0.008012187552897366,
           0.006883710432770976,
           0.005755233312644586,
           0.004626756192518197,
           0.0034982790723918074,
           0.002369801952265418,
           0.00011284771201263894,
           0.0012413248321390283,
           0,
           0,
           0.012469672177396604,
           0.00536026632060035,
           0.006996558144783615,
           0.009535631665067991,
           0
          ],
          [
           0.009027816961011115,
           0.007899339840884726,
           0.006770862720758337,
           0.005642385600631948,
           0.004513908480505558,
           0.0033854313603791683,
           0.0011284771201263894,
           0.002256954240252779,
           0,
           0,
           0,
           0,
           0,
           0,
           0
          ],
          [
           0.002031258816227501,
           0.0022005303842464593,
           0.0022005303842464593,
           0.002369801952265418,
           0.0027083450883033347,
           0.0027647689443096543,
           0.0032161597923602097,
           0.0029340405123286124,
           0.003611126784404446,
           0.002539073520284376,
           0,
           0,
           0,
           0,
           0
          ],
          [
           0.012187552897365006,
           0.011171923489251256,
           0.011002651921232297,
           0.010833380353213339,
           0.01066410878519438,
           0.010269141793150144,
           0.008971393105004796,
           0.00970490323308695,
           0.00852000225695424,
           0.002539073520284376,
           0,
           0,
           0,
           0,
           0
          ],
          [
           0.0029340405123286124,
           0.005473114032612989,
           0.0049088754725497945,
           0.006432319584720419,
           0.006206624160695142,
           0.006827286576764656,
           0.007222253568808892,
           0.005980928736669864,
           0.0061502003046888225,
           0.0009027816961011115,
           0,
           0,
           0,
           0,
           0
          ],
          [
           0.008068611408903685,
           0.010833380353213339,
           0.004626756192518197,
           0.008181459120916324,
           0.006263048016701462,
           0.006770862720758337,
           0.006883710432770976,
           0.0032161597923602097,
           0.0024262258082717375,
           0.004965299328556113,
           0,
           0,
           0,
           0,
           0
          ],
          [
           0.0033854313603791683,
           0.006375895728714101,
           0.00744794899283417,
           0.008125035264910005,
           0.008632849968966879,
           0.008914969248998476,
           0.009422783953055352,
           0.009197088529030074,
           0.00959205552107431,
           0.0032725836483665292,
           0,
           0,
           0,
           0,
           0
          ]
         ]
        },
        {
         "coloraxis": "coloraxis",
         "name": "3-4",
         "type": "heatmap",
         "visible": false,
         "x": [
          "1",
          "2",
          "3",
          "4",
          "5",
          "6",
          "8",
          "7",
          "9",
          "0",
          "+",
          "-",
          "*",
          "/",
          "="
         ],
         "xaxis": "x25",
         "y": [
          "1",
          "2",
          "3",
          "4",
          "5",
          "6",
          "8",
          "7",
          "9",
          "0",
          "+",
          "-",
          "*",
          "/",
          "="
         ],
         "yaxis": "y25",
         "z": [
          [
           0.008914969248998476,
           0.007786492128872087,
           0.0066580150087456975,
           0.0055295378886193085,
           0.004401060768492919,
           0.0032725836483665292,
           0.0010156294081137506,
           0.00214410652824014,
           0,
           0,
           0.013259606161485075,
           0.02341590024262258,
           0.008971393105004796,
           0.010269141793150144,
           0
          ],
          [
           0.008802121536985837,
           0.007673644416859448,
           0.0065451672967330584,
           0.0054166901766066694,
           0.00428821305648028,
           0.0031597359363538906,
           0.0009027816961011115,
           0.002031258816227501,
           0,
           0,
           0.007222253568808892,
           0.011341195057270215,
           0.009084240817017435,
           0.00964847937708063,
           0
          ],
          [
           0.008689273824973198,
           0.007560796704846809,
           0.006432319584720419,
           0.00530384246459403,
           0.0041753653444676405,
           0.0030468882243412515,
           0.0007899339840884726,
           0.001918411104214862,
           0,
           0,
           0.007842915984878407,
           0.008971393105004796,
           0.008068611408903685,
           0.009479207809061672,
           0
          ],
          [
           0.00857642611296056,
           0.00744794899283417,
           0.006319471872707781,
           0.005190994752581391,
           0.004062517632455002,
           0.0029340405123286124,
           0.0006770862720758337,
           0.001805563392202223,
           0,
           0,
           0.00857642611296056,
           0.007617220560853129,
           0.008012187552897366,
           0.009366360097049033,
           0
          ],
          [
           0.00846357840094792,
           0.007335101280821531,
           0.006206624160695142,
           0.005078147040568752,
           0.003949669920442363,
           0.002821192800315974,
           0.0005642385600631947,
           0.0016927156801895841,
           0,
           0,
           0.009197088529030074,
           0.005980928736669864,
           0.007560796704846809,
           0.009309936241042713,
           0
          ],
          [
           0.008350730688935281,
           0.007222253568808892,
           0.006093776448682503,
           0.004965299328556113,
           0.003836822208429724,
           0.0027083450883033347,
           0.00045139084805055575,
           0.0015798679681769453,
           0,
           0,
           0.009930598657112226,
           0.0049088754725497945,
           0.007673644416859448,
           0.009535631665067991,
           0
          ],
          [
           0.008125035264910005,
           0.006996558144783615,
           0.005868081024657225,
           0.004739603904530836,
           0.003611126784404446,
           0.0024826496642780566,
           0.00022569542402527788,
           0.0013541725441516674,
           0,
           0,
           0.011454042769282852,
           0.0031597359363538906,
           0.00744794899283417,
           0.009535631665067991,
           0
          ],
          [
           0.008237882976922644,
           0.007109405856796254,
           0.005980928736669864,
           0.004852451616543475,
           0.003723974496417085,
           0.0025954973762906956,
           0.00033854313603791684,
           0.0014670202561643062,
           0,
           0,
           0.01066410878519438,
           0.0038932460644360437,
           0.007052982000789934,
           0.009479207809061672,
           0
          ],
          [
           0.008012187552897366,
           0.006883710432770976,
           0.005755233312644586,
           0.004626756192518197,
           0.0034982790723918074,
           0.002369801952265418,
           0.00011284771201263894,
           0.0012413248321390283,
           0,
           0,
           0.012469672177396604,
           0.00536026632060035,
           0.006996558144783615,
           0.009535631665067991,
           0
          ],
          [
           0.009027816961011115,
           0.007899339840884726,
           0.006770862720758337,
           0.005642385600631948,
           0.004513908480505558,
           0.0033854313603791683,
           0.0011284771201263894,
           0.002256954240252779,
           0,
           0,
           0,
           0,
           0,
           0,
           0
          ],
          [
           0.002031258816227501,
           0.0022005303842464593,
           0.0022005303842464593,
           0.002369801952265418,
           0.0027083450883033347,
           0.0027647689443096543,
           0.0032161597923602097,
           0.0029340405123286124,
           0.003611126784404446,
           0.002539073520284376,
           0,
           0,
           0,
           0,
           0
          ],
          [
           0.012187552897365006,
           0.011171923489251256,
           0.011002651921232297,
           0.010833380353213339,
           0.01066410878519438,
           0.010269141793150144,
           0.008971393105004796,
           0.00970490323308695,
           0.00852000225695424,
           0.002539073520284376,
           0,
           0,
           0,
           0,
           0
          ],
          [
           0.0029340405123286124,
           0.005473114032612989,
           0.0049088754725497945,
           0.006432319584720419,
           0.006206624160695142,
           0.006827286576764656,
           0.007222253568808892,
           0.005980928736669864,
           0.0061502003046888225,
           0.0009027816961011115,
           0,
           0,
           0,
           0,
           0
          ],
          [
           0.008068611408903685,
           0.010833380353213339,
           0.004626756192518197,
           0.008181459120916324,
           0.006263048016701462,
           0.006770862720758337,
           0.006883710432770976,
           0.0032161597923602097,
           0.0024262258082717375,
           0.004965299328556113,
           0,
           0,
           0,
           0,
           0
          ],
          [
           0.0033854313603791683,
           0.006375895728714101,
           0.00744794899283417,
           0.008125035264910005,
           0.008632849968966879,
           0.008914969248998476,
           0.009422783953055352,
           0.009197088529030074,
           0.00959205552107431,
           0.0032725836483665292,
           0,
           0,
           0,
           0,
           0
          ]
         ]
        },
        {
         "coloraxis": "coloraxis9",
         "name": "3-5",
         "type": "heatmap",
         "visible": true,
         "x": [
          "1",
          "2",
          "3",
          "4",
          "5",
          "6",
          "8",
          "7",
          "9",
          "0",
          "+",
          "-",
          "*",
          "/",
          "="
         ],
         "xaxis": "x32",
         "y": [
          "1",
          "2",
          "3",
          "4",
          "5",
          "6",
          "8",
          "7",
          "9",
          "0",
          "+",
          "-",
          "*",
          "/",
          "="
         ],
         "yaxis": "y32",
         "z": [
          [
           0.001410596400157987,
           0.005642385600631948,
           0.005247418608587711,
           0.00536026632060035,
           0.005698809456638266,
           0.005868081024657225,
           0.006263048016701462,
           0.0060373525926761835,
           0.006488743440726739,
           0.00107205326412007,
           0.0015798679681769453,
           0.005247418608587711,
           0.0003949669920442363,
           0.0036675506404107655,
           0
          ],
          [
           0.0019748349602211816,
           0.0027083450883033347,
           0.004457484624499238,
           0.005078147040568752,
           0.004570332336511877,
           0.005021723184562433,
           0.004965299328556113,
           0.004401060768492919,
           0.00428821305648028,
           0.0015798679681769453,
           0.001184900976132709,
           0.004852451616543475,
           0.0012413248321390283,
           0.004570332336511877,
           0
          ],
          [
           0.002651921232297015,
           0.0032161597923602097,
           0.0025954973762906956,
           0.004626756192518197,
           0.004796027760537155,
           0.004344636912486599,
           0.004344636912486599,
           0.004118941488461322,
           0.004118941488461322,
           0.0008463578400947921,
           0.0008463578400947921,
           0.00428821305648028,
           0.00011284771201263894,
           0.0034982790723918074,
           0
          ],
          [
           0.0027647689443096543,
           0.00423178920047396,
           0.0027083450883033347,
           0.003103312080347571,
           0.003723974496417085,
           0.004626756192518197,
           0.004344636912486599,
           0.0034982790723918074,
           0.0033290075043728488,
           0.0016927156801895841,
           0.0005642385600631947,
           0.004006093776448683,
           0.00107205326412007,
           0.004513908480505558,
           0
          ],
          [
           0.002990464368334932,
           0.002990464368334932,
           0.0027647689443096543,
           0.0025954973762906956,
           0.004683180048524516,
           0.0033290075043728488,
           0.002990464368334932,
           0.0031597359363538906,
           0.0029340405123286124,
           0.003723974496417085,
           0.00033854313603791684,
           0.0036675506404107655,
           0.0006206624160695141,
           0.0041753653444676405,
           0
          ],
          [
           0.003441855216385488,
           0.0049088754725497945,
           0.002877616656322293,
           0.0036675506404107655,
           0.0024826496642780566,
           0.002877616656322293,
           0.00423178920047396,
           0.0031597359363538906,
           0.0027083450883033347,
           0.0015798679681769453,
           0.00016927156801895842,
           0.0033854313603791683,
           0.0008463578400947921,
           0.004401060768492919,
           0
          ],
          [
           0.004006093776448683,
           0.004852451616543475,
           0.0029340405123286124,
           0.004344636912486599,
           0.002369801952265418,
           0.004006093776448683,
           0.0023133780962590984,
           0.001805563392202223,
           0.0022005303842464593,
           0.001805563392202223,
           0,
           0.0030468882243412515,
           0.000959205552107431,
           0.004570332336511877,
           0
          ],
          [
           0.004739603904530836,
           0.0036675506404107655,
           0.002990464368334932,
           0.003836822208429724,
           0.0029340405123286124,
           0.0024262258082717375,
           0.0033854313603791683,
           0.001918411104214862,
           0.002821192800315974,
           0.0009027816961011115,
           0.00005642385600631947,
           0.003103312080347571,
           0.00028211928003159736,
           0.0038932460644360437,
           0
          ],
          [
           0.004626756192518197,
           0.003836822208429724,
           0.003611126784404446,
           0.0033290075043728488,
           0.0032161597923602097,
           0.0030468882243412515,
           0.002877616656322293,
           0.0029340405123286124,
           0.001410596400157987,
           0.0010156294081137506,
           0,
           0.002821192800315974,
           0.00005642385600631947,
           0.0036675506404107655,
           0
          ],
          [
           0,
           0,
           0,
           0,
           0,
           0,
           0,
           0,
           0,
           0,
           0.002031258816227501,
           0.005811657168650905,
           0.0009027816961011115,
           0.0041753653444676405,
           0
          ],
          [
           0,
           0,
           0,
           0,
           0,
           0,
           0,
           0,
           0,
           0,
           0,
           0,
           0,
           0,
           0
          ],
          [
           0,
           0,
           0,
           0,
           0,
           0,
           0,
           0,
           0,
           0,
           0,
           0,
           0,
           0,
           0
          ],
          [
           0,
           0,
           0,
           0,
           0,
           0,
           0,
           0,
           0,
           0,
           0,
           0,
           0,
           0,
           0
          ],
          [
           0,
           0,
           0,
           0,
           0,
           0,
           0,
           0,
           0,
           0,
           0,
           0,
           0,
           0,
           0
          ],
          [
           0.0852000225695424,
           0.0739152513682785,
           0.06263048016701461,
           0.05134570896575072,
           0.040060937764486826,
           0.02877616656322293,
           0.006206624160695142,
           0.017491395361959036,
           0,
           0,
           0.08384585002539073,
           0.03441855216385488,
           0.06437961970321052,
           0.04502623709304294,
           0
          ]
         ]
        },
        {
         "coloraxis": "coloraxis",
         "name": "3-5",
         "type": "heatmap",
         "visible": false,
         "x": [
          "1",
          "2",
          "3",
          "4",
          "5",
          "6",
          "8",
          "7",
          "9",
          "0",
          "+",
          "-",
          "*",
          "/",
          "="
         ],
         "xaxis": "x32",
         "y": [
          "1",
          "2",
          "3",
          "4",
          "5",
          "6",
          "8",
          "7",
          "9",
          "0",
          "+",
          "-",
          "*",
          "/",
          "="
         ],
         "yaxis": "y32",
         "z": [
          [
           0.001410596400157987,
           0.005642385600631948,
           0.005247418608587711,
           0.00536026632060035,
           0.005698809456638266,
           0.005868081024657225,
           0.006263048016701462,
           0.0060373525926761835,
           0.006488743440726739,
           0.00107205326412007,
           0.0015798679681769453,
           0.005247418608587711,
           0.0003949669920442363,
           0.0036675506404107655,
           0
          ],
          [
           0.0019748349602211816,
           0.0027083450883033347,
           0.004457484624499238,
           0.005078147040568752,
           0.004570332336511877,
           0.005021723184562433,
           0.004965299328556113,
           0.004401060768492919,
           0.00428821305648028,
           0.0015798679681769453,
           0.001184900976132709,
           0.004852451616543475,
           0.0012413248321390283,
           0.004570332336511877,
           0
          ],
          [
           0.002651921232297015,
           0.0032161597923602097,
           0.0025954973762906956,
           0.004626756192518197,
           0.004796027760537155,
           0.004344636912486599,
           0.004344636912486599,
           0.004118941488461322,
           0.004118941488461322,
           0.0008463578400947921,
           0.0008463578400947921,
           0.00428821305648028,
           0.00011284771201263894,
           0.0034982790723918074,
           0
          ],
          [
           0.0027647689443096543,
           0.00423178920047396,
           0.0027083450883033347,
           0.003103312080347571,
           0.003723974496417085,
           0.004626756192518197,
           0.004344636912486599,
           0.0034982790723918074,
           0.0033290075043728488,
           0.0016927156801895841,
           0.0005642385600631947,
           0.004006093776448683,
           0.00107205326412007,
           0.004513908480505558,
           0
          ],
          [
           0.002990464368334932,
           0.002990464368334932,
           0.0027647689443096543,
           0.0025954973762906956,
           0.004683180048524516,
           0.0033290075043728488,
           0.002990464368334932,
           0.0031597359363538906,
           0.0029340405123286124,
           0.003723974496417085,
           0.00033854313603791684,
           0.0036675506404107655,
           0.0006206624160695141,
           0.0041753653444676405,
           0
          ],
          [
           0.003441855216385488,
           0.0049088754725497945,
           0.002877616656322293,
           0.0036675506404107655,
           0.0024826496642780566,
           0.002877616656322293,
           0.00423178920047396,
           0.0031597359363538906,
           0.0027083450883033347,
           0.0015798679681769453,
           0.00016927156801895842,
           0.0033854313603791683,
           0.0008463578400947921,
           0.004401060768492919,
           0
          ],
          [
           0.004006093776448683,
           0.004852451616543475,
           0.0029340405123286124,
           0.004344636912486599,
           0.002369801952265418,
           0.004006093776448683,
           0.0023133780962590984,
           0.001805563392202223,
           0.0022005303842464593,
           0.001805563392202223,
           0,
           0.0030468882243412515,
           0.000959205552107431,
           0.004570332336511877,
           0
          ],
          [
           0.004739603904530836,
           0.0036675506404107655,
           0.002990464368334932,
           0.003836822208429724,
           0.0029340405123286124,
           0.0024262258082717375,
           0.0033854313603791683,
           0.001918411104214862,
           0.002821192800315974,
           0.0009027816961011115,
           0.00005642385600631947,
           0.003103312080347571,
           0.00028211928003159736,
           0.0038932460644360437,
           0
          ],
          [
           0.004626756192518197,
           0.003836822208429724,
           0.003611126784404446,
           0.0033290075043728488,
           0.0032161597923602097,
           0.0030468882243412515,
           0.002877616656322293,
           0.0029340405123286124,
           0.001410596400157987,
           0.0010156294081137506,
           0,
           0.002821192800315974,
           0.00005642385600631947,
           0.0036675506404107655,
           0
          ],
          [
           0,
           0,
           0,
           0,
           0,
           0,
           0,
           0,
           0,
           0,
           0.002031258816227501,
           0.005811657168650905,
           0.0009027816961011115,
           0.0041753653444676405,
           0
          ],
          [
           0,
           0,
           0,
           0,
           0,
           0,
           0,
           0,
           0,
           0,
           0,
           0,
           0,
           0,
           0
          ],
          [
           0,
           0,
           0,
           0,
           0,
           0,
           0,
           0,
           0,
           0,
           0,
           0,
           0,
           0,
           0
          ],
          [
           0,
           0,
           0,
           0,
           0,
           0,
           0,
           0,
           0,
           0,
           0,
           0,
           0,
           0,
           0
          ],
          [
           0,
           0,
           0,
           0,
           0,
           0,
           0,
           0,
           0,
           0,
           0,
           0,
           0,
           0,
           0
          ],
          [
           0.0852000225695424,
           0.0739152513682785,
           0.06263048016701461,
           0.05134570896575072,
           0.040060937764486826,
           0.02877616656322293,
           0.006206624160695142,
           0.017491395361959036,
           0,
           0,
           0.08384585002539073,
           0.03441855216385488,
           0.06437961970321052,
           0.04502623709304294,
           0
          ]
         ]
        },
        {
         "coloraxis": "coloraxis10",
         "name": "3-6",
         "type": "heatmap",
         "visible": true,
         "x": [
          "1",
          "2",
          "3",
          "4",
          "5",
          "6",
          "8",
          "7",
          "9",
          "0",
          "+",
          "-",
          "*",
          "/",
          "="
         ],
         "xaxis": "x39",
         "y": [
          "1",
          "2",
          "3",
          "4",
          "5",
          "6",
          "8",
          "7",
          "9",
          "0",
          "+",
          "-",
          "*",
          "/",
          "="
         ],
         "yaxis": "y39",
         "z": [
          [
           0.005811657168650905,
           0.006319471872707781,
           0.0065451672967330584,
           0.006263048016701462,
           0.006375895728714101,
           0.006375895728714101,
           0.003836822208429724,
           0.006488743440726739,
           0.00107205326412007,
           0.00016927156801895842,
           0.05196637138182023,
           0.014670202561643062,
           0.018224905490041188,
           0.008350730688935281,
           0
          ],
          [
           0.009309936241042713,
           0.006263048016701462,
           0.006206624160695142,
           0.006601591152739378,
           0.0066580150087456975,
           0.006488743440726739,
           0.000959205552107431,
           0.003836822208429724,
           0.0006206624160695141,
           0.0005642385600631947,
           0.014670202561643062,
           0.005755233312644586,
           0.012582519889409243,
           0.004683180048524516,
           0
          ],
          [
           0.011397618913276533,
           0.009366360097049033,
           0.006319471872707781,
           0.006263048016701462,
           0.006319471872707781,
           0.004062517632455002,
           0.0006770862720758337,
           0.00107205326412007,
           0.0010156294081137506,
           0.00011284771201263894,
           0.005755233312644586,
           0.0041753653444676405,
           0.009309936241042713,
           0.004401060768492919,
           0
          ],
          [
           0.01179258590532077,
           0.011849009761327089,
           0.009479207809061672,
           0.006432319584720419,
           0.0037803983524234046,
           0.0006770862720758337,
           0.0011284771201263894,
           0.0007335101280821531,
           0.0009027816961011115,
           0.0005078147040568753,
           0.0041753653444676405,
           0.003103312080347571,
           0.007899339840884726,
           0.004457484624499238,
           0
          ],
          [
           0.01167973819330813,
           0.011961857473339728,
           0.012018281329346047,
           0.006883710432770976,
           0.0007899339840884726,
           0.0007899339840884726,
           0.0006206624160695141,
           0.0007335101280821531,
           0.000959205552107431,
           0.0003949669920442363,
           0.003103312080347571,
           0.0020876826722338203,
           0.005021723184562433,
           0.004739603904530836,
           0
          ],
          [
           0.01173616204931445,
           0.012074705185352367,
           0.00959205552107431,
           0.006488743440726739,
           0.0038932460644360437,
           0.0007899339840884726,
           0.000959205552107431,
           0.0007899339840884726,
           0.0006206624160695141,
           0.00045139084805055575,
           0.0020876826722338203,
           0.0013541725441516674,
           0.004006093776448683,
           0.004683180048524516,
           0
          ],
          [
           0.009197088529030074,
           0.0061502003046888225,
           0.006375895728714101,
           0.006432319584720419,
           0.006488743440726739,
           0.006770862720758337,
           0.0009027816961011115,
           0.0041753653444676405,
           0.0005642385600631947,
           0.00045139084805055575,
           0.0006770862720758337,
           0.00005642385600631947,
           0.002256954240252779,
           0.004570332336511877,
           0
          ],
          [
           0.011397618913276533,
           0.009366360097049033,
           0.006375895728714101,
           0.0065451672967330584,
           0.006601591152739378,
           0.003836822208429724,
           0.0006206624160695141,
           0.0007899339840884726,
           0.000959205552107431,
           0.00011284771201263894,
           0.0013541725441516674,
           0.0006770862720758337,
           0.0033290075043728488,
           0.004626756192518197,
           0
          ],
          [
           0.005698809456638266,
           0.006206624160695142,
           0.006206624160695142,
           0.006263048016701462,
           0.006375895728714101,
           0.006375895728714101,
           0.004062517632455002,
           0.006432319584720419,
           0.0012413248321390283,
           0.00005642385600631947,
           0.00005642385600631947,
           0.002539073520284376,
           0.0017491395361959037,
           0.004513908480505558,
           0
          ],
          [
           0.0005642385600631947,
           0.0007335101280821531,
           0.000959205552107431,
           0.0012977486881453478,
           0.001410596400157987,
           0.0015234441121706258,
           0.0018619872482085425,
           0.0016362918241832646,
           0.0016362918241832646,
           0.00045139084805055575,
           0,
           0,
           0,
           0,
           0
          ],
          [
           0,
           0,
           0,
           0,
           0,
           0,
           0,
           0,
           0,
           0,
           0,
           0,
           0,
           0,
           0
          ],
          [
           0,
           0,
           0,
           0,
           0,
           0,
           0,
           0,
           0,
           0,
           0,
           0,
           0,
           0,
           0
          ],
          [
           0,
           0,
           0,
           0,
           0,
           0,
           0,
           0,
           0,
           0,
           0,
           0,
           0,
           0,
           0
          ],
          [
           0,
           0,
           0,
           0,
           0,
           0,
           0,
           0,
           0,
           0,
           0,
           0,
           0,
           0,
           0
          ],
          [
           0.025221463634824803,
           0.02967894825932404,
           0.022738813970546747,
           0.0278169610111155,
           0.025842126050894317,
           0.02663206003498279,
           0.026293516898944873,
           0.021836032274445635,
           0.020707555154319247,
           0.010946228065225978,
           0.006770862720758337,
           0.04023020933250578,
           0.006488743440726739,
           0.041132991028606895,
           0
          ]
         ]
        },
        {
         "coloraxis": "coloraxis",
         "name": "3-6",
         "type": "heatmap",
         "visible": false,
         "x": [
          "1",
          "2",
          "3",
          "4",
          "5",
          "6",
          "8",
          "7",
          "9",
          "0",
          "+",
          "-",
          "*",
          "/",
          "="
         ],
         "xaxis": "x39",
         "y": [
          "1",
          "2",
          "3",
          "4",
          "5",
          "6",
          "8",
          "7",
          "9",
          "0",
          "+",
          "-",
          "*",
          "/",
          "="
         ],
         "yaxis": "y39",
         "z": [
          [
           0.005811657168650905,
           0.006319471872707781,
           0.0065451672967330584,
           0.006263048016701462,
           0.006375895728714101,
           0.006375895728714101,
           0.003836822208429724,
           0.006488743440726739,
           0.00107205326412007,
           0.00016927156801895842,
           0.05196637138182023,
           0.014670202561643062,
           0.018224905490041188,
           0.008350730688935281,
           0
          ],
          [
           0.009309936241042713,
           0.006263048016701462,
           0.006206624160695142,
           0.006601591152739378,
           0.0066580150087456975,
           0.006488743440726739,
           0.000959205552107431,
           0.003836822208429724,
           0.0006206624160695141,
           0.0005642385600631947,
           0.014670202561643062,
           0.005755233312644586,
           0.012582519889409243,
           0.004683180048524516,
           0
          ],
          [
           0.011397618913276533,
           0.009366360097049033,
           0.006319471872707781,
           0.006263048016701462,
           0.006319471872707781,
           0.004062517632455002,
           0.0006770862720758337,
           0.00107205326412007,
           0.0010156294081137506,
           0.00011284771201263894,
           0.005755233312644586,
           0.0041753653444676405,
           0.009309936241042713,
           0.004401060768492919,
           0
          ],
          [
           0.01179258590532077,
           0.011849009761327089,
           0.009479207809061672,
           0.006432319584720419,
           0.0037803983524234046,
           0.0006770862720758337,
           0.0011284771201263894,
           0.0007335101280821531,
           0.0009027816961011115,
           0.0005078147040568753,
           0.0041753653444676405,
           0.003103312080347571,
           0.007899339840884726,
           0.004457484624499238,
           0
          ],
          [
           0.01167973819330813,
           0.011961857473339728,
           0.012018281329346047,
           0.006883710432770976,
           0.0007899339840884726,
           0.0007899339840884726,
           0.0006206624160695141,
           0.0007335101280821531,
           0.000959205552107431,
           0.0003949669920442363,
           0.003103312080347571,
           0.0020876826722338203,
           0.005021723184562433,
           0.004739603904530836,
           0
          ],
          [
           0.01173616204931445,
           0.012074705185352367,
           0.00959205552107431,
           0.006488743440726739,
           0.0038932460644360437,
           0.0007899339840884726,
           0.000959205552107431,
           0.0007899339840884726,
           0.0006206624160695141,
           0.00045139084805055575,
           0.0020876826722338203,
           0.0013541725441516674,
           0.004006093776448683,
           0.004683180048524516,
           0
          ],
          [
           0.009197088529030074,
           0.0061502003046888225,
           0.006375895728714101,
           0.006432319584720419,
           0.006488743440726739,
           0.006770862720758337,
           0.0009027816961011115,
           0.0041753653444676405,
           0.0005642385600631947,
           0.00045139084805055575,
           0.0006770862720758337,
           0.00005642385600631947,
           0.002256954240252779,
           0.004570332336511877,
           0
          ],
          [
           0.011397618913276533,
           0.009366360097049033,
           0.006375895728714101,
           0.0065451672967330584,
           0.006601591152739378,
           0.003836822208429724,
           0.0006206624160695141,
           0.0007899339840884726,
           0.000959205552107431,
           0.00011284771201263894,
           0.0013541725441516674,
           0.0006770862720758337,
           0.0033290075043728488,
           0.004626756192518197,
           0
          ],
          [
           0.005698809456638266,
           0.006206624160695142,
           0.006206624160695142,
           0.006263048016701462,
           0.006375895728714101,
           0.006375895728714101,
           0.004062517632455002,
           0.006432319584720419,
           0.0012413248321390283,
           0.00005642385600631947,
           0.00005642385600631947,
           0.002539073520284376,
           0.0017491395361959037,
           0.004513908480505558,
           0
          ],
          [
           0.0005642385600631947,
           0.0007335101280821531,
           0.000959205552107431,
           0.0012977486881453478,
           0.001410596400157987,
           0.0015234441121706258,
           0.0018619872482085425,
           0.0016362918241832646,
           0.0016362918241832646,
           0.00045139084805055575,
           0,
           0,
           0,
           0,
           0
          ],
          [
           0,
           0,
           0,
           0,
           0,
           0,
           0,
           0,
           0,
           0,
           0,
           0,
           0,
           0,
           0
          ],
          [
           0,
           0,
           0,
           0,
           0,
           0,
           0,
           0,
           0,
           0,
           0,
           0,
           0,
           0,
           0
          ],
          [
           0,
           0,
           0,
           0,
           0,
           0,
           0,
           0,
           0,
           0,
           0,
           0,
           0,
           0,
           0
          ],
          [
           0,
           0,
           0,
           0,
           0,
           0,
           0,
           0,
           0,
           0,
           0,
           0,
           0,
           0,
           0
          ],
          [
           0.025221463634824803,
           0.02967894825932404,
           0.022738813970546747,
           0.0278169610111155,
           0.025842126050894317,
           0.02663206003498279,
           0.026293516898944873,
           0.021836032274445635,
           0.020707555154319247,
           0.010946228065225978,
           0.006770862720758337,
           0.04023020933250578,
           0.006488743440726739,
           0.041132991028606895,
           0
          ]
         ]
        },
        {
         "coloraxis": "coloraxis11",
         "name": "3-7",
         "type": "heatmap",
         "visible": true,
         "x": [
          "1",
          "2",
          "3",
          "4",
          "5",
          "6",
          "8",
          "7",
          "9",
          "0",
          "+",
          "-",
          "*",
          "/",
          "="
         ],
         "xaxis": "x46",
         "y": [
          "1",
          "2",
          "3",
          "4",
          "5",
          "6",
          "8",
          "7",
          "9",
          "0",
          "+",
          "-",
          "*",
          "/",
          "="
         ],
         "yaxis": "y46",
         "z": [
          [
           0.009479207809061672,
           0.009987022513118546,
           0.009027816961011115,
           0.007955763696891046,
           0.006770862720758337,
           0.005755233312644586,
           0.0034982790723918074,
           0.004796027760537155,
           0.0032725836483665292,
           0.001410596400157987,
           0.010833380353213339,
           0.009874174801105907,
           0.0054166901766066694,
           0.007730068272865768,
           0
          ],
          [
           0.010551261073181741,
           0.01077695649720702,
           0.009027816961011115,
           0.009535631665067991,
           0.006601591152739378,
           0.0072786774248152115,
           0.00536026632060035,
           0.004965299328556113,
           0.0031597359363538906,
           0.001184900976132709,
           0.00976132708909327,
           0.008745697680979518,
           0.008914969248998476,
           0.009535631665067991,
           0
          ],
          [
           0.011002651921232297,
           0.009987022513118546,
           0.00846357840094792,
           0.007842915984878407,
           0.006488743440726739,
           0.005247418608587711,
           0.0032725836483665292,
           0.004965299328556113,
           0.0030468882243412515,
           0.00107205326412007,
           0.00964847937708063,
           0.008125035264910005,
           0.005190994752581391,
           0.008632849968966879,
           0
          ],
          [
           0.011341195057270215,
           0.01173616204931445,
           0.009309936241042713,
           0.008858545392992157,
           0.006375895728714101,
           0.007391525136827851,
           0.005190994752581391,
           0.004739603904530836,
           0.0031597359363538906,
           0.0011284771201263894,
           0.008745697680979518,
           0.007222253568808892,
           0.009027816961011115,
           0.009535631665067991,
           0
          ],
          [
           0.01179258590532077,
           0.010325565649156463,
           0.009366360097049033,
           0.007560796704846809,
           0.010551261073181741,
           0.005473114032612989,
           0.0031597359363538906,
           0.004965299328556113,
           0.003103312080347571,
           0.001184900976132709,
           0.00852000225695424,
           0.006714438864752017,
           0.0065451672967330584,
           0.008914969248998476,
           0
          ],
          [
           0.012131129041358686,
           0.012300400609377645,
           0.009422783953055352,
           0.00976132708909327,
           0.006714438864752017,
           0.006770862720758337,
           0.005247418608587711,
           0.005247418608587711,
           0.0031597359363538906,
           0.0010156294081137506,
           0.008068611408903685,
           0.0061502003046888225,
           0.008689273824973198,
           0.009366360097049033,
           0
          ],
          [
           0.012638943745415562,
           0.012808215313434521,
           0.010043446369124865,
           0.010381989505162783,
           0.007052982000789934,
           0.008181459120916324,
           0.0049088754725497945,
           0.005078147040568752,
           0.0033290075043728488,
           0.00107205326412007,
           0.007560796704846809,
           0.005585961744625628,
           0.007955763696891046,
           0.009535631665067991,
           0
          ],
          [
           0.012469672177396604,
           0.01060768492918806,
           0.009817750945099589,
           0.008237882976922644,
           0.006714438864752017,
           0.005698809456638266,
           0.0033854313603791683,
           0.004401060768492919,
           0.0032161597923602097,
           0.000959205552107431,
           0.008181459120916324,
           0.005980928736669864,
           0.005021723184562433,
           0.008802121536985837,
           0
          ],
          [
           0.013090334593466117,
           0.011284771201263895,
           0.010325565649156463,
           0.008802121536985837,
           0.007391525136827851,
           0.006319471872707781,
           0.0038932460644360437,
           0.0055295378886193085,
           0.002821192800315974,
           0.000959205552107431,
           0.007786492128872087,
           0.005585961744625628,
           0.004513908480505558,
           0.008632849968966879,
           0
          ],
          [
           0.009309936241042713,
           0.010156294081137504,
           0.008012187552897366,
           0.008350730688935281,
           0.009874174801105907,
           0.006206624160695142,
           0.004006093776448683,
           0.003836822208429724,
           0.002031258816227501,
           0.00423178920047396,
           0.011510466625289172,
           0.01066410878519438,
           0.00959205552107431,
           0.005473114032612989,
           0
          ],
          [
           0,
           0,
           0,
           0,
           0,
           0,
           0,
           0,
           0,
           0,
           0,
           0,
           0,
           0,
           0
          ],
          [
           0,
           0,
           0,
           0,
           0,
           0,
           0,
           0,
           0,
           0,
           0,
           0,
           0,
           0,
           0
          ],
          [
           0,
           0,
           0,
           0,
           0,
           0,
           0,
           0,
           0,
           0,
           0,
           0,
           0,
           0,
           0
          ],
          [
           0,
           0,
           0,
           0,
           0,
           0,
           0,
           0,
           0,
           0,
           0,
           0,
           0,
           0,
           0
          ],
          [
           0,
           0,
           0,
           0,
           0,
           0,
           0,
           0,
           0,
           0,
           0,
           0,
           0,
           0,
           0
          ]
         ]
        },
        {
         "coloraxis": "coloraxis",
         "name": "3-7",
         "type": "heatmap",
         "visible": false,
         "x": [
          "1",
          "2",
          "3",
          "4",
          "5",
          "6",
          "8",
          "7",
          "9",
          "0",
          "+",
          "-",
          "*",
          "/",
          "="
         ],
         "xaxis": "x46",
         "y": [
          "1",
          "2",
          "3",
          "4",
          "5",
          "6",
          "8",
          "7",
          "9",
          "0",
          "+",
          "-",
          "*",
          "/",
          "="
         ],
         "yaxis": "y46",
         "z": [
          [
           0.009479207809061672,
           0.009987022513118546,
           0.009027816961011115,
           0.007955763696891046,
           0.006770862720758337,
           0.005755233312644586,
           0.0034982790723918074,
           0.004796027760537155,
           0.0032725836483665292,
           0.001410596400157987,
           0.010833380353213339,
           0.009874174801105907,
           0.0054166901766066694,
           0.007730068272865768,
           0
          ],
          [
           0.010551261073181741,
           0.01077695649720702,
           0.009027816961011115,
           0.009535631665067991,
           0.006601591152739378,
           0.0072786774248152115,
           0.00536026632060035,
           0.004965299328556113,
           0.0031597359363538906,
           0.001184900976132709,
           0.00976132708909327,
           0.008745697680979518,
           0.008914969248998476,
           0.009535631665067991,
           0
          ],
          [
           0.011002651921232297,
           0.009987022513118546,
           0.00846357840094792,
           0.007842915984878407,
           0.006488743440726739,
           0.005247418608587711,
           0.0032725836483665292,
           0.004965299328556113,
           0.0030468882243412515,
           0.00107205326412007,
           0.00964847937708063,
           0.008125035264910005,
           0.005190994752581391,
           0.008632849968966879,
           0
          ],
          [
           0.011341195057270215,
           0.01173616204931445,
           0.009309936241042713,
           0.008858545392992157,
           0.006375895728714101,
           0.007391525136827851,
           0.005190994752581391,
           0.004739603904530836,
           0.0031597359363538906,
           0.0011284771201263894,
           0.008745697680979518,
           0.007222253568808892,
           0.009027816961011115,
           0.009535631665067991,
           0
          ],
          [
           0.01179258590532077,
           0.010325565649156463,
           0.009366360097049033,
           0.007560796704846809,
           0.010551261073181741,
           0.005473114032612989,
           0.0031597359363538906,
           0.004965299328556113,
           0.003103312080347571,
           0.001184900976132709,
           0.00852000225695424,
           0.006714438864752017,
           0.0065451672967330584,
           0.008914969248998476,
           0
          ],
          [
           0.012131129041358686,
           0.012300400609377645,
           0.009422783953055352,
           0.00976132708909327,
           0.006714438864752017,
           0.006770862720758337,
           0.005247418608587711,
           0.005247418608587711,
           0.0031597359363538906,
           0.0010156294081137506,
           0.008068611408903685,
           0.0061502003046888225,
           0.008689273824973198,
           0.009366360097049033,
           0
          ],
          [
           0.012638943745415562,
           0.012808215313434521,
           0.010043446369124865,
           0.010381989505162783,
           0.007052982000789934,
           0.008181459120916324,
           0.0049088754725497945,
           0.005078147040568752,
           0.0033290075043728488,
           0.00107205326412007,
           0.007560796704846809,
           0.005585961744625628,
           0.007955763696891046,
           0.009535631665067991,
           0
          ],
          [
           0.012469672177396604,
           0.01060768492918806,
           0.009817750945099589,
           0.008237882976922644,
           0.006714438864752017,
           0.005698809456638266,
           0.0033854313603791683,
           0.004401060768492919,
           0.0032161597923602097,
           0.000959205552107431,
           0.008181459120916324,
           0.005980928736669864,
           0.005021723184562433,
           0.008802121536985837,
           0
          ],
          [
           0.013090334593466117,
           0.011284771201263895,
           0.010325565649156463,
           0.008802121536985837,
           0.007391525136827851,
           0.006319471872707781,
           0.0038932460644360437,
           0.0055295378886193085,
           0.002821192800315974,
           0.000959205552107431,
           0.007786492128872087,
           0.005585961744625628,
           0.004513908480505558,
           0.008632849968966879,
           0
          ],
          [
           0.009309936241042713,
           0.010156294081137504,
           0.008012187552897366,
           0.008350730688935281,
           0.009874174801105907,
           0.006206624160695142,
           0.004006093776448683,
           0.003836822208429724,
           0.002031258816227501,
           0.00423178920047396,
           0.011510466625289172,
           0.01066410878519438,
           0.00959205552107431,
           0.005473114032612989,
           0
          ],
          [
           0,
           0,
           0,
           0,
           0,
           0,
           0,
           0,
           0,
           0,
           0,
           0,
           0,
           0,
           0
          ],
          [
           0,
           0,
           0,
           0,
           0,
           0,
           0,
           0,
           0,
           0,
           0,
           0,
           0,
           0,
           0
          ],
          [
           0,
           0,
           0,
           0,
           0,
           0,
           0,
           0,
           0,
           0,
           0,
           0,
           0,
           0,
           0
          ],
          [
           0,
           0,
           0,
           0,
           0,
           0,
           0,
           0,
           0,
           0,
           0,
           0,
           0,
           0,
           0
          ],
          [
           0,
           0,
           0,
           0,
           0,
           0,
           0,
           0,
           0,
           0,
           0,
           0,
           0,
           0,
           0
          ]
         ]
        },
        {
         "coloraxis": "coloraxis10",
         "name": "4-5",
         "type": "heatmap",
         "visible": true,
         "x": [
          "1",
          "2",
          "3",
          "4",
          "5",
          "6",
          "8",
          "7",
          "9",
          "0",
          "+",
          "-",
          "*",
          "/",
          "="
         ],
         "xaxis": "x33",
         "y": [
          "1",
          "2",
          "3",
          "4",
          "5",
          "6",
          "8",
          "7",
          "9",
          "0",
          "+",
          "-",
          "*",
          "/",
          "="
         ],
         "yaxis": "y33",
         "z": [
          [
           0.004570332336511877,
           0.0016927156801895841,
           0.0008463578400947921,
           0.0007899339840884726,
           0.0006770862720758337,
           0.0006206624160695141,
           0.0006206624160695141,
           0.0005642385600631947,
           0.0005078147040568753,
           0,
           0.0049088754725497945,
           0.006940134288777295,
           0.005811657168650905,
           0.005811657168650905,
           0.025616430626869042
          ],
          [
           0.005585961744625628,
           0.0009027816961011115,
           0.001184900976132709,
           0.0010156294081137506,
           0.0006770862720758337,
           0.0006206624160695141,
           0.00045139084805055575,
           0.0008463578400947921,
           0.0005642385600631947,
           0,
           0.004118941488461322,
           0.008125035264910005,
           0.005811657168650905,
           0.006093776448682503,
           0.01489589798566834
          ],
          [
           0.002990464368334932,
           0.0010156294081137506,
           0.0008463578400947921,
           0.0006770862720758337,
           0.0006770862720758337,
           0.000959205552107431,
           0.00045139084805055575,
           0.0005078147040568753,
           0.0006206624160695141,
           0,
           0.003441855216385488,
           0.009027816961011115,
           0.005811657168650905,
           0.006093776448682503,
           0.011284771201263895
          ],
          [
           0.0032725836483665292,
           0.001918411104214862,
           0.0009027816961011115,
           0.0006770862720758337,
           0.0010156294081137506,
           0.0007335101280821531,
           0.00045139084805055575,
           0.0005078147040568753,
           0.0006770862720758337,
           0,
           0.002877616656322293,
           0.009874174801105907,
           0.005868081024657225,
           0.006940134288777295,
           0.00846357840094792
          ],
          [
           0.0027083450883033347,
           0.000959205552107431,
           0.0011284771201263894,
           0.0010156294081137506,
           0.0007335101280821531,
           0.0005642385600631947,
           0.00045139084805055575,
           0.0005078147040568753,
           0.0007335101280821531,
           0,
           0.0024262258082717375,
           0.0107205326412007,
           0.005585961744625628,
           0.00744794899283417,
           0.005980928736669864
          ],
          [
           0.0024826496642780566,
           0.0009027816961011115,
           0.0014670202561643062,
           0.0006770862720758337,
           0.000959205552107431,
           0.0005642385600631947,
           0.00045139084805055575,
           0.0005078147040568753,
           0.0007899339840884726,
           0,
           0.00214410652824014,
           0.011510466625289172,
           0.006093776448682503,
           0.007899339840884726,
           0.00428821305648028
          ],
          [
           0.002369801952265418,
           0.001410596400157987,
           0.0007335101280821531,
           0.0010156294081137506,
           0.0006206624160695141,
           0.0005642385600631947,
           0.00045139084805055575,
           0.0005078147040568753,
           0.0009027816961011115,
           0,
           0.0020876826722338203,
           0.013203182305478756,
           0.006263048016701462,
           0.007842915984878407,
           0.0012413248321390283
          ],
          [
           0.001184900976132709,
           0.0016362918241832646,
           0.0007335101280821531,
           0.0007899339840884726,
           0.0006206624160695141,
           0.0005642385600631947,
           0.00045139084805055575,
           0.0005078147040568753,
           0.0008463578400947921,
           0,
           0.002031258816227501,
           0.012356824465383965,
           0.005698809456638266,
           0.006940134288777295,
           0.0025954973762906956
          ],
          [
           0.000959205552107431,
           0.0008463578400947921,
           0.0008463578400947921,
           0.0007899339840884726,
           0.0006206624160695141,
           0.0005642385600631947,
           0.00045139084805055575,
           0.0005078147040568753,
           0.000959205552107431,
           0,
           0.002539073520284376,
           0.014105964001579869,
           0.006093776448682503,
           0.007165829712802573,
           0
          ],
          [
           0.006432319584720419,
           0.0014670202561643062,
           0.00107205326412007,
           0.0011284771201263894,
           0.0006770862720758337,
           0.0006206624160695141,
           0.0005078147040568753,
           0.0005642385600631947,
           0.00045139084805055575,
           0,
           0,
           0,
           0,
           0,
           0
          ],
          [
           0,
           0,
           0,
           0,
           0,
           0,
           0,
           0,
           0,
           0,
           0,
           0,
           0,
           0,
           0
          ],
          [
           0,
           0,
           0,
           0,
           0,
           0,
           0,
           0,
           0,
           0,
           0,
           0,
           0,
           0,
           0
          ],
          [
           0,
           0,
           0,
           0,
           0,
           0,
           0,
           0,
           0,
           0,
           0,
           0,
           0,
           0,
           0
          ],
          [
           0,
           0,
           0,
           0,
           0,
           0,
           0,
           0,
           0,
           0,
           0,
           0,
           0,
           0,
           0
          ],
          [
           0.06308187101506517,
           0.06336399029509676,
           0.06251763245500197,
           0.0620098177509451,
           0.06088134063081871,
           0.06088134063081871,
           0.060260678214749196,
           0.05986571122270496,
           0.05980928736669864,
           0.04062517632455002,
           0,
           0,
           0,
           0,
           0
          ]
         ]
        },
        {
         "coloraxis": "coloraxis",
         "name": "4-5",
         "type": "heatmap",
         "visible": false,
         "x": [
          "1",
          "2",
          "3",
          "4",
          "5",
          "6",
          "8",
          "7",
          "9",
          "0",
          "+",
          "-",
          "*",
          "/",
          "="
         ],
         "xaxis": "x33",
         "y": [
          "1",
          "2",
          "3",
          "4",
          "5",
          "6",
          "8",
          "7",
          "9",
          "0",
          "+",
          "-",
          "*",
          "/",
          "="
         ],
         "yaxis": "y33",
         "z": [
          [
           0.004570332336511877,
           0.0016927156801895841,
           0.0008463578400947921,
           0.0007899339840884726,
           0.0006770862720758337,
           0.0006206624160695141,
           0.0006206624160695141,
           0.0005642385600631947,
           0.0005078147040568753,
           0,
           0.0049088754725497945,
           0.006940134288777295,
           0.005811657168650905,
           0.005811657168650905,
           0.025616430626869042
          ],
          [
           0.005585961744625628,
           0.0009027816961011115,
           0.001184900976132709,
           0.0010156294081137506,
           0.0006770862720758337,
           0.0006206624160695141,
           0.00045139084805055575,
           0.0008463578400947921,
           0.0005642385600631947,
           0,
           0.004118941488461322,
           0.008125035264910005,
           0.005811657168650905,
           0.006093776448682503,
           0.01489589798566834
          ],
          [
           0.002990464368334932,
           0.0010156294081137506,
           0.0008463578400947921,
           0.0006770862720758337,
           0.0006770862720758337,
           0.000959205552107431,
           0.00045139084805055575,
           0.0005078147040568753,
           0.0006206624160695141,
           0,
           0.003441855216385488,
           0.009027816961011115,
           0.005811657168650905,
           0.006093776448682503,
           0.011284771201263895
          ],
          [
           0.0032725836483665292,
           0.001918411104214862,
           0.0009027816961011115,
           0.0006770862720758337,
           0.0010156294081137506,
           0.0007335101280821531,
           0.00045139084805055575,
           0.0005078147040568753,
           0.0006770862720758337,
           0,
           0.002877616656322293,
           0.009874174801105907,
           0.005868081024657225,
           0.006940134288777295,
           0.00846357840094792
          ],
          [
           0.0027083450883033347,
           0.000959205552107431,
           0.0011284771201263894,
           0.0010156294081137506,
           0.0007335101280821531,
           0.0005642385600631947,
           0.00045139084805055575,
           0.0005078147040568753,
           0.0007335101280821531,
           0,
           0.0024262258082717375,
           0.0107205326412007,
           0.005585961744625628,
           0.00744794899283417,
           0.005980928736669864
          ],
          [
           0.0024826496642780566,
           0.0009027816961011115,
           0.0014670202561643062,
           0.0006770862720758337,
           0.000959205552107431,
           0.0005642385600631947,
           0.00045139084805055575,
           0.0005078147040568753,
           0.0007899339840884726,
           0,
           0.00214410652824014,
           0.011510466625289172,
           0.006093776448682503,
           0.007899339840884726,
           0.00428821305648028
          ],
          [
           0.002369801952265418,
           0.001410596400157987,
           0.0007335101280821531,
           0.0010156294081137506,
           0.0006206624160695141,
           0.0005642385600631947,
           0.00045139084805055575,
           0.0005078147040568753,
           0.0009027816961011115,
           0,
           0.0020876826722338203,
           0.013203182305478756,
           0.006263048016701462,
           0.007842915984878407,
           0.0012413248321390283
          ],
          [
           0.001184900976132709,
           0.0016362918241832646,
           0.0007335101280821531,
           0.0007899339840884726,
           0.0006206624160695141,
           0.0005642385600631947,
           0.00045139084805055575,
           0.0005078147040568753,
           0.0008463578400947921,
           0,
           0.002031258816227501,
           0.012356824465383965,
           0.005698809456638266,
           0.006940134288777295,
           0.0025954973762906956
          ],
          [
           0.000959205552107431,
           0.0008463578400947921,
           0.0008463578400947921,
           0.0007899339840884726,
           0.0006206624160695141,
           0.0005642385600631947,
           0.00045139084805055575,
           0.0005078147040568753,
           0.000959205552107431,
           0,
           0.002539073520284376,
           0.014105964001579869,
           0.006093776448682503,
           0.007165829712802573,
           0
          ],
          [
           0.006432319584720419,
           0.0014670202561643062,
           0.00107205326412007,
           0.0011284771201263894,
           0.0006770862720758337,
           0.0006206624160695141,
           0.0005078147040568753,
           0.0005642385600631947,
           0.00045139084805055575,
           0,
           0,
           0,
           0,
           0,
           0
          ],
          [
           0,
           0,
           0,
           0,
           0,
           0,
           0,
           0,
           0,
           0,
           0,
           0,
           0,
           0,
           0
          ],
          [
           0,
           0,
           0,
           0,
           0,
           0,
           0,
           0,
           0,
           0,
           0,
           0,
           0,
           0,
           0
          ],
          [
           0,
           0,
           0,
           0,
           0,
           0,
           0,
           0,
           0,
           0,
           0,
           0,
           0,
           0,
           0
          ],
          [
           0,
           0,
           0,
           0,
           0,
           0,
           0,
           0,
           0,
           0,
           0,
           0,
           0,
           0,
           0
          ],
          [
           0.06308187101506517,
           0.06336399029509676,
           0.06251763245500197,
           0.0620098177509451,
           0.06088134063081871,
           0.06088134063081871,
           0.060260678214749196,
           0.05986571122270496,
           0.05980928736669864,
           0.04062517632455002,
           0,
           0,
           0,
           0,
           0
          ]
         ]
        },
        {
         "coloraxis": "coloraxis11",
         "name": "4-6",
         "type": "heatmap",
         "visible": true,
         "x": [
          "1",
          "2",
          "3",
          "4",
          "5",
          "6",
          "8",
          "7",
          "9",
          "0",
          "+",
          "-",
          "*",
          "/",
          "="
         ],
         "xaxis": "x40",
         "y": [
          "1",
          "2",
          "3",
          "4",
          "5",
          "6",
          "8",
          "7",
          "9",
          "0",
          "+",
          "-",
          "*",
          "/",
          "="
         ],
         "yaxis": "y40",
         "z": [
          [
           0.018619872482085426,
           0.016757885233876883,
           0.01500874569768098,
           0.014162387857586188,
           0.013259606161485075,
           0.013541725441516673,
           0.013428877729504034,
           0.012921063025447158,
           0.013598149297522993,
           0.004513908480505558,
           0,
           0,
           0,
           0,
           0.0066580150087456975
          ],
          [
           0.007335101280821531,
           0.007955763696891046,
           0.00846357840094792,
           0.008237882976922644,
           0.008012187552897366,
           0.007899339840884726,
           0.00846357840094792,
           0.008350730688935281,
           0.00852000225695424,
           0.004513908480505558,
           0,
           0,
           0,
           0,
           0.00744794899283417
          ],
          [
           0.006432319584720419,
           0.006093776448682503,
           0.006770862720758337,
           0.00744794899283417,
           0.006996558144783615,
           0.006996558144783615,
           0.006093776448682503,
           0.006263048016701462,
           0.006093776448682503,
           0.004513908480505558,
           0,
           0,
           0,
           0,
           0.0065451672967330584
          ],
          [
           0.006263048016701462,
           0.005473114032612989,
           0.005755233312644586,
           0.006206624160695142,
           0.006940134288777295,
           0.006432319584720419,
           0.006206624160695142,
           0.006319471872707781,
           0.005585961744625628,
           0.004513908480505558,
           0,
           0,
           0,
           0,
           0.007222253568808892
          ],
          [
           0.00536026632060035,
           0.005755233312644586,
           0.005585961744625628,
           0.00536026632060035,
           0.005585961744625628,
           0.0060373525926761835,
           0.0055295378886193085,
           0.005811657168650905,
           0.005473114032612989,
           0.004513908480505558,
           0,
           0,
           0,
           0,
           0.006770862720758337
          ],
          [
           0.005078147040568752,
           0.0054166901766066694,
           0.0054166901766066694,
           0.00536026632060035,
           0.005134570896575072,
           0.005190994752581391,
           0.0054166901766066694,
           0.0055295378886193085,
           0.005134570896575072,
           0.004513908480505558,
           0,
           0,
           0,
           0,
           0.007335101280821531
          ],
          [
           0.004626756192518197,
           0.005134570896575072,
           0.005021723184562433,
           0.0049088754725497945,
           0.004739603904530836,
           0.004570332336511877,
           0.004570332336511877,
           0.004570332336511877,
           0.004965299328556113,
           0.004513908480505558,
           0,
           0,
           0,
           0,
           0.00744794899283417
          ],
          [
           0.004852451616543475,
           0.0054166901766066694,
           0.005190994752581391,
           0.005021723184562433,
           0.0049088754725497945,
           0.004852451616543475,
           0.005247418608587711,
           0.0049088754725497945,
           0.005134570896575072,
           0.004513908480505558,
           0,
           0,
           0,
           0,
           0.0065451672967330584
          ],
          [
           0.004513908480505558,
           0.00536026632060035,
           0.00530384246459403,
           0.00530384246459403,
           0.00530384246459403,
           0.00536026632060035,
           0.00530384246459403,
           0.005190994752581391,
           0.00530384246459403,
           0.004513908480505558,
           0,
           0,
           0,
           0,
           0.006319471872707781
          ],
          [
           0,
           0,
           0,
           0,
           0,
           0,
           0,
           0,
           0,
           0,
           0,
           0,
           0,
           0,
           0.012074705185352367
          ],
          [
           0,
           0,
           0,
           0,
           0,
           0,
           0,
           0,
           0,
           0,
           0,
           0,
           0,
           0,
           0
          ],
          [
           0,
           0,
           0,
           0,
           0,
           0,
           0,
           0,
           0,
           0,
           0,
           0,
           0,
           0,
           0
          ],
          [
           0,
           0,
           0,
           0,
           0,
           0,
           0,
           0,
           0,
           0,
           0,
           0,
           0,
           0,
           0
          ],
          [
           0,
           0,
           0,
           0,
           0,
           0,
           0,
           0,
           0,
           0,
           0,
           0,
           0,
           0,
           0
          ],
          [
           0.03255656491564633,
           0.012751791457428201,
           0.00976132708909327,
           0.00857642611296056,
           0.0072786774248152115,
           0.006375895728714101,
           0.004739603904530836,
           0.0055295378886193085,
           0.007052982000789934,
           0,
           0.026575636178976472,
           0.09586413135473679,
           0.0530384246459403,
           0.06223551317497038,
           0
          ]
         ]
        },
        {
         "coloraxis": "coloraxis",
         "name": "4-6",
         "type": "heatmap",
         "visible": false,
         "x": [
          "1",
          "2",
          "3",
          "4",
          "5",
          "6",
          "8",
          "7",
          "9",
          "0",
          "+",
          "-",
          "*",
          "/",
          "="
         ],
         "xaxis": "x40",
         "y": [
          "1",
          "2",
          "3",
          "4",
          "5",
          "6",
          "8",
          "7",
          "9",
          "0",
          "+",
          "-",
          "*",
          "/",
          "="
         ],
         "yaxis": "y40",
         "z": [
          [
           0.018619872482085426,
           0.016757885233876883,
           0.01500874569768098,
           0.014162387857586188,
           0.013259606161485075,
           0.013541725441516673,
           0.013428877729504034,
           0.012921063025447158,
           0.013598149297522993,
           0.004513908480505558,
           0,
           0,
           0,
           0,
           0.0066580150087456975
          ],
          [
           0.007335101280821531,
           0.007955763696891046,
           0.00846357840094792,
           0.008237882976922644,
           0.008012187552897366,
           0.007899339840884726,
           0.00846357840094792,
           0.008350730688935281,
           0.00852000225695424,
           0.004513908480505558,
           0,
           0,
           0,
           0,
           0.00744794899283417
          ],
          [
           0.006432319584720419,
           0.006093776448682503,
           0.006770862720758337,
           0.00744794899283417,
           0.006996558144783615,
           0.006996558144783615,
           0.006093776448682503,
           0.006263048016701462,
           0.006093776448682503,
           0.004513908480505558,
           0,
           0,
           0,
           0,
           0.0065451672967330584
          ],
          [
           0.006263048016701462,
           0.005473114032612989,
           0.005755233312644586,
           0.006206624160695142,
           0.006940134288777295,
           0.006432319584720419,
           0.006206624160695142,
           0.006319471872707781,
           0.005585961744625628,
           0.004513908480505558,
           0,
           0,
           0,
           0,
           0.007222253568808892
          ],
          [
           0.00536026632060035,
           0.005755233312644586,
           0.005585961744625628,
           0.00536026632060035,
           0.005585961744625628,
           0.0060373525926761835,
           0.0055295378886193085,
           0.005811657168650905,
           0.005473114032612989,
           0.004513908480505558,
           0,
           0,
           0,
           0,
           0.006770862720758337
          ],
          [
           0.005078147040568752,
           0.0054166901766066694,
           0.0054166901766066694,
           0.00536026632060035,
           0.005134570896575072,
           0.005190994752581391,
           0.0054166901766066694,
           0.0055295378886193085,
           0.005134570896575072,
           0.004513908480505558,
           0,
           0,
           0,
           0,
           0.007335101280821531
          ],
          [
           0.004626756192518197,
           0.005134570896575072,
           0.005021723184562433,
           0.0049088754725497945,
           0.004739603904530836,
           0.004570332336511877,
           0.004570332336511877,
           0.004570332336511877,
           0.004965299328556113,
           0.004513908480505558,
           0,
           0,
           0,
           0,
           0.00744794899283417
          ],
          [
           0.004852451616543475,
           0.0054166901766066694,
           0.005190994752581391,
           0.005021723184562433,
           0.0049088754725497945,
           0.004852451616543475,
           0.005247418608587711,
           0.0049088754725497945,
           0.005134570896575072,
           0.004513908480505558,
           0,
           0,
           0,
           0,
           0.0065451672967330584
          ],
          [
           0.004513908480505558,
           0.00536026632060035,
           0.00530384246459403,
           0.00530384246459403,
           0.00530384246459403,
           0.00536026632060035,
           0.00530384246459403,
           0.005190994752581391,
           0.00530384246459403,
           0.004513908480505558,
           0,
           0,
           0,
           0,
           0.006319471872707781
          ],
          [
           0,
           0,
           0,
           0,
           0,
           0,
           0,
           0,
           0,
           0,
           0,
           0,
           0,
           0,
           0.012074705185352367
          ],
          [
           0,
           0,
           0,
           0,
           0,
           0,
           0,
           0,
           0,
           0,
           0,
           0,
           0,
           0,
           0
          ],
          [
           0,
           0,
           0,
           0,
           0,
           0,
           0,
           0,
           0,
           0,
           0,
           0,
           0,
           0,
           0
          ],
          [
           0,
           0,
           0,
           0,
           0,
           0,
           0,
           0,
           0,
           0,
           0,
           0,
           0,
           0,
           0
          ],
          [
           0,
           0,
           0,
           0,
           0,
           0,
           0,
           0,
           0,
           0,
           0,
           0,
           0,
           0,
           0
          ],
          [
           0.03255656491564633,
           0.012751791457428201,
           0.00976132708909327,
           0.00857642611296056,
           0.0072786774248152115,
           0.006375895728714101,
           0.004739603904530836,
           0.0055295378886193085,
           0.007052982000789934,
           0,
           0.026575636178976472,
           0.09586413135473679,
           0.0530384246459403,
           0.06223551317497038,
           0
          ]
         ]
        },
        {
         "coloraxis": "coloraxis12",
         "name": "4-7",
         "type": "heatmap",
         "visible": true,
         "x": [
          "1",
          "2",
          "3",
          "4",
          "5",
          "6",
          "8",
          "7",
          "9",
          "0",
          "+",
          "-",
          "*",
          "/",
          "="
         ],
         "xaxis": "x47",
         "y": [
          "1",
          "2",
          "3",
          "4",
          "5",
          "6",
          "8",
          "7",
          "9",
          "0",
          "+",
          "-",
          "*",
          "/",
          "="
         ],
         "yaxis": "y47",
         "z": [
          [
           0.011171923489251256,
           0.007335101280821531,
           0.007955763696891046,
           0.006940134288777295,
           0.006996558144783615,
           0.006432319584720419,
           0.005924504880663544,
           0.007052982000789934,
           0.0065451672967330584,
           0.004062517632455002,
           0.002031258816227501,
           0.006883710432770976,
           0.006714438864752017,
           0.0061502003046888225,
           0.003611126784404446
          ],
          [
           0.010889804209219658,
           0.008802121536985837,
           0.0072786774248152115,
           0.007560796704846809,
           0.006432319584720419,
           0.007899339840884726,
           0.007165829712802573,
           0.006827286576764656,
           0.006601591152739378,
           0.004062517632455002,
           0.0016362918241832646,
           0.007730068272865768,
           0.0055295378886193085,
           0.006601591152739378,
           0.010381989505162783
          ],
          [
           0.009874174801105907,
           0.0072786774248152115,
           0.007391525136827851,
           0.006319471872707781,
           0.007109405856796254,
           0.006319471872707781,
           0.006206624160695142,
           0.0066580150087456975,
           0.006940134288777295,
           0.004062517632455002,
           0.0016362918241832646,
           0.00852000225695424,
           0.005190994752581391,
           0.006093776448682503,
           0.0033854313603791683
          ],
          [
           0.00970490323308695,
           0.0084071545449416,
           0.007730068272865768,
           0.007899339840884726,
           0.006263048016701462,
           0.007052982000789934,
           0.006996558144783615,
           0.006319471872707781,
           0.0066580150087456975,
           0.004062517632455002,
           0.001805563392202223,
           0.009253512385036394,
           0.005247418608587711,
           0.006319471872707781,
           0.010043446369124865
          ],
          [
           0.009197088529030074,
           0.006770862720758337,
           0.007955763696891046,
           0.006714438864752017,
           0.00744794899283417,
           0.005811657168650905,
           0.005755233312644586,
           0.0065451672967330584,
           0.006996558144783615,
           0.004062517632455002,
           0.00214410652824014,
           0.009987022513118546,
           0.0049088754725497945,
           0.006093776448682503,
           0.007786492128872087
          ],
          [
           0.009140664673023755,
           0.008237882976922644,
           0.006996558144783615,
           0.007617220560853129,
           0.006263048016701462,
           0.006996558144783615,
           0.007109405856796254,
           0.005924504880663544,
           0.006488743440726739,
           0.004062517632455002,
           0.002651921232297015,
           0.0107205326412007,
           0.0055295378886193085,
           0.006714438864752017,
           0.00959205552107431
          ],
          [
           0.008802121536985837,
           0.00750437284884049,
           0.006827286576764656,
           0.007222253568808892,
           0.005924504880663544,
           0.007165829712802573,
           0.006770862720758337,
           0.0065451672967330584,
           0.006375895728714101,
           0.004062517632455002,
           0.004006093776448683,
           0.012300400609377645,
           0.005811657168650905,
           0.007335101280821531,
           0.009479207809061672
          ],
          [
           0.008237882976922644,
           0.007052982000789934,
           0.006770862720758337,
           0.006263048016701462,
           0.0066580150087456975,
           0.0061502003046888225,
           0.005811657168650905,
           0.006601591152739378,
           0.006940134288777295,
           0.004062517632455002,
           0.0032725836483665292,
           0.011510466625289172,
           0.005190994752581391,
           0.0060373525926761835,
           0.0029340405123286124
          ],
          [
           0.008237882976922644,
           0.005980928736669864,
           0.006488743440726739,
           0.0061502003046888225,
           0.0065451672967330584,
           0.006093776448682503,
           0.005980928736669864,
           0.0066580150087456975,
           0.006883710432770976,
           0.004062517632455002,
           0.004852451616543475,
           0.013146758449472436,
           0.005642385600631948,
           0.007617220560853129,
           0.0025954973762906956
          ],
          [
           0.010381989505162783,
           0.008745697680979518,
           0.006883710432770976,
           0.007899339840884726,
           0.00852000225695424,
           0.007335101280821531,
           0.0072786774248152115,
           0.006263048016701462,
           0.006432319584720419,
           0.004062517632455002,
           0.002539073520284376,
           0.005811657168650905,
           0.0032725836483665292,
           0.0032725836483665292,
           0.014557354849630423
          ],
          [
           0,
           0,
           0,
           0,
           0,
           0,
           0,
           0,
           0,
           0,
           0,
           0,
           0,
           0,
           0
          ],
          [
           0,
           0,
           0,
           0,
           0,
           0,
           0,
           0,
           0,
           0,
           0,
           0,
           0,
           0,
           0
          ],
          [
           0,
           0,
           0,
           0,
           0,
           0,
           0,
           0,
           0,
           0,
           0,
           0,
           0,
           0,
           0
          ],
          [
           0,
           0,
           0,
           0,
           0,
           0,
           0,
           0,
           0,
           0,
           0,
           0,
           0,
           0,
           0
          ],
          [
           0,
           0,
           0,
           0,
           0,
           0,
           0,
           0,
           0,
           0,
           0,
           0,
           0,
           0,
           0
          ]
         ]
        },
        {
         "coloraxis": "coloraxis",
         "name": "4-7",
         "type": "heatmap",
         "visible": false,
         "x": [
          "1",
          "2",
          "3",
          "4",
          "5",
          "6",
          "8",
          "7",
          "9",
          "0",
          "+",
          "-",
          "*",
          "/",
          "="
         ],
         "xaxis": "x47",
         "y": [
          "1",
          "2",
          "3",
          "4",
          "5",
          "6",
          "8",
          "7",
          "9",
          "0",
          "+",
          "-",
          "*",
          "/",
          "="
         ],
         "yaxis": "y47",
         "z": [
          [
           0.011171923489251256,
           0.007335101280821531,
           0.007955763696891046,
           0.006940134288777295,
           0.006996558144783615,
           0.006432319584720419,
           0.005924504880663544,
           0.007052982000789934,
           0.0065451672967330584,
           0.004062517632455002,
           0.002031258816227501,
           0.006883710432770976,
           0.006714438864752017,
           0.0061502003046888225,
           0.003611126784404446
          ],
          [
           0.010889804209219658,
           0.008802121536985837,
           0.0072786774248152115,
           0.007560796704846809,
           0.006432319584720419,
           0.007899339840884726,
           0.007165829712802573,
           0.006827286576764656,
           0.006601591152739378,
           0.004062517632455002,
           0.0016362918241832646,
           0.007730068272865768,
           0.0055295378886193085,
           0.006601591152739378,
           0.010381989505162783
          ],
          [
           0.009874174801105907,
           0.0072786774248152115,
           0.007391525136827851,
           0.006319471872707781,
           0.007109405856796254,
           0.006319471872707781,
           0.006206624160695142,
           0.0066580150087456975,
           0.006940134288777295,
           0.004062517632455002,
           0.0016362918241832646,
           0.00852000225695424,
           0.005190994752581391,
           0.006093776448682503,
           0.0033854313603791683
          ],
          [
           0.00970490323308695,
           0.0084071545449416,
           0.007730068272865768,
           0.007899339840884726,
           0.006263048016701462,
           0.007052982000789934,
           0.006996558144783615,
           0.006319471872707781,
           0.0066580150087456975,
           0.004062517632455002,
           0.001805563392202223,
           0.009253512385036394,
           0.005247418608587711,
           0.006319471872707781,
           0.010043446369124865
          ],
          [
           0.009197088529030074,
           0.006770862720758337,
           0.007955763696891046,
           0.006714438864752017,
           0.00744794899283417,
           0.005811657168650905,
           0.005755233312644586,
           0.0065451672967330584,
           0.006996558144783615,
           0.004062517632455002,
           0.00214410652824014,
           0.009987022513118546,
           0.0049088754725497945,
           0.006093776448682503,
           0.007786492128872087
          ],
          [
           0.009140664673023755,
           0.008237882976922644,
           0.006996558144783615,
           0.007617220560853129,
           0.006263048016701462,
           0.006996558144783615,
           0.007109405856796254,
           0.005924504880663544,
           0.006488743440726739,
           0.004062517632455002,
           0.002651921232297015,
           0.0107205326412007,
           0.0055295378886193085,
           0.006714438864752017,
           0.00959205552107431
          ],
          [
           0.008802121536985837,
           0.00750437284884049,
           0.006827286576764656,
           0.007222253568808892,
           0.005924504880663544,
           0.007165829712802573,
           0.006770862720758337,
           0.0065451672967330584,
           0.006375895728714101,
           0.004062517632455002,
           0.004006093776448683,
           0.012300400609377645,
           0.005811657168650905,
           0.007335101280821531,
           0.009479207809061672
          ],
          [
           0.008237882976922644,
           0.007052982000789934,
           0.006770862720758337,
           0.006263048016701462,
           0.0066580150087456975,
           0.0061502003046888225,
           0.005811657168650905,
           0.006601591152739378,
           0.006940134288777295,
           0.004062517632455002,
           0.0032725836483665292,
           0.011510466625289172,
           0.005190994752581391,
           0.0060373525926761835,
           0.0029340405123286124
          ],
          [
           0.008237882976922644,
           0.005980928736669864,
           0.006488743440726739,
           0.0061502003046888225,
           0.0065451672967330584,
           0.006093776448682503,
           0.005980928736669864,
           0.0066580150087456975,
           0.006883710432770976,
           0.004062517632455002,
           0.004852451616543475,
           0.013146758449472436,
           0.005642385600631948,
           0.007617220560853129,
           0.0025954973762906956
          ],
          [
           0.010381989505162783,
           0.008745697680979518,
           0.006883710432770976,
           0.007899339840884726,
           0.00852000225695424,
           0.007335101280821531,
           0.0072786774248152115,
           0.006263048016701462,
           0.006432319584720419,
           0.004062517632455002,
           0.002539073520284376,
           0.005811657168650905,
           0.0032725836483665292,
           0.0032725836483665292,
           0.014557354849630423
          ],
          [
           0,
           0,
           0,
           0,
           0,
           0,
           0,
           0,
           0,
           0,
           0,
           0,
           0,
           0,
           0
          ],
          [
           0,
           0,
           0,
           0,
           0,
           0,
           0,
           0,
           0,
           0,
           0,
           0,
           0,
           0,
           0
          ],
          [
           0,
           0,
           0,
           0,
           0,
           0,
           0,
           0,
           0,
           0,
           0,
           0,
           0,
           0,
           0
          ],
          [
           0,
           0,
           0,
           0,
           0,
           0,
           0,
           0,
           0,
           0,
           0,
           0,
           0,
           0,
           0
          ],
          [
           0,
           0,
           0,
           0,
           0,
           0,
           0,
           0,
           0,
           0,
           0,
           0,
           0,
           0,
           0
          ]
         ]
        },
        {
         "coloraxis": "coloraxis12",
         "name": "5-6",
         "type": "heatmap",
         "visible": true,
         "x": [
          "1",
          "2",
          "3",
          "4",
          "5",
          "6",
          "8",
          "7",
          "9",
          "0",
          "+",
          "-",
          "*",
          "/",
          "="
         ],
         "xaxis": "x41",
         "y": [
          "1",
          "2",
          "3",
          "4",
          "5",
          "6",
          "8",
          "7",
          "9",
          "0",
          "+",
          "-",
          "*",
          "/",
          "="
         ],
         "yaxis": "y41",
         "z": [
          [
           0.001918411104214862,
           0.0015798679681769453,
           0.0010156294081137506,
           0.0006770862720758337,
           0.0006770862720758337,
           0.00033854313603791684,
           0.00022569542402527788,
           0.00022569542402527788,
           0,
           0,
           0,
           0,
           0,
           0,
           0.13581222140721097
          ],
          [
           0.002256954240252779,
           0.0014670202561643062,
           0.0012413248321390283,
           0.0009027816961011115,
           0.0006770862720758337,
           0.00033854313603791684,
           0.00011284771201263894,
           0.00045139084805055575,
           0,
           0,
           0,
           0,
           0,
           0,
           0.07775207357670823
          ],
          [
           0.001918411104214862,
           0.0013541725441516674,
           0.0010156294081137506,
           0.0007899339840884726,
           0.0005642385600631947,
           0.0005642385600631947,
           0.00011284771201263894,
           0.00022569542402527788,
           0,
           0,
           0,
           0,
           0,
           0,
           0.06370253343113469
          ],
          [
           0.002031258816227501,
           0.0016927156801895841,
           0.0011284771201263894,
           0.0009027816961011115,
           0.0006770862720758337,
           0.00045139084805055575,
           0.00011284771201263894,
           0.00022569542402527788,
           0,
           0,
           0,
           0,
           0,
           0,
           0.059696439654686004
          ],
          [
           0.002031258816227501,
           0.0014670202561643062,
           0.0010156294081137506,
           0.0009027816961011115,
           0.0005642385600631947,
           0.00045139084805055575,
           0.00011284771201263894,
           0.00022569542402527788,
           0,
           0,
           0,
           0,
           0,
           0,
           0.055013259606161484
          ],
          [
           0.002256954240252779,
           0.0013541725441516674,
           0.0013541725441516674,
           0.0009027816961011115,
           0.0006770862720758337,
           0.00033854313603791684,
           0.00011284771201263894,
           0.00033854313603791684,
           0,
           0,
           0,
           0,
           0,
           0,
           0.05219206680584551
          ],
          [
           0.002369801952265418,
           0.0016927156801895841,
           0.0010156294081137506,
           0.0009027816961011115,
           0.0006770862720758337,
           0.00045139084805055575,
           0.00011284771201263894,
           0.00022569542402527788,
           0,
           0,
           0,
           0,
           0,
           0,
           0.04762173446933363
          ],
          [
           0.001805563392202223,
           0.0015798679681769453,
           0.0011284771201263894,
           0.0006770862720758337,
           0.0005642385600631947,
           0.00045139084805055575,
           0.00011284771201263894,
           0.00022569542402527788,
           0,
           0,
           0,
           0,
           0,
           0,
           0.05004796027760537
          ],
          [
           0.001918411104214862,
           0.0012413248321390283,
           0.0011284771201263894,
           0.0009027816961011115,
           0.00045139084805055575,
           0.00033854313603791684,
           0.00011284771201263894,
           0.00022569542402527788,
           0,
           0,
           0,
           0,
           0,
           0,
           0.051458556677763355
          ],
          [
           0.007109405856796254,
           0.0014670202561643062,
           0.0012413248321390283,
           0.0009027816961011115,
           0.00045139084805055575,
           0.0005642385600631947,
           0.00011284771201263894,
           0.00022569542402527788,
           0,
           0,
           0,
           0,
           0,
           0,
           0
          ],
          [
           0,
           0,
           0,
           0,
           0,
           0,
           0,
           0,
           0,
           0,
           0,
           0,
           0,
           0,
           0
          ],
          [
           0,
           0,
           0,
           0,
           0,
           0,
           0,
           0,
           0,
           0,
           0,
           0,
           0,
           0,
           0
          ],
          [
           0,
           0,
           0,
           0,
           0,
           0,
           0,
           0,
           0,
           0,
           0,
           0,
           0,
           0,
           0
          ],
          [
           0,
           0,
           0,
           0,
           0,
           0,
           0,
           0,
           0,
           0,
           0,
           0,
           0,
           0,
           0
          ],
          [
           0.03436212830784856,
           0.035998420132031826,
           0.03312080347570953,
           0.03571630085200023,
           0.03498279072391807,
           0.036449810980082376,
           0.037973255092253,
           0.03436212830784856,
           0.036449810980082376,
           0.012921063025447158,
           0,
           0,
           0,
           0,
           0
          ]
         ]
        },
        {
         "coloraxis": "coloraxis",
         "name": "5-6",
         "type": "heatmap",
         "visible": false,
         "x": [
          "1",
          "2",
          "3",
          "4",
          "5",
          "6",
          "8",
          "7",
          "9",
          "0",
          "+",
          "-",
          "*",
          "/",
          "="
         ],
         "xaxis": "x41",
         "y": [
          "1",
          "2",
          "3",
          "4",
          "5",
          "6",
          "8",
          "7",
          "9",
          "0",
          "+",
          "-",
          "*",
          "/",
          "="
         ],
         "yaxis": "y41",
         "z": [
          [
           0.001918411104214862,
           0.0015798679681769453,
           0.0010156294081137506,
           0.0006770862720758337,
           0.0006770862720758337,
           0.00033854313603791684,
           0.00022569542402527788,
           0.00022569542402527788,
           0,
           0,
           0,
           0,
           0,
           0,
           0.13581222140721097
          ],
          [
           0.002256954240252779,
           0.0014670202561643062,
           0.0012413248321390283,
           0.0009027816961011115,
           0.0006770862720758337,
           0.00033854313603791684,
           0.00011284771201263894,
           0.00045139084805055575,
           0,
           0,
           0,
           0,
           0,
           0,
           0.07775207357670823
          ],
          [
           0.001918411104214862,
           0.0013541725441516674,
           0.0010156294081137506,
           0.0007899339840884726,
           0.0005642385600631947,
           0.0005642385600631947,
           0.00011284771201263894,
           0.00022569542402527788,
           0,
           0,
           0,
           0,
           0,
           0,
           0.06370253343113469
          ],
          [
           0.002031258816227501,
           0.0016927156801895841,
           0.0011284771201263894,
           0.0009027816961011115,
           0.0006770862720758337,
           0.00045139084805055575,
           0.00011284771201263894,
           0.00022569542402527788,
           0,
           0,
           0,
           0,
           0,
           0,
           0.059696439654686004
          ],
          [
           0.002031258816227501,
           0.0014670202561643062,
           0.0010156294081137506,
           0.0009027816961011115,
           0.0005642385600631947,
           0.00045139084805055575,
           0.00011284771201263894,
           0.00022569542402527788,
           0,
           0,
           0,
           0,
           0,
           0,
           0.055013259606161484
          ],
          [
           0.002256954240252779,
           0.0013541725441516674,
           0.0013541725441516674,
           0.0009027816961011115,
           0.0006770862720758337,
           0.00033854313603791684,
           0.00011284771201263894,
           0.00033854313603791684,
           0,
           0,
           0,
           0,
           0,
           0,
           0.05219206680584551
          ],
          [
           0.002369801952265418,
           0.0016927156801895841,
           0.0010156294081137506,
           0.0009027816961011115,
           0.0006770862720758337,
           0.00045139084805055575,
           0.00011284771201263894,
           0.00022569542402527788,
           0,
           0,
           0,
           0,
           0,
           0,
           0.04762173446933363
          ],
          [
           0.001805563392202223,
           0.0015798679681769453,
           0.0011284771201263894,
           0.0006770862720758337,
           0.0005642385600631947,
           0.00045139084805055575,
           0.00011284771201263894,
           0.00022569542402527788,
           0,
           0,
           0,
           0,
           0,
           0,
           0.05004796027760537
          ],
          [
           0.001918411104214862,
           0.0012413248321390283,
           0.0011284771201263894,
           0.0009027816961011115,
           0.00045139084805055575,
           0.00033854313603791684,
           0.00011284771201263894,
           0.00022569542402527788,
           0,
           0,
           0,
           0,
           0,
           0,
           0.051458556677763355
          ],
          [
           0.007109405856796254,
           0.0014670202561643062,
           0.0012413248321390283,
           0.0009027816961011115,
           0.00045139084805055575,
           0.0005642385600631947,
           0.00011284771201263894,
           0.00022569542402527788,
           0,
           0,
           0,
           0,
           0,
           0,
           0
          ],
          [
           0,
           0,
           0,
           0,
           0,
           0,
           0,
           0,
           0,
           0,
           0,
           0,
           0,
           0,
           0
          ],
          [
           0,
           0,
           0,
           0,
           0,
           0,
           0,
           0,
           0,
           0,
           0,
           0,
           0,
           0,
           0
          ],
          [
           0,
           0,
           0,
           0,
           0,
           0,
           0,
           0,
           0,
           0,
           0,
           0,
           0,
           0,
           0
          ],
          [
           0,
           0,
           0,
           0,
           0,
           0,
           0,
           0,
           0,
           0,
           0,
           0,
           0,
           0,
           0
          ],
          [
           0.03436212830784856,
           0.035998420132031826,
           0.03312080347570953,
           0.03571630085200023,
           0.03498279072391807,
           0.036449810980082376,
           0.037973255092253,
           0.03436212830784856,
           0.036449810980082376,
           0.012921063025447158,
           0,
           0,
           0,
           0,
           0
          ]
         ]
        },
        {
         "coloraxis": "coloraxis13",
         "name": "5-7",
         "type": "heatmap",
         "visible": true,
         "x": [
          "1",
          "2",
          "3",
          "4",
          "5",
          "6",
          "8",
          "7",
          "9",
          "0",
          "+",
          "-",
          "*",
          "/",
          "="
         ],
         "xaxis": "x48",
         "y": [
          "1",
          "2",
          "3",
          "4",
          "5",
          "6",
          "8",
          "7",
          "9",
          "0",
          "+",
          "-",
          "*",
          "/",
          "="
         ],
         "yaxis": "y48",
         "z": [
          [
           0.003103312080347571,
           0.0033290075043728488,
           0.0033290075043728488,
           0.0037803983524234046,
           0.004118941488461322,
           0.0037803983524234046,
           0.003836822208429724,
           0.003723974496417085,
           0.003836822208429724,
           0.00107205326412007,
           0,
           0,
           0,
           0,
           0.061896970038932464
          ],
          [
           0.006263048016701462,
           0.004626756192518197,
           0.004401060768492919,
           0.004457484624499238,
           0.004118941488461322,
           0.004457484624499238,
           0.00428821305648028,
           0.003723974496417085,
           0.003554702928398127,
           0.0015798679681769453,
           0,
           0,
           0,
           0,
           0.06392822885515996
          ],
          [
           0.004626756192518197,
           0.0036675506404107655,
           0.002990464368334932,
           0.003441855216385488,
           0.0036675506404107655,
           0.003611126784404446,
           0.003836822208429724,
           0.0036675506404107655,
           0.0038932460644360437,
           0.0010156294081137506,
           0,
           0,
           0,
           0,
           0.05856796253455961
          ],
          [
           0.007109405856796254,
           0.005811657168650905,
           0.0041753653444676405,
           0.003949669920442363,
           0.004062517632455002,
           0.004118941488461322,
           0.00423178920047396,
           0.003836822208429724,
           0.003611126784404446,
           0.0015798679681769453,
           0,
           0,
           0,
           0,
           0.061276307622862944
          ],
          [
           0.006488743440726739,
           0.005021723184562433,
           0.0049088754725497945,
           0.0041753653444676405,
           0.0037803983524234046,
           0.003554702928398127,
           0.003554702928398127,
           0.003441855216385488,
           0.0037803983524234046,
           0.0017491395361959037,
           0,
           0,
           0,
           0,
           0.05772160469446482
          ],
          [
           0.007391525136827851,
           0.006319471872707781,
           0.0049088754725497945,
           0.0049088754725497945,
           0.0041753653444676405,
           0.00423178920047396,
           0.004344636912486599,
           0.0037803983524234046,
           0.003836822208429724,
           0.0014670202561643062,
           0,
           0,
           0,
           0,
           0.05868081024657225
          ],
          [
           0.007730068272865768,
           0.006883710432770976,
           0.005811657168650905,
           0.005811657168650905,
           0.004852451616543475,
           0.005247418608587711,
           0.004006093776448683,
           0.004006093776448683,
           0.0038932460644360437,
           0.0015234441121706258,
           0,
           0,
           0,
           0,
           0.05636743215031315
          ],
          [
           0.005585961744625628,
           0.004739603904530836,
           0.00423178920047396,
           0.00428821305648028,
           0.004006093776448683,
           0.0036675506404107655,
           0.0038932460644360437,
           0.003611126784404446,
           0.0037803983524234046,
           0.0010156294081137506,
           0,
           0,
           0,
           0,
           0.05467471647012357
          ],
          [
           0.005980928736669864,
           0.0054166901766066694,
           0.005247418608587711,
           0.004796027760537155,
           0.004852451616543475,
           0.004852451616543475,
           0.004344636912486599,
           0.004457484624499238,
           0.003836822208429724,
           0.000959205552107431,
           0,
           0,
           0,
           0,
           0.05219206680584551
          ],
          [
           0.005698809456638266,
           0.005078147040568752,
           0.004401060768492919,
           0.004570332336511877,
           0.0033290075043728488,
           0.0032161597923602097,
           0.002877616656322293,
           0.0027083450883033347,
           0.0024262258082717375,
           0.000959205552107431,
           0,
           0,
           0,
           0,
           0.06799074648761497
          ],
          [
           0,
           0,
           0,
           0,
           0,
           0,
           0,
           0,
           0,
           0,
           0,
           0,
           0,
           0,
           0
          ],
          [
           0,
           0,
           0,
           0,
           0,
           0,
           0,
           0,
           0,
           0,
           0,
           0,
           0,
           0,
           0
          ],
          [
           0,
           0,
           0,
           0,
           0,
           0,
           0,
           0,
           0,
           0,
           0,
           0,
           0,
           0,
           0
          ],
          [
           0,
           0,
           0,
           0,
           0,
           0,
           0,
           0,
           0,
           0,
           0,
           0,
           0,
           0,
           0
          ],
          [
           0,
           0,
           0,
           0,
           0,
           0,
           0,
           0,
           0,
           0,
           0,
           0,
           0,
           0,
           0
          ]
         ]
        },
        {
         "coloraxis": "coloraxis",
         "name": "5-7",
         "type": "heatmap",
         "visible": false,
         "x": [
          "1",
          "2",
          "3",
          "4",
          "5",
          "6",
          "8",
          "7",
          "9",
          "0",
          "+",
          "-",
          "*",
          "/",
          "="
         ],
         "xaxis": "x48",
         "y": [
          "1",
          "2",
          "3",
          "4",
          "5",
          "6",
          "8",
          "7",
          "9",
          "0",
          "+",
          "-",
          "*",
          "/",
          "="
         ],
         "yaxis": "y48",
         "z": [
          [
           0.003103312080347571,
           0.0033290075043728488,
           0.0033290075043728488,
           0.0037803983524234046,
           0.004118941488461322,
           0.0037803983524234046,
           0.003836822208429724,
           0.003723974496417085,
           0.003836822208429724,
           0.00107205326412007,
           0,
           0,
           0,
           0,
           0.061896970038932464
          ],
          [
           0.006263048016701462,
           0.004626756192518197,
           0.004401060768492919,
           0.004457484624499238,
           0.004118941488461322,
           0.004457484624499238,
           0.00428821305648028,
           0.003723974496417085,
           0.003554702928398127,
           0.0015798679681769453,
           0,
           0,
           0,
           0,
           0.06392822885515996
          ],
          [
           0.004626756192518197,
           0.0036675506404107655,
           0.002990464368334932,
           0.003441855216385488,
           0.0036675506404107655,
           0.003611126784404446,
           0.003836822208429724,
           0.0036675506404107655,
           0.0038932460644360437,
           0.0010156294081137506,
           0,
           0,
           0,
           0,
           0.05856796253455961
          ],
          [
           0.007109405856796254,
           0.005811657168650905,
           0.0041753653444676405,
           0.003949669920442363,
           0.004062517632455002,
           0.004118941488461322,
           0.00423178920047396,
           0.003836822208429724,
           0.003611126784404446,
           0.0015798679681769453,
           0,
           0,
           0,
           0,
           0.061276307622862944
          ],
          [
           0.006488743440726739,
           0.005021723184562433,
           0.0049088754725497945,
           0.0041753653444676405,
           0.0037803983524234046,
           0.003554702928398127,
           0.003554702928398127,
           0.003441855216385488,
           0.0037803983524234046,
           0.0017491395361959037,
           0,
           0,
           0,
           0,
           0.05772160469446482
          ],
          [
           0.007391525136827851,
           0.006319471872707781,
           0.0049088754725497945,
           0.0049088754725497945,
           0.0041753653444676405,
           0.00423178920047396,
           0.004344636912486599,
           0.0037803983524234046,
           0.003836822208429724,
           0.0014670202561643062,
           0,
           0,
           0,
           0,
           0.05868081024657225
          ],
          [
           0.007730068272865768,
           0.006883710432770976,
           0.005811657168650905,
           0.005811657168650905,
           0.004852451616543475,
           0.005247418608587711,
           0.004006093776448683,
           0.004006093776448683,
           0.0038932460644360437,
           0.0015234441121706258,
           0,
           0,
           0,
           0,
           0.05636743215031315
          ],
          [
           0.005585961744625628,
           0.004739603904530836,
           0.00423178920047396,
           0.00428821305648028,
           0.004006093776448683,
           0.0036675506404107655,
           0.0038932460644360437,
           0.003611126784404446,
           0.0037803983524234046,
           0.0010156294081137506,
           0,
           0,
           0,
           0,
           0.05467471647012357
          ],
          [
           0.005980928736669864,
           0.0054166901766066694,
           0.005247418608587711,
           0.004796027760537155,
           0.004852451616543475,
           0.004852451616543475,
           0.004344636912486599,
           0.004457484624499238,
           0.003836822208429724,
           0.000959205552107431,
           0,
           0,
           0,
           0,
           0.05219206680584551
          ],
          [
           0.005698809456638266,
           0.005078147040568752,
           0.004401060768492919,
           0.004570332336511877,
           0.0033290075043728488,
           0.0032161597923602097,
           0.002877616656322293,
           0.0027083450883033347,
           0.0024262258082717375,
           0.000959205552107431,
           0,
           0,
           0,
           0,
           0.06799074648761497
          ],
          [
           0,
           0,
           0,
           0,
           0,
           0,
           0,
           0,
           0,
           0,
           0,
           0,
           0,
           0,
           0
          ],
          [
           0,
           0,
           0,
           0,
           0,
           0,
           0,
           0,
           0,
           0,
           0,
           0,
           0,
           0,
           0
          ],
          [
           0,
           0,
           0,
           0,
           0,
           0,
           0,
           0,
           0,
           0,
           0,
           0,
           0,
           0,
           0
          ],
          [
           0,
           0,
           0,
           0,
           0,
           0,
           0,
           0,
           0,
           0,
           0,
           0,
           0,
           0,
           0
          ],
          [
           0,
           0,
           0,
           0,
           0,
           0,
           0,
           0,
           0,
           0,
           0,
           0,
           0,
           0,
           0
          ]
         ]
        },
        {
         "coloraxis": "coloraxis14",
         "name": "6-7",
         "type": "heatmap",
         "visible": true,
         "x": [
          "1",
          "2",
          "3",
          "4",
          "5",
          "6",
          "8",
          "7",
          "9",
          "0",
          "+",
          "-",
          "*",
          "/",
          "="
         ],
         "xaxis": "x49",
         "y": [
          "1",
          "2",
          "3",
          "4",
          "5",
          "6",
          "8",
          "7",
          "9",
          "0",
          "+",
          "-",
          "*",
          "/",
          "="
         ],
         "yaxis": "y49",
         "z": [
          [
           0.01574225582576313,
           0.009535631665067991,
           0.006432319584720419,
           0.0061502003046888225,
           0.005698809456638266,
           0.0054166901766066694,
           0.005247418608587711,
           0.005247418608587711,
           0.004796027760537155,
           0.0012413248321390283,
           0,
           0,
           0,
           0,
           0.030299610675393555
          ],
          [
           0.017999210066015913,
           0.00846357840094792,
           0.008350730688935281,
           0.006714438864752017,
           0.006714438864752017,
           0.005755233312644586,
           0.005247418608587711,
           0.00744794899283417,
           0.0061502003046888225,
           0.0014670202561643062,
           0,
           0,
           0,
           0,
           0.031089544659482028
          ],
          [
           0.014049540145573549,
           0.007899339840884726,
           0.0065451672967330584,
           0.0060373525926761835,
           0.005585961744625628,
           0.005811657168650905,
           0.0049088754725497945,
           0.005190994752581391,
           0.005021723184562433,
           0.0009027816961011115,
           0,
           0,
           0,
           0,
           0.03103312080347571
          ],
          [
           0.014388083281611464,
           0.010043446369124865,
           0.006601591152739378,
           0.007165829712802573,
           0.0066580150087456975,
           0.007052982000789934,
           0.006375895728714101,
           0.0054166901766066694,
           0.005585961744625628,
           0.002031258816227501,
           0,
           0,
           0,
           0,
           0.0324437172036337
          ],
          [
           0.01388026857755459,
           0.007899339840884726,
           0.006940134288777295,
           0.006770862720758337,
           0.006093776448682503,
           0.005924504880663544,
           0.00536026632060035,
           0.005585961744625628,
           0.005811657168650905,
           0.0012413248321390283,
           0,
           0,
           0,
           0,
           0.032669412627658975
          ],
          [
           0.014218811713592508,
           0.007222253568808892,
           0.008745697680979518,
           0.0060373525926761835,
           0.007335101280821531,
           0.00536026632060035,
           0.005247418608587711,
           0.006206624160695142,
           0.007109405856796254,
           0.0007899339840884726,
           0,
           0,
           0,
           0,
           0.03577272470800655
          ],
          [
           0.012187552897365006,
           0.0084071545449416,
           0.006432319584720419,
           0.007899339840884726,
           0.005868081024657225,
           0.006375895728714101,
           0.005924504880663544,
           0.005190994752581391,
           0.006093776448682503,
           0.0014670202561643062,
           0,
           0,
           0,
           0,
           0.040286633188512104
          ],
          [
           0.011228347345257576,
           0.007560796704846809,
           0.006319471872707781,
           0.005811657168650905,
           0.005642385600631948,
           0.005247418608587711,
           0.004796027760537155,
           0.004965299328556113,
           0.005585961744625628,
           0.00045139084805055575,
           0,
           0,
           0,
           0,
           0.035885572420019184
          ],
          [
           0.00976132708909327,
           0.0066580150087456975,
           0.006093776448682503,
           0.0060373525926761835,
           0.0054166901766066694,
           0.005134570896575072,
           0.0049088754725497945,
           0.005078147040568752,
           0.005585961744625628,
           0.00011284771201263894,
           0,
           0,
           0,
           0,
           0.042148620436720644
          ],
          [
           0.01901483947412966,
           0.011510466625289172,
           0.007786492128872087,
           0.008294306832928963,
           0.006770862720758337,
           0.00744794899283417,
           0.007052982000789934,
           0.006263048016701462,
           0.0060373525926761835,
           0.002369801952265418,
           0,
           0,
           0,
           0,
           0.020707555154319247
          ],
          [
           0,
           0,
           0,
           0,
           0,
           0,
           0,
           0,
           0,
           0,
           0,
           0,
           0,
           0,
           0
          ],
          [
           0,
           0,
           0,
           0,
           0,
           0,
           0,
           0,
           0,
           0,
           0,
           0,
           0,
           0,
           0
          ],
          [
           0,
           0,
           0,
           0,
           0,
           0,
           0,
           0,
           0,
           0,
           0,
           0,
           0,
           0,
           0
          ],
          [
           0,
           0,
           0,
           0,
           0,
           0,
           0,
           0,
           0,
           0,
           0,
           0,
           0,
           0,
           0
          ],
          [
           0,
           0,
           0,
           0,
           0,
           0,
           0,
           0,
           0,
           0,
           0,
           0,
           0,
           0,
           0
          ]
         ]
        },
        {
         "coloraxis": "coloraxis",
         "name": "6-7",
         "type": "heatmap",
         "visible": false,
         "x": [
          "1",
          "2",
          "3",
          "4",
          "5",
          "6",
          "8",
          "7",
          "9",
          "0",
          "+",
          "-",
          "*",
          "/",
          "="
         ],
         "xaxis": "x49",
         "y": [
          "1",
          "2",
          "3",
          "4",
          "5",
          "6",
          "8",
          "7",
          "9",
          "0",
          "+",
          "-",
          "*",
          "/",
          "="
         ],
         "yaxis": "y49",
         "z": [
          [
           0.01574225582576313,
           0.009535631665067991,
           0.006432319584720419,
           0.0061502003046888225,
           0.005698809456638266,
           0.0054166901766066694,
           0.005247418608587711,
           0.005247418608587711,
           0.004796027760537155,
           0.0012413248321390283,
           0,
           0,
           0,
           0,
           0.030299610675393555
          ],
          [
           0.017999210066015913,
           0.00846357840094792,
           0.008350730688935281,
           0.006714438864752017,
           0.006714438864752017,
           0.005755233312644586,
           0.005247418608587711,
           0.00744794899283417,
           0.0061502003046888225,
           0.0014670202561643062,
           0,
           0,
           0,
           0,
           0.031089544659482028
          ],
          [
           0.014049540145573549,
           0.007899339840884726,
           0.0065451672967330584,
           0.0060373525926761835,
           0.005585961744625628,
           0.005811657168650905,
           0.0049088754725497945,
           0.005190994752581391,
           0.005021723184562433,
           0.0009027816961011115,
           0,
           0,
           0,
           0,
           0.03103312080347571
          ],
          [
           0.014388083281611464,
           0.010043446369124865,
           0.006601591152739378,
           0.007165829712802573,
           0.0066580150087456975,
           0.007052982000789934,
           0.006375895728714101,
           0.0054166901766066694,
           0.005585961744625628,
           0.002031258816227501,
           0,
           0,
           0,
           0,
           0.0324437172036337
          ],
          [
           0.01388026857755459,
           0.007899339840884726,
           0.006940134288777295,
           0.006770862720758337,
           0.006093776448682503,
           0.005924504880663544,
           0.00536026632060035,
           0.005585961744625628,
           0.005811657168650905,
           0.0012413248321390283,
           0,
           0,
           0,
           0,
           0.032669412627658975
          ],
          [
           0.014218811713592508,
           0.007222253568808892,
           0.008745697680979518,
           0.0060373525926761835,
           0.007335101280821531,
           0.00536026632060035,
           0.005247418608587711,
           0.006206624160695142,
           0.007109405856796254,
           0.0007899339840884726,
           0,
           0,
           0,
           0,
           0.03577272470800655
          ],
          [
           0.012187552897365006,
           0.0084071545449416,
           0.006432319584720419,
           0.007899339840884726,
           0.005868081024657225,
           0.006375895728714101,
           0.005924504880663544,
           0.005190994752581391,
           0.006093776448682503,
           0.0014670202561643062,
           0,
           0,
           0,
           0,
           0.040286633188512104
          ],
          [
           0.011228347345257576,
           0.007560796704846809,
           0.006319471872707781,
           0.005811657168650905,
           0.005642385600631948,
           0.005247418608587711,
           0.004796027760537155,
           0.004965299328556113,
           0.005585961744625628,
           0.00045139084805055575,
           0,
           0,
           0,
           0,
           0.035885572420019184
          ],
          [
           0.00976132708909327,
           0.0066580150087456975,
           0.006093776448682503,
           0.0060373525926761835,
           0.0054166901766066694,
           0.005134570896575072,
           0.0049088754725497945,
           0.005078147040568752,
           0.005585961744625628,
           0.00011284771201263894,
           0,
           0,
           0,
           0,
           0.042148620436720644
          ],
          [
           0.01901483947412966,
           0.011510466625289172,
           0.007786492128872087,
           0.008294306832928963,
           0.006770862720758337,
           0.00744794899283417,
           0.007052982000789934,
           0.006263048016701462,
           0.0060373525926761835,
           0.002369801952265418,
           0,
           0,
           0,
           0,
           0.020707555154319247
          ],
          [
           0,
           0,
           0,
           0,
           0,
           0,
           0,
           0,
           0,
           0,
           0,
           0,
           0,
           0,
           0
          ],
          [
           0,
           0,
           0,
           0,
           0,
           0,
           0,
           0,
           0,
           0,
           0,
           0,
           0,
           0,
           0
          ],
          [
           0,
           0,
           0,
           0,
           0,
           0,
           0,
           0,
           0,
           0,
           0,
           0,
           0,
           0,
           0
          ],
          [
           0,
           0,
           0,
           0,
           0,
           0,
           0,
           0,
           0,
           0,
           0,
           0,
           0,
           0,
           0
          ],
          [
           0,
           0,
           0,
           0,
           0,
           0,
           0,
           0,
           0,
           0,
           0,
           0,
           0,
           0,
           0
          ]
         ]
        }
       ],
       "layout": {
        "coloraxis": {
         "colorscale": [
          [
           0,
           "rgb(12,51,131)"
          ],
          [
           0.25,
           "rgb(10,136,186)"
          ],
          [
           0.5,
           "rgb(242,211,56)"
          ],
          [
           0.75,
           "rgb(242,143,56)"
          ],
          [
           1,
           "rgb(217,30,30)"
          ]
         ],
         "showscale": false
        },
        "coloraxis10": {
         "colorscale": [
          [
           0,
           "rgb(12,51,131)"
          ],
          [
           0.25,
           "rgb(10,136,186)"
          ],
          [
           0.5,
           "rgb(242,211,56)"
          ],
          [
           0.75,
           "rgb(242,143,56)"
          ],
          [
           1,
           "rgb(217,30,30)"
          ]
         ],
         "showscale": false
        },
        "coloraxis11": {
         "colorscale": [
          [
           0,
           "rgb(12,51,131)"
          ],
          [
           0.25,
           "rgb(10,136,186)"
          ],
          [
           0.5,
           "rgb(242,211,56)"
          ],
          [
           0.75,
           "rgb(242,143,56)"
          ],
          [
           1,
           "rgb(217,30,30)"
          ]
         ],
         "showscale": false
        },
        "coloraxis12": {
         "colorscale": [
          [
           0,
           "rgb(12,51,131)"
          ],
          [
           0.25,
           "rgb(10,136,186)"
          ],
          [
           0.5,
           "rgb(242,211,56)"
          ],
          [
           0.75,
           "rgb(242,143,56)"
          ],
          [
           1,
           "rgb(217,30,30)"
          ]
         ],
         "showscale": false
        },
        "coloraxis13": {
         "colorscale": [
          [
           0,
           "rgb(12,51,131)"
          ],
          [
           0.25,
           "rgb(10,136,186)"
          ],
          [
           0.5,
           "rgb(242,211,56)"
          ],
          [
           0.75,
           "rgb(242,143,56)"
          ],
          [
           1,
           "rgb(217,30,30)"
          ]
         ],
         "showscale": false
        },
        "coloraxis14": {
         "colorscale": [
          [
           0,
           "rgb(12,51,131)"
          ],
          [
           0.25,
           "rgb(10,136,186)"
          ],
          [
           0.5,
           "rgb(242,211,56)"
          ],
          [
           0.75,
           "rgb(242,143,56)"
          ],
          [
           1,
           "rgb(217,30,30)"
          ]
         ],
         "showscale": false
        },
        "coloraxis15": {
         "colorscale": [
          [
           0,
           "rgb(12,51,131)"
          ],
          [
           0.25,
           "rgb(10,136,186)"
          ],
          [
           0.5,
           "rgb(242,211,56)"
          ],
          [
           0.75,
           "rgb(242,143,56)"
          ],
          [
           1,
           "rgb(217,30,30)"
          ]
         ],
         "showscale": false
        },
        "coloraxis16": {
         "colorscale": [
          [
           0,
           "rgb(12,51,131)"
          ],
          [
           0.25,
           "rgb(10,136,186)"
          ],
          [
           0.5,
           "rgb(242,211,56)"
          ],
          [
           0.75,
           "rgb(242,143,56)"
          ],
          [
           1,
           "rgb(217,30,30)"
          ]
         ],
         "showscale": false
        },
        "coloraxis17": {
         "colorscale": [
          [
           0,
           "rgb(12,51,131)"
          ],
          [
           0.25,
           "rgb(10,136,186)"
          ],
          [
           0.5,
           "rgb(242,211,56)"
          ],
          [
           0.75,
           "rgb(242,143,56)"
          ],
          [
           1,
           "rgb(217,30,30)"
          ]
         ],
         "showscale": false
        },
        "coloraxis18": {
         "colorscale": [
          [
           0,
           "rgb(12,51,131)"
          ],
          [
           0.25,
           "rgb(10,136,186)"
          ],
          [
           0.5,
           "rgb(242,211,56)"
          ],
          [
           0.75,
           "rgb(242,143,56)"
          ],
          [
           1,
           "rgb(217,30,30)"
          ]
         ],
         "showscale": false
        },
        "coloraxis19": {
         "colorscale": [
          [
           0,
           "rgb(12,51,131)"
          ],
          [
           0.25,
           "rgb(10,136,186)"
          ],
          [
           0.5,
           "rgb(242,211,56)"
          ],
          [
           0.75,
           "rgb(242,143,56)"
          ],
          [
           1,
           "rgb(217,30,30)"
          ]
         ],
         "showscale": false
        },
        "coloraxis2": {
         "colorscale": [
          [
           0,
           "rgb(12,51,131)"
          ],
          [
           0.25,
           "rgb(10,136,186)"
          ],
          [
           0.5,
           "rgb(242,211,56)"
          ],
          [
           0.75,
           "rgb(242,143,56)"
          ],
          [
           1,
           "rgb(217,30,30)"
          ]
         ],
         "showscale": false
        },
        "coloraxis20": {
         "colorscale": [
          [
           0,
           "rgb(12,51,131)"
          ],
          [
           0.25,
           "rgb(10,136,186)"
          ],
          [
           0.5,
           "rgb(242,211,56)"
          ],
          [
           0.75,
           "rgb(242,143,56)"
          ],
          [
           1,
           "rgb(217,30,30)"
          ]
         ],
         "showscale": false
        },
        "coloraxis21": {
         "colorscale": [
          [
           0,
           "rgb(12,51,131)"
          ],
          [
           0.25,
           "rgb(10,136,186)"
          ],
          [
           0.5,
           "rgb(242,211,56)"
          ],
          [
           0.75,
           "rgb(242,143,56)"
          ],
          [
           1,
           "rgb(217,30,30)"
          ]
         ],
         "showscale": false
        },
        "coloraxis22": {
         "colorscale": [
          [
           0,
           "rgb(12,51,131)"
          ],
          [
           0.25,
           "rgb(10,136,186)"
          ],
          [
           0.5,
           "rgb(242,211,56)"
          ],
          [
           0.75,
           "rgb(242,143,56)"
          ],
          [
           1,
           "rgb(217,30,30)"
          ]
         ],
         "showscale": false
        },
        "coloraxis23": {
         "colorscale": [
          [
           0,
           "rgb(12,51,131)"
          ],
          [
           0.25,
           "rgb(10,136,186)"
          ],
          [
           0.5,
           "rgb(242,211,56)"
          ],
          [
           0.75,
           "rgb(242,143,56)"
          ],
          [
           1,
           "rgb(217,30,30)"
          ]
         ],
         "showscale": false
        },
        "coloraxis24": {
         "colorscale": [
          [
           0,
           "rgb(12,51,131)"
          ],
          [
           0.25,
           "rgb(10,136,186)"
          ],
          [
           0.5,
           "rgb(242,211,56)"
          ],
          [
           0.75,
           "rgb(242,143,56)"
          ],
          [
           1,
           "rgb(217,30,30)"
          ]
         ],
         "showscale": false
        },
        "coloraxis25": {
         "colorscale": [
          [
           0,
           "rgb(12,51,131)"
          ],
          [
           0.25,
           "rgb(10,136,186)"
          ],
          [
           0.5,
           "rgb(242,211,56)"
          ],
          [
           0.75,
           "rgb(242,143,56)"
          ],
          [
           1,
           "rgb(217,30,30)"
          ]
         ],
         "showscale": false
        },
        "coloraxis26": {
         "colorscale": [
          [
           0,
           "rgb(12,51,131)"
          ],
          [
           0.25,
           "rgb(10,136,186)"
          ],
          [
           0.5,
           "rgb(242,211,56)"
          ],
          [
           0.75,
           "rgb(242,143,56)"
          ],
          [
           1,
           "rgb(217,30,30)"
          ]
         ],
         "showscale": false
        },
        "coloraxis27": {
         "colorscale": [
          [
           0,
           "rgb(12,51,131)"
          ],
          [
           0.25,
           "rgb(10,136,186)"
          ],
          [
           0.5,
           "rgb(242,211,56)"
          ],
          [
           0.75,
           "rgb(242,143,56)"
          ],
          [
           1,
           "rgb(217,30,30)"
          ]
         ],
         "showscale": false
        },
        "coloraxis28": {
         "colorscale": [
          [
           0,
           "rgb(12,51,131)"
          ],
          [
           0.25,
           "rgb(10,136,186)"
          ],
          [
           0.5,
           "rgb(242,211,56)"
          ],
          [
           0.75,
           "rgb(242,143,56)"
          ],
          [
           1,
           "rgb(217,30,30)"
          ]
         ],
         "showscale": false
        },
        "coloraxis29": {
         "colorscale": [
          [
           0,
           "rgb(12,51,131)"
          ],
          [
           0.25,
           "rgb(10,136,186)"
          ],
          [
           0.5,
           "rgb(242,211,56)"
          ],
          [
           0.75,
           "rgb(242,143,56)"
          ],
          [
           1,
           "rgb(217,30,30)"
          ]
         ],
         "showscale": false
        },
        "coloraxis3": {
         "colorscale": [
          [
           0,
           "rgb(12,51,131)"
          ],
          [
           0.25,
           "rgb(10,136,186)"
          ],
          [
           0.5,
           "rgb(242,211,56)"
          ],
          [
           0.75,
           "rgb(242,143,56)"
          ],
          [
           1,
           "rgb(217,30,30)"
          ]
         ],
         "showscale": false
        },
        "coloraxis4": {
         "colorscale": [
          [
           0,
           "rgb(12,51,131)"
          ],
          [
           0.25,
           "rgb(10,136,186)"
          ],
          [
           0.5,
           "rgb(242,211,56)"
          ],
          [
           0.75,
           "rgb(242,143,56)"
          ],
          [
           1,
           "rgb(217,30,30)"
          ]
         ],
         "showscale": false
        },
        "coloraxis5": {
         "colorscale": [
          [
           0,
           "rgb(12,51,131)"
          ],
          [
           0.25,
           "rgb(10,136,186)"
          ],
          [
           0.5,
           "rgb(242,211,56)"
          ],
          [
           0.75,
           "rgb(242,143,56)"
          ],
          [
           1,
           "rgb(217,30,30)"
          ]
         ],
         "showscale": false
        },
        "coloraxis6": {
         "colorscale": [
          [
           0,
           "rgb(12,51,131)"
          ],
          [
           0.25,
           "rgb(10,136,186)"
          ],
          [
           0.5,
           "rgb(242,211,56)"
          ],
          [
           0.75,
           "rgb(242,143,56)"
          ],
          [
           1,
           "rgb(217,30,30)"
          ]
         ],
         "showscale": false
        },
        "coloraxis7": {
         "colorscale": [
          [
           0,
           "rgb(12,51,131)"
          ],
          [
           0.25,
           "rgb(10,136,186)"
          ],
          [
           0.5,
           "rgb(242,211,56)"
          ],
          [
           0.75,
           "rgb(242,143,56)"
          ],
          [
           1,
           "rgb(217,30,30)"
          ]
         ],
         "showscale": false
        },
        "coloraxis8": {
         "colorscale": [
          [
           0,
           "rgb(12,51,131)"
          ],
          [
           0.25,
           "rgb(10,136,186)"
          ],
          [
           0.5,
           "rgb(242,211,56)"
          ],
          [
           0.75,
           "rgb(242,143,56)"
          ],
          [
           1,
           "rgb(217,30,30)"
          ]
         ],
         "showscale": false
        },
        "coloraxis9": {
         "colorscale": [
          [
           0,
           "rgb(12,51,131)"
          ],
          [
           0.25,
           "rgb(10,136,186)"
          ],
          [
           0.5,
           "rgb(242,211,56)"
          ],
          [
           0.75,
           "rgb(242,143,56)"
          ],
          [
           1,
           "rgb(217,30,30)"
          ]
         ],
         "showscale": false
        },
        "height": 1200,
        "template": {
         "data": {
          "bar": [
           {
            "error_x": {
             "color": "#2a3f5f"
            },
            "error_y": {
             "color": "#2a3f5f"
            },
            "marker": {
             "line": {
              "color": "#E5ECF6",
              "width": 0.5
             },
             "pattern": {
              "fillmode": "overlay",
              "size": 10,
              "solidity": 0.2
             }
            },
            "type": "bar"
           }
          ],
          "barpolar": [
           {
            "marker": {
             "line": {
              "color": "#E5ECF6",
              "width": 0.5
             },
             "pattern": {
              "fillmode": "overlay",
              "size": 10,
              "solidity": 0.2
             }
            },
            "type": "barpolar"
           }
          ],
          "carpet": [
           {
            "aaxis": {
             "endlinecolor": "#2a3f5f",
             "gridcolor": "white",
             "linecolor": "white",
             "minorgridcolor": "white",
             "startlinecolor": "#2a3f5f"
            },
            "baxis": {
             "endlinecolor": "#2a3f5f",
             "gridcolor": "white",
             "linecolor": "white",
             "minorgridcolor": "white",
             "startlinecolor": "#2a3f5f"
            },
            "type": "carpet"
           }
          ],
          "choropleth": [
           {
            "colorbar": {
             "outlinewidth": 0,
             "ticks": ""
            },
            "type": "choropleth"
           }
          ],
          "contour": [
           {
            "colorbar": {
             "outlinewidth": 0,
             "ticks": ""
            },
            "colorscale": [
             [
              0,
              "#0d0887"
             ],
             [
              0.1111111111111111,
              "#46039f"
             ],
             [
              0.2222222222222222,
              "#7201a8"
             ],
             [
              0.3333333333333333,
              "#9c179e"
             ],
             [
              0.4444444444444444,
              "#bd3786"
             ],
             [
              0.5555555555555556,
              "#d8576b"
             ],
             [
              0.6666666666666666,
              "#ed7953"
             ],
             [
              0.7777777777777778,
              "#fb9f3a"
             ],
             [
              0.8888888888888888,
              "#fdca26"
             ],
             [
              1,
              "#f0f921"
             ]
            ],
            "type": "contour"
           }
          ],
          "contourcarpet": [
           {
            "colorbar": {
             "outlinewidth": 0,
             "ticks": ""
            },
            "type": "contourcarpet"
           }
          ],
          "heatmap": [
           {
            "colorbar": {
             "outlinewidth": 0,
             "ticks": ""
            },
            "colorscale": [
             [
              0,
              "#0d0887"
             ],
             [
              0.1111111111111111,
              "#46039f"
             ],
             [
              0.2222222222222222,
              "#7201a8"
             ],
             [
              0.3333333333333333,
              "#9c179e"
             ],
             [
              0.4444444444444444,
              "#bd3786"
             ],
             [
              0.5555555555555556,
              "#d8576b"
             ],
             [
              0.6666666666666666,
              "#ed7953"
             ],
             [
              0.7777777777777778,
              "#fb9f3a"
             ],
             [
              0.8888888888888888,
              "#fdca26"
             ],
             [
              1,
              "#f0f921"
             ]
            ],
            "type": "heatmap"
           }
          ],
          "heatmapgl": [
           {
            "colorbar": {
             "outlinewidth": 0,
             "ticks": ""
            },
            "colorscale": [
             [
              0,
              "#0d0887"
             ],
             [
              0.1111111111111111,
              "#46039f"
             ],
             [
              0.2222222222222222,
              "#7201a8"
             ],
             [
              0.3333333333333333,
              "#9c179e"
             ],
             [
              0.4444444444444444,
              "#bd3786"
             ],
             [
              0.5555555555555556,
              "#d8576b"
             ],
             [
              0.6666666666666666,
              "#ed7953"
             ],
             [
              0.7777777777777778,
              "#fb9f3a"
             ],
             [
              0.8888888888888888,
              "#fdca26"
             ],
             [
              1,
              "#f0f921"
             ]
            ],
            "type": "heatmapgl"
           }
          ],
          "histogram": [
           {
            "marker": {
             "pattern": {
              "fillmode": "overlay",
              "size": 10,
              "solidity": 0.2
             }
            },
            "type": "histogram"
           }
          ],
          "histogram2d": [
           {
            "colorbar": {
             "outlinewidth": 0,
             "ticks": ""
            },
            "colorscale": [
             [
              0,
              "#0d0887"
             ],
             [
              0.1111111111111111,
              "#46039f"
             ],
             [
              0.2222222222222222,
              "#7201a8"
             ],
             [
              0.3333333333333333,
              "#9c179e"
             ],
             [
              0.4444444444444444,
              "#bd3786"
             ],
             [
              0.5555555555555556,
              "#d8576b"
             ],
             [
              0.6666666666666666,
              "#ed7953"
             ],
             [
              0.7777777777777778,
              "#fb9f3a"
             ],
             [
              0.8888888888888888,
              "#fdca26"
             ],
             [
              1,
              "#f0f921"
             ]
            ],
            "type": "histogram2d"
           }
          ],
          "histogram2dcontour": [
           {
            "colorbar": {
             "outlinewidth": 0,
             "ticks": ""
            },
            "colorscale": [
             [
              0,
              "#0d0887"
             ],
             [
              0.1111111111111111,
              "#46039f"
             ],
             [
              0.2222222222222222,
              "#7201a8"
             ],
             [
              0.3333333333333333,
              "#9c179e"
             ],
             [
              0.4444444444444444,
              "#bd3786"
             ],
             [
              0.5555555555555556,
              "#d8576b"
             ],
             [
              0.6666666666666666,
              "#ed7953"
             ],
             [
              0.7777777777777778,
              "#fb9f3a"
             ],
             [
              0.8888888888888888,
              "#fdca26"
             ],
             [
              1,
              "#f0f921"
             ]
            ],
            "type": "histogram2dcontour"
           }
          ],
          "mesh3d": [
           {
            "colorbar": {
             "outlinewidth": 0,
             "ticks": ""
            },
            "type": "mesh3d"
           }
          ],
          "parcoords": [
           {
            "line": {
             "colorbar": {
              "outlinewidth": 0,
              "ticks": ""
             }
            },
            "type": "parcoords"
           }
          ],
          "pie": [
           {
            "automargin": true,
            "type": "pie"
           }
          ],
          "scatter": [
           {
            "fillpattern": {
             "fillmode": "overlay",
             "size": 10,
             "solidity": 0.2
            },
            "type": "scatter"
           }
          ],
          "scatter3d": [
           {
            "line": {
             "colorbar": {
              "outlinewidth": 0,
              "ticks": ""
             }
            },
            "marker": {
             "colorbar": {
              "outlinewidth": 0,
              "ticks": ""
             }
            },
            "type": "scatter3d"
           }
          ],
          "scattercarpet": [
           {
            "marker": {
             "colorbar": {
              "outlinewidth": 0,
              "ticks": ""
             }
            },
            "type": "scattercarpet"
           }
          ],
          "scattergeo": [
           {
            "marker": {
             "colorbar": {
              "outlinewidth": 0,
              "ticks": ""
             }
            },
            "type": "scattergeo"
           }
          ],
          "scattergl": [
           {
            "marker": {
             "colorbar": {
              "outlinewidth": 0,
              "ticks": ""
             }
            },
            "type": "scattergl"
           }
          ],
          "scattermapbox": [
           {
            "marker": {
             "colorbar": {
              "outlinewidth": 0,
              "ticks": ""
             }
            },
            "type": "scattermapbox"
           }
          ],
          "scatterpolar": [
           {
            "marker": {
             "colorbar": {
              "outlinewidth": 0,
              "ticks": ""
             }
            },
            "type": "scatterpolar"
           }
          ],
          "scatterpolargl": [
           {
            "marker": {
             "colorbar": {
              "outlinewidth": 0,
              "ticks": ""
             }
            },
            "type": "scatterpolargl"
           }
          ],
          "scatterternary": [
           {
            "marker": {
             "colorbar": {
              "outlinewidth": 0,
              "ticks": ""
             }
            },
            "type": "scatterternary"
           }
          ],
          "surface": [
           {
            "colorbar": {
             "outlinewidth": 0,
             "ticks": ""
            },
            "colorscale": [
             [
              0,
              "#0d0887"
             ],
             [
              0.1111111111111111,
              "#46039f"
             ],
             [
              0.2222222222222222,
              "#7201a8"
             ],
             [
              0.3333333333333333,
              "#9c179e"
             ],
             [
              0.4444444444444444,
              "#bd3786"
             ],
             [
              0.5555555555555556,
              "#d8576b"
             ],
             [
              0.6666666666666666,
              "#ed7953"
             ],
             [
              0.7777777777777778,
              "#fb9f3a"
             ],
             [
              0.8888888888888888,
              "#fdca26"
             ],
             [
              1,
              "#f0f921"
             ]
            ],
            "type": "surface"
           }
          ],
          "table": [
           {
            "cells": {
             "fill": {
              "color": "#EBF0F8"
             },
             "line": {
              "color": "white"
             }
            },
            "header": {
             "fill": {
              "color": "#C8D4E3"
             },
             "line": {
              "color": "white"
             }
            },
            "type": "table"
           }
          ]
         },
         "layout": {
          "annotationdefaults": {
           "arrowcolor": "#2a3f5f",
           "arrowhead": 0,
           "arrowwidth": 1
          },
          "autotypenumbers": "strict",
          "coloraxis": {
           "colorbar": {
            "outlinewidth": 0,
            "ticks": ""
           }
          },
          "colorscale": {
           "diverging": [
            [
             0,
             "#8e0152"
            ],
            [
             0.1,
             "#c51b7d"
            ],
            [
             0.2,
             "#de77ae"
            ],
            [
             0.3,
             "#f1b6da"
            ],
            [
             0.4,
             "#fde0ef"
            ],
            [
             0.5,
             "#f7f7f7"
            ],
            [
             0.6,
             "#e6f5d0"
            ],
            [
             0.7,
             "#b8e186"
            ],
            [
             0.8,
             "#7fbc41"
            ],
            [
             0.9,
             "#4d9221"
            ],
            [
             1,
             "#276419"
            ]
           ],
           "sequential": [
            [
             0,
             "#0d0887"
            ],
            [
             0.1111111111111111,
             "#46039f"
            ],
            [
             0.2222222222222222,
             "#7201a8"
            ],
            [
             0.3333333333333333,
             "#9c179e"
            ],
            [
             0.4444444444444444,
             "#bd3786"
            ],
            [
             0.5555555555555556,
             "#d8576b"
            ],
            [
             0.6666666666666666,
             "#ed7953"
            ],
            [
             0.7777777777777778,
             "#fb9f3a"
            ],
            [
             0.8888888888888888,
             "#fdca26"
            ],
            [
             1,
             "#f0f921"
            ]
           ],
           "sequentialminus": [
            [
             0,
             "#0d0887"
            ],
            [
             0.1111111111111111,
             "#46039f"
            ],
            [
             0.2222222222222222,
             "#7201a8"
            ],
            [
             0.3333333333333333,
             "#9c179e"
            ],
            [
             0.4444444444444444,
             "#bd3786"
            ],
            [
             0.5555555555555556,
             "#d8576b"
            ],
            [
             0.6666666666666666,
             "#ed7953"
            ],
            [
             0.7777777777777778,
             "#fb9f3a"
            ],
            [
             0.8888888888888888,
             "#fdca26"
            ],
            [
             1,
             "#f0f921"
            ]
           ]
          },
          "colorway": [
           "#636efa",
           "#EF553B",
           "#00cc96",
           "#ab63fa",
           "#FFA15A",
           "#19d3f3",
           "#FF6692",
           "#B6E880",
           "#FF97FF",
           "#FECB52"
          ],
          "font": {
           "color": "#2a3f5f"
          },
          "geo": {
           "bgcolor": "white",
           "lakecolor": "white",
           "landcolor": "#E5ECF6",
           "showlakes": true,
           "showland": true,
           "subunitcolor": "white"
          },
          "hoverlabel": {
           "align": "left"
          },
          "hovermode": "closest",
          "mapbox": {
           "style": "light"
          },
          "paper_bgcolor": "white",
          "plot_bgcolor": "#E5ECF6",
          "polar": {
           "angularaxis": {
            "gridcolor": "white",
            "linecolor": "white",
            "ticks": ""
           },
           "bgcolor": "#E5ECF6",
           "radialaxis": {
            "gridcolor": "white",
            "linecolor": "white",
            "ticks": ""
           }
          },
          "scene": {
           "xaxis": {
            "backgroundcolor": "#E5ECF6",
            "gridcolor": "white",
            "gridwidth": 2,
            "linecolor": "white",
            "showbackground": true,
            "ticks": "",
            "zerolinecolor": "white"
           },
           "yaxis": {
            "backgroundcolor": "#E5ECF6",
            "gridcolor": "white",
            "gridwidth": 2,
            "linecolor": "white",
            "showbackground": true,
            "ticks": "",
            "zerolinecolor": "white"
           },
           "zaxis": {
            "backgroundcolor": "#E5ECF6",
            "gridcolor": "white",
            "gridwidth": 2,
            "linecolor": "white",
            "showbackground": true,
            "ticks": "",
            "zerolinecolor": "white"
           }
          },
          "shapedefaults": {
           "line": {
            "color": "#2a3f5f"
           }
          },
          "ternary": {
           "aaxis": {
            "gridcolor": "white",
            "linecolor": "white",
            "ticks": ""
           },
           "baxis": {
            "gridcolor": "white",
            "linecolor": "white",
            "ticks": ""
           },
           "bgcolor": "#E5ECF6",
           "caxis": {
            "gridcolor": "white",
            "linecolor": "white",
            "ticks": ""
           }
          },
          "title": {
           "x": 0.05
          },
          "xaxis": {
           "automargin": true,
           "gridcolor": "white",
           "linecolor": "white",
           "ticks": "",
           "title": {
            "standoff": 15
           },
           "zerolinecolor": "white",
           "zerolinewidth": 2
          },
          "yaxis": {
           "automargin": true,
           "gridcolor": "white",
           "linecolor": "white",
           "ticks": "",
           "title": {
            "standoff": 15
           },
           "zerolinecolor": "white",
           "zerolinewidth": 2
          }
         }
        },
        "title": {
         "text": "Element correlation per position"
        },
        "updatemenus": [
         {
          "buttons": [
           {
            "args": [
             {
              "visible": [
               true,
               false
              ]
             }
            ],
            "label": "Independent Scales"
           },
           {
            "args": [
             {
              "visible": [
               false,
               true
              ]
             }
            ],
            "label": "Single Scale"
           }
          ],
          "direction": "down",
          "pad": {
           "r": 10,
           "t": 10
          },
          "showactive": true,
          "x": 1,
          "xanchor": "right",
          "y": 1.1,
          "yanchor": "top"
         }
        ],
        "width": 1200,
        "xaxis": {
         "anchor": "y",
         "domain": [
          0,
          0.13428571428571429
         ],
         "matches": "x43",
         "showticklabels": false
        },
        "xaxis10": {
         "anchor": "y10",
         "domain": [
          0.2885714285714286,
          0.4228571428571429
         ],
         "matches": "x45",
         "showticklabels": false
        },
        "xaxis11": {
         "anchor": "y11",
         "domain": [
          0.43285714285714283,
          0.5671428571428572
         ],
         "matches": "x46",
         "showticklabels": false
        },
        "xaxis12": {
         "anchor": "y12",
         "domain": [
          0.5771428571428572,
          0.7114285714285715
         ],
         "matches": "x47",
         "showticklabels": false
        },
        "xaxis13": {
         "anchor": "y13",
         "domain": [
          0.7214285714285715,
          0.8557142857142859
         ],
         "matches": "x48",
         "showticklabels": false
        },
        "xaxis14": {
         "anchor": "y14",
         "domain": [
          0.8657142857142859,
          1
         ],
         "matches": "x49",
         "showticklabels": false
        },
        "xaxis15": {
         "anchor": "y15",
         "domain": [
          0,
          0.13428571428571429
         ],
         "matches": "x43",
         "showticklabels": false
        },
        "xaxis16": {
         "anchor": "y16",
         "domain": [
          0.1442857142857143,
          0.2785714285714286
         ],
         "matches": "x44",
         "showticklabels": false
        },
        "xaxis17": {
         "anchor": "y17",
         "domain": [
          0.2885714285714286,
          0.4228571428571429
         ],
         "matches": "x45",
         "showticklabels": false
        },
        "xaxis18": {
         "anchor": "y18",
         "domain": [
          0.43285714285714283,
          0.5671428571428572
         ],
         "matches": "x46",
         "showticklabels": false
        },
        "xaxis19": {
         "anchor": "y19",
         "domain": [
          0.5771428571428572,
          0.7114285714285715
         ],
         "matches": "x47",
         "showticklabels": false
        },
        "xaxis2": {
         "anchor": "y2",
         "domain": [
          0.1442857142857143,
          0.2785714285714286
         ],
         "matches": "x44",
         "showticklabels": false
        },
        "xaxis20": {
         "anchor": "y20",
         "domain": [
          0.7214285714285715,
          0.8557142857142859
         ],
         "matches": "x48",
         "showticklabels": false
        },
        "xaxis21": {
         "anchor": "y21",
         "domain": [
          0.8657142857142859,
          1
         ],
         "matches": "x49",
         "showticklabels": false
        },
        "xaxis22": {
         "anchor": "y22",
         "domain": [
          0,
          0.13428571428571429
         ],
         "matches": "x43",
         "showticklabels": false
        },
        "xaxis23": {
         "anchor": "y23",
         "domain": [
          0.1442857142857143,
          0.2785714285714286
         ],
         "matches": "x44",
         "showticklabels": false
        },
        "xaxis24": {
         "anchor": "y24",
         "domain": [
          0.2885714285714286,
          0.4228571428571429
         ],
         "matches": "x45",
         "showticklabels": false
        },
        "xaxis25": {
         "anchor": "y25",
         "domain": [
          0.43285714285714283,
          0.5671428571428572
         ],
         "matches": "x46",
         "showticklabels": false
        },
        "xaxis26": {
         "anchor": "y26",
         "domain": [
          0.5771428571428572,
          0.7114285714285715
         ],
         "matches": "x47",
         "showticklabels": false
        },
        "xaxis27": {
         "anchor": "y27",
         "domain": [
          0.7214285714285715,
          0.8557142857142859
         ],
         "matches": "x48",
         "showticklabels": false
        },
        "xaxis28": {
         "anchor": "y28",
         "domain": [
          0.8657142857142859,
          1
         ],
         "matches": "x49",
         "showticklabels": false
        },
        "xaxis29": {
         "anchor": "y29",
         "domain": [
          0,
          0.13428571428571429
         ],
         "matches": "x43",
         "showticklabels": false
        },
        "xaxis3": {
         "anchor": "y3",
         "domain": [
          0.2885714285714286,
          0.4228571428571429
         ],
         "matches": "x45",
         "showticklabels": false
        },
        "xaxis30": {
         "anchor": "y30",
         "domain": [
          0.1442857142857143,
          0.2785714285714286
         ],
         "matches": "x44",
         "showticklabels": false
        },
        "xaxis31": {
         "anchor": "y31",
         "domain": [
          0.2885714285714286,
          0.4228571428571429
         ],
         "matches": "x45",
         "showticklabels": false
        },
        "xaxis32": {
         "anchor": "y32",
         "domain": [
          0.43285714285714283,
          0.5671428571428572
         ],
         "matches": "x46",
         "showticklabels": false
        },
        "xaxis33": {
         "anchor": "y33",
         "domain": [
          0.5771428571428572,
          0.7114285714285715
         ],
         "matches": "x47",
         "showticklabels": false
        },
        "xaxis34": {
         "anchor": "y34",
         "domain": [
          0.7214285714285715,
          0.8557142857142859
         ],
         "matches": "x48",
         "showticklabels": false
        },
        "xaxis35": {
         "anchor": "y35",
         "domain": [
          0.8657142857142859,
          1
         ],
         "matches": "x49",
         "showticklabels": false
        },
        "xaxis36": {
         "anchor": "y36",
         "domain": [
          0,
          0.13428571428571429
         ],
         "matches": "x43",
         "showticklabels": false
        },
        "xaxis37": {
         "anchor": "y37",
         "domain": [
          0.1442857142857143,
          0.2785714285714286
         ],
         "matches": "x44",
         "showticklabels": false
        },
        "xaxis38": {
         "anchor": "y38",
         "domain": [
          0.2885714285714286,
          0.4228571428571429
         ],
         "matches": "x45",
         "showticklabels": false
        },
        "xaxis39": {
         "anchor": "y39",
         "domain": [
          0.43285714285714283,
          0.5671428571428572
         ],
         "matches": "x46",
         "showticklabels": false
        },
        "xaxis4": {
         "anchor": "y4",
         "domain": [
          0.43285714285714283,
          0.5671428571428572
         ],
         "matches": "x46",
         "showticklabels": false
        },
        "xaxis40": {
         "anchor": "y40",
         "domain": [
          0.5771428571428572,
          0.7114285714285715
         ],
         "matches": "x47",
         "showticklabels": false
        },
        "xaxis41": {
         "anchor": "y41",
         "domain": [
          0.7214285714285715,
          0.8557142857142859
         ],
         "matches": "x48",
         "showticklabels": false
        },
        "xaxis42": {
         "anchor": "y42",
         "domain": [
          0.8657142857142859,
          1
         ],
         "matches": "x49",
         "showticklabels": false
        },
        "xaxis43": {
         "anchor": "y43",
         "domain": [
          0,
          0.13428571428571429
         ],
         "showticklabels": false,
         "side": "bottom",
         "title": {
          "text": "p0"
         }
        },
        "xaxis44": {
         "anchor": "y44",
         "domain": [
          0.1442857142857143,
          0.2785714285714286
         ],
         "showticklabels": false,
         "side": "bottom",
         "title": {
          "text": "p1"
         }
        },
        "xaxis45": {
         "anchor": "y45",
         "domain": [
          0.2885714285714286,
          0.4228571428571429
         ],
         "showticklabels": false,
         "side": "bottom",
         "title": {
          "text": "p2"
         }
        },
        "xaxis46": {
         "anchor": "y46",
         "domain": [
          0.43285714285714283,
          0.5671428571428572
         ],
         "showticklabels": false,
         "side": "bottom",
         "title": {
          "text": "p3"
         }
        },
        "xaxis47": {
         "anchor": "y47",
         "domain": [
          0.5771428571428572,
          0.7114285714285715
         ],
         "showticklabels": false,
         "side": "bottom",
         "title": {
          "text": "p4"
         }
        },
        "xaxis48": {
         "anchor": "y48",
         "domain": [
          0.7214285714285715,
          0.8557142857142859
         ],
         "showticklabels": false,
         "side": "bottom",
         "title": {
          "text": "p5"
         }
        },
        "xaxis49": {
         "anchor": "y49",
         "domain": [
          0.8657142857142859,
          1
         ],
         "showticklabels": false,
         "side": "bottom",
         "title": {
          "text": "p6"
         }
        },
        "xaxis5": {
         "anchor": "y5",
         "domain": [
          0.5771428571428572,
          0.7114285714285715
         ],
         "matches": "x47",
         "showticklabels": false
        },
        "xaxis6": {
         "anchor": "y6",
         "domain": [
          0.7214285714285715,
          0.8557142857142859
         ],
         "matches": "x48",
         "showticklabels": false
        },
        "xaxis7": {
         "anchor": "y7",
         "domain": [
          0.8657142857142859,
          1
         ],
         "matches": "x49",
         "showticklabels": false
        },
        "xaxis8": {
         "anchor": "y8",
         "domain": [
          0,
          0.13428571428571429
         ],
         "matches": "x43",
         "showticklabels": false
        },
        "xaxis9": {
         "anchor": "y9",
         "domain": [
          0.1442857142857143,
          0.2785714285714286
         ],
         "matches": "x44",
         "showticklabels": false
        },
        "yaxis": {
         "anchor": "x",
         "domain": [
          0.8657142857142859,
          1
         ],
         "showticklabels": false,
         "title": {
          "text": "p1"
         }
        },
        "yaxis10": {
         "anchor": "x10",
         "domain": [
          0.7214285714285715,
          0.8557142857142859
         ],
         "matches": "y8",
         "showticklabels": false
        },
        "yaxis11": {
         "anchor": "x11",
         "domain": [
          0.7214285714285715,
          0.8557142857142859
         ],
         "matches": "y8",
         "showticklabels": false
        },
        "yaxis12": {
         "anchor": "x12",
         "domain": [
          0.7214285714285715,
          0.8557142857142859
         ],
         "matches": "y8",
         "showticklabels": false
        },
        "yaxis13": {
         "anchor": "x13",
         "domain": [
          0.7214285714285715,
          0.8557142857142859
         ],
         "matches": "y8",
         "showticklabels": false
        },
        "yaxis14": {
         "anchor": "x14",
         "domain": [
          0.7214285714285715,
          0.8557142857142859
         ],
         "matches": "y8",
         "showticklabels": false
        },
        "yaxis15": {
         "anchor": "x15",
         "domain": [
          0.5771428571428572,
          0.7114285714285715
         ],
         "showticklabels": false,
         "title": {
          "text": "p3"
         }
        },
        "yaxis16": {
         "anchor": "x16",
         "domain": [
          0.5771428571428572,
          0.7114285714285715
         ],
         "matches": "y15",
         "showticklabels": false
        },
        "yaxis17": {
         "anchor": "x17",
         "domain": [
          0.5771428571428572,
          0.7114285714285715
         ],
         "matches": "y15",
         "showticklabels": false
        },
        "yaxis18": {
         "anchor": "x18",
         "domain": [
          0.5771428571428572,
          0.7114285714285715
         ],
         "matches": "y15",
         "showticklabels": false
        },
        "yaxis19": {
         "anchor": "x19",
         "domain": [
          0.5771428571428572,
          0.7114285714285715
         ],
         "matches": "y15",
         "showticklabels": false
        },
        "yaxis2": {
         "anchor": "x2",
         "domain": [
          0.8657142857142859,
          1
         ],
         "matches": "y",
         "showticklabels": false
        },
        "yaxis20": {
         "anchor": "x20",
         "domain": [
          0.5771428571428572,
          0.7114285714285715
         ],
         "matches": "y15",
         "showticklabels": false
        },
        "yaxis21": {
         "anchor": "x21",
         "domain": [
          0.5771428571428572,
          0.7114285714285715
         ],
         "matches": "y15",
         "showticklabels": false
        },
        "yaxis22": {
         "anchor": "x22",
         "domain": [
          0.43285714285714283,
          0.5671428571428572
         ],
         "showticklabels": false,
         "title": {
          "text": "p4"
         }
        },
        "yaxis23": {
         "anchor": "x23",
         "domain": [
          0.43285714285714283,
          0.5671428571428572
         ],
         "matches": "y22",
         "showticklabels": false
        },
        "yaxis24": {
         "anchor": "x24",
         "domain": [
          0.43285714285714283,
          0.5671428571428572
         ],
         "matches": "y22",
         "showticklabels": false
        },
        "yaxis25": {
         "anchor": "x25",
         "domain": [
          0.43285714285714283,
          0.5671428571428572
         ],
         "matches": "y22",
         "showticklabels": false
        },
        "yaxis26": {
         "anchor": "x26",
         "domain": [
          0.43285714285714283,
          0.5671428571428572
         ],
         "matches": "y22",
         "showticklabels": false
        },
        "yaxis27": {
         "anchor": "x27",
         "domain": [
          0.43285714285714283,
          0.5671428571428572
         ],
         "matches": "y22",
         "showticklabels": false
        },
        "yaxis28": {
         "anchor": "x28",
         "domain": [
          0.43285714285714283,
          0.5671428571428572
         ],
         "matches": "y22",
         "showticklabels": false
        },
        "yaxis29": {
         "anchor": "x29",
         "domain": [
          0.2885714285714286,
          0.4228571428571429
         ],
         "showticklabels": false,
         "title": {
          "text": "p5"
         }
        },
        "yaxis3": {
         "anchor": "x3",
         "domain": [
          0.8657142857142859,
          1
         ],
         "matches": "y",
         "showticklabels": false
        },
        "yaxis30": {
         "anchor": "x30",
         "domain": [
          0.2885714285714286,
          0.4228571428571429
         ],
         "matches": "y29",
         "showticklabels": false
        },
        "yaxis31": {
         "anchor": "x31",
         "domain": [
          0.2885714285714286,
          0.4228571428571429
         ],
         "matches": "y29",
         "showticklabels": false
        },
        "yaxis32": {
         "anchor": "x32",
         "domain": [
          0.2885714285714286,
          0.4228571428571429
         ],
         "matches": "y29",
         "showticklabels": false
        },
        "yaxis33": {
         "anchor": "x33",
         "domain": [
          0.2885714285714286,
          0.4228571428571429
         ],
         "matches": "y29",
         "showticklabels": false
        },
        "yaxis34": {
         "anchor": "x34",
         "domain": [
          0.2885714285714286,
          0.4228571428571429
         ],
         "matches": "y29",
         "showticklabels": false
        },
        "yaxis35": {
         "anchor": "x35",
         "domain": [
          0.2885714285714286,
          0.4228571428571429
         ],
         "matches": "y29",
         "showticklabels": false
        },
        "yaxis36": {
         "anchor": "x36",
         "domain": [
          0.1442857142857143,
          0.2785714285714286
         ],
         "showticklabels": false,
         "title": {
          "text": "p6"
         }
        },
        "yaxis37": {
         "anchor": "x37",
         "domain": [
          0.1442857142857143,
          0.2785714285714286
         ],
         "matches": "y36",
         "showticklabels": false
        },
        "yaxis38": {
         "anchor": "x38",
         "domain": [
          0.1442857142857143,
          0.2785714285714286
         ],
         "matches": "y36",
         "showticklabels": false
        },
        "yaxis39": {
         "anchor": "x39",
         "domain": [
          0.1442857142857143,
          0.2785714285714286
         ],
         "matches": "y36",
         "showticklabels": false
        },
        "yaxis4": {
         "anchor": "x4",
         "domain": [
          0.8657142857142859,
          1
         ],
         "matches": "y",
         "showticklabels": false
        },
        "yaxis40": {
         "anchor": "x40",
         "domain": [
          0.1442857142857143,
          0.2785714285714286
         ],
         "matches": "y36",
         "showticklabels": false
        },
        "yaxis41": {
         "anchor": "x41",
         "domain": [
          0.1442857142857143,
          0.2785714285714286
         ],
         "matches": "y36",
         "showticklabels": false
        },
        "yaxis42": {
         "anchor": "x42",
         "domain": [
          0.1442857142857143,
          0.2785714285714286
         ],
         "matches": "y36",
         "showticklabels": false
        },
        "yaxis43": {
         "anchor": "x43",
         "domain": [
          0,
          0.13428571428571429
         ],
         "showticklabels": false,
         "title": {
          "text": "p7"
         }
        },
        "yaxis44": {
         "anchor": "x44",
         "domain": [
          0,
          0.13428571428571429
         ],
         "matches": "y43",
         "showticklabels": false
        },
        "yaxis45": {
         "anchor": "x45",
         "domain": [
          0,
          0.13428571428571429
         ],
         "matches": "y43",
         "showticklabels": false
        },
        "yaxis46": {
         "anchor": "x46",
         "domain": [
          0,
          0.13428571428571429
         ],
         "matches": "y43",
         "showticklabels": false
        },
        "yaxis47": {
         "anchor": "x47",
         "domain": [
          0,
          0.13428571428571429
         ],
         "matches": "y43",
         "showticklabels": false
        },
        "yaxis48": {
         "anchor": "x48",
         "domain": [
          0,
          0.13428571428571429
         ],
         "matches": "y43",
         "showticklabels": false
        },
        "yaxis49": {
         "anchor": "x49",
         "domain": [
          0,
          0.13428571428571429
         ],
         "matches": "y43",
         "showticklabels": false
        },
        "yaxis5": {
         "anchor": "x5",
         "domain": [
          0.8657142857142859,
          1
         ],
         "matches": "y",
         "showticklabels": false
        },
        "yaxis6": {
         "anchor": "x6",
         "domain": [
          0.8657142857142859,
          1
         ],
         "matches": "y",
         "showticklabels": false
        },
        "yaxis7": {
         "anchor": "x7",
         "domain": [
          0.8657142857142859,
          1
         ],
         "matches": "y",
         "showticklabels": false
        },
        "yaxis8": {
         "anchor": "x8",
         "domain": [
          0.7214285714285715,
          0.8557142857142859
         ],
         "showticklabels": false,
         "title": {
          "text": "p2"
         }
        },
        "yaxis9": {
         "anchor": "x9",
         "domain": [
          0.7214285714285715,
          0.8557142857142859
         ],
         "matches": "y8",
         "showticklabels": false
        }
       }
      }
     },
     "metadata": {},
     "output_type": "display_data"
    }
   ],
   "source": [
    "# Ploting Heatmap\n",
    "\n",
    "# Creating figure\n",
    "fig = sp.make_subplots(\n",
    "    rows=NUMBER_OF_ELEMENTS - 1, \n",
    "    cols=NUMBER_OF_ELEMENTS - 1,\n",
    "    shared_xaxes=True,\n",
    "    shared_yaxes=True,\n",
    "    vertical_spacing=0.01,\n",
    "    horizontal_spacing=0.01,\n",
    ")\n",
    "\n",
    "# Creating traces\n",
    "for i in range(NUMBER_OF_ELEMENTS):\n",
    "    for j in range(i + 1, NUMBER_OF_ELEMENTS):\n",
    "\n",
    "        df_temp = df_elements_pos_corr[f\"p{i}\"].loc[f\"p{j}\"]\n",
    "\n",
    "        if df_temp is None:\n",
    "            continue\n",
    "\n",
    "        fig.add_trace(\n",
    "            go.Heatmap(\n",
    "                x=df_temp.columns,\n",
    "                y=df_temp.index,\n",
    "                z=df_temp / len(df),\n",
    "                name=f\"{i}-{j}\",\n",
    "                visible=True,\n",
    "                coloraxis=f\"coloraxis{i + j + 1}\",\n",
    "            ),\n",
    "            row=j, \n",
    "            col=i + 1,\n",
    "        )\n",
    "\n",
    "        fig.add_trace(\n",
    "            go.Heatmap(\n",
    "                x=df_temp.columns,\n",
    "                y=df_temp.index,\n",
    "                z=df_temp / len(df),\n",
    "                name=f\"{i}-{j}\",\n",
    "                visible=False,\n",
    "                coloraxis=f\"coloraxis1\",\n",
    "            ),\n",
    "            row=j, \n",
    "            col=i + 1,\n",
    "        )\n",
    "\n",
    "# Updating layout\n",
    "coloraxis = dict(colorscale=\"Portland\", showscale=False)\n",
    "coloraxes = {f\"coloraxis{i + 1}\": coloraxis for i in range(int(((NUMBER_OF_ELEMENTS ** 2) - NUMBER_OF_ELEMENTS) / 2) + 1)}\n",
    "\n",
    "fig.update_layout(\n",
    "    title=\"Element correlation per position\",\n",
    "    height=1200,\n",
    "    width=1200,\n",
    "    **coloraxes,\n",
    ")\n",
    "\n",
    "fig.update_xaxes(showticklabels=False)\n",
    "fig.update_yaxes(showticklabels=False)\n",
    "\n",
    "for i in range(NUMBER_OF_ELEMENTS - 1):\n",
    "    fig.update_xaxes(title_text=f\"p{i}\", side=\"bottom\", row=NUMBER_OF_ELEMENTS - 1, col=i + 1)\n",
    "    fig.update_yaxes(title_text=f\"p{NUMBER_OF_ELEMENTS - i - 1}\", row=NUMBER_OF_ELEMENTS - i - 1, col=1)\n",
    "\n",
    "# Adding dropdown\n",
    "fig.update_layout(\n",
    "    updatemenus=[\n",
    "        dict(\n",
    "            buttons=list([\n",
    "                dict(\n",
    "                    args=[{\"visible\": [True, False]}],\n",
    "                    label=\"Independent Scales\",\n",
    "                ),\n",
    "                dict(\n",
    "                    args=[{\"visible\": [False, True]}],\n",
    "                    label=\"Single Scale\",\n",
    "                ),\n",
    "            ]),\n",
    "            direction=\"down\",\n",
    "            pad={\"r\": 10, \"t\": 10},\n",
    "            showactive=True,\n",
    "            x=1,\n",
    "            xanchor=\"right\",\n",
    "            y=1.1,\n",
    "            yanchor=\"top\"\n",
    "        ),\n",
    "    ]\n",
    ")\n",
    "\n",
    "# Showing figure\n",
    "fig.show()"
   ]
  }
 ],
 "metadata": {
  "interpreter": {
   "hash": "2be5faf79681da6f2a61fdfdd5405d65d042280f7fba6178067603e3a2925119"
  },
  "kernelspec": {
   "display_name": "Python 3.10.1 64-bit",
   "language": "python",
   "name": "python3"
  },
  "language_info": {
   "codemirror_mode": {
    "name": "ipython",
    "version": 3
   },
   "file_extension": ".py",
   "mimetype": "text/x-python",
   "name": "python",
   "nbconvert_exporter": "python",
   "pygments_lexer": "ipython3",
   "version": "3.10.4"
  },
  "orig_nbformat": 4
 },
 "nbformat": 4,
 "nbformat_minor": 2
}
