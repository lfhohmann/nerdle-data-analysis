{
 "cells": [
  {
   "cell_type": "markdown",
   "metadata": {},
   "source": [
    "# **EDA and Pre Processing to simplify further Analysis and Simulations**\n",
    "\n",
    "### Steps:\n",
    "\n",
    "+ Split each equation into separate columns\n",
    "+ Count the amount of unique elements per equation\n",
    "+ Count how many times does an element appear in each equation\n",
    "+ Count the minimum and maximum times an element can appear in all equations\n",
    "+ Count how many times does each element appear in each position across all equations\n",
    "+ Correlate elements\n",
    "+ Correlate elements across positions"
   ]
  },
  {
   "cell_type": "code",
   "execution_count": 5,
   "metadata": {},
   "outputs": [],
   "source": [
    "import plotly.graph_objects as go\n",
    "import plotly.subplots as sp\n",
    "from tqdm import tqdm\n",
    "import pandas as pd\n",
    "import numpy as np\n",
    "\n",
    "\n",
    "pd.set_option('display.max_columns', 100)\n",
    "pd.set_option('display.max_rows', 10)"
   ]
  },
  {
   "cell_type": "markdown",
   "metadata": {},
   "source": [
    "## Defining constants"
   ]
  },
  {
   "cell_type": "code",
   "execution_count": 6,
   "metadata": {},
   "outputs": [],
   "source": [
    "NUMBER_OF_ELEMENTS = 6\n",
    "ELEMENTS = list(\"1234568790+-*/=\")"
   ]
  },
  {
   "cell_type": "markdown",
   "metadata": {},
   "source": [
    "# Loading the data\n",
    "\n",
    "*(And setting the index)*"
   ]
  },
  {
   "cell_type": "code",
   "execution_count": 7,
   "metadata": {},
   "outputs": [
    {
     "data": {
      "text/html": [
       "<div>\n",
       "<style scoped>\n",
       "    .dataframe tbody tr th:only-of-type {\n",
       "        vertical-align: middle;\n",
       "    }\n",
       "\n",
       "    .dataframe tbody tr th {\n",
       "        vertical-align: top;\n",
       "    }\n",
       "\n",
       "    .dataframe thead th {\n",
       "        text-align: right;\n",
       "    }\n",
       "</style>\n",
       "<table border=\"1\" class=\"dataframe\">\n",
       "  <thead>\n",
       "    <tr style=\"text-align: right;\">\n",
       "      <th></th>\n",
       "      <th>equation</th>\n",
       "    </tr>\n",
       "    <tr>\n",
       "      <th>equation</th>\n",
       "      <th></th>\n",
       "    </tr>\n",
       "  </thead>\n",
       "  <tbody>\n",
       "    <tr>\n",
       "      <th>1+9=10</th>\n",
       "      <td>1+9=10</td>\n",
       "    </tr>\n",
       "    <tr>\n",
       "      <th>2+8=10</th>\n",
       "      <td>2+8=10</td>\n",
       "    </tr>\n",
       "    <tr>\n",
       "      <th>2+9=11</th>\n",
       "      <td>2+9=11</td>\n",
       "    </tr>\n",
       "    <tr>\n",
       "      <th>2*5=10</th>\n",
       "      <td>2*5=10</td>\n",
       "    </tr>\n",
       "    <tr>\n",
       "      <th>2*6=12</th>\n",
       "      <td>2*6=12</td>\n",
       "    </tr>\n",
       "    <tr>\n",
       "      <th>...</th>\n",
       "      <td>...</td>\n",
       "    </tr>\n",
       "    <tr>\n",
       "      <th>63/9=7</th>\n",
       "      <td>63/9=7</td>\n",
       "    </tr>\n",
       "    <tr>\n",
       "      <th>64/8=8</th>\n",
       "      <td>64/8=8</td>\n",
       "    </tr>\n",
       "    <tr>\n",
       "      <th>72/8=9</th>\n",
       "      <td>72/8=9</td>\n",
       "    </tr>\n",
       "    <tr>\n",
       "      <th>72/9=8</th>\n",
       "      <td>72/9=8</td>\n",
       "    </tr>\n",
       "    <tr>\n",
       "      <th>81/9=9</th>\n",
       "      <td>81/9=9</td>\n",
       "    </tr>\n",
       "  </tbody>\n",
       "</table>\n",
       "<p>206 rows × 1 columns</p>\n",
       "</div>"
      ],
      "text/plain": [
       "         equation\n",
       "equation         \n",
       "1+9=10     1+9=10\n",
       "2+8=10     2+8=10\n",
       "2+9=11     2+9=11\n",
       "2*5=10     2*5=10\n",
       "2*6=12     2*6=12\n",
       "...           ...\n",
       "63/9=7     63/9=7\n",
       "64/8=8     64/8=8\n",
       "72/8=9     72/8=9\n",
       "72/9=8     72/9=8\n",
       "81/9=9     81/9=9\n",
       "\n",
       "[206 rows x 1 columns]"
      ]
     },
     "execution_count": 7,
     "metadata": {},
     "output_type": "execute_result"
    }
   ],
   "source": [
    "df_raw = pd.read_csv(\"./data/0.raw/equations_mini_nerdle.csv\")\n",
    "df_raw.index = df_raw[\"equation\"]\n",
    "\n",
    "df_raw"
   ]
  },
  {
   "cell_type": "markdown",
   "metadata": {},
   "source": [
    "### Spliting the equations"
   ]
  },
  {
   "cell_type": "code",
   "execution_count": 8,
   "metadata": {},
   "outputs": [
    {
     "data": {
      "text/html": [
       "<div>\n",
       "<style scoped>\n",
       "    .dataframe tbody tr th:only-of-type {\n",
       "        vertical-align: middle;\n",
       "    }\n",
       "\n",
       "    .dataframe tbody tr th {\n",
       "        vertical-align: top;\n",
       "    }\n",
       "\n",
       "    .dataframe thead th {\n",
       "        text-align: right;\n",
       "    }\n",
       "</style>\n",
       "<table border=\"1\" class=\"dataframe\">\n",
       "  <thead>\n",
       "    <tr style=\"text-align: right;\">\n",
       "      <th></th>\n",
       "      <th>p0</th>\n",
       "      <th>p1</th>\n",
       "      <th>p2</th>\n",
       "      <th>p3</th>\n",
       "      <th>p4</th>\n",
       "      <th>p5</th>\n",
       "    </tr>\n",
       "    <tr>\n",
       "      <th>equation</th>\n",
       "      <th></th>\n",
       "      <th></th>\n",
       "      <th></th>\n",
       "      <th></th>\n",
       "      <th></th>\n",
       "      <th></th>\n",
       "    </tr>\n",
       "  </thead>\n",
       "  <tbody>\n",
       "    <tr>\n",
       "      <th>1+9=10</th>\n",
       "      <td>1</td>\n",
       "      <td>+</td>\n",
       "      <td>9</td>\n",
       "      <td>=</td>\n",
       "      <td>1</td>\n",
       "      <td>0</td>\n",
       "    </tr>\n",
       "    <tr>\n",
       "      <th>2+8=10</th>\n",
       "      <td>2</td>\n",
       "      <td>+</td>\n",
       "      <td>8</td>\n",
       "      <td>=</td>\n",
       "      <td>1</td>\n",
       "      <td>0</td>\n",
       "    </tr>\n",
       "    <tr>\n",
       "      <th>2+9=11</th>\n",
       "      <td>2</td>\n",
       "      <td>+</td>\n",
       "      <td>9</td>\n",
       "      <td>=</td>\n",
       "      <td>1</td>\n",
       "      <td>1</td>\n",
       "    </tr>\n",
       "    <tr>\n",
       "      <th>2*5=10</th>\n",
       "      <td>2</td>\n",
       "      <td>*</td>\n",
       "      <td>5</td>\n",
       "      <td>=</td>\n",
       "      <td>1</td>\n",
       "      <td>0</td>\n",
       "    </tr>\n",
       "    <tr>\n",
       "      <th>2*6=12</th>\n",
       "      <td>2</td>\n",
       "      <td>*</td>\n",
       "      <td>6</td>\n",
       "      <td>=</td>\n",
       "      <td>1</td>\n",
       "      <td>2</td>\n",
       "    </tr>\n",
       "    <tr>\n",
       "      <th>...</th>\n",
       "      <td>...</td>\n",
       "      <td>...</td>\n",
       "      <td>...</td>\n",
       "      <td>...</td>\n",
       "      <td>...</td>\n",
       "      <td>...</td>\n",
       "    </tr>\n",
       "    <tr>\n",
       "      <th>63/9=7</th>\n",
       "      <td>6</td>\n",
       "      <td>3</td>\n",
       "      <td>/</td>\n",
       "      <td>9</td>\n",
       "      <td>=</td>\n",
       "      <td>7</td>\n",
       "    </tr>\n",
       "    <tr>\n",
       "      <th>64/8=8</th>\n",
       "      <td>6</td>\n",
       "      <td>4</td>\n",
       "      <td>/</td>\n",
       "      <td>8</td>\n",
       "      <td>=</td>\n",
       "      <td>8</td>\n",
       "    </tr>\n",
       "    <tr>\n",
       "      <th>72/8=9</th>\n",
       "      <td>7</td>\n",
       "      <td>2</td>\n",
       "      <td>/</td>\n",
       "      <td>8</td>\n",
       "      <td>=</td>\n",
       "      <td>9</td>\n",
       "    </tr>\n",
       "    <tr>\n",
       "      <th>72/9=8</th>\n",
       "      <td>7</td>\n",
       "      <td>2</td>\n",
       "      <td>/</td>\n",
       "      <td>9</td>\n",
       "      <td>=</td>\n",
       "      <td>8</td>\n",
       "    </tr>\n",
       "    <tr>\n",
       "      <th>81/9=9</th>\n",
       "      <td>8</td>\n",
       "      <td>1</td>\n",
       "      <td>/</td>\n",
       "      <td>9</td>\n",
       "      <td>=</td>\n",
       "      <td>9</td>\n",
       "    </tr>\n",
       "  </tbody>\n",
       "</table>\n",
       "<p>206 rows × 6 columns</p>\n",
       "</div>"
      ],
      "text/plain": [
       "         p0 p1 p2 p3 p4 p5\n",
       "equation                  \n",
       "1+9=10    1  +  9  =  1  0\n",
       "2+8=10    2  +  8  =  1  0\n",
       "2+9=11    2  +  9  =  1  1\n",
       "2*5=10    2  *  5  =  1  0\n",
       "2*6=12    2  *  6  =  1  2\n",
       "...      .. .. .. .. .. ..\n",
       "63/9=7    6  3  /  9  =  7\n",
       "64/8=8    6  4  /  8  =  8\n",
       "72/8=9    7  2  /  8  =  9\n",
       "72/9=8    7  2  /  9  =  8\n",
       "81/9=9    8  1  /  9  =  9\n",
       "\n",
       "[206 rows x 6 columns]"
      ]
     },
     "execution_count": 8,
     "metadata": {},
     "output_type": "execute_result"
    }
   ],
   "source": [
    "df_positions = pd.DataFrame()\n",
    "\n",
    "# Extract each position\n",
    "for i in range(NUMBER_OF_ELEMENTS):\n",
    "    df_positions[f\"p{i}\"] = df_raw[\"equation\"].str[i].astype(\"category\")\n",
    "\n",
    "\n",
    "df_positions"
   ]
  },
  {
   "cell_type": "markdown",
   "metadata": {},
   "source": [
    "### Counting the number of unique elements per equation"
   ]
  },
  {
   "cell_type": "code",
   "execution_count": 9,
   "metadata": {},
   "outputs": [
    {
     "data": {
      "text/html": [
       "<div>\n",
       "<style scoped>\n",
       "    .dataframe tbody tr th:only-of-type {\n",
       "        vertical-align: middle;\n",
       "    }\n",
       "\n",
       "    .dataframe tbody tr th {\n",
       "        vertical-align: top;\n",
       "    }\n",
       "\n",
       "    .dataframe thead th {\n",
       "        text-align: right;\n",
       "    }\n",
       "</style>\n",
       "<table border=\"1\" class=\"dataframe\">\n",
       "  <thead>\n",
       "    <tr style=\"text-align: right;\">\n",
       "      <th></th>\n",
       "      <th>count</th>\n",
       "    </tr>\n",
       "    <tr>\n",
       "      <th>equation</th>\n",
       "      <th></th>\n",
       "    </tr>\n",
       "  </thead>\n",
       "  <tbody>\n",
       "    <tr>\n",
       "      <th>1+9=10</th>\n",
       "      <td>5</td>\n",
       "    </tr>\n",
       "    <tr>\n",
       "      <th>2+8=10</th>\n",
       "      <td>6</td>\n",
       "    </tr>\n",
       "    <tr>\n",
       "      <th>2+9=11</th>\n",
       "      <td>5</td>\n",
       "    </tr>\n",
       "    <tr>\n",
       "      <th>2*5=10</th>\n",
       "      <td>6</td>\n",
       "    </tr>\n",
       "    <tr>\n",
       "      <th>2*6=12</th>\n",
       "      <td>5</td>\n",
       "    </tr>\n",
       "    <tr>\n",
       "      <th>...</th>\n",
       "      <td>...</td>\n",
       "    </tr>\n",
       "    <tr>\n",
       "      <th>63/9=7</th>\n",
       "      <td>6</td>\n",
       "    </tr>\n",
       "    <tr>\n",
       "      <th>64/8=8</th>\n",
       "      <td>5</td>\n",
       "    </tr>\n",
       "    <tr>\n",
       "      <th>72/8=9</th>\n",
       "      <td>6</td>\n",
       "    </tr>\n",
       "    <tr>\n",
       "      <th>72/9=8</th>\n",
       "      <td>6</td>\n",
       "    </tr>\n",
       "    <tr>\n",
       "      <th>81/9=9</th>\n",
       "      <td>5</td>\n",
       "    </tr>\n",
       "  </tbody>\n",
       "</table>\n",
       "<p>206 rows × 1 columns</p>\n",
       "</div>"
      ],
      "text/plain": [
       "          count\n",
       "equation       \n",
       "1+9=10        5\n",
       "2+8=10        6\n",
       "2+9=11        5\n",
       "2*5=10        6\n",
       "2*6=12        5\n",
       "...         ...\n",
       "63/9=7        6\n",
       "64/8=8        5\n",
       "72/8=9        6\n",
       "72/9=8        6\n",
       "81/9=9        5\n",
       "\n",
       "[206 rows x 1 columns]"
      ]
     },
     "execution_count": 9,
     "metadata": {},
     "output_type": "execute_result"
    }
   ],
   "source": [
    "df_unique = pd.DataFrame()\n",
    "\n",
    "# Compute the number of unique elements\n",
    "df_unique[\"count\"] = df_raw[\"equation\"].apply(lambda x: len(set(x))).astype(\"uint8\")\n",
    "\n",
    "\n",
    "df_unique"
   ]
  },
  {
   "cell_type": "markdown",
   "metadata": {},
   "source": [
    "Checking the distribution of equations by number of unique elements"
   ]
  },
  {
   "cell_type": "code",
   "execution_count": 10,
   "metadata": {},
   "outputs": [
    {
     "data": {
      "application/vnd.plotly.v1+json": {
       "config": {
        "plotlyServerURL": "https://plot.ly"
       },
       "data": [
        {
         "labels": [
          6,
          5,
          4
         ],
         "type": "pie",
         "values": [
          140,
          62,
          4
         ]
        }
       ],
       "layout": {
        "height": 600,
        "template": {
         "data": {
          "bar": [
           {
            "error_x": {
             "color": "#2a3f5f"
            },
            "error_y": {
             "color": "#2a3f5f"
            },
            "marker": {
             "line": {
              "color": "#E5ECF6",
              "width": 0.5
             },
             "pattern": {
              "fillmode": "overlay",
              "size": 10,
              "solidity": 0.2
             }
            },
            "type": "bar"
           }
          ],
          "barpolar": [
           {
            "marker": {
             "line": {
              "color": "#E5ECF6",
              "width": 0.5
             },
             "pattern": {
              "fillmode": "overlay",
              "size": 10,
              "solidity": 0.2
             }
            },
            "type": "barpolar"
           }
          ],
          "carpet": [
           {
            "aaxis": {
             "endlinecolor": "#2a3f5f",
             "gridcolor": "white",
             "linecolor": "white",
             "minorgridcolor": "white",
             "startlinecolor": "#2a3f5f"
            },
            "baxis": {
             "endlinecolor": "#2a3f5f",
             "gridcolor": "white",
             "linecolor": "white",
             "minorgridcolor": "white",
             "startlinecolor": "#2a3f5f"
            },
            "type": "carpet"
           }
          ],
          "choropleth": [
           {
            "colorbar": {
             "outlinewidth": 0,
             "ticks": ""
            },
            "type": "choropleth"
           }
          ],
          "contour": [
           {
            "colorbar": {
             "outlinewidth": 0,
             "ticks": ""
            },
            "colorscale": [
             [
              0,
              "#0d0887"
             ],
             [
              0.1111111111111111,
              "#46039f"
             ],
             [
              0.2222222222222222,
              "#7201a8"
             ],
             [
              0.3333333333333333,
              "#9c179e"
             ],
             [
              0.4444444444444444,
              "#bd3786"
             ],
             [
              0.5555555555555556,
              "#d8576b"
             ],
             [
              0.6666666666666666,
              "#ed7953"
             ],
             [
              0.7777777777777778,
              "#fb9f3a"
             ],
             [
              0.8888888888888888,
              "#fdca26"
             ],
             [
              1,
              "#f0f921"
             ]
            ],
            "type": "contour"
           }
          ],
          "contourcarpet": [
           {
            "colorbar": {
             "outlinewidth": 0,
             "ticks": ""
            },
            "type": "contourcarpet"
           }
          ],
          "heatmap": [
           {
            "colorbar": {
             "outlinewidth": 0,
             "ticks": ""
            },
            "colorscale": [
             [
              0,
              "#0d0887"
             ],
             [
              0.1111111111111111,
              "#46039f"
             ],
             [
              0.2222222222222222,
              "#7201a8"
             ],
             [
              0.3333333333333333,
              "#9c179e"
             ],
             [
              0.4444444444444444,
              "#bd3786"
             ],
             [
              0.5555555555555556,
              "#d8576b"
             ],
             [
              0.6666666666666666,
              "#ed7953"
             ],
             [
              0.7777777777777778,
              "#fb9f3a"
             ],
             [
              0.8888888888888888,
              "#fdca26"
             ],
             [
              1,
              "#f0f921"
             ]
            ],
            "type": "heatmap"
           }
          ],
          "heatmapgl": [
           {
            "colorbar": {
             "outlinewidth": 0,
             "ticks": ""
            },
            "colorscale": [
             [
              0,
              "#0d0887"
             ],
             [
              0.1111111111111111,
              "#46039f"
             ],
             [
              0.2222222222222222,
              "#7201a8"
             ],
             [
              0.3333333333333333,
              "#9c179e"
             ],
             [
              0.4444444444444444,
              "#bd3786"
             ],
             [
              0.5555555555555556,
              "#d8576b"
             ],
             [
              0.6666666666666666,
              "#ed7953"
             ],
             [
              0.7777777777777778,
              "#fb9f3a"
             ],
             [
              0.8888888888888888,
              "#fdca26"
             ],
             [
              1,
              "#f0f921"
             ]
            ],
            "type": "heatmapgl"
           }
          ],
          "histogram": [
           {
            "marker": {
             "pattern": {
              "fillmode": "overlay",
              "size": 10,
              "solidity": 0.2
             }
            },
            "type": "histogram"
           }
          ],
          "histogram2d": [
           {
            "colorbar": {
             "outlinewidth": 0,
             "ticks": ""
            },
            "colorscale": [
             [
              0,
              "#0d0887"
             ],
             [
              0.1111111111111111,
              "#46039f"
             ],
             [
              0.2222222222222222,
              "#7201a8"
             ],
             [
              0.3333333333333333,
              "#9c179e"
             ],
             [
              0.4444444444444444,
              "#bd3786"
             ],
             [
              0.5555555555555556,
              "#d8576b"
             ],
             [
              0.6666666666666666,
              "#ed7953"
             ],
             [
              0.7777777777777778,
              "#fb9f3a"
             ],
             [
              0.8888888888888888,
              "#fdca26"
             ],
             [
              1,
              "#f0f921"
             ]
            ],
            "type": "histogram2d"
           }
          ],
          "histogram2dcontour": [
           {
            "colorbar": {
             "outlinewidth": 0,
             "ticks": ""
            },
            "colorscale": [
             [
              0,
              "#0d0887"
             ],
             [
              0.1111111111111111,
              "#46039f"
             ],
             [
              0.2222222222222222,
              "#7201a8"
             ],
             [
              0.3333333333333333,
              "#9c179e"
             ],
             [
              0.4444444444444444,
              "#bd3786"
             ],
             [
              0.5555555555555556,
              "#d8576b"
             ],
             [
              0.6666666666666666,
              "#ed7953"
             ],
             [
              0.7777777777777778,
              "#fb9f3a"
             ],
             [
              0.8888888888888888,
              "#fdca26"
             ],
             [
              1,
              "#f0f921"
             ]
            ],
            "type": "histogram2dcontour"
           }
          ],
          "mesh3d": [
           {
            "colorbar": {
             "outlinewidth": 0,
             "ticks": ""
            },
            "type": "mesh3d"
           }
          ],
          "parcoords": [
           {
            "line": {
             "colorbar": {
              "outlinewidth": 0,
              "ticks": ""
             }
            },
            "type": "parcoords"
           }
          ],
          "pie": [
           {
            "automargin": true,
            "type": "pie"
           }
          ],
          "scatter": [
           {
            "fillpattern": {
             "fillmode": "overlay",
             "size": 10,
             "solidity": 0.2
            },
            "type": "scatter"
           }
          ],
          "scatter3d": [
           {
            "line": {
             "colorbar": {
              "outlinewidth": 0,
              "ticks": ""
             }
            },
            "marker": {
             "colorbar": {
              "outlinewidth": 0,
              "ticks": ""
             }
            },
            "type": "scatter3d"
           }
          ],
          "scattercarpet": [
           {
            "marker": {
             "colorbar": {
              "outlinewidth": 0,
              "ticks": ""
             }
            },
            "type": "scattercarpet"
           }
          ],
          "scattergeo": [
           {
            "marker": {
             "colorbar": {
              "outlinewidth": 0,
              "ticks": ""
             }
            },
            "type": "scattergeo"
           }
          ],
          "scattergl": [
           {
            "marker": {
             "colorbar": {
              "outlinewidth": 0,
              "ticks": ""
             }
            },
            "type": "scattergl"
           }
          ],
          "scattermapbox": [
           {
            "marker": {
             "colorbar": {
              "outlinewidth": 0,
              "ticks": ""
             }
            },
            "type": "scattermapbox"
           }
          ],
          "scatterpolar": [
           {
            "marker": {
             "colorbar": {
              "outlinewidth": 0,
              "ticks": ""
             }
            },
            "type": "scatterpolar"
           }
          ],
          "scatterpolargl": [
           {
            "marker": {
             "colorbar": {
              "outlinewidth": 0,
              "ticks": ""
             }
            },
            "type": "scatterpolargl"
           }
          ],
          "scatterternary": [
           {
            "marker": {
             "colorbar": {
              "outlinewidth": 0,
              "ticks": ""
             }
            },
            "type": "scatterternary"
           }
          ],
          "surface": [
           {
            "colorbar": {
             "outlinewidth": 0,
             "ticks": ""
            },
            "colorscale": [
             [
              0,
              "#0d0887"
             ],
             [
              0.1111111111111111,
              "#46039f"
             ],
             [
              0.2222222222222222,
              "#7201a8"
             ],
             [
              0.3333333333333333,
              "#9c179e"
             ],
             [
              0.4444444444444444,
              "#bd3786"
             ],
             [
              0.5555555555555556,
              "#d8576b"
             ],
             [
              0.6666666666666666,
              "#ed7953"
             ],
             [
              0.7777777777777778,
              "#fb9f3a"
             ],
             [
              0.8888888888888888,
              "#fdca26"
             ],
             [
              1,
              "#f0f921"
             ]
            ],
            "type": "surface"
           }
          ],
          "table": [
           {
            "cells": {
             "fill": {
              "color": "#EBF0F8"
             },
             "line": {
              "color": "white"
             }
            },
            "header": {
             "fill": {
              "color": "#C8D4E3"
             },
             "line": {
              "color": "white"
             }
            },
            "type": "table"
           }
          ]
         },
         "layout": {
          "annotationdefaults": {
           "arrowcolor": "#2a3f5f",
           "arrowhead": 0,
           "arrowwidth": 1
          },
          "autotypenumbers": "strict",
          "coloraxis": {
           "colorbar": {
            "outlinewidth": 0,
            "ticks": ""
           }
          },
          "colorscale": {
           "diverging": [
            [
             0,
             "#8e0152"
            ],
            [
             0.1,
             "#c51b7d"
            ],
            [
             0.2,
             "#de77ae"
            ],
            [
             0.3,
             "#f1b6da"
            ],
            [
             0.4,
             "#fde0ef"
            ],
            [
             0.5,
             "#f7f7f7"
            ],
            [
             0.6,
             "#e6f5d0"
            ],
            [
             0.7,
             "#b8e186"
            ],
            [
             0.8,
             "#7fbc41"
            ],
            [
             0.9,
             "#4d9221"
            ],
            [
             1,
             "#276419"
            ]
           ],
           "sequential": [
            [
             0,
             "#0d0887"
            ],
            [
             0.1111111111111111,
             "#46039f"
            ],
            [
             0.2222222222222222,
             "#7201a8"
            ],
            [
             0.3333333333333333,
             "#9c179e"
            ],
            [
             0.4444444444444444,
             "#bd3786"
            ],
            [
             0.5555555555555556,
             "#d8576b"
            ],
            [
             0.6666666666666666,
             "#ed7953"
            ],
            [
             0.7777777777777778,
             "#fb9f3a"
            ],
            [
             0.8888888888888888,
             "#fdca26"
            ],
            [
             1,
             "#f0f921"
            ]
           ],
           "sequentialminus": [
            [
             0,
             "#0d0887"
            ],
            [
             0.1111111111111111,
             "#46039f"
            ],
            [
             0.2222222222222222,
             "#7201a8"
            ],
            [
             0.3333333333333333,
             "#9c179e"
            ],
            [
             0.4444444444444444,
             "#bd3786"
            ],
            [
             0.5555555555555556,
             "#d8576b"
            ],
            [
             0.6666666666666666,
             "#ed7953"
            ],
            [
             0.7777777777777778,
             "#fb9f3a"
            ],
            [
             0.8888888888888888,
             "#fdca26"
            ],
            [
             1,
             "#f0f921"
            ]
           ]
          },
          "colorway": [
           "#636efa",
           "#EF553B",
           "#00cc96",
           "#ab63fa",
           "#FFA15A",
           "#19d3f3",
           "#FF6692",
           "#B6E880",
           "#FF97FF",
           "#FECB52"
          ],
          "font": {
           "color": "#2a3f5f"
          },
          "geo": {
           "bgcolor": "white",
           "lakecolor": "white",
           "landcolor": "#E5ECF6",
           "showlakes": true,
           "showland": true,
           "subunitcolor": "white"
          },
          "hoverlabel": {
           "align": "left"
          },
          "hovermode": "closest",
          "mapbox": {
           "style": "light"
          },
          "paper_bgcolor": "white",
          "plot_bgcolor": "#E5ECF6",
          "polar": {
           "angularaxis": {
            "gridcolor": "white",
            "linecolor": "white",
            "ticks": ""
           },
           "bgcolor": "#E5ECF6",
           "radialaxis": {
            "gridcolor": "white",
            "linecolor": "white",
            "ticks": ""
           }
          },
          "scene": {
           "xaxis": {
            "backgroundcolor": "#E5ECF6",
            "gridcolor": "white",
            "gridwidth": 2,
            "linecolor": "white",
            "showbackground": true,
            "ticks": "",
            "zerolinecolor": "white"
           },
           "yaxis": {
            "backgroundcolor": "#E5ECF6",
            "gridcolor": "white",
            "gridwidth": 2,
            "linecolor": "white",
            "showbackground": true,
            "ticks": "",
            "zerolinecolor": "white"
           },
           "zaxis": {
            "backgroundcolor": "#E5ECF6",
            "gridcolor": "white",
            "gridwidth": 2,
            "linecolor": "white",
            "showbackground": true,
            "ticks": "",
            "zerolinecolor": "white"
           }
          },
          "shapedefaults": {
           "line": {
            "color": "#2a3f5f"
           }
          },
          "ternary": {
           "aaxis": {
            "gridcolor": "white",
            "linecolor": "white",
            "ticks": ""
           },
           "baxis": {
            "gridcolor": "white",
            "linecolor": "white",
            "ticks": ""
           },
           "bgcolor": "#E5ECF6",
           "caxis": {
            "gridcolor": "white",
            "linecolor": "white",
            "ticks": ""
           }
          },
          "title": {
           "x": 0.05
          },
          "xaxis": {
           "automargin": true,
           "gridcolor": "white",
           "linecolor": "white",
           "ticks": "",
           "title": {
            "standoff": 15
           },
           "zerolinecolor": "white",
           "zerolinewidth": 2
          },
          "yaxis": {
           "automargin": true,
           "gridcolor": "white",
           "linecolor": "white",
           "ticks": "",
           "title": {
            "standoff": 15
           },
           "zerolinecolor": "white",
           "zerolinewidth": 2
          }
         }
        },
        "title": {
         "text": "Unique elements distribution"
        },
        "width": 600
       }
      }
     },
     "metadata": {},
     "output_type": "display_data"
    }
   ],
   "source": [
    "# Counting unique elements distribution\n",
    "df_temp = df_unique[\"count\"].value_counts()\n",
    "\n",
    "# Creating figure\n",
    "fig = go.Figure()\n",
    "\n",
    "# Adding trace\n",
    "fig.add_trace(\n",
    "    go.Pie(\n",
    "        labels=df_temp.index,\n",
    "        values=df_temp,\n",
    "    )\n",
    ")\n",
    "\n",
    "# Updating the layout\n",
    "fig.update_layout(\n",
    "    title=\"Unique elements distribution\",\n",
    "    height=600,\n",
    "    width=600,\n",
    ")\n",
    "\n",
    "# Showing the figure\n",
    "fig.show()"
   ]
  },
  {
   "cell_type": "markdown",
   "metadata": {},
   "source": [
    "Checking the mean element *\"uniqueness\"*"
   ]
  },
  {
   "cell_type": "code",
   "execution_count": 11,
   "metadata": {},
   "outputs": [
    {
     "data": {
      "text/plain": [
       "5.660194174757281"
      ]
     },
     "execution_count": 11,
     "metadata": {},
     "output_type": "execute_result"
    }
   ],
   "source": [
    "df_unique[\"count\"].mean()"
   ]
  },
  {
   "cell_type": "markdown",
   "metadata": {},
   "source": [
    "### Counting the amount of each element in each equation"
   ]
  },
  {
   "cell_type": "code",
   "execution_count": 12,
   "metadata": {},
   "outputs": [
    {
     "data": {
      "text/html": [
       "<div>\n",
       "<style scoped>\n",
       "    .dataframe tbody tr th:only-of-type {\n",
       "        vertical-align: middle;\n",
       "    }\n",
       "\n",
       "    .dataframe tbody tr th {\n",
       "        vertical-align: top;\n",
       "    }\n",
       "\n",
       "    .dataframe thead th {\n",
       "        text-align: right;\n",
       "    }\n",
       "</style>\n",
       "<table border=\"1\" class=\"dataframe\">\n",
       "  <thead>\n",
       "    <tr style=\"text-align: right;\">\n",
       "      <th></th>\n",
       "      <th>1</th>\n",
       "      <th>2</th>\n",
       "      <th>3</th>\n",
       "      <th>4</th>\n",
       "      <th>5</th>\n",
       "      <th>6</th>\n",
       "      <th>8</th>\n",
       "      <th>7</th>\n",
       "      <th>9</th>\n",
       "      <th>0</th>\n",
       "      <th>+</th>\n",
       "      <th>-</th>\n",
       "      <th>*</th>\n",
       "      <th>/</th>\n",
       "      <th>=</th>\n",
       "    </tr>\n",
       "    <tr>\n",
       "      <th>equation</th>\n",
       "      <th></th>\n",
       "      <th></th>\n",
       "      <th></th>\n",
       "      <th></th>\n",
       "      <th></th>\n",
       "      <th></th>\n",
       "      <th></th>\n",
       "      <th></th>\n",
       "      <th></th>\n",
       "      <th></th>\n",
       "      <th></th>\n",
       "      <th></th>\n",
       "      <th></th>\n",
       "      <th></th>\n",
       "      <th></th>\n",
       "    </tr>\n",
       "  </thead>\n",
       "  <tbody>\n",
       "    <tr>\n",
       "      <th>1+9=10</th>\n",
       "      <td>2</td>\n",
       "      <td>0</td>\n",
       "      <td>0</td>\n",
       "      <td>0</td>\n",
       "      <td>0</td>\n",
       "      <td>0</td>\n",
       "      <td>0</td>\n",
       "      <td>0</td>\n",
       "      <td>1</td>\n",
       "      <td>1</td>\n",
       "      <td>1</td>\n",
       "      <td>0</td>\n",
       "      <td>0</td>\n",
       "      <td>0</td>\n",
       "      <td>1</td>\n",
       "    </tr>\n",
       "    <tr>\n",
       "      <th>2+8=10</th>\n",
       "      <td>1</td>\n",
       "      <td>1</td>\n",
       "      <td>0</td>\n",
       "      <td>0</td>\n",
       "      <td>0</td>\n",
       "      <td>0</td>\n",
       "      <td>1</td>\n",
       "      <td>0</td>\n",
       "      <td>0</td>\n",
       "      <td>1</td>\n",
       "      <td>1</td>\n",
       "      <td>0</td>\n",
       "      <td>0</td>\n",
       "      <td>0</td>\n",
       "      <td>1</td>\n",
       "    </tr>\n",
       "    <tr>\n",
       "      <th>2+9=11</th>\n",
       "      <td>2</td>\n",
       "      <td>1</td>\n",
       "      <td>0</td>\n",
       "      <td>0</td>\n",
       "      <td>0</td>\n",
       "      <td>0</td>\n",
       "      <td>0</td>\n",
       "      <td>0</td>\n",
       "      <td>1</td>\n",
       "      <td>0</td>\n",
       "      <td>1</td>\n",
       "      <td>0</td>\n",
       "      <td>0</td>\n",
       "      <td>0</td>\n",
       "      <td>1</td>\n",
       "    </tr>\n",
       "    <tr>\n",
       "      <th>2*5=10</th>\n",
       "      <td>1</td>\n",
       "      <td>1</td>\n",
       "      <td>0</td>\n",
       "      <td>0</td>\n",
       "      <td>1</td>\n",
       "      <td>0</td>\n",
       "      <td>0</td>\n",
       "      <td>0</td>\n",
       "      <td>0</td>\n",
       "      <td>1</td>\n",
       "      <td>0</td>\n",
       "      <td>0</td>\n",
       "      <td>1</td>\n",
       "      <td>0</td>\n",
       "      <td>1</td>\n",
       "    </tr>\n",
       "    <tr>\n",
       "      <th>2*6=12</th>\n",
       "      <td>1</td>\n",
       "      <td>2</td>\n",
       "      <td>0</td>\n",
       "      <td>0</td>\n",
       "      <td>0</td>\n",
       "      <td>1</td>\n",
       "      <td>0</td>\n",
       "      <td>0</td>\n",
       "      <td>0</td>\n",
       "      <td>0</td>\n",
       "      <td>0</td>\n",
       "      <td>0</td>\n",
       "      <td>1</td>\n",
       "      <td>0</td>\n",
       "      <td>1</td>\n",
       "    </tr>\n",
       "    <tr>\n",
       "      <th>...</th>\n",
       "      <td>...</td>\n",
       "      <td>...</td>\n",
       "      <td>...</td>\n",
       "      <td>...</td>\n",
       "      <td>...</td>\n",
       "      <td>...</td>\n",
       "      <td>...</td>\n",
       "      <td>...</td>\n",
       "      <td>...</td>\n",
       "      <td>...</td>\n",
       "      <td>...</td>\n",
       "      <td>...</td>\n",
       "      <td>...</td>\n",
       "      <td>...</td>\n",
       "      <td>...</td>\n",
       "    </tr>\n",
       "    <tr>\n",
       "      <th>63/9=7</th>\n",
       "      <td>0</td>\n",
       "      <td>0</td>\n",
       "      <td>1</td>\n",
       "      <td>0</td>\n",
       "      <td>0</td>\n",
       "      <td>1</td>\n",
       "      <td>0</td>\n",
       "      <td>1</td>\n",
       "      <td>1</td>\n",
       "      <td>0</td>\n",
       "      <td>0</td>\n",
       "      <td>0</td>\n",
       "      <td>0</td>\n",
       "      <td>1</td>\n",
       "      <td>1</td>\n",
       "    </tr>\n",
       "    <tr>\n",
       "      <th>64/8=8</th>\n",
       "      <td>0</td>\n",
       "      <td>0</td>\n",
       "      <td>0</td>\n",
       "      <td>1</td>\n",
       "      <td>0</td>\n",
       "      <td>1</td>\n",
       "      <td>2</td>\n",
       "      <td>0</td>\n",
       "      <td>0</td>\n",
       "      <td>0</td>\n",
       "      <td>0</td>\n",
       "      <td>0</td>\n",
       "      <td>0</td>\n",
       "      <td>1</td>\n",
       "      <td>1</td>\n",
       "    </tr>\n",
       "    <tr>\n",
       "      <th>72/8=9</th>\n",
       "      <td>0</td>\n",
       "      <td>1</td>\n",
       "      <td>0</td>\n",
       "      <td>0</td>\n",
       "      <td>0</td>\n",
       "      <td>0</td>\n",
       "      <td>1</td>\n",
       "      <td>1</td>\n",
       "      <td>1</td>\n",
       "      <td>0</td>\n",
       "      <td>0</td>\n",
       "      <td>0</td>\n",
       "      <td>0</td>\n",
       "      <td>1</td>\n",
       "      <td>1</td>\n",
       "    </tr>\n",
       "    <tr>\n",
       "      <th>72/9=8</th>\n",
       "      <td>0</td>\n",
       "      <td>1</td>\n",
       "      <td>0</td>\n",
       "      <td>0</td>\n",
       "      <td>0</td>\n",
       "      <td>0</td>\n",
       "      <td>1</td>\n",
       "      <td>1</td>\n",
       "      <td>1</td>\n",
       "      <td>0</td>\n",
       "      <td>0</td>\n",
       "      <td>0</td>\n",
       "      <td>0</td>\n",
       "      <td>1</td>\n",
       "      <td>1</td>\n",
       "    </tr>\n",
       "    <tr>\n",
       "      <th>81/9=9</th>\n",
       "      <td>1</td>\n",
       "      <td>0</td>\n",
       "      <td>0</td>\n",
       "      <td>0</td>\n",
       "      <td>0</td>\n",
       "      <td>0</td>\n",
       "      <td>1</td>\n",
       "      <td>0</td>\n",
       "      <td>2</td>\n",
       "      <td>0</td>\n",
       "      <td>0</td>\n",
       "      <td>0</td>\n",
       "      <td>0</td>\n",
       "      <td>1</td>\n",
       "      <td>1</td>\n",
       "    </tr>\n",
       "  </tbody>\n",
       "</table>\n",
       "<p>206 rows × 15 columns</p>\n",
       "</div>"
      ],
      "text/plain": [
       "          1  2  3  4  5  6  8  7  9  0  +  -  *  /  =\n",
       "equation                                             \n",
       "1+9=10    2  0  0  0  0  0  0  0  1  1  1  0  0  0  1\n",
       "2+8=10    1  1  0  0  0  0  1  0  0  1  1  0  0  0  1\n",
       "2+9=11    2  1  0  0  0  0  0  0  1  0  1  0  0  0  1\n",
       "2*5=10    1  1  0  0  1  0  0  0  0  1  0  0  1  0  1\n",
       "2*6=12    1  2  0  0  0  1  0  0  0  0  0  0  1  0  1\n",
       "...      .. .. .. .. .. .. .. .. .. .. .. .. .. .. ..\n",
       "63/9=7    0  0  1  0  0  1  0  1  1  0  0  0  0  1  1\n",
       "64/8=8    0  0  0  1  0  1  2  0  0  0  0  0  0  1  1\n",
       "72/8=9    0  1  0  0  0  0  1  1  1  0  0  0  0  1  1\n",
       "72/9=8    0  1  0  0  0  0  1  1  1  0  0  0  0  1  1\n",
       "81/9=9    1  0  0  0  0  0  1  0  2  0  0  0  0  1  1\n",
       "\n",
       "[206 rows x 15 columns]"
      ]
     },
     "execution_count": 12,
     "metadata": {},
     "output_type": "execute_result"
    }
   ],
   "source": [
    "df_elements = pd.DataFrame()\n",
    "\n",
    "# Compute the element count in each equation\n",
    "for element in ELEMENTS:\n",
    "    df_elements[element] = df_raw[\"equation\"].apply(lambda x: x.count(element)).astype(\"uint8\")\n",
    "\n",
    "\n",
    "df_elements"
   ]
  },
  {
   "cell_type": "markdown",
   "metadata": {},
   "source": [
    "## Joining all DataFrames"
   ]
  },
  {
   "cell_type": "code",
   "execution_count": 13,
   "metadata": {},
   "outputs": [
    {
     "data": {
      "text/html": [
       "<div>\n",
       "<style scoped>\n",
       "    .dataframe tbody tr th:only-of-type {\n",
       "        vertical-align: middle;\n",
       "    }\n",
       "\n",
       "    .dataframe tbody tr th {\n",
       "        vertical-align: top;\n",
       "    }\n",
       "\n",
       "    .dataframe thead tr th {\n",
       "        text-align: left;\n",
       "    }\n",
       "\n",
       "    .dataframe thead tr:last-of-type th {\n",
       "        text-align: right;\n",
       "    }\n",
       "</style>\n",
       "<table border=\"1\" class=\"dataframe\">\n",
       "  <thead>\n",
       "    <tr>\n",
       "      <th></th>\n",
       "      <th colspan=\"6\" halign=\"left\">positions</th>\n",
       "      <th>unique</th>\n",
       "      <th colspan=\"15\" halign=\"left\">elements</th>\n",
       "    </tr>\n",
       "    <tr>\n",
       "      <th></th>\n",
       "      <th>p0</th>\n",
       "      <th>p1</th>\n",
       "      <th>p2</th>\n",
       "      <th>p3</th>\n",
       "      <th>p4</th>\n",
       "      <th>p5</th>\n",
       "      <th>count</th>\n",
       "      <th>1</th>\n",
       "      <th>2</th>\n",
       "      <th>3</th>\n",
       "      <th>4</th>\n",
       "      <th>5</th>\n",
       "      <th>6</th>\n",
       "      <th>8</th>\n",
       "      <th>7</th>\n",
       "      <th>9</th>\n",
       "      <th>0</th>\n",
       "      <th>+</th>\n",
       "      <th>-</th>\n",
       "      <th>*</th>\n",
       "      <th>/</th>\n",
       "      <th>=</th>\n",
       "    </tr>\n",
       "    <tr>\n",
       "      <th>equation</th>\n",
       "      <th></th>\n",
       "      <th></th>\n",
       "      <th></th>\n",
       "      <th></th>\n",
       "      <th></th>\n",
       "      <th></th>\n",
       "      <th></th>\n",
       "      <th></th>\n",
       "      <th></th>\n",
       "      <th></th>\n",
       "      <th></th>\n",
       "      <th></th>\n",
       "      <th></th>\n",
       "      <th></th>\n",
       "      <th></th>\n",
       "      <th></th>\n",
       "      <th></th>\n",
       "      <th></th>\n",
       "      <th></th>\n",
       "      <th></th>\n",
       "      <th></th>\n",
       "      <th></th>\n",
       "    </tr>\n",
       "  </thead>\n",
       "  <tbody>\n",
       "    <tr>\n",
       "      <th>1+9=10</th>\n",
       "      <td>1</td>\n",
       "      <td>+</td>\n",
       "      <td>9</td>\n",
       "      <td>=</td>\n",
       "      <td>1</td>\n",
       "      <td>0</td>\n",
       "      <td>5</td>\n",
       "      <td>2</td>\n",
       "      <td>0</td>\n",
       "      <td>0</td>\n",
       "      <td>0</td>\n",
       "      <td>0</td>\n",
       "      <td>0</td>\n",
       "      <td>0</td>\n",
       "      <td>0</td>\n",
       "      <td>1</td>\n",
       "      <td>1</td>\n",
       "      <td>1</td>\n",
       "      <td>0</td>\n",
       "      <td>0</td>\n",
       "      <td>0</td>\n",
       "      <td>1</td>\n",
       "    </tr>\n",
       "    <tr>\n",
       "      <th>2+8=10</th>\n",
       "      <td>2</td>\n",
       "      <td>+</td>\n",
       "      <td>8</td>\n",
       "      <td>=</td>\n",
       "      <td>1</td>\n",
       "      <td>0</td>\n",
       "      <td>6</td>\n",
       "      <td>1</td>\n",
       "      <td>1</td>\n",
       "      <td>0</td>\n",
       "      <td>0</td>\n",
       "      <td>0</td>\n",
       "      <td>0</td>\n",
       "      <td>1</td>\n",
       "      <td>0</td>\n",
       "      <td>0</td>\n",
       "      <td>1</td>\n",
       "      <td>1</td>\n",
       "      <td>0</td>\n",
       "      <td>0</td>\n",
       "      <td>0</td>\n",
       "      <td>1</td>\n",
       "    </tr>\n",
       "    <tr>\n",
       "      <th>2+9=11</th>\n",
       "      <td>2</td>\n",
       "      <td>+</td>\n",
       "      <td>9</td>\n",
       "      <td>=</td>\n",
       "      <td>1</td>\n",
       "      <td>1</td>\n",
       "      <td>5</td>\n",
       "      <td>2</td>\n",
       "      <td>1</td>\n",
       "      <td>0</td>\n",
       "      <td>0</td>\n",
       "      <td>0</td>\n",
       "      <td>0</td>\n",
       "      <td>0</td>\n",
       "      <td>0</td>\n",
       "      <td>1</td>\n",
       "      <td>0</td>\n",
       "      <td>1</td>\n",
       "      <td>0</td>\n",
       "      <td>0</td>\n",
       "      <td>0</td>\n",
       "      <td>1</td>\n",
       "    </tr>\n",
       "    <tr>\n",
       "      <th>2*5=10</th>\n",
       "      <td>2</td>\n",
       "      <td>*</td>\n",
       "      <td>5</td>\n",
       "      <td>=</td>\n",
       "      <td>1</td>\n",
       "      <td>0</td>\n",
       "      <td>6</td>\n",
       "      <td>1</td>\n",
       "      <td>1</td>\n",
       "      <td>0</td>\n",
       "      <td>0</td>\n",
       "      <td>1</td>\n",
       "      <td>0</td>\n",
       "      <td>0</td>\n",
       "      <td>0</td>\n",
       "      <td>0</td>\n",
       "      <td>1</td>\n",
       "      <td>0</td>\n",
       "      <td>0</td>\n",
       "      <td>1</td>\n",
       "      <td>0</td>\n",
       "      <td>1</td>\n",
       "    </tr>\n",
       "    <tr>\n",
       "      <th>2*6=12</th>\n",
       "      <td>2</td>\n",
       "      <td>*</td>\n",
       "      <td>6</td>\n",
       "      <td>=</td>\n",
       "      <td>1</td>\n",
       "      <td>2</td>\n",
       "      <td>5</td>\n",
       "      <td>1</td>\n",
       "      <td>2</td>\n",
       "      <td>0</td>\n",
       "      <td>0</td>\n",
       "      <td>0</td>\n",
       "      <td>1</td>\n",
       "      <td>0</td>\n",
       "      <td>0</td>\n",
       "      <td>0</td>\n",
       "      <td>0</td>\n",
       "      <td>0</td>\n",
       "      <td>0</td>\n",
       "      <td>1</td>\n",
       "      <td>0</td>\n",
       "      <td>1</td>\n",
       "    </tr>\n",
       "  </tbody>\n",
       "</table>\n",
       "</div>"
      ],
      "text/plain": [
       "         positions                unique elements                             \\\n",
       "                p0 p1 p2 p3 p4 p5  count        1  2  3  4  5  6  8  7  9  0   \n",
       "equation                                                                       \n",
       "1+9=10           1  +  9  =  1  0      5        2  0  0  0  0  0  0  0  1  1   \n",
       "2+8=10           2  +  8  =  1  0      6        1  1  0  0  0  0  1  0  0  1   \n",
       "2+9=11           2  +  9  =  1  1      5        2  1  0  0  0  0  0  0  1  0   \n",
       "2*5=10           2  *  5  =  1  0      6        1  1  0  0  1  0  0  0  0  1   \n",
       "2*6=12           2  *  6  =  1  2      5        1  2  0  0  0  1  0  0  0  0   \n",
       "\n",
       "                         \n",
       "          +  -  *  /  =  \n",
       "equation                 \n",
       "1+9=10    1  0  0  0  1  \n",
       "2+8=10    1  0  0  0  1  \n",
       "2+9=11    1  0  0  0  1  \n",
       "2*5=10    0  0  1  0  1  \n",
       "2*6=12    0  0  1  0  1  "
      ]
     },
     "execution_count": 13,
     "metadata": {},
     "output_type": "execute_result"
    }
   ],
   "source": [
    "# Concatenating the DataFrames into a multi-indexed single one\n",
    "df = pd.concat([df_positions, df_unique, df_elements], axis=1, keys=['positions', 'unique', 'elements'])\n",
    "\n",
    "df.head()"
   ]
  },
  {
   "cell_type": "markdown",
   "metadata": {},
   "source": [
    "# Counting element occurances"
   ]
  },
  {
   "cell_type": "code",
   "execution_count": 14,
   "metadata": {},
   "outputs": [
    {
     "data": {
      "text/html": [
       "<div>\n",
       "<style scoped>\n",
       "    .dataframe tbody tr th:only-of-type {\n",
       "        vertical-align: middle;\n",
       "    }\n",
       "\n",
       "    .dataframe tbody tr th {\n",
       "        vertical-align: top;\n",
       "    }\n",
       "\n",
       "    .dataframe thead th {\n",
       "        text-align: right;\n",
       "    }\n",
       "</style>\n",
       "<table border=\"1\" class=\"dataframe\">\n",
       "  <thead>\n",
       "    <tr style=\"text-align: right;\">\n",
       "      <th></th>\n",
       "      <th>1</th>\n",
       "      <th>0</th>\n",
       "      <th>2</th>\n",
       "      <th>3</th>\n",
       "    </tr>\n",
       "  </thead>\n",
       "  <tbody>\n",
       "    <tr>\n",
       "      <th>1</th>\n",
       "      <td>110</td>\n",
       "      <td>76</td>\n",
       "      <td>20</td>\n",
       "      <td>0</td>\n",
       "    </tr>\n",
       "    <tr>\n",
       "      <th>2</th>\n",
       "      <td>80</td>\n",
       "      <td>122</td>\n",
       "      <td>4</td>\n",
       "      <td>0</td>\n",
       "    </tr>\n",
       "    <tr>\n",
       "      <th>3</th>\n",
       "      <td>70</td>\n",
       "      <td>136</td>\n",
       "      <td>0</td>\n",
       "      <td>0</td>\n",
       "    </tr>\n",
       "    <tr>\n",
       "      <th>4</th>\n",
       "      <td>78</td>\n",
       "      <td>122</td>\n",
       "      <td>6</td>\n",
       "      <td>0</td>\n",
       "    </tr>\n",
       "    <tr>\n",
       "      <th>5</th>\n",
       "      <td>48</td>\n",
       "      <td>142</td>\n",
       "      <td>14</td>\n",
       "      <td>2</td>\n",
       "    </tr>\n",
       "    <tr>\n",
       "      <th>...</th>\n",
       "      <td>...</td>\n",
       "      <td>...</td>\n",
       "      <td>...</td>\n",
       "      <td>...</td>\n",
       "    </tr>\n",
       "    <tr>\n",
       "      <th>+</th>\n",
       "      <td>45</td>\n",
       "      <td>161</td>\n",
       "      <td>0</td>\n",
       "      <td>0</td>\n",
       "    </tr>\n",
       "    <tr>\n",
       "      <th>-</th>\n",
       "      <td>45</td>\n",
       "      <td>161</td>\n",
       "      <td>0</td>\n",
       "      <td>0</td>\n",
       "    </tr>\n",
       "    <tr>\n",
       "      <th>*</th>\n",
       "      <td>58</td>\n",
       "      <td>148</td>\n",
       "      <td>0</td>\n",
       "      <td>0</td>\n",
       "    </tr>\n",
       "    <tr>\n",
       "      <th>/</th>\n",
       "      <td>58</td>\n",
       "      <td>148</td>\n",
       "      <td>0</td>\n",
       "      <td>0</td>\n",
       "    </tr>\n",
       "    <tr>\n",
       "      <th>=</th>\n",
       "      <td>206</td>\n",
       "      <td>0</td>\n",
       "      <td>0</td>\n",
       "      <td>0</td>\n",
       "    </tr>\n",
       "  </tbody>\n",
       "</table>\n",
       "<p>15 rows × 4 columns</p>\n",
       "</div>"
      ],
      "text/plain": [
       "      1    0   2  3\n",
       "1   110   76  20  0\n",
       "2    80  122   4  0\n",
       "3    70  136   0  0\n",
       "4    78  122   6  0\n",
       "5    48  142  14  2\n",
       "..  ...  ...  .. ..\n",
       "+    45  161   0  0\n",
       "-    45  161   0  0\n",
       "*    58  148   0  0\n",
       "/    58  148   0  0\n",
       "=   206    0   0  0\n",
       "\n",
       "[15 rows x 4 columns]"
      ]
     },
     "execution_count": 14,
     "metadata": {},
     "output_type": "execute_result"
    }
   ],
   "source": [
    "df_elements_occurances = pd.DataFrame()\n",
    "\n",
    "# Counting the values of each element\n",
    "for element in ELEMENTS:\n",
    "    df_elements_occurances = pd.concat([df_elements_occurances, df[\"elements\"][element].value_counts()], axis=1)\n",
    "\n",
    "# Transposing the DataFrame\n",
    "df_elements_occurances = df_elements_occurances.transpose()\n",
    "\n",
    "# Fillin the missing values and converting \"dtypes\"\n",
    "df_elements_occurances = df_elements_occurances.fillna(0)\n",
    "df_elements_occurances = df_elements_occurances.astype(\"uint16\")\n",
    "\n",
    "\n",
    "df_elements_occurances"
   ]
  },
  {
   "cell_type": "code",
   "execution_count": 15,
   "metadata": {},
   "outputs": [
    {
     "data": {
      "application/vnd.plotly.v1+json": {
       "config": {
        "plotlyServerURL": "https://plot.ly"
       },
       "data": [
        {
         "name": "0",
         "type": "bar",
         "x": [
          "1",
          "2",
          "3",
          "4",
          "5",
          "6",
          "8",
          "7",
          "9",
          "0",
          "+",
          "-",
          "*",
          "/",
          "="
         ],
         "y": [
          76,
          122,
          136,
          122,
          142,
          128,
          130,
          138,
          140,
          172,
          161,
          161,
          148,
          148,
          0
         ]
        },
        {
         "name": "1",
         "type": "bar",
         "x": [
          "1",
          "2",
          "3",
          "4",
          "5",
          "6",
          "8",
          "7",
          "9",
          "0",
          "+",
          "-",
          "*",
          "/",
          "="
         ],
         "y": [
          110,
          80,
          70,
          78,
          48,
          74,
          68,
          64,
          62,
          34,
          45,
          45,
          58,
          58,
          206
         ]
        },
        {
         "name": "2",
         "type": "bar",
         "x": [
          "1",
          "2",
          "3",
          "4",
          "5",
          "6",
          "8",
          "7",
          "9",
          "0",
          "+",
          "-",
          "*",
          "/",
          "="
         ],
         "y": [
          20,
          4,
          0,
          6,
          14,
          2,
          8,
          4,
          4,
          0,
          0,
          0,
          0,
          0,
          0
         ]
        },
        {
         "name": "3",
         "type": "bar",
         "x": [
          "1",
          "2",
          "3",
          "4",
          "5",
          "6",
          "8",
          "7",
          "9",
          "0",
          "+",
          "-",
          "*",
          "/",
          "="
         ],
         "y": [
          0,
          0,
          0,
          0,
          2,
          2,
          0,
          0,
          0,
          0,
          0,
          0,
          0,
          0,
          0
         ]
        }
       ],
       "layout": {
        "barmode": "stack",
        "height": 500,
        "template": {
         "data": {
          "bar": [
           {
            "error_x": {
             "color": "#2a3f5f"
            },
            "error_y": {
             "color": "#2a3f5f"
            },
            "marker": {
             "line": {
              "color": "#E5ECF6",
              "width": 0.5
             },
             "pattern": {
              "fillmode": "overlay",
              "size": 10,
              "solidity": 0.2
             }
            },
            "type": "bar"
           }
          ],
          "barpolar": [
           {
            "marker": {
             "line": {
              "color": "#E5ECF6",
              "width": 0.5
             },
             "pattern": {
              "fillmode": "overlay",
              "size": 10,
              "solidity": 0.2
             }
            },
            "type": "barpolar"
           }
          ],
          "carpet": [
           {
            "aaxis": {
             "endlinecolor": "#2a3f5f",
             "gridcolor": "white",
             "linecolor": "white",
             "minorgridcolor": "white",
             "startlinecolor": "#2a3f5f"
            },
            "baxis": {
             "endlinecolor": "#2a3f5f",
             "gridcolor": "white",
             "linecolor": "white",
             "minorgridcolor": "white",
             "startlinecolor": "#2a3f5f"
            },
            "type": "carpet"
           }
          ],
          "choropleth": [
           {
            "colorbar": {
             "outlinewidth": 0,
             "ticks": ""
            },
            "type": "choropleth"
           }
          ],
          "contour": [
           {
            "colorbar": {
             "outlinewidth": 0,
             "ticks": ""
            },
            "colorscale": [
             [
              0,
              "#0d0887"
             ],
             [
              0.1111111111111111,
              "#46039f"
             ],
             [
              0.2222222222222222,
              "#7201a8"
             ],
             [
              0.3333333333333333,
              "#9c179e"
             ],
             [
              0.4444444444444444,
              "#bd3786"
             ],
             [
              0.5555555555555556,
              "#d8576b"
             ],
             [
              0.6666666666666666,
              "#ed7953"
             ],
             [
              0.7777777777777778,
              "#fb9f3a"
             ],
             [
              0.8888888888888888,
              "#fdca26"
             ],
             [
              1,
              "#f0f921"
             ]
            ],
            "type": "contour"
           }
          ],
          "contourcarpet": [
           {
            "colorbar": {
             "outlinewidth": 0,
             "ticks": ""
            },
            "type": "contourcarpet"
           }
          ],
          "heatmap": [
           {
            "colorbar": {
             "outlinewidth": 0,
             "ticks": ""
            },
            "colorscale": [
             [
              0,
              "#0d0887"
             ],
             [
              0.1111111111111111,
              "#46039f"
             ],
             [
              0.2222222222222222,
              "#7201a8"
             ],
             [
              0.3333333333333333,
              "#9c179e"
             ],
             [
              0.4444444444444444,
              "#bd3786"
             ],
             [
              0.5555555555555556,
              "#d8576b"
             ],
             [
              0.6666666666666666,
              "#ed7953"
             ],
             [
              0.7777777777777778,
              "#fb9f3a"
             ],
             [
              0.8888888888888888,
              "#fdca26"
             ],
             [
              1,
              "#f0f921"
             ]
            ],
            "type": "heatmap"
           }
          ],
          "heatmapgl": [
           {
            "colorbar": {
             "outlinewidth": 0,
             "ticks": ""
            },
            "colorscale": [
             [
              0,
              "#0d0887"
             ],
             [
              0.1111111111111111,
              "#46039f"
             ],
             [
              0.2222222222222222,
              "#7201a8"
             ],
             [
              0.3333333333333333,
              "#9c179e"
             ],
             [
              0.4444444444444444,
              "#bd3786"
             ],
             [
              0.5555555555555556,
              "#d8576b"
             ],
             [
              0.6666666666666666,
              "#ed7953"
             ],
             [
              0.7777777777777778,
              "#fb9f3a"
             ],
             [
              0.8888888888888888,
              "#fdca26"
             ],
             [
              1,
              "#f0f921"
             ]
            ],
            "type": "heatmapgl"
           }
          ],
          "histogram": [
           {
            "marker": {
             "pattern": {
              "fillmode": "overlay",
              "size": 10,
              "solidity": 0.2
             }
            },
            "type": "histogram"
           }
          ],
          "histogram2d": [
           {
            "colorbar": {
             "outlinewidth": 0,
             "ticks": ""
            },
            "colorscale": [
             [
              0,
              "#0d0887"
             ],
             [
              0.1111111111111111,
              "#46039f"
             ],
             [
              0.2222222222222222,
              "#7201a8"
             ],
             [
              0.3333333333333333,
              "#9c179e"
             ],
             [
              0.4444444444444444,
              "#bd3786"
             ],
             [
              0.5555555555555556,
              "#d8576b"
             ],
             [
              0.6666666666666666,
              "#ed7953"
             ],
             [
              0.7777777777777778,
              "#fb9f3a"
             ],
             [
              0.8888888888888888,
              "#fdca26"
             ],
             [
              1,
              "#f0f921"
             ]
            ],
            "type": "histogram2d"
           }
          ],
          "histogram2dcontour": [
           {
            "colorbar": {
             "outlinewidth": 0,
             "ticks": ""
            },
            "colorscale": [
             [
              0,
              "#0d0887"
             ],
             [
              0.1111111111111111,
              "#46039f"
             ],
             [
              0.2222222222222222,
              "#7201a8"
             ],
             [
              0.3333333333333333,
              "#9c179e"
             ],
             [
              0.4444444444444444,
              "#bd3786"
             ],
             [
              0.5555555555555556,
              "#d8576b"
             ],
             [
              0.6666666666666666,
              "#ed7953"
             ],
             [
              0.7777777777777778,
              "#fb9f3a"
             ],
             [
              0.8888888888888888,
              "#fdca26"
             ],
             [
              1,
              "#f0f921"
             ]
            ],
            "type": "histogram2dcontour"
           }
          ],
          "mesh3d": [
           {
            "colorbar": {
             "outlinewidth": 0,
             "ticks": ""
            },
            "type": "mesh3d"
           }
          ],
          "parcoords": [
           {
            "line": {
             "colorbar": {
              "outlinewidth": 0,
              "ticks": ""
             }
            },
            "type": "parcoords"
           }
          ],
          "pie": [
           {
            "automargin": true,
            "type": "pie"
           }
          ],
          "scatter": [
           {
            "fillpattern": {
             "fillmode": "overlay",
             "size": 10,
             "solidity": 0.2
            },
            "type": "scatter"
           }
          ],
          "scatter3d": [
           {
            "line": {
             "colorbar": {
              "outlinewidth": 0,
              "ticks": ""
             }
            },
            "marker": {
             "colorbar": {
              "outlinewidth": 0,
              "ticks": ""
             }
            },
            "type": "scatter3d"
           }
          ],
          "scattercarpet": [
           {
            "marker": {
             "colorbar": {
              "outlinewidth": 0,
              "ticks": ""
             }
            },
            "type": "scattercarpet"
           }
          ],
          "scattergeo": [
           {
            "marker": {
             "colorbar": {
              "outlinewidth": 0,
              "ticks": ""
             }
            },
            "type": "scattergeo"
           }
          ],
          "scattergl": [
           {
            "marker": {
             "colorbar": {
              "outlinewidth": 0,
              "ticks": ""
             }
            },
            "type": "scattergl"
           }
          ],
          "scattermapbox": [
           {
            "marker": {
             "colorbar": {
              "outlinewidth": 0,
              "ticks": ""
             }
            },
            "type": "scattermapbox"
           }
          ],
          "scatterpolar": [
           {
            "marker": {
             "colorbar": {
              "outlinewidth": 0,
              "ticks": ""
             }
            },
            "type": "scatterpolar"
           }
          ],
          "scatterpolargl": [
           {
            "marker": {
             "colorbar": {
              "outlinewidth": 0,
              "ticks": ""
             }
            },
            "type": "scatterpolargl"
           }
          ],
          "scatterternary": [
           {
            "marker": {
             "colorbar": {
              "outlinewidth": 0,
              "ticks": ""
             }
            },
            "type": "scatterternary"
           }
          ],
          "surface": [
           {
            "colorbar": {
             "outlinewidth": 0,
             "ticks": ""
            },
            "colorscale": [
             [
              0,
              "#0d0887"
             ],
             [
              0.1111111111111111,
              "#46039f"
             ],
             [
              0.2222222222222222,
              "#7201a8"
             ],
             [
              0.3333333333333333,
              "#9c179e"
             ],
             [
              0.4444444444444444,
              "#bd3786"
             ],
             [
              0.5555555555555556,
              "#d8576b"
             ],
             [
              0.6666666666666666,
              "#ed7953"
             ],
             [
              0.7777777777777778,
              "#fb9f3a"
             ],
             [
              0.8888888888888888,
              "#fdca26"
             ],
             [
              1,
              "#f0f921"
             ]
            ],
            "type": "surface"
           }
          ],
          "table": [
           {
            "cells": {
             "fill": {
              "color": "#EBF0F8"
             },
             "line": {
              "color": "white"
             }
            },
            "header": {
             "fill": {
              "color": "#C8D4E3"
             },
             "line": {
              "color": "white"
             }
            },
            "type": "table"
           }
          ]
         },
         "layout": {
          "annotationdefaults": {
           "arrowcolor": "#2a3f5f",
           "arrowhead": 0,
           "arrowwidth": 1
          },
          "autotypenumbers": "strict",
          "coloraxis": {
           "colorbar": {
            "outlinewidth": 0,
            "ticks": ""
           }
          },
          "colorscale": {
           "diverging": [
            [
             0,
             "#8e0152"
            ],
            [
             0.1,
             "#c51b7d"
            ],
            [
             0.2,
             "#de77ae"
            ],
            [
             0.3,
             "#f1b6da"
            ],
            [
             0.4,
             "#fde0ef"
            ],
            [
             0.5,
             "#f7f7f7"
            ],
            [
             0.6,
             "#e6f5d0"
            ],
            [
             0.7,
             "#b8e186"
            ],
            [
             0.8,
             "#7fbc41"
            ],
            [
             0.9,
             "#4d9221"
            ],
            [
             1,
             "#276419"
            ]
           ],
           "sequential": [
            [
             0,
             "#0d0887"
            ],
            [
             0.1111111111111111,
             "#46039f"
            ],
            [
             0.2222222222222222,
             "#7201a8"
            ],
            [
             0.3333333333333333,
             "#9c179e"
            ],
            [
             0.4444444444444444,
             "#bd3786"
            ],
            [
             0.5555555555555556,
             "#d8576b"
            ],
            [
             0.6666666666666666,
             "#ed7953"
            ],
            [
             0.7777777777777778,
             "#fb9f3a"
            ],
            [
             0.8888888888888888,
             "#fdca26"
            ],
            [
             1,
             "#f0f921"
            ]
           ],
           "sequentialminus": [
            [
             0,
             "#0d0887"
            ],
            [
             0.1111111111111111,
             "#46039f"
            ],
            [
             0.2222222222222222,
             "#7201a8"
            ],
            [
             0.3333333333333333,
             "#9c179e"
            ],
            [
             0.4444444444444444,
             "#bd3786"
            ],
            [
             0.5555555555555556,
             "#d8576b"
            ],
            [
             0.6666666666666666,
             "#ed7953"
            ],
            [
             0.7777777777777778,
             "#fb9f3a"
            ],
            [
             0.8888888888888888,
             "#fdca26"
            ],
            [
             1,
             "#f0f921"
            ]
           ]
          },
          "colorway": [
           "#636efa",
           "#EF553B",
           "#00cc96",
           "#ab63fa",
           "#FFA15A",
           "#19d3f3",
           "#FF6692",
           "#B6E880",
           "#FF97FF",
           "#FECB52"
          ],
          "font": {
           "color": "#2a3f5f"
          },
          "geo": {
           "bgcolor": "white",
           "lakecolor": "white",
           "landcolor": "#E5ECF6",
           "showlakes": true,
           "showland": true,
           "subunitcolor": "white"
          },
          "hoverlabel": {
           "align": "left"
          },
          "hovermode": "closest",
          "mapbox": {
           "style": "light"
          },
          "paper_bgcolor": "white",
          "plot_bgcolor": "#E5ECF6",
          "polar": {
           "angularaxis": {
            "gridcolor": "white",
            "linecolor": "white",
            "ticks": ""
           },
           "bgcolor": "#E5ECF6",
           "radialaxis": {
            "gridcolor": "white",
            "linecolor": "white",
            "ticks": ""
           }
          },
          "scene": {
           "xaxis": {
            "backgroundcolor": "#E5ECF6",
            "gridcolor": "white",
            "gridwidth": 2,
            "linecolor": "white",
            "showbackground": true,
            "ticks": "",
            "zerolinecolor": "white"
           },
           "yaxis": {
            "backgroundcolor": "#E5ECF6",
            "gridcolor": "white",
            "gridwidth": 2,
            "linecolor": "white",
            "showbackground": true,
            "ticks": "",
            "zerolinecolor": "white"
           },
           "zaxis": {
            "backgroundcolor": "#E5ECF6",
            "gridcolor": "white",
            "gridwidth": 2,
            "linecolor": "white",
            "showbackground": true,
            "ticks": "",
            "zerolinecolor": "white"
           }
          },
          "shapedefaults": {
           "line": {
            "color": "#2a3f5f"
           }
          },
          "ternary": {
           "aaxis": {
            "gridcolor": "white",
            "linecolor": "white",
            "ticks": ""
           },
           "baxis": {
            "gridcolor": "white",
            "linecolor": "white",
            "ticks": ""
           },
           "bgcolor": "#E5ECF6",
           "caxis": {
            "gridcolor": "white",
            "linecolor": "white",
            "ticks": ""
           }
          },
          "title": {
           "x": 0.05
          },
          "xaxis": {
           "automargin": true,
           "gridcolor": "white",
           "linecolor": "white",
           "ticks": "",
           "title": {
            "standoff": 15
           },
           "zerolinecolor": "white",
           "zerolinewidth": 2
          },
          "yaxis": {
           "automargin": true,
           "gridcolor": "white",
           "linecolor": "white",
           "ticks": "",
           "title": {
            "standoff": 15
           },
           "zerolinecolor": "white",
           "zerolinewidth": 2
          }
         }
        },
        "title": {
         "text": "Elements occurances"
        },
        "width": 1000
       }
      }
     },
     "metadata": {},
     "output_type": "display_data"
    }
   ],
   "source": [
    "# Plotting bars\n",
    "\n",
    "fig = go.Figure()\n",
    "\n",
    "for i in range(min(*df_elements_occurances.columns), max(*df_elements_occurances.columns) + 1):\n",
    "    fig.add_trace(go.Bar(x=df_elements_occurances.index, y=df_elements_occurances[i], name=i))\n",
    "\n",
    "fig.update_layout(\n",
    "    title=\"Elements occurances\",\n",
    "    barmode='stack',\n",
    "    height=500,\n",
    "    width=1000,\n",
    ")\n",
    "\n",
    "fig.show()"
   ]
  },
  {
   "cell_type": "markdown",
   "metadata": {},
   "source": [
    "# Counting the 'min' and 'max' times an element can be found in a word"
   ]
  },
  {
   "cell_type": "code",
   "execution_count": 16,
   "metadata": {},
   "outputs": [
    {
     "data": {
      "text/html": [
       "<style type=\"text/css\">\n",
       "#T_bbe66_row0_col0, #T_bbe66_row0_col1, #T_bbe66_row0_col2, #T_bbe66_row0_col3, #T_bbe66_row0_col4, #T_bbe66_row0_col5, #T_bbe66_row0_col6, #T_bbe66_row0_col7, #T_bbe66_row0_col8, #T_bbe66_row0_col9, #T_bbe66_row0_col10, #T_bbe66_row0_col11, #T_bbe66_row0_col12, #T_bbe66_row0_col13, #T_bbe66_row1_col2, #T_bbe66_row1_col9, #T_bbe66_row1_col10, #T_bbe66_row1_col11, #T_bbe66_row1_col12, #T_bbe66_row1_col13, #T_bbe66_row1_col14 {\n",
       "  background-color: #0d0887;\n",
       "  color: #f1f1f1;\n",
       "}\n",
       "#T_bbe66_row0_col14, #T_bbe66_row1_col4, #T_bbe66_row1_col5 {\n",
       "  background-color: #f0f921;\n",
       "  color: #000000;\n",
       "}\n",
       "#T_bbe66_row1_col0, #T_bbe66_row1_col1, #T_bbe66_row1_col3, #T_bbe66_row1_col6, #T_bbe66_row1_col7, #T_bbe66_row1_col8 {\n",
       "  background-color: #cc4778;\n",
       "  color: #f1f1f1;\n",
       "}\n",
       "</style>\n",
       "<table id=\"T_bbe66\">\n",
       "  <thead>\n",
       "    <tr>\n",
       "      <th class=\"blank level0\" >&nbsp;</th>\n",
       "      <th id=\"T_bbe66_level0_col0\" class=\"col_heading level0 col0\" >1</th>\n",
       "      <th id=\"T_bbe66_level0_col1\" class=\"col_heading level0 col1\" >2</th>\n",
       "      <th id=\"T_bbe66_level0_col2\" class=\"col_heading level0 col2\" >3</th>\n",
       "      <th id=\"T_bbe66_level0_col3\" class=\"col_heading level0 col3\" >4</th>\n",
       "      <th id=\"T_bbe66_level0_col4\" class=\"col_heading level0 col4\" >5</th>\n",
       "      <th id=\"T_bbe66_level0_col5\" class=\"col_heading level0 col5\" >6</th>\n",
       "      <th id=\"T_bbe66_level0_col6\" class=\"col_heading level0 col6\" >8</th>\n",
       "      <th id=\"T_bbe66_level0_col7\" class=\"col_heading level0 col7\" >7</th>\n",
       "      <th id=\"T_bbe66_level0_col8\" class=\"col_heading level0 col8\" >9</th>\n",
       "      <th id=\"T_bbe66_level0_col9\" class=\"col_heading level0 col9\" >0</th>\n",
       "      <th id=\"T_bbe66_level0_col10\" class=\"col_heading level0 col10\" >+</th>\n",
       "      <th id=\"T_bbe66_level0_col11\" class=\"col_heading level0 col11\" >-</th>\n",
       "      <th id=\"T_bbe66_level0_col12\" class=\"col_heading level0 col12\" >*</th>\n",
       "      <th id=\"T_bbe66_level0_col13\" class=\"col_heading level0 col13\" >/</th>\n",
       "      <th id=\"T_bbe66_level0_col14\" class=\"col_heading level0 col14\" >=</th>\n",
       "    </tr>\n",
       "  </thead>\n",
       "  <tbody>\n",
       "    <tr>\n",
       "      <th id=\"T_bbe66_level0_row0\" class=\"row_heading level0 row0\" >min</th>\n",
       "      <td id=\"T_bbe66_row0_col0\" class=\"data row0 col0\" >0</td>\n",
       "      <td id=\"T_bbe66_row0_col1\" class=\"data row0 col1\" >0</td>\n",
       "      <td id=\"T_bbe66_row0_col2\" class=\"data row0 col2\" >0</td>\n",
       "      <td id=\"T_bbe66_row0_col3\" class=\"data row0 col3\" >0</td>\n",
       "      <td id=\"T_bbe66_row0_col4\" class=\"data row0 col4\" >0</td>\n",
       "      <td id=\"T_bbe66_row0_col5\" class=\"data row0 col5\" >0</td>\n",
       "      <td id=\"T_bbe66_row0_col6\" class=\"data row0 col6\" >0</td>\n",
       "      <td id=\"T_bbe66_row0_col7\" class=\"data row0 col7\" >0</td>\n",
       "      <td id=\"T_bbe66_row0_col8\" class=\"data row0 col8\" >0</td>\n",
       "      <td id=\"T_bbe66_row0_col9\" class=\"data row0 col9\" >0</td>\n",
       "      <td id=\"T_bbe66_row0_col10\" class=\"data row0 col10\" >0</td>\n",
       "      <td id=\"T_bbe66_row0_col11\" class=\"data row0 col11\" >0</td>\n",
       "      <td id=\"T_bbe66_row0_col12\" class=\"data row0 col12\" >0</td>\n",
       "      <td id=\"T_bbe66_row0_col13\" class=\"data row0 col13\" >0</td>\n",
       "      <td id=\"T_bbe66_row0_col14\" class=\"data row0 col14\" >1</td>\n",
       "    </tr>\n",
       "    <tr>\n",
       "      <th id=\"T_bbe66_level0_row1\" class=\"row_heading level0 row1\" >max</th>\n",
       "      <td id=\"T_bbe66_row1_col0\" class=\"data row1 col0\" >2</td>\n",
       "      <td id=\"T_bbe66_row1_col1\" class=\"data row1 col1\" >2</td>\n",
       "      <td id=\"T_bbe66_row1_col2\" class=\"data row1 col2\" >1</td>\n",
       "      <td id=\"T_bbe66_row1_col3\" class=\"data row1 col3\" >2</td>\n",
       "      <td id=\"T_bbe66_row1_col4\" class=\"data row1 col4\" >3</td>\n",
       "      <td id=\"T_bbe66_row1_col5\" class=\"data row1 col5\" >3</td>\n",
       "      <td id=\"T_bbe66_row1_col6\" class=\"data row1 col6\" >2</td>\n",
       "      <td id=\"T_bbe66_row1_col7\" class=\"data row1 col7\" >2</td>\n",
       "      <td id=\"T_bbe66_row1_col8\" class=\"data row1 col8\" >2</td>\n",
       "      <td id=\"T_bbe66_row1_col9\" class=\"data row1 col9\" >1</td>\n",
       "      <td id=\"T_bbe66_row1_col10\" class=\"data row1 col10\" >1</td>\n",
       "      <td id=\"T_bbe66_row1_col11\" class=\"data row1 col11\" >1</td>\n",
       "      <td id=\"T_bbe66_row1_col12\" class=\"data row1 col12\" >1</td>\n",
       "      <td id=\"T_bbe66_row1_col13\" class=\"data row1 col13\" >1</td>\n",
       "      <td id=\"T_bbe66_row1_col14\" class=\"data row1 col14\" >1</td>\n",
       "    </tr>\n",
       "  </tbody>\n",
       "</table>\n"
      ],
      "text/plain": [
       "<pandas.io.formats.style.Styler at 0x1ba0ff83ac0>"
      ]
     },
     "execution_count": 16,
     "metadata": {},
     "output_type": "execute_result"
    }
   ],
   "source": [
    "df_elements_minmax = pd.DataFrame()\n",
    "\n",
    "# Computing the minimum and maximum number of occurances of each element\n",
    "for element in ELEMENTS:\n",
    "    df_elements_minmax.loc[\"min\", element]= df[(\"elements\", element)].min()\n",
    "    df_elements_minmax.loc[\"max\", element]= df[(\"elements\", element)].max()\n",
    "\n",
    "# Converting 'dtypes'\n",
    "df_elements_minmax = df_elements_minmax.astype(\"uint8\")\n",
    "\n",
    "\n",
    "df_elements_minmax.style.background_gradient(axis=1, cmap=\"plasma\")"
   ]
  },
  {
   "cell_type": "markdown",
   "metadata": {},
   "source": [
    "# Counting element frequency"
   ]
  },
  {
   "cell_type": "code",
   "execution_count": 17,
   "metadata": {},
   "outputs": [
    {
     "data": {
      "text/html": [
       "<div>\n",
       "<style scoped>\n",
       "    .dataframe tbody tr th:only-of-type {\n",
       "        vertical-align: middle;\n",
       "    }\n",
       "\n",
       "    .dataframe tbody tr th {\n",
       "        vertical-align: top;\n",
       "    }\n",
       "\n",
       "    .dataframe thead th {\n",
       "        text-align: right;\n",
       "    }\n",
       "</style>\n",
       "<table border=\"1\" class=\"dataframe\">\n",
       "  <thead>\n",
       "    <tr style=\"text-align: right;\">\n",
       "      <th></th>\n",
       "      <th>p0</th>\n",
       "      <th>p1</th>\n",
       "      <th>p2</th>\n",
       "      <th>p3</th>\n",
       "      <th>p4</th>\n",
       "      <th>p5</th>\n",
       "      <th>sum</th>\n",
       "      <th>total</th>\n",
       "    </tr>\n",
       "  </thead>\n",
       "  <tbody>\n",
       "    <tr>\n",
       "      <th>*</th>\n",
       "      <td>0</td>\n",
       "      <td>58</td>\n",
       "      <td>0</td>\n",
       "      <td>0</td>\n",
       "      <td>0</td>\n",
       "      <td>0</td>\n",
       "      <td>58</td>\n",
       "      <td>58</td>\n",
       "    </tr>\n",
       "    <tr>\n",
       "      <th>+</th>\n",
       "      <td>0</td>\n",
       "      <td>45</td>\n",
       "      <td>0</td>\n",
       "      <td>0</td>\n",
       "      <td>0</td>\n",
       "      <td>0</td>\n",
       "      <td>45</td>\n",
       "      <td>45</td>\n",
       "    </tr>\n",
       "    <tr>\n",
       "      <th>-</th>\n",
       "      <td>0</td>\n",
       "      <td>0</td>\n",
       "      <td>45</td>\n",
       "      <td>0</td>\n",
       "      <td>0</td>\n",
       "      <td>0</td>\n",
       "      <td>45</td>\n",
       "      <td>45</td>\n",
       "    </tr>\n",
       "    <tr>\n",
       "      <th>/</th>\n",
       "      <td>0</td>\n",
       "      <td>0</td>\n",
       "      <td>58</td>\n",
       "      <td>0</td>\n",
       "      <td>0</td>\n",
       "      <td>0</td>\n",
       "      <td>58</td>\n",
       "      <td>58</td>\n",
       "    </tr>\n",
       "    <tr>\n",
       "      <th>0</th>\n",
       "      <td>0</td>\n",
       "      <td>17</td>\n",
       "      <td>0</td>\n",
       "      <td>0</td>\n",
       "      <td>0</td>\n",
       "      <td>17</td>\n",
       "      <td>34</td>\n",
       "      <td>34</td>\n",
       "    </tr>\n",
       "    <tr>\n",
       "      <th>...</th>\n",
       "      <td>...</td>\n",
       "      <td>...</td>\n",
       "      <td>...</td>\n",
       "      <td>...</td>\n",
       "      <td>...</td>\n",
       "      <td>...</td>\n",
       "      <td>...</td>\n",
       "      <td>...</td>\n",
       "    </tr>\n",
       "    <tr>\n",
       "      <th>6</th>\n",
       "      <td>17</td>\n",
       "      <td>11</td>\n",
       "      <td>14</td>\n",
       "      <td>14</td>\n",
       "      <td>3</td>\n",
       "      <td>25</td>\n",
       "      <td>84</td>\n",
       "      <td>78</td>\n",
       "    </tr>\n",
       "    <tr>\n",
       "      <th>7</th>\n",
       "      <td>17</td>\n",
       "      <td>4</td>\n",
       "      <td>15</td>\n",
       "      <td>15</td>\n",
       "      <td>2</td>\n",
       "      <td>19</td>\n",
       "      <td>72</td>\n",
       "      <td>68</td>\n",
       "    </tr>\n",
       "    <tr>\n",
       "      <th>8</th>\n",
       "      <td>17</td>\n",
       "      <td>9</td>\n",
       "      <td>16</td>\n",
       "      <td>16</td>\n",
       "      <td>1</td>\n",
       "      <td>25</td>\n",
       "      <td>84</td>\n",
       "      <td>76</td>\n",
       "    </tr>\n",
       "    <tr>\n",
       "      <th>9</th>\n",
       "      <td>17</td>\n",
       "      <td>1</td>\n",
       "      <td>17</td>\n",
       "      <td>17</td>\n",
       "      <td>0</td>\n",
       "      <td>18</td>\n",
       "      <td>70</td>\n",
       "      <td>66</td>\n",
       "    </tr>\n",
       "    <tr>\n",
       "      <th>=</th>\n",
       "      <td>0</td>\n",
       "      <td>0</td>\n",
       "      <td>0</td>\n",
       "      <td>103</td>\n",
       "      <td>103</td>\n",
       "      <td>0</td>\n",
       "      <td>206</td>\n",
       "      <td>206</td>\n",
       "    </tr>\n",
       "  </tbody>\n",
       "</table>\n",
       "<p>15 rows × 8 columns</p>\n",
       "</div>"
      ],
      "text/plain": [
       "    p0  p1  p2   p3   p4  p5  sum  total\n",
       "*    0  58   0    0    0   0   58     58\n",
       "+    0  45   0    0    0   0   45     45\n",
       "-    0   0  45    0    0   0   45     45\n",
       "/    0   0  58    0    0   0   58     58\n",
       "0    0  17   0    0    0  17   34     34\n",
       "..  ..  ..  ..  ...  ...  ..  ...    ...\n",
       "6   17  11  14   14    3  25   84     78\n",
       "7   17   4  15   15    2  19   72     68\n",
       "8   17   9  16   16    1  25   84     76\n",
       "9   17   1  17   17    0  18   70     66\n",
       "=    0   0   0  103  103   0  206    206\n",
       "\n",
       "[15 rows x 8 columns]"
      ]
     },
     "execution_count": 17,
     "metadata": {},
     "output_type": "execute_result"
    }
   ],
   "source": [
    "# Computing element frequency\n",
    "df_freq_count = df[\"positions\"].apply(pd.Series.value_counts)\n",
    "\n",
    "# Computing the \"sum\"\n",
    "df_freq_count[\"sum\"] = df_freq_count.sum(axis=1)\n",
    "\n",
    "# Inserting missing elements\n",
    "for element in ELEMENTS:\n",
    "    if element not in df_freq_count.index:\n",
    "        df_freq_count.loc[element] = 0\n",
    "\n",
    "# Computing the \"total\"\n",
    "totals = []\n",
    "for element in df_freq_count.index:\n",
    "    totals.append(df[\"elements\"][element].value_counts().drop(0, errors=\"ignore\").sum())\n",
    "\n",
    "df_freq_count[\"total\"] = totals\n",
    "\n",
    "# Filling the missing values, converting the \"dtypes\" and sorting\n",
    "df_freq_count = df_freq_count.fillna(0)\n",
    "df_freq_count = df_freq_count.astype(\"uint16\")\n",
    "df_freq_count = df_freq_count.sort_index()\n",
    "\n",
    "\n",
    "df_freq_count"
   ]
  },
  {
   "cell_type": "code",
   "execution_count": 18,
   "metadata": {},
   "outputs": [
    {
     "data": {
      "application/vnd.plotly.v1+json": {
       "config": {
        "plotlyServerURL": "https://plot.ly"
       },
       "data": [
        {
         "coloraxis": "coloraxis",
         "name": "Positions",
         "type": "heatmap",
         "x": [
          "p0",
          "p1",
          "p2",
          "p3",
          "p4",
          "p5"
         ],
         "xaxis": "x",
         "y": [
          "*",
          "+",
          "-",
          "/",
          "0",
          "1",
          "2",
          "3",
          "4",
          "5",
          "6",
          "7",
          "8",
          "9",
          "="
         ],
         "yaxis": "y",
         "z": [
          [
           0,
           0.2815533980582524,
           0,
           0,
           0,
           0,
           0.2815533980582524,
           0.2815533980582524
          ],
          [
           0,
           0.21844660194174756,
           0,
           0,
           0,
           0,
           0.21844660194174756,
           0.21844660194174756
          ],
          [
           0,
           0,
           0.21844660194174756,
           0,
           0,
           0,
           0.21844660194174756,
           0.21844660194174756
          ],
          [
           0,
           0,
           0.2815533980582524,
           0,
           0,
           0,
           0.2815533980582524,
           0.2815533980582524
          ],
          [
           0,
           0.0825242718446602,
           0,
           0,
           0,
           0.0825242718446602,
           0.1650485436893204,
           0.1650485436893204
          ],
          [
           0.3058252427184466,
           0.05339805825242718,
           0.0048543689320388345,
           0.0048543689320388345,
           0.30097087378640774,
           0.05825242718446602,
           0.7281553398058253,
           0.6310679611650486
          ],
          [
           0.0970873786407767,
           0.0825242718446602,
           0.03398058252427184,
           0.03398058252427184,
           0.06310679611650485,
           0.11650485436893204,
           0.42718446601941745,
           0.4077669902912621
          ],
          [
           0.08737864077669903,
           0.038834951456310676,
           0.043689320388349516,
           0.043689320388349516,
           0.043689320388349516,
           0.0825242718446602,
           0.33980582524271846,
           0.33980582524271846
          ],
          [
           0.0970873786407767,
           0.06796116504854369,
           0.05339805825242718,
           0.05339805825242718,
           0.043689320388349516,
           0.12135922330097088,
           0.4368932038834951,
           0.4077669902912621
          ],
          [
           0.0825242718446602,
           0.05339805825242718,
           0.06310679611650485,
           0.06310679611650485,
           0.019417475728155338,
           0.11650485436893204,
           0.39805825242718446,
           0.3106796116504854
          ],
          [
           0.0825242718446602,
           0.05339805825242718,
           0.06796116504854369,
           0.06796116504854369,
           0.014563106796116505,
           0.12135922330097088,
           0.4077669902912621,
           0.3786407766990291
          ],
          [
           0.0825242718446602,
           0.019417475728155338,
           0.07281553398058252,
           0.07281553398058252,
           0.009708737864077669,
           0.09223300970873786,
           0.34951456310679613,
           0.3300970873786408
          ],
          [
           0.0825242718446602,
           0.043689320388349516,
           0.07766990291262135,
           0.07766990291262135,
           0.0048543689320388345,
           0.12135922330097088,
           0.4077669902912621,
           0.36893203883495146
          ],
          [
           0.0825242718446602,
           0.0048543689320388345,
           0.0825242718446602,
           0.0825242718446602,
           0,
           0.08737864077669903,
           0.33980582524271846,
           0.32038834951456313
          ],
          [
           0,
           0,
           0,
           0.5,
           0.5,
           0,
           1,
           1
          ]
         ]
        },
        {
         "coloraxis": "coloraxis2",
         "name": "Total",
         "type": "heatmap",
         "x": [
          "Total"
         ],
         "xaxis": "x2",
         "y": [
          "*",
          "+",
          "-",
          "/",
          "0",
          "1",
          "2",
          "3",
          "4",
          "5",
          "6",
          "7",
          "8",
          "9",
          "="
         ],
         "yaxis": "y2",
         "z": [
          [
           0.2815533980582524
          ],
          [
           0.21844660194174756
          ],
          [
           0.21844660194174756
          ],
          [
           0.2815533980582524
          ],
          [
           0.1650485436893204
          ],
          [
           0.6310679611650486
          ],
          [
           0.4077669902912621
          ],
          [
           0.33980582524271846
          ],
          [
           0.4077669902912621
          ],
          [
           0.3106796116504854
          ],
          [
           0.3786407766990291
          ],
          [
           0.3300970873786408
          ],
          [
           0.36893203883495146
          ],
          [
           0.32038834951456313
          ],
          [
           1
          ]
         ]
        }
       ],
       "layout": {
        "coloraxis": {
         "colorscale": [
          [
           0,
           "rgb(12,51,131)"
          ],
          [
           0.25,
           "rgb(10,136,186)"
          ],
          [
           0.5,
           "rgb(242,211,56)"
          ],
          [
           0.75,
           "rgb(242,143,56)"
          ],
          [
           1,
           "rgb(217,30,30)"
          ]
         ],
         "showscale": false
        },
        "coloraxis2": {
         "colorscale": [
          [
           0,
           "rgb(12,51,131)"
          ],
          [
           0.25,
           "rgb(10,136,186)"
          ],
          [
           0.5,
           "rgb(242,211,56)"
          ],
          [
           0.75,
           "rgb(242,143,56)"
          ],
          [
           1,
           "rgb(217,30,30)"
          ]
         ],
         "showscale": false
        },
        "height": 600,
        "template": {
         "data": {
          "bar": [
           {
            "error_x": {
             "color": "#2a3f5f"
            },
            "error_y": {
             "color": "#2a3f5f"
            },
            "marker": {
             "line": {
              "color": "#E5ECF6",
              "width": 0.5
             },
             "pattern": {
              "fillmode": "overlay",
              "size": 10,
              "solidity": 0.2
             }
            },
            "type": "bar"
           }
          ],
          "barpolar": [
           {
            "marker": {
             "line": {
              "color": "#E5ECF6",
              "width": 0.5
             },
             "pattern": {
              "fillmode": "overlay",
              "size": 10,
              "solidity": 0.2
             }
            },
            "type": "barpolar"
           }
          ],
          "carpet": [
           {
            "aaxis": {
             "endlinecolor": "#2a3f5f",
             "gridcolor": "white",
             "linecolor": "white",
             "minorgridcolor": "white",
             "startlinecolor": "#2a3f5f"
            },
            "baxis": {
             "endlinecolor": "#2a3f5f",
             "gridcolor": "white",
             "linecolor": "white",
             "minorgridcolor": "white",
             "startlinecolor": "#2a3f5f"
            },
            "type": "carpet"
           }
          ],
          "choropleth": [
           {
            "colorbar": {
             "outlinewidth": 0,
             "ticks": ""
            },
            "type": "choropleth"
           }
          ],
          "contour": [
           {
            "colorbar": {
             "outlinewidth": 0,
             "ticks": ""
            },
            "colorscale": [
             [
              0,
              "#0d0887"
             ],
             [
              0.1111111111111111,
              "#46039f"
             ],
             [
              0.2222222222222222,
              "#7201a8"
             ],
             [
              0.3333333333333333,
              "#9c179e"
             ],
             [
              0.4444444444444444,
              "#bd3786"
             ],
             [
              0.5555555555555556,
              "#d8576b"
             ],
             [
              0.6666666666666666,
              "#ed7953"
             ],
             [
              0.7777777777777778,
              "#fb9f3a"
             ],
             [
              0.8888888888888888,
              "#fdca26"
             ],
             [
              1,
              "#f0f921"
             ]
            ],
            "type": "contour"
           }
          ],
          "contourcarpet": [
           {
            "colorbar": {
             "outlinewidth": 0,
             "ticks": ""
            },
            "type": "contourcarpet"
           }
          ],
          "heatmap": [
           {
            "colorbar": {
             "outlinewidth": 0,
             "ticks": ""
            },
            "colorscale": [
             [
              0,
              "#0d0887"
             ],
             [
              0.1111111111111111,
              "#46039f"
             ],
             [
              0.2222222222222222,
              "#7201a8"
             ],
             [
              0.3333333333333333,
              "#9c179e"
             ],
             [
              0.4444444444444444,
              "#bd3786"
             ],
             [
              0.5555555555555556,
              "#d8576b"
             ],
             [
              0.6666666666666666,
              "#ed7953"
             ],
             [
              0.7777777777777778,
              "#fb9f3a"
             ],
             [
              0.8888888888888888,
              "#fdca26"
             ],
             [
              1,
              "#f0f921"
             ]
            ],
            "type": "heatmap"
           }
          ],
          "heatmapgl": [
           {
            "colorbar": {
             "outlinewidth": 0,
             "ticks": ""
            },
            "colorscale": [
             [
              0,
              "#0d0887"
             ],
             [
              0.1111111111111111,
              "#46039f"
             ],
             [
              0.2222222222222222,
              "#7201a8"
             ],
             [
              0.3333333333333333,
              "#9c179e"
             ],
             [
              0.4444444444444444,
              "#bd3786"
             ],
             [
              0.5555555555555556,
              "#d8576b"
             ],
             [
              0.6666666666666666,
              "#ed7953"
             ],
             [
              0.7777777777777778,
              "#fb9f3a"
             ],
             [
              0.8888888888888888,
              "#fdca26"
             ],
             [
              1,
              "#f0f921"
             ]
            ],
            "type": "heatmapgl"
           }
          ],
          "histogram": [
           {
            "marker": {
             "pattern": {
              "fillmode": "overlay",
              "size": 10,
              "solidity": 0.2
             }
            },
            "type": "histogram"
           }
          ],
          "histogram2d": [
           {
            "colorbar": {
             "outlinewidth": 0,
             "ticks": ""
            },
            "colorscale": [
             [
              0,
              "#0d0887"
             ],
             [
              0.1111111111111111,
              "#46039f"
             ],
             [
              0.2222222222222222,
              "#7201a8"
             ],
             [
              0.3333333333333333,
              "#9c179e"
             ],
             [
              0.4444444444444444,
              "#bd3786"
             ],
             [
              0.5555555555555556,
              "#d8576b"
             ],
             [
              0.6666666666666666,
              "#ed7953"
             ],
             [
              0.7777777777777778,
              "#fb9f3a"
             ],
             [
              0.8888888888888888,
              "#fdca26"
             ],
             [
              1,
              "#f0f921"
             ]
            ],
            "type": "histogram2d"
           }
          ],
          "histogram2dcontour": [
           {
            "colorbar": {
             "outlinewidth": 0,
             "ticks": ""
            },
            "colorscale": [
             [
              0,
              "#0d0887"
             ],
             [
              0.1111111111111111,
              "#46039f"
             ],
             [
              0.2222222222222222,
              "#7201a8"
             ],
             [
              0.3333333333333333,
              "#9c179e"
             ],
             [
              0.4444444444444444,
              "#bd3786"
             ],
             [
              0.5555555555555556,
              "#d8576b"
             ],
             [
              0.6666666666666666,
              "#ed7953"
             ],
             [
              0.7777777777777778,
              "#fb9f3a"
             ],
             [
              0.8888888888888888,
              "#fdca26"
             ],
             [
              1,
              "#f0f921"
             ]
            ],
            "type": "histogram2dcontour"
           }
          ],
          "mesh3d": [
           {
            "colorbar": {
             "outlinewidth": 0,
             "ticks": ""
            },
            "type": "mesh3d"
           }
          ],
          "parcoords": [
           {
            "line": {
             "colorbar": {
              "outlinewidth": 0,
              "ticks": ""
             }
            },
            "type": "parcoords"
           }
          ],
          "pie": [
           {
            "automargin": true,
            "type": "pie"
           }
          ],
          "scatter": [
           {
            "fillpattern": {
             "fillmode": "overlay",
             "size": 10,
             "solidity": 0.2
            },
            "type": "scatter"
           }
          ],
          "scatter3d": [
           {
            "line": {
             "colorbar": {
              "outlinewidth": 0,
              "ticks": ""
             }
            },
            "marker": {
             "colorbar": {
              "outlinewidth": 0,
              "ticks": ""
             }
            },
            "type": "scatter3d"
           }
          ],
          "scattercarpet": [
           {
            "marker": {
             "colorbar": {
              "outlinewidth": 0,
              "ticks": ""
             }
            },
            "type": "scattercarpet"
           }
          ],
          "scattergeo": [
           {
            "marker": {
             "colorbar": {
              "outlinewidth": 0,
              "ticks": ""
             }
            },
            "type": "scattergeo"
           }
          ],
          "scattergl": [
           {
            "marker": {
             "colorbar": {
              "outlinewidth": 0,
              "ticks": ""
             }
            },
            "type": "scattergl"
           }
          ],
          "scattermapbox": [
           {
            "marker": {
             "colorbar": {
              "outlinewidth": 0,
              "ticks": ""
             }
            },
            "type": "scattermapbox"
           }
          ],
          "scatterpolar": [
           {
            "marker": {
             "colorbar": {
              "outlinewidth": 0,
              "ticks": ""
             }
            },
            "type": "scatterpolar"
           }
          ],
          "scatterpolargl": [
           {
            "marker": {
             "colorbar": {
              "outlinewidth": 0,
              "ticks": ""
             }
            },
            "type": "scatterpolargl"
           }
          ],
          "scatterternary": [
           {
            "marker": {
             "colorbar": {
              "outlinewidth": 0,
              "ticks": ""
             }
            },
            "type": "scatterternary"
           }
          ],
          "surface": [
           {
            "colorbar": {
             "outlinewidth": 0,
             "ticks": ""
            },
            "colorscale": [
             [
              0,
              "#0d0887"
             ],
             [
              0.1111111111111111,
              "#46039f"
             ],
             [
              0.2222222222222222,
              "#7201a8"
             ],
             [
              0.3333333333333333,
              "#9c179e"
             ],
             [
              0.4444444444444444,
              "#bd3786"
             ],
             [
              0.5555555555555556,
              "#d8576b"
             ],
             [
              0.6666666666666666,
              "#ed7953"
             ],
             [
              0.7777777777777778,
              "#fb9f3a"
             ],
             [
              0.8888888888888888,
              "#fdca26"
             ],
             [
              1,
              "#f0f921"
             ]
            ],
            "type": "surface"
           }
          ],
          "table": [
           {
            "cells": {
             "fill": {
              "color": "#EBF0F8"
             },
             "line": {
              "color": "white"
             }
            },
            "header": {
             "fill": {
              "color": "#C8D4E3"
             },
             "line": {
              "color": "white"
             }
            },
            "type": "table"
           }
          ]
         },
         "layout": {
          "annotationdefaults": {
           "arrowcolor": "#2a3f5f",
           "arrowhead": 0,
           "arrowwidth": 1
          },
          "autotypenumbers": "strict",
          "coloraxis": {
           "colorbar": {
            "outlinewidth": 0,
            "ticks": ""
           }
          },
          "colorscale": {
           "diverging": [
            [
             0,
             "#8e0152"
            ],
            [
             0.1,
             "#c51b7d"
            ],
            [
             0.2,
             "#de77ae"
            ],
            [
             0.3,
             "#f1b6da"
            ],
            [
             0.4,
             "#fde0ef"
            ],
            [
             0.5,
             "#f7f7f7"
            ],
            [
             0.6,
             "#e6f5d0"
            ],
            [
             0.7,
             "#b8e186"
            ],
            [
             0.8,
             "#7fbc41"
            ],
            [
             0.9,
             "#4d9221"
            ],
            [
             1,
             "#276419"
            ]
           ],
           "sequential": [
            [
             0,
             "#0d0887"
            ],
            [
             0.1111111111111111,
             "#46039f"
            ],
            [
             0.2222222222222222,
             "#7201a8"
            ],
            [
             0.3333333333333333,
             "#9c179e"
            ],
            [
             0.4444444444444444,
             "#bd3786"
            ],
            [
             0.5555555555555556,
             "#d8576b"
            ],
            [
             0.6666666666666666,
             "#ed7953"
            ],
            [
             0.7777777777777778,
             "#fb9f3a"
            ],
            [
             0.8888888888888888,
             "#fdca26"
            ],
            [
             1,
             "#f0f921"
            ]
           ],
           "sequentialminus": [
            [
             0,
             "#0d0887"
            ],
            [
             0.1111111111111111,
             "#46039f"
            ],
            [
             0.2222222222222222,
             "#7201a8"
            ],
            [
             0.3333333333333333,
             "#9c179e"
            ],
            [
             0.4444444444444444,
             "#bd3786"
            ],
            [
             0.5555555555555556,
             "#d8576b"
            ],
            [
             0.6666666666666666,
             "#ed7953"
            ],
            [
             0.7777777777777778,
             "#fb9f3a"
            ],
            [
             0.8888888888888888,
             "#fdca26"
            ],
            [
             1,
             "#f0f921"
            ]
           ]
          },
          "colorway": [
           "#636efa",
           "#EF553B",
           "#00cc96",
           "#ab63fa",
           "#FFA15A",
           "#19d3f3",
           "#FF6692",
           "#B6E880",
           "#FF97FF",
           "#FECB52"
          ],
          "font": {
           "color": "#2a3f5f"
          },
          "geo": {
           "bgcolor": "white",
           "lakecolor": "white",
           "landcolor": "#E5ECF6",
           "showlakes": true,
           "showland": true,
           "subunitcolor": "white"
          },
          "hoverlabel": {
           "align": "left"
          },
          "hovermode": "closest",
          "mapbox": {
           "style": "light"
          },
          "paper_bgcolor": "white",
          "plot_bgcolor": "#E5ECF6",
          "polar": {
           "angularaxis": {
            "gridcolor": "white",
            "linecolor": "white",
            "ticks": ""
           },
           "bgcolor": "#E5ECF6",
           "radialaxis": {
            "gridcolor": "white",
            "linecolor": "white",
            "ticks": ""
           }
          },
          "scene": {
           "xaxis": {
            "backgroundcolor": "#E5ECF6",
            "gridcolor": "white",
            "gridwidth": 2,
            "linecolor": "white",
            "showbackground": true,
            "ticks": "",
            "zerolinecolor": "white"
           },
           "yaxis": {
            "backgroundcolor": "#E5ECF6",
            "gridcolor": "white",
            "gridwidth": 2,
            "linecolor": "white",
            "showbackground": true,
            "ticks": "",
            "zerolinecolor": "white"
           },
           "zaxis": {
            "backgroundcolor": "#E5ECF6",
            "gridcolor": "white",
            "gridwidth": 2,
            "linecolor": "white",
            "showbackground": true,
            "ticks": "",
            "zerolinecolor": "white"
           }
          },
          "shapedefaults": {
           "line": {
            "color": "#2a3f5f"
           }
          },
          "ternary": {
           "aaxis": {
            "gridcolor": "white",
            "linecolor": "white",
            "ticks": ""
           },
           "baxis": {
            "gridcolor": "white",
            "linecolor": "white",
            "ticks": ""
           },
           "bgcolor": "#E5ECF6",
           "caxis": {
            "gridcolor": "white",
            "linecolor": "white",
            "ticks": ""
           }
          },
          "title": {
           "x": 0.05
          },
          "xaxis": {
           "automargin": true,
           "gridcolor": "white",
           "linecolor": "white",
           "ticks": "",
           "title": {
            "standoff": 15
           },
           "zerolinecolor": "white",
           "zerolinewidth": 2
          },
          "yaxis": {
           "automargin": true,
           "gridcolor": "white",
           "linecolor": "white",
           "ticks": "",
           "title": {
            "standoff": 15
           },
           "zerolinecolor": "white",
           "zerolinewidth": 2
          }
         }
        },
        "title": {
         "text": "Element Frequency"
        },
        "width": 600,
        "xaxis": {
         "anchor": "y",
         "domain": [
          0,
          0.765
         ]
        },
        "xaxis2": {
         "anchor": "y2",
         "domain": [
          0.865,
          1
         ]
        },
        "yaxis": {
         "anchor": "x",
         "domain": [
          0,
          1
         ]
        },
        "yaxis2": {
         "anchor": "x2",
         "domain": [
          0,
          1
         ]
        }
       }
      }
     },
     "metadata": {},
     "output_type": "display_data"
    }
   ],
   "source": [
    "# Ploting Heatmap\n",
    "\n",
    "# Sorting data\n",
    "df_freq_count = df_freq_count.sort_index()\n",
    "\n",
    "# Creating figure\n",
    "fig = sp.make_subplots(\n",
    "    rows=1, \n",
    "    cols=2,\n",
    "    column_widths=[0.85, 0.15],\n",
    ")\n",
    "\n",
    "# Creating \"Positions\" traces\n",
    "fig.add_trace(\n",
    "    go.Heatmap(\n",
    "        x=[f\"p{i}\" for i in range(NUMBER_OF_ELEMENTS)],\n",
    "        y=df_freq_count.index,\n",
    "        z=df_freq_count / len(df),\n",
    "        coloraxis=f\"coloraxis1\",\n",
    "        name=\"Positions\",\n",
    "    ),\n",
    "    row=1,\n",
    "    col=1,\n",
    ")\n",
    "\n",
    "# Creating \"Total Unique\" trace\n",
    "fig.add_trace(\n",
    "    go.Heatmap(\n",
    "        x=[\"Total\"],\n",
    "        y=df_freq_count.index,\n",
    "        z=df_freq_count[[\"total\"]] / len(df),\n",
    "        coloraxis=f\"coloraxis2\",\n",
    "        name=\"Total\",\n",
    "    ),\n",
    "    row=1,\n",
    "    col=2,\n",
    ")\n",
    "\n",
    "# Updating layout\n",
    "fig.update_layout(\n",
    "    title=\"Element Frequency\",\n",
    "    height=600,\n",
    "    width=600,\n",
    "    coloraxis1=dict(\n",
    "        showscale=False,\n",
    "        colorscale=\"Portland\",\n",
    "    ),\n",
    "    coloraxis2=dict(\n",
    "        showscale=False,\n",
    "        colorscale=\"Portland\",\n",
    "    ),\n",
    ")\n",
    "\n",
    "# Showing figure\n",
    "fig.show()"
   ]
  },
  {
   "cell_type": "code",
   "execution_count": 19,
   "metadata": {},
   "outputs": [
    {
     "data": {
      "application/vnd.plotly.v1+json": {
       "config": {
        "plotlyServerURL": "https://plot.ly"
       },
       "data": [
        {
         "name": "p0",
         "type": "bar",
         "x": [
          "1",
          "2",
          "4",
          "3",
          "5",
          "6",
          "7",
          "8",
          "9",
          "*",
          "+",
          "-",
          "/",
          "0",
          "="
         ],
         "xaxis": "x",
         "y": [
          0.3058252427184466,
          0.0970873786407767,
          0.0970873786407767,
          0.08737864077669903,
          0.0825242718446602,
          0.0825242718446602,
          0.0825242718446602,
          0.0825242718446602,
          0.0825242718446602,
          0,
          0,
          0,
          0,
          0,
          0
         ],
         "yaxis": "y"
        },
        {
         "name": "p1",
         "type": "bar",
         "x": [
          "*",
          "+",
          "0",
          "2",
          "4",
          "1",
          "5",
          "6",
          "8",
          "3",
          "7",
          "9",
          "-",
          "/",
          "="
         ],
         "xaxis": "x2",
         "y": [
          0.2815533980582524,
          0.21844660194174756,
          0.0825242718446602,
          0.0825242718446602,
          0.06796116504854369,
          0.05339805825242718,
          0.05339805825242718,
          0.05339805825242718,
          0.043689320388349516,
          0.038834951456310676,
          0.019417475728155338,
          0.0048543689320388345,
          0,
          0,
          0
         ],
         "yaxis": "y2"
        },
        {
         "name": "p2",
         "type": "bar",
         "x": [
          "/",
          "-",
          "9",
          "8",
          "7",
          "6",
          "5",
          "4",
          "3",
          "2",
          "1",
          "*",
          "+",
          "0",
          "="
         ],
         "xaxis": "x3",
         "y": [
          0.2815533980582524,
          0.21844660194174756,
          0.0825242718446602,
          0.07766990291262135,
          0.07281553398058252,
          0.06796116504854369,
          0.06310679611650485,
          0.05339805825242718,
          0.043689320388349516,
          0.03398058252427184,
          0.0048543689320388345,
          0,
          0,
          0,
          0
         ],
         "yaxis": "y3"
        },
        {
         "name": "p3",
         "type": "bar",
         "x": [
          "=",
          "9",
          "8",
          "7",
          "6",
          "5",
          "4",
          "3",
          "2",
          "1",
          "*",
          "+",
          "-",
          "/",
          "0"
         ],
         "xaxis": "x4",
         "y": [
          0.5,
          0.0825242718446602,
          0.07766990291262135,
          0.07281553398058252,
          0.06796116504854369,
          0.06310679611650485,
          0.05339805825242718,
          0.043689320388349516,
          0.03398058252427184,
          0.0048543689320388345,
          0,
          0,
          0,
          0,
          0
         ],
         "yaxis": "y4"
        },
        {
         "name": "p4",
         "type": "bar",
         "x": [
          "=",
          "1",
          "2",
          "3",
          "4",
          "5",
          "6",
          "7",
          "8",
          "*",
          "+",
          "-",
          "/",
          "0",
          "9"
         ],
         "xaxis": "x5",
         "y": [
          0.5,
          0.30097087378640774,
          0.06310679611650485,
          0.043689320388349516,
          0.043689320388349516,
          0.019417475728155338,
          0.014563106796116505,
          0.009708737864077669,
          0.0048543689320388345,
          0,
          0,
          0,
          0,
          0,
          0
         ],
         "yaxis": "y5"
        },
        {
         "name": "p5",
         "type": "bar",
         "x": [
          "4",
          "6",
          "8",
          "2",
          "5",
          "7",
          "9",
          "0",
          "3",
          "1",
          "*",
          "+",
          "-",
          "/",
          "="
         ],
         "xaxis": "x6",
         "y": [
          0.12135922330097088,
          0.12135922330097088,
          0.12135922330097088,
          0.11650485436893204,
          0.11650485436893204,
          0.09223300970873786,
          0.08737864077669903,
          0.0825242718446602,
          0.0825242718446602,
          0.05825242718446602,
          0,
          0,
          0,
          0,
          0
         ],
         "yaxis": "y6"
        },
        {
         "name": "Total",
         "type": "bar",
         "x": [
          "=",
          "1",
          "2",
          "4",
          "6",
          "8",
          "3",
          "7",
          "9",
          "5",
          "*",
          "/",
          "+",
          "-",
          "0"
         ],
         "xaxis": "x7",
         "y": [
          1,
          0.6310679611650486,
          0.4077669902912621,
          0.4077669902912621,
          0.3786407766990291,
          0.36893203883495146,
          0.33980582524271846,
          0.3300970873786408,
          0.32038834951456313,
          0.3106796116504854,
          0.2815533980582524,
          0.2815533980582524,
          0.21844660194174756,
          0.21844660194174756,
          0.1650485436893204
         ],
         "yaxis": "y7"
        }
       ],
       "layout": {
        "height": 800,
        "showlegend": false,
        "template": {
         "data": {
          "bar": [
           {
            "error_x": {
             "color": "#2a3f5f"
            },
            "error_y": {
             "color": "#2a3f5f"
            },
            "marker": {
             "line": {
              "color": "#E5ECF6",
              "width": 0.5
             },
             "pattern": {
              "fillmode": "overlay",
              "size": 10,
              "solidity": 0.2
             }
            },
            "type": "bar"
           }
          ],
          "barpolar": [
           {
            "marker": {
             "line": {
              "color": "#E5ECF6",
              "width": 0.5
             },
             "pattern": {
              "fillmode": "overlay",
              "size": 10,
              "solidity": 0.2
             }
            },
            "type": "barpolar"
           }
          ],
          "carpet": [
           {
            "aaxis": {
             "endlinecolor": "#2a3f5f",
             "gridcolor": "white",
             "linecolor": "white",
             "minorgridcolor": "white",
             "startlinecolor": "#2a3f5f"
            },
            "baxis": {
             "endlinecolor": "#2a3f5f",
             "gridcolor": "white",
             "linecolor": "white",
             "minorgridcolor": "white",
             "startlinecolor": "#2a3f5f"
            },
            "type": "carpet"
           }
          ],
          "choropleth": [
           {
            "colorbar": {
             "outlinewidth": 0,
             "ticks": ""
            },
            "type": "choropleth"
           }
          ],
          "contour": [
           {
            "colorbar": {
             "outlinewidth": 0,
             "ticks": ""
            },
            "colorscale": [
             [
              0,
              "#0d0887"
             ],
             [
              0.1111111111111111,
              "#46039f"
             ],
             [
              0.2222222222222222,
              "#7201a8"
             ],
             [
              0.3333333333333333,
              "#9c179e"
             ],
             [
              0.4444444444444444,
              "#bd3786"
             ],
             [
              0.5555555555555556,
              "#d8576b"
             ],
             [
              0.6666666666666666,
              "#ed7953"
             ],
             [
              0.7777777777777778,
              "#fb9f3a"
             ],
             [
              0.8888888888888888,
              "#fdca26"
             ],
             [
              1,
              "#f0f921"
             ]
            ],
            "type": "contour"
           }
          ],
          "contourcarpet": [
           {
            "colorbar": {
             "outlinewidth": 0,
             "ticks": ""
            },
            "type": "contourcarpet"
           }
          ],
          "heatmap": [
           {
            "colorbar": {
             "outlinewidth": 0,
             "ticks": ""
            },
            "colorscale": [
             [
              0,
              "#0d0887"
             ],
             [
              0.1111111111111111,
              "#46039f"
             ],
             [
              0.2222222222222222,
              "#7201a8"
             ],
             [
              0.3333333333333333,
              "#9c179e"
             ],
             [
              0.4444444444444444,
              "#bd3786"
             ],
             [
              0.5555555555555556,
              "#d8576b"
             ],
             [
              0.6666666666666666,
              "#ed7953"
             ],
             [
              0.7777777777777778,
              "#fb9f3a"
             ],
             [
              0.8888888888888888,
              "#fdca26"
             ],
             [
              1,
              "#f0f921"
             ]
            ],
            "type": "heatmap"
           }
          ],
          "heatmapgl": [
           {
            "colorbar": {
             "outlinewidth": 0,
             "ticks": ""
            },
            "colorscale": [
             [
              0,
              "#0d0887"
             ],
             [
              0.1111111111111111,
              "#46039f"
             ],
             [
              0.2222222222222222,
              "#7201a8"
             ],
             [
              0.3333333333333333,
              "#9c179e"
             ],
             [
              0.4444444444444444,
              "#bd3786"
             ],
             [
              0.5555555555555556,
              "#d8576b"
             ],
             [
              0.6666666666666666,
              "#ed7953"
             ],
             [
              0.7777777777777778,
              "#fb9f3a"
             ],
             [
              0.8888888888888888,
              "#fdca26"
             ],
             [
              1,
              "#f0f921"
             ]
            ],
            "type": "heatmapgl"
           }
          ],
          "histogram": [
           {
            "marker": {
             "pattern": {
              "fillmode": "overlay",
              "size": 10,
              "solidity": 0.2
             }
            },
            "type": "histogram"
           }
          ],
          "histogram2d": [
           {
            "colorbar": {
             "outlinewidth": 0,
             "ticks": ""
            },
            "colorscale": [
             [
              0,
              "#0d0887"
             ],
             [
              0.1111111111111111,
              "#46039f"
             ],
             [
              0.2222222222222222,
              "#7201a8"
             ],
             [
              0.3333333333333333,
              "#9c179e"
             ],
             [
              0.4444444444444444,
              "#bd3786"
             ],
             [
              0.5555555555555556,
              "#d8576b"
             ],
             [
              0.6666666666666666,
              "#ed7953"
             ],
             [
              0.7777777777777778,
              "#fb9f3a"
             ],
             [
              0.8888888888888888,
              "#fdca26"
             ],
             [
              1,
              "#f0f921"
             ]
            ],
            "type": "histogram2d"
           }
          ],
          "histogram2dcontour": [
           {
            "colorbar": {
             "outlinewidth": 0,
             "ticks": ""
            },
            "colorscale": [
             [
              0,
              "#0d0887"
             ],
             [
              0.1111111111111111,
              "#46039f"
             ],
             [
              0.2222222222222222,
              "#7201a8"
             ],
             [
              0.3333333333333333,
              "#9c179e"
             ],
             [
              0.4444444444444444,
              "#bd3786"
             ],
             [
              0.5555555555555556,
              "#d8576b"
             ],
             [
              0.6666666666666666,
              "#ed7953"
             ],
             [
              0.7777777777777778,
              "#fb9f3a"
             ],
             [
              0.8888888888888888,
              "#fdca26"
             ],
             [
              1,
              "#f0f921"
             ]
            ],
            "type": "histogram2dcontour"
           }
          ],
          "mesh3d": [
           {
            "colorbar": {
             "outlinewidth": 0,
             "ticks": ""
            },
            "type": "mesh3d"
           }
          ],
          "parcoords": [
           {
            "line": {
             "colorbar": {
              "outlinewidth": 0,
              "ticks": ""
             }
            },
            "type": "parcoords"
           }
          ],
          "pie": [
           {
            "automargin": true,
            "type": "pie"
           }
          ],
          "scatter": [
           {
            "fillpattern": {
             "fillmode": "overlay",
             "size": 10,
             "solidity": 0.2
            },
            "type": "scatter"
           }
          ],
          "scatter3d": [
           {
            "line": {
             "colorbar": {
              "outlinewidth": 0,
              "ticks": ""
             }
            },
            "marker": {
             "colorbar": {
              "outlinewidth": 0,
              "ticks": ""
             }
            },
            "type": "scatter3d"
           }
          ],
          "scattercarpet": [
           {
            "marker": {
             "colorbar": {
              "outlinewidth": 0,
              "ticks": ""
             }
            },
            "type": "scattercarpet"
           }
          ],
          "scattergeo": [
           {
            "marker": {
             "colorbar": {
              "outlinewidth": 0,
              "ticks": ""
             }
            },
            "type": "scattergeo"
           }
          ],
          "scattergl": [
           {
            "marker": {
             "colorbar": {
              "outlinewidth": 0,
              "ticks": ""
             }
            },
            "type": "scattergl"
           }
          ],
          "scattermapbox": [
           {
            "marker": {
             "colorbar": {
              "outlinewidth": 0,
              "ticks": ""
             }
            },
            "type": "scattermapbox"
           }
          ],
          "scatterpolar": [
           {
            "marker": {
             "colorbar": {
              "outlinewidth": 0,
              "ticks": ""
             }
            },
            "type": "scatterpolar"
           }
          ],
          "scatterpolargl": [
           {
            "marker": {
             "colorbar": {
              "outlinewidth": 0,
              "ticks": ""
             }
            },
            "type": "scatterpolargl"
           }
          ],
          "scatterternary": [
           {
            "marker": {
             "colorbar": {
              "outlinewidth": 0,
              "ticks": ""
             }
            },
            "type": "scatterternary"
           }
          ],
          "surface": [
           {
            "colorbar": {
             "outlinewidth": 0,
             "ticks": ""
            },
            "colorscale": [
             [
              0,
              "#0d0887"
             ],
             [
              0.1111111111111111,
              "#46039f"
             ],
             [
              0.2222222222222222,
              "#7201a8"
             ],
             [
              0.3333333333333333,
              "#9c179e"
             ],
             [
              0.4444444444444444,
              "#bd3786"
             ],
             [
              0.5555555555555556,
              "#d8576b"
             ],
             [
              0.6666666666666666,
              "#ed7953"
             ],
             [
              0.7777777777777778,
              "#fb9f3a"
             ],
             [
              0.8888888888888888,
              "#fdca26"
             ],
             [
              1,
              "#f0f921"
             ]
            ],
            "type": "surface"
           }
          ],
          "table": [
           {
            "cells": {
             "fill": {
              "color": "#EBF0F8"
             },
             "line": {
              "color": "white"
             }
            },
            "header": {
             "fill": {
              "color": "#C8D4E3"
             },
             "line": {
              "color": "white"
             }
            },
            "type": "table"
           }
          ]
         },
         "layout": {
          "annotationdefaults": {
           "arrowcolor": "#2a3f5f",
           "arrowhead": 0,
           "arrowwidth": 1
          },
          "autotypenumbers": "strict",
          "coloraxis": {
           "colorbar": {
            "outlinewidth": 0,
            "ticks": ""
           }
          },
          "colorscale": {
           "diverging": [
            [
             0,
             "#8e0152"
            ],
            [
             0.1,
             "#c51b7d"
            ],
            [
             0.2,
             "#de77ae"
            ],
            [
             0.3,
             "#f1b6da"
            ],
            [
             0.4,
             "#fde0ef"
            ],
            [
             0.5,
             "#f7f7f7"
            ],
            [
             0.6,
             "#e6f5d0"
            ],
            [
             0.7,
             "#b8e186"
            ],
            [
             0.8,
             "#7fbc41"
            ],
            [
             0.9,
             "#4d9221"
            ],
            [
             1,
             "#276419"
            ]
           ],
           "sequential": [
            [
             0,
             "#0d0887"
            ],
            [
             0.1111111111111111,
             "#46039f"
            ],
            [
             0.2222222222222222,
             "#7201a8"
            ],
            [
             0.3333333333333333,
             "#9c179e"
            ],
            [
             0.4444444444444444,
             "#bd3786"
            ],
            [
             0.5555555555555556,
             "#d8576b"
            ],
            [
             0.6666666666666666,
             "#ed7953"
            ],
            [
             0.7777777777777778,
             "#fb9f3a"
            ],
            [
             0.8888888888888888,
             "#fdca26"
            ],
            [
             1,
             "#f0f921"
            ]
           ],
           "sequentialminus": [
            [
             0,
             "#0d0887"
            ],
            [
             0.1111111111111111,
             "#46039f"
            ],
            [
             0.2222222222222222,
             "#7201a8"
            ],
            [
             0.3333333333333333,
             "#9c179e"
            ],
            [
             0.4444444444444444,
             "#bd3786"
            ],
            [
             0.5555555555555556,
             "#d8576b"
            ],
            [
             0.6666666666666666,
             "#ed7953"
            ],
            [
             0.7777777777777778,
             "#fb9f3a"
            ],
            [
             0.8888888888888888,
             "#fdca26"
            ],
            [
             1,
             "#f0f921"
            ]
           ]
          },
          "colorway": [
           "#636efa",
           "#EF553B",
           "#00cc96",
           "#ab63fa",
           "#FFA15A",
           "#19d3f3",
           "#FF6692",
           "#B6E880",
           "#FF97FF",
           "#FECB52"
          ],
          "font": {
           "color": "#2a3f5f"
          },
          "geo": {
           "bgcolor": "white",
           "lakecolor": "white",
           "landcolor": "#E5ECF6",
           "showlakes": true,
           "showland": true,
           "subunitcolor": "white"
          },
          "hoverlabel": {
           "align": "left"
          },
          "hovermode": "closest",
          "mapbox": {
           "style": "light"
          },
          "paper_bgcolor": "white",
          "plot_bgcolor": "#E5ECF6",
          "polar": {
           "angularaxis": {
            "gridcolor": "white",
            "linecolor": "white",
            "ticks": ""
           },
           "bgcolor": "#E5ECF6",
           "radialaxis": {
            "gridcolor": "white",
            "linecolor": "white",
            "ticks": ""
           }
          },
          "scene": {
           "xaxis": {
            "backgroundcolor": "#E5ECF6",
            "gridcolor": "white",
            "gridwidth": 2,
            "linecolor": "white",
            "showbackground": true,
            "ticks": "",
            "zerolinecolor": "white"
           },
           "yaxis": {
            "backgroundcolor": "#E5ECF6",
            "gridcolor": "white",
            "gridwidth": 2,
            "linecolor": "white",
            "showbackground": true,
            "ticks": "",
            "zerolinecolor": "white"
           },
           "zaxis": {
            "backgroundcolor": "#E5ECF6",
            "gridcolor": "white",
            "gridwidth": 2,
            "linecolor": "white",
            "showbackground": true,
            "ticks": "",
            "zerolinecolor": "white"
           }
          },
          "shapedefaults": {
           "line": {
            "color": "#2a3f5f"
           }
          },
          "ternary": {
           "aaxis": {
            "gridcolor": "white",
            "linecolor": "white",
            "ticks": ""
           },
           "baxis": {
            "gridcolor": "white",
            "linecolor": "white",
            "ticks": ""
           },
           "bgcolor": "#E5ECF6",
           "caxis": {
            "gridcolor": "white",
            "linecolor": "white",
            "ticks": ""
           }
          },
          "title": {
           "x": 0.05
          },
          "xaxis": {
           "automargin": true,
           "gridcolor": "white",
           "linecolor": "white",
           "ticks": "",
           "title": {
            "standoff": 15
           },
           "zerolinecolor": "white",
           "zerolinewidth": 2
          },
          "yaxis": {
           "automargin": true,
           "gridcolor": "white",
           "linecolor": "white",
           "ticks": "",
           "title": {
            "standoff": 15
           },
           "zerolinecolor": "white",
           "zerolinewidth": 2
          }
         }
        },
        "title": {
         "text": "Element frequency"
        },
        "width": 1000,
        "xaxis": {
         "anchor": "y",
         "domain": [
          0,
          1
         ]
        },
        "xaxis2": {
         "anchor": "y2",
         "domain": [
          0,
          1
         ]
        },
        "xaxis3": {
         "anchor": "y3",
         "domain": [
          0,
          1
         ]
        },
        "xaxis4": {
         "anchor": "y4",
         "domain": [
          0,
          1
         ]
        },
        "xaxis5": {
         "anchor": "y5",
         "domain": [
          0,
          1
         ]
        },
        "xaxis6": {
         "anchor": "y6",
         "domain": [
          0,
          1
         ]
        },
        "xaxis7": {
         "anchor": "y7",
         "domain": [
          0,
          1
         ]
        },
        "yaxis": {
         "anchor": "x",
         "domain": [
          0.8938775510204082,
          1
         ],
         "title": {
          "text": "p0"
         }
        },
        "yaxis2": {
         "anchor": "x2",
         "domain": [
          0.7448979591836735,
          0.8510204081632654
         ],
         "title": {
          "text": "p1"
         }
        },
        "yaxis3": {
         "anchor": "x3",
         "domain": [
          0.5959183673469388,
          0.7020408163265307
         ],
         "title": {
          "text": "p2"
         }
        },
        "yaxis4": {
         "anchor": "x4",
         "domain": [
          0.4469387755102041,
          0.553061224489796
         ],
         "title": {
          "text": "p3"
         }
        },
        "yaxis5": {
         "anchor": "x5",
         "domain": [
          0.2979591836734694,
          0.40408163265306124
         ],
         "title": {
          "text": "p4"
         }
        },
        "yaxis6": {
         "anchor": "x6",
         "domain": [
          0.1489795918367347,
          0.25510204081632654
         ],
         "title": {
          "text": "p5"
         }
        },
        "yaxis7": {
         "anchor": "x7",
         "domain": [
          0,
          0.10612244897959185
         ],
         "title": {
          "text": "Total"
         }
        }
       }
      }
     },
     "metadata": {},
     "output_type": "display_data"
    }
   ],
   "source": [
    "# Ploting Bars\n",
    "\n",
    "# Creating figure\n",
    "fig = sp.make_subplots(\n",
    "    rows=NUMBER_OF_ELEMENTS + 1, \n",
    "    cols=1,\n",
    ")\n",
    "\n",
    "# Creating a trace for each position\n",
    "for i, position in enumerate(df[\"positions\"].columns):\n",
    "\n",
    "    # Sorting the data\n",
    "    df_temp = df_freq_count.sort_values(by=position, ascending=False)\n",
    "\n",
    "    # Creating the trace\n",
    "    fig.add_trace(\n",
    "        go.Bar(\n",
    "            x=df_temp.index,\n",
    "            y=df_temp[position] / len(df),\n",
    "            name=position,\n",
    "        ),\n",
    "        row=i+1,\n",
    "        col=1,\n",
    "    )\n",
    "\n",
    "# Creating a trace for the \"Total\"\n",
    "df_freq_count = df_freq_count.sort_values(by=\"total\", ascending=False)\n",
    "\n",
    "fig.add_trace(\n",
    "    go.Bar(\n",
    "        x=df_freq_count.index,\n",
    "        y=df_freq_count[\"total\"] / len(df),\n",
    "        name=\"Total\",\n",
    "    ),\n",
    "    row=NUMBER_OF_ELEMENTS + 1,\n",
    "    col=1,\n",
    ")\n",
    "\n",
    "titles_positions = {f\"yaxis{i + 1}_title\": position for i, position in enumerate(df[\"positions\"].columns)}\n",
    "title_total = {f\"yaxis{NUMBER_OF_ELEMENTS + 1}_title\": \"Total\"}\n",
    "\n",
    "# Updating the layout\n",
    "fig.update_layout(\n",
    "    title=\"Element frequency\",\n",
    "    height=800,\n",
    "    width=1000,\n",
    "    showlegend=False,\n",
    "    **titles_positions,\n",
    ")\n",
    "\n",
    "fig.update_layout(\n",
    "    **title_total,\n",
    ")\n",
    "\n",
    "# Showing the figure\n",
    "fig.show()"
   ]
  },
  {
   "cell_type": "markdown",
   "metadata": {},
   "source": [
    "# Correlating elements"
   ]
  },
  {
   "cell_type": "code",
   "execution_count": 20,
   "metadata": {},
   "outputs": [
    {
     "data": {
      "text/html": [
       "<div>\n",
       "<style scoped>\n",
       "    .dataframe tbody tr th:only-of-type {\n",
       "        vertical-align: middle;\n",
       "    }\n",
       "\n",
       "    .dataframe tbody tr th {\n",
       "        vertical-align: top;\n",
       "    }\n",
       "\n",
       "    .dataframe thead th {\n",
       "        text-align: right;\n",
       "    }\n",
       "</style>\n",
       "<table border=\"1\" class=\"dataframe\">\n",
       "  <thead>\n",
       "    <tr style=\"text-align: right;\">\n",
       "      <th></th>\n",
       "      <th>1</th>\n",
       "      <th>2</th>\n",
       "      <th>3</th>\n",
       "      <th>4</th>\n",
       "      <th>5</th>\n",
       "      <th>6</th>\n",
       "      <th>8</th>\n",
       "      <th>7</th>\n",
       "      <th>9</th>\n",
       "      <th>0</th>\n",
       "      <th>+</th>\n",
       "      <th>-</th>\n",
       "      <th>*</th>\n",
       "      <th>/</th>\n",
       "      <th>=</th>\n",
       "    </tr>\n",
       "  </thead>\n",
       "  <tbody>\n",
       "    <tr>\n",
       "      <th>1</th>\n",
       "      <td>1.000000</td>\n",
       "      <td>-0.088483</td>\n",
       "      <td>-0.114093</td>\n",
       "      <td>-0.330742</td>\n",
       "      <td>-0.184896</td>\n",
       "      <td>-0.180651</td>\n",
       "      <td>-0.125763</td>\n",
       "      <td>-0.126622</td>\n",
       "      <td>0.015551</td>\n",
       "      <td>0.025951</td>\n",
       "      <td>0.417128</td>\n",
       "      <td>0.417128</td>\n",
       "      <td>-0.383216</td>\n",
       "      <td>-0.383216</td>\n",
       "      <td>NaN</td>\n",
       "    </tr>\n",
       "    <tr>\n",
       "      <th>2</th>\n",
       "      <td>-0.088483</td>\n",
       "      <td>1.000000</td>\n",
       "      <td>-0.113618</td>\n",
       "      <td>0.025673</td>\n",
       "      <td>-0.235715</td>\n",
       "      <td>-0.191765</td>\n",
       "      <td>-0.062668</td>\n",
       "      <td>-0.048721</td>\n",
       "      <td>-0.175984</td>\n",
       "      <td>-0.061991</td>\n",
       "      <td>-0.181437</td>\n",
       "      <td>-0.181437</td>\n",
       "      <td>0.166686</td>\n",
       "      <td>0.166686</td>\n",
       "      <td>NaN</td>\n",
       "    </tr>\n",
       "    <tr>\n",
       "      <th>3</th>\n",
       "      <td>-0.114093</td>\n",
       "      <td>-0.113618</td>\n",
       "      <td>1.000000</td>\n",
       "      <td>-0.196626</td>\n",
       "      <td>-0.060130</td>\n",
       "      <td>-0.046147</td>\n",
       "      <td>-0.154996</td>\n",
       "      <td>-0.009257</td>\n",
       "      <td>-0.075646</td>\n",
       "      <td>-0.098104</td>\n",
       "      <td>-0.081638</td>\n",
       "      <td>-0.081638</td>\n",
       "      <td>0.075001</td>\n",
       "      <td>0.075001</td>\n",
       "      <td>NaN</td>\n",
       "    </tr>\n",
       "    <tr>\n",
       "      <th>4</th>\n",
       "      <td>-0.330742</td>\n",
       "      <td>0.025673</td>\n",
       "      <td>-0.196626</td>\n",
       "      <td>1.000000</td>\n",
       "      <td>-0.158007</td>\n",
       "      <td>0.020266</td>\n",
       "      <td>-0.010889</td>\n",
       "      <td>-0.127184</td>\n",
       "      <td>-0.147231</td>\n",
       "      <td>-0.067667</td>\n",
       "      <td>-0.141853</td>\n",
       "      <td>-0.141853</td>\n",
       "      <td>0.130320</td>\n",
       "      <td>0.130320</td>\n",
       "      <td>NaN</td>\n",
       "    </tr>\n",
       "    <tr>\n",
       "      <th>5</th>\n",
       "      <td>-0.184896</td>\n",
       "      <td>-0.235715</td>\n",
       "      <td>-0.060130</td>\n",
       "      <td>-0.158007</td>\n",
       "      <td>1.000000</td>\n",
       "      <td>-0.175303</td>\n",
       "      <td>-0.227489</td>\n",
       "      <td>-0.123717</td>\n",
       "      <td>-0.112986</td>\n",
       "      <td>0.128380</td>\n",
       "      <td>-0.069793</td>\n",
       "      <td>-0.069793</td>\n",
       "      <td>0.064119</td>\n",
       "      <td>0.064119</td>\n",
       "      <td>NaN</td>\n",
       "    </tr>\n",
       "    <tr>\n",
       "      <th>...</th>\n",
       "      <td>...</td>\n",
       "      <td>...</td>\n",
       "      <td>...</td>\n",
       "      <td>...</td>\n",
       "      <td>...</td>\n",
       "      <td>...</td>\n",
       "      <td>...</td>\n",
       "      <td>...</td>\n",
       "      <td>...</td>\n",
       "      <td>...</td>\n",
       "      <td>...</td>\n",
       "      <td>...</td>\n",
       "      <td>...</td>\n",
       "      <td>...</td>\n",
       "      <td>...</td>\n",
       "    </tr>\n",
       "    <tr>\n",
       "      <th>+</th>\n",
       "      <td>0.417128</td>\n",
       "      <td>-0.181437</td>\n",
       "      <td>-0.081638</td>\n",
       "      <td>-0.141853</td>\n",
       "      <td>-0.069793</td>\n",
       "      <td>-0.069656</td>\n",
       "      <td>-0.028064</td>\n",
       "      <td>0.006190</td>\n",
       "      <td>0.062034</td>\n",
       "      <td>0.049776</td>\n",
       "      <td>1.000000</td>\n",
       "      <td>-0.279503</td>\n",
       "      <td>-0.330961</td>\n",
       "      <td>-0.330961</td>\n",
       "      <td>NaN</td>\n",
       "    </tr>\n",
       "    <tr>\n",
       "      <th>-</th>\n",
       "      <td>0.417128</td>\n",
       "      <td>-0.181437</td>\n",
       "      <td>-0.081638</td>\n",
       "      <td>-0.141853</td>\n",
       "      <td>-0.069793</td>\n",
       "      <td>-0.069656</td>\n",
       "      <td>-0.028064</td>\n",
       "      <td>0.006190</td>\n",
       "      <td>0.062034</td>\n",
       "      <td>0.049776</td>\n",
       "      <td>-0.279503</td>\n",
       "      <td>1.000000</td>\n",
       "      <td>-0.330961</td>\n",
       "      <td>-0.330961</td>\n",
       "      <td>NaN</td>\n",
       "    </tr>\n",
       "    <tr>\n",
       "      <th>*</th>\n",
       "      <td>-0.383216</td>\n",
       "      <td>0.166686</td>\n",
       "      <td>0.075001</td>\n",
       "      <td>0.130320</td>\n",
       "      <td>0.064119</td>\n",
       "      <td>0.063993</td>\n",
       "      <td>0.025783</td>\n",
       "      <td>-0.005687</td>\n",
       "      <td>-0.056990</td>\n",
       "      <td>-0.045730</td>\n",
       "      <td>-0.330961</td>\n",
       "      <td>-0.330961</td>\n",
       "      <td>1.000000</td>\n",
       "      <td>-0.391892</td>\n",
       "      <td>NaN</td>\n",
       "    </tr>\n",
       "    <tr>\n",
       "      <th>/</th>\n",
       "      <td>-0.383216</td>\n",
       "      <td>0.166686</td>\n",
       "      <td>0.075001</td>\n",
       "      <td>0.130320</td>\n",
       "      <td>0.064119</td>\n",
       "      <td>0.063993</td>\n",
       "      <td>0.025783</td>\n",
       "      <td>-0.005687</td>\n",
       "      <td>-0.056990</td>\n",
       "      <td>-0.045730</td>\n",
       "      <td>-0.330961</td>\n",
       "      <td>-0.330961</td>\n",
       "      <td>-0.391892</td>\n",
       "      <td>1.000000</td>\n",
       "      <td>NaN</td>\n",
       "    </tr>\n",
       "    <tr>\n",
       "      <th>=</th>\n",
       "      <td>NaN</td>\n",
       "      <td>NaN</td>\n",
       "      <td>NaN</td>\n",
       "      <td>NaN</td>\n",
       "      <td>NaN</td>\n",
       "      <td>NaN</td>\n",
       "      <td>NaN</td>\n",
       "      <td>NaN</td>\n",
       "      <td>NaN</td>\n",
       "      <td>NaN</td>\n",
       "      <td>NaN</td>\n",
       "      <td>NaN</td>\n",
       "      <td>NaN</td>\n",
       "      <td>NaN</td>\n",
       "      <td>NaN</td>\n",
       "    </tr>\n",
       "  </tbody>\n",
       "</table>\n",
       "<p>15 rows × 15 columns</p>\n",
       "</div>"
      ],
      "text/plain": [
       "           1         2         3         4         5         6         8  \\\n",
       "1   1.000000 -0.088483 -0.114093 -0.330742 -0.184896 -0.180651 -0.125763   \n",
       "2  -0.088483  1.000000 -0.113618  0.025673 -0.235715 -0.191765 -0.062668   \n",
       "3  -0.114093 -0.113618  1.000000 -0.196626 -0.060130 -0.046147 -0.154996   \n",
       "4  -0.330742  0.025673 -0.196626  1.000000 -0.158007  0.020266 -0.010889   \n",
       "5  -0.184896 -0.235715 -0.060130 -0.158007  1.000000 -0.175303 -0.227489   \n",
       "..       ...       ...       ...       ...       ...       ...       ...   \n",
       "+   0.417128 -0.181437 -0.081638 -0.141853 -0.069793 -0.069656 -0.028064   \n",
       "-   0.417128 -0.181437 -0.081638 -0.141853 -0.069793 -0.069656 -0.028064   \n",
       "*  -0.383216  0.166686  0.075001  0.130320  0.064119  0.063993  0.025783   \n",
       "/  -0.383216  0.166686  0.075001  0.130320  0.064119  0.063993  0.025783   \n",
       "=        NaN       NaN       NaN       NaN       NaN       NaN       NaN   \n",
       "\n",
       "           7         9         0         +         -         *         /   =  \n",
       "1  -0.126622  0.015551  0.025951  0.417128  0.417128 -0.383216 -0.383216 NaN  \n",
       "2  -0.048721 -0.175984 -0.061991 -0.181437 -0.181437  0.166686  0.166686 NaN  \n",
       "3  -0.009257 -0.075646 -0.098104 -0.081638 -0.081638  0.075001  0.075001 NaN  \n",
       "4  -0.127184 -0.147231 -0.067667 -0.141853 -0.141853  0.130320  0.130320 NaN  \n",
       "5  -0.123717 -0.112986  0.128380 -0.069793 -0.069793  0.064119  0.064119 NaN  \n",
       "..       ...       ...       ...       ...       ...       ...       ...  ..  \n",
       "+   0.006190  0.062034  0.049776  1.000000 -0.279503 -0.330961 -0.330961 NaN  \n",
       "-   0.006190  0.062034  0.049776 -0.279503  1.000000 -0.330961 -0.330961 NaN  \n",
       "*  -0.005687 -0.056990 -0.045730 -0.330961 -0.330961  1.000000 -0.391892 NaN  \n",
       "/  -0.005687 -0.056990 -0.045730 -0.330961 -0.330961 -0.391892  1.000000 NaN  \n",
       "=        NaN       NaN       NaN       NaN       NaN       NaN       NaN NaN  \n",
       "\n",
       "[15 rows x 15 columns]"
      ]
     },
     "execution_count": 20,
     "metadata": {},
     "output_type": "execute_result"
    }
   ],
   "source": [
    "df_elements_corr = df[\"elements\"].corr()\n",
    "df_elements_corr"
   ]
  },
  {
   "cell_type": "code",
   "execution_count": 21,
   "metadata": {},
   "outputs": [
    {
     "data": {
      "application/vnd.plotly.v1+json": {
       "config": {
        "plotlyServerURL": "https://plot.ly"
       },
       "data": [
        {
         "colorscale": [
          [
           0,
           "rgb(12,51,131)"
          ],
          [
           0.25,
           "rgb(10,136,186)"
          ],
          [
           0.5,
           "rgb(242,211,56)"
          ],
          [
           0.75,
           "rgb(242,143,56)"
          ],
          [
           1,
           "rgb(217,30,30)"
          ]
         ],
         "type": "heatmap",
         "x": [
          "1",
          "2",
          "3",
          "4",
          "5",
          "6",
          "8",
          "7",
          "9",
          "0",
          "+",
          "-",
          "*",
          "/",
          "="
         ],
         "y": [
          "1",
          "2",
          "3",
          "4",
          "5",
          "6",
          "8",
          "7",
          "9",
          "0",
          "+",
          "-",
          "*",
          "/",
          "="
         ],
         "z": [
          [
           null,
           null,
           null,
           null,
           null,
           null,
           null,
           null,
           null,
           null,
           null,
           null,
           null,
           null,
           null
          ],
          [
           -0.08848277942924107,
           null,
           null,
           null,
           null,
           null,
           null,
           null,
           null,
           null,
           null,
           null,
           null,
           null,
           null
          ],
          [
           -0.1140930801180944,
           -0.11361775118610591,
           null,
           null,
           null,
           null,
           null,
           null,
           null,
           null,
           null,
           null,
           null,
           null,
           null
          ],
          [
           -0.3307418806150707,
           0.02567345442722484,
           -0.19662614322811783,
           null,
           null,
           null,
           null,
           null,
           null,
           null,
           null,
           null,
           null,
           null,
           null
          ],
          [
           -0.1848964399183156,
           -0.23571508141221478,
           -0.06013001202748865,
           -0.158007325630074,
           null,
           null,
           null,
           null,
           null,
           null,
           null,
           null,
           null,
           null,
           null
          ],
          [
           -0.18065065961842872,
           -0.1917648606956964,
           -0.04614656087116855,
           0.020265837818042587,
           -0.175302984688191,
           null,
           null,
           null,
           null,
           null,
           null,
           null,
           null,
           null,
           null
          ],
          [
           -0.12576270109129545,
           -0.06266825512931254,
           -0.15499608231537526,
           -0.010889106887306472,
           -0.22748855527455997,
           -0.034258712344949774,
           null,
           null,
           null,
           null,
           null,
           null,
           null,
           null,
           null
          ],
          [
           -0.12662245164426927,
           -0.04872109968811123,
           -0.009257429577401855,
           -0.12718389325929835,
           -0.12371695016404648,
           -0.15587311523003866,
           -0.15587311523003858,
           null,
           null,
           null,
           null,
           null,
           null,
           null,
           null
          ],
          [
           0.01555147180468927,
           -0.17598414930660497,
           -0.0756464280454773,
           -0.14723050419683967,
           -0.11298583748312548,
           -0.14310390754829852,
           -0.14310390754829852,
           -0.008547147299399751,
           null,
           null,
           null,
           null,
           null,
           null,
           null
          ],
          [
           0.02595133012592299,
           -0.06199130087591725,
           -0.09810449914227755,
           -0.06766699421049106,
           0.1283799611812872,
           -0.1357343538193793,
           -0.13573435381937943,
           -0.19981127960939649,
           -0.19253877663452595,
           null,
           null,
           null,
           null,
           null,
           null
          ],
          [
           0.4171282679593583,
           -0.18143676734543937,
           -0.08163793761275968,
           -0.1418528800638112,
           -0.06979310888047505,
           -0.06965566187410567,
           -0.02806416521884256,
           0.006190225789176698,
           0.062033645144969986,
           0.04977624522341125,
           null,
           null,
           null,
           null,
           null
          ],
          [
           0.4171282679593591,
           -0.18143676734543934,
           -0.08163793761275932,
           -0.1418528800638111,
           -0.06979310888047513,
           -0.06965566187410567,
           -0.02806416521884259,
           0.006190225789176889,
           0.06203364514497001,
           0.049776245223411314,
           -0.27950310559006214,
           null,
           null,
           null,
           null
          ],
          [
           -0.3832162904276408,
           0.16668619767595436,
           0.07500088105554345,
           0.13032042817540967,
           0.06411902126276904,
           0.06399274851657268,
           0.02578258563421348,
           -0.0056869686042687086,
           -0.056990391685648505,
           -0.045729502196650035,
           -0.33096072401321097,
           -0.3309607240132107,
           null,
           null,
           null
          ],
          [
           -0.38321629042764027,
           0.16668619767595425,
           0.07500088105554395,
           0.13032042817540987,
           0.06411902126276889,
           0.06399274851657277,
           0.025782585634213394,
           -0.005686968604268543,
           -0.05699039168564856,
           -0.04572950219664979,
           -0.3309607240132107,
           -0.3309607240132107,
           -0.3918918918918917,
           null,
           null
          ],
          [
           null,
           null,
           null,
           null,
           null,
           null,
           null,
           null,
           null,
           null,
           null,
           null,
           null,
           null,
           null
          ]
         ]
        }
       ],
       "layout": {
        "height": 600,
        "template": {
         "data": {
          "bar": [
           {
            "error_x": {
             "color": "#2a3f5f"
            },
            "error_y": {
             "color": "#2a3f5f"
            },
            "marker": {
             "line": {
              "color": "#E5ECF6",
              "width": 0.5
             },
             "pattern": {
              "fillmode": "overlay",
              "size": 10,
              "solidity": 0.2
             }
            },
            "type": "bar"
           }
          ],
          "barpolar": [
           {
            "marker": {
             "line": {
              "color": "#E5ECF6",
              "width": 0.5
             },
             "pattern": {
              "fillmode": "overlay",
              "size": 10,
              "solidity": 0.2
             }
            },
            "type": "barpolar"
           }
          ],
          "carpet": [
           {
            "aaxis": {
             "endlinecolor": "#2a3f5f",
             "gridcolor": "white",
             "linecolor": "white",
             "minorgridcolor": "white",
             "startlinecolor": "#2a3f5f"
            },
            "baxis": {
             "endlinecolor": "#2a3f5f",
             "gridcolor": "white",
             "linecolor": "white",
             "minorgridcolor": "white",
             "startlinecolor": "#2a3f5f"
            },
            "type": "carpet"
           }
          ],
          "choropleth": [
           {
            "colorbar": {
             "outlinewidth": 0,
             "ticks": ""
            },
            "type": "choropleth"
           }
          ],
          "contour": [
           {
            "colorbar": {
             "outlinewidth": 0,
             "ticks": ""
            },
            "colorscale": [
             [
              0,
              "#0d0887"
             ],
             [
              0.1111111111111111,
              "#46039f"
             ],
             [
              0.2222222222222222,
              "#7201a8"
             ],
             [
              0.3333333333333333,
              "#9c179e"
             ],
             [
              0.4444444444444444,
              "#bd3786"
             ],
             [
              0.5555555555555556,
              "#d8576b"
             ],
             [
              0.6666666666666666,
              "#ed7953"
             ],
             [
              0.7777777777777778,
              "#fb9f3a"
             ],
             [
              0.8888888888888888,
              "#fdca26"
             ],
             [
              1,
              "#f0f921"
             ]
            ],
            "type": "contour"
           }
          ],
          "contourcarpet": [
           {
            "colorbar": {
             "outlinewidth": 0,
             "ticks": ""
            },
            "type": "contourcarpet"
           }
          ],
          "heatmap": [
           {
            "colorbar": {
             "outlinewidth": 0,
             "ticks": ""
            },
            "colorscale": [
             [
              0,
              "#0d0887"
             ],
             [
              0.1111111111111111,
              "#46039f"
             ],
             [
              0.2222222222222222,
              "#7201a8"
             ],
             [
              0.3333333333333333,
              "#9c179e"
             ],
             [
              0.4444444444444444,
              "#bd3786"
             ],
             [
              0.5555555555555556,
              "#d8576b"
             ],
             [
              0.6666666666666666,
              "#ed7953"
             ],
             [
              0.7777777777777778,
              "#fb9f3a"
             ],
             [
              0.8888888888888888,
              "#fdca26"
             ],
             [
              1,
              "#f0f921"
             ]
            ],
            "type": "heatmap"
           }
          ],
          "heatmapgl": [
           {
            "colorbar": {
             "outlinewidth": 0,
             "ticks": ""
            },
            "colorscale": [
             [
              0,
              "#0d0887"
             ],
             [
              0.1111111111111111,
              "#46039f"
             ],
             [
              0.2222222222222222,
              "#7201a8"
             ],
             [
              0.3333333333333333,
              "#9c179e"
             ],
             [
              0.4444444444444444,
              "#bd3786"
             ],
             [
              0.5555555555555556,
              "#d8576b"
             ],
             [
              0.6666666666666666,
              "#ed7953"
             ],
             [
              0.7777777777777778,
              "#fb9f3a"
             ],
             [
              0.8888888888888888,
              "#fdca26"
             ],
             [
              1,
              "#f0f921"
             ]
            ],
            "type": "heatmapgl"
           }
          ],
          "histogram": [
           {
            "marker": {
             "pattern": {
              "fillmode": "overlay",
              "size": 10,
              "solidity": 0.2
             }
            },
            "type": "histogram"
           }
          ],
          "histogram2d": [
           {
            "colorbar": {
             "outlinewidth": 0,
             "ticks": ""
            },
            "colorscale": [
             [
              0,
              "#0d0887"
             ],
             [
              0.1111111111111111,
              "#46039f"
             ],
             [
              0.2222222222222222,
              "#7201a8"
             ],
             [
              0.3333333333333333,
              "#9c179e"
             ],
             [
              0.4444444444444444,
              "#bd3786"
             ],
             [
              0.5555555555555556,
              "#d8576b"
             ],
             [
              0.6666666666666666,
              "#ed7953"
             ],
             [
              0.7777777777777778,
              "#fb9f3a"
             ],
             [
              0.8888888888888888,
              "#fdca26"
             ],
             [
              1,
              "#f0f921"
             ]
            ],
            "type": "histogram2d"
           }
          ],
          "histogram2dcontour": [
           {
            "colorbar": {
             "outlinewidth": 0,
             "ticks": ""
            },
            "colorscale": [
             [
              0,
              "#0d0887"
             ],
             [
              0.1111111111111111,
              "#46039f"
             ],
             [
              0.2222222222222222,
              "#7201a8"
             ],
             [
              0.3333333333333333,
              "#9c179e"
             ],
             [
              0.4444444444444444,
              "#bd3786"
             ],
             [
              0.5555555555555556,
              "#d8576b"
             ],
             [
              0.6666666666666666,
              "#ed7953"
             ],
             [
              0.7777777777777778,
              "#fb9f3a"
             ],
             [
              0.8888888888888888,
              "#fdca26"
             ],
             [
              1,
              "#f0f921"
             ]
            ],
            "type": "histogram2dcontour"
           }
          ],
          "mesh3d": [
           {
            "colorbar": {
             "outlinewidth": 0,
             "ticks": ""
            },
            "type": "mesh3d"
           }
          ],
          "parcoords": [
           {
            "line": {
             "colorbar": {
              "outlinewidth": 0,
              "ticks": ""
             }
            },
            "type": "parcoords"
           }
          ],
          "pie": [
           {
            "automargin": true,
            "type": "pie"
           }
          ],
          "scatter": [
           {
            "fillpattern": {
             "fillmode": "overlay",
             "size": 10,
             "solidity": 0.2
            },
            "type": "scatter"
           }
          ],
          "scatter3d": [
           {
            "line": {
             "colorbar": {
              "outlinewidth": 0,
              "ticks": ""
             }
            },
            "marker": {
             "colorbar": {
              "outlinewidth": 0,
              "ticks": ""
             }
            },
            "type": "scatter3d"
           }
          ],
          "scattercarpet": [
           {
            "marker": {
             "colorbar": {
              "outlinewidth": 0,
              "ticks": ""
             }
            },
            "type": "scattercarpet"
           }
          ],
          "scattergeo": [
           {
            "marker": {
             "colorbar": {
              "outlinewidth": 0,
              "ticks": ""
             }
            },
            "type": "scattergeo"
           }
          ],
          "scattergl": [
           {
            "marker": {
             "colorbar": {
              "outlinewidth": 0,
              "ticks": ""
             }
            },
            "type": "scattergl"
           }
          ],
          "scattermapbox": [
           {
            "marker": {
             "colorbar": {
              "outlinewidth": 0,
              "ticks": ""
             }
            },
            "type": "scattermapbox"
           }
          ],
          "scatterpolar": [
           {
            "marker": {
             "colorbar": {
              "outlinewidth": 0,
              "ticks": ""
             }
            },
            "type": "scatterpolar"
           }
          ],
          "scatterpolargl": [
           {
            "marker": {
             "colorbar": {
              "outlinewidth": 0,
              "ticks": ""
             }
            },
            "type": "scatterpolargl"
           }
          ],
          "scatterternary": [
           {
            "marker": {
             "colorbar": {
              "outlinewidth": 0,
              "ticks": ""
             }
            },
            "type": "scatterternary"
           }
          ],
          "surface": [
           {
            "colorbar": {
             "outlinewidth": 0,
             "ticks": ""
            },
            "colorscale": [
             [
              0,
              "#0d0887"
             ],
             [
              0.1111111111111111,
              "#46039f"
             ],
             [
              0.2222222222222222,
              "#7201a8"
             ],
             [
              0.3333333333333333,
              "#9c179e"
             ],
             [
              0.4444444444444444,
              "#bd3786"
             ],
             [
              0.5555555555555556,
              "#d8576b"
             ],
             [
              0.6666666666666666,
              "#ed7953"
             ],
             [
              0.7777777777777778,
              "#fb9f3a"
             ],
             [
              0.8888888888888888,
              "#fdca26"
             ],
             [
              1,
              "#f0f921"
             ]
            ],
            "type": "surface"
           }
          ],
          "table": [
           {
            "cells": {
             "fill": {
              "color": "#EBF0F8"
             },
             "line": {
              "color": "white"
             }
            },
            "header": {
             "fill": {
              "color": "#C8D4E3"
             },
             "line": {
              "color": "white"
             }
            },
            "type": "table"
           }
          ]
         },
         "layout": {
          "annotationdefaults": {
           "arrowcolor": "#2a3f5f",
           "arrowhead": 0,
           "arrowwidth": 1
          },
          "autotypenumbers": "strict",
          "coloraxis": {
           "colorbar": {
            "outlinewidth": 0,
            "ticks": ""
           }
          },
          "colorscale": {
           "diverging": [
            [
             0,
             "#8e0152"
            ],
            [
             0.1,
             "#c51b7d"
            ],
            [
             0.2,
             "#de77ae"
            ],
            [
             0.3,
             "#f1b6da"
            ],
            [
             0.4,
             "#fde0ef"
            ],
            [
             0.5,
             "#f7f7f7"
            ],
            [
             0.6,
             "#e6f5d0"
            ],
            [
             0.7,
             "#b8e186"
            ],
            [
             0.8,
             "#7fbc41"
            ],
            [
             0.9,
             "#4d9221"
            ],
            [
             1,
             "#276419"
            ]
           ],
           "sequential": [
            [
             0,
             "#0d0887"
            ],
            [
             0.1111111111111111,
             "#46039f"
            ],
            [
             0.2222222222222222,
             "#7201a8"
            ],
            [
             0.3333333333333333,
             "#9c179e"
            ],
            [
             0.4444444444444444,
             "#bd3786"
            ],
            [
             0.5555555555555556,
             "#d8576b"
            ],
            [
             0.6666666666666666,
             "#ed7953"
            ],
            [
             0.7777777777777778,
             "#fb9f3a"
            ],
            [
             0.8888888888888888,
             "#fdca26"
            ],
            [
             1,
             "#f0f921"
            ]
           ],
           "sequentialminus": [
            [
             0,
             "#0d0887"
            ],
            [
             0.1111111111111111,
             "#46039f"
            ],
            [
             0.2222222222222222,
             "#7201a8"
            ],
            [
             0.3333333333333333,
             "#9c179e"
            ],
            [
             0.4444444444444444,
             "#bd3786"
            ],
            [
             0.5555555555555556,
             "#d8576b"
            ],
            [
             0.6666666666666666,
             "#ed7953"
            ],
            [
             0.7777777777777778,
             "#fb9f3a"
            ],
            [
             0.8888888888888888,
             "#fdca26"
            ],
            [
             1,
             "#f0f921"
            ]
           ]
          },
          "colorway": [
           "#636efa",
           "#EF553B",
           "#00cc96",
           "#ab63fa",
           "#FFA15A",
           "#19d3f3",
           "#FF6692",
           "#B6E880",
           "#FF97FF",
           "#FECB52"
          ],
          "font": {
           "color": "#2a3f5f"
          },
          "geo": {
           "bgcolor": "white",
           "lakecolor": "white",
           "landcolor": "#E5ECF6",
           "showlakes": true,
           "showland": true,
           "subunitcolor": "white"
          },
          "hoverlabel": {
           "align": "left"
          },
          "hovermode": "closest",
          "mapbox": {
           "style": "light"
          },
          "paper_bgcolor": "white",
          "plot_bgcolor": "#E5ECF6",
          "polar": {
           "angularaxis": {
            "gridcolor": "white",
            "linecolor": "white",
            "ticks": ""
           },
           "bgcolor": "#E5ECF6",
           "radialaxis": {
            "gridcolor": "white",
            "linecolor": "white",
            "ticks": ""
           }
          },
          "scene": {
           "xaxis": {
            "backgroundcolor": "#E5ECF6",
            "gridcolor": "white",
            "gridwidth": 2,
            "linecolor": "white",
            "showbackground": true,
            "ticks": "",
            "zerolinecolor": "white"
           },
           "yaxis": {
            "backgroundcolor": "#E5ECF6",
            "gridcolor": "white",
            "gridwidth": 2,
            "linecolor": "white",
            "showbackground": true,
            "ticks": "",
            "zerolinecolor": "white"
           },
           "zaxis": {
            "backgroundcolor": "#E5ECF6",
            "gridcolor": "white",
            "gridwidth": 2,
            "linecolor": "white",
            "showbackground": true,
            "ticks": "",
            "zerolinecolor": "white"
           }
          },
          "shapedefaults": {
           "line": {
            "color": "#2a3f5f"
           }
          },
          "ternary": {
           "aaxis": {
            "gridcolor": "white",
            "linecolor": "white",
            "ticks": ""
           },
           "baxis": {
            "gridcolor": "white",
            "linecolor": "white",
            "ticks": ""
           },
           "bgcolor": "#E5ECF6",
           "caxis": {
            "gridcolor": "white",
            "linecolor": "white",
            "ticks": ""
           }
          },
          "title": {
           "x": 0.05
          },
          "xaxis": {
           "automargin": true,
           "gridcolor": "white",
           "linecolor": "white",
           "ticks": "",
           "title": {
            "standoff": 15
           },
           "zerolinecolor": "white",
           "zerolinewidth": 2
          },
          "yaxis": {
           "automargin": true,
           "gridcolor": "white",
           "linecolor": "white",
           "ticks": "",
           "title": {
            "standoff": 15
           },
           "zerolinecolor": "white",
           "zerolinewidth": 2
          }
         }
        },
        "title": {
         "text": "Elements correlation"
        },
        "width": 600
       }
      }
     },
     "metadata": {},
     "output_type": "display_data"
    }
   ],
   "source": [
    "# Ploting Heatmap\n",
    "\n",
    "# Masking the diagonal\n",
    "mask = np.triu(np.ones_like(df_elements_corr, dtype=bool))\n",
    "df_temp = df_elements_corr.mask(mask)\n",
    "\n",
    "# Creating figure\n",
    "fig = go.Figure()\n",
    "\n",
    "# Creating trace\n",
    "fig.add_trace(\n",
    "    go.Heatmap(\n",
    "        x=df_temp.columns,\n",
    "        y=df_temp.columns,\n",
    "        z=df_temp,\n",
    "        colorscale=\"Portland\",\n",
    "    )\n",
    ")\n",
    "\n",
    "# Updating layout\n",
    "fig.update_layout(\n",
    "    title=\"Elements correlation\",\n",
    "    height=600,\n",
    "    width=600,\n",
    ")\n",
    "\n",
    "# Showing figure\n",
    "fig.show()"
   ]
  },
  {
   "cell_type": "markdown",
   "metadata": {},
   "source": [
    "# Correlating positions"
   ]
  },
  {
   "cell_type": "code",
   "execution_count": 22,
   "metadata": {},
   "outputs": [
    {
     "data": {
      "text/html": [
       "<div>\n",
       "<style scoped>\n",
       "    .dataframe tbody tr th:only-of-type {\n",
       "        vertical-align: middle;\n",
       "    }\n",
       "\n",
       "    .dataframe tbody tr th {\n",
       "        vertical-align: top;\n",
       "    }\n",
       "\n",
       "    .dataframe thead th {\n",
       "        text-align: right;\n",
       "    }\n",
       "</style>\n",
       "<table border=\"1\" class=\"dataframe\">\n",
       "  <thead>\n",
       "    <tr style=\"text-align: right;\">\n",
       "      <th></th>\n",
       "      <th>p0</th>\n",
       "      <th>p1</th>\n",
       "      <th>p2</th>\n",
       "      <th>p3</th>\n",
       "      <th>p4</th>\n",
       "      <th>p5</th>\n",
       "    </tr>\n",
       "  </thead>\n",
       "  <tbody>\n",
       "    <tr>\n",
       "      <th>p0</th>\n",
       "      <td>1.000000</td>\n",
       "      <td>-0.200906</td>\n",
       "      <td>-0.253279</td>\n",
       "      <td>-0.166195</td>\n",
       "      <td>0.277319</td>\n",
       "      <td>0.450831</td>\n",
       "    </tr>\n",
       "    <tr>\n",
       "      <th>p1</th>\n",
       "      <td>-0.200906</td>\n",
       "      <td>1.000000</td>\n",
       "      <td>-0.500954</td>\n",
       "      <td>-0.328712</td>\n",
       "      <td>-0.240280</td>\n",
       "      <td>-0.263625</td>\n",
       "    </tr>\n",
       "    <tr>\n",
       "      <th>p2</th>\n",
       "      <td>-0.253279</td>\n",
       "      <td>-0.500954</td>\n",
       "      <td>1.000000</td>\n",
       "      <td>-0.239742</td>\n",
       "      <td>-0.342563</td>\n",
       "      <td>-0.225705</td>\n",
       "    </tr>\n",
       "    <tr>\n",
       "      <th>p3</th>\n",
       "      <td>-0.166195</td>\n",
       "      <td>-0.328712</td>\n",
       "      <td>-0.239742</td>\n",
       "      <td>1.000000</td>\n",
       "      <td>0.787369</td>\n",
       "      <td>-0.148101</td>\n",
       "    </tr>\n",
       "    <tr>\n",
       "      <th>p4</th>\n",
       "      <td>0.277319</td>\n",
       "      <td>-0.240280</td>\n",
       "      <td>-0.342563</td>\n",
       "      <td>0.787369</td>\n",
       "      <td>1.000000</td>\n",
       "      <td>-0.264735</td>\n",
       "    </tr>\n",
       "    <tr>\n",
       "      <th>p5</th>\n",
       "      <td>0.450831</td>\n",
       "      <td>-0.263625</td>\n",
       "      <td>-0.225705</td>\n",
       "      <td>-0.148101</td>\n",
       "      <td>-0.264735</td>\n",
       "      <td>1.000000</td>\n",
       "    </tr>\n",
       "  </tbody>\n",
       "</table>\n",
       "</div>"
      ],
      "text/plain": [
       "          p0        p1        p2        p3        p4        p5\n",
       "p0  1.000000 -0.200906 -0.253279 -0.166195  0.277319  0.450831\n",
       "p1 -0.200906  1.000000 -0.500954 -0.328712 -0.240280 -0.263625\n",
       "p2 -0.253279 -0.500954  1.000000 -0.239742 -0.342563 -0.225705\n",
       "p3 -0.166195 -0.328712 -0.239742  1.000000  0.787369 -0.148101\n",
       "p4  0.277319 -0.240280 -0.342563  0.787369  1.000000 -0.264735\n",
       "p5  0.450831 -0.263625 -0.225705 -0.148101 -0.264735  1.000000"
      ]
     },
     "execution_count": 22,
     "metadata": {},
     "output_type": "execute_result"
    }
   ],
   "source": [
    "df_positions_corr = df_freq_count[df[\"positions\"].columns].corr()\n",
    "df_positions_corr"
   ]
  },
  {
   "cell_type": "code",
   "execution_count": 23,
   "metadata": {},
   "outputs": [
    {
     "data": {
      "application/vnd.plotly.v1+json": {
       "config": {
        "plotlyServerURL": "https://plot.ly"
       },
       "data": [
        {
         "colorscale": [
          [
           0,
           "rgb(12,51,131)"
          ],
          [
           0.25,
           "rgb(10,136,186)"
          ],
          [
           0.5,
           "rgb(242,211,56)"
          ],
          [
           0.75,
           "rgb(242,143,56)"
          ],
          [
           1,
           "rgb(217,30,30)"
          ]
         ],
         "type": "heatmap",
         "x": [
          "p0",
          "p1",
          "p2",
          "p3",
          "p4",
          "p5"
         ],
         "y": [
          "p0",
          "p1",
          "p2",
          "p3",
          "p4",
          "p5"
         ],
         "z": [
          [
           null,
           null,
           null,
           null,
           null,
           null
          ],
          [
           -0.20090629057868725,
           null,
           null,
           null,
           null,
           null
          ],
          [
           -0.2532790369755871,
           -0.5009542181702543,
           null,
           null,
           null,
           null
          ],
          [
           -0.16619467525048143,
           -0.3287122558515928,
           -0.2397416038182046,
           null,
           null,
           null
          ],
          [
           0.2773185541769907,
           -0.2402803864213568,
           -0.34256253850237084,
           0.787369321331047,
           null,
           null
          ],
          [
           0.4508305640460001,
           -0.2636245408139993,
           -0.22570486082644928,
           -0.14810126607960225,
           -0.2647346860379182,
           null
          ]
         ]
        }
       ],
       "layout": {
        "height": 600,
        "template": {
         "data": {
          "bar": [
           {
            "error_x": {
             "color": "#2a3f5f"
            },
            "error_y": {
             "color": "#2a3f5f"
            },
            "marker": {
             "line": {
              "color": "#E5ECF6",
              "width": 0.5
             },
             "pattern": {
              "fillmode": "overlay",
              "size": 10,
              "solidity": 0.2
             }
            },
            "type": "bar"
           }
          ],
          "barpolar": [
           {
            "marker": {
             "line": {
              "color": "#E5ECF6",
              "width": 0.5
             },
             "pattern": {
              "fillmode": "overlay",
              "size": 10,
              "solidity": 0.2
             }
            },
            "type": "barpolar"
           }
          ],
          "carpet": [
           {
            "aaxis": {
             "endlinecolor": "#2a3f5f",
             "gridcolor": "white",
             "linecolor": "white",
             "minorgridcolor": "white",
             "startlinecolor": "#2a3f5f"
            },
            "baxis": {
             "endlinecolor": "#2a3f5f",
             "gridcolor": "white",
             "linecolor": "white",
             "minorgridcolor": "white",
             "startlinecolor": "#2a3f5f"
            },
            "type": "carpet"
           }
          ],
          "choropleth": [
           {
            "colorbar": {
             "outlinewidth": 0,
             "ticks": ""
            },
            "type": "choropleth"
           }
          ],
          "contour": [
           {
            "colorbar": {
             "outlinewidth": 0,
             "ticks": ""
            },
            "colorscale": [
             [
              0,
              "#0d0887"
             ],
             [
              0.1111111111111111,
              "#46039f"
             ],
             [
              0.2222222222222222,
              "#7201a8"
             ],
             [
              0.3333333333333333,
              "#9c179e"
             ],
             [
              0.4444444444444444,
              "#bd3786"
             ],
             [
              0.5555555555555556,
              "#d8576b"
             ],
             [
              0.6666666666666666,
              "#ed7953"
             ],
             [
              0.7777777777777778,
              "#fb9f3a"
             ],
             [
              0.8888888888888888,
              "#fdca26"
             ],
             [
              1,
              "#f0f921"
             ]
            ],
            "type": "contour"
           }
          ],
          "contourcarpet": [
           {
            "colorbar": {
             "outlinewidth": 0,
             "ticks": ""
            },
            "type": "contourcarpet"
           }
          ],
          "heatmap": [
           {
            "colorbar": {
             "outlinewidth": 0,
             "ticks": ""
            },
            "colorscale": [
             [
              0,
              "#0d0887"
             ],
             [
              0.1111111111111111,
              "#46039f"
             ],
             [
              0.2222222222222222,
              "#7201a8"
             ],
             [
              0.3333333333333333,
              "#9c179e"
             ],
             [
              0.4444444444444444,
              "#bd3786"
             ],
             [
              0.5555555555555556,
              "#d8576b"
             ],
             [
              0.6666666666666666,
              "#ed7953"
             ],
             [
              0.7777777777777778,
              "#fb9f3a"
             ],
             [
              0.8888888888888888,
              "#fdca26"
             ],
             [
              1,
              "#f0f921"
             ]
            ],
            "type": "heatmap"
           }
          ],
          "heatmapgl": [
           {
            "colorbar": {
             "outlinewidth": 0,
             "ticks": ""
            },
            "colorscale": [
             [
              0,
              "#0d0887"
             ],
             [
              0.1111111111111111,
              "#46039f"
             ],
             [
              0.2222222222222222,
              "#7201a8"
             ],
             [
              0.3333333333333333,
              "#9c179e"
             ],
             [
              0.4444444444444444,
              "#bd3786"
             ],
             [
              0.5555555555555556,
              "#d8576b"
             ],
             [
              0.6666666666666666,
              "#ed7953"
             ],
             [
              0.7777777777777778,
              "#fb9f3a"
             ],
             [
              0.8888888888888888,
              "#fdca26"
             ],
             [
              1,
              "#f0f921"
             ]
            ],
            "type": "heatmapgl"
           }
          ],
          "histogram": [
           {
            "marker": {
             "pattern": {
              "fillmode": "overlay",
              "size": 10,
              "solidity": 0.2
             }
            },
            "type": "histogram"
           }
          ],
          "histogram2d": [
           {
            "colorbar": {
             "outlinewidth": 0,
             "ticks": ""
            },
            "colorscale": [
             [
              0,
              "#0d0887"
             ],
             [
              0.1111111111111111,
              "#46039f"
             ],
             [
              0.2222222222222222,
              "#7201a8"
             ],
             [
              0.3333333333333333,
              "#9c179e"
             ],
             [
              0.4444444444444444,
              "#bd3786"
             ],
             [
              0.5555555555555556,
              "#d8576b"
             ],
             [
              0.6666666666666666,
              "#ed7953"
             ],
             [
              0.7777777777777778,
              "#fb9f3a"
             ],
             [
              0.8888888888888888,
              "#fdca26"
             ],
             [
              1,
              "#f0f921"
             ]
            ],
            "type": "histogram2d"
           }
          ],
          "histogram2dcontour": [
           {
            "colorbar": {
             "outlinewidth": 0,
             "ticks": ""
            },
            "colorscale": [
             [
              0,
              "#0d0887"
             ],
             [
              0.1111111111111111,
              "#46039f"
             ],
             [
              0.2222222222222222,
              "#7201a8"
             ],
             [
              0.3333333333333333,
              "#9c179e"
             ],
             [
              0.4444444444444444,
              "#bd3786"
             ],
             [
              0.5555555555555556,
              "#d8576b"
             ],
             [
              0.6666666666666666,
              "#ed7953"
             ],
             [
              0.7777777777777778,
              "#fb9f3a"
             ],
             [
              0.8888888888888888,
              "#fdca26"
             ],
             [
              1,
              "#f0f921"
             ]
            ],
            "type": "histogram2dcontour"
           }
          ],
          "mesh3d": [
           {
            "colorbar": {
             "outlinewidth": 0,
             "ticks": ""
            },
            "type": "mesh3d"
           }
          ],
          "parcoords": [
           {
            "line": {
             "colorbar": {
              "outlinewidth": 0,
              "ticks": ""
             }
            },
            "type": "parcoords"
           }
          ],
          "pie": [
           {
            "automargin": true,
            "type": "pie"
           }
          ],
          "scatter": [
           {
            "fillpattern": {
             "fillmode": "overlay",
             "size": 10,
             "solidity": 0.2
            },
            "type": "scatter"
           }
          ],
          "scatter3d": [
           {
            "line": {
             "colorbar": {
              "outlinewidth": 0,
              "ticks": ""
             }
            },
            "marker": {
             "colorbar": {
              "outlinewidth": 0,
              "ticks": ""
             }
            },
            "type": "scatter3d"
           }
          ],
          "scattercarpet": [
           {
            "marker": {
             "colorbar": {
              "outlinewidth": 0,
              "ticks": ""
             }
            },
            "type": "scattercarpet"
           }
          ],
          "scattergeo": [
           {
            "marker": {
             "colorbar": {
              "outlinewidth": 0,
              "ticks": ""
             }
            },
            "type": "scattergeo"
           }
          ],
          "scattergl": [
           {
            "marker": {
             "colorbar": {
              "outlinewidth": 0,
              "ticks": ""
             }
            },
            "type": "scattergl"
           }
          ],
          "scattermapbox": [
           {
            "marker": {
             "colorbar": {
              "outlinewidth": 0,
              "ticks": ""
             }
            },
            "type": "scattermapbox"
           }
          ],
          "scatterpolar": [
           {
            "marker": {
             "colorbar": {
              "outlinewidth": 0,
              "ticks": ""
             }
            },
            "type": "scatterpolar"
           }
          ],
          "scatterpolargl": [
           {
            "marker": {
             "colorbar": {
              "outlinewidth": 0,
              "ticks": ""
             }
            },
            "type": "scatterpolargl"
           }
          ],
          "scatterternary": [
           {
            "marker": {
             "colorbar": {
              "outlinewidth": 0,
              "ticks": ""
             }
            },
            "type": "scatterternary"
           }
          ],
          "surface": [
           {
            "colorbar": {
             "outlinewidth": 0,
             "ticks": ""
            },
            "colorscale": [
             [
              0,
              "#0d0887"
             ],
             [
              0.1111111111111111,
              "#46039f"
             ],
             [
              0.2222222222222222,
              "#7201a8"
             ],
             [
              0.3333333333333333,
              "#9c179e"
             ],
             [
              0.4444444444444444,
              "#bd3786"
             ],
             [
              0.5555555555555556,
              "#d8576b"
             ],
             [
              0.6666666666666666,
              "#ed7953"
             ],
             [
              0.7777777777777778,
              "#fb9f3a"
             ],
             [
              0.8888888888888888,
              "#fdca26"
             ],
             [
              1,
              "#f0f921"
             ]
            ],
            "type": "surface"
           }
          ],
          "table": [
           {
            "cells": {
             "fill": {
              "color": "#EBF0F8"
             },
             "line": {
              "color": "white"
             }
            },
            "header": {
             "fill": {
              "color": "#C8D4E3"
             },
             "line": {
              "color": "white"
             }
            },
            "type": "table"
           }
          ]
         },
         "layout": {
          "annotationdefaults": {
           "arrowcolor": "#2a3f5f",
           "arrowhead": 0,
           "arrowwidth": 1
          },
          "autotypenumbers": "strict",
          "coloraxis": {
           "colorbar": {
            "outlinewidth": 0,
            "ticks": ""
           }
          },
          "colorscale": {
           "diverging": [
            [
             0,
             "#8e0152"
            ],
            [
             0.1,
             "#c51b7d"
            ],
            [
             0.2,
             "#de77ae"
            ],
            [
             0.3,
             "#f1b6da"
            ],
            [
             0.4,
             "#fde0ef"
            ],
            [
             0.5,
             "#f7f7f7"
            ],
            [
             0.6,
             "#e6f5d0"
            ],
            [
             0.7,
             "#b8e186"
            ],
            [
             0.8,
             "#7fbc41"
            ],
            [
             0.9,
             "#4d9221"
            ],
            [
             1,
             "#276419"
            ]
           ],
           "sequential": [
            [
             0,
             "#0d0887"
            ],
            [
             0.1111111111111111,
             "#46039f"
            ],
            [
             0.2222222222222222,
             "#7201a8"
            ],
            [
             0.3333333333333333,
             "#9c179e"
            ],
            [
             0.4444444444444444,
             "#bd3786"
            ],
            [
             0.5555555555555556,
             "#d8576b"
            ],
            [
             0.6666666666666666,
             "#ed7953"
            ],
            [
             0.7777777777777778,
             "#fb9f3a"
            ],
            [
             0.8888888888888888,
             "#fdca26"
            ],
            [
             1,
             "#f0f921"
            ]
           ],
           "sequentialminus": [
            [
             0,
             "#0d0887"
            ],
            [
             0.1111111111111111,
             "#46039f"
            ],
            [
             0.2222222222222222,
             "#7201a8"
            ],
            [
             0.3333333333333333,
             "#9c179e"
            ],
            [
             0.4444444444444444,
             "#bd3786"
            ],
            [
             0.5555555555555556,
             "#d8576b"
            ],
            [
             0.6666666666666666,
             "#ed7953"
            ],
            [
             0.7777777777777778,
             "#fb9f3a"
            ],
            [
             0.8888888888888888,
             "#fdca26"
            ],
            [
             1,
             "#f0f921"
            ]
           ]
          },
          "colorway": [
           "#636efa",
           "#EF553B",
           "#00cc96",
           "#ab63fa",
           "#FFA15A",
           "#19d3f3",
           "#FF6692",
           "#B6E880",
           "#FF97FF",
           "#FECB52"
          ],
          "font": {
           "color": "#2a3f5f"
          },
          "geo": {
           "bgcolor": "white",
           "lakecolor": "white",
           "landcolor": "#E5ECF6",
           "showlakes": true,
           "showland": true,
           "subunitcolor": "white"
          },
          "hoverlabel": {
           "align": "left"
          },
          "hovermode": "closest",
          "mapbox": {
           "style": "light"
          },
          "paper_bgcolor": "white",
          "plot_bgcolor": "#E5ECF6",
          "polar": {
           "angularaxis": {
            "gridcolor": "white",
            "linecolor": "white",
            "ticks": ""
           },
           "bgcolor": "#E5ECF6",
           "radialaxis": {
            "gridcolor": "white",
            "linecolor": "white",
            "ticks": ""
           }
          },
          "scene": {
           "xaxis": {
            "backgroundcolor": "#E5ECF6",
            "gridcolor": "white",
            "gridwidth": 2,
            "linecolor": "white",
            "showbackground": true,
            "ticks": "",
            "zerolinecolor": "white"
           },
           "yaxis": {
            "backgroundcolor": "#E5ECF6",
            "gridcolor": "white",
            "gridwidth": 2,
            "linecolor": "white",
            "showbackground": true,
            "ticks": "",
            "zerolinecolor": "white"
           },
           "zaxis": {
            "backgroundcolor": "#E5ECF6",
            "gridcolor": "white",
            "gridwidth": 2,
            "linecolor": "white",
            "showbackground": true,
            "ticks": "",
            "zerolinecolor": "white"
           }
          },
          "shapedefaults": {
           "line": {
            "color": "#2a3f5f"
           }
          },
          "ternary": {
           "aaxis": {
            "gridcolor": "white",
            "linecolor": "white",
            "ticks": ""
           },
           "baxis": {
            "gridcolor": "white",
            "linecolor": "white",
            "ticks": ""
           },
           "bgcolor": "#E5ECF6",
           "caxis": {
            "gridcolor": "white",
            "linecolor": "white",
            "ticks": ""
           }
          },
          "title": {
           "x": 0.05
          },
          "xaxis": {
           "automargin": true,
           "gridcolor": "white",
           "linecolor": "white",
           "ticks": "",
           "title": {
            "standoff": 15
           },
           "zerolinecolor": "white",
           "zerolinewidth": 2
          },
          "yaxis": {
           "automargin": true,
           "gridcolor": "white",
           "linecolor": "white",
           "ticks": "",
           "title": {
            "standoff": 15
           },
           "zerolinecolor": "white",
           "zerolinewidth": 2
          }
         }
        },
        "title": {
         "text": "Positions correlation"
        },
        "width": 600
       }
      }
     },
     "metadata": {},
     "output_type": "display_data"
    }
   ],
   "source": [
    "# Plotting Heatmap\n",
    "\n",
    "# Masking the diagonal\n",
    "mask = np.triu(np.ones_like(df_positions_corr, dtype=bool))\n",
    "df_temp = df_positions_corr.mask(mask)\n",
    "\n",
    "# Creating figure\n",
    "fig = go.Figure()\n",
    "\n",
    "# Creating trace\n",
    "fig.add_trace(\n",
    "    go.Heatmap(\n",
    "        x=df_temp.columns,\n",
    "        y=df_temp.columns,\n",
    "        z=df_temp,\n",
    "        colorscale=\"Portland\",\n",
    "    )\n",
    ")\n",
    "\n",
    "# Updating layout\n",
    "fig.update_layout(\n",
    "    title=\"Positions correlation\",\n",
    "    height=600,\n",
    "    width=600,\n",
    ")\n",
    "\n",
    "# Showing figure\n",
    "fig.show()"
   ]
  },
  {
   "cell_type": "markdown",
   "metadata": {},
   "source": [
    "# Correlating each element to another element based on their positions\n",
    "\n",
    "*(This method is extremely slow, but it's an easy way to get all elements in the table (including the ones not present in a given position))*"
   ]
  },
  {
   "cell_type": "code",
   "execution_count": 24,
   "metadata": {},
   "outputs": [
    {
     "name": "stderr",
     "output_type": "stream",
     "text": [
      "100%|██████████| 695250/695250 [00:14<00:00, 47852.72it/s, Positions: 4,5 - Elements: =,=]\n"
     ]
    }
   ],
   "source": [
    "def correlate_positions(df, position_0, position_1, pbar):\n",
    "    \"\"\" Correlating the frequencies of elements in two given positions \"\"\"\n",
    "\n",
    "    # Initializing a temporary dataframe\n",
    "    df_positions_corr = pd.DataFrame([[0 for _, _ in enumerate(ELEMENTS)] for _, _ in enumerate(ELEMENTS)], columns=ELEMENTS, index=ELEMENTS)\n",
    "\n",
    "    # Iterating over the first element\n",
    "    for i, e in enumerate(ELEMENTS):\n",
    "\n",
    "        # Iterating over the second element\n",
    "        for j, _ in enumerate(ELEMENTS):\n",
    "            counter = 0\n",
    "\n",
    "            # Update the progress bar\n",
    "            pbar.set_postfix_str(f\"Positions: {position_0},{position_1} - Elements: {ELEMENTS[i]},{ELEMENTS[j]}\")\n",
    "\n",
    "            # Iterating over all the equations in the dataframe\n",
    "            for row in df.itertuples():\n",
    "\n",
    "                # If the element in the positions are the same, increment the counter\n",
    "                if row[position_0 + 1] == ELEMENTS[i] and row[position_1 + 1] == ELEMENTS[j]:\n",
    "                    counter += 1\n",
    "                \n",
    "                # Update the progress bar\n",
    "                pbar.update(1)\n",
    "\n",
    "            # Storing the counter value\n",
    "            df_positions_corr[ELEMENTS[i]].loc[ELEMENTS[j]] = counter\n",
    "    \n",
    "    # Returning the dataframe\n",
    "    return df_positions_corr\n",
    "\n",
    "\n",
    "def correlate_elements(df):\n",
    "    \"\"\" Correlating the frequencies of elements across all positions \"\"\"\n",
    "\n",
    "    # Creating the progress bar and an empty DataFrame\n",
    "    pbar = tqdm(total=int(((NUMBER_OF_ELEMENTS ** 2) - NUMBER_OF_ELEMENTS) / 2) * len(df) * len(ELEMENTS) ** 2)\n",
    "    df_elements_corr = pd.DataFrame()\n",
    "\n",
    "    # Iterating over the first position\n",
    "    for i in range(NUMBER_OF_ELEMENTS):\n",
    "        df_i = pd.DataFrame()\n",
    "\n",
    "        # Iterating over the second position\n",
    "        for j in range(i + 1, NUMBER_OF_ELEMENTS):\n",
    "            \n",
    "            # Computing the correlation between the two positions\n",
    "            df_j = correlate_positions(df, i, j, pbar)\n",
    "\n",
    "            # Concatenating the dataframes\n",
    "            df_j = pd.concat([df_j], keys=[f\"p{j}\"], names=[f'position', 'element'], axis=0)\n",
    "            df_j = pd.concat([df_j], keys=[f\"p{i}\"], names=[f'position', 'element'], axis=1)\n",
    "            df_i = pd.concat([df_i, df_j], axis=0)\n",
    "\n",
    "        # Concatenating the dataframes again\n",
    "        df_elements_corr = pd.concat([df_elements_corr, df_i], axis=1)\n",
    "\n",
    "    # Converting dtypes and closing the progress bar\n",
    "    df_elements_corr = df_elements_corr.convert_dtypes()\n",
    "    pbar.close()\n",
    "\n",
    "    # Returning the dataframe\n",
    "    return df_elements_corr\n",
    "\n",
    "\n",
    "df_elements_pos_corr = correlate_elements(df[\"positions\"])"
   ]
  },
  {
   "cell_type": "code",
   "execution_count": 26,
   "metadata": {},
   "outputs": [
    {
     "data": {
      "application/vnd.plotly.v1+json": {
       "config": {
        "plotlyServerURL": "https://plot.ly"
       },
       "data": [
        {
         "coloraxis": "coloraxis2",
         "name": "0-1",
         "type": "heatmap",
         "visible": true,
         "x": [
          "1",
          "2",
          "3",
          "4",
          "5",
          "6",
          "8",
          "7",
          "9",
          "0",
          "+",
          "-",
          "*",
          "/",
          "="
         ],
         "xaxis": "x",
         "y": [
          "1",
          "2",
          "3",
          "4",
          "5",
          "6",
          "8",
          "7",
          "9",
          "0",
          "+",
          "-",
          "*",
          "/",
          "="
         ],
         "yaxis": "y",
         "z": [
          [
           0.038834951456310676,
           0.009708737864077669,
           0,
           0,
           0,
           0,
           0.0048543689320388345,
           0,
           0,
           0,
           0,
           0,
           0,
           0,
           0
          ],
          [
           0.05339805825242718,
           0,
           0.009708737864077669,
           0.009708737864077669,
           0,
           0,
           0,
           0.009708737864077669,
           0,
           0,
           0,
           0,
           0,
           0,
           0
          ],
          [
           0.02912621359223301,
           0,
           0,
           0,
           0,
           0.009708737864077669,
           0,
           0,
           0,
           0,
           0,
           0,
           0,
           0,
           0
          ],
          [
           0.03398058252427184,
           0.019417475728155338,
           0,
           0,
           0.009708737864077669,
           0.0048543689320388345,
           0,
           0,
           0,
           0,
           0,
           0,
           0,
           0,
           0
          ],
          [
           0.02912621359223301,
           0.0048543689320388345,
           0.009708737864077669,
           0.009708737864077669,
           0,
           0,
           0,
           0,
           0,
           0,
           0,
           0,
           0,
           0,
           0
          ],
          [
           0.02912621359223301,
           0,
           0.014563106796116505,
           0,
           0.009708737864077669,
           0,
           0,
           0,
           0,
           0,
           0,
           0,
           0,
           0,
           0
          ],
          [
           0.024271844660194174,
           0.009708737864077669,
           0,
           0.009708737864077669,
           0,
           0,
           0,
           0,
           0,
           0,
           0,
           0,
           0,
           0,
           0
          ],
          [
           0.009708737864077669,
           0.009708737864077669,
           0,
           0,
           0,
           0,
           0,
           0,
           0,
           0,
           0,
           0,
           0,
           0,
           0
          ],
          [
           0,
           0,
           0,
           0.0048543689320388345,
           0,
           0,
           0,
           0,
           0,
           0,
           0,
           0,
           0,
           0,
           0
          ],
          [
           0.05339805825242718,
           0.009708737864077669,
           0.009708737864077669,
           0.009708737864077669,
           0,
           0,
           0,
           0,
           0,
           0,
           0,
           0,
           0,
           0,
           0
          ],
          [
           0.0048543689320388345,
           0.009708737864077669,
           0.014563106796116505,
           0.019417475728155338,
           0.024271844660194174,
           0.02912621359223301,
           0.038834951456310676,
           0.03398058252427184,
           0.043689320388349516,
           0,
           0,
           0,
           0,
           0,
           0
          ],
          [
           0,
           0,
           0,
           0,
           0,
           0,
           0,
           0,
           0,
           0,
           0,
           0,
           0,
           0,
           0
          ],
          [
           0,
           0.024271844660194174,
           0.02912621359223301,
           0.03398058252427184,
           0.038834951456310676,
           0.038834951456310676,
           0.038834951456310676,
           0.038834951456310676,
           0.038834951456310676,
           0,
           0,
           0,
           0,
           0,
           0
          ],
          [
           0,
           0,
           0,
           0,
           0,
           0,
           0,
           0,
           0,
           0,
           0,
           0,
           0,
           0,
           0
          ],
          [
           0,
           0,
           0,
           0,
           0,
           0,
           0,
           0,
           0,
           0,
           0,
           0,
           0,
           0,
           0
          ]
         ]
        },
        {
         "coloraxis": "coloraxis",
         "name": "0-1",
         "type": "heatmap",
         "visible": false,
         "x": [
          "1",
          "2",
          "3",
          "4",
          "5",
          "6",
          "8",
          "7",
          "9",
          "0",
          "+",
          "-",
          "*",
          "/",
          "="
         ],
         "xaxis": "x",
         "y": [
          "1",
          "2",
          "3",
          "4",
          "5",
          "6",
          "8",
          "7",
          "9",
          "0",
          "+",
          "-",
          "*",
          "/",
          "="
         ],
         "yaxis": "y",
         "z": [
          [
           0.038834951456310676,
           0.009708737864077669,
           0,
           0,
           0,
           0,
           0.0048543689320388345,
           0,
           0,
           0,
           0,
           0,
           0,
           0,
           0
          ],
          [
           0.05339805825242718,
           0,
           0.009708737864077669,
           0.009708737864077669,
           0,
           0,
           0,
           0.009708737864077669,
           0,
           0,
           0,
           0,
           0,
           0,
           0
          ],
          [
           0.02912621359223301,
           0,
           0,
           0,
           0,
           0.009708737864077669,
           0,
           0,
           0,
           0,
           0,
           0,
           0,
           0,
           0
          ],
          [
           0.03398058252427184,
           0.019417475728155338,
           0,
           0,
           0.009708737864077669,
           0.0048543689320388345,
           0,
           0,
           0,
           0,
           0,
           0,
           0,
           0,
           0
          ],
          [
           0.02912621359223301,
           0.0048543689320388345,
           0.009708737864077669,
           0.009708737864077669,
           0,
           0,
           0,
           0,
           0,
           0,
           0,
           0,
           0,
           0,
           0
          ],
          [
           0.02912621359223301,
           0,
           0.014563106796116505,
           0,
           0.009708737864077669,
           0,
           0,
           0,
           0,
           0,
           0,
           0,
           0,
           0,
           0
          ],
          [
           0.024271844660194174,
           0.009708737864077669,
           0,
           0.009708737864077669,
           0,
           0,
           0,
           0,
           0,
           0,
           0,
           0,
           0,
           0,
           0
          ],
          [
           0.009708737864077669,
           0.009708737864077669,
           0,
           0,
           0,
           0,
           0,
           0,
           0,
           0,
           0,
           0,
           0,
           0,
           0
          ],
          [
           0,
           0,
           0,
           0.0048543689320388345,
           0,
           0,
           0,
           0,
           0,
           0,
           0,
           0,
           0,
           0,
           0
          ],
          [
           0.05339805825242718,
           0.009708737864077669,
           0.009708737864077669,
           0.009708737864077669,
           0,
           0,
           0,
           0,
           0,
           0,
           0,
           0,
           0,
           0,
           0
          ],
          [
           0.0048543689320388345,
           0.009708737864077669,
           0.014563106796116505,
           0.019417475728155338,
           0.024271844660194174,
           0.02912621359223301,
           0.038834951456310676,
           0.03398058252427184,
           0.043689320388349516,
           0,
           0,
           0,
           0,
           0,
           0
          ],
          [
           0,
           0,
           0,
           0,
           0,
           0,
           0,
           0,
           0,
           0,
           0,
           0,
           0,
           0,
           0
          ],
          [
           0,
           0.024271844660194174,
           0.02912621359223301,
           0.03398058252427184,
           0.038834951456310676,
           0.038834951456310676,
           0.038834951456310676,
           0.038834951456310676,
           0.038834951456310676,
           0,
           0,
           0,
           0,
           0,
           0
          ],
          [
           0,
           0,
           0,
           0,
           0,
           0,
           0,
           0,
           0,
           0,
           0,
           0,
           0,
           0,
           0
          ],
          [
           0,
           0,
           0,
           0,
           0,
           0,
           0,
           0,
           0,
           0,
           0,
           0,
           0,
           0,
           0
          ]
         ]
        },
        {
         "coloraxis": "coloraxis3",
         "name": "0-2",
         "type": "heatmap",
         "visible": true,
         "x": [
          "1",
          "2",
          "3",
          "4",
          "5",
          "6",
          "8",
          "7",
          "9",
          "0",
          "+",
          "-",
          "*",
          "/",
          "="
         ],
         "xaxis": "x6",
         "y": [
          "1",
          "2",
          "3",
          "4",
          "5",
          "6",
          "8",
          "7",
          "9",
          "0",
          "+",
          "-",
          "*",
          "/",
          "="
         ],
         "yaxis": "y6",
         "z": [
          [
           0,
           0,
           0,
           0,
           0,
           0,
           0,
           0,
           0.0048543689320388345,
           0,
           0,
           0,
           0,
           0,
           0
          ],
          [
           0,
           0,
           0,
           0,
           0.0048543689320388345,
           0.0048543689320388345,
           0.009708737864077669,
           0.0048543689320388345,
           0.009708737864077669,
           0,
           0,
           0,
           0,
           0,
           0
          ],
          [
           0,
           0,
           0,
           0.0048543689320388345,
           0.0048543689320388345,
           0.0048543689320388345,
           0.009708737864077669,
           0.009708737864077669,
           0.009708737864077669,
           0,
           0,
           0,
           0,
           0,
           0
          ],
          [
           0,
           0,
           0.0048543689320388345,
           0.0048543689320388345,
           0.0048543689320388345,
           0.009708737864077669,
           0.009708737864077669,
           0.009708737864077669,
           0.009708737864077669,
           0,
           0,
           0,
           0,
           0,
           0
          ],
          [
           0,
           0.0048543689320388345,
           0.0048543689320388345,
           0.0048543689320388345,
           0.009708737864077669,
           0.009708737864077669,
           0.009708737864077669,
           0.009708737864077669,
           0.009708737864077669,
           0,
           0,
           0,
           0,
           0,
           0
          ],
          [
           0,
           0.0048543689320388345,
           0.0048543689320388345,
           0.009708737864077669,
           0.009708737864077669,
           0.009708737864077669,
           0.009708737864077669,
           0.009708737864077669,
           0.009708737864077669,
           0,
           0,
           0,
           0,
           0,
           0
          ],
          [
           0,
           0.009708737864077669,
           0.009708737864077669,
           0.009708737864077669,
           0.009708737864077669,
           0.009708737864077669,
           0.009708737864077669,
           0.009708737864077669,
           0.009708737864077669,
           0,
           0,
           0,
           0,
           0,
           0
          ],
          [
           0,
           0.0048543689320388345,
           0.009708737864077669,
           0.009708737864077669,
           0.009708737864077669,
           0.009708737864077669,
           0.009708737864077669,
           0.009708737864077669,
           0.009708737864077669,
           0,
           0,
           0,
           0,
           0,
           0
          ],
          [
           0.0048543689320388345,
           0.009708737864077669,
           0.009708737864077669,
           0.009708737864077669,
           0.009708737864077669,
           0.009708737864077669,
           0.009708737864077669,
           0.009708737864077669,
           0.009708737864077669,
           0,
           0,
           0,
           0,
           0,
           0
          ],
          [
           0,
           0,
           0,
           0,
           0,
           0,
           0,
           0,
           0,
           0,
           0,
           0,
           0,
           0,
           0
          ],
          [
           0,
           0,
           0,
           0,
           0,
           0,
           0,
           0,
           0,
           0,
           0,
           0,
           0,
           0,
           0
          ],
          [
           0.21844660194174756,
           0,
           0,
           0,
           0,
           0,
           0,
           0,
           0,
           0,
           0,
           0,
           0,
           0,
           0
          ],
          [
           0,
           0,
           0,
           0,
           0,
           0,
           0,
           0,
           0,
           0,
           0,
           0,
           0,
           0,
           0
          ],
          [
           0.0825242718446602,
           0.06310679611650485,
           0.043689320388349516,
           0.043689320388349516,
           0.019417475728155338,
           0.014563106796116505,
           0.0048543689320388345,
           0.009708737864077669,
           0,
           0,
           0,
           0,
           0,
           0,
           0
          ],
          [
           0,
           0,
           0,
           0,
           0,
           0,
           0,
           0,
           0,
           0,
           0,
           0,
           0,
           0,
           0
          ]
         ]
        },
        {
         "coloraxis": "coloraxis",
         "name": "0-2",
         "type": "heatmap",
         "visible": false,
         "x": [
          "1",
          "2",
          "3",
          "4",
          "5",
          "6",
          "8",
          "7",
          "9",
          "0",
          "+",
          "-",
          "*",
          "/",
          "="
         ],
         "xaxis": "x6",
         "y": [
          "1",
          "2",
          "3",
          "4",
          "5",
          "6",
          "8",
          "7",
          "9",
          "0",
          "+",
          "-",
          "*",
          "/",
          "="
         ],
         "yaxis": "y6",
         "z": [
          [
           0,
           0,
           0,
           0,
           0,
           0,
           0,
           0,
           0.0048543689320388345,
           0,
           0,
           0,
           0,
           0,
           0
          ],
          [
           0,
           0,
           0,
           0,
           0.0048543689320388345,
           0.0048543689320388345,
           0.009708737864077669,
           0.0048543689320388345,
           0.009708737864077669,
           0,
           0,
           0,
           0,
           0,
           0
          ],
          [
           0,
           0,
           0,
           0.0048543689320388345,
           0.0048543689320388345,
           0.0048543689320388345,
           0.009708737864077669,
           0.009708737864077669,
           0.009708737864077669,
           0,
           0,
           0,
           0,
           0,
           0
          ],
          [
           0,
           0,
           0.0048543689320388345,
           0.0048543689320388345,
           0.0048543689320388345,
           0.009708737864077669,
           0.009708737864077669,
           0.009708737864077669,
           0.009708737864077669,
           0,
           0,
           0,
           0,
           0,
           0
          ],
          [
           0,
           0.0048543689320388345,
           0.0048543689320388345,
           0.0048543689320388345,
           0.009708737864077669,
           0.009708737864077669,
           0.009708737864077669,
           0.009708737864077669,
           0.009708737864077669,
           0,
           0,
           0,
           0,
           0,
           0
          ],
          [
           0,
           0.0048543689320388345,
           0.0048543689320388345,
           0.009708737864077669,
           0.009708737864077669,
           0.009708737864077669,
           0.009708737864077669,
           0.009708737864077669,
           0.009708737864077669,
           0,
           0,
           0,
           0,
           0,
           0
          ],
          [
           0,
           0.009708737864077669,
           0.009708737864077669,
           0.009708737864077669,
           0.009708737864077669,
           0.009708737864077669,
           0.009708737864077669,
           0.009708737864077669,
           0.009708737864077669,
           0,
           0,
           0,
           0,
           0,
           0
          ],
          [
           0,
           0.0048543689320388345,
           0.009708737864077669,
           0.009708737864077669,
           0.009708737864077669,
           0.009708737864077669,
           0.009708737864077669,
           0.009708737864077669,
           0.009708737864077669,
           0,
           0,
           0,
           0,
           0,
           0
          ],
          [
           0.0048543689320388345,
           0.009708737864077669,
           0.009708737864077669,
           0.009708737864077669,
           0.009708737864077669,
           0.009708737864077669,
           0.009708737864077669,
           0.009708737864077669,
           0.009708737864077669,
           0,
           0,
           0,
           0,
           0,
           0
          ],
          [
           0,
           0,
           0,
           0,
           0,
           0,
           0,
           0,
           0,
           0,
           0,
           0,
           0,
           0,
           0
          ],
          [
           0,
           0,
           0,
           0,
           0,
           0,
           0,
           0,
           0,
           0,
           0,
           0,
           0,
           0,
           0
          ],
          [
           0.21844660194174756,
           0,
           0,
           0,
           0,
           0,
           0,
           0,
           0,
           0,
           0,
           0,
           0,
           0,
           0
          ],
          [
           0,
           0,
           0,
           0,
           0,
           0,
           0,
           0,
           0,
           0,
           0,
           0,
           0,
           0,
           0
          ],
          [
           0.0825242718446602,
           0.06310679611650485,
           0.043689320388349516,
           0.043689320388349516,
           0.019417475728155338,
           0.014563106796116505,
           0.0048543689320388345,
           0.009708737864077669,
           0,
           0,
           0,
           0,
           0,
           0,
           0
          ],
          [
           0,
           0,
           0,
           0,
           0,
           0,
           0,
           0,
           0,
           0,
           0,
           0,
           0,
           0,
           0
          ]
         ]
        },
        {
         "coloraxis": "coloraxis4",
         "name": "0-3",
         "type": "heatmap",
         "visible": true,
         "x": [
          "1",
          "2",
          "3",
          "4",
          "5",
          "6",
          "8",
          "7",
          "9",
          "0",
          "+",
          "-",
          "*",
          "/",
          "="
         ],
         "xaxis": "x11",
         "y": [
          "1",
          "2",
          "3",
          "4",
          "5",
          "6",
          "8",
          "7",
          "9",
          "0",
          "+",
          "-",
          "*",
          "/",
          "="
         ],
         "yaxis": "y11",
         "z": [
          [
           0.0048543689320388345,
           0,
           0,
           0,
           0,
           0,
           0,
           0,
           0,
           0,
           0,
           0,
           0,
           0,
           0
          ],
          [
           0.03398058252427184,
           0,
           0,
           0,
           0,
           0,
           0,
           0,
           0,
           0,
           0,
           0,
           0,
           0,
           0
          ],
          [
           0.02912621359223301,
           0.014563106796116505,
           0,
           0,
           0,
           0,
           0,
           0,
           0,
           0,
           0,
           0,
           0,
           0,
           0
          ],
          [
           0.02912621359223301,
           0.014563106796116505,
           0.009708737864077669,
           0,
           0,
           0,
           0,
           0,
           0,
           0,
           0,
           0,
           0,
           0,
           0
          ],
          [
           0.03398058252427184,
           0.009708737864077669,
           0.009708737864077669,
           0.009708737864077669,
           0,
           0,
           0,
           0,
           0,
           0,
           0,
           0,
           0,
           0,
           0
          ],
          [
           0.038834951456310676,
           0.0048543689320388345,
           0.009708737864077669,
           0.009708737864077669,
           0.0048543689320388345,
           0,
           0,
           0,
           0,
           0,
           0,
           0,
           0,
           0,
           0
          ],
          [
           0.043689320388349516,
           0.0048543689320388345,
           0.0048543689320388345,
           0.009708737864077669,
           0.0048543689320388345,
           0.0048543689320388345,
           0,
           0.0048543689320388345,
           0,
           0,
           0,
           0,
           0,
           0,
           0
          ],
          [
           0.038834951456310676,
           0.009708737864077669,
           0.0048543689320388345,
           0.009708737864077669,
           0.0048543689320388345,
           0.0048543689320388345,
           0,
           0,
           0,
           0,
           0,
           0,
           0,
           0,
           0
          ],
          [
           0.04854368932038835,
           0.0048543689320388345,
           0.0048543689320388345,
           0.0048543689320388345,
           0.0048543689320388345,
           0.0048543689320388345,
           0.0048543689320388345,
           0.0048543689320388345,
           0,
           0,
           0,
           0,
           0,
           0,
           0
          ],
          [
           0,
           0,
           0,
           0,
           0,
           0,
           0,
           0,
           0,
           0,
           0,
           0,
           0,
           0,
           0
          ],
          [
           0,
           0,
           0,
           0,
           0,
           0,
           0,
           0,
           0,
           0,
           0,
           0,
           0,
           0,
           0
          ],
          [
           0,
           0,
           0,
           0,
           0,
           0,
           0,
           0,
           0,
           0,
           0,
           0,
           0,
           0,
           0
          ],
          [
           0,
           0,
           0,
           0,
           0,
           0,
           0,
           0,
           0,
           0,
           0,
           0,
           0,
           0,
           0
          ],
          [
           0,
           0,
           0,
           0,
           0,
           0,
           0,
           0,
           0,
           0,
           0,
           0,
           0,
           0,
           0
          ],
          [
           0.0048543689320388345,
           0.03398058252427184,
           0.043689320388349516,
           0.05339805825242718,
           0.06310679611650485,
           0.06796116504854369,
           0.07766990291262135,
           0.07281553398058252,
           0.0825242718446602,
           0,
           0,
           0,
           0,
           0,
           0
          ]
         ]
        },
        {
         "coloraxis": "coloraxis",
         "name": "0-3",
         "type": "heatmap",
         "visible": false,
         "x": [
          "1",
          "2",
          "3",
          "4",
          "5",
          "6",
          "8",
          "7",
          "9",
          "0",
          "+",
          "-",
          "*",
          "/",
          "="
         ],
         "xaxis": "x11",
         "y": [
          "1",
          "2",
          "3",
          "4",
          "5",
          "6",
          "8",
          "7",
          "9",
          "0",
          "+",
          "-",
          "*",
          "/",
          "="
         ],
         "yaxis": "y11",
         "z": [
          [
           0.0048543689320388345,
           0,
           0,
           0,
           0,
           0,
           0,
           0,
           0,
           0,
           0,
           0,
           0,
           0,
           0
          ],
          [
           0.03398058252427184,
           0,
           0,
           0,
           0,
           0,
           0,
           0,
           0,
           0,
           0,
           0,
           0,
           0,
           0
          ],
          [
           0.02912621359223301,
           0.014563106796116505,
           0,
           0,
           0,
           0,
           0,
           0,
           0,
           0,
           0,
           0,
           0,
           0,
           0
          ],
          [
           0.02912621359223301,
           0.014563106796116505,
           0.009708737864077669,
           0,
           0,
           0,
           0,
           0,
           0,
           0,
           0,
           0,
           0,
           0,
           0
          ],
          [
           0.03398058252427184,
           0.009708737864077669,
           0.009708737864077669,
           0.009708737864077669,
           0,
           0,
           0,
           0,
           0,
           0,
           0,
           0,
           0,
           0,
           0
          ],
          [
           0.038834951456310676,
           0.0048543689320388345,
           0.009708737864077669,
           0.009708737864077669,
           0.0048543689320388345,
           0,
           0,
           0,
           0,
           0,
           0,
           0,
           0,
           0,
           0
          ],
          [
           0.043689320388349516,
           0.0048543689320388345,
           0.0048543689320388345,
           0.009708737864077669,
           0.0048543689320388345,
           0.0048543689320388345,
           0,
           0.0048543689320388345,
           0,
           0,
           0,
           0,
           0,
           0,
           0
          ],
          [
           0.038834951456310676,
           0.009708737864077669,
           0.0048543689320388345,
           0.009708737864077669,
           0.0048543689320388345,
           0.0048543689320388345,
           0,
           0,
           0,
           0,
           0,
           0,
           0,
           0,
           0
          ],
          [
           0.04854368932038835,
           0.0048543689320388345,
           0.0048543689320388345,
           0.0048543689320388345,
           0.0048543689320388345,
           0.0048543689320388345,
           0.0048543689320388345,
           0.0048543689320388345,
           0,
           0,
           0,
           0,
           0,
           0,
           0
          ],
          [
           0,
           0,
           0,
           0,
           0,
           0,
           0,
           0,
           0,
           0,
           0,
           0,
           0,
           0,
           0
          ],
          [
           0,
           0,
           0,
           0,
           0,
           0,
           0,
           0,
           0,
           0,
           0,
           0,
           0,
           0,
           0
          ],
          [
           0,
           0,
           0,
           0,
           0,
           0,
           0,
           0,
           0,
           0,
           0,
           0,
           0,
           0,
           0
          ],
          [
           0,
           0,
           0,
           0,
           0,
           0,
           0,
           0,
           0,
           0,
           0,
           0,
           0,
           0,
           0
          ],
          [
           0,
           0,
           0,
           0,
           0,
           0,
           0,
           0,
           0,
           0,
           0,
           0,
           0,
           0,
           0
          ],
          [
           0.0048543689320388345,
           0.03398058252427184,
           0.043689320388349516,
           0.05339805825242718,
           0.06310679611650485,
           0.06796116504854369,
           0.07766990291262135,
           0.07281553398058252,
           0.0825242718446602,
           0,
           0,
           0,
           0,
           0,
           0
          ]
         ]
        },
        {
         "coloraxis": "coloraxis5",
         "name": "0-4",
         "type": "heatmap",
         "visible": true,
         "x": [
          "1",
          "2",
          "3",
          "4",
          "5",
          "6",
          "8",
          "7",
          "9",
          "0",
          "+",
          "-",
          "*",
          "/",
          "="
         ],
         "xaxis": "x16",
         "y": [
          "1",
          "2",
          "3",
          "4",
          "5",
          "6",
          "8",
          "7",
          "9",
          "0",
          "+",
          "-",
          "*",
          "/",
          "="
         ],
         "yaxis": "y16",
         "z": [
          [
           0.0048543689320388345,
           0.03398058252427184,
           0.02912621359223301,
           0.02912621359223301,
           0.03398058252427184,
           0.038834951456310676,
           0.043689320388349516,
           0.038834951456310676,
           0.04854368932038835,
           0,
           0,
           0,
           0,
           0,
           0
          ],
          [
           0,
           0,
           0.014563106796116505,
           0.014563106796116505,
           0.009708737864077669,
           0.0048543689320388345,
           0.0048543689320388345,
           0.009708737864077669,
           0.0048543689320388345,
           0,
           0,
           0,
           0,
           0,
           0
          ],
          [
           0,
           0,
           0,
           0.009708737864077669,
           0.009708737864077669,
           0.009708737864077669,
           0.0048543689320388345,
           0.0048543689320388345,
           0.0048543689320388345,
           0,
           0,
           0,
           0,
           0,
           0
          ],
          [
           0,
           0,
           0,
           0,
           0.009708737864077669,
           0.009708737864077669,
           0.009708737864077669,
           0.009708737864077669,
           0.0048543689320388345,
           0,
           0,
           0,
           0,
           0,
           0
          ],
          [
           0,
           0,
           0,
           0,
           0,
           0.0048543689320388345,
           0.0048543689320388345,
           0.0048543689320388345,
           0.0048543689320388345,
           0,
           0,
           0,
           0,
           0,
           0
          ],
          [
           0,
           0,
           0,
           0,
           0,
           0,
           0.0048543689320388345,
           0.0048543689320388345,
           0.0048543689320388345,
           0,
           0,
           0,
           0,
           0,
           0
          ],
          [
           0,
           0,
           0,
           0,
           0,
           0,
           0,
           0,
           0.0048543689320388345,
           0,
           0,
           0,
           0,
           0,
           0
          ],
          [
           0,
           0,
           0,
           0,
           0,
           0,
           0.0048543689320388345,
           0,
           0.0048543689320388345,
           0,
           0,
           0,
           0,
           0,
           0
          ],
          [
           0,
           0,
           0,
           0,
           0,
           0,
           0,
           0,
           0,
           0,
           0,
           0,
           0,
           0,
           0
          ],
          [
           0,
           0,
           0,
           0,
           0,
           0,
           0,
           0,
           0,
           0,
           0,
           0,
           0,
           0,
           0
          ],
          [
           0,
           0,
           0,
           0,
           0,
           0,
           0,
           0,
           0,
           0,
           0,
           0,
           0,
           0,
           0
          ],
          [
           0,
           0,
           0,
           0,
           0,
           0,
           0,
           0,
           0,
           0,
           0,
           0,
           0,
           0,
           0
          ],
          [
           0,
           0,
           0,
           0,
           0,
           0,
           0,
           0,
           0,
           0,
           0,
           0,
           0,
           0,
           0
          ],
          [
           0,
           0,
           0,
           0,
           0,
           0,
           0,
           0,
           0,
           0,
           0,
           0,
           0,
           0,
           0
          ],
          [
           0.30097087378640774,
           0.06310679611650485,
           0.043689320388349516,
           0.043689320388349516,
           0.019417475728155338,
           0.014563106796116505,
           0.0048543689320388345,
           0.009708737864077669,
           0,
           0,
           0,
           0,
           0,
           0,
           0
          ]
         ]
        },
        {
         "coloraxis": "coloraxis",
         "name": "0-4",
         "type": "heatmap",
         "visible": false,
         "x": [
          "1",
          "2",
          "3",
          "4",
          "5",
          "6",
          "8",
          "7",
          "9",
          "0",
          "+",
          "-",
          "*",
          "/",
          "="
         ],
         "xaxis": "x16",
         "y": [
          "1",
          "2",
          "3",
          "4",
          "5",
          "6",
          "8",
          "7",
          "9",
          "0",
          "+",
          "-",
          "*",
          "/",
          "="
         ],
         "yaxis": "y16",
         "z": [
          [
           0.0048543689320388345,
           0.03398058252427184,
           0.02912621359223301,
           0.02912621359223301,
           0.03398058252427184,
           0.038834951456310676,
           0.043689320388349516,
           0.038834951456310676,
           0.04854368932038835,
           0,
           0,
           0,
           0,
           0,
           0
          ],
          [
           0,
           0,
           0.014563106796116505,
           0.014563106796116505,
           0.009708737864077669,
           0.0048543689320388345,
           0.0048543689320388345,
           0.009708737864077669,
           0.0048543689320388345,
           0,
           0,
           0,
           0,
           0,
           0
          ],
          [
           0,
           0,
           0,
           0.009708737864077669,
           0.009708737864077669,
           0.009708737864077669,
           0.0048543689320388345,
           0.0048543689320388345,
           0.0048543689320388345,
           0,
           0,
           0,
           0,
           0,
           0
          ],
          [
           0,
           0,
           0,
           0,
           0.009708737864077669,
           0.009708737864077669,
           0.009708737864077669,
           0.009708737864077669,
           0.0048543689320388345,
           0,
           0,
           0,
           0,
           0,
           0
          ],
          [
           0,
           0,
           0,
           0,
           0,
           0.0048543689320388345,
           0.0048543689320388345,
           0.0048543689320388345,
           0.0048543689320388345,
           0,
           0,
           0,
           0,
           0,
           0
          ],
          [
           0,
           0,
           0,
           0,
           0,
           0,
           0.0048543689320388345,
           0.0048543689320388345,
           0.0048543689320388345,
           0,
           0,
           0,
           0,
           0,
           0
          ],
          [
           0,
           0,
           0,
           0,
           0,
           0,
           0,
           0,
           0.0048543689320388345,
           0,
           0,
           0,
           0,
           0,
           0
          ],
          [
           0,
           0,
           0,
           0,
           0,
           0,
           0.0048543689320388345,
           0,
           0.0048543689320388345,
           0,
           0,
           0,
           0,
           0,
           0
          ],
          [
           0,
           0,
           0,
           0,
           0,
           0,
           0,
           0,
           0,
           0,
           0,
           0,
           0,
           0,
           0
          ],
          [
           0,
           0,
           0,
           0,
           0,
           0,
           0,
           0,
           0,
           0,
           0,
           0,
           0,
           0,
           0
          ],
          [
           0,
           0,
           0,
           0,
           0,
           0,
           0,
           0,
           0,
           0,
           0,
           0,
           0,
           0,
           0
          ],
          [
           0,
           0,
           0,
           0,
           0,
           0,
           0,
           0,
           0,
           0,
           0,
           0,
           0,
           0,
           0
          ],
          [
           0,
           0,
           0,
           0,
           0,
           0,
           0,
           0,
           0,
           0,
           0,
           0,
           0,
           0,
           0
          ],
          [
           0,
           0,
           0,
           0,
           0,
           0,
           0,
           0,
           0,
           0,
           0,
           0,
           0,
           0,
           0
          ],
          [
           0.30097087378640774,
           0.06310679611650485,
           0.043689320388349516,
           0.043689320388349516,
           0.019417475728155338,
           0.014563106796116505,
           0.0048543689320388345,
           0.009708737864077669,
           0,
           0,
           0,
           0,
           0,
           0,
           0
          ]
         ]
        },
        {
         "coloraxis": "coloraxis6",
         "name": "0-5",
         "type": "heatmap",
         "visible": true,
         "x": [
          "1",
          "2",
          "3",
          "4",
          "5",
          "6",
          "8",
          "7",
          "9",
          "0",
          "+",
          "-",
          "*",
          "/",
          "="
         ],
         "xaxis": "x21",
         "y": [
          "1",
          "2",
          "3",
          "4",
          "5",
          "6",
          "8",
          "7",
          "9",
          "0",
          "+",
          "-",
          "*",
          "/",
          "="
         ],
         "yaxis": "y21",
         "z": [
          [
           0.0048543689320388345,
           0.0048543689320388345,
           0.009708737864077669,
           0.0048543689320388345,
           0.0048543689320388345,
           0.0048543689320388345,
           0.0048543689320388345,
           0.009708737864077669,
           0.009708737864077669,
           0,
           0,
           0,
           0,
           0,
           0
          ],
          [
           0.03398058252427184,
           0.0048543689320388345,
           0.009708737864077669,
           0.014563106796116505,
           0.0048543689320388345,
           0.014563106796116505,
           0.014563106796116505,
           0.009708737864077669,
           0.009708737864077669,
           0,
           0,
           0,
           0,
           0,
           0
          ],
          [
           0.02912621359223301,
           0.014563106796116505,
           0,
           0.0048543689320388345,
           0.0048543689320388345,
           0.0048543689320388345,
           0.0048543689320388345,
           0.009708737864077669,
           0.009708737864077669,
           0,
           0,
           0,
           0,
           0,
           0
          ],
          [
           0.02912621359223301,
           0.019417475728155338,
           0.014563106796116505,
           0.0048543689320388345,
           0.0048543689320388345,
           0.014563106796116505,
           0.014563106796116505,
           0.009708737864077669,
           0.009708737864077669,
           0,
           0,
           0,
           0,
           0,
           0
          ],
          [
           0.03398058252427184,
           0.009708737864077669,
           0.014563106796116505,
           0.009708737864077669,
           0.019417475728155338,
           0.0048543689320388345,
           0.0048543689320388345,
           0.009708737864077669,
           0.009708737864077669,
           0,
           0,
           0,
           0,
           0,
           0
          ],
          [
           0.038834951456310676,
           0.009708737864077669,
           0.009708737864077669,
           0.019417475728155338,
           0.0048543689320388345,
           0.0048543689320388345,
           0.014563106796116505,
           0.009708737864077669,
           0.009708737864077669,
           0,
           0,
           0,
           0,
           0,
           0
          ],
          [
           0.043689320388349516,
           0.009708737864077669,
           0.009708737864077669,
           0.014563106796116505,
           0.0048543689320388345,
           0.014563106796116505,
           0.0048543689320388345,
           0.009708737864077669,
           0.009708737864077669,
           0,
           0,
           0,
           0,
           0,
           0
          ],
          [
           0.038834951456310676,
           0.009708737864077669,
           0.009708737864077669,
           0.009708737864077669,
           0.0048543689320388345,
           0.0048543689320388345,
           0.0048543689320388345,
           0,
           0.009708737864077669,
           0,
           0,
           0,
           0,
           0,
           0
          ],
          [
           0.04854368932038835,
           0.0048543689320388345,
           0.0048543689320388345,
           0.0048543689320388345,
           0.0048543689320388345,
           0.0048543689320388345,
           0.0048543689320388345,
           0.009708737864077669,
           0,
           0,
           0,
           0,
           0,
           0,
           0
          ],
          [
           0.0048543689320388345,
           0.009708737864077669,
           0.0048543689320388345,
           0.009708737864077669,
           0.024271844660194174,
           0.009708737864077669,
           0.009708737864077669,
           0.0048543689320388345,
           0.0048543689320388345,
           0,
           0,
           0,
           0,
           0,
           0
          ],
          [
           0,
           0,
           0,
           0,
           0,
           0,
           0,
           0,
           0,
           0,
           0,
           0,
           0,
           0,
           0
          ],
          [
           0,
           0,
           0,
           0,
           0,
           0,
           0,
           0,
           0,
           0,
           0,
           0,
           0,
           0,
           0
          ],
          [
           0,
           0,
           0,
           0,
           0,
           0,
           0,
           0,
           0,
           0,
           0,
           0,
           0,
           0,
           0
          ],
          [
           0,
           0,
           0,
           0,
           0,
           0,
           0,
           0,
           0,
           0,
           0,
           0,
           0,
           0,
           0
          ],
          [
           0,
           0,
           0,
           0,
           0,
           0,
           0,
           0,
           0,
           0,
           0,
           0,
           0,
           0,
           0
          ]
         ]
        },
        {
         "coloraxis": "coloraxis",
         "name": "0-5",
         "type": "heatmap",
         "visible": false,
         "x": [
          "1",
          "2",
          "3",
          "4",
          "5",
          "6",
          "8",
          "7",
          "9",
          "0",
          "+",
          "-",
          "*",
          "/",
          "="
         ],
         "xaxis": "x21",
         "y": [
          "1",
          "2",
          "3",
          "4",
          "5",
          "6",
          "8",
          "7",
          "9",
          "0",
          "+",
          "-",
          "*",
          "/",
          "="
         ],
         "yaxis": "y21",
         "z": [
          [
           0.0048543689320388345,
           0.0048543689320388345,
           0.009708737864077669,
           0.0048543689320388345,
           0.0048543689320388345,
           0.0048543689320388345,
           0.0048543689320388345,
           0.009708737864077669,
           0.009708737864077669,
           0,
           0,
           0,
           0,
           0,
           0
          ],
          [
           0.03398058252427184,
           0.0048543689320388345,
           0.009708737864077669,
           0.014563106796116505,
           0.0048543689320388345,
           0.014563106796116505,
           0.014563106796116505,
           0.009708737864077669,
           0.009708737864077669,
           0,
           0,
           0,
           0,
           0,
           0
          ],
          [
           0.02912621359223301,
           0.014563106796116505,
           0,
           0.0048543689320388345,
           0.0048543689320388345,
           0.0048543689320388345,
           0.0048543689320388345,
           0.009708737864077669,
           0.009708737864077669,
           0,
           0,
           0,
           0,
           0,
           0
          ],
          [
           0.02912621359223301,
           0.019417475728155338,
           0.014563106796116505,
           0.0048543689320388345,
           0.0048543689320388345,
           0.014563106796116505,
           0.014563106796116505,
           0.009708737864077669,
           0.009708737864077669,
           0,
           0,
           0,
           0,
           0,
           0
          ],
          [
           0.03398058252427184,
           0.009708737864077669,
           0.014563106796116505,
           0.009708737864077669,
           0.019417475728155338,
           0.0048543689320388345,
           0.0048543689320388345,
           0.009708737864077669,
           0.009708737864077669,
           0,
           0,
           0,
           0,
           0,
           0
          ],
          [
           0.038834951456310676,
           0.009708737864077669,
           0.009708737864077669,
           0.019417475728155338,
           0.0048543689320388345,
           0.0048543689320388345,
           0.014563106796116505,
           0.009708737864077669,
           0.009708737864077669,
           0,
           0,
           0,
           0,
           0,
           0
          ],
          [
           0.043689320388349516,
           0.009708737864077669,
           0.009708737864077669,
           0.014563106796116505,
           0.0048543689320388345,
           0.014563106796116505,
           0.0048543689320388345,
           0.009708737864077669,
           0.009708737864077669,
           0,
           0,
           0,
           0,
           0,
           0
          ],
          [
           0.038834951456310676,
           0.009708737864077669,
           0.009708737864077669,
           0.009708737864077669,
           0.0048543689320388345,
           0.0048543689320388345,
           0.0048543689320388345,
           0,
           0.009708737864077669,
           0,
           0,
           0,
           0,
           0,
           0
          ],
          [
           0.04854368932038835,
           0.0048543689320388345,
           0.0048543689320388345,
           0.0048543689320388345,
           0.0048543689320388345,
           0.0048543689320388345,
           0.0048543689320388345,
           0.009708737864077669,
           0,
           0,
           0,
           0,
           0,
           0,
           0
          ],
          [
           0.0048543689320388345,
           0.009708737864077669,
           0.0048543689320388345,
           0.009708737864077669,
           0.024271844660194174,
           0.009708737864077669,
           0.009708737864077669,
           0.0048543689320388345,
           0.0048543689320388345,
           0,
           0,
           0,
           0,
           0,
           0
          ],
          [
           0,
           0,
           0,
           0,
           0,
           0,
           0,
           0,
           0,
           0,
           0,
           0,
           0,
           0,
           0
          ],
          [
           0,
           0,
           0,
           0,
           0,
           0,
           0,
           0,
           0,
           0,
           0,
           0,
           0,
           0,
           0
          ],
          [
           0,
           0,
           0,
           0,
           0,
           0,
           0,
           0,
           0,
           0,
           0,
           0,
           0,
           0,
           0
          ],
          [
           0,
           0,
           0,
           0,
           0,
           0,
           0,
           0,
           0,
           0,
           0,
           0,
           0,
           0,
           0
          ],
          [
           0,
           0,
           0,
           0,
           0,
           0,
           0,
           0,
           0,
           0,
           0,
           0,
           0,
           0,
           0
          ]
         ]
        },
        {
         "coloraxis": "coloraxis4",
         "name": "1-2",
         "type": "heatmap",
         "visible": true,
         "x": [
          "1",
          "2",
          "3",
          "4",
          "5",
          "6",
          "8",
          "7",
          "9",
          "0",
          "+",
          "-",
          "*",
          "/",
          "="
         ],
         "xaxis": "x7",
         "y": [
          "1",
          "2",
          "3",
          "4",
          "5",
          "6",
          "8",
          "7",
          "9",
          "0",
          "+",
          "-",
          "*",
          "/",
          "="
         ],
         "yaxis": "y7",
         "z": [
          [
           0,
           0,
           0,
           0,
           0,
           0,
           0,
           0,
           0,
           0,
           0.0048543689320388345,
           0,
           0,
           0,
           0
          ],
          [
           0,
           0,
           0,
           0,
           0,
           0,
           0,
           0,
           0,
           0,
           0.009708737864077669,
           0,
           0.024271844660194174,
           0,
           0
          ],
          [
           0,
           0,
           0,
           0,
           0,
           0,
           0,
           0,
           0,
           0,
           0.014563106796116505,
           0,
           0.02912621359223301,
           0,
           0
          ],
          [
           0,
           0,
           0,
           0,
           0,
           0,
           0,
           0,
           0,
           0,
           0.019417475728155338,
           0,
           0.03398058252427184,
           0,
           0
          ],
          [
           0,
           0,
           0,
           0,
           0,
           0,
           0,
           0,
           0,
           0,
           0.024271844660194174,
           0,
           0.038834951456310676,
           0,
           0
          ],
          [
           0,
           0,
           0,
           0,
           0,
           0,
           0,
           0,
           0,
           0,
           0.02912621359223301,
           0,
           0.038834951456310676,
           0,
           0
          ],
          [
           0,
           0,
           0,
           0,
           0,
           0,
           0,
           0,
           0,
           0,
           0.038834951456310676,
           0,
           0.038834951456310676,
           0,
           0
          ],
          [
           0,
           0,
           0,
           0,
           0,
           0,
           0,
           0,
           0,
           0,
           0.03398058252427184,
           0,
           0.038834951456310676,
           0,
           0
          ],
          [
           0,
           0,
           0,
           0,
           0,
           0,
           0,
           0,
           0,
           0,
           0.043689320388349516,
           0,
           0.038834951456310676,
           0,
           0
          ],
          [
           0,
           0,
           0,
           0,
           0,
           0,
           0,
           0,
           0,
           0,
           0,
           0,
           0,
           0,
           0
          ],
          [
           0,
           0,
           0,
           0,
           0,
           0,
           0,
           0,
           0,
           0,
           0,
           0,
           0,
           0,
           0
          ],
          [
           0.038834951456310676,
           0.03398058252427184,
           0.02912621359223301,
           0.024271844660194174,
           0.019417475728155338,
           0.014563106796116505,
           0.0048543689320388345,
           0.009708737864077669,
           0,
           0.043689320388349516,
           0,
           0,
           0,
           0,
           0
          ],
          [
           0,
           0,
           0,
           0,
           0,
           0,
           0,
           0,
           0,
           0,
           0,
           0,
           0,
           0,
           0
          ],
          [
           0.014563106796116505,
           0.04854368932038835,
           0.009708737864077669,
           0.043689320388349516,
           0.03398058252427184,
           0.038834951456310676,
           0.038834951456310676,
           0.009708737864077669,
           0.0048543689320388345,
           0.038834951456310676,
           0,
           0,
           0,
           0,
           0
          ],
          [
           0,
           0,
           0,
           0,
           0,
           0,
           0,
           0,
           0,
           0,
           0,
           0,
           0,
           0,
           0
          ]
         ]
        },
        {
         "coloraxis": "coloraxis",
         "name": "1-2",
         "type": "heatmap",
         "visible": false,
         "x": [
          "1",
          "2",
          "3",
          "4",
          "5",
          "6",
          "8",
          "7",
          "9",
          "0",
          "+",
          "-",
          "*",
          "/",
          "="
         ],
         "xaxis": "x7",
         "y": [
          "1",
          "2",
          "3",
          "4",
          "5",
          "6",
          "8",
          "7",
          "9",
          "0",
          "+",
          "-",
          "*",
          "/",
          "="
         ],
         "yaxis": "y7",
         "z": [
          [
           0,
           0,
           0,
           0,
           0,
           0,
           0,
           0,
           0,
           0,
           0.0048543689320388345,
           0,
           0,
           0,
           0
          ],
          [
           0,
           0,
           0,
           0,
           0,
           0,
           0,
           0,
           0,
           0,
           0.009708737864077669,
           0,
           0.024271844660194174,
           0,
           0
          ],
          [
           0,
           0,
           0,
           0,
           0,
           0,
           0,
           0,
           0,
           0,
           0.014563106796116505,
           0,
           0.02912621359223301,
           0,
           0
          ],
          [
           0,
           0,
           0,
           0,
           0,
           0,
           0,
           0,
           0,
           0,
           0.019417475728155338,
           0,
           0.03398058252427184,
           0,
           0
          ],
          [
           0,
           0,
           0,
           0,
           0,
           0,
           0,
           0,
           0,
           0,
           0.024271844660194174,
           0,
           0.038834951456310676,
           0,
           0
          ],
          [
           0,
           0,
           0,
           0,
           0,
           0,
           0,
           0,
           0,
           0,
           0.02912621359223301,
           0,
           0.038834951456310676,
           0,
           0
          ],
          [
           0,
           0,
           0,
           0,
           0,
           0,
           0,
           0,
           0,
           0,
           0.038834951456310676,
           0,
           0.038834951456310676,
           0,
           0
          ],
          [
           0,
           0,
           0,
           0,
           0,
           0,
           0,
           0,
           0,
           0,
           0.03398058252427184,
           0,
           0.038834951456310676,
           0,
           0
          ],
          [
           0,
           0,
           0,
           0,
           0,
           0,
           0,
           0,
           0,
           0,
           0.043689320388349516,
           0,
           0.038834951456310676,
           0,
           0
          ],
          [
           0,
           0,
           0,
           0,
           0,
           0,
           0,
           0,
           0,
           0,
           0,
           0,
           0,
           0,
           0
          ],
          [
           0,
           0,
           0,
           0,
           0,
           0,
           0,
           0,
           0,
           0,
           0,
           0,
           0,
           0,
           0
          ],
          [
           0.038834951456310676,
           0.03398058252427184,
           0.02912621359223301,
           0.024271844660194174,
           0.019417475728155338,
           0.014563106796116505,
           0.0048543689320388345,
           0.009708737864077669,
           0,
           0.043689320388349516,
           0,
           0,
           0,
           0,
           0
          ],
          [
           0,
           0,
           0,
           0,
           0,
           0,
           0,
           0,
           0,
           0,
           0,
           0,
           0,
           0,
           0
          ],
          [
           0.014563106796116505,
           0.04854368932038835,
           0.009708737864077669,
           0.043689320388349516,
           0.03398058252427184,
           0.038834951456310676,
           0.038834951456310676,
           0.009708737864077669,
           0.0048543689320388345,
           0.038834951456310676,
           0,
           0,
           0,
           0,
           0
          ],
          [
           0,
           0,
           0,
           0,
           0,
           0,
           0,
           0,
           0,
           0,
           0,
           0,
           0,
           0,
           0
          ]
         ]
        },
        {
         "coloraxis": "coloraxis5",
         "name": "1-3",
         "type": "heatmap",
         "visible": true,
         "x": [
          "1",
          "2",
          "3",
          "4",
          "5",
          "6",
          "8",
          "7",
          "9",
          "0",
          "+",
          "-",
          "*",
          "/",
          "="
         ],
         "xaxis": "x12",
         "y": [
          "1",
          "2",
          "3",
          "4",
          "5",
          "6",
          "8",
          "7",
          "9",
          "0",
          "+",
          "-",
          "*",
          "/",
          "="
         ],
         "yaxis": "y12",
         "z": [
          [
           0,
           0,
           0,
           0,
           0,
           0,
           0,
           0,
           0,
           0.0048543689320388345,
           0,
           0,
           0,
           0,
           0
          ],
          [
           0.0048543689320388345,
           0.0048543689320388345,
           0,
           0.0048543689320388345,
           0,
           0.0048543689320388345,
           0.0048543689320388345,
           0,
           0,
           0.009708737864077669,
           0,
           0,
           0,
           0,
           0
          ],
          [
           0.009708737864077669,
           0.009708737864077669,
           0,
           0.0048543689320388345,
           0.0048543689320388345,
           0,
           0.0048543689320388345,
           0.0048543689320388345,
           0,
           0.0048543689320388345,
           0,
           0,
           0,
           0,
           0
          ],
          [
           0.0048543689320388345,
           0.014563106796116505,
           0.0048543689320388345,
           0.0048543689320388345,
           0,
           0.009708737864077669,
           0.0048543689320388345,
           0,
           0,
           0.009708737864077669,
           0,
           0,
           0,
           0,
           0
          ],
          [
           0.0048543689320388345,
           0.0048543689320388345,
           0.0048543689320388345,
           0.0048543689320388345,
           0.019417475728155338,
           0,
           0,
           0,
           0,
           0.024271844660194174,
           0,
           0,
           0,
           0,
           0
          ],
          [
           0.0048543689320388345,
           0.014563106796116505,
           0.0048543689320388345,
           0.014563106796116505,
           0.0048543689320388345,
           0.0048543689320388345,
           0.009708737864077669,
           0,
           0,
           0.009708737864077669,
           0,
           0,
           0,
           0,
           0
          ],
          [
           0.0048543689320388345,
           0.014563106796116505,
           0.0048543689320388345,
           0.014563106796116505,
           0.0048543689320388345,
           0.014563106796116505,
           0.0048543689320388345,
           0.0048543689320388345,
           0,
           0.009708737864077669,
           0,
           0,
           0,
           0,
           0
          ],
          [
           0.009708737864077669,
           0.009708737864077669,
           0.009708737864077669,
           0.009708737864077669,
           0.009708737864077669,
           0.009708737864077669,
           0.0048543689320388345,
           0,
           0.0048543689320388345,
           0.0048543689320388345,
           0,
           0,
           0,
           0,
           0
          ],
          [
           0.009708737864077669,
           0.009708737864077669,
           0.009708737864077669,
           0.009708737864077669,
           0.009708737864077669,
           0.009708737864077669,
           0.009708737864077669,
           0.009708737864077669,
           0,
           0.0048543689320388345,
           0,
           0,
           0,
           0,
           0
          ],
          [
           0,
           0,
           0,
           0,
           0,
           0,
           0,
           0,
           0,
           0,
           0,
           0,
           0,
           0,
           0
          ],
          [
           0,
           0,
           0,
           0,
           0,
           0,
           0,
           0,
           0,
           0,
           0,
           0,
           0,
           0,
           0
          ],
          [
           0,
           0,
           0,
           0,
           0,
           0,
           0,
           0,
           0,
           0,
           0,
           0,
           0,
           0,
           0
          ],
          [
           0,
           0,
           0,
           0,
           0,
           0,
           0,
           0,
           0,
           0,
           0,
           0,
           0,
           0,
           0
          ],
          [
           0,
           0,
           0,
           0,
           0,
           0,
           0,
           0,
           0,
           0,
           0,
           0,
           0,
           0,
           0
          ],
          [
           0,
           0,
           0,
           0,
           0,
           0,
           0,
           0,
           0,
           0,
           0.21844660194174756,
           0,
           0.2815533980582524,
           0,
           0
          ]
         ]
        },
        {
         "coloraxis": "coloraxis",
         "name": "1-3",
         "type": "heatmap",
         "visible": false,
         "x": [
          "1",
          "2",
          "3",
          "4",
          "5",
          "6",
          "8",
          "7",
          "9",
          "0",
          "+",
          "-",
          "*",
          "/",
          "="
         ],
         "xaxis": "x12",
         "y": [
          "1",
          "2",
          "3",
          "4",
          "5",
          "6",
          "8",
          "7",
          "9",
          "0",
          "+",
          "-",
          "*",
          "/",
          "="
         ],
         "yaxis": "y12",
         "z": [
          [
           0,
           0,
           0,
           0,
           0,
           0,
           0,
           0,
           0,
           0.0048543689320388345,
           0,
           0,
           0,
           0,
           0
          ],
          [
           0.0048543689320388345,
           0.0048543689320388345,
           0,
           0.0048543689320388345,
           0,
           0.0048543689320388345,
           0.0048543689320388345,
           0,
           0,
           0.009708737864077669,
           0,
           0,
           0,
           0,
           0
          ],
          [
           0.009708737864077669,
           0.009708737864077669,
           0,
           0.0048543689320388345,
           0.0048543689320388345,
           0,
           0.0048543689320388345,
           0.0048543689320388345,
           0,
           0.0048543689320388345,
           0,
           0,
           0,
           0,
           0
          ],
          [
           0.0048543689320388345,
           0.014563106796116505,
           0.0048543689320388345,
           0.0048543689320388345,
           0,
           0.009708737864077669,
           0.0048543689320388345,
           0,
           0,
           0.009708737864077669,
           0,
           0,
           0,
           0,
           0
          ],
          [
           0.0048543689320388345,
           0.0048543689320388345,
           0.0048543689320388345,
           0.0048543689320388345,
           0.019417475728155338,
           0,
           0,
           0,
           0,
           0.024271844660194174,
           0,
           0,
           0,
           0,
           0
          ],
          [
           0.0048543689320388345,
           0.014563106796116505,
           0.0048543689320388345,
           0.014563106796116505,
           0.0048543689320388345,
           0.0048543689320388345,
           0.009708737864077669,
           0,
           0,
           0.009708737864077669,
           0,
           0,
           0,
           0,
           0
          ],
          [
           0.0048543689320388345,
           0.014563106796116505,
           0.0048543689320388345,
           0.014563106796116505,
           0.0048543689320388345,
           0.014563106796116505,
           0.0048543689320388345,
           0.0048543689320388345,
           0,
           0.009708737864077669,
           0,
           0,
           0,
           0,
           0
          ],
          [
           0.009708737864077669,
           0.009708737864077669,
           0.009708737864077669,
           0.009708737864077669,
           0.009708737864077669,
           0.009708737864077669,
           0.0048543689320388345,
           0,
           0.0048543689320388345,
           0.0048543689320388345,
           0,
           0,
           0,
           0,
           0
          ],
          [
           0.009708737864077669,
           0.009708737864077669,
           0.009708737864077669,
           0.009708737864077669,
           0.009708737864077669,
           0.009708737864077669,
           0.009708737864077669,
           0.009708737864077669,
           0,
           0.0048543689320388345,
           0,
           0,
           0,
           0,
           0
          ],
          [
           0,
           0,
           0,
           0,
           0,
           0,
           0,
           0,
           0,
           0,
           0,
           0,
           0,
           0,
           0
          ],
          [
           0,
           0,
           0,
           0,
           0,
           0,
           0,
           0,
           0,
           0,
           0,
           0,
           0,
           0,
           0
          ],
          [
           0,
           0,
           0,
           0,
           0,
           0,
           0,
           0,
           0,
           0,
           0,
           0,
           0,
           0,
           0
          ],
          [
           0,
           0,
           0,
           0,
           0,
           0,
           0,
           0,
           0,
           0,
           0,
           0,
           0,
           0,
           0
          ],
          [
           0,
           0,
           0,
           0,
           0,
           0,
           0,
           0,
           0,
           0,
           0,
           0,
           0,
           0,
           0
          ],
          [
           0,
           0,
           0,
           0,
           0,
           0,
           0,
           0,
           0,
           0,
           0.21844660194174756,
           0,
           0.2815533980582524,
           0,
           0
          ]
         ]
        },
        {
         "coloraxis": "coloraxis6",
         "name": "1-4",
         "type": "heatmap",
         "visible": true,
         "x": [
          "1",
          "2",
          "3",
          "4",
          "5",
          "6",
          "8",
          "7",
          "9",
          "0",
          "+",
          "-",
          "*",
          "/",
          "="
         ],
         "xaxis": "x17",
         "y": [
          "1",
          "2",
          "3",
          "4",
          "5",
          "6",
          "8",
          "7",
          "9",
          "0",
          "+",
          "-",
          "*",
          "/",
          "="
         ],
         "yaxis": "y17",
         "z": [
          [
           0,
           0,
           0,
           0,
           0,
           0,
           0,
           0,
           0,
           0,
           0.21844660194174756,
           0,
           0.0825242718446602,
           0,
           0
          ],
          [
           0,
           0,
           0,
           0,
           0,
           0,
           0,
           0,
           0,
           0,
           0,
           0,
           0.06310679611650485,
           0,
           0
          ],
          [
           0,
           0,
           0,
           0,
           0,
           0,
           0,
           0,
           0,
           0,
           0,
           0,
           0.043689320388349516,
           0,
           0
          ],
          [
           0,
           0,
           0,
           0,
           0,
           0,
           0,
           0,
           0,
           0,
           0,
           0,
           0.043689320388349516,
           0,
           0
          ],
          [
           0,
           0,
           0,
           0,
           0,
           0,
           0,
           0,
           0,
           0,
           0,
           0,
           0.019417475728155338,
           0,
           0
          ],
          [
           0,
           0,
           0,
           0,
           0,
           0,
           0,
           0,
           0,
           0,
           0,
           0,
           0.014563106796116505,
           0,
           0
          ],
          [
           0,
           0,
           0,
           0,
           0,
           0,
           0,
           0,
           0,
           0,
           0,
           0,
           0.0048543689320388345,
           0,
           0
          ],
          [
           0,
           0,
           0,
           0,
           0,
           0,
           0,
           0,
           0,
           0,
           0,
           0,
           0.009708737864077669,
           0,
           0
          ],
          [
           0,
           0,
           0,
           0,
           0,
           0,
           0,
           0,
           0,
           0,
           0,
           0,
           0,
           0,
           0
          ],
          [
           0,
           0,
           0,
           0,
           0,
           0,
           0,
           0,
           0,
           0,
           0,
           0,
           0,
           0,
           0
          ],
          [
           0,
           0,
           0,
           0,
           0,
           0,
           0,
           0,
           0,
           0,
           0,
           0,
           0,
           0,
           0
          ],
          [
           0,
           0,
           0,
           0,
           0,
           0,
           0,
           0,
           0,
           0,
           0,
           0,
           0,
           0,
           0
          ],
          [
           0,
           0,
           0,
           0,
           0,
           0,
           0,
           0,
           0,
           0,
           0,
           0,
           0,
           0,
           0
          ],
          [
           0,
           0,
           0,
           0,
           0,
           0,
           0,
           0,
           0,
           0,
           0,
           0,
           0,
           0,
           0
          ],
          [
           0.05339805825242718,
           0.0825242718446602,
           0.038834951456310676,
           0.06796116504854369,
           0.05339805825242718,
           0.05339805825242718,
           0.043689320388349516,
           0.019417475728155338,
           0.0048543689320388345,
           0.0825242718446602,
           0,
           0,
           0,
           0,
           0
          ]
         ]
        },
        {
         "coloraxis": "coloraxis",
         "name": "1-4",
         "type": "heatmap",
         "visible": false,
         "x": [
          "1",
          "2",
          "3",
          "4",
          "5",
          "6",
          "8",
          "7",
          "9",
          "0",
          "+",
          "-",
          "*",
          "/",
          "="
         ],
         "xaxis": "x17",
         "y": [
          "1",
          "2",
          "3",
          "4",
          "5",
          "6",
          "8",
          "7",
          "9",
          "0",
          "+",
          "-",
          "*",
          "/",
          "="
         ],
         "yaxis": "y17",
         "z": [
          [
           0,
           0,
           0,
           0,
           0,
           0,
           0,
           0,
           0,
           0,
           0.21844660194174756,
           0,
           0.0825242718446602,
           0,
           0
          ],
          [
           0,
           0,
           0,
           0,
           0,
           0,
           0,
           0,
           0,
           0,
           0,
           0,
           0.06310679611650485,
           0,
           0
          ],
          [
           0,
           0,
           0,
           0,
           0,
           0,
           0,
           0,
           0,
           0,
           0,
           0,
           0.043689320388349516,
           0,
           0
          ],
          [
           0,
           0,
           0,
           0,
           0,
           0,
           0,
           0,
           0,
           0,
           0,
           0,
           0.043689320388349516,
           0,
           0
          ],
          [
           0,
           0,
           0,
           0,
           0,
           0,
           0,
           0,
           0,
           0,
           0,
           0,
           0.019417475728155338,
           0,
           0
          ],
          [
           0,
           0,
           0,
           0,
           0,
           0,
           0,
           0,
           0,
           0,
           0,
           0,
           0.014563106796116505,
           0,
           0
          ],
          [
           0,
           0,
           0,
           0,
           0,
           0,
           0,
           0,
           0,
           0,
           0,
           0,
           0.0048543689320388345,
           0,
           0
          ],
          [
           0,
           0,
           0,
           0,
           0,
           0,
           0,
           0,
           0,
           0,
           0,
           0,
           0.009708737864077669,
           0,
           0
          ],
          [
           0,
           0,
           0,
           0,
           0,
           0,
           0,
           0,
           0,
           0,
           0,
           0,
           0,
           0,
           0
          ],
          [
           0,
           0,
           0,
           0,
           0,
           0,
           0,
           0,
           0,
           0,
           0,
           0,
           0,
           0,
           0
          ],
          [
           0,
           0,
           0,
           0,
           0,
           0,
           0,
           0,
           0,
           0,
           0,
           0,
           0,
           0,
           0
          ],
          [
           0,
           0,
           0,
           0,
           0,
           0,
           0,
           0,
           0,
           0,
           0,
           0,
           0,
           0,
           0
          ],
          [
           0,
           0,
           0,
           0,
           0,
           0,
           0,
           0,
           0,
           0,
           0,
           0,
           0,
           0,
           0
          ],
          [
           0,
           0,
           0,
           0,
           0,
           0,
           0,
           0,
           0,
           0,
           0,
           0,
           0,
           0,
           0
          ],
          [
           0.05339805825242718,
           0.0825242718446602,
           0.038834951456310676,
           0.06796116504854369,
           0.05339805825242718,
           0.05339805825242718,
           0.043689320388349516,
           0.019417475728155338,
           0.0048543689320388345,
           0.0825242718446602,
           0,
           0,
           0,
           0,
           0
          ]
         ]
        },
        {
         "coloraxis": "coloraxis7",
         "name": "1-5",
         "type": "heatmap",
         "visible": true,
         "x": [
          "1",
          "2",
          "3",
          "4",
          "5",
          "6",
          "8",
          "7",
          "9",
          "0",
          "+",
          "-",
          "*",
          "/",
          "="
         ],
         "xaxis": "x22",
         "y": [
          "1",
          "2",
          "3",
          "4",
          "5",
          "6",
          "8",
          "7",
          "9",
          "0",
          "+",
          "-",
          "*",
          "/",
          "="
         ],
         "yaxis": "y22",
         "z": [
          [
           0,
           0,
           0,
           0,
           0,
           0,
           0,
           0,
           0,
           0.0048543689320388345,
           0.038834951456310676,
           0,
           0.014563106796116505,
           0,
           0
          ],
          [
           0.0048543689320388345,
           0.0048543689320388345,
           0,
           0.0048543689320388345,
           0,
           0.0048543689320388345,
           0.0048543689320388345,
           0,
           0,
           0.009708737864077669,
           0.03398058252427184,
           0,
           0.04854368932038835,
           0,
           0
          ],
          [
           0.009708737864077669,
           0.009708737864077669,
           0,
           0.0048543689320388345,
           0.0048543689320388345,
           0,
           0.0048543689320388345,
           0.0048543689320388345,
           0,
           0.0048543689320388345,
           0.02912621359223301,
           0,
           0.009708737864077669,
           0,
           0
          ],
          [
           0.0048543689320388345,
           0.014563106796116505,
           0.0048543689320388345,
           0.0048543689320388345,
           0,
           0.009708737864077669,
           0.0048543689320388345,
           0,
           0,
           0.009708737864077669,
           0.024271844660194174,
           0,
           0.043689320388349516,
           0,
           0
          ],
          [
           0.0048543689320388345,
           0.0048543689320388345,
           0.0048543689320388345,
           0.0048543689320388345,
           0.019417475728155338,
           0,
           0,
           0,
           0,
           0.024271844660194174,
           0.019417475728155338,
           0,
           0.03398058252427184,
           0,
           0
          ],
          [
           0.0048543689320388345,
           0.014563106796116505,
           0.0048543689320388345,
           0.014563106796116505,
           0.0048543689320388345,
           0.0048543689320388345,
           0.009708737864077669,
           0,
           0,
           0.009708737864077669,
           0.014563106796116505,
           0,
           0.038834951456310676,
           0,
           0
          ],
          [
           0.0048543689320388345,
           0.014563106796116505,
           0.0048543689320388345,
           0.014563106796116505,
           0.0048543689320388345,
           0.014563106796116505,
           0.0048543689320388345,
           0.0048543689320388345,
           0,
           0.009708737864077669,
           0.0048543689320388345,
           0,
           0.038834951456310676,
           0,
           0
          ],
          [
           0.009708737864077669,
           0.009708737864077669,
           0.009708737864077669,
           0.009708737864077669,
           0.009708737864077669,
           0.009708737864077669,
           0.0048543689320388345,
           0,
           0.0048543689320388345,
           0.0048543689320388345,
           0.009708737864077669,
           0,
           0.009708737864077669,
           0,
           0
          ],
          [
           0.009708737864077669,
           0.009708737864077669,
           0.009708737864077669,
           0.009708737864077669,
           0.009708737864077669,
           0.009708737864077669,
           0.009708737864077669,
           0.009708737864077669,
           0,
           0.0048543689320388345,
           0,
           0,
           0.0048543689320388345,
           0,
           0
          ],
          [
           0,
           0,
           0,
           0,
           0,
           0,
           0,
           0,
           0,
           0,
           0.043689320388349516,
           0,
           0.038834951456310676,
           0,
           0
          ],
          [
           0,
           0,
           0,
           0,
           0,
           0,
           0,
           0,
           0,
           0,
           0,
           0,
           0,
           0,
           0
          ],
          [
           0,
           0,
           0,
           0,
           0,
           0,
           0,
           0,
           0,
           0,
           0,
           0,
           0,
           0,
           0
          ],
          [
           0,
           0,
           0,
           0,
           0,
           0,
           0,
           0,
           0,
           0,
           0,
           0,
           0,
           0,
           0
          ],
          [
           0,
           0,
           0,
           0,
           0,
           0,
           0,
           0,
           0,
           0,
           0,
           0,
           0,
           0,
           0
          ],
          [
           0,
           0,
           0,
           0,
           0,
           0,
           0,
           0,
           0,
           0,
           0,
           0,
           0,
           0,
           0
          ]
         ]
        },
        {
         "coloraxis": "coloraxis",
         "name": "1-5",
         "type": "heatmap",
         "visible": false,
         "x": [
          "1",
          "2",
          "3",
          "4",
          "5",
          "6",
          "8",
          "7",
          "9",
          "0",
          "+",
          "-",
          "*",
          "/",
          "="
         ],
         "xaxis": "x22",
         "y": [
          "1",
          "2",
          "3",
          "4",
          "5",
          "6",
          "8",
          "7",
          "9",
          "0",
          "+",
          "-",
          "*",
          "/",
          "="
         ],
         "yaxis": "y22",
         "z": [
          [
           0,
           0,
           0,
           0,
           0,
           0,
           0,
           0,
           0,
           0.0048543689320388345,
           0.038834951456310676,
           0,
           0.014563106796116505,
           0,
           0
          ],
          [
           0.0048543689320388345,
           0.0048543689320388345,
           0,
           0.0048543689320388345,
           0,
           0.0048543689320388345,
           0.0048543689320388345,
           0,
           0,
           0.009708737864077669,
           0.03398058252427184,
           0,
           0.04854368932038835,
           0,
           0
          ],
          [
           0.009708737864077669,
           0.009708737864077669,
           0,
           0.0048543689320388345,
           0.0048543689320388345,
           0,
           0.0048543689320388345,
           0.0048543689320388345,
           0,
           0.0048543689320388345,
           0.02912621359223301,
           0,
           0.009708737864077669,
           0,
           0
          ],
          [
           0.0048543689320388345,
           0.014563106796116505,
           0.0048543689320388345,
           0.0048543689320388345,
           0,
           0.009708737864077669,
           0.0048543689320388345,
           0,
           0,
           0.009708737864077669,
           0.024271844660194174,
           0,
           0.043689320388349516,
           0,
           0
          ],
          [
           0.0048543689320388345,
           0.0048543689320388345,
           0.0048543689320388345,
           0.0048543689320388345,
           0.019417475728155338,
           0,
           0,
           0,
           0,
           0.024271844660194174,
           0.019417475728155338,
           0,
           0.03398058252427184,
           0,
           0
          ],
          [
           0.0048543689320388345,
           0.014563106796116505,
           0.0048543689320388345,
           0.014563106796116505,
           0.0048543689320388345,
           0.0048543689320388345,
           0.009708737864077669,
           0,
           0,
           0.009708737864077669,
           0.014563106796116505,
           0,
           0.038834951456310676,
           0,
           0
          ],
          [
           0.0048543689320388345,
           0.014563106796116505,
           0.0048543689320388345,
           0.014563106796116505,
           0.0048543689320388345,
           0.014563106796116505,
           0.0048543689320388345,
           0.0048543689320388345,
           0,
           0.009708737864077669,
           0.0048543689320388345,
           0,
           0.038834951456310676,
           0,
           0
          ],
          [
           0.009708737864077669,
           0.009708737864077669,
           0.009708737864077669,
           0.009708737864077669,
           0.009708737864077669,
           0.009708737864077669,
           0.0048543689320388345,
           0,
           0.0048543689320388345,
           0.0048543689320388345,
           0.009708737864077669,
           0,
           0.009708737864077669,
           0,
           0
          ],
          [
           0.009708737864077669,
           0.009708737864077669,
           0.009708737864077669,
           0.009708737864077669,
           0.009708737864077669,
           0.009708737864077669,
           0.009708737864077669,
           0.009708737864077669,
           0,
           0.0048543689320388345,
           0,
           0,
           0.0048543689320388345,
           0,
           0
          ],
          [
           0,
           0,
           0,
           0,
           0,
           0,
           0,
           0,
           0,
           0,
           0.043689320388349516,
           0,
           0.038834951456310676,
           0,
           0
          ],
          [
           0,
           0,
           0,
           0,
           0,
           0,
           0,
           0,
           0,
           0,
           0,
           0,
           0,
           0,
           0
          ],
          [
           0,
           0,
           0,
           0,
           0,
           0,
           0,
           0,
           0,
           0,
           0,
           0,
           0,
           0,
           0
          ],
          [
           0,
           0,
           0,
           0,
           0,
           0,
           0,
           0,
           0,
           0,
           0,
           0,
           0,
           0,
           0
          ],
          [
           0,
           0,
           0,
           0,
           0,
           0,
           0,
           0,
           0,
           0,
           0,
           0,
           0,
           0,
           0
          ],
          [
           0,
           0,
           0,
           0,
           0,
           0,
           0,
           0,
           0,
           0,
           0,
           0,
           0,
           0,
           0
          ]
         ]
        },
        {
         "coloraxis": "coloraxis6",
         "name": "2-3",
         "type": "heatmap",
         "visible": true,
         "x": [
          "1",
          "2",
          "3",
          "4",
          "5",
          "6",
          "8",
          "7",
          "9",
          "0",
          "+",
          "-",
          "*",
          "/",
          "="
         ],
         "xaxis": "x13",
         "y": [
          "1",
          "2",
          "3",
          "4",
          "5",
          "6",
          "8",
          "7",
          "9",
          "0",
          "+",
          "-",
          "*",
          "/",
          "="
         ],
         "yaxis": "y13",
         "z": [
          [
           0,
           0,
           0,
           0,
           0,
           0,
           0,
           0,
           0,
           0,
           0,
           0.0048543689320388345,
           0,
           0,
           0
          ],
          [
           0,
           0,
           0,
           0,
           0,
           0,
           0,
           0,
           0,
           0,
           0,
           0.009708737864077669,
           0,
           0.024271844660194174,
           0
          ],
          [
           0,
           0,
           0,
           0,
           0,
           0,
           0,
           0,
           0,
           0,
           0,
           0.014563106796116505,
           0,
           0.02912621359223301,
           0
          ],
          [
           0,
           0,
           0,
           0,
           0,
           0,
           0,
           0,
           0,
           0,
           0,
           0.019417475728155338,
           0,
           0.03398058252427184,
           0
          ],
          [
           0,
           0,
           0,
           0,
           0,
           0,
           0,
           0,
           0,
           0,
           0,
           0.024271844660194174,
           0,
           0.038834951456310676,
           0
          ],
          [
           0,
           0,
           0,
           0,
           0,
           0,
           0,
           0,
           0,
           0,
           0,
           0.02912621359223301,
           0,
           0.038834951456310676,
           0
          ],
          [
           0,
           0,
           0,
           0,
           0,
           0,
           0,
           0,
           0,
           0,
           0,
           0.038834951456310676,
           0,
           0.038834951456310676,
           0
          ],
          [
           0,
           0,
           0,
           0,
           0,
           0,
           0,
           0,
           0,
           0,
           0,
           0.03398058252427184,
           0,
           0.038834951456310676,
           0
          ],
          [
           0,
           0,
           0,
           0,
           0,
           0,
           0,
           0,
           0,
           0,
           0,
           0.043689320388349516,
           0,
           0.038834951456310676,
           0
          ],
          [
           0,
           0,
           0,
           0,
           0,
           0,
           0,
           0,
           0,
           0,
           0,
           0,
           0,
           0,
           0
          ],
          [
           0,
           0,
           0,
           0,
           0,
           0,
           0,
           0,
           0,
           0,
           0,
           0,
           0,
           0,
           0
          ],
          [
           0,
           0,
           0,
           0,
           0,
           0,
           0,
           0,
           0,
           0,
           0,
           0,
           0,
           0,
           0
          ],
          [
           0,
           0,
           0,
           0,
           0,
           0,
           0,
           0,
           0,
           0,
           0,
           0,
           0,
           0,
           0
          ],
          [
           0,
           0,
           0,
           0,
           0,
           0,
           0,
           0,
           0,
           0,
           0,
           0,
           0,
           0,
           0
          ],
          [
           0.0048543689320388345,
           0.03398058252427184,
           0.043689320388349516,
           0.05339805825242718,
           0.06310679611650485,
           0.06796116504854369,
           0.07766990291262135,
           0.07281553398058252,
           0.0825242718446602,
           0,
           0,
           0,
           0,
           0,
           0
          ]
         ]
        },
        {
         "coloraxis": "coloraxis",
         "name": "2-3",
         "type": "heatmap",
         "visible": false,
         "x": [
          "1",
          "2",
          "3",
          "4",
          "5",
          "6",
          "8",
          "7",
          "9",
          "0",
          "+",
          "-",
          "*",
          "/",
          "="
         ],
         "xaxis": "x13",
         "y": [
          "1",
          "2",
          "3",
          "4",
          "5",
          "6",
          "8",
          "7",
          "9",
          "0",
          "+",
          "-",
          "*",
          "/",
          "="
         ],
         "yaxis": "y13",
         "z": [
          [
           0,
           0,
           0,
           0,
           0,
           0,
           0,
           0,
           0,
           0,
           0,
           0.0048543689320388345,
           0,
           0,
           0
          ],
          [
           0,
           0,
           0,
           0,
           0,
           0,
           0,
           0,
           0,
           0,
           0,
           0.009708737864077669,
           0,
           0.024271844660194174,
           0
          ],
          [
           0,
           0,
           0,
           0,
           0,
           0,
           0,
           0,
           0,
           0,
           0,
           0.014563106796116505,
           0,
           0.02912621359223301,
           0
          ],
          [
           0,
           0,
           0,
           0,
           0,
           0,
           0,
           0,
           0,
           0,
           0,
           0.019417475728155338,
           0,
           0.03398058252427184,
           0
          ],
          [
           0,
           0,
           0,
           0,
           0,
           0,
           0,
           0,
           0,
           0,
           0,
           0.024271844660194174,
           0,
           0.038834951456310676,
           0
          ],
          [
           0,
           0,
           0,
           0,
           0,
           0,
           0,
           0,
           0,
           0,
           0,
           0.02912621359223301,
           0,
           0.038834951456310676,
           0
          ],
          [
           0,
           0,
           0,
           0,
           0,
           0,
           0,
           0,
           0,
           0,
           0,
           0.038834951456310676,
           0,
           0.038834951456310676,
           0
          ],
          [
           0,
           0,
           0,
           0,
           0,
           0,
           0,
           0,
           0,
           0,
           0,
           0.03398058252427184,
           0,
           0.038834951456310676,
           0
          ],
          [
           0,
           0,
           0,
           0,
           0,
           0,
           0,
           0,
           0,
           0,
           0,
           0.043689320388349516,
           0,
           0.038834951456310676,
           0
          ],
          [
           0,
           0,
           0,
           0,
           0,
           0,
           0,
           0,
           0,
           0,
           0,
           0,
           0,
           0,
           0
          ],
          [
           0,
           0,
           0,
           0,
           0,
           0,
           0,
           0,
           0,
           0,
           0,
           0,
           0,
           0,
           0
          ],
          [
           0,
           0,
           0,
           0,
           0,
           0,
           0,
           0,
           0,
           0,
           0,
           0,
           0,
           0,
           0
          ],
          [
           0,
           0,
           0,
           0,
           0,
           0,
           0,
           0,
           0,
           0,
           0,
           0,
           0,
           0,
           0
          ],
          [
           0,
           0,
           0,
           0,
           0,
           0,
           0,
           0,
           0,
           0,
           0,
           0,
           0,
           0,
           0
          ],
          [
           0.0048543689320388345,
           0.03398058252427184,
           0.043689320388349516,
           0.05339805825242718,
           0.06310679611650485,
           0.06796116504854369,
           0.07766990291262135,
           0.07281553398058252,
           0.0825242718446602,
           0,
           0,
           0,
           0,
           0,
           0
          ]
         ]
        },
        {
         "coloraxis": "coloraxis7",
         "name": "2-4",
         "type": "heatmap",
         "visible": true,
         "x": [
          "1",
          "2",
          "3",
          "4",
          "5",
          "6",
          "8",
          "7",
          "9",
          "0",
          "+",
          "-",
          "*",
          "/",
          "="
         ],
         "xaxis": "x18",
         "y": [
          "1",
          "2",
          "3",
          "4",
          "5",
          "6",
          "8",
          "7",
          "9",
          "0",
          "+",
          "-",
          "*",
          "/",
          "="
         ],
         "yaxis": "y18",
         "z": [
          [
           0.0048543689320388345,
           0.03398058252427184,
           0.02912621359223301,
           0.02912621359223301,
           0.03398058252427184,
           0.038834951456310676,
           0.043689320388349516,
           0.038834951456310676,
           0.04854368932038835,
           0,
           0,
           0,
           0,
           0,
           0
          ],
          [
           0,
           0,
           0.014563106796116505,
           0.014563106796116505,
           0.009708737864077669,
           0.0048543689320388345,
           0.0048543689320388345,
           0.009708737864077669,
           0.0048543689320388345,
           0,
           0,
           0,
           0,
           0,
           0
          ],
          [
           0,
           0,
           0,
           0.009708737864077669,
           0.009708737864077669,
           0.009708737864077669,
           0.0048543689320388345,
           0.0048543689320388345,
           0.0048543689320388345,
           0,
           0,
           0,
           0,
           0,
           0
          ],
          [
           0,
           0,
           0,
           0,
           0.009708737864077669,
           0.009708737864077669,
           0.009708737864077669,
           0.009708737864077669,
           0.0048543689320388345,
           0,
           0,
           0,
           0,
           0,
           0
          ],
          [
           0,
           0,
           0,
           0,
           0,
           0.0048543689320388345,
           0.0048543689320388345,
           0.0048543689320388345,
           0.0048543689320388345,
           0,
           0,
           0,
           0,
           0,
           0
          ],
          [
           0,
           0,
           0,
           0,
           0,
           0,
           0.0048543689320388345,
           0.0048543689320388345,
           0.0048543689320388345,
           0,
           0,
           0,
           0,
           0,
           0
          ],
          [
           0,
           0,
           0,
           0,
           0,
           0,
           0,
           0,
           0.0048543689320388345,
           0,
           0,
           0,
           0,
           0,
           0
          ],
          [
           0,
           0,
           0,
           0,
           0,
           0,
           0.0048543689320388345,
           0,
           0.0048543689320388345,
           0,
           0,
           0,
           0,
           0,
           0
          ],
          [
           0,
           0,
           0,
           0,
           0,
           0,
           0,
           0,
           0,
           0,
           0,
           0,
           0,
           0,
           0
          ],
          [
           0,
           0,
           0,
           0,
           0,
           0,
           0,
           0,
           0,
           0,
           0,
           0,
           0,
           0,
           0
          ],
          [
           0,
           0,
           0,
           0,
           0,
           0,
           0,
           0,
           0,
           0,
           0,
           0,
           0,
           0,
           0
          ],
          [
           0,
           0,
           0,
           0,
           0,
           0,
           0,
           0,
           0,
           0,
           0,
           0,
           0,
           0,
           0
          ],
          [
           0,
           0,
           0,
           0,
           0,
           0,
           0,
           0,
           0,
           0,
           0,
           0,
           0,
           0,
           0
          ],
          [
           0,
           0,
           0,
           0,
           0,
           0,
           0,
           0,
           0,
           0,
           0,
           0,
           0,
           0,
           0
          ],
          [
           0,
           0,
           0,
           0,
           0,
           0,
           0,
           0,
           0,
           0,
           0,
           0.21844660194174756,
           0,
           0.2815533980582524,
           0
          ]
         ]
        },
        {
         "coloraxis": "coloraxis",
         "name": "2-4",
         "type": "heatmap",
         "visible": false,
         "x": [
          "1",
          "2",
          "3",
          "4",
          "5",
          "6",
          "8",
          "7",
          "9",
          "0",
          "+",
          "-",
          "*",
          "/",
          "="
         ],
         "xaxis": "x18",
         "y": [
          "1",
          "2",
          "3",
          "4",
          "5",
          "6",
          "8",
          "7",
          "9",
          "0",
          "+",
          "-",
          "*",
          "/",
          "="
         ],
         "yaxis": "y18",
         "z": [
          [
           0.0048543689320388345,
           0.03398058252427184,
           0.02912621359223301,
           0.02912621359223301,
           0.03398058252427184,
           0.038834951456310676,
           0.043689320388349516,
           0.038834951456310676,
           0.04854368932038835,
           0,
           0,
           0,
           0,
           0,
           0
          ],
          [
           0,
           0,
           0.014563106796116505,
           0.014563106796116505,
           0.009708737864077669,
           0.0048543689320388345,
           0.0048543689320388345,
           0.009708737864077669,
           0.0048543689320388345,
           0,
           0,
           0,
           0,
           0,
           0
          ],
          [
           0,
           0,
           0,
           0.009708737864077669,
           0.009708737864077669,
           0.009708737864077669,
           0.0048543689320388345,
           0.0048543689320388345,
           0.0048543689320388345,
           0,
           0,
           0,
           0,
           0,
           0
          ],
          [
           0,
           0,
           0,
           0,
           0.009708737864077669,
           0.009708737864077669,
           0.009708737864077669,
           0.009708737864077669,
           0.0048543689320388345,
           0,
           0,
           0,
           0,
           0,
           0
          ],
          [
           0,
           0,
           0,
           0,
           0,
           0.0048543689320388345,
           0.0048543689320388345,
           0.0048543689320388345,
           0.0048543689320388345,
           0,
           0,
           0,
           0,
           0,
           0
          ],
          [
           0,
           0,
           0,
           0,
           0,
           0,
           0.0048543689320388345,
           0.0048543689320388345,
           0.0048543689320388345,
           0,
           0,
           0,
           0,
           0,
           0
          ],
          [
           0,
           0,
           0,
           0,
           0,
           0,
           0,
           0,
           0.0048543689320388345,
           0,
           0,
           0,
           0,
           0,
           0
          ],
          [
           0,
           0,
           0,
           0,
           0,
           0,
           0.0048543689320388345,
           0,
           0.0048543689320388345,
           0,
           0,
           0,
           0,
           0,
           0
          ],
          [
           0,
           0,
           0,
           0,
           0,
           0,
           0,
           0,
           0,
           0,
           0,
           0,
           0,
           0,
           0
          ],
          [
           0,
           0,
           0,
           0,
           0,
           0,
           0,
           0,
           0,
           0,
           0,
           0,
           0,
           0,
           0
          ],
          [
           0,
           0,
           0,
           0,
           0,
           0,
           0,
           0,
           0,
           0,
           0,
           0,
           0,
           0,
           0
          ],
          [
           0,
           0,
           0,
           0,
           0,
           0,
           0,
           0,
           0,
           0,
           0,
           0,
           0,
           0,
           0
          ],
          [
           0,
           0,
           0,
           0,
           0,
           0,
           0,
           0,
           0,
           0,
           0,
           0,
           0,
           0,
           0
          ],
          [
           0,
           0,
           0,
           0,
           0,
           0,
           0,
           0,
           0,
           0,
           0,
           0,
           0,
           0,
           0
          ],
          [
           0,
           0,
           0,
           0,
           0,
           0,
           0,
           0,
           0,
           0,
           0,
           0.21844660194174756,
           0,
           0.2815533980582524,
           0
          ]
         ]
        },
        {
         "coloraxis": "coloraxis8",
         "name": "2-5",
         "type": "heatmap",
         "visible": true,
         "x": [
          "1",
          "2",
          "3",
          "4",
          "5",
          "6",
          "8",
          "7",
          "9",
          "0",
          "+",
          "-",
          "*",
          "/",
          "="
         ],
         "xaxis": "x23",
         "y": [
          "1",
          "2",
          "3",
          "4",
          "5",
          "6",
          "8",
          "7",
          "9",
          "0",
          "+",
          "-",
          "*",
          "/",
          "="
         ],
         "yaxis": "y23",
         "z": [
          [
           0,
           0.0048543689320388345,
           0.009708737864077669,
           0.0048543689320388345,
           0.0048543689320388345,
           0.0048543689320388345,
           0.0048543689320388345,
           0.009708737864077669,
           0.009708737864077669,
           0,
           0,
           0.0048543689320388345,
           0,
           0,
           0
          ],
          [
           0,
           0.0048543689320388345,
           0.009708737864077669,
           0.014563106796116505,
           0.0048543689320388345,
           0.014563106796116505,
           0.014563106796116505,
           0.009708737864077669,
           0.009708737864077669,
           0,
           0,
           0.009708737864077669,
           0,
           0.024271844660194174,
           0
          ],
          [
           0,
           0,
           0,
           0.0048543689320388345,
           0.0048543689320388345,
           0.0048543689320388345,
           0.0048543689320388345,
           0.009708737864077669,
           0.009708737864077669,
           0,
           0,
           0.014563106796116505,
           0,
           0.02912621359223301,
           0
          ],
          [
           0,
           0.0048543689320388345,
           0.0048543689320388345,
           0.0048543689320388345,
           0.0048543689320388345,
           0.014563106796116505,
           0.014563106796116505,
           0.009708737864077669,
           0.009708737864077669,
           0,
           0,
           0.019417475728155338,
           0,
           0.03398058252427184,
           0
          ],
          [
           0,
           0,
           0.0048543689320388345,
           0,
           0.019417475728155338,
           0.0048543689320388345,
           0.0048543689320388345,
           0.009708737864077669,
           0.009708737864077669,
           0,
           0,
           0.024271844660194174,
           0,
           0.038834951456310676,
           0
          ],
          [
           0,
           0.0048543689320388345,
           0,
           0.009708737864077669,
           0,
           0.0048543689320388345,
           0.014563106796116505,
           0.009708737864077669,
           0.009708737864077669,
           0,
           0,
           0.02912621359223301,
           0,
           0.038834951456310676,
           0
          ],
          [
           0,
           0.0048543689320388345,
           0.0048543689320388345,
           0.0048543689320388345,
           0,
           0.009708737864077669,
           0.0048543689320388345,
           0.0048543689320388345,
           0.009708737864077669,
           0,
           0,
           0.038834951456310676,
           0,
           0.038834951456310676,
           0
          ],
          [
           0,
           0,
           0.0048543689320388345,
           0,
           0,
           0,
           0.0048543689320388345,
           0,
           0.009708737864077669,
           0,
           0,
           0.03398058252427184,
           0,
           0.038834951456310676,
           0
          ],
          [
           0,
           0,
           0,
           0,
           0,
           0,
           0,
           0.0048543689320388345,
           0,
           0,
           0,
           0.043689320388349516,
           0,
           0.038834951456310676,
           0
          ],
          [
           0.0048543689320388345,
           0.009708737864077669,
           0.0048543689320388345,
           0.009708737864077669,
           0.024271844660194174,
           0.009708737864077669,
           0.009708737864077669,
           0.0048543689320388345,
           0.0048543689320388345,
           0,
           0,
           0,
           0,
           0,
           0
          ],
          [
           0,
           0,
           0,
           0,
           0,
           0,
           0,
           0,
           0,
           0,
           0,
           0,
           0,
           0,
           0
          ],
          [
           0,
           0,
           0,
           0,
           0,
           0,
           0,
           0,
           0,
           0,
           0,
           0,
           0,
           0,
           0
          ],
          [
           0,
           0,
           0,
           0,
           0,
           0,
           0,
           0,
           0,
           0,
           0,
           0,
           0,
           0,
           0
          ],
          [
           0,
           0,
           0,
           0,
           0,
           0,
           0,
           0,
           0,
           0,
           0,
           0,
           0,
           0,
           0
          ],
          [
           0,
           0,
           0,
           0,
           0,
           0,
           0,
           0,
           0,
           0,
           0,
           0,
           0,
           0,
           0
          ]
         ]
        },
        {
         "coloraxis": "coloraxis",
         "name": "2-5",
         "type": "heatmap",
         "visible": false,
         "x": [
          "1",
          "2",
          "3",
          "4",
          "5",
          "6",
          "8",
          "7",
          "9",
          "0",
          "+",
          "-",
          "*",
          "/",
          "="
         ],
         "xaxis": "x23",
         "y": [
          "1",
          "2",
          "3",
          "4",
          "5",
          "6",
          "8",
          "7",
          "9",
          "0",
          "+",
          "-",
          "*",
          "/",
          "="
         ],
         "yaxis": "y23",
         "z": [
          [
           0,
           0.0048543689320388345,
           0.009708737864077669,
           0.0048543689320388345,
           0.0048543689320388345,
           0.0048543689320388345,
           0.0048543689320388345,
           0.009708737864077669,
           0.009708737864077669,
           0,
           0,
           0.0048543689320388345,
           0,
           0,
           0
          ],
          [
           0,
           0.0048543689320388345,
           0.009708737864077669,
           0.014563106796116505,
           0.0048543689320388345,
           0.014563106796116505,
           0.014563106796116505,
           0.009708737864077669,
           0.009708737864077669,
           0,
           0,
           0.009708737864077669,
           0,
           0.024271844660194174,
           0
          ],
          [
           0,
           0,
           0,
           0.0048543689320388345,
           0.0048543689320388345,
           0.0048543689320388345,
           0.0048543689320388345,
           0.009708737864077669,
           0.009708737864077669,
           0,
           0,
           0.014563106796116505,
           0,
           0.02912621359223301,
           0
          ],
          [
           0,
           0.0048543689320388345,
           0.0048543689320388345,
           0.0048543689320388345,
           0.0048543689320388345,
           0.014563106796116505,
           0.014563106796116505,
           0.009708737864077669,
           0.009708737864077669,
           0,
           0,
           0.019417475728155338,
           0,
           0.03398058252427184,
           0
          ],
          [
           0,
           0,
           0.0048543689320388345,
           0,
           0.019417475728155338,
           0.0048543689320388345,
           0.0048543689320388345,
           0.009708737864077669,
           0.009708737864077669,
           0,
           0,
           0.024271844660194174,
           0,
           0.038834951456310676,
           0
          ],
          [
           0,
           0.0048543689320388345,
           0,
           0.009708737864077669,
           0,
           0.0048543689320388345,
           0.014563106796116505,
           0.009708737864077669,
           0.009708737864077669,
           0,
           0,
           0.02912621359223301,
           0,
           0.038834951456310676,
           0
          ],
          [
           0,
           0.0048543689320388345,
           0.0048543689320388345,
           0.0048543689320388345,
           0,
           0.009708737864077669,
           0.0048543689320388345,
           0.0048543689320388345,
           0.009708737864077669,
           0,
           0,
           0.038834951456310676,
           0,
           0.038834951456310676,
           0
          ],
          [
           0,
           0,
           0.0048543689320388345,
           0,
           0,
           0,
           0.0048543689320388345,
           0,
           0.009708737864077669,
           0,
           0,
           0.03398058252427184,
           0,
           0.038834951456310676,
           0
          ],
          [
           0,
           0,
           0,
           0,
           0,
           0,
           0,
           0.0048543689320388345,
           0,
           0,
           0,
           0.043689320388349516,
           0,
           0.038834951456310676,
           0
          ],
          [
           0.0048543689320388345,
           0.009708737864077669,
           0.0048543689320388345,
           0.009708737864077669,
           0.024271844660194174,
           0.009708737864077669,
           0.009708737864077669,
           0.0048543689320388345,
           0.0048543689320388345,
           0,
           0,
           0,
           0,
           0,
           0
          ],
          [
           0,
           0,
           0,
           0,
           0,
           0,
           0,
           0,
           0,
           0,
           0,
           0,
           0,
           0,
           0
          ],
          [
           0,
           0,
           0,
           0,
           0,
           0,
           0,
           0,
           0,
           0,
           0,
           0,
           0,
           0,
           0
          ],
          [
           0,
           0,
           0,
           0,
           0,
           0,
           0,
           0,
           0,
           0,
           0,
           0,
           0,
           0,
           0
          ],
          [
           0,
           0,
           0,
           0,
           0,
           0,
           0,
           0,
           0,
           0,
           0,
           0,
           0,
           0,
           0
          ],
          [
           0,
           0,
           0,
           0,
           0,
           0,
           0,
           0,
           0,
           0,
           0,
           0,
           0,
           0,
           0
          ]
         ]
        },
        {
         "coloraxis": "coloraxis8",
         "name": "3-4",
         "type": "heatmap",
         "visible": true,
         "x": [
          "1",
          "2",
          "3",
          "4",
          "5",
          "6",
          "8",
          "7",
          "9",
          "0",
          "+",
          "-",
          "*",
          "/",
          "="
         ],
         "xaxis": "x19",
         "y": [
          "1",
          "2",
          "3",
          "4",
          "5",
          "6",
          "8",
          "7",
          "9",
          "0",
          "+",
          "-",
          "*",
          "/",
          "="
         ],
         "yaxis": "y19",
         "z": [
          [
           0,
           0,
           0,
           0,
           0,
           0,
           0,
           0,
           0,
           0,
           0,
           0,
           0,
           0,
           0.30097087378640774
          ],
          [
           0,
           0,
           0,
           0,
           0,
           0,
           0,
           0,
           0,
           0,
           0,
           0,
           0,
           0,
           0.06310679611650485
          ],
          [
           0,
           0,
           0,
           0,
           0,
           0,
           0,
           0,
           0,
           0,
           0,
           0,
           0,
           0,
           0.043689320388349516
          ],
          [
           0,
           0,
           0,
           0,
           0,
           0,
           0,
           0,
           0,
           0,
           0,
           0,
           0,
           0,
           0.043689320388349516
          ],
          [
           0,
           0,
           0,
           0,
           0,
           0,
           0,
           0,
           0,
           0,
           0,
           0,
           0,
           0,
           0.019417475728155338
          ],
          [
           0,
           0,
           0,
           0,
           0,
           0,
           0,
           0,
           0,
           0,
           0,
           0,
           0,
           0,
           0.014563106796116505
          ],
          [
           0,
           0,
           0,
           0,
           0,
           0,
           0,
           0,
           0,
           0,
           0,
           0,
           0,
           0,
           0.0048543689320388345
          ],
          [
           0,
           0,
           0,
           0,
           0,
           0,
           0,
           0,
           0,
           0,
           0,
           0,
           0,
           0,
           0.009708737864077669
          ],
          [
           0,
           0,
           0,
           0,
           0,
           0,
           0,
           0,
           0,
           0,
           0,
           0,
           0,
           0,
           0
          ],
          [
           0,
           0,
           0,
           0,
           0,
           0,
           0,
           0,
           0,
           0,
           0,
           0,
           0,
           0,
           0
          ],
          [
           0,
           0,
           0,
           0,
           0,
           0,
           0,
           0,
           0,
           0,
           0,
           0,
           0,
           0,
           0
          ],
          [
           0,
           0,
           0,
           0,
           0,
           0,
           0,
           0,
           0,
           0,
           0,
           0,
           0,
           0,
           0
          ],
          [
           0,
           0,
           0,
           0,
           0,
           0,
           0,
           0,
           0,
           0,
           0,
           0,
           0,
           0,
           0
          ],
          [
           0,
           0,
           0,
           0,
           0,
           0,
           0,
           0,
           0,
           0,
           0,
           0,
           0,
           0,
           0
          ],
          [
           0.0048543689320388345,
           0.03398058252427184,
           0.043689320388349516,
           0.05339805825242718,
           0.06310679611650485,
           0.06796116504854369,
           0.07766990291262135,
           0.07281553398058252,
           0.0825242718446602,
           0,
           0,
           0,
           0,
           0,
           0
          ]
         ]
        },
        {
         "coloraxis": "coloraxis",
         "name": "3-4",
         "type": "heatmap",
         "visible": false,
         "x": [
          "1",
          "2",
          "3",
          "4",
          "5",
          "6",
          "8",
          "7",
          "9",
          "0",
          "+",
          "-",
          "*",
          "/",
          "="
         ],
         "xaxis": "x19",
         "y": [
          "1",
          "2",
          "3",
          "4",
          "5",
          "6",
          "8",
          "7",
          "9",
          "0",
          "+",
          "-",
          "*",
          "/",
          "="
         ],
         "yaxis": "y19",
         "z": [
          [
           0,
           0,
           0,
           0,
           0,
           0,
           0,
           0,
           0,
           0,
           0,
           0,
           0,
           0,
           0.30097087378640774
          ],
          [
           0,
           0,
           0,
           0,
           0,
           0,
           0,
           0,
           0,
           0,
           0,
           0,
           0,
           0,
           0.06310679611650485
          ],
          [
           0,
           0,
           0,
           0,
           0,
           0,
           0,
           0,
           0,
           0,
           0,
           0,
           0,
           0,
           0.043689320388349516
          ],
          [
           0,
           0,
           0,
           0,
           0,
           0,
           0,
           0,
           0,
           0,
           0,
           0,
           0,
           0,
           0.043689320388349516
          ],
          [
           0,
           0,
           0,
           0,
           0,
           0,
           0,
           0,
           0,
           0,
           0,
           0,
           0,
           0,
           0.019417475728155338
          ],
          [
           0,
           0,
           0,
           0,
           0,
           0,
           0,
           0,
           0,
           0,
           0,
           0,
           0,
           0,
           0.014563106796116505
          ],
          [
           0,
           0,
           0,
           0,
           0,
           0,
           0,
           0,
           0,
           0,
           0,
           0,
           0,
           0,
           0.0048543689320388345
          ],
          [
           0,
           0,
           0,
           0,
           0,
           0,
           0,
           0,
           0,
           0,
           0,
           0,
           0,
           0,
           0.009708737864077669
          ],
          [
           0,
           0,
           0,
           0,
           0,
           0,
           0,
           0,
           0,
           0,
           0,
           0,
           0,
           0,
           0
          ],
          [
           0,
           0,
           0,
           0,
           0,
           0,
           0,
           0,
           0,
           0,
           0,
           0,
           0,
           0,
           0
          ],
          [
           0,
           0,
           0,
           0,
           0,
           0,
           0,
           0,
           0,
           0,
           0,
           0,
           0,
           0,
           0
          ],
          [
           0,
           0,
           0,
           0,
           0,
           0,
           0,
           0,
           0,
           0,
           0,
           0,
           0,
           0,
           0
          ],
          [
           0,
           0,
           0,
           0,
           0,
           0,
           0,
           0,
           0,
           0,
           0,
           0,
           0,
           0,
           0
          ],
          [
           0,
           0,
           0,
           0,
           0,
           0,
           0,
           0,
           0,
           0,
           0,
           0,
           0,
           0,
           0
          ],
          [
           0.0048543689320388345,
           0.03398058252427184,
           0.043689320388349516,
           0.05339805825242718,
           0.06310679611650485,
           0.06796116504854369,
           0.07766990291262135,
           0.07281553398058252,
           0.0825242718446602,
           0,
           0,
           0,
           0,
           0,
           0
          ]
         ]
        },
        {
         "coloraxis": "coloraxis9",
         "name": "3-5",
         "type": "heatmap",
         "visible": true,
         "x": [
          "1",
          "2",
          "3",
          "4",
          "5",
          "6",
          "8",
          "7",
          "9",
          "0",
          "+",
          "-",
          "*",
          "/",
          "="
         ],
         "xaxis": "x24",
         "y": [
          "1",
          "2",
          "3",
          "4",
          "5",
          "6",
          "8",
          "7",
          "9",
          "0",
          "+",
          "-",
          "*",
          "/",
          "="
         ],
         "yaxis": "y24",
         "z": [
          [
           0,
           0,
           0,
           0,
           0,
           0,
           0,
           0,
           0.0048543689320388345,
           0,
           0,
           0,
           0,
           0,
           0.05339805825242718
          ],
          [
           0,
           0,
           0,
           0,
           0.0048543689320388345,
           0.0048543689320388345,
           0.009708737864077669,
           0.0048543689320388345,
           0.009708737864077669,
           0,
           0,
           0,
           0,
           0,
           0.0825242718446602
          ],
          [
           0,
           0,
           0,
           0.0048543689320388345,
           0.0048543689320388345,
           0.0048543689320388345,
           0.009708737864077669,
           0.009708737864077669,
           0.009708737864077669,
           0,
           0,
           0,
           0,
           0,
           0.038834951456310676
          ],
          [
           0,
           0,
           0.0048543689320388345,
           0.0048543689320388345,
           0.0048543689320388345,
           0.009708737864077669,
           0.009708737864077669,
           0.009708737864077669,
           0.009708737864077669,
           0,
           0,
           0,
           0,
           0,
           0.06796116504854369
          ],
          [
           0,
           0.0048543689320388345,
           0.0048543689320388345,
           0.0048543689320388345,
           0.009708737864077669,
           0.009708737864077669,
           0.009708737864077669,
           0.009708737864077669,
           0.009708737864077669,
           0,
           0,
           0,
           0,
           0,
           0.05339805825242718
          ],
          [
           0,
           0.0048543689320388345,
           0.0048543689320388345,
           0.009708737864077669,
           0.009708737864077669,
           0.009708737864077669,
           0.009708737864077669,
           0.009708737864077669,
           0.009708737864077669,
           0,
           0,
           0,
           0,
           0,
           0.05339805825242718
          ],
          [
           0,
           0.009708737864077669,
           0.009708737864077669,
           0.009708737864077669,
           0.009708737864077669,
           0.009708737864077669,
           0.009708737864077669,
           0.009708737864077669,
           0.009708737864077669,
           0,
           0,
           0,
           0,
           0,
           0.043689320388349516
          ],
          [
           0,
           0.0048543689320388345,
           0.009708737864077669,
           0.009708737864077669,
           0.009708737864077669,
           0.009708737864077669,
           0.009708737864077669,
           0.009708737864077669,
           0.009708737864077669,
           0,
           0,
           0,
           0,
           0,
           0.019417475728155338
          ],
          [
           0.0048543689320388345,
           0.009708737864077669,
           0.009708737864077669,
           0.009708737864077669,
           0.009708737864077669,
           0.009708737864077669,
           0.009708737864077669,
           0.009708737864077669,
           0.009708737864077669,
           0,
           0,
           0,
           0,
           0,
           0.0048543689320388345
          ],
          [
           0,
           0,
           0,
           0,
           0,
           0,
           0,
           0,
           0,
           0,
           0,
           0,
           0,
           0,
           0.0825242718446602
          ],
          [
           0,
           0,
           0,
           0,
           0,
           0,
           0,
           0,
           0,
           0,
           0,
           0,
           0,
           0,
           0
          ],
          [
           0,
           0,
           0,
           0,
           0,
           0,
           0,
           0,
           0,
           0,
           0,
           0,
           0,
           0,
           0
          ],
          [
           0,
           0,
           0,
           0,
           0,
           0,
           0,
           0,
           0,
           0,
           0,
           0,
           0,
           0,
           0
          ],
          [
           0,
           0,
           0,
           0,
           0,
           0,
           0,
           0,
           0,
           0,
           0,
           0,
           0,
           0,
           0
          ],
          [
           0,
           0,
           0,
           0,
           0,
           0,
           0,
           0,
           0,
           0,
           0,
           0,
           0,
           0,
           0
          ]
         ]
        },
        {
         "coloraxis": "coloraxis",
         "name": "3-5",
         "type": "heatmap",
         "visible": false,
         "x": [
          "1",
          "2",
          "3",
          "4",
          "5",
          "6",
          "8",
          "7",
          "9",
          "0",
          "+",
          "-",
          "*",
          "/",
          "="
         ],
         "xaxis": "x24",
         "y": [
          "1",
          "2",
          "3",
          "4",
          "5",
          "6",
          "8",
          "7",
          "9",
          "0",
          "+",
          "-",
          "*",
          "/",
          "="
         ],
         "yaxis": "y24",
         "z": [
          [
           0,
           0,
           0,
           0,
           0,
           0,
           0,
           0,
           0.0048543689320388345,
           0,
           0,
           0,
           0,
           0,
           0.05339805825242718
          ],
          [
           0,
           0,
           0,
           0,
           0.0048543689320388345,
           0.0048543689320388345,
           0.009708737864077669,
           0.0048543689320388345,
           0.009708737864077669,
           0,
           0,
           0,
           0,
           0,
           0.0825242718446602
          ],
          [
           0,
           0,
           0,
           0.0048543689320388345,
           0.0048543689320388345,
           0.0048543689320388345,
           0.009708737864077669,
           0.009708737864077669,
           0.009708737864077669,
           0,
           0,
           0,
           0,
           0,
           0.038834951456310676
          ],
          [
           0,
           0,
           0.0048543689320388345,
           0.0048543689320388345,
           0.0048543689320388345,
           0.009708737864077669,
           0.009708737864077669,
           0.009708737864077669,
           0.009708737864077669,
           0,
           0,
           0,
           0,
           0,
           0.06796116504854369
          ],
          [
           0,
           0.0048543689320388345,
           0.0048543689320388345,
           0.0048543689320388345,
           0.009708737864077669,
           0.009708737864077669,
           0.009708737864077669,
           0.009708737864077669,
           0.009708737864077669,
           0,
           0,
           0,
           0,
           0,
           0.05339805825242718
          ],
          [
           0,
           0.0048543689320388345,
           0.0048543689320388345,
           0.009708737864077669,
           0.009708737864077669,
           0.009708737864077669,
           0.009708737864077669,
           0.009708737864077669,
           0.009708737864077669,
           0,
           0,
           0,
           0,
           0,
           0.05339805825242718
          ],
          [
           0,
           0.009708737864077669,
           0.009708737864077669,
           0.009708737864077669,
           0.009708737864077669,
           0.009708737864077669,
           0.009708737864077669,
           0.009708737864077669,
           0.009708737864077669,
           0,
           0,
           0,
           0,
           0,
           0.043689320388349516
          ],
          [
           0,
           0.0048543689320388345,
           0.009708737864077669,
           0.009708737864077669,
           0.009708737864077669,
           0.009708737864077669,
           0.009708737864077669,
           0.009708737864077669,
           0.009708737864077669,
           0,
           0,
           0,
           0,
           0,
           0.019417475728155338
          ],
          [
           0.0048543689320388345,
           0.009708737864077669,
           0.009708737864077669,
           0.009708737864077669,
           0.009708737864077669,
           0.009708737864077669,
           0.009708737864077669,
           0.009708737864077669,
           0.009708737864077669,
           0,
           0,
           0,
           0,
           0,
           0.0048543689320388345
          ],
          [
           0,
           0,
           0,
           0,
           0,
           0,
           0,
           0,
           0,
           0,
           0,
           0,
           0,
           0,
           0.0825242718446602
          ],
          [
           0,
           0,
           0,
           0,
           0,
           0,
           0,
           0,
           0,
           0,
           0,
           0,
           0,
           0,
           0
          ],
          [
           0,
           0,
           0,
           0,
           0,
           0,
           0,
           0,
           0,
           0,
           0,
           0,
           0,
           0,
           0
          ],
          [
           0,
           0,
           0,
           0,
           0,
           0,
           0,
           0,
           0,
           0,
           0,
           0,
           0,
           0,
           0
          ],
          [
           0,
           0,
           0,
           0,
           0,
           0,
           0,
           0,
           0,
           0,
           0,
           0,
           0,
           0,
           0
          ],
          [
           0,
           0,
           0,
           0,
           0,
           0,
           0,
           0,
           0,
           0,
           0,
           0,
           0,
           0,
           0
          ]
         ]
        },
        {
         "coloraxis": "coloraxis10",
         "name": "4-5",
         "type": "heatmap",
         "visible": true,
         "x": [
          "1",
          "2",
          "3",
          "4",
          "5",
          "6",
          "8",
          "7",
          "9",
          "0",
          "+",
          "-",
          "*",
          "/",
          "="
         ],
         "xaxis": "x25",
         "y": [
          "1",
          "2",
          "3",
          "4",
          "5",
          "6",
          "8",
          "7",
          "9",
          "0",
          "+",
          "-",
          "*",
          "/",
          "="
         ],
         "yaxis": "y25",
         "z": [
          [
           0.038834951456310676,
           0.009708737864077669,
           0,
           0,
           0,
           0,
           0.0048543689320388345,
           0,
           0,
           0,
           0,
           0,
           0,
           0,
           0.0048543689320388345
          ],
          [
           0.05339805825242718,
           0,
           0.009708737864077669,
           0.009708737864077669,
           0,
           0,
           0,
           0.009708737864077669,
           0,
           0,
           0,
           0,
           0,
           0,
           0.03398058252427184
          ],
          [
           0.02912621359223301,
           0,
           0,
           0,
           0,
           0.009708737864077669,
           0,
           0,
           0,
           0,
           0,
           0,
           0,
           0,
           0.043689320388349516
          ],
          [
           0.03398058252427184,
           0.019417475728155338,
           0,
           0,
           0.009708737864077669,
           0.0048543689320388345,
           0,
           0,
           0,
           0,
           0,
           0,
           0,
           0,
           0.05339805825242718
          ],
          [
           0.02912621359223301,
           0.0048543689320388345,
           0.009708737864077669,
           0.009708737864077669,
           0,
           0,
           0,
           0,
           0,
           0,
           0,
           0,
           0,
           0,
           0.06310679611650485
          ],
          [
           0.02912621359223301,
           0,
           0.014563106796116505,
           0,
           0.009708737864077669,
           0,
           0,
           0,
           0,
           0,
           0,
           0,
           0,
           0,
           0.06796116504854369
          ],
          [
           0.024271844660194174,
           0.009708737864077669,
           0,
           0.009708737864077669,
           0,
           0,
           0,
           0,
           0,
           0,
           0,
           0,
           0,
           0,
           0.07766990291262135
          ],
          [
           0.009708737864077669,
           0.009708737864077669,
           0,
           0,
           0,
           0,
           0,
           0,
           0,
           0,
           0,
           0,
           0,
           0,
           0.07281553398058252
          ],
          [
           0,
           0,
           0,
           0.0048543689320388345,
           0,
           0,
           0,
           0,
           0,
           0,
           0,
           0,
           0,
           0,
           0.0825242718446602
          ],
          [
           0.05339805825242718,
           0.009708737864077669,
           0.009708737864077669,
           0.009708737864077669,
           0,
           0,
           0,
           0,
           0,
           0,
           0,
           0,
           0,
           0,
           0
          ],
          [
           0,
           0,
           0,
           0,
           0,
           0,
           0,
           0,
           0,
           0,
           0,
           0,
           0,
           0,
           0
          ],
          [
           0,
           0,
           0,
           0,
           0,
           0,
           0,
           0,
           0,
           0,
           0,
           0,
           0,
           0,
           0
          ],
          [
           0,
           0,
           0,
           0,
           0,
           0,
           0,
           0,
           0,
           0,
           0,
           0,
           0,
           0,
           0
          ],
          [
           0,
           0,
           0,
           0,
           0,
           0,
           0,
           0,
           0,
           0,
           0,
           0,
           0,
           0,
           0
          ],
          [
           0,
           0,
           0,
           0,
           0,
           0,
           0,
           0,
           0,
           0,
           0,
           0,
           0,
           0,
           0
          ]
         ]
        },
        {
         "coloraxis": "coloraxis",
         "name": "4-5",
         "type": "heatmap",
         "visible": false,
         "x": [
          "1",
          "2",
          "3",
          "4",
          "5",
          "6",
          "8",
          "7",
          "9",
          "0",
          "+",
          "-",
          "*",
          "/",
          "="
         ],
         "xaxis": "x25",
         "y": [
          "1",
          "2",
          "3",
          "4",
          "5",
          "6",
          "8",
          "7",
          "9",
          "0",
          "+",
          "-",
          "*",
          "/",
          "="
         ],
         "yaxis": "y25",
         "z": [
          [
           0.038834951456310676,
           0.009708737864077669,
           0,
           0,
           0,
           0,
           0.0048543689320388345,
           0,
           0,
           0,
           0,
           0,
           0,
           0,
           0.0048543689320388345
          ],
          [
           0.05339805825242718,
           0,
           0.009708737864077669,
           0.009708737864077669,
           0,
           0,
           0,
           0.009708737864077669,
           0,
           0,
           0,
           0,
           0,
           0,
           0.03398058252427184
          ],
          [
           0.02912621359223301,
           0,
           0,
           0,
           0,
           0.009708737864077669,
           0,
           0,
           0,
           0,
           0,
           0,
           0,
           0,
           0.043689320388349516
          ],
          [
           0.03398058252427184,
           0.019417475728155338,
           0,
           0,
           0.009708737864077669,
           0.0048543689320388345,
           0,
           0,
           0,
           0,
           0,
           0,
           0,
           0,
           0.05339805825242718
          ],
          [
           0.02912621359223301,
           0.0048543689320388345,
           0.009708737864077669,
           0.009708737864077669,
           0,
           0,
           0,
           0,
           0,
           0,
           0,
           0,
           0,
           0,
           0.06310679611650485
          ],
          [
           0.02912621359223301,
           0,
           0.014563106796116505,
           0,
           0.009708737864077669,
           0,
           0,
           0,
           0,
           0,
           0,
           0,
           0,
           0,
           0.06796116504854369
          ],
          [
           0.024271844660194174,
           0.009708737864077669,
           0,
           0.009708737864077669,
           0,
           0,
           0,
           0,
           0,
           0,
           0,
           0,
           0,
           0,
           0.07766990291262135
          ],
          [
           0.009708737864077669,
           0.009708737864077669,
           0,
           0,
           0,
           0,
           0,
           0,
           0,
           0,
           0,
           0,
           0,
           0,
           0.07281553398058252
          ],
          [
           0,
           0,
           0,
           0.0048543689320388345,
           0,
           0,
           0,
           0,
           0,
           0,
           0,
           0,
           0,
           0,
           0.0825242718446602
          ],
          [
           0.05339805825242718,
           0.009708737864077669,
           0.009708737864077669,
           0.009708737864077669,
           0,
           0,
           0,
           0,
           0,
           0,
           0,
           0,
           0,
           0,
           0
          ],
          [
           0,
           0,
           0,
           0,
           0,
           0,
           0,
           0,
           0,
           0,
           0,
           0,
           0,
           0,
           0
          ],
          [
           0,
           0,
           0,
           0,
           0,
           0,
           0,
           0,
           0,
           0,
           0,
           0,
           0,
           0,
           0
          ],
          [
           0,
           0,
           0,
           0,
           0,
           0,
           0,
           0,
           0,
           0,
           0,
           0,
           0,
           0,
           0
          ],
          [
           0,
           0,
           0,
           0,
           0,
           0,
           0,
           0,
           0,
           0,
           0,
           0,
           0,
           0,
           0
          ],
          [
           0,
           0,
           0,
           0,
           0,
           0,
           0,
           0,
           0,
           0,
           0,
           0,
           0,
           0,
           0
          ]
         ]
        }
       ],
       "layout": {
        "coloraxis": {
         "colorscale": [
          [
           0,
           "rgb(12,51,131)"
          ],
          [
           0.25,
           "rgb(10,136,186)"
          ],
          [
           0.5,
           "rgb(242,211,56)"
          ],
          [
           0.75,
           "rgb(242,143,56)"
          ],
          [
           1,
           "rgb(217,30,30)"
          ]
         ],
         "showscale": false
        },
        "coloraxis10": {
         "colorscale": [
          [
           0,
           "rgb(12,51,131)"
          ],
          [
           0.25,
           "rgb(10,136,186)"
          ],
          [
           0.5,
           "rgb(242,211,56)"
          ],
          [
           0.75,
           "rgb(242,143,56)"
          ],
          [
           1,
           "rgb(217,30,30)"
          ]
         ],
         "showscale": false
        },
        "coloraxis11": {
         "colorscale": [
          [
           0,
           "rgb(12,51,131)"
          ],
          [
           0.25,
           "rgb(10,136,186)"
          ],
          [
           0.5,
           "rgb(242,211,56)"
          ],
          [
           0.75,
           "rgb(242,143,56)"
          ],
          [
           1,
           "rgb(217,30,30)"
          ]
         ],
         "showscale": false
        },
        "coloraxis12": {
         "colorscale": [
          [
           0,
           "rgb(12,51,131)"
          ],
          [
           0.25,
           "rgb(10,136,186)"
          ],
          [
           0.5,
           "rgb(242,211,56)"
          ],
          [
           0.75,
           "rgb(242,143,56)"
          ],
          [
           1,
           "rgb(217,30,30)"
          ]
         ],
         "showscale": false
        },
        "coloraxis13": {
         "colorscale": [
          [
           0,
           "rgb(12,51,131)"
          ],
          [
           0.25,
           "rgb(10,136,186)"
          ],
          [
           0.5,
           "rgb(242,211,56)"
          ],
          [
           0.75,
           "rgb(242,143,56)"
          ],
          [
           1,
           "rgb(217,30,30)"
          ]
         ],
         "showscale": false
        },
        "coloraxis14": {
         "colorscale": [
          [
           0,
           "rgb(12,51,131)"
          ],
          [
           0.25,
           "rgb(10,136,186)"
          ],
          [
           0.5,
           "rgb(242,211,56)"
          ],
          [
           0.75,
           "rgb(242,143,56)"
          ],
          [
           1,
           "rgb(217,30,30)"
          ]
         ],
         "showscale": false
        },
        "coloraxis15": {
         "colorscale": [
          [
           0,
           "rgb(12,51,131)"
          ],
          [
           0.25,
           "rgb(10,136,186)"
          ],
          [
           0.5,
           "rgb(242,211,56)"
          ],
          [
           0.75,
           "rgb(242,143,56)"
          ],
          [
           1,
           "rgb(217,30,30)"
          ]
         ],
         "showscale": false
        },
        "coloraxis16": {
         "colorscale": [
          [
           0,
           "rgb(12,51,131)"
          ],
          [
           0.25,
           "rgb(10,136,186)"
          ],
          [
           0.5,
           "rgb(242,211,56)"
          ],
          [
           0.75,
           "rgb(242,143,56)"
          ],
          [
           1,
           "rgb(217,30,30)"
          ]
         ],
         "showscale": false
        },
        "coloraxis2": {
         "colorscale": [
          [
           0,
           "rgb(12,51,131)"
          ],
          [
           0.25,
           "rgb(10,136,186)"
          ],
          [
           0.5,
           "rgb(242,211,56)"
          ],
          [
           0.75,
           "rgb(242,143,56)"
          ],
          [
           1,
           "rgb(217,30,30)"
          ]
         ],
         "showscale": false
        },
        "coloraxis3": {
         "colorscale": [
          [
           0,
           "rgb(12,51,131)"
          ],
          [
           0.25,
           "rgb(10,136,186)"
          ],
          [
           0.5,
           "rgb(242,211,56)"
          ],
          [
           0.75,
           "rgb(242,143,56)"
          ],
          [
           1,
           "rgb(217,30,30)"
          ]
         ],
         "showscale": false
        },
        "coloraxis4": {
         "colorscale": [
          [
           0,
           "rgb(12,51,131)"
          ],
          [
           0.25,
           "rgb(10,136,186)"
          ],
          [
           0.5,
           "rgb(242,211,56)"
          ],
          [
           0.75,
           "rgb(242,143,56)"
          ],
          [
           1,
           "rgb(217,30,30)"
          ]
         ],
         "showscale": false
        },
        "coloraxis5": {
         "colorscale": [
          [
           0,
           "rgb(12,51,131)"
          ],
          [
           0.25,
           "rgb(10,136,186)"
          ],
          [
           0.5,
           "rgb(242,211,56)"
          ],
          [
           0.75,
           "rgb(242,143,56)"
          ],
          [
           1,
           "rgb(217,30,30)"
          ]
         ],
         "showscale": false
        },
        "coloraxis6": {
         "colorscale": [
          [
           0,
           "rgb(12,51,131)"
          ],
          [
           0.25,
           "rgb(10,136,186)"
          ],
          [
           0.5,
           "rgb(242,211,56)"
          ],
          [
           0.75,
           "rgb(242,143,56)"
          ],
          [
           1,
           "rgb(217,30,30)"
          ]
         ],
         "showscale": false
        },
        "coloraxis7": {
         "colorscale": [
          [
           0,
           "rgb(12,51,131)"
          ],
          [
           0.25,
           "rgb(10,136,186)"
          ],
          [
           0.5,
           "rgb(242,211,56)"
          ],
          [
           0.75,
           "rgb(242,143,56)"
          ],
          [
           1,
           "rgb(217,30,30)"
          ]
         ],
         "showscale": false
        },
        "coloraxis8": {
         "colorscale": [
          [
           0,
           "rgb(12,51,131)"
          ],
          [
           0.25,
           "rgb(10,136,186)"
          ],
          [
           0.5,
           "rgb(242,211,56)"
          ],
          [
           0.75,
           "rgb(242,143,56)"
          ],
          [
           1,
           "rgb(217,30,30)"
          ]
         ],
         "showscale": false
        },
        "coloraxis9": {
         "colorscale": [
          [
           0,
           "rgb(12,51,131)"
          ],
          [
           0.25,
           "rgb(10,136,186)"
          ],
          [
           0.5,
           "rgb(242,211,56)"
          ],
          [
           0.75,
           "rgb(242,143,56)"
          ],
          [
           1,
           "rgb(217,30,30)"
          ]
         ],
         "showscale": false
        },
        "height": 1200,
        "template": {
         "data": {
          "bar": [
           {
            "error_x": {
             "color": "#2a3f5f"
            },
            "error_y": {
             "color": "#2a3f5f"
            },
            "marker": {
             "line": {
              "color": "#E5ECF6",
              "width": 0.5
             },
             "pattern": {
              "fillmode": "overlay",
              "size": 10,
              "solidity": 0.2
             }
            },
            "type": "bar"
           }
          ],
          "barpolar": [
           {
            "marker": {
             "line": {
              "color": "#E5ECF6",
              "width": 0.5
             },
             "pattern": {
              "fillmode": "overlay",
              "size": 10,
              "solidity": 0.2
             }
            },
            "type": "barpolar"
           }
          ],
          "carpet": [
           {
            "aaxis": {
             "endlinecolor": "#2a3f5f",
             "gridcolor": "white",
             "linecolor": "white",
             "minorgridcolor": "white",
             "startlinecolor": "#2a3f5f"
            },
            "baxis": {
             "endlinecolor": "#2a3f5f",
             "gridcolor": "white",
             "linecolor": "white",
             "minorgridcolor": "white",
             "startlinecolor": "#2a3f5f"
            },
            "type": "carpet"
           }
          ],
          "choropleth": [
           {
            "colorbar": {
             "outlinewidth": 0,
             "ticks": ""
            },
            "type": "choropleth"
           }
          ],
          "contour": [
           {
            "colorbar": {
             "outlinewidth": 0,
             "ticks": ""
            },
            "colorscale": [
             [
              0,
              "#0d0887"
             ],
             [
              0.1111111111111111,
              "#46039f"
             ],
             [
              0.2222222222222222,
              "#7201a8"
             ],
             [
              0.3333333333333333,
              "#9c179e"
             ],
             [
              0.4444444444444444,
              "#bd3786"
             ],
             [
              0.5555555555555556,
              "#d8576b"
             ],
             [
              0.6666666666666666,
              "#ed7953"
             ],
             [
              0.7777777777777778,
              "#fb9f3a"
             ],
             [
              0.8888888888888888,
              "#fdca26"
             ],
             [
              1,
              "#f0f921"
             ]
            ],
            "type": "contour"
           }
          ],
          "contourcarpet": [
           {
            "colorbar": {
             "outlinewidth": 0,
             "ticks": ""
            },
            "type": "contourcarpet"
           }
          ],
          "heatmap": [
           {
            "colorbar": {
             "outlinewidth": 0,
             "ticks": ""
            },
            "colorscale": [
             [
              0,
              "#0d0887"
             ],
             [
              0.1111111111111111,
              "#46039f"
             ],
             [
              0.2222222222222222,
              "#7201a8"
             ],
             [
              0.3333333333333333,
              "#9c179e"
             ],
             [
              0.4444444444444444,
              "#bd3786"
             ],
             [
              0.5555555555555556,
              "#d8576b"
             ],
             [
              0.6666666666666666,
              "#ed7953"
             ],
             [
              0.7777777777777778,
              "#fb9f3a"
             ],
             [
              0.8888888888888888,
              "#fdca26"
             ],
             [
              1,
              "#f0f921"
             ]
            ],
            "type": "heatmap"
           }
          ],
          "heatmapgl": [
           {
            "colorbar": {
             "outlinewidth": 0,
             "ticks": ""
            },
            "colorscale": [
             [
              0,
              "#0d0887"
             ],
             [
              0.1111111111111111,
              "#46039f"
             ],
             [
              0.2222222222222222,
              "#7201a8"
             ],
             [
              0.3333333333333333,
              "#9c179e"
             ],
             [
              0.4444444444444444,
              "#bd3786"
             ],
             [
              0.5555555555555556,
              "#d8576b"
             ],
             [
              0.6666666666666666,
              "#ed7953"
             ],
             [
              0.7777777777777778,
              "#fb9f3a"
             ],
             [
              0.8888888888888888,
              "#fdca26"
             ],
             [
              1,
              "#f0f921"
             ]
            ],
            "type": "heatmapgl"
           }
          ],
          "histogram": [
           {
            "marker": {
             "pattern": {
              "fillmode": "overlay",
              "size": 10,
              "solidity": 0.2
             }
            },
            "type": "histogram"
           }
          ],
          "histogram2d": [
           {
            "colorbar": {
             "outlinewidth": 0,
             "ticks": ""
            },
            "colorscale": [
             [
              0,
              "#0d0887"
             ],
             [
              0.1111111111111111,
              "#46039f"
             ],
             [
              0.2222222222222222,
              "#7201a8"
             ],
             [
              0.3333333333333333,
              "#9c179e"
             ],
             [
              0.4444444444444444,
              "#bd3786"
             ],
             [
              0.5555555555555556,
              "#d8576b"
             ],
             [
              0.6666666666666666,
              "#ed7953"
             ],
             [
              0.7777777777777778,
              "#fb9f3a"
             ],
             [
              0.8888888888888888,
              "#fdca26"
             ],
             [
              1,
              "#f0f921"
             ]
            ],
            "type": "histogram2d"
           }
          ],
          "histogram2dcontour": [
           {
            "colorbar": {
             "outlinewidth": 0,
             "ticks": ""
            },
            "colorscale": [
             [
              0,
              "#0d0887"
             ],
             [
              0.1111111111111111,
              "#46039f"
             ],
             [
              0.2222222222222222,
              "#7201a8"
             ],
             [
              0.3333333333333333,
              "#9c179e"
             ],
             [
              0.4444444444444444,
              "#bd3786"
             ],
             [
              0.5555555555555556,
              "#d8576b"
             ],
             [
              0.6666666666666666,
              "#ed7953"
             ],
             [
              0.7777777777777778,
              "#fb9f3a"
             ],
             [
              0.8888888888888888,
              "#fdca26"
             ],
             [
              1,
              "#f0f921"
             ]
            ],
            "type": "histogram2dcontour"
           }
          ],
          "mesh3d": [
           {
            "colorbar": {
             "outlinewidth": 0,
             "ticks": ""
            },
            "type": "mesh3d"
           }
          ],
          "parcoords": [
           {
            "line": {
             "colorbar": {
              "outlinewidth": 0,
              "ticks": ""
             }
            },
            "type": "parcoords"
           }
          ],
          "pie": [
           {
            "automargin": true,
            "type": "pie"
           }
          ],
          "scatter": [
           {
            "fillpattern": {
             "fillmode": "overlay",
             "size": 10,
             "solidity": 0.2
            },
            "type": "scatter"
           }
          ],
          "scatter3d": [
           {
            "line": {
             "colorbar": {
              "outlinewidth": 0,
              "ticks": ""
             }
            },
            "marker": {
             "colorbar": {
              "outlinewidth": 0,
              "ticks": ""
             }
            },
            "type": "scatter3d"
           }
          ],
          "scattercarpet": [
           {
            "marker": {
             "colorbar": {
              "outlinewidth": 0,
              "ticks": ""
             }
            },
            "type": "scattercarpet"
           }
          ],
          "scattergeo": [
           {
            "marker": {
             "colorbar": {
              "outlinewidth": 0,
              "ticks": ""
             }
            },
            "type": "scattergeo"
           }
          ],
          "scattergl": [
           {
            "marker": {
             "colorbar": {
              "outlinewidth": 0,
              "ticks": ""
             }
            },
            "type": "scattergl"
           }
          ],
          "scattermapbox": [
           {
            "marker": {
             "colorbar": {
              "outlinewidth": 0,
              "ticks": ""
             }
            },
            "type": "scattermapbox"
           }
          ],
          "scatterpolar": [
           {
            "marker": {
             "colorbar": {
              "outlinewidth": 0,
              "ticks": ""
             }
            },
            "type": "scatterpolar"
           }
          ],
          "scatterpolargl": [
           {
            "marker": {
             "colorbar": {
              "outlinewidth": 0,
              "ticks": ""
             }
            },
            "type": "scatterpolargl"
           }
          ],
          "scatterternary": [
           {
            "marker": {
             "colorbar": {
              "outlinewidth": 0,
              "ticks": ""
             }
            },
            "type": "scatterternary"
           }
          ],
          "surface": [
           {
            "colorbar": {
             "outlinewidth": 0,
             "ticks": ""
            },
            "colorscale": [
             [
              0,
              "#0d0887"
             ],
             [
              0.1111111111111111,
              "#46039f"
             ],
             [
              0.2222222222222222,
              "#7201a8"
             ],
             [
              0.3333333333333333,
              "#9c179e"
             ],
             [
              0.4444444444444444,
              "#bd3786"
             ],
             [
              0.5555555555555556,
              "#d8576b"
             ],
             [
              0.6666666666666666,
              "#ed7953"
             ],
             [
              0.7777777777777778,
              "#fb9f3a"
             ],
             [
              0.8888888888888888,
              "#fdca26"
             ],
             [
              1,
              "#f0f921"
             ]
            ],
            "type": "surface"
           }
          ],
          "table": [
           {
            "cells": {
             "fill": {
              "color": "#EBF0F8"
             },
             "line": {
              "color": "white"
             }
            },
            "header": {
             "fill": {
              "color": "#C8D4E3"
             },
             "line": {
              "color": "white"
             }
            },
            "type": "table"
           }
          ]
         },
         "layout": {
          "annotationdefaults": {
           "arrowcolor": "#2a3f5f",
           "arrowhead": 0,
           "arrowwidth": 1
          },
          "autotypenumbers": "strict",
          "coloraxis": {
           "colorbar": {
            "outlinewidth": 0,
            "ticks": ""
           }
          },
          "colorscale": {
           "diverging": [
            [
             0,
             "#8e0152"
            ],
            [
             0.1,
             "#c51b7d"
            ],
            [
             0.2,
             "#de77ae"
            ],
            [
             0.3,
             "#f1b6da"
            ],
            [
             0.4,
             "#fde0ef"
            ],
            [
             0.5,
             "#f7f7f7"
            ],
            [
             0.6,
             "#e6f5d0"
            ],
            [
             0.7,
             "#b8e186"
            ],
            [
             0.8,
             "#7fbc41"
            ],
            [
             0.9,
             "#4d9221"
            ],
            [
             1,
             "#276419"
            ]
           ],
           "sequential": [
            [
             0,
             "#0d0887"
            ],
            [
             0.1111111111111111,
             "#46039f"
            ],
            [
             0.2222222222222222,
             "#7201a8"
            ],
            [
             0.3333333333333333,
             "#9c179e"
            ],
            [
             0.4444444444444444,
             "#bd3786"
            ],
            [
             0.5555555555555556,
             "#d8576b"
            ],
            [
             0.6666666666666666,
             "#ed7953"
            ],
            [
             0.7777777777777778,
             "#fb9f3a"
            ],
            [
             0.8888888888888888,
             "#fdca26"
            ],
            [
             1,
             "#f0f921"
            ]
           ],
           "sequentialminus": [
            [
             0,
             "#0d0887"
            ],
            [
             0.1111111111111111,
             "#46039f"
            ],
            [
             0.2222222222222222,
             "#7201a8"
            ],
            [
             0.3333333333333333,
             "#9c179e"
            ],
            [
             0.4444444444444444,
             "#bd3786"
            ],
            [
             0.5555555555555556,
             "#d8576b"
            ],
            [
             0.6666666666666666,
             "#ed7953"
            ],
            [
             0.7777777777777778,
             "#fb9f3a"
            ],
            [
             0.8888888888888888,
             "#fdca26"
            ],
            [
             1,
             "#f0f921"
            ]
           ]
          },
          "colorway": [
           "#636efa",
           "#EF553B",
           "#00cc96",
           "#ab63fa",
           "#FFA15A",
           "#19d3f3",
           "#FF6692",
           "#B6E880",
           "#FF97FF",
           "#FECB52"
          ],
          "font": {
           "color": "#2a3f5f"
          },
          "geo": {
           "bgcolor": "white",
           "lakecolor": "white",
           "landcolor": "#E5ECF6",
           "showlakes": true,
           "showland": true,
           "subunitcolor": "white"
          },
          "hoverlabel": {
           "align": "left"
          },
          "hovermode": "closest",
          "mapbox": {
           "style": "light"
          },
          "paper_bgcolor": "white",
          "plot_bgcolor": "#E5ECF6",
          "polar": {
           "angularaxis": {
            "gridcolor": "white",
            "linecolor": "white",
            "ticks": ""
           },
           "bgcolor": "#E5ECF6",
           "radialaxis": {
            "gridcolor": "white",
            "linecolor": "white",
            "ticks": ""
           }
          },
          "scene": {
           "xaxis": {
            "backgroundcolor": "#E5ECF6",
            "gridcolor": "white",
            "gridwidth": 2,
            "linecolor": "white",
            "showbackground": true,
            "ticks": "",
            "zerolinecolor": "white"
           },
           "yaxis": {
            "backgroundcolor": "#E5ECF6",
            "gridcolor": "white",
            "gridwidth": 2,
            "linecolor": "white",
            "showbackground": true,
            "ticks": "",
            "zerolinecolor": "white"
           },
           "zaxis": {
            "backgroundcolor": "#E5ECF6",
            "gridcolor": "white",
            "gridwidth": 2,
            "linecolor": "white",
            "showbackground": true,
            "ticks": "",
            "zerolinecolor": "white"
           }
          },
          "shapedefaults": {
           "line": {
            "color": "#2a3f5f"
           }
          },
          "ternary": {
           "aaxis": {
            "gridcolor": "white",
            "linecolor": "white",
            "ticks": ""
           },
           "baxis": {
            "gridcolor": "white",
            "linecolor": "white",
            "ticks": ""
           },
           "bgcolor": "#E5ECF6",
           "caxis": {
            "gridcolor": "white",
            "linecolor": "white",
            "ticks": ""
           }
          },
          "title": {
           "x": 0.05
          },
          "xaxis": {
           "automargin": true,
           "gridcolor": "white",
           "linecolor": "white",
           "ticks": "",
           "title": {
            "standoff": 15
           },
           "zerolinecolor": "white",
           "zerolinewidth": 2
          },
          "yaxis": {
           "automargin": true,
           "gridcolor": "white",
           "linecolor": "white",
           "ticks": "",
           "title": {
            "standoff": 15
           },
           "zerolinecolor": "white",
           "zerolinewidth": 2
          }
         }
        },
        "title": {
         "text": "Element correlation per position"
        },
        "updatemenus": [
         {
          "buttons": [
           {
            "args": [
             {
              "visible": [
               true,
               false
              ]
             }
            ],
            "label": "Independent Scales"
           },
           {
            "args": [
             {
              "visible": [
               false,
               true
              ]
             }
            ],
            "label": "Single Scale"
           }
          ],
          "direction": "down",
          "pad": {
           "r": 10,
           "t": 10
          },
          "showactive": true,
          "x": 1,
          "xanchor": "right",
          "y": 1.1,
          "yanchor": "top"
         }
        ],
        "width": 1200,
        "xaxis": {
         "anchor": "y",
         "domain": [
          0,
          0.192
         ],
         "matches": "x21",
         "showticklabels": false
        },
        "xaxis10": {
         "anchor": "y10",
         "domain": [
          0.808,
          1
         ],
         "matches": "x25",
         "showticklabels": false
        },
        "xaxis11": {
         "anchor": "y11",
         "domain": [
          0,
          0.192
         ],
         "matches": "x21",
         "showticklabels": false
        },
        "xaxis12": {
         "anchor": "y12",
         "domain": [
          0.202,
          0.394
         ],
         "matches": "x22",
         "showticklabels": false
        },
        "xaxis13": {
         "anchor": "y13",
         "domain": [
          0.404,
          0.5960000000000001
         ],
         "matches": "x23",
         "showticklabels": false
        },
        "xaxis14": {
         "anchor": "y14",
         "domain": [
          0.6060000000000001,
          0.798
         ],
         "matches": "x24",
         "showticklabels": false
        },
        "xaxis15": {
         "anchor": "y15",
         "domain": [
          0.808,
          1
         ],
         "matches": "x25",
         "showticklabels": false
        },
        "xaxis16": {
         "anchor": "y16",
         "domain": [
          0,
          0.192
         ],
         "matches": "x21",
         "showticklabels": false
        },
        "xaxis17": {
         "anchor": "y17",
         "domain": [
          0.202,
          0.394
         ],
         "matches": "x22",
         "showticklabels": false
        },
        "xaxis18": {
         "anchor": "y18",
         "domain": [
          0.404,
          0.5960000000000001
         ],
         "matches": "x23",
         "showticklabels": false
        },
        "xaxis19": {
         "anchor": "y19",
         "domain": [
          0.6060000000000001,
          0.798
         ],
         "matches": "x24",
         "showticklabels": false
        },
        "xaxis2": {
         "anchor": "y2",
         "domain": [
          0.202,
          0.394
         ],
         "matches": "x22",
         "showticklabels": false
        },
        "xaxis20": {
         "anchor": "y20",
         "domain": [
          0.808,
          1
         ],
         "matches": "x25",
         "showticklabels": false
        },
        "xaxis21": {
         "anchor": "y21",
         "domain": [
          0,
          0.192
         ],
         "showticklabels": false,
         "side": "bottom",
         "title": {
          "text": "p0"
         }
        },
        "xaxis22": {
         "anchor": "y22",
         "domain": [
          0.202,
          0.394
         ],
         "showticklabels": false,
         "side": "bottom",
         "title": {
          "text": "p1"
         }
        },
        "xaxis23": {
         "anchor": "y23",
         "domain": [
          0.404,
          0.5960000000000001
         ],
         "showticklabels": false,
         "side": "bottom",
         "title": {
          "text": "p2"
         }
        },
        "xaxis24": {
         "anchor": "y24",
         "domain": [
          0.6060000000000001,
          0.798
         ],
         "showticklabels": false,
         "side": "bottom",
         "title": {
          "text": "p3"
         }
        },
        "xaxis25": {
         "anchor": "y25",
         "domain": [
          0.808,
          1
         ],
         "showticklabels": false,
         "side": "bottom",
         "title": {
          "text": "p4"
         }
        },
        "xaxis3": {
         "anchor": "y3",
         "domain": [
          0.404,
          0.5960000000000001
         ],
         "matches": "x23",
         "showticklabels": false
        },
        "xaxis4": {
         "anchor": "y4",
         "domain": [
          0.6060000000000001,
          0.798
         ],
         "matches": "x24",
         "showticklabels": false
        },
        "xaxis5": {
         "anchor": "y5",
         "domain": [
          0.808,
          1
         ],
         "matches": "x25",
         "showticklabels": false
        },
        "xaxis6": {
         "anchor": "y6",
         "domain": [
          0,
          0.192
         ],
         "matches": "x21",
         "showticklabels": false
        },
        "xaxis7": {
         "anchor": "y7",
         "domain": [
          0.202,
          0.394
         ],
         "matches": "x22",
         "showticklabels": false
        },
        "xaxis8": {
         "anchor": "y8",
         "domain": [
          0.404,
          0.5960000000000001
         ],
         "matches": "x23",
         "showticklabels": false
        },
        "xaxis9": {
         "anchor": "y9",
         "domain": [
          0.6060000000000001,
          0.798
         ],
         "matches": "x24",
         "showticklabels": false
        },
        "yaxis": {
         "anchor": "x",
         "domain": [
          0.808,
          1
         ],
         "showticklabels": false,
         "title": {
          "text": "p1"
         }
        },
        "yaxis10": {
         "anchor": "x10",
         "domain": [
          0.6060000000000001,
          0.798
         ],
         "matches": "y6",
         "showticklabels": false
        },
        "yaxis11": {
         "anchor": "x11",
         "domain": [
          0.404,
          0.5960000000000001
         ],
         "showticklabels": false,
         "title": {
          "text": "p3"
         }
        },
        "yaxis12": {
         "anchor": "x12",
         "domain": [
          0.404,
          0.5960000000000001
         ],
         "matches": "y11",
         "showticklabels": false
        },
        "yaxis13": {
         "anchor": "x13",
         "domain": [
          0.404,
          0.5960000000000001
         ],
         "matches": "y11",
         "showticklabels": false
        },
        "yaxis14": {
         "anchor": "x14",
         "domain": [
          0.404,
          0.5960000000000001
         ],
         "matches": "y11",
         "showticklabels": false
        },
        "yaxis15": {
         "anchor": "x15",
         "domain": [
          0.404,
          0.5960000000000001
         ],
         "matches": "y11",
         "showticklabels": false
        },
        "yaxis16": {
         "anchor": "x16",
         "domain": [
          0.202,
          0.394
         ],
         "showticklabels": false,
         "title": {
          "text": "p4"
         }
        },
        "yaxis17": {
         "anchor": "x17",
         "domain": [
          0.202,
          0.394
         ],
         "matches": "y16",
         "showticklabels": false
        },
        "yaxis18": {
         "anchor": "x18",
         "domain": [
          0.202,
          0.394
         ],
         "matches": "y16",
         "showticklabels": false
        },
        "yaxis19": {
         "anchor": "x19",
         "domain": [
          0.202,
          0.394
         ],
         "matches": "y16",
         "showticklabels": false
        },
        "yaxis2": {
         "anchor": "x2",
         "domain": [
          0.808,
          1
         ],
         "matches": "y",
         "showticklabels": false
        },
        "yaxis20": {
         "anchor": "x20",
         "domain": [
          0.202,
          0.394
         ],
         "matches": "y16",
         "showticklabels": false
        },
        "yaxis21": {
         "anchor": "x21",
         "domain": [
          0,
          0.192
         ],
         "showticklabels": false,
         "title": {
          "text": "p5"
         }
        },
        "yaxis22": {
         "anchor": "x22",
         "domain": [
          0,
          0.192
         ],
         "matches": "y21",
         "showticklabels": false
        },
        "yaxis23": {
         "anchor": "x23",
         "domain": [
          0,
          0.192
         ],
         "matches": "y21",
         "showticklabels": false
        },
        "yaxis24": {
         "anchor": "x24",
         "domain": [
          0,
          0.192
         ],
         "matches": "y21",
         "showticklabels": false
        },
        "yaxis25": {
         "anchor": "x25",
         "domain": [
          0,
          0.192
         ],
         "matches": "y21",
         "showticklabels": false
        },
        "yaxis3": {
         "anchor": "x3",
         "domain": [
          0.808,
          1
         ],
         "matches": "y",
         "showticklabels": false
        },
        "yaxis4": {
         "anchor": "x4",
         "domain": [
          0.808,
          1
         ],
         "matches": "y",
         "showticklabels": false
        },
        "yaxis5": {
         "anchor": "x5",
         "domain": [
          0.808,
          1
         ],
         "matches": "y",
         "showticklabels": false
        },
        "yaxis6": {
         "anchor": "x6",
         "domain": [
          0.6060000000000001,
          0.798
         ],
         "showticklabels": false,
         "title": {
          "text": "p2"
         }
        },
        "yaxis7": {
         "anchor": "x7",
         "domain": [
          0.6060000000000001,
          0.798
         ],
         "matches": "y6",
         "showticklabels": false
        },
        "yaxis8": {
         "anchor": "x8",
         "domain": [
          0.6060000000000001,
          0.798
         ],
         "matches": "y6",
         "showticklabels": false
        },
        "yaxis9": {
         "anchor": "x9",
         "domain": [
          0.6060000000000001,
          0.798
         ],
         "matches": "y6",
         "showticklabels": false
        }
       }
      }
     },
     "metadata": {},
     "output_type": "display_data"
    }
   ],
   "source": [
    "# Ploting Heatmap\n",
    "\n",
    "# Creating figure\n",
    "fig = sp.make_subplots(\n",
    "    rows=NUMBER_OF_ELEMENTS - 1, \n",
    "    cols=NUMBER_OF_ELEMENTS - 1,\n",
    "    shared_xaxes=True,\n",
    "    shared_yaxes=True,\n",
    "    vertical_spacing=0.01,\n",
    "    horizontal_spacing=0.01,\n",
    ")\n",
    "\n",
    "# Creating traces\n",
    "for i in range(NUMBER_OF_ELEMENTS):\n",
    "    for j in range(i + 1, NUMBER_OF_ELEMENTS):\n",
    "\n",
    "        df_temp = df_elements_pos_corr[f\"p{i}\"].loc[f\"p{j}\"]\n",
    "\n",
    "        if df_temp is None:\n",
    "            continue\n",
    "\n",
    "        fig.add_trace(\n",
    "            go.Heatmap(\n",
    "                x=df_temp.columns,\n",
    "                y=df_temp.index,\n",
    "                z=df_temp / len(df),\n",
    "                name=f\"{i}-{j}\",\n",
    "                visible=True,\n",
    "                coloraxis=f\"coloraxis{i + j + 1}\",\n",
    "            ),\n",
    "            row=j, \n",
    "            col=i + 1,\n",
    "        )\n",
    "\n",
    "        fig.add_trace(\n",
    "            go.Heatmap(\n",
    "                x=df_temp.columns,\n",
    "                y=df_temp.index,\n",
    "                z=df_temp / len(df),\n",
    "                name=f\"{i}-{j}\",\n",
    "                visible=False,\n",
    "                coloraxis=f\"coloraxis1\",\n",
    "            ),\n",
    "            row=j, \n",
    "            col=i + 1,\n",
    "        )\n",
    "\n",
    "# Updating layout\n",
    "coloraxis = dict(colorscale=\"Portland\", showscale=False)\n",
    "coloraxes = {f\"coloraxis{i + 1}\": coloraxis for i in range(int(((NUMBER_OF_ELEMENTS ** 2) - NUMBER_OF_ELEMENTS) / 2) + 1)}\n",
    "\n",
    "fig.update_layout(\n",
    "    title=\"Element correlation per position\",\n",
    "    height=1200,\n",
    "    width=1200,\n",
    "    **coloraxes,\n",
    ")\n",
    "\n",
    "fig.update_xaxes(showticklabels=False)\n",
    "fig.update_yaxes(showticklabels=False)\n",
    "\n",
    "for i in range(NUMBER_OF_ELEMENTS - 1):\n",
    "    fig.update_xaxes(title_text=f\"p{i}\", side=\"bottom\", row=NUMBER_OF_ELEMENTS - 1, col= i + 1)\n",
    "    fig.update_yaxes(title_text=f\"p{NUMBER_OF_ELEMENTS - i - 1}\", row=NUMBER_OF_ELEMENTS - i - 1, col=1)\n",
    "\n",
    "# Adding dropdown\n",
    "fig.update_layout(\n",
    "    updatemenus=[\n",
    "        dict(\n",
    "            buttons=list([\n",
    "                dict(\n",
    "                    args=[{\"visible\": [True, False]}],\n",
    "                    label=\"Independent Scales\",\n",
    "                ),\n",
    "                dict(\n",
    "                    args=[{\"visible\": [False, True]}],\n",
    "                    label=\"Single Scale\",\n",
    "                ),\n",
    "            ]),\n",
    "            direction=\"down\",\n",
    "            pad={\"r\": 10, \"t\": 10},\n",
    "            showactive=True,\n",
    "            x=1,\n",
    "            xanchor=\"right\",\n",
    "            y=1.1,\n",
    "            yanchor=\"top\"\n",
    "        ),\n",
    "    ]\n",
    ")\n",
    "\n",
    "# Showing figure\n",
    "fig.show()"
   ]
  }
 ],
 "metadata": {
  "interpreter": {
   "hash": "2be5faf79681da6f2a61fdfdd5405d65d042280f7fba6178067603e3a2925119"
  },
  "kernelspec": {
   "display_name": "Python 3.10.1 64-bit",
   "language": "python",
   "name": "python3"
  },
  "language_info": {
   "codemirror_mode": {
    "name": "ipython",
    "version": 3
   },
   "file_extension": ".py",
   "mimetype": "text/x-python",
   "name": "python",
   "nbconvert_exporter": "python",
   "pygments_lexer": "ipython3",
   "version": "3.10.4"
  },
  "orig_nbformat": 4
 },
 "nbformat": 4,
 "nbformat_minor": 2
}
