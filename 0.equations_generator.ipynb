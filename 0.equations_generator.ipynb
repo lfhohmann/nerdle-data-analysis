{
 "cells": [
  {
   "cell_type": "markdown",
   "metadata": {},
   "source": [
    "# **Generating all possible equations for [Nerdle](https://nerdlegame.com/) game** *([Wordle](https://www.nytimes.com/games/wordle/index.html)'s mathematic variant)*\n",
    "\n",
    "Let's list the explicit rules for each possible equation:\n",
    "\n",
    "+ Depending on the game mode, each expression must be exactly 6 or 8 elements long *(each element is considered to be a single digit number, an operator or the equal sign)*\n",
    "+ Both the expression and solution parts of the equation can't start with any operator *(`+, -, /, *`)*\n",
    "+ Numbers and operators can appear more than once *(except the equal sign)*\n",
    "+ No leading zeros are allowed\n",
    "+ Calculations follow the order of operations **PEDMAS**\n",
    "    1. Parenthesis\n",
    "    2. Exponents\n",
    "    3. Division or Multiplication\n",
    "    4. Addition or Subtraction\n",
    "\n",
    "We can also extrapolate some other rules based on the previous requirements:\n",
    "\n",
    "+ Both the expression and solution parts of the equation can't end with any operator *(`+, -, /, *`)*\n",
    "+ There can't be expressions that are equal to the solution\n",
    "+ Only expressions that evaluate to an integer are valid\n",
    "\n",
    "Besides all of that, there are 2 game modes:\n",
    "\n",
    "+ **Mini Nerdle** *(6 elements)*\n",
    "+ **Nerdle** *(8 elements)*"
   ]
  },
  {
   "cell_type": "code",
   "execution_count": 1,
   "metadata": {},
   "outputs": [],
   "source": [
    "from pprint import pprint\n",
    "from tqdm import tqdm\n",
    "import itertools\n",
    "import csv\n",
    "import re"
   ]
  },
  {
   "cell_type": "markdown",
   "metadata": {},
   "source": [
    "## Defining constants"
   ]
  },
  {
   "cell_type": "code",
   "execution_count": 2,
   "metadata": {},
   "outputs": [],
   "source": [
    "GAME_MODES = {\n",
    "    \"MINI_NERDLE\": {\n",
    "        \"NUMBER_OF_ELEMENTS\": 6,\n",
    "        \"NUMBER_OF_ATTEMPTS\": 6,\n",
    "    },\n",
    "    \"NERDLE\": {\n",
    "        \"NUMBER_OF_ELEMENTS\": 8,\n",
    "        \"NUMBER_OF_ATTEMPTS\": 6,\n",
    "    },\n",
    "}\n",
    "\n",
    "\n",
    "FILENAME_PREFIX = \"equations\"   # The prefix for the output files\n",
    "CSV_HEADER = [\"equation\"]       # The header for the CSV files"
   ]
  },
  {
   "cell_type": "markdown",
   "metadata": {},
   "source": [
    "## Function that generates all possible patterns for the equations\n",
    "\n",
    "For \"Regular Mode\" The equal sign can only be in 3 valid positions:\n",
    "\n",
    "+ Position 4: \"....=...\"\n",
    "+ Position 5: \".....=..\"\n",
    "+ Position 6: \"......=.\"\n",
    "\n",
    "For \"Mini Mode\" The equal sign can only be in 2 valid positions:\n",
    "\n",
    "+ Position 3: \"...=..\"\n",
    "+ Position 4: \"....=.\"\n",
    "\n",
    "There is no point in generating equations that have the equal sign somewhere else, so we will create only the patterns that fit this constraint."
   ]
  },
  {
   "cell_type": "code",
   "execution_count": 3,
   "metadata": {},
   "outputs": [],
   "source": [
    "def gen_patterns(game_mode: str):\n",
    "\n",
    "    # Extract variables\n",
    "    number_of_elements = GAME_MODES[game_mode][\"NUMBER_OF_ELEMENTS\"]\n",
    "\n",
    "    # Init patterns list\n",
    "    patterns = []\n",
    "    \n",
    "    # Iterating over the equal sign's valid positions\n",
    "    for equal_sign_idx in range(4, int((number_of_elements / 2) + 3)):\n",
    "\n",
    "        # Init pattern\n",
    "        pattern = []\n",
    "\n",
    "        # Append the first expression position elements (There can't be any operators or zeros in here)\n",
    "        pattern.append(['1', '2', '3', '4', '5', '6', '7', '8', '9'])\n",
    "\n",
    "        # Append the \"middle\" expression positions elements (All numbers and operators are valid)\n",
    "        for _ in range(equal_sign_idx + int(((number_of_elements - 8) / 2) - 2)):\n",
    "            pattern.append(['1', '2', '3', '4', '5', '6', '7', '8', '9', '0', '+', '-', '*', '/'])\n",
    "        \n",
    "        # Append the \"last\" expression position elements (No operators are allowed here)\n",
    "        pattern.append(['1', '2', '3', '4', '5', '6', '7', '8', '9', '0'])\n",
    "\n",
    "        # Append the \"=\" sign\n",
    "        pattern.append([\"=\"])\n",
    "\n",
    "        # Check how many elements are left for the result part of the equation\n",
    "        if equal_sign_idx < (number_of_elements / 2) + 2:\n",
    "\n",
    "            # Append the first result position elements (There can't be any zeros in here)\n",
    "            pattern.append(['1', '2', '3', '4', '5', '6', '7', '8', '9'])\n",
    "\n",
    "            # Append the \"middle\" and \"last\" result positions elements (All numbers are valid)\n",
    "            for _ in range(equal_sign_idx + 2, int((number_of_elements / 2) + 4)):\n",
    "                pattern.append(['1', '2', '3', '4', '5', '6', '7', '8', '9', '0'])\n",
    "        \n",
    "        # If there is only one element in the result, append all numbers to it\n",
    "        else:\n",
    "            pattern.append(['1', '2', '3', '4', '5', '6', '7', '8', '9', '0'])\n",
    "\n",
    "        # Append generated pattern to the patterns list\n",
    "        patterns.append(pattern)\n",
    "\n",
    "    # Return all gererated patterns\n",
    "    return patterns"
   ]
  },
  {
   "cell_type": "markdown",
   "metadata": {},
   "source": [
    "#### Generating and previewing the patterns"
   ]
  },
  {
   "cell_type": "code",
   "execution_count": 4,
   "metadata": {},
   "outputs": [
    {
     "name": "stdout",
     "output_type": "stream",
     "text": [
      "[['1', '2', '3', '4', '5', '6', '7', '8', '9'],\n",
      " ['1', '2', '3', '4', '5', '6', '7', '8', '9', '0', '+', '-', '*', '/'],\n",
      " ['1', '2', '3', '4', '5', '6', '7', '8', '9', '0'],\n",
      " ['='],\n",
      " ['1', '2', '3', '4', '5', '6', '7', '8', '9'],\n",
      " ['1', '2', '3', '4', '5', '6', '7', '8', '9', '0']]\n",
      "\n",
      "[['1', '2', '3', '4', '5', '6', '7', '8', '9'],\n",
      " ['1', '2', '3', '4', '5', '6', '7', '8', '9', '0', '+', '-', '*', '/'],\n",
      " ['1', '2', '3', '4', '5', '6', '7', '8', '9', '0', '+', '-', '*', '/'],\n",
      " ['1', '2', '3', '4', '5', '6', '7', '8', '9', '0'],\n",
      " ['='],\n",
      " ['1', '2', '3', '4', '5', '6', '7', '8', '9', '0']]\n",
      "\n"
     ]
    }
   ],
   "source": [
    "game_mode = \"MINI_NERDLE\"\n",
    "\n",
    "GAME_MODES[game_mode][\"patterns\"] = gen_patterns(game_mode)\n",
    "\n",
    "# Preview\n",
    "for pattern in GAME_MODES[game_mode][\"patterns\"]:\n",
    "    pprint(pattern)\n",
    "    print()"
   ]
  },
  {
   "cell_type": "code",
   "execution_count": 5,
   "metadata": {},
   "outputs": [
    {
     "name": "stdout",
     "output_type": "stream",
     "text": [
      "[['1', '2', '3', '4', '5', '6', '7', '8', '9'],\n",
      " ['1', '2', '3', '4', '5', '6', '7', '8', '9', '0', '+', '-', '*', '/'],\n",
      " ['1', '2', '3', '4', '5', '6', '7', '8', '9', '0', '+', '-', '*', '/'],\n",
      " ['1', '2', '3', '4', '5', '6', '7', '8', '9', '0'],\n",
      " ['='],\n",
      " ['1', '2', '3', '4', '5', '6', '7', '8', '9'],\n",
      " ['1', '2', '3', '4', '5', '6', '7', '8', '9', '0'],\n",
      " ['1', '2', '3', '4', '5', '6', '7', '8', '9', '0']]\n",
      "\n",
      "[['1', '2', '3', '4', '5', '6', '7', '8', '9'],\n",
      " ['1', '2', '3', '4', '5', '6', '7', '8', '9', '0', '+', '-', '*', '/'],\n",
      " ['1', '2', '3', '4', '5', '6', '7', '8', '9', '0', '+', '-', '*', '/'],\n",
      " ['1', '2', '3', '4', '5', '6', '7', '8', '9', '0', '+', '-', '*', '/'],\n",
      " ['1', '2', '3', '4', '5', '6', '7', '8', '9', '0'],\n",
      " ['='],\n",
      " ['1', '2', '3', '4', '5', '6', '7', '8', '9'],\n",
      " ['1', '2', '3', '4', '5', '6', '7', '8', '9', '0']]\n",
      "\n",
      "[['1', '2', '3', '4', '5', '6', '7', '8', '9'],\n",
      " ['1', '2', '3', '4', '5', '6', '7', '8', '9', '0', '+', '-', '*', '/'],\n",
      " ['1', '2', '3', '4', '5', '6', '7', '8', '9', '0', '+', '-', '*', '/'],\n",
      " ['1', '2', '3', '4', '5', '6', '7', '8', '9', '0', '+', '-', '*', '/'],\n",
      " ['1', '2', '3', '4', '5', '6', '7', '8', '9', '0', '+', '-', '*', '/'],\n",
      " ['1', '2', '3', '4', '5', '6', '7', '8', '9', '0'],\n",
      " ['='],\n",
      " ['1', '2', '3', '4', '5', '6', '7', '8', '9', '0']]\n",
      "\n"
     ]
    }
   ],
   "source": [
    "game_mode = \"NERDLE\"\n",
    "\n",
    "GAME_MODES[game_mode][\"patterns\"] = gen_patterns(game_mode)\n",
    "\n",
    "# Preview\n",
    "for pattern in GAME_MODES[game_mode][\"patterns\"]:\n",
    "    pprint(pattern)\n",
    "    print()"
   ]
  },
  {
   "cell_type": "markdown",
   "metadata": {},
   "source": [
    "## Function that validates and solves an expression"
   ]
  },
  {
   "cell_type": "code",
   "execution_count": 6,
   "metadata": {},
   "outputs": [],
   "source": [
    "def solve_expression(expression: str):\n",
    "    \n",
    "    ##################################################\n",
    "    # PRE VALIDATION\n",
    "    ##################################################\n",
    "    \n",
    "    # Discard consecutive operators, leading zeros and lone zeros\n",
    "    if re.findall(r\"[+,\\-,*,\\/]{2}|^0+|\\D0+\", expression):\n",
    "        return None\n",
    "\n",
    "    ##################################################\n",
    "    # JOINING NUMBERS\n",
    "    ##################################################\n",
    "\n",
    "    # Convert expression to a list\n",
    "    expression = list(expression)\n",
    "\n",
    "    # Init temporary string and index number\n",
    "    temp = \"\"\n",
    "    i = 0\n",
    "\n",
    "    # Loop through the expression\n",
    "    while i < len(expression):\n",
    "\n",
    "        # Check if the current element is a number\n",
    "        if expression[i].isnumeric():\n",
    "\n",
    "            # Add the number to the temporary string and pop it\n",
    "            temp += expression[i]\n",
    "            expression.pop(i)\n",
    "\n",
    "        # Insert temp into expression if it's not empty\n",
    "        else:\n",
    "            if temp != \"\":\n",
    "                expression.insert(i, temp)\n",
    "\n",
    "            # Reset temp and go to the next element\n",
    "            temp = \"\"\n",
    "            i += 1\n",
    "\n",
    "    # Append the last temp to the expression\n",
    "    expression.append(temp)\n",
    "\n",
    "    ##################################################\n",
    "    # JOINING NUMBERS TO OPERATORS\n",
    "    ##################################################\n",
    "\n",
    "    # Init index\n",
    "    i = 1\n",
    "\n",
    "    # Loop through the expression while there are \"+\" and/or \"-\" operators\n",
    "    while \"+\" in expression or \"-\" in expression:\n",
    "\n",
    "        # Check if previous element is a \"+\" or \"-\" operator\n",
    "        if expression[i - 1] in \"+-\":\n",
    "\n",
    "            # If so, join the operator to the current number element, and pop current element\n",
    "            expression[i - 1] += expression[i]\n",
    "            expression.pop(i)\n",
    "\n",
    "        # Go to next element\n",
    "        i += 1\n",
    "\n",
    "    ##################################################\n",
    "    # CONVERTING NUMBERS TO INTS\n",
    "    ##################################################\n",
    "\n",
    "    # Loop through the expression\n",
    "    for i in range(len(expression)):\n",
    "\n",
    "        # Try to convert the element to an integer\n",
    "        try:\n",
    "            expression[i] = int(expression[i])\n",
    "        except ValueError:\n",
    "            pass\n",
    "\n",
    "    ##################################################\n",
    "    # SOLVING MULTIPLICATIONS AND DIVISIONS\n",
    "    ##################################################\n",
    "\n",
    "    # Init index\n",
    "    i = 1\n",
    "\n",
    "    # Loop through the expression while there are \"/\" and/or \"*\" operators\n",
    "    while \"/\" in expression or \"*\" in expression:\n",
    "\n",
    "        # Check if current element is a division or multiplication operator\n",
    "        if expression[i] == \"/\" or expression[i] == \"*\":\n",
    "\n",
    "            # Perform the appropriate operation\n",
    "            if expression[i] == \"/\":\n",
    "                expression[i - 1] /= expression[i + 1]\n",
    "\n",
    "                # # Return None if the division results is not an integer\n",
    "                # if not expression[i - 1] % 1 == 0:\n",
    "                #     return None\n",
    "\n",
    "            else:\n",
    "                expression[i - 1] *= expression[i + 1]\n",
    "\n",
    "            # Remove the current element and the following element\n",
    "            for _ in range(2):\n",
    "                expression.pop(i)\n",
    "\n",
    "        # Go to next element\n",
    "        else:\n",
    "            i += 1\n",
    "\n",
    "    ##################################################\n",
    "    # SUMMING ALL ELEMENTS\n",
    "    ##################################################\n",
    "\n",
    "    # Return sum only if expression is not empty\n",
    "    if expression:\n",
    "        result = sum(expression)\n",
    "\n",
    "        if result % 1 == 0:\n",
    "            return int(result)"
   ]
  },
  {
   "cell_type": "markdown",
   "metadata": {},
   "source": [
    "Testing the expressions solver"
   ]
  },
  {
   "cell_type": "code",
   "execution_count": 7,
   "metadata": {},
   "outputs": [
    {
     "name": "stdout",
     "output_type": "stream",
     "text": [
      "All tests passed!\n"
     ]
    }
   ],
   "source": [
    "# Define test cases\n",
    "TEST_EQUATIONS = [\n",
    "    (\"-3+4/2\", -1),\n",
    "    (\"8+6-14\", 0),\n",
    "    (\"-10+10\", 0),\n",
    "    (\"-10+10\", 0),\n",
    "    (\"10-1-9\", 0),\n",
    "    (\"40/4/2\", 5),\n",
    "    (\"1+2+30\", 33),\n",
    "    (\"3+21/3\", 10),\n",
    "    (\"40/4+2\", 12),\n",
    "    (\"16+4*2\", 24),\n",
    "    (\"2/1*40\", 80),\n",
    "    (\"195-87\", 108),\n",
    "    (\"801/89\", 9),\n",
    "    # Divisions not resulting in integers\n",
    "    (\"8/10*5\", 4),\n",
    "    (\"8/12*9\", 6),\n",
    "    # Divisions by zero\n",
    "    (\"1+2/00\", None),\n",
    "    (\"2/0*10\", None),\n",
    "    # Lone zeros\n",
    "    (\"0+50/1\", None),\n",
    "    (\"50/1+0\", None),\n",
    "    (\"50-0+2\", None),\n",
    "    (\"4+00-3\", None),\n",
    "    # Leading zeros\n",
    "    (\"05-1+2\", None),\n",
    "    (\"9+04/2\", None),\n",
    "    (\"6/3+09\", None),\n",
    "]\n",
    "\n",
    "# Iterate over equations and check if they match the result\n",
    "for expression, output_expected in TEST_EQUATIONS:\n",
    "    output_solver = solve_expression(expression)\n",
    "\n",
    "    assert output_solver == output_expected, f\"{expression} should return {output_expected} not {output_solver}\"\n",
    "else:\n",
    "    print(\"All tests passed!\")"
   ]
  },
  {
   "cell_type": "markdown",
   "metadata": {},
   "source": [
    "## Function that validates a result"
   ]
  },
  {
   "cell_type": "code",
   "execution_count": 8,
   "metadata": {},
   "outputs": [],
   "source": [
    "def solve_result(result):\n",
    "\n",
    "    # Discard leading zeros\n",
    "    if re.findall(r\"^0+[1-9]\", result):\n",
    "        return None\n",
    "    \n",
    "    # Return the result as an integer\n",
    "    return int(result)"
   ]
  },
  {
   "cell_type": "markdown",
   "metadata": {},
   "source": [
    "Testing the results solver"
   ]
  },
  {
   "cell_type": "code",
   "execution_count": 9,
   "metadata": {},
   "outputs": [
    {
     "name": "stdout",
     "output_type": "stream",
     "text": [
      "All tests passed!\n"
     ]
    }
   ],
   "source": [
    "# Define test cases\n",
    "TEST_RESULTS = [\n",
    "    (\"0\", 0),\n",
    "    (\"9\", 9),\n",
    "    (\"10\", 10),\n",
    "    (\"78\", 78),\n",
    "    (\"234\", 234),\n",
    "    (\"908\", 908),\n",
    "    (\"500\", 500),\n",
    "    # Leading zeros\n",
    "    (\"05\", None),\n",
    "    (\"006\", None),\n",
    "    (\"035\", None),\n",
    "]\n",
    "\n",
    "# Iterate over results and check if they match the result\n",
    "for result, output_expected in TEST_RESULTS:\n",
    "    output_validator = solve_result(result)\n",
    "\n",
    "    assert output_validator == output_expected, f\"{result} should return {output_expected} not {output_validator}\"\n",
    "else:\n",
    "    print(\"All tests passed!\")"
   ]
  },
  {
   "cell_type": "markdown",
   "metadata": {},
   "source": [
    "## Function that generates all possible equations based on passed patterns"
   ]
  },
  {
   "cell_type": "code",
   "execution_count": 10,
   "metadata": {},
   "outputs": [],
   "source": [
    "def gen_equations(game_mode: str):\n",
    "\n",
    "    # Extracting variables\n",
    "    patterns = GAME_MODES[game_mode][\"patterns\"]\n",
    "\n",
    "    # Define variables\n",
    "    output_filepath = f\"./data/0.raw/{FILENAME_PREFIX}_{game_mode.lower()}.csv\"\n",
    "    total_expressions_counter = 0\n",
    "    valid_expressions_counter = 0\n",
    "    \n",
    "    # Init output file\n",
    "    with open(output_filepath, \"w\", newline=\"\") as f:\n",
    "        writer = csv.writer(f)\n",
    "        writer.writerow(CSV_HEADER)\n",
    "\n",
    "    # Iterate over all patterns\n",
    "    for i, pattern in enumerate(patterns):\n",
    "\n",
    "        # Calculate total number of candidate equations for a given pattern\n",
    "        candidates_count = 1\n",
    "        for subpattern in pattern:\n",
    "            candidates_count *= len(subpattern)\n",
    "\n",
    "        # Create all combinations of elements for each position of the equations pattern\n",
    "        equations = itertools.product(*pattern)\n",
    "\n",
    "        for equation in tqdm(equations, total=candidates_count, desc=f\"pattern {i}\\t\"):\n",
    "\n",
    "            # Convert equation into a single string\n",
    "            equation = \"\".join(equation)\n",
    "\n",
    "            # Split the equation into expression and result\n",
    "            expression, result = equation.split(\"=\")\n",
    "\n",
    "            # Solve and validate both the expression and result \n",
    "            solved_result = solve_expression(expression)\n",
    "            generated_result = solve_result(result)\n",
    "\n",
    "            # Check if equation is valid and\n",
    "            if solved_result is not None and generated_result is not None and solved_result == generated_result:\n",
    "\n",
    "                # Append equation to the output file\n",
    "                with open(output_filepath, \"a\", newline=\"\") as f:\n",
    "                    writer = csv.writer(f)\n",
    "                    writer.writerow([equation])\n",
    "\n",
    "                # Increment valid expressions counter\n",
    "                valid_expressions_counter += 1\n",
    "            \n",
    "            total_expressions_counter += 1\n",
    "\n",
    "    # Print the valid number of expressions generated\n",
    "    print(f\"{valid_expressions_counter:,} valid expressions generated out of {total_expressions_counter:,} total expressions - ({valid_expressions_counter / total_expressions_counter * 100:.3f}%)\")"
   ]
  },
  {
   "cell_type": "markdown",
   "metadata": {},
   "source": [
    "#### Generating all possible candidate equations that follow the specified patterns"
   ]
  },
  {
   "cell_type": "code",
   "execution_count": 11,
   "metadata": {},
   "outputs": [
    {
     "name": "stderr",
     "output_type": "stream",
     "text": [
      "pattern 0\t: 100%|██████████| 113400/113400 [00:00<00:00, 155324.45it/s]\n",
      "pattern 1\t: 100%|██████████| 176400/176400 [00:01<00:00, 165381.85it/s]"
     ]
    },
    {
     "name": "stdout",
     "output_type": "stream",
     "text": [
      "206 valid expressions generated out of 289,800 total expressions - (0.071%)\n"
     ]
    },
    {
     "name": "stderr",
     "output_type": "stream",
     "text": [
      "\n"
     ]
    }
   ],
   "source": [
    "gen_equations(game_mode=\"MINI_NERDLE\")"
   ]
  },
  {
   "cell_type": "code",
   "execution_count": 12,
   "metadata": {},
   "outputs": [
    {
     "name": "stderr",
     "output_type": "stream",
     "text": [
      "pattern 0\t: 100%|██████████| 15876000/15876000 [01:30<00:00, 174988.22it/s]\n",
      "pattern 1\t: 100%|██████████| 22226400/22226400 [02:30<00:00, 147332.46it/s]\n",
      "pattern 2\t: 100%|██████████| 34574400/34574400 [03:58<00:00, 144930.51it/s]"
     ]
    },
    {
     "name": "stdout",
     "output_type": "stream",
     "text": [
      "17,723 valid expressions generated out of 72,676,800 total expressions - (0.024%)\n"
     ]
    },
    {
     "name": "stderr",
     "output_type": "stream",
     "text": [
      "\n"
     ]
    }
   ],
   "source": [
    "gen_equations(game_mode=\"NERDLE\")"
   ]
  }
 ],
 "metadata": {
  "interpreter": {
   "hash": "b6ad0efbc641c81ac21c15b4975d195053858c6b3f4303ce856373acedba6b5b"
  },
  "kernelspec": {
   "display_name": "Python 3.9.12 64-bit (windows store)",
   "language": "python",
   "name": "python3"
  },
  "language_info": {
   "codemirror_mode": {
    "name": "ipython",
    "version": 3
   },
   "file_extension": ".py",
   "mimetype": "text/x-python",
   "name": "python",
   "nbconvert_exporter": "python",
   "pygments_lexer": "ipython3",
   "version": "3.10.4"
  },
  "orig_nbformat": 4
 },
 "nbformat": 4,
 "nbformat_minor": 2
}
